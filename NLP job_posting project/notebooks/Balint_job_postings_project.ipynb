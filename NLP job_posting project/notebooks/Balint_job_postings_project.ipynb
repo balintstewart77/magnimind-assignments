{
 "cells": [
  {
   "cell_type": "code",
   "execution_count": 24,
   "id": "949c8334",
   "metadata": {},
   "outputs": [],
   "source": [
    "#import libraries\n",
    "import os\n",
    "import pandas as pd\n",
    "import numpy as np\n",
    "import matplotlib.pyplot as plt\n",
    "import seaborn as sns\n",
    "\n",
    "from bs4 import BeautifulSoup"
   ]
  },
  {
   "cell_type": "code",
   "execution_count": 25,
   "id": "e2dbd0f6",
   "metadata": {},
   "outputs": [],
   "source": [
    "data = []\n",
    "folder = r\"C:\\Users\\balin\\Desktop\\magnimind-assignments\\NLP job_posting project\\data\\job_postings\"\n",
    "\n",
    "for filename in os.listdir(folder):\n",
    "    if filename.endswith('.html'):\n",
    "        full_path = os.path.join(folder, filename)\n",
    "        with open(full_path, 'r', encoding='utf-8') as f:\n",
    "            soup = BeautifulSoup(f, 'lxml')\n",
    "            title = soup.title.text if soup.title else 'No Title'\n",
    "            body = soup.body.get_text(separator='\\n', strip=True)\n",
    "            data.append({'filename': filename, 'title': title, 'body': body})\n",
    "\n",
    "# Create a DataFrame from the list of dictionaries\n",
    "df = pd.DataFrame(data)\n"
   ]
  },
  {
   "cell_type": "code",
   "execution_count": 33,
   "id": "a9c48bc9",
   "metadata": {},
   "outputs": [
    {
     "data": {
      "text/plain": [
       "(1458, 3)"
      ]
     },
     "execution_count": 33,
     "metadata": {},
     "output_type": "execute_result"
    }
   ],
   "source": [
    "df.shape"
   ]
  },
  {
   "cell_type": "code",
   "execution_count": 34,
   "id": "5aab7e37",
   "metadata": {},
   "outputs": [
    {
     "data": {
      "text/html": [
       "<div>\n",
       "<style scoped>\n",
       "    .dataframe tbody tr th:only-of-type {\n",
       "        vertical-align: middle;\n",
       "    }\n",
       "\n",
       "    .dataframe tbody tr th {\n",
       "        vertical-align: top;\n",
       "    }\n",
       "\n",
       "    .dataframe thead th {\n",
       "        text-align: right;\n",
       "    }\n",
       "</style>\n",
       "<table border=\"1\" class=\"dataframe\">\n",
       "  <thead>\n",
       "    <tr style=\"text-align: right;\">\n",
       "      <th></th>\n",
       "      <th>body</th>\n",
       "      <th>job_title</th>\n",
       "      <th>location</th>\n",
       "    </tr>\n",
       "  </thead>\n",
       "  <tbody>\n",
       "    <tr>\n",
       "      <th>0</th>\n",
       "      <td>Data Scientist - Beavercreek, OH\\nData Scienti...</td>\n",
       "      <td>Data Scientist</td>\n",
       "      <td>Beavercreek, OH</td>\n",
       "    </tr>\n",
       "    <tr>\n",
       "      <th>1</th>\n",
       "      <td>Data Scientist - Seattle, WA 98101\\nAre you in...</td>\n",
       "      <td>Data Scientist</td>\n",
       "      <td>Seattle, WA 98101</td>\n",
       "    </tr>\n",
       "    <tr>\n",
       "      <th>2</th>\n",
       "      <td>Data Scientist - Newark, CA\\nData Scientist\\nN...</td>\n",
       "      <td>Data Scientist</td>\n",
       "      <td>Newark, CA</td>\n",
       "    </tr>\n",
       "    <tr>\n",
       "      <th>3</th>\n",
       "      <td>Patient Care Assistant / PCA - Med/Surg (Fayet...</td>\n",
       "      <td>Patient Care Assistant / PCA</td>\n",
       "      <td>Med/Surg (Fayette, AL) - Fayette, AL</td>\n",
       "    </tr>\n",
       "    <tr>\n",
       "      <th>4</th>\n",
       "      <td>Data Manager / Analyst - Oakland, CA\\nHOW YOU ...</td>\n",
       "      <td>Data Manager / Analyst</td>\n",
       "      <td>Oakland, CA</td>\n",
       "    </tr>\n",
       "  </tbody>\n",
       "</table>\n",
       "</div>"
      ],
      "text/plain": [
       "                                                body  \\\n",
       "0  Data Scientist - Beavercreek, OH\\nData Scienti...   \n",
       "1  Data Scientist - Seattle, WA 98101\\nAre you in...   \n",
       "2  Data Scientist - Newark, CA\\nData Scientist\\nN...   \n",
       "3  Patient Care Assistant / PCA - Med/Surg (Fayet...   \n",
       "4  Data Manager / Analyst - Oakland, CA\\nHOW YOU ...   \n",
       "\n",
       "                      job_title                              location  \n",
       "0                Data Scientist                       Beavercreek, OH  \n",
       "1                Data Scientist                     Seattle, WA 98101  \n",
       "2                Data Scientist                            Newark, CA  \n",
       "3  Patient Care Assistant / PCA  Med/Surg (Fayette, AL) - Fayette, AL  \n",
       "4        Data Manager / Analyst                           Oakland, CA  "
      ]
     },
     "execution_count": 34,
     "metadata": {},
     "output_type": "execute_result"
    }
   ],
   "source": [
    "df.head()"
   ]
  },
  {
   "cell_type": "markdown",
   "id": "aaff0091",
   "metadata": {},
   "source": [
    "# Clean the data"
   ]
  },
  {
   "cell_type": "code",
   "execution_count": 28,
   "id": "d126c651",
   "metadata": {},
   "outputs": [],
   "source": [
    "# title column contains job title and location, split these into two separate columns\n",
    "df[['job_title', 'location']] = df['title'].str.split(' - ', n=1, expand=True)\n",
    "\n",
    "# Drop the original 'title' column\n",
    "df.drop(columns=['title','filename'], inplace=True)"
   ]
  },
  {
   "cell_type": "code",
   "execution_count": 29,
   "id": "7ff1baad",
   "metadata": {},
   "outputs": [
    {
     "data": {
      "text/html": [
       "<div>\n",
       "<style scoped>\n",
       "    .dataframe tbody tr th:only-of-type {\n",
       "        vertical-align: middle;\n",
       "    }\n",
       "\n",
       "    .dataframe tbody tr th {\n",
       "        vertical-align: top;\n",
       "    }\n",
       "\n",
       "    .dataframe thead th {\n",
       "        text-align: right;\n",
       "    }\n",
       "</style>\n",
       "<table border=\"1\" class=\"dataframe\">\n",
       "  <thead>\n",
       "    <tr style=\"text-align: right;\">\n",
       "      <th></th>\n",
       "      <th>body</th>\n",
       "      <th>job_title</th>\n",
       "      <th>location</th>\n",
       "    </tr>\n",
       "  </thead>\n",
       "  <tbody>\n",
       "    <tr>\n",
       "      <th>0</th>\n",
       "      <td>Data Scientist - Beavercreek, OH\\nData Scienti...</td>\n",
       "      <td>Data Scientist</td>\n",
       "      <td>Beavercreek, OH</td>\n",
       "    </tr>\n",
       "    <tr>\n",
       "      <th>1</th>\n",
       "      <td>Data Scientist - Seattle, WA 98101\\nAre you in...</td>\n",
       "      <td>Data Scientist</td>\n",
       "      <td>Seattle, WA 98101</td>\n",
       "    </tr>\n",
       "    <tr>\n",
       "      <th>2</th>\n",
       "      <td>Data Scientist - Newark, CA\\nData Scientist\\nN...</td>\n",
       "      <td>Data Scientist</td>\n",
       "      <td>Newark, CA</td>\n",
       "    </tr>\n",
       "    <tr>\n",
       "      <th>3</th>\n",
       "      <td>Patient Care Assistant / PCA - Med/Surg (Fayet...</td>\n",
       "      <td>Patient Care Assistant / PCA</td>\n",
       "      <td>Med/Surg (Fayette, AL) - Fayette, AL</td>\n",
       "    </tr>\n",
       "    <tr>\n",
       "      <th>4</th>\n",
       "      <td>Data Manager / Analyst - Oakland, CA\\nHOW YOU ...</td>\n",
       "      <td>Data Manager / Analyst</td>\n",
       "      <td>Oakland, CA</td>\n",
       "    </tr>\n",
       "  </tbody>\n",
       "</table>\n",
       "</div>"
      ],
      "text/plain": [
       "                                                body  \\\n",
       "0  Data Scientist - Beavercreek, OH\\nData Scienti...   \n",
       "1  Data Scientist - Seattle, WA 98101\\nAre you in...   \n",
       "2  Data Scientist - Newark, CA\\nData Scientist\\nN...   \n",
       "3  Patient Care Assistant / PCA - Med/Surg (Fayet...   \n",
       "4  Data Manager / Analyst - Oakland, CA\\nHOW YOU ...   \n",
       "\n",
       "                      job_title                              location  \n",
       "0                Data Scientist                       Beavercreek, OH  \n",
       "1                Data Scientist                     Seattle, WA 98101  \n",
       "2                Data Scientist                            Newark, CA  \n",
       "3  Patient Care Assistant / PCA  Med/Surg (Fayette, AL) - Fayette, AL  \n",
       "4        Data Manager / Analyst                           Oakland, CA  "
      ]
     },
     "execution_count": 29,
     "metadata": {},
     "output_type": "execute_result"
    }
   ],
   "source": [
    "df.head()"
   ]
  },
  {
   "cell_type": "code",
   "execution_count": 32,
   "id": "9ea4d04a",
   "metadata": {},
   "outputs": [
    {
     "data": {
      "text/html": [
       "<div>\n",
       "<style scoped>\n",
       "    .dataframe tbody tr th:only-of-type {\n",
       "        vertical-align: middle;\n",
       "    }\n",
       "\n",
       "    .dataframe tbody tr th {\n",
       "        vertical-align: top;\n",
       "    }\n",
       "\n",
       "    .dataframe thead th {\n",
       "        text-align: right;\n",
       "    }\n",
       "</style>\n",
       "<table border=\"1\" class=\"dataframe\">\n",
       "  <thead>\n",
       "    <tr style=\"text-align: right;\">\n",
       "      <th></th>\n",
       "      <th>body</th>\n",
       "      <th>job_title</th>\n",
       "      <th>location</th>\n",
       "    </tr>\n",
       "  </thead>\n",
       "  <tbody>\n",
       "    <tr>\n",
       "      <th>count</th>\n",
       "      <td>1458</td>\n",
       "      <td>1458</td>\n",
       "      <td>1458</td>\n",
       "    </tr>\n",
       "    <tr>\n",
       "      <th>unique</th>\n",
       "      <td>1457</td>\n",
       "      <td>1005</td>\n",
       "      <td>772</td>\n",
       "    </tr>\n",
       "    <tr>\n",
       "      <th>top</th>\n",
       "      <td>Physics Data Scientist - Foothill Ranch, CA\\nT...</td>\n",
       "      <td>Data Scientist</td>\n",
       "      <td>San Francisco, CA</td>\n",
       "    </tr>\n",
       "    <tr>\n",
       "      <th>freq</th>\n",
       "      <td>2</td>\n",
       "      <td>182</td>\n",
       "      <td>89</td>\n",
       "    </tr>\n",
       "  </tbody>\n",
       "</table>\n",
       "</div>"
      ],
      "text/plain": [
       "                                                     body       job_title  \\\n",
       "count                                                1458            1458   \n",
       "unique                                               1457            1005   \n",
       "top     Physics Data Scientist - Foothill Ranch, CA\\nT...  Data Scientist   \n",
       "freq                                                    2             182   \n",
       "\n",
       "                 location  \n",
       "count                1458  \n",
       "unique                772  \n",
       "top     San Francisco, CA  \n",
       "freq                   89  "
      ]
     },
     "execution_count": 32,
     "metadata": {},
     "output_type": "execute_result"
    }
   ],
   "source": [
    "df.describe()"
   ]
  }
 ],
 "metadata": {
  "kernelspec": {
   "display_name": "Python 3",
   "language": "python",
   "name": "python3"
  },
  "language_info": {
   "codemirror_mode": {
    "name": "ipython",
    "version": 3
   },
   "file_extension": ".py",
   "mimetype": "text/x-python",
   "name": "python",
   "nbconvert_exporter": "python",
   "pygments_lexer": "ipython3",
   "version": "3.13.2"
  }
 },
 "nbformat": 4,
 "nbformat_minor": 5
}
