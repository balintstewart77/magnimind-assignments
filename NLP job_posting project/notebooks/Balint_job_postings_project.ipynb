{
 "cells": [
  {
   "cell_type": "markdown",
   "id": "3960e775",
   "metadata": {},
   "source": [
    "Parse all text from the downloaded HTML files.\n",
    "2.      Explore the parsed output to learn how job skills are described in online postings. We’ll pay particular attention to whether certain HTML tags are more associated with skill descriptions.\n",
    "3.      Attempt to filter any irrelevant job postings from the dataset.\n",
    "4.      Cluster job skills based on text similarity.\n",
    "5.      Visualize the clusters using word clouds.\n",
    "6.      Adjust clustering parameters, if necessary, to improve the visualized output.\n",
    "7.      Compare the clustered skills to our resume(*) to uncover missing skills."
   ]
  },
  {
   "cell_type": "code",
   "execution_count": 268,
   "id": "949c8334",
   "metadata": {},
   "outputs": [],
   "source": [
    "#import libraries\n",
    "import os\n",
    "import pandas as pd\n",
    "import numpy as np\n",
    "import matplotlib.pyplot as plt\n",
    "import seaborn as sns\n",
    "\n",
    "from bs4 import BeautifulSoup"
   ]
  },
  {
   "cell_type": "markdown",
   "id": "343a28cd",
   "metadata": {},
   "source": [
    "# Import and parse the .html files\n",
    "Keep the body both with and without the html tags"
   ]
  },
  {
   "cell_type": "code",
   "execution_count": 269,
   "id": "e2dbd0f6",
   "metadata": {},
   "outputs": [],
   "source": [
    "data = []\n",
    "folder = r\"C:\\Users\\balin\\Desktop\\magnimind-assignments\\NLP job_posting project\\data\\job_postings\"\n",
    "\n",
    "for filename in os.listdir(folder):\n",
    "    if filename.endswith('.html'):\n",
    "        full_path = os.path.join(folder, filename)\n",
    "        with open(full_path, 'r', encoding='utf-8') as f:\n",
    "            soup = BeautifulSoup(f, 'lxml')\n",
    "            title = soup.title.text if soup.title else 'No Title'\n",
    "           \n",
    "            body_text = soup.body.get_text(separator='\\n', strip=True) if soup.body else ''\n",
    "            body_html = soup.body.prettify() if soup.body else ''\n",
    "            \n",
    "            data.append({'filename': filename, 'title': title, 'body_text': body_text, 'body_html': body_html})\n",
    "\n",
    "# Create a DataFrame from the list of dictionaries\n",
    "df = pd.DataFrame(data)\n"
   ]
  },
  {
   "cell_type": "markdown",
   "id": "a6dd866f",
   "metadata": {},
   "source": [
    "# Some basic dataset exploration"
   ]
  },
  {
   "cell_type": "code",
   "execution_count": 270,
   "id": "6cdeae0c",
   "metadata": {},
   "outputs": [
    {
     "data": {
      "text/html": [
       "<div>\n",
       "<style scoped>\n",
       "    .dataframe tbody tr th:only-of-type {\n",
       "        vertical-align: middle;\n",
       "    }\n",
       "\n",
       "    .dataframe tbody tr th {\n",
       "        vertical-align: top;\n",
       "    }\n",
       "\n",
       "    .dataframe thead th {\n",
       "        text-align: right;\n",
       "    }\n",
       "</style>\n",
       "<table border=\"1\" class=\"dataframe\">\n",
       "  <thead>\n",
       "    <tr style=\"text-align: right;\">\n",
       "      <th></th>\n",
       "      <th>filename</th>\n",
       "      <th>title</th>\n",
       "      <th>body_text</th>\n",
       "      <th>body_html</th>\n",
       "    </tr>\n",
       "  </thead>\n",
       "  <tbody>\n",
       "  </tbody>\n",
       "</table>\n",
       "</div>"
      ],
      "text/plain": [
       "Empty DataFrame\n",
       "Columns: [filename, title, body_text, body_html]\n",
       "Index: []"
      ]
     },
     "execution_count": 270,
     "metadata": {},
     "output_type": "execute_result"
    }
   ],
   "source": [
    "# Check for any nulls in the title\n",
    "df[df['title'] == 'No Title']"
   ]
  },
  {
   "cell_type": "code",
   "execution_count": 271,
   "id": "963cd939",
   "metadata": {},
   "outputs": [
    {
     "name": "stdout",
     "output_type": "stream",
     "text": [
      "Index(['filename', 'title', 'body_text', 'body_html'], dtype='object')\n"
     ]
    }
   ],
   "source": [
    "print(df.columns)"
   ]
  },
  {
   "cell_type": "code",
   "execution_count": 272,
   "id": "a9c48bc9",
   "metadata": {},
   "outputs": [
    {
     "data": {
      "text/plain": [
       "(1458, 4)"
      ]
     },
     "execution_count": 272,
     "metadata": {},
     "output_type": "execute_result"
    }
   ],
   "source": [
    "df.shape"
   ]
  },
  {
   "cell_type": "code",
   "execution_count": 273,
   "id": "5aab7e37",
   "metadata": {},
   "outputs": [
    {
     "data": {
      "text/html": [
       "<div>\n",
       "<style scoped>\n",
       "    .dataframe tbody tr th:only-of-type {\n",
       "        vertical-align: middle;\n",
       "    }\n",
       "\n",
       "    .dataframe tbody tr th {\n",
       "        vertical-align: top;\n",
       "    }\n",
       "\n",
       "    .dataframe thead th {\n",
       "        text-align: right;\n",
       "    }\n",
       "</style>\n",
       "<table border=\"1\" class=\"dataframe\">\n",
       "  <thead>\n",
       "    <tr style=\"text-align: right;\">\n",
       "      <th></th>\n",
       "      <th>filename</th>\n",
       "      <th>title</th>\n",
       "      <th>body_text</th>\n",
       "      <th>body_html</th>\n",
       "    </tr>\n",
       "  </thead>\n",
       "  <tbody>\n",
       "    <tr>\n",
       "      <th>0</th>\n",
       "      <td>001b92395ed0fb62.html</td>\n",
       "      <td>Data Scientist - Beavercreek, OH</td>\n",
       "      <td>Data Scientist - Beavercreek, OH\\nData Scienti...</td>\n",
       "      <td>&lt;body&gt;\\n &lt;h2&gt;\\n  Data Scientist - Beavercreek,...</td>\n",
       "    </tr>\n",
       "    <tr>\n",
       "      <th>1</th>\n",
       "      <td>00321a48d04fe754.html</td>\n",
       "      <td>Data Scientist - Seattle, WA 98101</td>\n",
       "      <td>Data Scientist - Seattle, WA 98101\\nAre you in...</td>\n",
       "      <td>&lt;body&gt;\\n &lt;h2&gt;\\n  Data Scientist - Seattle, WA ...</td>\n",
       "    </tr>\n",
       "    <tr>\n",
       "      <th>2</th>\n",
       "      <td>0079c11b2611349f.html</td>\n",
       "      <td>Data Scientist - Newark, CA</td>\n",
       "      <td>Data Scientist - Newark, CA\\nData Scientist\\nN...</td>\n",
       "      <td>&lt;body&gt;\\n &lt;h2&gt;\\n  Data Scientist - Newark, CA\\n...</td>\n",
       "    </tr>\n",
       "    <tr>\n",
       "      <th>3</th>\n",
       "      <td>007d9d7b5c09d820.html</td>\n",
       "      <td>Patient Care Assistant / PCA - Med/Surg (Fayet...</td>\n",
       "      <td>Patient Care Assistant / PCA - Med/Surg (Fayet...</td>\n",
       "      <td>&lt;body&gt;\\n &lt;h2&gt;\\n  Patient Care Assistant / PCA ...</td>\n",
       "    </tr>\n",
       "    <tr>\n",
       "      <th>4</th>\n",
       "      <td>00bf37ae19c7dfd7.html</td>\n",
       "      <td>Data Manager / Analyst - Oakland, CA</td>\n",
       "      <td>Data Manager / Analyst - Oakland, CA\\nHOW YOU ...</td>\n",
       "      <td>&lt;body&gt;\\n &lt;h2&gt;\\n  Data Manager / Analyst - Oakl...</td>\n",
       "    </tr>\n",
       "    <tr>\n",
       "      <th>5</th>\n",
       "      <td>0125eabc844281c9.html</td>\n",
       "      <td>Scientific Programmer - Berkeley, CA</td>\n",
       "      <td>Scientific Programmer - Berkeley, CA\\nCaribou ...</td>\n",
       "      <td>&lt;body&gt;\\n &lt;h2&gt;\\n  Scientific Programmer - Berke...</td>\n",
       "    </tr>\n",
       "    <tr>\n",
       "      <th>6</th>\n",
       "      <td>014ae4dbded805d2.html</td>\n",
       "      <td>JD Digits - AI Lab Research Intern - Mountain ...</td>\n",
       "      <td>JD Digits - AI Lab Research Intern - Mountain ...</td>\n",
       "      <td>&lt;body&gt;\\n &lt;h2&gt;\\n  JD Digits - AI Lab Research I...</td>\n",
       "    </tr>\n",
       "    <tr>\n",
       "      <th>7</th>\n",
       "      <td>014ea972a4aa9812.html</td>\n",
       "      <td>Operations and Technology Summer 2020 Internsh...</td>\n",
       "      <td>Operations and Technology Summer 2020 Internsh...</td>\n",
       "      <td>&lt;body&gt;\\n &lt;h2&gt;\\n  Operations and Technology Sum...</td>\n",
       "    </tr>\n",
       "    <tr>\n",
       "      <th>8</th>\n",
       "      <td>0179ea131f141400.html</td>\n",
       "      <td>PwC Labs - Jr. Data Scientist - Machine Learni...</td>\n",
       "      <td>PwC Labs - Jr. Data Scientist - Machine Learni...</td>\n",
       "      <td>&lt;body&gt;\\n &lt;h2&gt;\\n  PwC Labs - Jr. Data Scientist...</td>\n",
       "    </tr>\n",
       "    <tr>\n",
       "      <th>9</th>\n",
       "      <td>018866568cd5a0b0.html</td>\n",
       "      <td>Data and Reporting Analyst - Olympia, WA 98501</td>\n",
       "      <td>Data and Reporting Analyst - Olympia, WA 98501...</td>\n",
       "      <td>&lt;body&gt;\\n &lt;h2&gt;\\n  Data and Reporting Analyst - ...</td>\n",
       "    </tr>\n",
       "  </tbody>\n",
       "</table>\n",
       "</div>"
      ],
      "text/plain": [
       "                filename                                              title  \\\n",
       "0  001b92395ed0fb62.html                   Data Scientist - Beavercreek, OH   \n",
       "1  00321a48d04fe754.html                 Data Scientist - Seattle, WA 98101   \n",
       "2  0079c11b2611349f.html                        Data Scientist - Newark, CA   \n",
       "3  007d9d7b5c09d820.html  Patient Care Assistant / PCA - Med/Surg (Fayet...   \n",
       "4  00bf37ae19c7dfd7.html               Data Manager / Analyst - Oakland, CA   \n",
       "5  0125eabc844281c9.html               Scientific Programmer - Berkeley, CA   \n",
       "6  014ae4dbded805d2.html  JD Digits - AI Lab Research Intern - Mountain ...   \n",
       "7  014ea972a4aa9812.html  Operations and Technology Summer 2020 Internsh...   \n",
       "8  0179ea131f141400.html  PwC Labs - Jr. Data Scientist - Machine Learni...   \n",
       "9  018866568cd5a0b0.html     Data and Reporting Analyst - Olympia, WA 98501   \n",
       "\n",
       "                                           body_text  \\\n",
       "0  Data Scientist - Beavercreek, OH\\nData Scienti...   \n",
       "1  Data Scientist - Seattle, WA 98101\\nAre you in...   \n",
       "2  Data Scientist - Newark, CA\\nData Scientist\\nN...   \n",
       "3  Patient Care Assistant / PCA - Med/Surg (Fayet...   \n",
       "4  Data Manager / Analyst - Oakland, CA\\nHOW YOU ...   \n",
       "5  Scientific Programmer - Berkeley, CA\\nCaribou ...   \n",
       "6  JD Digits - AI Lab Research Intern - Mountain ...   \n",
       "7  Operations and Technology Summer 2020 Internsh...   \n",
       "8  PwC Labs - Jr. Data Scientist - Machine Learni...   \n",
       "9  Data and Reporting Analyst - Olympia, WA 98501...   \n",
       "\n",
       "                                           body_html  \n",
       "0  <body>\\n <h2>\\n  Data Scientist - Beavercreek,...  \n",
       "1  <body>\\n <h2>\\n  Data Scientist - Seattle, WA ...  \n",
       "2  <body>\\n <h2>\\n  Data Scientist - Newark, CA\\n...  \n",
       "3  <body>\\n <h2>\\n  Patient Care Assistant / PCA ...  \n",
       "4  <body>\\n <h2>\\n  Data Manager / Analyst - Oakl...  \n",
       "5  <body>\\n <h2>\\n  Scientific Programmer - Berke...  \n",
       "6  <body>\\n <h2>\\n  JD Digits - AI Lab Research I...  \n",
       "7  <body>\\n <h2>\\n  Operations and Technology Sum...  \n",
       "8  <body>\\n <h2>\\n  PwC Labs - Jr. Data Scientist...  \n",
       "9  <body>\\n <h2>\\n  Data and Reporting Analyst - ...  "
      ]
     },
     "execution_count": 273,
     "metadata": {},
     "output_type": "execute_result"
    }
   ],
   "source": [
    "df.head(10)"
   ]
  },
  {
   "cell_type": "code",
   "execution_count": 274,
   "id": "6fcdd905",
   "metadata": {},
   "outputs": [
    {
     "data": {
      "text/html": [
       "<div>\n",
       "<style scoped>\n",
       "    .dataframe tbody tr th:only-of-type {\n",
       "        vertical-align: middle;\n",
       "    }\n",
       "\n",
       "    .dataframe tbody tr th {\n",
       "        vertical-align: top;\n",
       "    }\n",
       "\n",
       "    .dataframe thead th {\n",
       "        text-align: right;\n",
       "    }\n",
       "</style>\n",
       "<table border=\"1\" class=\"dataframe\">\n",
       "  <thead>\n",
       "    <tr style=\"text-align: right;\">\n",
       "      <th></th>\n",
       "      <th>filename</th>\n",
       "      <th>title</th>\n",
       "      <th>body_text</th>\n",
       "      <th>body_html</th>\n",
       "    </tr>\n",
       "  </thead>\n",
       "  <tbody>\n",
       "    <tr>\n",
       "      <th>count</th>\n",
       "      <td>1458</td>\n",
       "      <td>1458</td>\n",
       "      <td>1458</td>\n",
       "      <td>1458</td>\n",
       "    </tr>\n",
       "    <tr>\n",
       "      <th>unique</th>\n",
       "      <td>1458</td>\n",
       "      <td>1364</td>\n",
       "      <td>1457</td>\n",
       "      <td>1457</td>\n",
       "    </tr>\n",
       "    <tr>\n",
       "      <th>top</th>\n",
       "      <td>_p.html</td>\n",
       "      <td>Data Scientist - New York, NY</td>\n",
       "      <td>Physics Data Scientist - Foothill Ranch, CA\\nT...</td>\n",
       "      <td>&lt;body&gt;\\n &lt;h2&gt;\\n  Physics Data Scientist - Foot...</td>\n",
       "    </tr>\n",
       "    <tr>\n",
       "      <th>freq</th>\n",
       "      <td>1</td>\n",
       "      <td>13</td>\n",
       "      <td>2</td>\n",
       "      <td>2</td>\n",
       "    </tr>\n",
       "  </tbody>\n",
       "</table>\n",
       "</div>"
      ],
      "text/plain": [
       "       filename                          title  \\\n",
       "count      1458                           1458   \n",
       "unique     1458                           1364   \n",
       "top     _p.html  Data Scientist - New York, NY   \n",
       "freq          1                             13   \n",
       "\n",
       "                                                body_text  \\\n",
       "count                                                1458   \n",
       "unique                                               1457   \n",
       "top     Physics Data Scientist - Foothill Ranch, CA\\nT...   \n",
       "freq                                                    2   \n",
       "\n",
       "                                                body_html  \n",
       "count                                                1458  \n",
       "unique                                               1457  \n",
       "top     <body>\\n <h2>\\n  Physics Data Scientist - Foot...  \n",
       "freq                                                    2  "
      ]
     },
     "execution_count": 274,
     "metadata": {},
     "output_type": "execute_result"
    }
   ],
   "source": [
    "df.describe()\n"
   ]
  },
  {
   "cell_type": "code",
   "execution_count": 275,
   "id": "2f65ff5f",
   "metadata": {},
   "outputs": [
    {
     "data": {
      "text/plain": [
       "count     1458.000000\n",
       "mean      4222.222222\n",
       "std       2052.157912\n",
       "min         30.000000\n",
       "25%       2904.250000\n",
       "50%       3878.000000\n",
       "75%       5042.000000\n",
       "max      19040.000000\n",
       "Name: body_text_length, dtype: float64"
      ]
     },
     "execution_count": 275,
     "metadata": {},
     "output_type": "execute_result"
    }
   ],
   "source": [
    "# get simple statistics about length of body_text\n",
    "df['body_text_length'] = df['body_text'].apply(len)\n",
    "df['body_text_length'].describe()\n"
   ]
  },
  {
   "cell_type": "code",
   "execution_count": 276,
   "id": "1bb71a23",
   "metadata": {},
   "outputs": [
    {
     "data": {
      "image/png": "[encoded data removed]",
      "text/plain": [
       "<Figure size 1200x600 with 1 Axes>"
      ]
     },
     "metadata": {},
     "output_type": "display_data"
    }
   ],
   "source": [
    "df['body_text_length'].hist(bins=50, figsize=(12, 6))\n",
    "plt.title('Distribution of Body Text Lengths')\n",
    "plt.xlabel('Length of Body Text in characters')\n",
    "plt.ylabel('Frequency')\n",
    "plt.show()"
   ]
  },
  {
   "cell_type": "markdown",
   "id": "c495c635",
   "metadata": {},
   "source": [
    "Some right-skew in the data, peak ~4000 characters inc. spaces, most fall between 2,000 and 7000 chars. some outliers w/very long descriptions"
   ]
  },
  {
   "cell_type": "code",
   "execution_count": 277,
   "id": "e354762e",
   "metadata": {},
   "outputs": [
    {
     "name": "stdout",
     "output_type": "stream",
     "text": [
      "<class 'pandas.core.frame.DataFrame'>\n",
      "RangeIndex: 1458 entries, 0 to 1457\n",
      "Data columns (total 5 columns):\n",
      " #   Column            Non-Null Count  Dtype \n",
      "---  ------            --------------  ----- \n",
      " 0   filename          1458 non-null   object\n",
      " 1   title             1458 non-null   object\n",
      " 2   body_text         1458 non-null   object\n",
      " 3   body_html         1458 non-null   object\n",
      " 4   body_text_length  1458 non-null   int64 \n",
      "dtypes: int64(1), object(4)\n",
      "memory usage: 57.1+ KB\n"
     ]
    }
   ],
   "source": [
    "df.info()"
   ]
  },
  {
   "cell_type": "code",
   "execution_count": 278,
   "id": "f0c1becd",
   "metadata": {},
   "outputs": [
    {
     "data": {
      "text/plain": [
       "2"
      ]
     },
     "execution_count": 278,
     "metadata": {},
     "output_type": "execute_result"
    }
   ],
   "source": [
    "# Any duplicates based on the 'body_text' column\n",
    "df[df['body_text'].duplicated(keep=False)].shape[0]"
   ]
  },
  {
   "cell_type": "code",
   "execution_count": 279,
   "id": "fca15e30",
   "metadata": {},
   "outputs": [],
   "source": [
    "df = df.drop_duplicates(subset=['body_text'], keep='first')"
   ]
  },
  {
   "cell_type": "code",
   "execution_count": 280,
   "id": "7f58d415",
   "metadata": {},
   "outputs": [
    {
     "data": {
      "text/plain": [
       "(1457, 5)"
      ]
     },
     "execution_count": 280,
     "metadata": {},
     "output_type": "execute_result"
    }
   ],
   "source": [
    "df.shape"
   ]
  },
  {
   "cell_type": "markdown",
   "id": "aaff0091",
   "metadata": {},
   "source": [
    "# Clean the data"
   ]
  },
  {
   "cell_type": "code",
   "execution_count": 281,
   "id": "22aa085d",
   "metadata": {},
   "outputs": [
    {
     "data": {
      "text/plain": [
       "'PwC Labs - Jr. Data Scientist - Machine Learning (NLP) - Tampa, FL 33607\\nPwC Labs is focused on standardizing, automating, delivering tools and processes and exploring emerging technologies that drive efficiency and enable our people to reimagine the possible. Process improvement, transformation, effective use of innovative technology and data & analytics, and leveraging alternative delivery solutions are key areas of focus to drive additional value for our firm. The AI Lab focuses on implementing solutions that impact efficiency and effectiveness of our technology functions. Process improvement, transformation, effective use of technology and data & analytics, and leveraging alternative delivery are key areas to drive value and continue to be recognized as the leading professional services firm. AI Lab is focused on identifying and prioritizing emerging technologies to get the most out of our investments.\\nTo really stand out and make us ?t for the future in a constantly changing world'"
      ]
     },
     "execution_count": 281,
     "metadata": {},
     "output_type": "execute_result"
    }
   ],
   "source": [
    "df['body_text'][df['filename'] == '0179ea131f141400.html'].values[0][:1000]"
   ]
  },
  {
   "cell_type": "code",
   "execution_count": 282,
   "id": "d126c651",
   "metadata": {},
   "outputs": [],
   "source": [
    "# Split the title roughly into job title and location on the last separator \n",
    "split = df['title'].str.rsplit(' - ', n=1, expand=True)\n",
    "df['job_title'] = split[0]\n",
    "df['location']  = split[1].fillna('Unknown') # for no location"
   ]
  },
  {
   "cell_type": "code",
   "execution_count": 283,
   "id": "504d2d2c",
   "metadata": {},
   "outputs": [],
   "source": [
    "df.drop(columns=['title','filename'], inplace=True)"
   ]
  },
  {
   "cell_type": "code",
   "execution_count": 284,
   "id": "7ff1baad",
   "metadata": {},
   "outputs": [
    {
     "data": {
      "text/html": [
       "<div>\n",
       "<style scoped>\n",
       "    .dataframe tbody tr th:only-of-type {\n",
       "        vertical-align: middle;\n",
       "    }\n",
       "\n",
       "    .dataframe tbody tr th {\n",
       "        vertical-align: top;\n",
       "    }\n",
       "\n",
       "    .dataframe thead th {\n",
       "        text-align: right;\n",
       "    }\n",
       "</style>\n",
       "<table border=\"1\" class=\"dataframe\">\n",
       "  <thead>\n",
       "    <tr style=\"text-align: right;\">\n",
       "      <th></th>\n",
       "      <th>body_text</th>\n",
       "      <th>body_html</th>\n",
       "      <th>body_text_length</th>\n",
       "      <th>job_title</th>\n",
       "      <th>location</th>\n",
       "    </tr>\n",
       "  </thead>\n",
       "  <tbody>\n",
       "    <tr>\n",
       "      <th>603</th>\n",
       "      <td>Deal Desk Analyst - San Francisco, CA 94108\\nL...</td>\n",
       "      <td>&lt;body&gt;\\n &lt;h2&gt;\\n  Deal Desk Analyst - San Franc...</td>\n",
       "      <td>4039</td>\n",
       "      <td>Deal Desk Analyst</td>\n",
       "      <td>San Francisco, CA 94108</td>\n",
       "    </tr>\n",
       "    <tr>\n",
       "      <th>1345</th>\n",
       "      <td>Director of Data Science and Analytics - Seatt...</td>\n",
       "      <td>&lt;body&gt;\\n &lt;h2&gt;\\n  Director of Data Science and ...</td>\n",
       "      <td>3838</td>\n",
       "      <td>Director of Data Science and Analytics</td>\n",
       "      <td>Seattle, WA</td>\n",
       "    </tr>\n",
       "    <tr>\n",
       "      <th>440</th>\n",
       "      <td>Blockchain Analyst - Portland, OR\\nDue to the ...</td>\n",
       "      <td>&lt;body&gt;\\n &lt;h2&gt;\\n  Blockchain Analyst - Portland...</td>\n",
       "      <td>3683</td>\n",
       "      <td>Blockchain Analyst</td>\n",
       "      <td>Portland, OR</td>\n",
       "    </tr>\n",
       "    <tr>\n",
       "      <th>65</th>\n",
       "      <td>Data Engineer - San Francisco, CA\\ngoPuff is a...</td>\n",
       "      <td>&lt;body&gt;\\n &lt;h2&gt;\\n  Data Engineer - San Francisco...</td>\n",
       "      <td>3706</td>\n",
       "      <td>Data Engineer</td>\n",
       "      <td>San Francisco, CA</td>\n",
       "    </tr>\n",
       "    <tr>\n",
       "      <th>633</th>\n",
       "      <td>Data Science Instructor - San Francisco, CA\\nS...</td>\n",
       "      <td>&lt;body&gt;\\n &lt;h2&gt;\\n  Data Science Instructor - San...</td>\n",
       "      <td>4303</td>\n",
       "      <td>Data Science Instructor</td>\n",
       "      <td>San Francisco, CA</td>\n",
       "    </tr>\n",
       "    <tr>\n",
       "      <th>1155</th>\n",
       "      <td>Senior Data Scientist - San Francisco, CA 9411...</td>\n",
       "      <td>&lt;body&gt;\\n &lt;h2&gt;\\n  Senior Data Scientist - San F...</td>\n",
       "      <td>5596</td>\n",
       "      <td>Senior Data Scientist</td>\n",
       "      <td>San Francisco, CA 94111</td>\n",
       "    </tr>\n",
       "    <tr>\n",
       "      <th>1064</th>\n",
       "      <td>Data Scientist, Growth Data Science - San Fran...</td>\n",
       "      <td>&lt;body&gt;\\n &lt;h2&gt;\\n  Data Scientist, Growth Data S...</td>\n",
       "      <td>3629</td>\n",
       "      <td>Data Scientist, Growth Data Science</td>\n",
       "      <td>San Francisco, CA 94103</td>\n",
       "    </tr>\n",
       "    <tr>\n",
       "      <th>737</th>\n",
       "      <td>Intern - Telco and Edge Cloud - Wireless Netwo...</td>\n",
       "      <td>&lt;body&gt;\\n &lt;h2&gt;\\n  Intern - Telco and Edge Cloud...</td>\n",
       "      <td>3678</td>\n",
       "      <td>Intern - Telco and Edge Cloud - Wireless Netwo...</td>\n",
       "      <td>Palo Alto, CA 94304</td>\n",
       "    </tr>\n",
       "    <tr>\n",
       "      <th>911</th>\n",
       "      <td>Biomedical Data Standards Specialist-Data Coll...</td>\n",
       "      <td>&lt;body&gt;\\n &lt;h2&gt;\\n  Biomedical Data Standards Spe...</td>\n",
       "      <td>7943</td>\n",
       "      <td>Biomedical Data Standards Specialist-Data Coll...</td>\n",
       "      <td>South San Francisco, CA 94083</td>\n",
       "    </tr>\n",
       "    <tr>\n",
       "      <th>1347</th>\n",
       "      <td>Senior Natural Language Processing (NLP) Engin...</td>\n",
       "      <td>&lt;body&gt;\\n &lt;h2&gt;\\n  Senior Natural Language Proce...</td>\n",
       "      <td>6011</td>\n",
       "      <td>Senior Natural Language Processing (NLP) Engineer</td>\n",
       "      <td>Boston, MA</td>\n",
       "    </tr>\n",
       "  </tbody>\n",
       "</table>\n",
       "</div>"
      ],
      "text/plain": [
       "                                              body_text  \\\n",
       "603   Deal Desk Analyst - San Francisco, CA 94108\\nL...   \n",
       "1345  Director of Data Science and Analytics - Seatt...   \n",
       "440   Blockchain Analyst - Portland, OR\\nDue to the ...   \n",
       "65    Data Engineer - San Francisco, CA\\ngoPuff is a...   \n",
       "633   Data Science Instructor - San Francisco, CA\\nS...   \n",
       "1155  Senior Data Scientist - San Francisco, CA 9411...   \n",
       "1064  Data Scientist, Growth Data Science - San Fran...   \n",
       "737   Intern - Telco and Edge Cloud - Wireless Netwo...   \n",
       "911   Biomedical Data Standards Specialist-Data Coll...   \n",
       "1347  Senior Natural Language Processing (NLP) Engin...   \n",
       "\n",
       "                                              body_html  body_text_length  \\\n",
       "603   <body>\\n <h2>\\n  Deal Desk Analyst - San Franc...              4039   \n",
       "1345  <body>\\n <h2>\\n  Director of Data Science and ...              3838   \n",
       "440   <body>\\n <h2>\\n  Blockchain Analyst - Portland...              3683   \n",
       "65    <body>\\n <h2>\\n  Data Engineer - San Francisco...              3706   \n",
       "633   <body>\\n <h2>\\n  Data Science Instructor - San...              4303   \n",
       "1155  <body>\\n <h2>\\n  Senior Data Scientist - San F...              5596   \n",
       "1064  <body>\\n <h2>\\n  Data Scientist, Growth Data S...              3629   \n",
       "737   <body>\\n <h2>\\n  Intern - Telco and Edge Cloud...              3678   \n",
       "911   <body>\\n <h2>\\n  Biomedical Data Standards Spe...              7943   \n",
       "1347  <body>\\n <h2>\\n  Senior Natural Language Proce...              6011   \n",
       "\n",
       "                                              job_title  \\\n",
       "603                                   Deal Desk Analyst   \n",
       "1345             Director of Data Science and Analytics   \n",
       "440                                  Blockchain Analyst   \n",
       "65                                        Data Engineer   \n",
       "633                             Data Science Instructor   \n",
       "1155                              Senior Data Scientist   \n",
       "1064                Data Scientist, Growth Data Science   \n",
       "737   Intern - Telco and Edge Cloud - Wireless Netwo...   \n",
       "911   Biomedical Data Standards Specialist-Data Coll...   \n",
       "1347  Senior Natural Language Processing (NLP) Engineer   \n",
       "\n",
       "                           location  \n",
       "603         San Francisco, CA 94108  \n",
       "1345                    Seattle, WA  \n",
       "440                    Portland, OR  \n",
       "65                San Francisco, CA  \n",
       "633               San Francisco, CA  \n",
       "1155        San Francisco, CA 94111  \n",
       "1064        San Francisco, CA 94103  \n",
       "737             Palo Alto, CA 94304  \n",
       "911   South San Francisco, CA 94083  \n",
       "1347                     Boston, MA  "
      ]
     },
     "execution_count": 284,
     "metadata": {},
     "output_type": "execute_result"
    }
   ],
   "source": [
    "df.sample(10)"
   ]
  },
  {
   "cell_type": "code",
   "execution_count": 285,
   "id": "44147974",
   "metadata": {},
   "outputs": [],
   "source": [
    "def strip_header(row):\n",
    "    \"\"\"Remove job title and location header from job description body\"\"\"\n",
    "    body_text, job_title, location = row['body_text'], row['job_title'], row['location']\n",
    "    header = f\"{job_title} - {location}\"\n",
    "    \n",
    "    # If body starts with the exact header, remove it cleanly\n",
    "    if body_text.startswith(header):\n",
    "        return body_text[len(header):].lstrip('\\n')\n",
    "    \n",
    "    # Otherwise keep the original text\n",
    "    return body_text\n",
    "\n",
    "df['body_text'] = df.apply(strip_header, axis=1)\n"
   ]
  },
  {
   "cell_type": "code",
   "execution_count": 286,
   "id": "814bdd3f",
   "metadata": {},
   "outputs": [
    {
     "data": {
      "text/html": [
       "<div>\n",
       "<style scoped>\n",
       "    .dataframe tbody tr th:only-of-type {\n",
       "        vertical-align: middle;\n",
       "    }\n",
       "\n",
       "    .dataframe tbody tr th {\n",
       "        vertical-align: top;\n",
       "    }\n",
       "\n",
       "    .dataframe thead th {\n",
       "        text-align: right;\n",
       "    }\n",
       "</style>\n",
       "<table border=\"1\" class=\"dataframe\">\n",
       "  <thead>\n",
       "    <tr style=\"text-align: right;\">\n",
       "      <th></th>\n",
       "      <th>body_text</th>\n",
       "      <th>body_html</th>\n",
       "      <th>body_text_length</th>\n",
       "      <th>job_title</th>\n",
       "      <th>location</th>\n",
       "    </tr>\n",
       "  </thead>\n",
       "  <tbody>\n",
       "    <tr>\n",
       "      <th>464</th>\n",
       "      <td>June 2018, BetterDoctor and Quest Analytics me...</td>\n",
       "      <td>&lt;body&gt;\\n &lt;h2&gt;\\n  Data Analyst - San Francisco,...</td>\n",
       "      <td>4631</td>\n",
       "      <td>Data Analyst</td>\n",
       "      <td>San Francisco, CA</td>\n",
       "    </tr>\n",
       "    <tr>\n",
       "      <th>1077</th>\n",
       "      <td>The Department of Energy Joint Genome Institut...</td>\n",
       "      <td>&lt;body&gt;\\n &lt;h2&gt;\\n  Bioinformatics Associate Data...</td>\n",
       "      <td>6104</td>\n",
       "      <td>Bioinformatics Associate Data Scientist</td>\n",
       "      <td>San Francisco Bay Area, CA 94598</td>\n",
       "    </tr>\n",
       "    <tr>\n",
       "      <th>1244</th>\n",
       "      <td>Gain valuable on-the-job professional experien...</td>\n",
       "      <td>&lt;body&gt;\\n &lt;h2&gt;\\n  IT Intern - Fremont, CA 94539...</td>\n",
       "      <td>4699</td>\n",
       "      <td>IT Intern</td>\n",
       "      <td>Fremont, CA 94539</td>\n",
       "    </tr>\n",
       "    <tr>\n",
       "      <th>841</th>\n",
       "      <td>We are looking for a Data Analytics Manager to...</td>\n",
       "      <td>&lt;body&gt;\\n &lt;h2&gt;\\n  Data Analytics Manager, Royal...</td>\n",
       "      <td>2408</td>\n",
       "      <td>Data Analytics Manager, Royalties and Accounting</td>\n",
       "      <td>New York, NY 10011</td>\n",
       "    </tr>\n",
       "    <tr>\n",
       "      <th>442</th>\n",
       "      <td>The Senior Policy Researcher will work on larg...</td>\n",
       "      <td>&lt;body&gt;\\n &lt;h2&gt;\\n  Senior Policy Researcher - Un...</td>\n",
       "      <td>3103</td>\n",
       "      <td>Senior Policy Researcher</td>\n",
       "      <td>United States</td>\n",
       "    </tr>\n",
       "    <tr>\n",
       "      <th>1032</th>\n",
       "      <td>Visitor Services Coordinator (6299U) - SIMONS ...</td>\n",
       "      <td>&lt;body&gt;\\n &lt;h2&gt;\\n  Visitor Services Coordinator ...</td>\n",
       "      <td>8403</td>\n",
       "      <td>Visitor Services Coordinator (6299U) - SIMONS ...</td>\n",
       "      <td>Berkeley, CA 94720</td>\n",
       "    </tr>\n",
       "    <tr>\n",
       "      <th>1184</th>\n",
       "      <td>The Customer Success Manager is a crucial team...</td>\n",
       "      <td>&lt;body&gt;\\n &lt;h2&gt;\\n  Customer Success Manager - Wa...</td>\n",
       "      <td>3515</td>\n",
       "      <td>Customer Success Manager</td>\n",
       "      <td>Walnut Creek, CA</td>\n",
       "    </tr>\n",
       "    <tr>\n",
       "      <th>964</th>\n",
       "      <td>Job Title:\\nService Advisor\\nDepartment:\\nServ...</td>\n",
       "      <td>&lt;body&gt;\\n &lt;h2&gt;\\n  service advisor - Tracy, CA 9...</td>\n",
       "      <td>5416</td>\n",
       "      <td>service advisor</td>\n",
       "      <td>Tracy, CA 95304</td>\n",
       "    </tr>\n",
       "    <tr>\n",
       "      <th>1456</th>\n",
       "      <td>Who we are!\\nFor more than 70 years, scientist...</td>\n",
       "      <td>&lt;body&gt;\\n &lt;h2&gt;\\n  Natural Language Processing U...</td>\n",
       "      <td>3571</td>\n",
       "      <td>Natural Language Processing Undergraduate Inte...</td>\n",
       "      <td>Cambridge, MA</td>\n",
       "    </tr>\n",
       "    <tr>\n",
       "      <th>1252</th>\n",
       "      <td>A two to three year position appointment which...</td>\n",
       "      <td>&lt;body&gt;\\n &lt;h2&gt;\\n  Research Post Doctoral Fellow...</td>\n",
       "      <td>4601</td>\n",
       "      <td>Research Post Doctoral Fellow (Social Determin...</td>\n",
       "      <td>Oakland, CA</td>\n",
       "    </tr>\n",
       "  </tbody>\n",
       "</table>\n",
       "</div>"
      ],
      "text/plain": [
       "                                              body_text  \\\n",
       "464   June 2018, BetterDoctor and Quest Analytics me...   \n",
       "1077  The Department of Energy Joint Genome Institut...   \n",
       "1244  Gain valuable on-the-job professional experien...   \n",
       "841   We are looking for a Data Analytics Manager to...   \n",
       "442   The Senior Policy Researcher will work on larg...   \n",
       "1032  Visitor Services Coordinator (6299U) - SIMONS ...   \n",
       "1184  The Customer Success Manager is a crucial team...   \n",
       "964   Job Title:\\nService Advisor\\nDepartment:\\nServ...   \n",
       "1456  Who we are!\\nFor more than 70 years, scientist...   \n",
       "1252  A two to three year position appointment which...   \n",
       "\n",
       "                                              body_html  body_text_length  \\\n",
       "464   <body>\\n <h2>\\n  Data Analyst - San Francisco,...              4631   \n",
       "1077  <body>\\n <h2>\\n  Bioinformatics Associate Data...              6104   \n",
       "1244  <body>\\n <h2>\\n  IT Intern - Fremont, CA 94539...              4699   \n",
       "841   <body>\\n <h2>\\n  Data Analytics Manager, Royal...              2408   \n",
       "442   <body>\\n <h2>\\n  Senior Policy Researcher - Un...              3103   \n",
       "1032  <body>\\n <h2>\\n  Visitor Services Coordinator ...              8403   \n",
       "1184  <body>\\n <h2>\\n  Customer Success Manager - Wa...              3515   \n",
       "964   <body>\\n <h2>\\n  service advisor - Tracy, CA 9...              5416   \n",
       "1456  <body>\\n <h2>\\n  Natural Language Processing U...              3571   \n",
       "1252  <body>\\n <h2>\\n  Research Post Doctoral Fellow...              4601   \n",
       "\n",
       "                                              job_title  \\\n",
       "464                                        Data Analyst   \n",
       "1077            Bioinformatics Associate Data Scientist   \n",
       "1244                                          IT Intern   \n",
       "841    Data Analytics Manager, Royalties and Accounting   \n",
       "442                            Senior Policy Researcher   \n",
       "1032  Visitor Services Coordinator (6299U) - SIMONS ...   \n",
       "1184                           Customer Success Manager   \n",
       "964                                     service advisor   \n",
       "1456  Natural Language Processing Undergraduate Inte...   \n",
       "1252  Research Post Doctoral Fellow (Social Determin...   \n",
       "\n",
       "                              location  \n",
       "464                  San Francisco, CA  \n",
       "1077  San Francisco Bay Area, CA 94598  \n",
       "1244                 Fremont, CA 94539  \n",
       "841                 New York, NY 10011  \n",
       "442                      United States  \n",
       "1032                Berkeley, CA 94720  \n",
       "1184                  Walnut Creek, CA  \n",
       "964                    Tracy, CA 95304  \n",
       "1456                     Cambridge, MA  \n",
       "1252                       Oakland, CA  "
      ]
     },
     "execution_count": 286,
     "metadata": {},
     "output_type": "execute_result"
    }
   ],
   "source": [
    "df.sample(10)"
   ]
  },
  {
   "cell_type": "code",
   "execution_count": 287,
   "id": "f1d90b41",
   "metadata": {},
   "outputs": [
    {
     "data": {
      "text/plain": [
       "'<body>\\n <h2>\\n  Patient Care Assistant / PCA - Med/Surg (Fayette, AL) - Fayette, AL\\n </h2>\\n <h1 class=\"jobSectionHeader\">\\n  <b>\\n   Performance Planning\\n  </b>\\n </h1>\\n <p>\\n  Provides personal care and support services under the supervision of a registered nurse that assists the patient in the achievement of physical and emotional comfort.\\n </p>\\n <h1 class=\"jobSectionHeader\">\\n  <b>\\n   Key Responsibilities/Essential Functions\\n  </b>\\n </h1>\\n <ul>\\n  <li>\\n   Provides all personal care services in accordance with the plan of treatment assigned by the registered nurse\\n  </li>\\n  <li>\\n   Accurately documents care provided\\n  </li>\\n  <li>\\n   Applies safety principles and proper body mechanics to the performance of specific techniques of personal and supportive care, such as ambulation of patients, transferring patients, assisting with normal range of motions and positioning\\n  </li>\\n  <li>\\n   Participates in economical utilization of supplies and ensures that equipment and nursing units are maintain'"
      ]
     },
     "execution_count": 287,
     "metadata": {},
     "output_type": "execute_result"
    }
   ],
   "source": [
    "df['body_html'].iloc[3][:1000]"
   ]
  },
  {
   "cell_type": "markdown",
   "id": "9f091607",
   "metadata": {},
   "source": [
    "## Job title analysis"
   ]
  },
  {
   "cell_type": "markdown",
   "id": "0871bdd9",
   "metadata": {},
   "source": [
    "Have a look at most common words in job titles"
   ]
  },
  {
   "cell_type": "code",
   "execution_count": 305,
   "id": "ac5de6a6",
   "metadata": {},
   "outputs": [
    {
     "name": "stdout",
     "output_type": "stream",
     "text": [
      "Most common words in job titles:\n",
      "[('data', 749), ('scientist', 447), ('analyst', 189), ('engineer', 188), ('and', 174), ('science', 128), ('senior', 123), ('intern', 102), ('analytics', 83), ('manager', 82)]\n"
     ]
    }
   ],
   "source": [
    "# Extract common terms from job titles\n",
    "from collections import Counter\n",
    "import re\n",
    "\n",
    "# Tokenize job titles\n",
    "def tokenize(text):\n",
    "    return re.sub(r'[^\\w\\s]', ' ', text.lower()).split()\n",
    "\n",
    "# Flatten all tokenized words from job titles\n",
    "all_words = [word for title in df['job_title'] for word in tokenize(title)]\n",
    "\n",
    "word_counts = Counter(all_words)\n",
    "\n",
    "# Display top 20 word counts\n",
    "print(\"Most common words in job titles:\")\n",
    "print(word_counts.most_common(10))"
   ]
  },
  {
   "cell_type": "code",
   "execution_count": 288,
   "id": "b014a123",
   "metadata": {},
   "outputs": [
    {
     "data": {
      "text/plain": [
       "job_title\n",
       "Data Scientist                      157\n",
       "Senior Data Scientist                33\n",
       "Data Analyst                         20\n",
       "Data Engineer                        15\n",
       "Machine Learning Engineer            12\n",
       "                                   ... \n",
       "Senior Statistician                   1\n",
       "Cyber Intelligence Analyst            1\n",
       "Data & Tableau Reporting Analyst      1\n",
       "Python Systems Engineer               1\n",
       "Data Scientist - Oil and Gas          1\n",
       "Name: count, Length: 1119, dtype: int64"
      ]
     },
     "execution_count": 288,
     "metadata": {},
     "output_type": "execute_result"
    }
   ],
   "source": [
    "df['job_title'].value_counts()"
   ]
  },
  {
   "cell_type": "markdown",
   "id": "e1493b76",
   "metadata": {},
   "source": [
    "Lots of different job titles with many similar roles having slightly different names. Will start by grouping these together ins ome way "
   ]
  },
  {
   "cell_type": "code",
   "execution_count": 301,
   "id": "1386277e",
   "metadata": {},
   "outputs": [],
   "source": [
    "# Function to classifty job titles into categories\n",
    "def classify_job_title(title):\n",
    "    title = title.lower()\n",
    "    categories = []\n",
    "    if any(keyword in title for keyword in ['analyst', 'analytics']):\n",
    "        categories.append('Data Analysis')\n",
    "    if any(keyword in title for keyword  in ['scientist', 'science']):\n",
    "        categories.append('Data Science')\n",
    "    if any (keyword in title for keyword in ['engineer','engineering']):\n",
    "        categories.append('Data Engineering')\n",
    "    if any(keyword in title for keyword in ['machine learning', 'ml']):\n",
    "        categories.append('Machine Learning')\n",
    "    if any(keyword in title for keyword in ['developer', 'programer', 'programming', 'dev', 'software']):\n",
    "        categories.append('Software Development')\n",
    "    if any(keyword in title for keyword in ['researcher','research']):\n",
    "        categories.append('Research')\n",
    "    if any(keyword in title for keyword in ['manager', 'management']):\n",
    "        categories.append('Management')\n",
    "    if any(keyword in title for keyword in ['consultant', 'consulting']):\n",
    "        categories.append('Consulting')\n",
    "    if any(keyword in title for keyword in ['nurse', 'nursing']):\n",
    "        categories.append('Nursing')\n",
    "    \n",
    "    if not categories:\n",
    "       categories.append('Other')\n",
    "    \n",
    "    return categories\n",
    "\n",
    "# Apply the function to the job_title column\n",
    "df['job_categories'] = df['job_title'].apply(classify_job_title)\n",
    "# Get all unique categories\n",
    "all_categories = set()\n",
    "for categories in df['job_categories']:\n",
    "    all_categories.update(categories)\n",
    "\n",
    "# Create binary columns for each category\n",
    "for category in all_categories:\n",
    "    df[f'is_{category.replace(\" \", \"_\")}'] = df['job_categories'].apply(lambda x: category in x)\n"
   ]
  },
  {
   "cell_type": "code",
   "execution_count": 313,
   "id": "8fc62502",
   "metadata": {},
   "outputs": [
    {
     "data": {
      "image/png": "[encoded data removed]",
      "text/plain": [
       "<Figure size 1200x800 with 1 Axes>"
      ]
     },
     "metadata": {},
     "output_type": "display_data"
    }
   ],
   "source": [
    "category_counts = df.explode('job_categories')['job_categories'].value_counts().head(10)\n",
    "\n",
    "# Plot the top 10\n",
    "category_counts.plot(kind='barh', figsize=(12, 8))\n",
    "plt.title('Top 10 Job Categories')\n",
    "plt.xlabel('Number of Job Postings')\n",
    "plt.ylabel('Job Categories')\n",
    "plt.tight_layout()\n",
    "plt.show()"
   ]
  },
  {
   "cell_type": "markdown",
   "id": "9b7d6f7e",
   "metadata": {},
   "source": [
    "Have a look at 'other' category to see whether other groups jump out"
   ]
  },
  {
   "cell_type": "code",
   "execution_count": 292,
   "id": "270ccd67",
   "metadata": {},
   "outputs": [
    {
     "data": {
      "text/plain": [
       "job_title\n",
       "Database Specialist/Compliance Monitor                                        1\n",
       "Business Planning and Operations Associate - SBG                              1\n",
       "Director, Predictive Modeling                                                 1\n",
       "Sr. Test Technician                                                           1\n",
       "Program and Data Assistant, Biology Scholars Program (4722C) - 1597 - 1597    1\n",
       "Salesforce Administrator                                                      2\n",
       "Financial Representative                                                      1\n",
       "Lead of Genomics AI - Bay Area, CA                                            1\n",
       "Linguist Intern, Summer 2020                                                  1\n",
       "Leadership and Advocacy Coordinator                                           1\n",
       "Name: count, dtype: int64"
      ]
     },
     "execution_count": 292,
     "metadata": {},
     "output_type": "execute_result"
    }
   ],
   "source": [
    "others_jobs = df[df['is_Other'] == True]\n",
    "others_jobs['job_title'].value_counts().sample(10)"
   ]
  },
  {
   "cell_type": "markdown",
   "id": "2d3b1b06",
   "metadata": {},
   "source": [
    "Have a look at the distribution of seniorty of roles"
   ]
  },
  {
   "cell_type": "code",
   "execution_count": 298,
   "id": "fa5d8713",
   "metadata": {},
   "outputs": [
    {
     "name": "stdout",
     "output_type": "stream",
     "text": [
      "seniority\n",
      "Mid-level     898\n",
      "Junior        236\n",
      "Senior        183\n",
      "Leadership    140\n",
      "Name: count, dtype: int64\n"
     ]
    }
   ],
   "source": [
    "def extract_seniority(title):\n",
    "    title = title.lower()\n",
    "    \n",
    "    if any(level in title for level in ['senior', 'sr', 'sr.', 'principal']):\n",
    "        return 'Senior'\n",
    "    elif any(level in title for level in ['junior', 'jr', 'jr.', 'associate','intern', 'entry-level','assistant']):\n",
    "        return 'Junior'\n",
    "    elif any(level in title for level in ['lead', 'head', 'chief', 'director', 'manager', 'president', 'vp']):\n",
    "        return 'Leadership'\n",
    "    else:\n",
    "        return 'Mid-level'\n",
    "\n",
    "df['seniority'] = df['job_title'].apply(extract_seniority)\n",
    "seniority_counts = df['seniority'].value_counts()\n",
    "print(seniority_counts)"
   ]
  },
  {
   "cell_type": "code",
   "execution_count": 299,
   "id": "8b691e47",
   "metadata": {},
   "outputs": [
    {
     "data": {
      "text/plain": [
       "job_title\n",
       "RN                                                      1\n",
       "Data Scientist - Natural Language Processing            2\n",
       "eCommerce Data Science Analyst                          1\n",
       "Wellness Promoter: Part-time                            1\n",
       "Research Data Analyst                                   1\n",
       "Data Analytic Engineer                                  1\n",
       "Machine Learning Engineer (NLP)                         1\n",
       "Data Analyst, Growth                                    1\n",
       "Biomedical Data Standards Specialist-Data Collection    1\n",
       "Quantitative Researcher                                 1\n",
       "Name: count, dtype: int64"
      ]
     },
     "execution_count": 299,
     "metadata": {},
     "output_type": "execute_result"
    }
   ],
   "source": [
    "df[df['seniority'] == 'Mid-level']['job_title'].value_counts().sample(10)"
   ]
  },
  {
   "cell_type": "markdown",
   "id": "b95d5795",
   "metadata": {},
   "source": [
    "# Look at html tags and associations with skills"
   ]
  },
  {
   "cell_type": "markdown",
   "id": "0e85fb3d",
   "metadata": {},
   "source": []
  },
  {
   "cell_type": "code",
   "execution_count": 315,
   "id": "7d68966e",
   "metadata": {},
   "outputs": [
    {
     "data": {
      "text/html": [
       "<div>\n",
       "<style scoped>\n",
       "    .dataframe tbody tr th:only-of-type {\n",
       "        vertical-align: middle;\n",
       "    }\n",
       "\n",
       "    .dataframe tbody tr th {\n",
       "        vertical-align: top;\n",
       "    }\n",
       "\n",
       "    .dataframe thead th {\n",
       "        text-align: right;\n",
       "    }\n",
       "</style>\n",
       "<table border=\"1\" class=\"dataframe\">\n",
       "  <thead>\n",
       "    <tr style=\"text-align: right;\">\n",
       "      <th></th>\n",
       "      <th>body_text</th>\n",
       "      <th>body_html</th>\n",
       "      <th>body_text_length</th>\n",
       "      <th>job_title</th>\n",
       "      <th>location</th>\n",
       "      <th>job_categories</th>\n",
       "      <th>is_Data_Science</th>\n",
       "      <th>is_Consulting</th>\n",
       "      <th>is_Data_Engineering</th>\n",
       "      <th>is_Data_Analysis</th>\n",
       "      <th>is_Management</th>\n",
       "      <th>is_Research</th>\n",
       "      <th>is_Nursing</th>\n",
       "      <th>is_Software_Development</th>\n",
       "      <th>is_Other</th>\n",
       "      <th>is_Machine_Learning</th>\n",
       "      <th>seniority</th>\n",
       "      <th>html_analysis</th>\n",
       "    </tr>\n",
       "  </thead>\n",
       "  <tbody>\n",
       "    <tr>\n",
       "      <th>1121</th>\n",
       "      <td>Job Description\\nPublicis COSMOS is a new clas...</td>\n",
       "      <td>&lt;body&gt;\\n &lt;h2&gt;\\n  Senior Data Scientist - San F...</td>\n",
       "      <td>6068</td>\n",
       "      <td>Senior Data Scientist</td>\n",
       "      <td>San Francisco, CA 94104</td>\n",
       "      <td>[Data Science]</td>\n",
       "      <td>True</td>\n",
       "      <td>False</td>\n",
       "      <td>False</td>\n",
       "      <td>False</td>\n",
       "      <td>False</td>\n",
       "      <td>False</td>\n",
       "      <td>False</td>\n",
       "      <td>False</td>\n",
       "      <td>False</td>\n",
       "      <td>False</td>\n",
       "      <td>Senior</td>\n",
       "      <td>{'tag_counts': {'body': 1, 'h2': 1, 'br': 8, '...</td>\n",
       "    </tr>\n",
       "    <tr>\n",
       "      <th>777</th>\n",
       "      <td>Science 37 is accelerating the research and de...</td>\n",
       "      <td>&lt;body&gt;\\n &lt;h2&gt;\\n  Data Scientist - San Francisc...</td>\n",
       "      <td>4326</td>\n",
       "      <td>Data Scientist</td>\n",
       "      <td>San Francisco, CA</td>\n",
       "      <td>[Data Science]</td>\n",
       "      <td>True</td>\n",
       "      <td>False</td>\n",
       "      <td>False</td>\n",
       "      <td>False</td>\n",
       "      <td>False</td>\n",
       "      <td>False</td>\n",
       "      <td>False</td>\n",
       "      <td>False</td>\n",
       "      <td>False</td>\n",
       "      <td>False</td>\n",
       "      <td>Mid-level</td>\n",
       "      <td>{'tag_counts': {'body': 1, 'h2': 1, 'li': 38},...</td>\n",
       "    </tr>\n",
       "    <tr>\n",
       "      <th>1371</th>\n",
       "      <td>Under general supervision, this position exist...</td>\n",
       "      <td>&lt;body&gt;\\n &lt;h2&gt;\\n  Data Consultant - Genomic Ana...</td>\n",
       "      <td>5471</td>\n",
       "      <td>Data Consultant - Genomic Analysis, R, Statist...</td>\n",
       "      <td>Oakland, CA</td>\n",
       "      <td>[Consulting]</td>\n",
       "      <td>False</td>\n",
       "      <td>True</td>\n",
       "      <td>False</td>\n",
       "      <td>False</td>\n",
       "      <td>False</td>\n",
       "      <td>False</td>\n",
       "      <td>False</td>\n",
       "      <td>False</td>\n",
       "      <td>False</td>\n",
       "      <td>False</td>\n",
       "      <td>Mid-level</td>\n",
       "      <td>{'tag_counts': {'body': 1, 'h2': 1, 'div': 4, ...</td>\n",
       "    </tr>\n",
       "    <tr>\n",
       "      <th>235</th>\n",
       "      <td>Founded in 2015, Instabase's mission is to adv...</td>\n",
       "      <td>&lt;body&gt;\\n &lt;h2&gt;\\n  Support Engineer - San Franci...</td>\n",
       "      <td>3508</td>\n",
       "      <td>Support Engineer</td>\n",
       "      <td>San Francisco, CA 94104</td>\n",
       "      <td>[Data Engineering]</td>\n",
       "      <td>False</td>\n",
       "      <td>False</td>\n",
       "      <td>True</td>\n",
       "      <td>False</td>\n",
       "      <td>False</td>\n",
       "      <td>False</td>\n",
       "      <td>False</td>\n",
       "      <td>False</td>\n",
       "      <td>False</td>\n",
       "      <td>False</td>\n",
       "      <td>Mid-level</td>\n",
       "      <td>{'tag_counts': {'body': 1, 'h2': 1, 'li': 8}, ...</td>\n",
       "    </tr>\n",
       "    <tr>\n",
       "      <th>793</th>\n",
       "      <td>Job Description:\\nThe Data Scientist is respon...</td>\n",
       "      <td>&lt;body&gt;\\n &lt;h2&gt;\\n  Data Scientist I - Charlotte,...</td>\n",
       "      <td>2816</td>\n",
       "      <td>Data Scientist I</td>\n",
       "      <td>Charlotte, NC 28255</td>\n",
       "      <td>[Data Science]</td>\n",
       "      <td>True</td>\n",
       "      <td>False</td>\n",
       "      <td>False</td>\n",
       "      <td>False</td>\n",
       "      <td>False</td>\n",
       "      <td>False</td>\n",
       "      <td>False</td>\n",
       "      <td>False</td>\n",
       "      <td>False</td>\n",
       "      <td>False</td>\n",
       "      <td>Mid-level</td>\n",
       "      <td>{'tag_counts': {'body': 1, 'h2': 1, 'p': 9, 'b...</td>\n",
       "    </tr>\n",
       "  </tbody>\n",
       "</table>\n",
       "</div>"
      ],
      "text/plain": [
       "                                              body_text  \\\n",
       "1121  Job Description\\nPublicis COSMOS is a new clas...   \n",
       "777   Science 37 is accelerating the research and de...   \n",
       "1371  Under general supervision, this position exist...   \n",
       "235   Founded in 2015, Instabase's mission is to adv...   \n",
       "793   Job Description:\\nThe Data Scientist is respon...   \n",
       "\n",
       "                                              body_html  body_text_length  \\\n",
       "1121  <body>\\n <h2>\\n  Senior Data Scientist - San F...              6068   \n",
       "777   <body>\\n <h2>\\n  Data Scientist - San Francisc...              4326   \n",
       "1371  <body>\\n <h2>\\n  Data Consultant - Genomic Ana...              5471   \n",
       "235   <body>\\n <h2>\\n  Support Engineer - San Franci...              3508   \n",
       "793   <body>\\n <h2>\\n  Data Scientist I - Charlotte,...              2816   \n",
       "\n",
       "                                              job_title  \\\n",
       "1121                              Senior Data Scientist   \n",
       "777                                      Data Scientist   \n",
       "1371  Data Consultant - Genomic Analysis, R, Statist...   \n",
       "235                                    Support Engineer   \n",
       "793                                    Data Scientist I   \n",
       "\n",
       "                     location      job_categories  is_Data_Science  \\\n",
       "1121  San Francisco, CA 94104      [Data Science]             True   \n",
       "777         San Francisco, CA      [Data Science]             True   \n",
       "1371              Oakland, CA        [Consulting]            False   \n",
       "235   San Francisco, CA 94104  [Data Engineering]            False   \n",
       "793       Charlotte, NC 28255      [Data Science]             True   \n",
       "\n",
       "      is_Consulting  is_Data_Engineering  is_Data_Analysis  is_Management  \\\n",
       "1121          False                False             False          False   \n",
       "777           False                False             False          False   \n",
       "1371           True                False             False          False   \n",
       "235           False                 True             False          False   \n",
       "793           False                False             False          False   \n",
       "\n",
       "      is_Research  is_Nursing  is_Software_Development  is_Other  \\\n",
       "1121        False       False                    False     False   \n",
       "777         False       False                    False     False   \n",
       "1371        False       False                    False     False   \n",
       "235         False       False                    False     False   \n",
       "793         False       False                    False     False   \n",
       "\n",
       "      is_Machine_Learning  seniority  \\\n",
       "1121                False     Senior   \n",
       "777                 False  Mid-level   \n",
       "1371                False  Mid-level   \n",
       "235                 False  Mid-level   \n",
       "793                 False  Mid-level   \n",
       "\n",
       "                                          html_analysis  \n",
       "1121  {'tag_counts': {'body': 1, 'h2': 1, 'br': 8, '...  \n",
       "777   {'tag_counts': {'body': 1, 'h2': 1, 'li': 38},...  \n",
       "1371  {'tag_counts': {'body': 1, 'h2': 1, 'div': 4, ...  \n",
       "235   {'tag_counts': {'body': 1, 'h2': 1, 'li': 8}, ...  \n",
       "793   {'tag_counts': {'body': 1, 'h2': 1, 'p': 9, 'b...  "
      ]
     },
     "execution_count": 315,
     "metadata": {},
     "output_type": "execute_result"
    }
   ],
   "source": [
    "sample_df.head()"
   ]
  },
  {
   "cell_type": "markdown",
   "id": "48bfbdd5",
   "metadata": {},
   "source": [
    "K-means: fast, easy to apply, works well when clusters are compact, spherical and similar in size\n",
    "Expectation-Maximisation (EM): often used with Gaussian Mixture models, handles clusters with different shapes, sizes, and orientations\n",
    "- consider: scaling data, using PCA before clustering, and selecting number of clusters using BIC, AIC, silhouette score"
   ]
  }
 ],
 "metadata": {
  "kernelspec": {
   "display_name": "Python 3",
   "language": "python",
   "name": "python3"
  },
  "language_info": {
   "codemirror_mode": {
    "name": "ipython",
    "version": 3
   },
   "file_extension": ".py",
   "mimetype": "text/x-python",
   "name": "python",
   "nbconvert_exporter": "python",
   "pygments_lexer": "ipython3",
   "version": "3.13.2"
  }
 },
 "nbformat": 4,
 "nbformat_minor": 5
}
