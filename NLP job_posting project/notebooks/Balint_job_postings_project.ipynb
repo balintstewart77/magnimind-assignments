{
 "cells": [
  {
   "cell_type": "code",
   "execution_count": 143,
   "id": "949c8334",
   "metadata": {},
   "outputs": [],
   "source": [
    "#import libraries\n",
    "import os\n",
    "import pandas as pd\n",
    "import numpy as np\n",
    "import matplotlib.pyplot as plt\n",
    "import seaborn as sns\n",
    "\n",
    "from bs4 import BeautifulSoup"
   ]
  },
  {
   "cell_type": "code",
   "execution_count": 144,
   "id": "e2dbd0f6",
   "metadata": {},
   "outputs": [],
   "source": [
    "data = []\n",
    "folder = r\"C:\\Users\\balin\\Desktop\\magnimind-assignments\\NLP job_posting project\\data\\job_postings\"\n",
    "\n",
    "for filename in os.listdir(folder):\n",
    "    if filename.endswith('.html'):\n",
    "        full_path = os.path.join(folder, filename)\n",
    "        with open(full_path, 'r', encoding='utf-8') as f:\n",
    "            soup = BeautifulSoup(f, 'lxml')\n",
    "            title = soup.title.text if soup.title else 'No Title'\n",
    "            body = soup.body.get_text(separator='\\n', strip=True)\n",
    "            data.append({'filename': filename, 'title': title, 'body': body})\n",
    "\n",
    "# Create a DataFrame from the list of dictionaries\n",
    "df = pd.DataFrame(data)\n"
   ]
  },
  {
   "cell_type": "code",
   "execution_count": 145,
   "id": "a9c48bc9",
   "metadata": {},
   "outputs": [
    {
     "data": {
      "text/plain": [
       "(1458, 3)"
      ]
     },
     "execution_count": 145,
     "metadata": {},
     "output_type": "execute_result"
    }
   ],
   "source": [
    "df.shape"
   ]
  },
  {
   "cell_type": "code",
   "execution_count": 146,
   "id": "5aab7e37",
   "metadata": {},
   "outputs": [
    {
     "data": {
      "text/html": [
       "<div>\n",
       "<style scoped>\n",
       "    .dataframe tbody tr th:only-of-type {\n",
       "        vertical-align: middle;\n",
       "    }\n",
       "\n",
       "    .dataframe tbody tr th {\n",
       "        vertical-align: top;\n",
       "    }\n",
       "\n",
       "    .dataframe thead th {\n",
       "        text-align: right;\n",
       "    }\n",
       "</style>\n",
       "<table border=\"1\" class=\"dataframe\">\n",
       "  <thead>\n",
       "    <tr style=\"text-align: right;\">\n",
       "      <th></th>\n",
       "      <th>filename</th>\n",
       "      <th>title</th>\n",
       "      <th>body</th>\n",
       "    </tr>\n",
       "  </thead>\n",
       "  <tbody>\n",
       "    <tr>\n",
       "      <th>0</th>\n",
       "      <td>001b92395ed0fb62.html</td>\n",
       "      <td>Data Scientist - Beavercreek, OH</td>\n",
       "      <td>Data Scientist - Beavercreek, OH\\nData Scienti...</td>\n",
       "    </tr>\n",
       "    <tr>\n",
       "      <th>1</th>\n",
       "      <td>00321a48d04fe754.html</td>\n",
       "      <td>Data Scientist - Seattle, WA 98101</td>\n",
       "      <td>Data Scientist - Seattle, WA 98101\\nAre you in...</td>\n",
       "    </tr>\n",
       "    <tr>\n",
       "      <th>2</th>\n",
       "      <td>0079c11b2611349f.html</td>\n",
       "      <td>Data Scientist - Newark, CA</td>\n",
       "      <td>Data Scientist - Newark, CA\\nData Scientist\\nN...</td>\n",
       "    </tr>\n",
       "    <tr>\n",
       "      <th>3</th>\n",
       "      <td>007d9d7b5c09d820.html</td>\n",
       "      <td>Patient Care Assistant / PCA - Med/Surg (Fayet...</td>\n",
       "      <td>Patient Care Assistant / PCA - Med/Surg (Fayet...</td>\n",
       "    </tr>\n",
       "    <tr>\n",
       "      <th>4</th>\n",
       "      <td>00bf37ae19c7dfd7.html</td>\n",
       "      <td>Data Manager / Analyst - Oakland, CA</td>\n",
       "      <td>Data Manager / Analyst - Oakland, CA\\nHOW YOU ...</td>\n",
       "    </tr>\n",
       "    <tr>\n",
       "      <th>5</th>\n",
       "      <td>0125eabc844281c9.html</td>\n",
       "      <td>Scientific Programmer - Berkeley, CA</td>\n",
       "      <td>Scientific Programmer - Berkeley, CA\\nCaribou ...</td>\n",
       "    </tr>\n",
       "    <tr>\n",
       "      <th>6</th>\n",
       "      <td>014ae4dbded805d2.html</td>\n",
       "      <td>JD Digits - AI Lab Research Intern - Mountain ...</td>\n",
       "      <td>JD Digits - AI Lab Research Intern - Mountain ...</td>\n",
       "    </tr>\n",
       "    <tr>\n",
       "      <th>7</th>\n",
       "      <td>014ea972a4aa9812.html</td>\n",
       "      <td>Operations and Technology Summer 2020 Internsh...</td>\n",
       "      <td>Operations and Technology Summer 2020 Internsh...</td>\n",
       "    </tr>\n",
       "    <tr>\n",
       "      <th>8</th>\n",
       "      <td>0179ea131f141400.html</td>\n",
       "      <td>PwC Labs - Jr. Data Scientist - Machine Learni...</td>\n",
       "      <td>PwC Labs - Jr. Data Scientist - Machine Learni...</td>\n",
       "    </tr>\n",
       "    <tr>\n",
       "      <th>9</th>\n",
       "      <td>018866568cd5a0b0.html</td>\n",
       "      <td>Data and Reporting Analyst - Olympia, WA 98501</td>\n",
       "      <td>Data and Reporting Analyst - Olympia, WA 98501...</td>\n",
       "    </tr>\n",
       "  </tbody>\n",
       "</table>\n",
       "</div>"
      ],
      "text/plain": [
       "                filename                                              title  \\\n",
       "0  001b92395ed0fb62.html                   Data Scientist - Beavercreek, OH   \n",
       "1  00321a48d04fe754.html                 Data Scientist - Seattle, WA 98101   \n",
       "2  0079c11b2611349f.html                        Data Scientist - Newark, CA   \n",
       "3  007d9d7b5c09d820.html  Patient Care Assistant / PCA - Med/Surg (Fayet...   \n",
       "4  00bf37ae19c7dfd7.html               Data Manager / Analyst - Oakland, CA   \n",
       "5  0125eabc844281c9.html               Scientific Programmer - Berkeley, CA   \n",
       "6  014ae4dbded805d2.html  JD Digits - AI Lab Research Intern - Mountain ...   \n",
       "7  014ea972a4aa9812.html  Operations and Technology Summer 2020 Internsh...   \n",
       "8  0179ea131f141400.html  PwC Labs - Jr. Data Scientist - Machine Learni...   \n",
       "9  018866568cd5a0b0.html     Data and Reporting Analyst - Olympia, WA 98501   \n",
       "\n",
       "                                                body  \n",
       "0  Data Scientist - Beavercreek, OH\\nData Scienti...  \n",
       "1  Data Scientist - Seattle, WA 98101\\nAre you in...  \n",
       "2  Data Scientist - Newark, CA\\nData Scientist\\nN...  \n",
       "3  Patient Care Assistant / PCA - Med/Surg (Fayet...  \n",
       "4  Data Manager / Analyst - Oakland, CA\\nHOW YOU ...  \n",
       "5  Scientific Programmer - Berkeley, CA\\nCaribou ...  \n",
       "6  JD Digits - AI Lab Research Intern - Mountain ...  \n",
       "7  Operations and Technology Summer 2020 Internsh...  \n",
       "8  PwC Labs - Jr. Data Scientist - Machine Learni...  \n",
       "9  Data and Reporting Analyst - Olympia, WA 98501...  "
      ]
     },
     "execution_count": 146,
     "metadata": {},
     "output_type": "execute_result"
    }
   ],
   "source": [
    "df.head(10)"
   ]
  },
  {
   "cell_type": "code",
   "execution_count": 147,
   "id": "af46e9f4",
   "metadata": {},
   "outputs": [
    {
     "data": {
      "text/plain": [
       "'PwC Labs - Jr. Data Scientist - Machine Learning (NLP) - Tampa, FL 33607\\nPwC Labs is focused on standardizing, automating, delivering tools and processes and exploring emerging technologies that drive efficiency and enable our people to reimagine the possible. Process improvement, transformation, effective use of innovative technology and data & analytics, and leveraging alternative delivery solutions are key areas of focus to drive additional value for our firm. The AI Lab focuses on implementing solutions that impact efficiency and effectiveness of our technology functions. Process improvement, transformation, effective use of technology and data & analytics, and leveraging alternative delivery are key areas to drive value and continue to be recognized as the leading professional services firm. AI Lab is focused on identifying and prioritizing emerging technologies to get the most out of our investments.\\nTo really stand out and make us ?t for the future in a constantly changing world'"
      ]
     },
     "execution_count": 147,
     "metadata": {},
     "output_type": "execute_result"
    }
   ],
   "source": [
    "df['body'][df['filename'] == '0179ea131f141400.html'].values[0][:1000]"
   ]
  },
  {
   "cell_type": "code",
   "execution_count": 148,
   "id": "6fcdd905",
   "metadata": {},
   "outputs": [
    {
     "data": {
      "text/html": [
       "<div>\n",
       "<style scoped>\n",
       "    .dataframe tbody tr th:only-of-type {\n",
       "        vertical-align: middle;\n",
       "    }\n",
       "\n",
       "    .dataframe tbody tr th {\n",
       "        vertical-align: top;\n",
       "    }\n",
       "\n",
       "    .dataframe thead th {\n",
       "        text-align: right;\n",
       "    }\n",
       "</style>\n",
       "<table border=\"1\" class=\"dataframe\">\n",
       "  <thead>\n",
       "    <tr style=\"text-align: right;\">\n",
       "      <th></th>\n",
       "      <th>filename</th>\n",
       "      <th>title</th>\n",
       "      <th>body</th>\n",
       "    </tr>\n",
       "  </thead>\n",
       "  <tbody>\n",
       "    <tr>\n",
       "      <th>count</th>\n",
       "      <td>1458</td>\n",
       "      <td>1458</td>\n",
       "      <td>1458</td>\n",
       "    </tr>\n",
       "    <tr>\n",
       "      <th>unique</th>\n",
       "      <td>1458</td>\n",
       "      <td>1364</td>\n",
       "      <td>1457</td>\n",
       "    </tr>\n",
       "    <tr>\n",
       "      <th>top</th>\n",
       "      <td>_p.html</td>\n",
       "      <td>Data Scientist - New York, NY</td>\n",
       "      <td>Physics Data Scientist - Foothill Ranch, CA\\nT...</td>\n",
       "    </tr>\n",
       "    <tr>\n",
       "      <th>freq</th>\n",
       "      <td>1</td>\n",
       "      <td>13</td>\n",
       "      <td>2</td>\n",
       "    </tr>\n",
       "  </tbody>\n",
       "</table>\n",
       "</div>"
      ],
      "text/plain": [
       "       filename                          title  \\\n",
       "count      1458                           1458   \n",
       "unique     1458                           1364   \n",
       "top     _p.html  Data Scientist - New York, NY   \n",
       "freq          1                             13   \n",
       "\n",
       "                                                     body  \n",
       "count                                                1458  \n",
       "unique                                               1457  \n",
       "top     Physics Data Scientist - Foothill Ranch, CA\\nT...  \n",
       "freq                                                    2  "
      ]
     },
     "execution_count": 148,
     "metadata": {},
     "output_type": "execute_result"
    }
   ],
   "source": [
    "df.describe()\n"
   ]
  },
  {
   "cell_type": "code",
   "execution_count": 149,
   "id": "e354762e",
   "metadata": {},
   "outputs": [
    {
     "name": "stdout",
     "output_type": "stream",
     "text": [
      "<class 'pandas.core.frame.DataFrame'>\n",
      "RangeIndex: 1458 entries, 0 to 1457\n",
      "Data columns (total 3 columns):\n",
      " #   Column    Non-Null Count  Dtype \n",
      "---  ------    --------------  ----- \n",
      " 0   filename  1458 non-null   object\n",
      " 1   title     1458 non-null   object\n",
      " 2   body      1458 non-null   object\n",
      "dtypes: object(3)\n",
      "memory usage: 34.3+ KB\n"
     ]
    }
   ],
   "source": [
    "df.info()"
   ]
  },
  {
   "cell_type": "markdown",
   "id": "aaff0091",
   "metadata": {},
   "source": [
    "# Clean the data"
   ]
  },
  {
   "cell_type": "code",
   "execution_count": 150,
   "id": "d126c651",
   "metadata": {},
   "outputs": [],
   "source": [
    "# Split the title roughly into job title and location on the last separator (handle cases like at index 8)\n",
    "split = df['title'].str.rsplit(' - ', n=1, expand=True)\n",
    "df['job_title'] = split[0]\n",
    "df['location']  = split[1].fillna('Unknown') # in case there is no location"
   ]
  },
  {
   "cell_type": "code",
   "execution_count": 151,
   "id": "504d2d2c",
   "metadata": {},
   "outputs": [],
   "source": [
    "df.drop(columns=['title','filename'], inplace=True)"
   ]
  },
  {
   "cell_type": "code",
   "execution_count": 152,
   "id": "7ff1baad",
   "metadata": {},
   "outputs": [
    {
     "data": {
      "text/html": [
       "<div>\n",
       "<style scoped>\n",
       "    .dataframe tbody tr th:only-of-type {\n",
       "        vertical-align: middle;\n",
       "    }\n",
       "\n",
       "    .dataframe tbody tr th {\n",
       "        vertical-align: top;\n",
       "    }\n",
       "\n",
       "    .dataframe thead th {\n",
       "        text-align: right;\n",
       "    }\n",
       "</style>\n",
       "<table border=\"1\" class=\"dataframe\">\n",
       "  <thead>\n",
       "    <tr style=\"text-align: right;\">\n",
       "      <th></th>\n",
       "      <th>body</th>\n",
       "      <th>job_title</th>\n",
       "      <th>location</th>\n",
       "    </tr>\n",
       "  </thead>\n",
       "  <tbody>\n",
       "    <tr>\n",
       "      <th>48</th>\n",
       "      <td>Research Associate - Data Science - Washington...</td>\n",
       "      <td>Research Associate - Data Science</td>\n",
       "      <td>Washington, DC</td>\n",
       "    </tr>\n",
       "    <tr>\n",
       "      <th>1031</th>\n",
       "      <td>Physics Data Scientist - Foothill Ranch, CA\\nT...</td>\n",
       "      <td>Physics Data Scientist</td>\n",
       "      <td>Foothill Ranch, CA</td>\n",
       "    </tr>\n",
       "    <tr>\n",
       "      <th>1109</th>\n",
       "      <td>Data Scientist - San Francisco, CA\\nOur compan...</td>\n",
       "      <td>Data Scientist</td>\n",
       "      <td>San Francisco, CA</td>\n",
       "    </tr>\n",
       "    <tr>\n",
       "      <th>1388</th>\n",
       "      <td>Machine Learning Engineer - San Francisco, CA\\...</td>\n",
       "      <td>Machine Learning Engineer</td>\n",
       "      <td>San Francisco, CA</td>\n",
       "    </tr>\n",
       "    <tr>\n",
       "      <th>585</th>\n",
       "      <td>Operations Research Scientist - Boston, MA\\nIn...</td>\n",
       "      <td>Operations Research Scientist</td>\n",
       "      <td>Boston, MA</td>\n",
       "    </tr>\n",
       "    <tr>\n",
       "      <th>1259</th>\n",
       "      <td>Sr Manufacturing Engineer - Medical Device - M...</td>\n",
       "      <td>Sr Manufacturing Engineer - Medical Device</td>\n",
       "      <td>Memphis, TN</td>\n",
       "    </tr>\n",
       "    <tr>\n",
       "      <th>1392</th>\n",
       "      <td>Data Scientist, Mid - Alexandria, VA\\nSecure o...</td>\n",
       "      <td>Data Scientist, Mid</td>\n",
       "      <td>Alexandria, VA</td>\n",
       "    </tr>\n",
       "    <tr>\n",
       "      <th>838</th>\n",
       "      <td>DEP Epidemiologist - Aberdeen Proving Ground, ...</td>\n",
       "      <td>DEP Epidemiologist</td>\n",
       "      <td>Aberdeen Proving Ground, MD</td>\n",
       "    </tr>\n",
       "    <tr>\n",
       "      <th>1071</th>\n",
       "      <td>Principle Quality Engineer - Ames, IA\\nAbout U...</td>\n",
       "      <td>Principle Quality Engineer</td>\n",
       "      <td>Ames, IA</td>\n",
       "    </tr>\n",
       "    <tr>\n",
       "      <th>921</th>\n",
       "      <td>Data Analyst - Sunnyvale, CA\\nAbout Clover:\\nJ...</td>\n",
       "      <td>Data Analyst</td>\n",
       "      <td>Sunnyvale, CA</td>\n",
       "    </tr>\n",
       "  </tbody>\n",
       "</table>\n",
       "</div>"
      ],
      "text/plain": [
       "                                                   body  \\\n",
       "48    Research Associate - Data Science - Washington...   \n",
       "1031  Physics Data Scientist - Foothill Ranch, CA\\nT...   \n",
       "1109  Data Scientist - San Francisco, CA\\nOur compan...   \n",
       "1388  Machine Learning Engineer - San Francisco, CA\\...   \n",
       "585   Operations Research Scientist - Boston, MA\\nIn...   \n",
       "1259  Sr Manufacturing Engineer - Medical Device - M...   \n",
       "1392  Data Scientist, Mid - Alexandria, VA\\nSecure o...   \n",
       "838   DEP Epidemiologist - Aberdeen Proving Ground, ...   \n",
       "1071  Principle Quality Engineer - Ames, IA\\nAbout U...   \n",
       "921   Data Analyst - Sunnyvale, CA\\nAbout Clover:\\nJ...   \n",
       "\n",
       "                                       job_title                     location  \n",
       "48             Research Associate - Data Science               Washington, DC  \n",
       "1031                      Physics Data Scientist           Foothill Ranch, CA  \n",
       "1109                              Data Scientist            San Francisco, CA  \n",
       "1388                   Machine Learning Engineer            San Francisco, CA  \n",
       "585                Operations Research Scientist                   Boston, MA  \n",
       "1259  Sr Manufacturing Engineer - Medical Device                  Memphis, TN  \n",
       "1392                         Data Scientist, Mid               Alexandria, VA  \n",
       "838                           DEP Epidemiologist  Aberdeen Proving Ground, MD  \n",
       "1071                  Principle Quality Engineer                     Ames, IA  \n",
       "921                                 Data Analyst                Sunnyvale, CA  "
      ]
     },
     "execution_count": 152,
     "metadata": {},
     "output_type": "execute_result"
    }
   ],
   "source": [
    "df.sample(10)"
   ]
  },
  {
   "cell_type": "code",
   "execution_count": 153,
   "id": "97392110",
   "metadata": {},
   "outputs": [
    {
     "data": {
      "text/plain": [
       "'Patient Care Assistant / PCA - Med/Surg (Fayette, AL)'"
      ]
     },
     "execution_count": 153,
     "metadata": {},
     "output_type": "execute_result"
    }
   ],
   "source": [
    "df['job_title'].iloc[3][:1000]"
   ]
  },
  {
   "cell_type": "code",
   "execution_count": 157,
   "id": "44147974",
   "metadata": {},
   "outputs": [],
   "source": [
    "def strip_header(row):\n",
    "    \"\"\"Remove job title and location header from job description body\"\"\"\n",
    "    body, job_title, location = row['body'], row['job_title'], row['location']\n",
    "    header = f\"{job_title} - {location}\"\n",
    "    \n",
    "    # If body starts with the exact header, remove it cleanly\n",
    "    if body.startswith(header):\n",
    "        return body[len(header):].lstrip('\\n')\n",
    "    \n",
    "    # Otherwise keep the original text\n",
    "    return body"
   ]
  },
  {
   "cell_type": "code",
   "execution_count": 156,
   "id": "814bdd3f",
   "metadata": {},
   "outputs": [
    {
     "data": {
      "text/html": [
       "<div>\n",
       "<style scoped>\n",
       "    .dataframe tbody tr th:only-of-type {\n",
       "        vertical-align: middle;\n",
       "    }\n",
       "\n",
       "    .dataframe tbody tr th {\n",
       "        vertical-align: top;\n",
       "    }\n",
       "\n",
       "    .dataframe thead th {\n",
       "        text-align: right;\n",
       "    }\n",
       "</style>\n",
       "<table border=\"1\" class=\"dataframe\">\n",
       "  <thead>\n",
       "    <tr style=\"text-align: right;\">\n",
       "      <th></th>\n",
       "      <th>body</th>\n",
       "      <th>job_title</th>\n",
       "      <th>location</th>\n",
       "    </tr>\n",
       "  </thead>\n",
       "  <tbody>\n",
       "    <tr>\n",
       "      <th>1361</th>\n",
       "      <td>QSR Store Assistant - Jacksonville, FL 32226\\n...</td>\n",
       "      <td>QSR Store Assistant</td>\n",
       "      <td>Jacksonville, FL 32226</td>\n",
       "    </tr>\n",
       "    <tr>\n",
       "      <th>776</th>\n",
       "      <td>Certified Strength and Conditioning Specialist...</td>\n",
       "      <td>Certified Strength and Conditioning Specialist</td>\n",
       "      <td>United States</td>\n",
       "    </tr>\n",
       "    <tr>\n",
       "      <th>531</th>\n",
       "      <td>Data Scientist - New York, NY 10010\\nTeam Writ...</td>\n",
       "      <td>Data Scientist</td>\n",
       "      <td>New York, NY 10010</td>\n",
       "    </tr>\n",
       "    <tr>\n",
       "      <th>530</th>\n",
       "      <td>Senior Associate- Financial Consulting Valuati...</td>\n",
       "      <td>Senior Associate- Financial Consulting Valuati...</td>\n",
       "      <td>New York, NY 10036</td>\n",
       "    </tr>\n",
       "    <tr>\n",
       "      <th>1426</th>\n",
       "      <td>Computational Biologist - Portland, OR\\nFuncti...</td>\n",
       "      <td>Computational Biologist</td>\n",
       "      <td>Portland, OR</td>\n",
       "    </tr>\n",
       "    <tr>\n",
       "      <th>77</th>\n",
       "      <td>Data Scientist, Analytics - Ads Infrastructure...</td>\n",
       "      <td>Data Scientist, Analytics - Ads Infrastructure</td>\n",
       "      <td>Seattle, WA 98101</td>\n",
       "    </tr>\n",
       "    <tr>\n",
       "      <th>371</th>\n",
       "      <td>Industrial Engineering - Data Science - Carlsb...</td>\n",
       "      <td>Industrial Engineering - Data Science</td>\n",
       "      <td>Carlsbad, CA 92009</td>\n",
       "    </tr>\n",
       "    <tr>\n",
       "      <th>486</th>\n",
       "      <td>Model Risk Manager - San Francisco, CA\\nCurren...</td>\n",
       "      <td>Model Risk Manager</td>\n",
       "      <td>San Francisco, CA</td>\n",
       "    </tr>\n",
       "    <tr>\n",
       "      <th>761</th>\n",
       "      <td>Quantitative Consumer and Product Modeler - Ci...</td>\n",
       "      <td>Quantitative Consumer and Product Modeler</td>\n",
       "      <td>Cincinnati, OH 45201</td>\n",
       "    </tr>\n",
       "    <tr>\n",
       "      <th>555</th>\n",
       "      <td>Data Scientist - Product BURLINGAME, CALIFORNI...</td>\n",
       "      <td>Data Scientist - Product BURLINGAME, CALIFORNI...</td>\n",
       "      <td>Burlingame, CA 94010</td>\n",
       "    </tr>\n",
       "  </tbody>\n",
       "</table>\n",
       "</div>"
      ],
      "text/plain": [
       "                                                   body  \\\n",
       "1361  QSR Store Assistant - Jacksonville, FL 32226\\n...   \n",
       "776   Certified Strength and Conditioning Specialist...   \n",
       "531   Data Scientist - New York, NY 10010\\nTeam Writ...   \n",
       "530   Senior Associate- Financial Consulting Valuati...   \n",
       "1426  Computational Biologist - Portland, OR\\nFuncti...   \n",
       "77    Data Scientist, Analytics - Ads Infrastructure...   \n",
       "371   Industrial Engineering - Data Science - Carlsb...   \n",
       "486   Model Risk Manager - San Francisco, CA\\nCurren...   \n",
       "761   Quantitative Consumer and Product Modeler - Ci...   \n",
       "555   Data Scientist - Product BURLINGAME, CALIFORNI...   \n",
       "\n",
       "                                              job_title  \\\n",
       "1361                                QSR Store Assistant   \n",
       "776      Certified Strength and Conditioning Specialist   \n",
       "531                                      Data Scientist   \n",
       "530   Senior Associate- Financial Consulting Valuati...   \n",
       "1426                            Computational Biologist   \n",
       "77       Data Scientist, Analytics - Ads Infrastructure   \n",
       "371               Industrial Engineering - Data Science   \n",
       "486                                  Model Risk Manager   \n",
       "761           Quantitative Consumer and Product Modeler   \n",
       "555   Data Scientist - Product BURLINGAME, CALIFORNI...   \n",
       "\n",
       "                    location  \n",
       "1361  Jacksonville, FL 32226  \n",
       "776            United States  \n",
       "531       New York, NY 10010  \n",
       "530       New York, NY 10036  \n",
       "1426            Portland, OR  \n",
       "77         Seattle, WA 98101  \n",
       "371       Carlsbad, CA 92009  \n",
       "486        San Francisco, CA  \n",
       "761     Cincinnati, OH 45201  \n",
       "555     Burlingame, CA 94010  "
      ]
     },
     "execution_count": 156,
     "metadata": {},
     "output_type": "execute_result"
    }
   ],
   "source": [
    "df.sample(10)"
   ]
  },
  {
   "cell_type": "markdown",
   "id": "48bfbdd5",
   "metadata": {},
   "source": [
    "K-means: fast, easy to apply, works well when clusters are compact, spherical and similar in size\n",
    "Expectation-Maximisation (EM): often used with Gaussian Mixture models, handles clusters with different shapes, sizes, and orientations\n",
    "- consider: scaling data, using PCA before clustering, and selecting number of clusters using BIC, AIC, silhouette score"
   ]
  }
 ],
 "metadata": {
  "kernelspec": {
   "display_name": "Python 3",
   "language": "python",
   "name": "python3"
  },
  "language_info": {
   "codemirror_mode": {
    "name": "ipython",
    "version": 3
   },
   "file_extension": ".py",
   "mimetype": "text/x-python",
   "name": "python",
   "nbconvert_exporter": "python",
   "pygments_lexer": "ipython3",
   "version": "3.13.2"
  }
 },
 "nbformat": 4,
 "nbformat_minor": 5
}
