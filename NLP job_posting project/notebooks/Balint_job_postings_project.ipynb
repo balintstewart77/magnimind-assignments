{
 "cells": [
  {
   "cell_type": "markdown",
   "id": "3960e775",
   "metadata": {},
   "source": [
    "# Project instructions\n",
    "\n",
    "1.      Parse all text from the downloaded HTML files.\n",
    "2.      Explore the parsed output to learn how job skills are described in online postings. We’ll pay particular attention to whether certain HTML tags are more associated with skill descriptions.\n",
    "3.      Attempt to filter any irrelevant job postings from the dataset.\n",
    "4.      Cluster job skills based on text similarity.\n",
    "5.      Visualize the clusters using word clouds.\n",
    "6.      Adjust clustering parameters, if necessary, to improve the visualized output.\n",
    "7.      Compare the clustered skills to our resume(*) to uncover missing skills."
   ]
  },
  {
   "cell_type": "markdown",
   "id": "b4a8def0",
   "metadata": {},
   "source": [
    "# Resume we'd like to compare postings to\n",
    "\n",
    "Experience\n",
    "\n",
    "1. Developed probability simulations using NumPy.\n",
    "2. Assessed online ad-clicks for statistical significance using Permutation testing.\n",
    "3. Analyzed disease outbreaks using common clustering algorithms.\n",
    "\n",
    "Additional Skills\n",
    "\n",
    "1. Data visualization using Matplotlib.\n",
    "2. Statistical analysis using SciPy.\n",
    "3. Processing structured tables using Pandas.\n",
    "4. Executing K-Means clustering and DBSCAN clustering using Scikit-Learn.\n",
    "5. Extracting locations from text using GeonamesCache.\n",
    "6. Location analysis and visualization using GeonamesCache and Basemap.\n",
    "7. Dimensionality reduction with PCA and SVD, using Scikit-Learn.\n",
    "8. NLP analysis and text topic detection using Scikit-Learn."
   ]
  },
  {
   "cell_type": "code",
   "execution_count": 67,
   "id": "949c8334",
   "metadata": {},
   "outputs": [],
   "source": [
    "#import libraries\n",
    "import os\n",
    "import pandas as pd\n",
    "import numpy as np\n",
    "import matplotlib.pyplot as plt\n",
    "import seaborn as sns\n",
    "\n",
    "from bs4 import BeautifulSoup"
   ]
  },
  {
   "cell_type": "markdown",
   "id": "343a28cd",
   "metadata": {},
   "source": [
    "# Import and parse the .html files\n",
    "Keep the body both with and without the html tags"
   ]
  },
  {
   "cell_type": "code",
   "execution_count": 68,
   "id": "e2dbd0f6",
   "metadata": {},
   "outputs": [],
   "source": [
    "data = []\n",
    "folder = r\"C:\\Users\\balin\\Desktop\\magnimind-assignments\\NLP job_posting project\\data\\job_postings\"\n",
    "\n",
    "for filename in os.listdir(folder):\n",
    "    if filename.endswith('.html'):\n",
    "        full_path = os.path.join(folder, filename)\n",
    "        with open(full_path, 'r', encoding='utf-8') as f:\n",
    "            soup = BeautifulSoup(f, 'lxml')\n",
    "            title = soup.title.text if soup.title else 'No Title'\n",
    "           \n",
    "            body_text = soup.body.get_text(separator='\\n', strip=True) if soup.body else ''\n",
    "            body_html = soup.body.prettify() if soup.body else ''\n",
    "            \n",
    "            data.append({'filename': filename, 'title': title, 'body_text': body_text, 'body_html': body_html})\n",
    "\n",
    "# Create a DataFrame from the list of dictionaries\n",
    "df = pd.DataFrame(data)\n"
   ]
  },
  {
   "cell_type": "markdown",
   "id": "a6dd866f",
   "metadata": {},
   "source": [
    "# Some basic dataset exploration"
   ]
  },
  {
   "cell_type": "code",
   "execution_count": 69,
   "id": "6cdeae0c",
   "metadata": {},
   "outputs": [
    {
     "data": {
      "text/html": [
       "<div>\n",
       "<style scoped>\n",
       "    .dataframe tbody tr th:only-of-type {\n",
       "        vertical-align: middle;\n",
       "    }\n",
       "\n",
       "    .dataframe tbody tr th {\n",
       "        vertical-align: top;\n",
       "    }\n",
       "\n",
       "    .dataframe thead th {\n",
       "        text-align: right;\n",
       "    }\n",
       "</style>\n",
       "<table border=\"1\" class=\"dataframe\">\n",
       "  <thead>\n",
       "    <tr style=\"text-align: right;\">\n",
       "      <th></th>\n",
       "      <th>filename</th>\n",
       "      <th>title</th>\n",
       "      <th>body_text</th>\n",
       "      <th>body_html</th>\n",
       "    </tr>\n",
       "  </thead>\n",
       "  <tbody>\n",
       "  </tbody>\n",
       "</table>\n",
       "</div>"
      ],
      "text/plain": [
       "Empty DataFrame\n",
       "Columns: [filename, title, body_text, body_html]\n",
       "Index: []"
      ]
     },
     "execution_count": 69,
     "metadata": {},
     "output_type": "execute_result"
    }
   ],
   "source": [
    "# Check for any nulls in the title\n",
    "df[df['title'] == 'No Title']"
   ]
  },
  {
   "cell_type": "code",
   "execution_count": 70,
   "id": "963cd939",
   "metadata": {},
   "outputs": [
    {
     "name": "stdout",
     "output_type": "stream",
     "text": [
      "Index(['filename', 'title', 'body_text', 'body_html'], dtype='object')\n"
     ]
    }
   ],
   "source": [
    "print(df.columns)"
   ]
  },
  {
   "cell_type": "code",
   "execution_count": 71,
   "id": "a9c48bc9",
   "metadata": {},
   "outputs": [
    {
     "data": {
      "text/plain": [
       "(1458, 4)"
      ]
     },
     "execution_count": 71,
     "metadata": {},
     "output_type": "execute_result"
    }
   ],
   "source": [
    "df.shape"
   ]
  },
  {
   "cell_type": "code",
   "execution_count": 72,
   "id": "5aab7e37",
   "metadata": {},
   "outputs": [
    {
     "data": {
      "text/html": [
       "<div>\n",
       "<style scoped>\n",
       "    .dataframe tbody tr th:only-of-type {\n",
       "        vertical-align: middle;\n",
       "    }\n",
       "\n",
       "    .dataframe tbody tr th {\n",
       "        vertical-align: top;\n",
       "    }\n",
       "\n",
       "    .dataframe thead th {\n",
       "        text-align: right;\n",
       "    }\n",
       "</style>\n",
       "<table border=\"1\" class=\"dataframe\">\n",
       "  <thead>\n",
       "    <tr style=\"text-align: right;\">\n",
       "      <th></th>\n",
       "      <th>filename</th>\n",
       "      <th>title</th>\n",
       "      <th>body_text</th>\n",
       "      <th>body_html</th>\n",
       "    </tr>\n",
       "  </thead>\n",
       "  <tbody>\n",
       "    <tr>\n",
       "      <th>0</th>\n",
       "      <td>001b92395ed0fb62.html</td>\n",
       "      <td>Data Scientist - Beavercreek, OH</td>\n",
       "      <td>Data Scientist - Beavercreek, OH\\nData Scienti...</td>\n",
       "      <td>&lt;body&gt;\\n &lt;h2&gt;\\n  Data Scientist - Beavercreek,...</td>\n",
       "    </tr>\n",
       "    <tr>\n",
       "      <th>1</th>\n",
       "      <td>00321a48d04fe754.html</td>\n",
       "      <td>Data Scientist - Seattle, WA 98101</td>\n",
       "      <td>Data Scientist - Seattle, WA 98101\\nAre you in...</td>\n",
       "      <td>&lt;body&gt;\\n &lt;h2&gt;\\n  Data Scientist - Seattle, WA ...</td>\n",
       "    </tr>\n",
       "    <tr>\n",
       "      <th>2</th>\n",
       "      <td>0079c11b2611349f.html</td>\n",
       "      <td>Data Scientist - Newark, CA</td>\n",
       "      <td>Data Scientist - Newark, CA\\nData Scientist\\nN...</td>\n",
       "      <td>&lt;body&gt;\\n &lt;h2&gt;\\n  Data Scientist - Newark, CA\\n...</td>\n",
       "    </tr>\n",
       "    <tr>\n",
       "      <th>3</th>\n",
       "      <td>007d9d7b5c09d820.html</td>\n",
       "      <td>Patient Care Assistant / PCA - Med/Surg (Fayet...</td>\n",
       "      <td>Patient Care Assistant / PCA - Med/Surg (Fayet...</td>\n",
       "      <td>&lt;body&gt;\\n &lt;h2&gt;\\n  Patient Care Assistant / PCA ...</td>\n",
       "    </tr>\n",
       "    <tr>\n",
       "      <th>4</th>\n",
       "      <td>00bf37ae19c7dfd7.html</td>\n",
       "      <td>Data Manager / Analyst - Oakland, CA</td>\n",
       "      <td>Data Manager / Analyst - Oakland, CA\\nHOW YOU ...</td>\n",
       "      <td>&lt;body&gt;\\n &lt;h2&gt;\\n  Data Manager / Analyst - Oakl...</td>\n",
       "    </tr>\n",
       "    <tr>\n",
       "      <th>5</th>\n",
       "      <td>0125eabc844281c9.html</td>\n",
       "      <td>Scientific Programmer - Berkeley, CA</td>\n",
       "      <td>Scientific Programmer - Berkeley, CA\\nCaribou ...</td>\n",
       "      <td>&lt;body&gt;\\n &lt;h2&gt;\\n  Scientific Programmer - Berke...</td>\n",
       "    </tr>\n",
       "    <tr>\n",
       "      <th>6</th>\n",
       "      <td>014ae4dbded805d2.html</td>\n",
       "      <td>JD Digits - AI Lab Research Intern - Mountain ...</td>\n",
       "      <td>JD Digits - AI Lab Research Intern - Mountain ...</td>\n",
       "      <td>&lt;body&gt;\\n &lt;h2&gt;\\n  JD Digits - AI Lab Research I...</td>\n",
       "    </tr>\n",
       "    <tr>\n",
       "      <th>7</th>\n",
       "      <td>014ea972a4aa9812.html</td>\n",
       "      <td>Operations and Technology Summer 2020 Internsh...</td>\n",
       "      <td>Operations and Technology Summer 2020 Internsh...</td>\n",
       "      <td>&lt;body&gt;\\n &lt;h2&gt;\\n  Operations and Technology Sum...</td>\n",
       "    </tr>\n",
       "    <tr>\n",
       "      <th>8</th>\n",
       "      <td>0179ea131f141400.html</td>\n",
       "      <td>PwC Labs - Jr. Data Scientist - Machine Learni...</td>\n",
       "      <td>PwC Labs - Jr. Data Scientist - Machine Learni...</td>\n",
       "      <td>&lt;body&gt;\\n &lt;h2&gt;\\n  PwC Labs - Jr. Data Scientist...</td>\n",
       "    </tr>\n",
       "    <tr>\n",
       "      <th>9</th>\n",
       "      <td>018866568cd5a0b0.html</td>\n",
       "      <td>Data and Reporting Analyst - Olympia, WA 98501</td>\n",
       "      <td>Data and Reporting Analyst - Olympia, WA 98501...</td>\n",
       "      <td>&lt;body&gt;\\n &lt;h2&gt;\\n  Data and Reporting Analyst - ...</td>\n",
       "    </tr>\n",
       "  </tbody>\n",
       "</table>\n",
       "</div>"
      ],
      "text/plain": [
       "                filename                                              title  \\\n",
       "0  001b92395ed0fb62.html                   Data Scientist - Beavercreek, OH   \n",
       "1  00321a48d04fe754.html                 Data Scientist - Seattle, WA 98101   \n",
       "2  0079c11b2611349f.html                        Data Scientist - Newark, CA   \n",
       "3  007d9d7b5c09d820.html  Patient Care Assistant / PCA - Med/Surg (Fayet...   \n",
       "4  00bf37ae19c7dfd7.html               Data Manager / Analyst - Oakland, CA   \n",
       "5  0125eabc844281c9.html               Scientific Programmer - Berkeley, CA   \n",
       "6  014ae4dbded805d2.html  JD Digits - AI Lab Research Intern - Mountain ...   \n",
       "7  014ea972a4aa9812.html  Operations and Technology Summer 2020 Internsh...   \n",
       "8  0179ea131f141400.html  PwC Labs - Jr. Data Scientist - Machine Learni...   \n",
       "9  018866568cd5a0b0.html     Data and Reporting Analyst - Olympia, WA 98501   \n",
       "\n",
       "                                           body_text  \\\n",
       "0  Data Scientist - Beavercreek, OH\\nData Scienti...   \n",
       "1  Data Scientist - Seattle, WA 98101\\nAre you in...   \n",
       "2  Data Scientist - Newark, CA\\nData Scientist\\nN...   \n",
       "3  Patient Care Assistant / PCA - Med/Surg (Fayet...   \n",
       "4  Data Manager / Analyst - Oakland, CA\\nHOW YOU ...   \n",
       "5  Scientific Programmer - Berkeley, CA\\nCaribou ...   \n",
       "6  JD Digits - AI Lab Research Intern - Mountain ...   \n",
       "7  Operations and Technology Summer 2020 Internsh...   \n",
       "8  PwC Labs - Jr. Data Scientist - Machine Learni...   \n",
       "9  Data and Reporting Analyst - Olympia, WA 98501...   \n",
       "\n",
       "                                           body_html  \n",
       "0  <body>\\n <h2>\\n  Data Scientist - Beavercreek,...  \n",
       "1  <body>\\n <h2>\\n  Data Scientist - Seattle, WA ...  \n",
       "2  <body>\\n <h2>\\n  Data Scientist - Newark, CA\\n...  \n",
       "3  <body>\\n <h2>\\n  Patient Care Assistant / PCA ...  \n",
       "4  <body>\\n <h2>\\n  Data Manager / Analyst - Oakl...  \n",
       "5  <body>\\n <h2>\\n  Scientific Programmer - Berke...  \n",
       "6  <body>\\n <h2>\\n  JD Digits - AI Lab Research I...  \n",
       "7  <body>\\n <h2>\\n  Operations and Technology Sum...  \n",
       "8  <body>\\n <h2>\\n  PwC Labs - Jr. Data Scientist...  \n",
       "9  <body>\\n <h2>\\n  Data and Reporting Analyst - ...  "
      ]
     },
     "execution_count": 72,
     "metadata": {},
     "output_type": "execute_result"
    }
   ],
   "source": [
    "df.head(10)"
   ]
  },
  {
   "cell_type": "code",
   "execution_count": 73,
   "id": "6fcdd905",
   "metadata": {},
   "outputs": [
    {
     "data": {
      "text/html": [
       "<div>\n",
       "<style scoped>\n",
       "    .dataframe tbody tr th:only-of-type {\n",
       "        vertical-align: middle;\n",
       "    }\n",
       "\n",
       "    .dataframe tbody tr th {\n",
       "        vertical-align: top;\n",
       "    }\n",
       "\n",
       "    .dataframe thead th {\n",
       "        text-align: right;\n",
       "    }\n",
       "</style>\n",
       "<table border=\"1\" class=\"dataframe\">\n",
       "  <thead>\n",
       "    <tr style=\"text-align: right;\">\n",
       "      <th></th>\n",
       "      <th>filename</th>\n",
       "      <th>title</th>\n",
       "      <th>body_text</th>\n",
       "      <th>body_html</th>\n",
       "    </tr>\n",
       "  </thead>\n",
       "  <tbody>\n",
       "    <tr>\n",
       "      <th>count</th>\n",
       "      <td>1458</td>\n",
       "      <td>1458</td>\n",
       "      <td>1458</td>\n",
       "      <td>1458</td>\n",
       "    </tr>\n",
       "    <tr>\n",
       "      <th>unique</th>\n",
       "      <td>1458</td>\n",
       "      <td>1364</td>\n",
       "      <td>1457</td>\n",
       "      <td>1457</td>\n",
       "    </tr>\n",
       "    <tr>\n",
       "      <th>top</th>\n",
       "      <td>_p.html</td>\n",
       "      <td>Data Scientist - New York, NY</td>\n",
       "      <td>Physics Data Scientist - Foothill Ranch, CA\\nT...</td>\n",
       "      <td>&lt;body&gt;\\n &lt;h2&gt;\\n  Physics Data Scientist - Foot...</td>\n",
       "    </tr>\n",
       "    <tr>\n",
       "      <th>freq</th>\n",
       "      <td>1</td>\n",
       "      <td>13</td>\n",
       "      <td>2</td>\n",
       "      <td>2</td>\n",
       "    </tr>\n",
       "  </tbody>\n",
       "</table>\n",
       "</div>"
      ],
      "text/plain": [
       "       filename                          title  \\\n",
       "count      1458                           1458   \n",
       "unique     1458                           1364   \n",
       "top     _p.html  Data Scientist - New York, NY   \n",
       "freq          1                             13   \n",
       "\n",
       "                                                body_text  \\\n",
       "count                                                1458   \n",
       "unique                                               1457   \n",
       "top     Physics Data Scientist - Foothill Ranch, CA\\nT...   \n",
       "freq                                                    2   \n",
       "\n",
       "                                                body_html  \n",
       "count                                                1458  \n",
       "unique                                               1457  \n",
       "top     <body>\\n <h2>\\n  Physics Data Scientist - Foot...  \n",
       "freq                                                    2  "
      ]
     },
     "execution_count": 73,
     "metadata": {},
     "output_type": "execute_result"
    }
   ],
   "source": [
    "df.describe()\n"
   ]
  },
  {
   "cell_type": "code",
   "execution_count": 74,
   "id": "2f65ff5f",
   "metadata": {},
   "outputs": [
    {
     "data": {
      "text/plain": [
       "count     1458.000000\n",
       "mean      4222.222222\n",
       "std       2052.157912\n",
       "min         30.000000\n",
       "25%       2904.250000\n",
       "50%       3878.000000\n",
       "75%       5042.000000\n",
       "max      19040.000000\n",
       "Name: body_text_length, dtype: float64"
      ]
     },
     "execution_count": 74,
     "metadata": {},
     "output_type": "execute_result"
    }
   ],
   "source": [
    "# get simple statistics about length of body_text\n",
    "df['body_text_length'] = df['body_text'].apply(len)\n",
    "df['body_text_length'].describe()\n"
   ]
  },
  {
   "cell_type": "code",
   "execution_count": 75,
   "id": "1bb71a23",
   "metadata": {},
   "outputs": [
    {
     "data": {
      "image/png": "[encoded data removed]",
      "text/plain": [
       "<Figure size 1200x600 with 1 Axes>"
      ]
     },
     "metadata": {},
     "output_type": "display_data"
    }
   ],
   "source": [
    "df['body_text_length'].hist(bins=50, figsize=(12, 6))\n",
    "plt.title('Distribution of Body Text Lengths')\n",
    "plt.xlabel('Length of Body Text in characters')\n",
    "plt.ylabel('Frequency')\n",
    "plt.show()"
   ]
  },
  {
   "cell_type": "markdown",
   "id": "c495c635",
   "metadata": {},
   "source": [
    "Some right-skew in the data, peak ~4000 characters inc. spaces, most fall between 2,000 and 7000 chars. some outliers w/very long descriptions"
   ]
  },
  {
   "cell_type": "code",
   "execution_count": 76,
   "id": "e354762e",
   "metadata": {},
   "outputs": [
    {
     "name": "stdout",
     "output_type": "stream",
     "text": [
      "<class 'pandas.core.frame.DataFrame'>\n",
      "RangeIndex: 1458 entries, 0 to 1457\n",
      "Data columns (total 5 columns):\n",
      " #   Column            Non-Null Count  Dtype \n",
      "---  ------            --------------  ----- \n",
      " 0   filename          1458 non-null   object\n",
      " 1   title             1458 non-null   object\n",
      " 2   body_text         1458 non-null   object\n",
      " 3   body_html         1458 non-null   object\n",
      " 4   body_text_length  1458 non-null   int64 \n",
      "dtypes: int64(1), object(4)\n",
      "memory usage: 57.1+ KB\n"
     ]
    }
   ],
   "source": [
    "df.info()"
   ]
  },
  {
   "cell_type": "code",
   "execution_count": 77,
   "id": "f0c1becd",
   "metadata": {},
   "outputs": [
    {
     "data": {
      "text/plain": [
       "2"
      ]
     },
     "execution_count": 77,
     "metadata": {},
     "output_type": "execute_result"
    }
   ],
   "source": [
    "# Any duplicates based on the 'body_text' column\n",
    "df[df['body_text'].duplicated(keep=False)].shape[0]"
   ]
  },
  {
   "cell_type": "code",
   "execution_count": 78,
   "id": "fca15e30",
   "metadata": {},
   "outputs": [],
   "source": [
    "df = df.drop_duplicates(subset=['body_text'], keep='first')"
   ]
  },
  {
   "cell_type": "code",
   "execution_count": 79,
   "id": "7f58d415",
   "metadata": {},
   "outputs": [
    {
     "data": {
      "text/plain": [
       "(1457, 5)"
      ]
     },
     "execution_count": 79,
     "metadata": {},
     "output_type": "execute_result"
    }
   ],
   "source": [
    "df.shape"
   ]
  },
  {
   "cell_type": "markdown",
   "id": "aaff0091",
   "metadata": {},
   "source": [
    "# Clean the data"
   ]
  },
  {
   "cell_type": "code",
   "execution_count": 80,
   "id": "22aa085d",
   "metadata": {},
   "outputs": [
    {
     "data": {
      "text/plain": [
       "'PwC Labs - Jr. Data Scientist - Machine Learning (NLP) - Tampa, FL 33607\\nPwC Labs is focused on standardizing, automating, delivering tools and processes and exploring emerging technologies that drive efficiency and enable our people to reimagine the possible. Process improvement, transformation, effective use of innovative technology and data & analytics, and leveraging alternative delivery solutions are key areas of focus to drive additional value for our firm. The AI Lab focuses on implementing solutions that impact efficiency and effectiveness of our technology functions. Process improvement, transformation, effective use of technology and data & analytics, and leveraging alternative delivery are key areas to drive value and continue to be recognized as the leading professional services firm. AI Lab is focused on identifying and prioritizing emerging technologies to get the most out of our investments.\\nTo really stand out and make us ?t for the future in a constantly changing world'"
      ]
     },
     "execution_count": 80,
     "metadata": {},
     "output_type": "execute_result"
    }
   ],
   "source": [
    "df['body_text'][df['filename'] == '0179ea131f141400.html'].values[0][:1000]"
   ]
  },
  {
   "cell_type": "code",
   "execution_count": 81,
   "id": "d126c651",
   "metadata": {},
   "outputs": [],
   "source": [
    "# Split the title roughly into job title and location on the last separator \n",
    "split = df['title'].str.rsplit(' - ', n=1, expand=True)\n",
    "df['job_title'] = split[0]\n",
    "df['location']  = split[1].fillna('Unknown') # for no location"
   ]
  },
  {
   "cell_type": "code",
   "execution_count": 82,
   "id": "504d2d2c",
   "metadata": {},
   "outputs": [],
   "source": [
    "df.drop(columns=['title','filename'], inplace=True)"
   ]
  },
  {
   "cell_type": "code",
   "execution_count": 83,
   "id": "7ff1baad",
   "metadata": {},
   "outputs": [
    {
     "data": {
      "text/html": [
       "<div>\n",
       "<style scoped>\n",
       "    .dataframe tbody tr th:only-of-type {\n",
       "        vertical-align: middle;\n",
       "    }\n",
       "\n",
       "    .dataframe tbody tr th {\n",
       "        vertical-align: top;\n",
       "    }\n",
       "\n",
       "    .dataframe thead th {\n",
       "        text-align: right;\n",
       "    }\n",
       "</style>\n",
       "<table border=\"1\" class=\"dataframe\">\n",
       "  <thead>\n",
       "    <tr style=\"text-align: right;\">\n",
       "      <th></th>\n",
       "      <th>body_text</th>\n",
       "      <th>body_html</th>\n",
       "      <th>body_text_length</th>\n",
       "      <th>job_title</th>\n",
       "      <th>location</th>\n",
       "    </tr>\n",
       "  </thead>\n",
       "  <tbody>\n",
       "    <tr>\n",
       "      <th>1303</th>\n",
       "      <td>Data and Policy Analyst - Writer/Coordinator -...</td>\n",
       "      <td>&lt;body&gt;\\n &lt;h2&gt;\\n  Data and Policy Analyst - Wri...</td>\n",
       "      <td>2304</td>\n",
       "      <td>Data and Policy Analyst - Writer/Coordinator</td>\n",
       "      <td>Burlingame, CA 94010</td>\n",
       "    </tr>\n",
       "    <tr>\n",
       "      <th>1189</th>\n",
       "      <td>Leadership Partner, Data and Analytics - West ...</td>\n",
       "      <td>&lt;body&gt;\\n &lt;h2&gt;\\n  Leadership Partner, Data and ...</td>\n",
       "      <td>8348</td>\n",
       "      <td>Leadership Partner, Data and Analytics - West ...</td>\n",
       "      <td>Seattle, WA</td>\n",
       "    </tr>\n",
       "    <tr>\n",
       "      <th>1233</th>\n",
       "      <td>Data Scientist - New York, NY\\nRevlon has deve...</td>\n",
       "      <td>&lt;body&gt;\\n &lt;h2&gt;\\n  Data Scientist - New York, NY...</td>\n",
       "      <td>2708</td>\n",
       "      <td>Data Scientist</td>\n",
       "      <td>New York, NY</td>\n",
       "    </tr>\n",
       "    <tr>\n",
       "      <th>505</th>\n",
       "      <td>Environmental Coordinator - Tempe, AZ\\nCircle ...</td>\n",
       "      <td>&lt;body&gt;\\n &lt;h2&gt;\\n  Environmental Coordinator - T...</td>\n",
       "      <td>2372</td>\n",
       "      <td>Environmental Coordinator</td>\n",
       "      <td>Tempe, AZ</td>\n",
       "    </tr>\n",
       "    <tr>\n",
       "      <th>1055</th>\n",
       "      <td>Manager, Data Scientist, Natural Language Proc...</td>\n",
       "      <td>&lt;body&gt;\\n &lt;h2&gt;\\n  Manager, Data Scientist, Natu...</td>\n",
       "      <td>5371</td>\n",
       "      <td>Manager, Data Scientist, Natural Language Proc...</td>\n",
       "      <td>Seattle, WA 98101</td>\n",
       "    </tr>\n",
       "    <tr>\n",
       "      <th>1294</th>\n",
       "      <td>Data Engineer - New York, NY\\nJob Description\\...</td>\n",
       "      <td>&lt;body&gt;\\n &lt;h2&gt;\\n  Data Engineer - New York, NY\\...</td>\n",
       "      <td>2183</td>\n",
       "      <td>Data Engineer</td>\n",
       "      <td>New York, NY</td>\n",
       "    </tr>\n",
       "    <tr>\n",
       "      <th>1186</th>\n",
       "      <td>Sr. Associate, Natural Language Processing Dat...</td>\n",
       "      <td>&lt;body&gt;\\n &lt;h2&gt;\\n  Sr. Associate, Natural Langua...</td>\n",
       "      <td>5094</td>\n",
       "      <td>Sr. Associate, Natural Language Processing Dat...</td>\n",
       "      <td>Dallas, TX 75201</td>\n",
       "    </tr>\n",
       "    <tr>\n",
       "      <th>959</th>\n",
       "      <td>Senior Front End Engineer - New York, NY\\nProm...</td>\n",
       "      <td>&lt;body&gt;\\n &lt;h2&gt;\\n  Senior Front End Engineer - N...</td>\n",
       "      <td>2336</td>\n",
       "      <td>Senior Front End Engineer</td>\n",
       "      <td>New York, NY</td>\n",
       "    </tr>\n",
       "    <tr>\n",
       "      <th>569</th>\n",
       "      <td>Health Services Data &amp; Reporting Analyst - San...</td>\n",
       "      <td>&lt;body&gt;\\n &lt;h2&gt;\\n  Health Services Data &amp;amp; Re...</td>\n",
       "      <td>9726</td>\n",
       "      <td>Health Services Data &amp; Reporting Analyst</td>\n",
       "      <td>Santa Rosa, CA 95404</td>\n",
       "    </tr>\n",
       "    <tr>\n",
       "      <th>1301</th>\n",
       "      <td>Assistant Research Professor, Computational Si...</td>\n",
       "      <td>&lt;body&gt;\\n &lt;h2&gt;\\n  Assistant Research Professor,...</td>\n",
       "      <td>6070</td>\n",
       "      <td>Assistant Research Professor, Computational Si...</td>\n",
       "      <td>Orlando, FL</td>\n",
       "    </tr>\n",
       "  </tbody>\n",
       "</table>\n",
       "</div>"
      ],
      "text/plain": [
       "                                              body_text  \\\n",
       "1303  Data and Policy Analyst - Writer/Coordinator -...   \n",
       "1189  Leadership Partner, Data and Analytics - West ...   \n",
       "1233  Data Scientist - New York, NY\\nRevlon has deve...   \n",
       "505   Environmental Coordinator - Tempe, AZ\\nCircle ...   \n",
       "1055  Manager, Data Scientist, Natural Language Proc...   \n",
       "1294  Data Engineer - New York, NY\\nJob Description\\...   \n",
       "1186  Sr. Associate, Natural Language Processing Dat...   \n",
       "959   Senior Front End Engineer - New York, NY\\nProm...   \n",
       "569   Health Services Data & Reporting Analyst - San...   \n",
       "1301  Assistant Research Professor, Computational Si...   \n",
       "\n",
       "                                              body_html  body_text_length  \\\n",
       "1303  <body>\\n <h2>\\n  Data and Policy Analyst - Wri...              2304   \n",
       "1189  <body>\\n <h2>\\n  Leadership Partner, Data and ...              8348   \n",
       "1233  <body>\\n <h2>\\n  Data Scientist - New York, NY...              2708   \n",
       "505   <body>\\n <h2>\\n  Environmental Coordinator - T...              2372   \n",
       "1055  <body>\\n <h2>\\n  Manager, Data Scientist, Natu...              5371   \n",
       "1294  <body>\\n <h2>\\n  Data Engineer - New York, NY\\...              2183   \n",
       "1186  <body>\\n <h2>\\n  Sr. Associate, Natural Langua...              5094   \n",
       "959   <body>\\n <h2>\\n  Senior Front End Engineer - N...              2336   \n",
       "569   <body>\\n <h2>\\n  Health Services Data &amp; Re...              9726   \n",
       "1301  <body>\\n <h2>\\n  Assistant Research Professor,...              6070   \n",
       "\n",
       "                                              job_title              location  \n",
       "1303       Data and Policy Analyst - Writer/Coordinator  Burlingame, CA 94010  \n",
       "1189  Leadership Partner, Data and Analytics - West ...           Seattle, WA  \n",
       "1233                                     Data Scientist          New York, NY  \n",
       "505                           Environmental Coordinator             Tempe, AZ  \n",
       "1055  Manager, Data Scientist, Natural Language Proc...     Seattle, WA 98101  \n",
       "1294                                      Data Engineer          New York, NY  \n",
       "1186  Sr. Associate, Natural Language Processing Dat...      Dallas, TX 75201  \n",
       "959                           Senior Front End Engineer          New York, NY  \n",
       "569            Health Services Data & Reporting Analyst  Santa Rosa, CA 95404  \n",
       "1301  Assistant Research Professor, Computational Si...           Orlando, FL  "
      ]
     },
     "execution_count": 83,
     "metadata": {},
     "output_type": "execute_result"
    }
   ],
   "source": [
    "df.sample(10)"
   ]
  },
  {
   "cell_type": "code",
   "execution_count": 84,
   "id": "44147974",
   "metadata": {},
   "outputs": [],
   "source": [
    "def strip_header(row):\n",
    "    \"\"\"Remove job title and location header from job description body\"\"\"\n",
    "    body_text, job_title, location = row['body_text'], row['job_title'], row['location']\n",
    "    header = f\"{job_title} - {location}\"\n",
    "    \n",
    "    # If body starts with the exact header, remove it cleanly\n",
    "    if body_text.startswith(header):\n",
    "        return body_text[len(header):].lstrip('\\n')\n",
    "    \n",
    "    # Otherwise keep the original text\n",
    "    return body_text\n",
    "\n",
    "df['body_text'] = df.apply(strip_header, axis=1)\n"
   ]
  },
  {
   "cell_type": "code",
   "execution_count": 85,
   "id": "814bdd3f",
   "metadata": {},
   "outputs": [
    {
     "data": {
      "text/html": [
       "<div>\n",
       "<style scoped>\n",
       "    .dataframe tbody tr th:only-of-type {\n",
       "        vertical-align: middle;\n",
       "    }\n",
       "\n",
       "    .dataframe tbody tr th {\n",
       "        vertical-align: top;\n",
       "    }\n",
       "\n",
       "    .dataframe thead th {\n",
       "        text-align: right;\n",
       "    }\n",
       "</style>\n",
       "<table border=\"1\" class=\"dataframe\">\n",
       "  <thead>\n",
       "    <tr style=\"text-align: right;\">\n",
       "      <th></th>\n",
       "      <th>body_text</th>\n",
       "      <th>body_html</th>\n",
       "      <th>body_text_length</th>\n",
       "      <th>job_title</th>\n",
       "      <th>location</th>\n",
       "    </tr>\n",
       "  </thead>\n",
       "  <tbody>\n",
       "    <tr>\n",
       "      <th>1109</th>\n",
       "      <td>Our company\\nChanging the world through digita...</td>\n",
       "      <td>&lt;body&gt;\\n &lt;h2&gt;\\n  Data Scientist - San Francisc...</td>\n",
       "      <td>4083</td>\n",
       "      <td>Data Scientist</td>\n",
       "      <td>San Francisco, CA</td>\n",
       "    </tr>\n",
       "    <tr>\n",
       "      <th>1386</th>\n",
       "      <td>Faire is using machine learning to change whol...</td>\n",
       "      <td>&lt;body&gt;\\n &lt;h2&gt;\\n  Lead Data Scientist - Ranking...</td>\n",
       "      <td>4798</td>\n",
       "      <td>Lead Data Scientist - Ranking Algorithms</td>\n",
       "      <td>San Francisco, CA</td>\n",
       "    </tr>\n",
       "    <tr>\n",
       "      <th>707</th>\n",
       "      <td>Summary\\nPosted:\\nSep 17, 2019\\nWeekly Hours:\\...</td>\n",
       "      <td>&lt;body&gt;\\n &lt;h2&gt;\\n  Machine Learning - Operations...</td>\n",
       "      <td>4370</td>\n",
       "      <td>Machine Learning - Operations</td>\n",
       "      <td>Santa Clara Valley, CA 95014</td>\n",
       "    </tr>\n",
       "    <tr>\n",
       "      <th>576</th>\n",
       "      <td>Summary:\\nA proven leader who is passionate ab...</td>\n",
       "      <td>&lt;body&gt;\\n &lt;h2&gt;\\n  Director, Data Engineering - ...</td>\n",
       "      <td>1984</td>\n",
       "      <td>Director, Data Engineering</td>\n",
       "      <td>New York, NY</td>\n",
       "    </tr>\n",
       "    <tr>\n",
       "      <th>380</th>\n",
       "      <td>The Bank of New York Mellon seeks Senior Speci...</td>\n",
       "      <td>&lt;body&gt;\\n &lt;h2&gt;\\n  SrSpec, Model Dev - New York,...</td>\n",
       "      <td>2808</td>\n",
       "      <td>SrSpec, Model Dev</td>\n",
       "      <td>New York, NY</td>\n",
       "    </tr>\n",
       "    <tr>\n",
       "      <th>571</th>\n",
       "      <td>The Oakland IRC’s Health and Wellness programs...</td>\n",
       "      <td>&lt;body&gt;\\n &lt;h2&gt;\\n  Wellness Promoter - Oakland, ...</td>\n",
       "      <td>4548</td>\n",
       "      <td>Wellness Promoter</td>\n",
       "      <td>Oakland, CA 94610</td>\n",
       "    </tr>\n",
       "    <tr>\n",
       "      <th>682</th>\n",
       "      <td>PlayStation isn't just the Best Place to Play ...</td>\n",
       "      <td>&lt;body&gt;\\n &lt;h2&gt;\\n  Data Science Intern - San Mat...</td>\n",
       "      <td>2647</td>\n",
       "      <td>Data Science Intern</td>\n",
       "      <td>San Mateo, CA</td>\n",
       "    </tr>\n",
       "    <tr>\n",
       "      <th>335</th>\n",
       "      <td>A BIT ABOUT OUR DATA SCIENCE &amp; ANALYTICS TEAM\\...</td>\n",
       "      <td>&lt;body&gt;\\n &lt;h2&gt;\\n  Data Scientist - New York, NY...</td>\n",
       "      <td>3502</td>\n",
       "      <td>Data Scientist</td>\n",
       "      <td>New York, NY</td>\n",
       "    </tr>\n",
       "    <tr>\n",
       "      <th>934</th>\n",
       "      <td>Job Requisition Number:\\n20190819J4\\nJob Title...</td>\n",
       "      <td>&lt;body&gt;\\n &lt;h2&gt;\\n  Senior Engineer (Software) - ...</td>\n",
       "      <td>3024</td>\n",
       "      <td>Senior Engineer (Software)</td>\n",
       "      <td>San Diego, CA 92110</td>\n",
       "    </tr>\n",
       "    <tr>\n",
       "      <th>662</th>\n",
       "      <td>Who we are:\\nBraviant is a leading provider of...</td>\n",
       "      <td>&lt;body&gt;\\n &lt;h2&gt;\\n  Data Science Lead - Chicago, ...</td>\n",
       "      <td>4039</td>\n",
       "      <td>Data Science Lead</td>\n",
       "      <td>Chicago, IL</td>\n",
       "    </tr>\n",
       "  </tbody>\n",
       "</table>\n",
       "</div>"
      ],
      "text/plain": [
       "                                              body_text  \\\n",
       "1109  Our company\\nChanging the world through digita...   \n",
       "1386  Faire is using machine learning to change whol...   \n",
       "707   Summary\\nPosted:\\nSep 17, 2019\\nWeekly Hours:\\...   \n",
       "576   Summary:\\nA proven leader who is passionate ab...   \n",
       "380   The Bank of New York Mellon seeks Senior Speci...   \n",
       "571   The Oakland IRC’s Health and Wellness programs...   \n",
       "682   PlayStation isn't just the Best Place to Play ...   \n",
       "335   A BIT ABOUT OUR DATA SCIENCE & ANALYTICS TEAM\\...   \n",
       "934   Job Requisition Number:\\n20190819J4\\nJob Title...   \n",
       "662   Who we are:\\nBraviant is a leading provider of...   \n",
       "\n",
       "                                              body_html  body_text_length  \\\n",
       "1109  <body>\\n <h2>\\n  Data Scientist - San Francisc...              4083   \n",
       "1386  <body>\\n <h2>\\n  Lead Data Scientist - Ranking...              4798   \n",
       "707   <body>\\n <h2>\\n  Machine Learning - Operations...              4370   \n",
       "576   <body>\\n <h2>\\n  Director, Data Engineering - ...              1984   \n",
       "380   <body>\\n <h2>\\n  SrSpec, Model Dev - New York,...              2808   \n",
       "571   <body>\\n <h2>\\n  Wellness Promoter - Oakland, ...              4548   \n",
       "682   <body>\\n <h2>\\n  Data Science Intern - San Mat...              2647   \n",
       "335   <body>\\n <h2>\\n  Data Scientist - New York, NY...              3502   \n",
       "934   <body>\\n <h2>\\n  Senior Engineer (Software) - ...              3024   \n",
       "662   <body>\\n <h2>\\n  Data Science Lead - Chicago, ...              4039   \n",
       "\n",
       "                                     job_title                      location  \n",
       "1109                            Data Scientist             San Francisco, CA  \n",
       "1386  Lead Data Scientist - Ranking Algorithms             San Francisco, CA  \n",
       "707              Machine Learning - Operations  Santa Clara Valley, CA 95014  \n",
       "576                 Director, Data Engineering                  New York, NY  \n",
       "380                          SrSpec, Model Dev                  New York, NY  \n",
       "571                          Wellness Promoter             Oakland, CA 94610  \n",
       "682                        Data Science Intern                 San Mateo, CA  \n",
       "335                             Data Scientist                  New York, NY  \n",
       "934                 Senior Engineer (Software)           San Diego, CA 92110  \n",
       "662                          Data Science Lead                   Chicago, IL  "
      ]
     },
     "execution_count": 85,
     "metadata": {},
     "output_type": "execute_result"
    }
   ],
   "source": [
    "df.sample(10)"
   ]
  },
  {
   "cell_type": "code",
   "execution_count": 86,
   "id": "f1d90b41",
   "metadata": {},
   "outputs": [
    {
     "data": {
      "text/plain": [
       "'<body>\\n <h2>\\n  Patient Care Assistant / PCA - Med/Surg (Fayette, AL) - Fayette, AL\\n </h2>\\n <h1 class=\"jobSectionHeader\">\\n  <b>\\n   Performance Planning\\n  </b>\\n </h1>\\n <p>\\n  Provides personal care and support services under the supervision of a registered nurse that assists the patient in the achievement of physical and emotional comfort.\\n </p>\\n <h1 class=\"jobSectionHeader\">\\n  <b>\\n   Key Responsibilities/Essential Functions\\n  </b>\\n </h1>\\n <ul>\\n  <li>\\n   Provides all personal care services in accordance with the plan of treatment assigned by the registered nurse\\n  </li>\\n  <li>\\n   Accurately documents care provided\\n  </li>\\n  <li>\\n   Applies safety principles and proper body mechanics to the performance of specific techniques of personal and supportive care, such as ambulation of patients, transferring patients, assisting with normal range of motions and positioning\\n  </li>\\n  <li>\\n   Participates in economical utilization of supplies and ensures that equipment and nursing units are maintain'"
      ]
     },
     "execution_count": 86,
     "metadata": {},
     "output_type": "execute_result"
    }
   ],
   "source": [
    "df['body_html'].iloc[3][:1000]"
   ]
  },
  {
   "cell_type": "markdown",
   "id": "9f091607",
   "metadata": {},
   "source": [
    "## Job title analysis"
   ]
  },
  {
   "cell_type": "markdown",
   "id": "0871bdd9",
   "metadata": {},
   "source": [
    "Have a look at most common words in job titles"
   ]
  },
  {
   "cell_type": "code",
   "execution_count": 87,
   "id": "ac5de6a6",
   "metadata": {},
   "outputs": [
    {
     "name": "stdout",
     "output_type": "stream",
     "text": [
      "Most common words in job titles:\n",
      "[('data', 749), ('scientist', 447), ('analyst', 189), ('engineer', 188), ('and', 174), ('science', 128), ('senior', 123), ('intern', 102), ('analytics', 83), ('manager', 82)]\n"
     ]
    }
   ],
   "source": [
    "# Extract common terms from job titles\n",
    "from collections import Counter\n",
    "import re\n",
    "\n",
    "# Tokenize job titles\n",
    "def tokenize(text):\n",
    "    return re.sub(r'[^\\w\\s]', ' ', text.lower()).split()\n",
    "\n",
    "# Flatten all tokenized words from job titles\n",
    "all_words = [word for title in df['job_title'] for word in tokenize(title)]\n",
    "\n",
    "word_counts = Counter(all_words)\n",
    "\n",
    "# Display top 20 word counts\n",
    "print(\"Most common words in job titles:\")\n",
    "print(word_counts.most_common(10))"
   ]
  },
  {
   "cell_type": "code",
   "execution_count": 88,
   "id": "b014a123",
   "metadata": {},
   "outputs": [
    {
     "data": {
      "text/plain": [
       "job_title\n",
       "Data Scientist                      157\n",
       "Senior Data Scientist                33\n",
       "Data Analyst                         20\n",
       "Data Engineer                        15\n",
       "Machine Learning Engineer            12\n",
       "                                   ... \n",
       "Senior Statistician                   1\n",
       "Cyber Intelligence Analyst            1\n",
       "Data & Tableau Reporting Analyst      1\n",
       "Python Systems Engineer               1\n",
       "Data Scientist - Oil and Gas          1\n",
       "Name: count, Length: 1119, dtype: int64"
      ]
     },
     "execution_count": 88,
     "metadata": {},
     "output_type": "execute_result"
    }
   ],
   "source": [
    "df['job_title'].value_counts()"
   ]
  },
  {
   "cell_type": "markdown",
   "id": "e1493b76",
   "metadata": {},
   "source": [
    "Lots of different job titles with many similar roles having slightly different names. Will start by grouping these together ins ome way "
   ]
  },
  {
   "cell_type": "code",
   "execution_count": 89,
   "id": "1386277e",
   "metadata": {},
   "outputs": [],
   "source": [
    "# Function to classifty job titles into categories\n",
    "def classify_job_title(title):\n",
    "    title = title.lower()\n",
    "    categories = []\n",
    "    if any(keyword in title for keyword in ['analyst', 'analytics']):\n",
    "        categories.append('Data Analysis')\n",
    "    if any(keyword in title for keyword  in ['scientist', 'science']):\n",
    "        categories.append('Data Science')\n",
    "    if any (keyword in title for keyword in ['engineer','engineering']):\n",
    "        categories.append('Data Engineering')\n",
    "    if any(keyword in title for keyword in ['machine learning', 'ml']):\n",
    "        categories.append('Machine Learning')\n",
    "    if any(keyword in title for keyword in ['developer', 'programmer', 'programming', 'dev', 'software']):\n",
    "        categories.append('Software Development')\n",
    "    if any(keyword in title for keyword in ['researcher','research']):\n",
    "        categories.append('Research')\n",
    "    if any(keyword in title for keyword in ['manager', 'management']):\n",
    "        categories.append('Management')\n",
    "    if any(keyword in title for keyword in ['consultant', 'consulting']):\n",
    "        categories.append('Consulting')\n",
    "    if any(keyword in title for keyword in ['nurse', 'nursing']):\n",
    "        categories.append('Nursing')\n",
    "    \n",
    "    if not categories:\n",
    "       categories.append('Other')\n",
    "    \n",
    "    return categories\n",
    "\n",
    "# Apply the function to the job_title column\n",
    "df['job_categories'] = df['job_title'].apply(classify_job_title)\n",
    "# Get all unique categories\n",
    "all_categories = set()\n",
    "for categories in df['job_categories']:\n",
    "    all_categories.update(categories)\n",
    "\n",
    "# Create binary columns for each category\n",
    "for category in all_categories:\n",
    "    df[f'is_{category.replace(\" \", \"_\")}'] = df['job_categories'].apply(lambda x: category in x)\n"
   ]
  },
  {
   "cell_type": "code",
   "execution_count": 90,
   "id": "8fc62502",
   "metadata": {},
   "outputs": [
    {
     "data": {
      "image/png": "[encoded data removed]",
      "text/plain": [
       "<Figure size 1200x800 with 1 Axes>"
      ]
     },
     "metadata": {},
     "output_type": "display_data"
    }
   ],
   "source": [
    "category_counts = df.explode('job_categories')['job_categories'].value_counts().head(10)\n",
    "\n",
    "# Plot the top 10\n",
    "category_counts.plot(kind='barh', figsize=(12, 8))\n",
    "plt.title('Top 10 Job Categories')\n",
    "plt.xlabel('Number of Job Postings')\n",
    "plt.ylabel('Job Categories')\n",
    "plt.tight_layout()\n",
    "plt.show()"
   ]
  },
  {
   "cell_type": "markdown",
   "id": "9b7d6f7e",
   "metadata": {},
   "source": [
    "Have a look at 'other' category to see whether other groups jump out"
   ]
  },
  {
   "cell_type": "code",
   "execution_count": 91,
   "id": "270ccd67",
   "metadata": {},
   "outputs": [
    {
     "data": {
      "text/plain": [
       "job_title\n",
       "Walmart Retail Link Associate - MIA                                           1\n",
       "Recruiter                                                                     1\n",
       "Global Strategic Insights Lead                                                1\n",
       "Financial Advisory Services Complex Financial Instruments Senior Associate    1\n",
       "Actuary                                                                       1\n",
       "Unix Adminstrator                                                             1\n",
       "Summer Intern - Logistics and Infrastructure                                  1\n",
       "Human Resources Technician (Health Care Services Agency)                      1\n",
       "Patient Attendant Safety, FT, Days                                            1\n",
       "Patient Services Rep II                                                       1\n",
       "Name: count, dtype: int64"
      ]
     },
     "execution_count": 91,
     "metadata": {},
     "output_type": "execute_result"
    }
   ],
   "source": [
    "others_jobs = df[df['is_Other'] == True]\n",
    "others_jobs['job_title'].value_counts().sample(10)"
   ]
  },
  {
   "cell_type": "markdown",
   "id": "2d3b1b06",
   "metadata": {},
   "source": [
    "Have a look at the distribution of seniorty of roles"
   ]
  },
  {
   "cell_type": "code",
   "execution_count": 92,
   "id": "fa5d8713",
   "metadata": {},
   "outputs": [
    {
     "name": "stdout",
     "output_type": "stream",
     "text": [
      "seniority\n",
      "Mid-level     898\n",
      "Junior        236\n",
      "Senior        183\n",
      "Leadership    140\n",
      "Name: count, dtype: int64\n"
     ]
    }
   ],
   "source": [
    "def extract_seniority(title):\n",
    "    title = title.lower()\n",
    "    \n",
    "    if any(level in title for level in ['senior', 'sr', 'sr.', 'principal']):\n",
    "        return 'Senior'\n",
    "    elif any(level in title for level in ['junior', 'jr', 'jr.', 'associate','intern', 'entry-level','assistant']):\n",
    "        return 'Junior'\n",
    "    elif any(level in title for level in ['lead', 'head', 'chief', 'director', 'manager', 'president', 'vp']):\n",
    "        return 'Leadership'\n",
    "    else:\n",
    "        return 'Mid-level'\n",
    "\n",
    "df['seniority'] = df['job_title'].apply(extract_seniority)\n",
    "seniority_counts = df['seniority'].value_counts()\n",
    "print(seniority_counts)"
   ]
  },
  {
   "cell_type": "code",
   "execution_count": 93,
   "id": "8b691e47",
   "metadata": {},
   "outputs": [
    {
     "data": {
      "text/plain": [
       "job_title\n",
       "Open Source Staff Machine Learning Engineer        1\n",
       "Events & Communication Specialist -                1\n",
       "Data Scientist I-III                               1\n",
       "Environmental, Health and Safety Specialist III    1\n",
       "Business Reporting and Data Analyst                1\n",
       "Data Science Engineer                              1\n",
       "Data Scientist, Analytics - Community Integrity    1\n",
       "ENGINEER/SCIENTIST                                 1\n",
       "Data Scientist, Engineering                        2\n",
       "Data Scientist (PhD)                               1\n",
       "Name: count, dtype: int64"
      ]
     },
     "execution_count": 93,
     "metadata": {},
     "output_type": "execute_result"
    }
   ],
   "source": [
    "df[df['seniority'] == 'Mid-level']['job_title'].value_counts().sample(10)"
   ]
  },
  {
   "cell_type": "markdown",
   "id": "b95d5795",
   "metadata": {},
   "source": [
    "# 1: Look at html tags and associations with skills"
   ]
  },
  {
   "cell_type": "markdown",
   "id": "0e85fb3d",
   "metadata": {},
   "source": [
    "Count the total number of all tags across the corpus"
   ]
  },
  {
   "cell_type": "code",
   "execution_count": 94,
   "id": "8f44649e",
   "metadata": {},
   "outputs": [
    {
     "data": {
      "text/plain": [
       "[('li', 25186),\n",
       " ('div', 14149),\n",
       " ('p', 11620),\n",
       " ('br', 10756),\n",
       " ('b', 7789),\n",
       " ('ul', 5074),\n",
       " ('h2', 2066),\n",
       " ('html', 1457),\n",
       " ('body', 1457),\n",
       " ('i', 593)]"
      ]
     },
     "execution_count": 94,
     "metadata": {},
     "output_type": "execute_result"
    }
   ],
   "source": [
    "# identify the tags and their counts in the HTML body corpus\n",
    "tag_counter = Counter()\n",
    "\n",
    "for html in df['body_html']:\n",
    "    soup = BeautifulSoup(html, 'lxml')\n",
    "    tags = [tag.name for tag in soup.find_all()]\n",
    "    tag_counter.update(tags)\n",
    "\n",
    "tag_counter.most_common(10)"
   ]
  },
  {
   "cell_type": "code",
   "execution_count": 104,
   "id": "11e0f854",
   "metadata": {},
   "outputs": [],
   "source": [
    "# Identify skill related texty\n",
    "skill_keywords = ['proficient', 'proficiency', 'experience',  'knowledge', 'python', 'java', 'sql', 'r', 'c++', 'javascript', 'html', 'css', 'machine learning', \n",
    "                  'deep learning', 'data analysis', 'data visualization', 'big data', 'cloud computing', 'aws', 'azure', 'docker', 'kubernetes', 'git']\n",
    "\n",
    "\n",
    "# filter out high level tags \n",
    "target_tags = {'li', 'p', 'span', 'b', 'strong', 'h2', 'h3', 'h4','h5'}\n",
    "# create counters for overall tag use and one for skill related tags\n",
    "skill_tag_counter = Counter()\n",
    "overall_tag_counter = Counter()\n",
    "\n",
    "for html in df['body_html']:\n",
    "    soup = BeautifulSoup(html, 'lxml')\n",
    "    \n",
    "    for tag in soup.find_all():\n",
    "        tag_name = tag.name\n",
    "\n",
    "        if tag_name not in target_tags:\n",
    "            continue\n",
    "        # Count the tag only if it is not in the skip list\n",
    "        tag_text = tag.get_text(strip=True).lower()\n",
    "\n",
    "        # Always count this tag in the total\n",
    "        overall_tag_counter[tag_name] += 1\n",
    "\n",
    "        # Only count it as a \"skill-tag\" if it contains a keyword\n",
    "        if any(kw in tag_text for kw in skill_keywords):\n",
    "            skill_tag_counter[tag_name] += 1\n"
   ]
  },
  {
   "cell_type": "code",
   "execution_count": 105,
   "id": "ce320fe3",
   "metadata": {},
   "outputs": [
    {
     "data": {
      "text/html": [
       "<div>\n",
       "<style scoped>\n",
       "    .dataframe tbody tr th:only-of-type {\n",
       "        vertical-align: middle;\n",
       "    }\n",
       "\n",
       "    .dataframe tbody tr th {\n",
       "        vertical-align: top;\n",
       "    }\n",
       "\n",
       "    .dataframe thead th {\n",
       "        text-align: right;\n",
       "    }\n",
       "</style>\n",
       "<table border=\"1\" class=\"dataframe\">\n",
       "  <thead>\n",
       "    <tr style=\"text-align: right;\">\n",
       "      <th></th>\n",
       "      <th>tag</th>\n",
       "      <th>overall_count</th>\n",
       "      <th>skill_count</th>\n",
       "      <th>percentage</th>\n",
       "    </tr>\n",
       "  </thead>\n",
       "  <tbody>\n",
       "    <tr>\n",
       "      <th>3</th>\n",
       "      <td>li</td>\n",
       "      <td>25186</td>\n",
       "      <td>24425</td>\n",
       "      <td>96.978480</td>\n",
       "    </tr>\n",
       "    <tr>\n",
       "      <th>5</th>\n",
       "      <td>h5</td>\n",
       "      <td>56</td>\n",
       "      <td>50</td>\n",
       "      <td>89.285714</td>\n",
       "    </tr>\n",
       "    <tr>\n",
       "      <th>0</th>\n",
       "      <td>h2</td>\n",
       "      <td>2066</td>\n",
       "      <td>1688</td>\n",
       "      <td>81.703775</td>\n",
       "    </tr>\n",
       "    <tr>\n",
       "      <th>6</th>\n",
       "      <td>h4</td>\n",
       "      <td>60</td>\n",
       "      <td>43</td>\n",
       "      <td>71.666667</td>\n",
       "    </tr>\n",
       "    <tr>\n",
       "      <th>1</th>\n",
       "      <td>p</td>\n",
       "      <td>11620</td>\n",
       "      <td>7785</td>\n",
       "      <td>66.996558</td>\n",
       "    </tr>\n",
       "    <tr>\n",
       "      <th>2</th>\n",
       "      <td>b</td>\n",
       "      <td>7789</td>\n",
       "      <td>5118</td>\n",
       "      <td>65.708050</td>\n",
       "    </tr>\n",
       "    <tr>\n",
       "      <th>4</th>\n",
       "      <td>h3</td>\n",
       "      <td>344</td>\n",
       "      <td>224</td>\n",
       "      <td>65.116279</td>\n",
       "    </tr>\n",
       "  </tbody>\n",
       "</table>\n",
       "</div>"
      ],
      "text/plain": [
       "  tag  overall_count  skill_count  percentage\n",
       "3  li          25186        24425   96.978480\n",
       "5  h5             56           50   89.285714\n",
       "0  h2           2066         1688   81.703775\n",
       "6  h4             60           43   71.666667\n",
       "1   p          11620         7785   66.996558\n",
       "2   b           7789         5118   65.708050\n",
       "4  h3            344          224   65.116279"
      ]
     },
     "execution_count": 105,
     "metadata": {},
     "output_type": "execute_result"
    }
   ],
   "source": [
    "# Combine the two counters into a DataFrame for easier analysis\n",
    "tag_df = pd.DataFrame([{'tag': tag, 'overall_count': overall_tag_counter[tag], 'skill_count': skill_tag_counter[tag], 'percentage': (skill_tag_counter[tag]/overall_tag_counter[tag]) * 100 if overall_tag_counter[tag] > 0 else 0}\n",
    "                       for tag in overall_tag_counter\n",
    "                       ])\n",
    "\n",
    "tag_df.sort_values(by = 'percentage', ascending = False).head(10)"
   ]
  },
  {
   "cell_type": "markdown",
   "id": "ae3545ba",
   "metadata": {},
   "source": [
    "Looks like skills are often embedded in `<li>` inside `<ul>`, which makes sense? I could also track and compare usage between technical vs. soft skill keywords inside these tags.\n"
   ]
  },
  {
   "cell_type": "code",
   "execution_count": 106,
   "id": "af87f575",
   "metadata": {},
   "outputs": [
    {
     "name": "stdout",
     "output_type": "stream",
     "text": [
      "Sampled <li> tags:\n",
      "- Extract data from a variety of sources for use in analysis and models; completes ad-hoc reporting and data analysis\n",
      "- Intellectual curiosity and aptitude to pick up new technical skills\n",
      "- Develop and evaluate staff to ensure the efficient operation of the department\n",
      "- Design and coordinate production of key deliverables and help map out the learning journey for managers throughout their time in Google. Oversee all design work to ensure it is integrated, consistent and aligned with the People Operations brand\n",
      "- Optimize funnels to reduce friction and drive the best possible experience for users who are going through any product flows necessary to become users of our products and services.\n",
      "- Design, develop, and maintain reports & dashboards using data visualization tools\n",
      "- Analytical visualizations of data from National Poison Control Centers\n",
      "- Experience optimizing, testing, and documenting results of machine learning models\n",
      "- Experience with survey sampling methodologies and data collection techniques\n",
      "- BS in Mathematics, Statistics, Computer Science, Operations Research, or similar fields\n"
     ]
    }
   ],
   "source": [
    "# Have a look at a few <li> tags as sanity check\n",
    "import random\n",
    "from itertools import chain\n",
    "\n",
    "def extract_li_tags(html):\n",
    "    soup = BeautifulSoup(html, 'lxml')\n",
    "    return [li.get_text(strip=True) for li in soup.find_all('li')]\n",
    "\n",
    "df['li_skills'] = df['body_html'].apply(extract_li_tags)\n",
    "\n",
    "all_li_phrases = list(chain.from_iterable(df['li_skills']))\n",
    "sampled_li = random.sample(all_li_phrases, 10)\n",
    "print(\"Sampled <li> tags:\")\n",
    "for li in sampled_li:\n",
    "    print(f\"- {li}\")"
   ]
  },
  {
   "cell_type": "code",
   "execution_count": null,
   "id": "35d568a4",
   "metadata": {},
   "outputs": [],
   "source": []
  },
  {
   "cell_type": "markdown",
   "id": "14ef3ff3",
   "metadata": {},
   "source": [
    "# 2: Filter out irrelevant job postings"
   ]
  },
  {
   "cell_type": "markdown",
   "id": "5018bc64",
   "metadata": {},
   "source": [
    "Looking at the resume skills, it looks like relevant jobs for the person are in the field of data science and machine learning, potentially also data engineering and research. From my EDA of job titles, I can filter out job titles that do not fall into these categories"
   ]
  },
  {
   "cell_type": "code",
   "execution_count": 98,
   "id": "3afe2934",
   "metadata": {},
   "outputs": [
    {
     "data": {
      "text/plain": [
       "(1055, 18)"
      ]
     },
     "execution_count": 98,
     "metadata": {},
     "output_type": "execute_result"
    }
   ],
   "source": [
    "df_filtered = df[(df['is_Data_Analysis'] == True) | (df['is_Data_Science'] == True) | (df['is_Data_Engineering'] == True) | (df['is_Machine_Learning'] == True)  | (df['is_Research'] == True)]\n",
    "df_filtered.shape"
   ]
  },
  {
   "cell_type": "markdown",
   "id": "f9bfc16a",
   "metadata": {},
   "source": [
    "Filtering has reduced dataset size by about a third"
   ]
  },
  {
   "cell_type": "markdown",
   "id": "986ea287",
   "metadata": {},
   "source": [
    "I could also filter by seniority (likely this person is interested in mid-level roles, could filter out the juniour and leadership roles for example)"
   ]
  },
  {
   "cell_type": "markdown",
   "id": "a6c3eac5",
   "metadata": {},
   "source": [
    "# Cluster job skills based on text similarity."
   ]
  },
  {
   "cell_type": "code",
   "execution_count": null,
   "id": "a1ee8e37",
   "metadata": {},
   "outputs": [
    {
     "data": {
      "text/plain": [
       "['',\n",
       " 'identify supplies needed to perform tasks and report needs to supervisor',\n",
       " 'work closely with researchers and engineers by providing linguistic expertise and direction for language specific nlp automatic speech recognition asr or text to speech tts projects andor dialogue analysismodelling',\n",
       " 'analyze customer based results and behaviors within email mobile and direct mail marketing campaigns providing conclusions and recommendations',\n",
       " 'proficiency in machine learning modeling and statistical thinking random forest decision trees supervised and unsupervised modeling etc',\n",
       " 'familiarity with analytical techniques such as random forest gradient boosting svm nlp',\n",
       " 'work with the science faculty to ensure experimental materials are set up in advance of the labs',\n",
       " 'knowledge of healthcare',\n",
       " 'ability to travel 20',\n",
       " 'threat intelligence abuse detection and investigation experience']"
      ]
     },
     "execution_count": 58,
     "metadata": {},
     "output_type": "execute_result"
    }
   ],
   "source": [
    "#Preprocess li phrases\n",
    "def clean_skill(skill):\n",
    "    skill = skill.lower()\n",
    "    skill = re.sub(r'[^a-z0-9\\s]', '', skill)  # remove punctuation\n",
    "    return skill.strip()\n",
    "\n",
    "cleaned_skills = list(set([clean_skill(skill) for skill in all_li_phrases if len(skill.strip()) > 2]))\n",
    "cleaned_skills[:10]\n"
   ]
  },
  {
   "cell_type": "code",
   "execution_count": 107,
   "id": "bf9355b8",
   "metadata": {},
   "outputs": [],
   "source": [
    "# Vectorise with TF-IDF\n",
    "from sklearn.feature_extraction.text import TfidfVectorizer\n",
    "\n",
    "vectorizer = TfidfVectorizer(stop_words='english')\n",
    "X = vectorizer.fit_transform(cleaned_skills)"
   ]
  },
  {
   "cell_type": "code",
   "execution_count": 108,
   "id": "7e582ab7",
   "metadata": {},
   "outputs": [
    {
     "name": "stderr",
     "output_type": "stream",
     "text": [
      "C:\\Users\\balin\\AppData\\Roaming\\Python\\Python313\\site-packages\\joblib\\externals\\loky\\backend\\context.py:136: UserWarning: Could not find the number of physical cores for the following reason:\n",
      "[WinError 2] The system cannot find the file specified\n",
      "Returning the number of logical cores instead. You can silence this warning by setting LOKY_MAX_CPU_COUNT to the number of cores you want to use.\n",
      "  warnings.warn(\n",
      "  File \"C:\\Users\\balin\\AppData\\Roaming\\Python\\Python313\\site-packages\\joblib\\externals\\loky\\backend\\context.py\", line 257, in _count_physical_cores\n",
      "    cpu_info = subprocess.run(\n",
      "        \"wmic CPU Get NumberOfCores /Format:csv\".split(),\n",
      "        capture_output=True,\n",
      "        text=True,\n",
      "    )\n",
      "  File \"c:\\Program Files\\Python313\\Lib\\subprocess.py\", line 556, in run\n",
      "    with Popen(*popenargs, **kwargs) as process:\n",
      "         ~~~~~^^^^^^^^^^^^^^^^^^^^^^\n",
      "  File \"c:\\Program Files\\Python313\\Lib\\subprocess.py\", line 1038, in __init__\n",
      "    self._execute_child(args, executable, preexec_fn, close_fds,\n",
      "    ~~~~~~~~~~~~~~~~~~~^^^^^^^^^^^^^^^^^^^^^^^^^^^^^^^^^^^^^^^^^\n",
      "                        pass_fds, cwd, env,\n",
      "                        ^^^^^^^^^^^^^^^^^^^\n",
      "    ...<5 lines>...\n",
      "                        gid, gids, uid, umask,\n",
      "                        ^^^^^^^^^^^^^^^^^^^^^^\n",
      "                        start_new_session, process_group)\n",
      "                        ^^^^^^^^^^^^^^^^^^^^^^^^^^^^^^^^^\n",
      "  File \"c:\\Program Files\\Python313\\Lib\\subprocess.py\", line 1550, in _execute_child\n",
      "    hp, ht, pid, tid = _winapi.CreateProcess(executable, args,\n",
      "                       ~~~~~~~~~~~~~~~~~~~~~^^^^^^^^^^^^^^^^^^\n",
      "                             # no special security\n",
      "                             ^^^^^^^^^^^^^^^^^^^^^\n",
      "    ...<4 lines>...\n",
      "                             cwd,\n",
      "                             ^^^^\n",
      "                             startupinfo)\n",
      "                             ^^^^^^^^^^^^\n"
     ]
    }
   ],
   "source": [
    "# Cluster with KMeans\n",
    "from sklearn.cluster import KMeans\n",
    "\n",
    "n_clusters = 10  # tune this with elbow/silhouette method?\n",
    "kmeans = KMeans(n_clusters=n_clusters, random_state=42)\n",
    "kmeans.fit(X)\n",
    "\n",
    "labels = kmeans.labels_"
   ]
  },
  {
   "cell_type": "markdown",
   "id": "81b86a5f",
   "metadata": {},
   "source": [
    "K-means: fast, easy to apply, works well when clusters are compact, spherical and similar in size\n",
    "Expectation-Maximisation (EM): often used with Gaussian Mixture models, handles clusters with different shapes, sizes, and orientations\n",
    "- consider: scaling data, using PCA before clustering, and selecting number of clusters using BIC, AIC, silhouette score"
   ]
  },
  {
   "cell_type": "code",
   "execution_count": 109,
   "id": "284f99e5",
   "metadata": {},
   "outputs": [
    {
     "name": "stdout",
     "output_type": "stream",
     "text": [
      "\n",
      "🧩 Cluster 0\n",
      "['in depth knowledge of quality principles and technical tools problem analysis statistical tools design of experiments design for six sigma control charts and other quality methodologies with the ability to train and provide consultation', 'experience working with large data sets and distributed computing tools mapreduce hadoop hive spark etc', 'above average capabilities with cloud computing techniques or tools such as s3 ec2 emr sagemaker ecs lambda iam', 'experience using data visualization tools such as d3js tableau qlik or power bi is a strong plus', 'command of available online and offline tools to create engaging experiences that drive interactions and data opportunities', 'an eye for great data visualization experience on matplotlib plotly ggplot or tableau is a plus', 'experience with one or more business intelligence and visualization tools business objects tableau chartio jmp etc is a plus', 'fluent in sql python and r and data visualization tools eg tableau', 'experience with sigint development sigdev sigint tools techniques and processes', 'experience with database tools such as bigquery hadoop hive and spark']\n",
      "\n",
      "🧩 Cluster 1\n",
      "['masters degree in data science statistics mathematics computer science engineering or a related field or bachelors degree plus two years of relevant experience required', 'masters degree or phd in statistics or related field eg mathematics physics etc', 'bachelor of science with 4 years experience or masters with 2 years experience', 'bachelor of science degree in engineering or related field', 'masters degree or phd in computer science or another highly mathematical discipline', 'bs or ms in computer science computational biology computational chemistry biostatistics cognitive science business or similar field with a deeply quantitative research component', 'bachelors degree required', 'bsms in computer science engineering or physics with demonstrated programming proficiency', 'masters degree in statistics mathematics or related disciplines phd preferred', 'requires a bachelors degree or equivalent in education and training plus two years of related experience']\n",
      "\n",
      "🧩 Cluster 2\n",
      "['able to operate computer applications microsoft office and engineering software', 'travel may be up to eighty percent', 'schedules coordinates and conducts food safety manager', 'computer vision', 'familiarity with pfapmml is a plus', 'control frameworks such as nist80053 center of internet security isoiec 27002', '3 years of hands on experience', 'identifies and recommends to management process improvements that reduce workloads or improve quality', 'follows fedex office standard operating procedures as well as adhering to legal hr safety  customer service and security policies and procedures', 'utilizing verbiage from class specification and selection requirements serving as your description of duties will not be sufficient to demonstrate that you meet the requirement doing so may result in an incomplete application and your application may be disqualified']\n",
      "\n",
      "🧩 Cluster 3\n",
      "['ability to collaborate closely with crossfunctional teams', 'work with network architects to define and specify detailed tasks', 'ability to work with business partners to assess needs and understand requirements', 'work in close partnership with productengineeringmarketingdata platform teams to identify new opportunities to leverage data science and ensure that key projects are delivered in a timely fashion', 'interact crossfunctionally with a wide variety of people and teams work closely with engineers to identify opportunities for design and assess improvements to google products', 'contribute to group retrospectives and improvement of processes for collective work management', 'ability to understand and work with complex data structures', 'ability to influence and work through others to effectively navigate matrixed organization while ensuring that necessary stakeholders are informed', 'work with stakeholders throughout the organization to identify opportunities for leveraging company data to drive business solutions', 'location work will be performed in richmond va']\n",
      "\n",
      "🧩 Cluster 4\n",
      "['experience with analysis of data focused on cardiovascular disease epidemiology or similarrelated chronic disease', 'visualization and exploratory analysis of large datasets', 'a knack for statistical analysis and predictive modeling and passion to leverage these tools to provide insights and capabilities to meet business goals', 'collaborating with clients and other stakeholders to effectively integrate and communicate analysis finding', 'strong experience with data manipulation analysis and visualization', 'review statistical modeling process', 'minimum 5 process improvement gap analysis requirements gathering or other related experience', 'predictive prescriptive and sentiment analysis', 'lead projects and services in business valuation analysis and modeling', '3 years of experience in model validation or predictive modeling eg logistic regression multivariate linear regression decision tree cluster analysis etc']\n",
      "\n",
      "🧩 Cluster 5\n",
      "['strong critical thinking skills and the ability to solve complex problems usinganalysis and creativity to successfully provide a solution', 'excellent verbal and written communication skills  ability to clearly explain complex concepts and statistics to both technical and nontechnical audiences', 'excellent written and communication skills explaining complex quantitative models to business stakeholders management and executives', 'excellent organizational skills strong orientation to details', 'strong written and verbal communication skills', 'excellent written and verbal communication skills and a focus on achieving results', 'strong time management skills with the ability to prioritize and contribute to multiple assignments simultaneously', 'strong eda skills and experienceknowledge', 'strong interpersonal skills and open to learning new toolstechniques', 'excellent coding skills in sql and r or python']\n",
      "\n",
      "🧩 Cluster 6\n",
      "['quick learner able to understand new data models as well as new reporting requirements in a fastpaced environment', 'works in a normal office environment', 'independent worker with the ability to effectively operate with flexibility in a fast paced constantly evolving team environment', 'strong organizational skills with ability to plan set goals and manage multiple projects simultaneously within a fast moving environment', 'ability to work in a dynamic crossfunctional environment with a strong attention to detail', 'effective persuasive skills  highly energetic and selfmotivated person who can easily adapt to unstructured environment', 'most importantly handson experience within a fastmoving and fun environment', 'thrive in a crossfunctional team environment', 'manages and coordinates multiple tasks and projects in a fastpaced environment', 'experience supporting oracle production databases in a high availability enterprise environment with a minimum of 3 years of oracle dba experience']\n",
      "\n",
      "🧩 Cluster 7\n",
      "['experience in using statistical modeling andor machine learning techniques to build models that have driven company decision making', 'build analytical models using statistical machine learning and data mining methodologies', 'expose multilayer machine learning systems to customers while maintaining first class privacy and security standards', 'understanding and experience using machine learning techniques and algorithms including but not limited to binary classification clustering and logistic regression', 'good foundation in statistics and machine learning algorithms', 'innovate and recommend advanced predictive analytics computational science natural language processing nlp machine learning and deep learning techniques to answer research questions and synthesize insights that achieve business objectives', 'strong background in machine learning statistics and programming', 'you work closely with the pelion iot strategy and product teams to prototype machine learning and data science pipelines and solutions', 'plan develop and apply cuttingedge machine learning systems and statistical modeling to extract insight from vast amounts of data at scale', 'advanced understanding of sql python pyspark scala hive h2o as well as machine learning techniques and algorithms such as linear  logistic regression treebased learners gradient boosting svm nlp time series modeling clustering etc']\n",
      "\n",
      "🧩 Cluster 8\n",
      "['hands on experience conducting quantitative analyses on large data sets', 'phd finance data science', 'data pipeline', 'data warehousing and analytical database technologies such as vertica citusdb mapd and kinetica', 'contribute to the development of endtoend data driven solutions', 'generalistfull stack competencies across several different fields methods applications etc that will support the data engineering and science project lifecycle introducing new technologies and solutions to the data engineering processes that will facilitate machine learning at a higher scale', 'discover opportunities for data acquisition', 'experience with python data frameworks such as numpy etc', 'help plan develop deploy and maintain the entire data science pipeline at tae from acquisition and storage to processing and visualization', 'you are a specialist in data science but have the curiosity and desire to stretch across software product and design']\n",
      "\n",
      "🧩 Cluster 9\n",
      "['should be proficient in business analysis business knowledge software engineering leadership architecture knowledge and technical solution design', 'knowledge of customer support and call center metrics preferred', 'knowledge of privacy legislative and policy frameworks', 'knowledge of advanced modeling technique', 'human resources knowledge and experience particularly with payroll andor human resources information systems', 'knowledge of diverse modeling algorithms for supervised learning including most of the following scikitlearn xgboost spark ml h2oai', 'experience with coding particularly python r java script knowledge of statistical languages such as stata spss', 'working knowledge of and the ability to efficiently operate all applicable computer applications andor software including a working knowledge of computer applications such as outlook word access and excel r', 'working knowledge of broker networks market valuations for real property and leasehold investments', 'knowledge of any of the following natural language processing  text mining experimental design bayesian networks networkgraph mining is a plus']\n"
     ]
    }
   ],
   "source": [
    "clustered = pd.DataFrame({\n",
    "    'skill': cleaned_skills,\n",
    "    'cluster': labels\n",
    "})\n",
    "\n",
    "# See samples per cluster\n",
    "for i in range(n_clusters):\n",
    "    print(f\"\\n🧩 Cluster {i}\")\n",
    "    print(clustered[clustered['cluster'] == i]['skill'].sample(10, random_state=42).tolist())"
   ]
  },
  {
   "cell_type": "code",
   "execution_count": 111,
   "id": "c7e0d668",
   "metadata": {},
   "outputs": [
    {
     "ename": "ModuleNotFoundError",
     "evalue": "No module named 'wordcloud'",
     "output_type": "error",
     "traceback": [
      "\u001b[31m---------------------------------------------------------------------------\u001b[39m",
      "\u001b[31mModuleNotFoundError\u001b[39m                       Traceback (most recent call last)",
      "\u001b[36mCell\u001b[39m\u001b[36m \u001b[39m\u001b[32mIn[111]\u001b[39m\u001b[32m, line 2\u001b[39m\n\u001b[32m      1\u001b[39m \u001b[38;5;66;03m#visualise with wordcloud\u001b[39;00m\n\u001b[32m----> \u001b[39m\u001b[32m2\u001b[39m \u001b[38;5;28;01mfrom\u001b[39;00m\u001b[38;5;250m \u001b[39m\u001b[34;01mwordcloud\u001b[39;00m\u001b[38;5;250m \u001b[39m\u001b[38;5;28;01mimport\u001b[39;00m WordCloud\n\u001b[32m      3\u001b[39m \u001b[38;5;28;01mimport\u001b[39;00m\u001b[38;5;250m \u001b[39m\u001b[34;01mmatplotlib\u001b[39;00m\u001b[34;01m.\u001b[39;00m\u001b[34;01mpyplot\u001b[39;00m\u001b[38;5;250m \u001b[39m\u001b[38;5;28;01mas\u001b[39;00m\u001b[38;5;250m \u001b[39m\u001b[34;01mplt\u001b[39;00m\n\u001b[32m      5\u001b[39m \u001b[38;5;28;01mfor\u001b[39;00m i \u001b[38;5;129;01min\u001b[39;00m \u001b[38;5;28mrange\u001b[39m(n_clusters):\n",
      "\u001b[31mModuleNotFoundError\u001b[39m: No module named 'wordcloud'"
     ]
    }
   ],
   "source": [
    "#visualise with wordcloud\n",
    "from wordcloud import WordCloud\n",
    "import matplotlib.pyplot as plt\n",
    "\n",
    "for i in range(n_clusters):\n",
    "    text = ' '.join(clustered[clustered['cluster'] == i]['skill'])\n",
    "    wc = WordCloud(width=800, height=400, background_color='white').generate(text)\n",
    "    \n",
    "    plt.figure()\n",
    "    plt.imshow(wc, interpolation='bilinear')\n",
    "    plt.axis('off')\n",
    "    plt.title(f\"Skill Cluster {i}\")\n",
    "    plt.show()"
   ]
  },
  {
   "cell_type": "code",
   "execution_count": null,
   "id": "9a1a4c9e",
   "metadata": {},
   "outputs": [],
   "source": []
  },
  {
   "cell_type": "markdown",
   "id": "48bfbdd5",
   "metadata": {},
   "source": []
  }
 ],
 "metadata": {
  "kernelspec": {
   "display_name": "Python 3",
   "language": "python",
   "name": "python3"
  },
  "language_info": {
   "codemirror_mode": {
    "name": "ipython",
    "version": 3
   },
   "file_extension": ".py",
   "mimetype": "text/x-python",
   "name": "python",
   "nbconvert_exporter": "python",
   "pygments_lexer": "ipython3",
   "version": "3.13.2"
  }
 },
 "nbformat": 4,
 "nbformat_minor": 5
}
