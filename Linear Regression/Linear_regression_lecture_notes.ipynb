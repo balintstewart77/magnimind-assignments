{
 "cells": [
  {
   "cell_type": "code",
   "execution_count": 4,
   "metadata": {},
   "outputs": [],
   "source": [
    "import numpy as np\n",
    "from sklearn.linear_model import Ridge, LinearRegression, Lasso, RidgeCV, LassoCV\n",
    "np.random.seed(42) # set seed number for my random generators\n",
    "import matplotlib.pyplot as plt"
   ]
  },
  {
   "cell_type": "markdown",
   "metadata": {},
   "source": [
    "income_hat = w1*age + w2*education + w3*gender + w4*marital status\n",
    "Each of these have different weights (w) so influencing the target variable in different ways\n",
    "\n",
    "w gives the slope of the line. bias/offset/y-intercept (b, or sometimes w0) is where you move the line up and down without changing the slope.\n",
    "\n",
    "income_hat_1 = w0 + w1*34 + w2*15 + w3*1 (man) + w4*1 (34year old, 15yr education, male, married)\n",
    "income_hat_2 = w0 + w1*38 +w2*12 + w3*0 + w4*1 (38 yearold, 12 years education, female, married)\n",
    "\n",
    "(income_1 - income_hat_1)^2 + (income_2 - income_2_hat)^2 #True value for individual1 versus predicted value for person1, + residual for person 2 etc etc. Squared to give a positive number (otherwise they'll just cancel), also means that cost is exponentially higher the further away from the line the point is"
   ]
  },
  {
   "cell_type": "code",
   "execution_count": 2,
   "metadata": {},
   "outputs": [],
   "source": [
    "# generate some random numbers\n",
    "X = 2*np.random.rand(100,1) # generate 100 random numbers uniformly distributed between 0 and 1, then multiply by 2"
   ]
  },
  {
   "cell_type": "code",
   "execution_count": 3,
   "metadata": {},
   "outputs": [
    {
     "data": {
      "text/plain": [
       "array([[1.66714206],\n",
       "       [1.55157835],\n",
       "       [0.74807346],\n",
       "       [1.04790388],\n",
       "       [1.15728032],\n",
       "       [1.70875346],\n",
       "       [0.19396216],\n",
       "       [0.51649312],\n",
       "       [1.64189393],\n",
       "       [1.81528766],\n",
       "       [0.76506286],\n",
       "       [1.82655767],\n",
       "       [1.8595694 ],\n",
       "       [1.31723934],\n",
       "       [1.2828806 ],\n",
       "       [0.44033322],\n",
       "       [1.01861721],\n",
       "       [0.48406625],\n",
       "       [0.82173786],\n",
       "       [0.12019457],\n",
       "       [1.88204127],\n",
       "       [1.68815718],\n",
       "       [0.7594832 ],\n",
       "       [1.67297027],\n",
       "       [1.03918417],\n",
       "       [1.55839198],\n",
       "       [1.28940076],\n",
       "       [1.48268692],\n",
       "       [1.41964315],\n",
       "       [0.60232967],\n",
       "       [0.97215722],\n",
       "       [1.73558599],\n",
       "       [1.32996937],\n",
       "       [1.96536078],\n",
       "       [1.40827502],\n",
       "       [0.81795305],\n",
       "       [1.80037048],\n",
       "       [1.12695776],\n",
       "       [0.38649326],\n",
       "       [1.94755642],\n",
       "       [0.67241691],\n",
       "       [1.0544379 ],\n",
       "       [0.94055287],\n",
       "       [0.31691883],\n",
       "       [1.18716926],\n",
       "       [1.9255305 ],\n",
       "       [1.97442322],\n",
       "       [1.82301411],\n",
       "       [0.41254741],\n",
       "       [1.71450998],\n",
       "       [1.80653117],\n",
       "       [1.31463075],\n",
       "       [1.79089033],\n",
       "       [0.37333246],\n",
       "       [1.86853611],\n",
       "       [0.09963066],\n",
       "       [0.55101801],\n",
       "       [1.29075326],\n",
       "       [0.69200953],\n",
       "       [0.71783232],\n",
       "       [1.20317963],\n",
       "       [1.36983157],\n",
       "       [1.13318344],\n",
       "       [0.05992661],\n",
       "       [1.20294313],\n",
       "       [1.69732764],\n",
       "       [1.20082407],\n",
       "       [1.83896385],\n",
       "       [0.19669097],\n",
       "       [1.40686187],\n",
       "       [1.69009468],\n",
       "       [0.22412486],\n",
       "       [0.66240922],\n",
       "       [0.91749006],\n",
       "       [1.69679242],\n",
       "       [0.17112181],\n",
       "       [1.39274644],\n",
       "       [0.50305568],\n",
       "       [0.17619993],\n",
       "       [0.71590253],\n",
       "       [1.11848705],\n",
       "       [1.6213638 ],\n",
       "       [1.51592609],\n",
       "       [0.36826643],\n",
       "       [0.18304587],\n",
       "       [0.01869308],\n",
       "       [0.35389176],\n",
       "       [0.65775958],\n",
       "       [0.71837708],\n",
       "       [1.84392961],\n",
       "       [1.13329269],\n",
       "       [1.07227493],\n",
       "       [0.53353732],\n",
       "       [1.77175621],\n",
       "       [1.16002141],\n",
       "       [1.19974458],\n",
       "       [0.18863206],\n",
       "       [0.15917155],\n",
       "       [0.66160585],\n",
       "       [1.84163058]])"
      ]
     },
     "execution_count": 3,
     "metadata": {},
     "output_type": "execute_result"
    }
   ],
   "source": [
    "X"
   ]
  },
  {
   "cell_type": "code",
   "execution_count": 6,
   "metadata": {},
   "outputs": [],
   "source": [
    "y = 4 + 3*X + np.random.randn(100,1) # w0 = 4, w1=3, + random noise which is normally distributed with mean = 0 and std = 1 \n"
   ]
  },
  {
   "cell_type": "markdown",
   "metadata": {},
   "source": [
    "If I gave you only y (values) and X (values), can you estimate 4 and 3 (parameters w0 and w1)?"
   ]
  },
  {
   "cell_type": "code",
   "execution_count": 7,
   "metadata": {},
   "outputs": [
    {
     "data": {
      "text/plain": [
       "[<matplotlib.lines.Line2D at 0x2c353af0500>]"
      ]
     },
     "execution_count": 7,
     "metadata": {},
     "output_type": "execute_result"
    },
    {
     "data": {
      "image/png": "[encoded data removed]",
      "text/plain": [
       "<Figure size 640x480 with 1 Axes>"
      ]
     },
     "metadata": {},
     "output_type": "display_data"
    }
   ],
   "source": [
    "plt.plot(X, y, 'b.') # plot in blue colour X and y"
   ]
  },
  {
   "cell_type": "code",
   "execution_count": null,
   "metadata": {},
   "outputs": [],
   "source": [
    "How do find the line that minimises the total distance between the data and the line? Line should give us our parameters w0 and w1.\n",
    "y = 4 + 3*X #get rid of noise as there's no way we can determine that \n",
    "y = 4*1 + 3*X\n",
    "y = [4 3] * [1 X]\n",
    "y = [w0 w1] * [1 X]\n",
    "\n",
    "y = w*X # reduces down to multiplication of a vector with a matrix\n",
    "y * inv(X) = w * X * inv (X) # X * inv(X) = 1 (e.g. 6 * 1/6 = 1)\n",
    "w = y * inv(X) # this only works if X is a square matrix. Usually, it won't be!\n",
    "\n",
    "# e.g titanic datset\n",
    "X.shape\n",
    "(1049, 5) # dataset has 1049 rows and 5 columns. Cannot take inverse of a rectangular matrix!\n",
    "\n",
    "# so need to multiply X by its transpose X^T\n",
    "X^T.shape\n",
    "(5, 1049)\n",
    "\n",
    "# so\n",
    "y * inv(X) = w * X * X^T # X*X^T is a square matrix. So now can take inverse of the square matrix inv(X* X^T) * (X*X^T) = 1\n",
    "\n",
    "y * X^T * inv(X * X^T) = w * X * X^T * inv(X * X^T)\n",
    "\n",
    "y * X^T *inv(X * X^T) = w # without any simulation, just maths, you can estimate w"
   ]
  },
  {
   "cell_type": "code",
   "execution_count": 10,
   "metadata": {},
   "outputs": [
    {
     "data": {
      "text/plain": [
       "array([[1.        , 1.66714206],\n",
       "       [1.        , 1.55157835],\n",
       "       [1.        , 0.74807346],\n",
       "       [1.        , 1.04790388],\n",
       "       [1.        , 1.15728032],\n",
       "       [1.        , 1.70875346],\n",
       "       [1.        , 0.19396216],\n",
       "       [1.        , 0.51649312],\n",
       "       [1.        , 1.64189393],\n",
       "       [1.        , 1.81528766],\n",
       "       [1.        , 0.76506286],\n",
       "       [1.        , 1.82655767],\n",
       "       [1.        , 1.8595694 ],\n",
       "       [1.        , 1.31723934],\n",
       "       [1.        , 1.2828806 ],\n",
       "       [1.        , 0.44033322],\n",
       "       [1.        , 1.01861721],\n",
       "       [1.        , 0.48406625],\n",
       "       [1.        , 0.82173786],\n",
       "       [1.        , 0.12019457],\n",
       "       [1.        , 1.88204127],\n",
       "       [1.        , 1.68815718],\n",
       "       [1.        , 0.7594832 ],\n",
       "       [1.        , 1.67297027],\n",
       "       [1.        , 1.03918417],\n",
       "       [1.        , 1.55839198],\n",
       "       [1.        , 1.28940076],\n",
       "       [1.        , 1.48268692],\n",
       "       [1.        , 1.41964315],\n",
       "       [1.        , 0.60232967],\n",
       "       [1.        , 0.97215722],\n",
       "       [1.        , 1.73558599],\n",
       "       [1.        , 1.32996937],\n",
       "       [1.        , 1.96536078],\n",
       "       [1.        , 1.40827502],\n",
       "       [1.        , 0.81795305],\n",
       "       [1.        , 1.80037048],\n",
       "       [1.        , 1.12695776],\n",
       "       [1.        , 0.38649326],\n",
       "       [1.        , 1.94755642],\n",
       "       [1.        , 0.67241691],\n",
       "       [1.        , 1.0544379 ],\n",
       "       [1.        , 0.94055287],\n",
       "       [1.        , 0.31691883],\n",
       "       [1.        , 1.18716926],\n",
       "       [1.        , 1.9255305 ],\n",
       "       [1.        , 1.97442322],\n",
       "       [1.        , 1.82301411],\n",
       "       [1.        , 0.41254741],\n",
       "       [1.        , 1.71450998],\n",
       "       [1.        , 1.80653117],\n",
       "       [1.        , 1.31463075],\n",
       "       [1.        , 1.79089033],\n",
       "       [1.        , 0.37333246],\n",
       "       [1.        , 1.86853611],\n",
       "       [1.        , 0.09963066],\n",
       "       [1.        , 0.55101801],\n",
       "       [1.        , 1.29075326],\n",
       "       [1.        , 0.69200953],\n",
       "       [1.        , 0.71783232],\n",
       "       [1.        , 1.20317963],\n",
       "       [1.        , 1.36983157],\n",
       "       [1.        , 1.13318344],\n",
       "       [1.        , 0.05992661],\n",
       "       [1.        , 1.20294313],\n",
       "       [1.        , 1.69732764],\n",
       "       [1.        , 1.20082407],\n",
       "       [1.        , 1.83896385],\n",
       "       [1.        , 0.19669097],\n",
       "       [1.        , 1.40686187],\n",
       "       [1.        , 1.69009468],\n",
       "       [1.        , 0.22412486],\n",
       "       [1.        , 0.66240922],\n",
       "       [1.        , 0.91749006],\n",
       "       [1.        , 1.69679242],\n",
       "       [1.        , 0.17112181],\n",
       "       [1.        , 1.39274644],\n",
       "       [1.        , 0.50305568],\n",
       "       [1.        , 0.17619993],\n",
       "       [1.        , 0.71590253],\n",
       "       [1.        , 1.11848705],\n",
       "       [1.        , 1.6213638 ],\n",
       "       [1.        , 1.51592609],\n",
       "       [1.        , 0.36826643],\n",
       "       [1.        , 0.18304587],\n",
       "       [1.        , 0.01869308],\n",
       "       [1.        , 0.35389176],\n",
       "       [1.        , 0.65775958],\n",
       "       [1.        , 0.71837708],\n",
       "       [1.        , 1.84392961],\n",
       "       [1.        , 1.13329269],\n",
       "       [1.        , 1.07227493],\n",
       "       [1.        , 0.53353732],\n",
       "       [1.        , 1.77175621],\n",
       "       [1.        , 1.16002141],\n",
       "       [1.        , 1.19974458],\n",
       "       [1.        , 0.18863206],\n",
       "       [1.        , 0.15917155],\n",
       "       [1.        , 0.66160585],\n",
       "       [1.        , 1.84163058]])"
      ]
     },
     "execution_count": 10,
     "metadata": {},
     "output_type": "execute_result"
    }
   ],
   "source": [
    "X_b = np.c_[np.ones((100,1)), X]\n",
    "X_b # added 1 next to X (1 is coming from w0, which is 'actually' w0*1)"
   ]
  },
  {
   "cell_type": "code",
   "execution_count": 12,
   "metadata": {},
   "outputs": [
    {
     "data": {
      "text/plain": [
       "((100, 2), (2, 100))"
      ]
     },
     "execution_count": 12,
     "metadata": {},
     "output_type": "execute_result"
    }
   ],
   "source": [
    "X_b.shape, X_b.T.shape"
   ]
  },
  {
   "cell_type": "code",
   "execution_count": null,
   "metadata": {},
   "outputs": [],
   "source": [
    "y * X^T *inv(X * X^T) = w "
   ]
  },
  {
   "cell_type": "code",
   "execution_count": 16,
   "metadata": {},
   "outputs": [
    {
     "data": {
      "text/plain": [
       "array([[3.91373308],\n",
       "       [2.98386858]])"
      ]
     },
     "execution_count": 16,
     "metadata": {},
     "output_type": "execute_result"
    }
   ],
   "source": [
    "w_best = np.linalg.inv(X_b.T.dot(X_b)).dot(X_b.T).dot(y) # use the equation above to calculate dot products and estimate params\n",
    "w_best # best estimate using the 'closed form solution' to this problem (given the noise)\n"
   ]
  },
  {
   "cell_type": "markdown",
   "metadata": {},
   "source": [
    "Expecting 4 and 3 for our params w0 and w1, so this isn't a bad estimate. BUT! as X gets larger and larger, our matrix gets larger and larger too and taking the inverse of a matrix is very computationally expensive, and the closed form solution is no longer feasible.\n",
    "\n",
    "So instead we use another solution! Gradient descent, uses an algorithim (iterations) instead to estimate the parameters of the model"
   ]
  },
  {
   "cell_type": "markdown",
   "metadata": {},
   "source": [
    "# Gradient descent"
   ]
  },
  {
   "cell_type": "markdown",
   "metadata": {},
   "source": [
    "For ML algorithims, goal is to minimise difference between prediction and ground truth.\n",
    "Gradient descent tweaks parameters iteratively to minimize a cost function (Ltheta)"
   ]
  },
  {
   "cell_type": "code",
   "execution_count": null,
   "metadata": {},
   "outputs": [],
   "source": [
    "Wage = w0 + w1*Age + noise # my goal is estimating w0 and w1\n",
    "person1: Wage1hat = w0 + w1*Age1\n",
    "person2: Wage2hat = w0 + w1*Age2\n",
    "...\n",
    "PN: WageNhat = w0 + w1*AgeN #note that the parameters are the same for all data points (people in this case). This makes linear regression a parametric test, cf KNN which is not parametric, does not have common parameters across all data points\n",
    "\n",
    "n number of people, n number of predictions (WageNhat)\n",
    "\n",
    "these predictions are based on specific [w0 w1] values\n",
    "\n",
    "squared error:(Wage1 - Wage1hat)^2 + (Wage2 - Wage2hat)^2 ... + (WageN - WageNhat)^2"
   ]
  },
  {
   "cell_type": "markdown",
   "metadata": {},
   "source": [
    "note: 19mins into Lecture March 19th"
   ]
  }
 ],
 "metadata": {
  "kernelspec": {
   "display_name": "Python 3",
   "language": "python",
   "name": "python3"
  },
  "language_info": {
   "codemirror_mode": {
    "name": "ipython",
    "version": 3
   },
   "file_extension": ".py",
   "mimetype": "text/x-python",
   "name": "python",
   "nbconvert_exporter": "python",
   "pygments_lexer": "ipython3",
   "version": "3.12.4"
  }
 },
 "nbformat": 4,
 "nbformat_minor": 2
}
