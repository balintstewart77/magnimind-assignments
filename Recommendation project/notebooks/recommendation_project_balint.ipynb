{
 "cells": [
  {
   "cell_type": "markdown",
   "metadata": {},
   "source": [
    "For this task, you are provided ‘recom.csv’ dataset. In this dataset, you have following columns:\n",
    "\n",
    "•\tMain_ID (Customer ID)\n",
    "•\tTransaction_ID\n",
    "•\tDate\n",
    "•\tPrice\n",
    "•\tCode_Product\n",
    "•\tAmount (Order Amount)\n",
    "•\tItemKey\n",
    "\n",
    "Well, using this data, you are asked to **generate a dataframe in which you recommend an item (or items) for each user**.\n",
    "\n",
    "Hints: \n",
    "1)\tPlease note that there is no rating in the dataset, but, no worries, there is a way to solve this problem.\n",
    "2)\tIf possible, please recommend multiple items per user.\n",
    "3)\tYou can consider creating pivot table with ‘Main_ID’, ‘ItemKey’, ‘Transaction_ID’.\n"
   ]
  },
  {
   "cell_type": "markdown",
   "metadata": {},
   "source": [
    "# Import libraries"
   ]
  },
  {
   "cell_type": "code",
   "execution_count": 78,
   "metadata": {},
   "outputs": [],
   "source": [
    "# Load libraries\n",
    "import numpy as np\n",
    "import pandas as pd\n",
    "import matplotlib.pyplot as plt\n",
    "import seaborn as sns\n"
   ]
  },
  {
   "cell_type": "markdown",
   "metadata": {},
   "source": [
    "# EDA"
   ]
  },
  {
   "cell_type": "code",
   "execution_count": 79,
   "metadata": {},
   "outputs": [],
   "source": [
    "df = pd.read_csv(r'../data/recom.csv')"
   ]
  },
  {
   "cell_type": "code",
   "execution_count": 80,
   "metadata": {},
   "outputs": [
    {
     "data": {
      "text/html": [
       "<div>\n",
       "<style scoped>\n",
       "    .dataframe tbody tr th:only-of-type {\n",
       "        vertical-align: middle;\n",
       "    }\n",
       "\n",
       "    .dataframe tbody tr th {\n",
       "        vertical-align: top;\n",
       "    }\n",
       "\n",
       "    .dataframe thead th {\n",
       "        text-align: right;\n",
       "    }\n",
       "</style>\n",
       "<table border=\"1\" class=\"dataframe\">\n",
       "  <thead>\n",
       "    <tr style=\"text-align: right;\">\n",
       "      <th></th>\n",
       "      <th>Unnamed: 0</th>\n",
       "      <th>Main_ID</th>\n",
       "      <th>Transaction_ID</th>\n",
       "      <th>Date</th>\n",
       "      <th>Price</th>\n",
       "      <th>Code_Product</th>\n",
       "      <th>Amount</th>\n",
       "      <th>ItemKey</th>\n",
       "    </tr>\n",
       "  </thead>\n",
       "  <tbody>\n",
       "    <tr>\n",
       "      <th>0</th>\n",
       "      <td>0</td>\n",
       "      <td>90fada91</td>\n",
       "      <td>264f7a69</td>\n",
       "      <td>2022-10-07 20:53:49.153</td>\n",
       "      <td>125.0</td>\n",
       "      <td>5002.0</td>\n",
       "      <td>1.0</td>\n",
       "      <td>5002.0</td>\n",
       "    </tr>\n",
       "    <tr>\n",
       "      <th>1</th>\n",
       "      <td>1</td>\n",
       "      <td>9006f9ac</td>\n",
       "      <td>45c7d853</td>\n",
       "      <td>2022-09-17 15:54:57.187</td>\n",
       "      <td>19.0</td>\n",
       "      <td>35012.0</td>\n",
       "      <td>1.0</td>\n",
       "      <td>NaN</td>\n",
       "    </tr>\n",
       "    <tr>\n",
       "      <th>2</th>\n",
       "      <td>2</td>\n",
       "      <td>32270891</td>\n",
       "      <td>61ad76dd</td>\n",
       "      <td>2022-11-28 13:51:55.667</td>\n",
       "      <td>141.0</td>\n",
       "      <td>5005.0</td>\n",
       "      <td>1.0</td>\n",
       "      <td>5005.0</td>\n",
       "    </tr>\n",
       "    <tr>\n",
       "      <th>3</th>\n",
       "      <td>3</td>\n",
       "      <td>97e03e47</td>\n",
       "      <td>41ee09f6</td>\n",
       "      <td>2022-09-12 16:20:22.110</td>\n",
       "      <td>4.5</td>\n",
       "      <td>35078.5</td>\n",
       "      <td>1.0</td>\n",
       "      <td>NaN</td>\n",
       "    </tr>\n",
       "    <tr>\n",
       "      <th>4</th>\n",
       "      <td>4</td>\n",
       "      <td>41949228</td>\n",
       "      <td>244fe6d8</td>\n",
       "      <td>2022-10-14 18:53:43.933</td>\n",
       "      <td>129.5</td>\n",
       "      <td>49291.5</td>\n",
       "      <td>5.0</td>\n",
       "      <td>NaN</td>\n",
       "    </tr>\n",
       "  </tbody>\n",
       "</table>\n",
       "</div>"
      ],
      "text/plain": [
       "   Unnamed: 0   Main_ID Transaction_ID                     Date  Price  \\\n",
       "0           0  90fada91       264f7a69  2022-10-07 20:53:49.153  125.0   \n",
       "1           1  9006f9ac       45c7d853  2022-09-17 15:54:57.187   19.0   \n",
       "2           2  32270891       61ad76dd  2022-11-28 13:51:55.667  141.0   \n",
       "3           3  97e03e47       41ee09f6  2022-09-12 16:20:22.110    4.5   \n",
       "4           4  41949228       244fe6d8  2022-10-14 18:53:43.933  129.5   \n",
       "\n",
       "   Code_Product  Amount  ItemKey  \n",
       "0        5002.0     1.0   5002.0  \n",
       "1       35012.0     1.0      NaN  \n",
       "2        5005.0     1.0   5005.0  \n",
       "3       35078.5     1.0      NaN  \n",
       "4       49291.5     5.0      NaN  "
      ]
     },
     "execution_count": 80,
     "metadata": {},
     "output_type": "execute_result"
    }
   ],
   "source": [
    "df.head()"
   ]
  },
  {
   "cell_type": "code",
   "execution_count": 81,
   "metadata": {},
   "outputs": [
    {
     "data": {
      "text/plain": [
       "(50000, 8)"
      ]
     },
     "execution_count": 81,
     "metadata": {},
     "output_type": "execute_result"
    }
   ],
   "source": [
    "df.shape"
   ]
  },
  {
   "cell_type": "code",
   "execution_count": 82,
   "metadata": {},
   "outputs": [
    {
     "data": {
      "text/plain": [
       "Unnamed: 0            0\n",
       "Main_ID               0\n",
       "Transaction_ID        0\n",
       "Date                  0\n",
       "Price                 0\n",
       "Code_Product          0\n",
       "Amount                0\n",
       "ItemKey           21403\n",
       "dtype: int64"
      ]
     },
     "execution_count": 82,
     "metadata": {},
     "output_type": "execute_result"
    }
   ],
   "source": [
    "df.isna().sum()"
   ]
  },
  {
   "cell_type": "code",
   "execution_count": 83,
   "metadata": {},
   "outputs": [
    {
     "data": {
      "text/plain": [
       "0"
      ]
     },
     "execution_count": 83,
     "metadata": {},
     "output_type": "execute_result"
    }
   ],
   "source": [
    "df.duplicated().sum()"
   ]
  },
  {
   "cell_type": "code",
   "execution_count": 84,
   "metadata": {},
   "outputs": [
    {
     "data": {
      "text/plain": [
       "28514"
      ]
     },
     "execution_count": 84,
     "metadata": {},
     "output_type": "execute_result"
    }
   ],
   "source": [
    "df['Main_ID'].nunique()"
   ]
  },
  {
   "cell_type": "code",
   "execution_count": 85,
   "metadata": {},
   "outputs": [
    {
     "data": {
      "text/plain": [
       "333"
      ]
     },
     "execution_count": 85,
     "metadata": {},
     "output_type": "execute_result"
    }
   ],
   "source": [
    "df['Code_Product'].nunique()"
   ]
  },
  {
   "cell_type": "markdown",
   "metadata": {},
   "source": [
    "We have 50,000 transactions, across 28514 customers and 333 products"
   ]
  },
  {
   "cell_type": "code",
   "execution_count": 86,
   "metadata": {},
   "outputs": [
    {
     "data": {
      "image/png": "[encoded data removed]",
      "text/plain": [
       "<Figure size 1000x600 with 1 Axes>"
      ]
     },
     "metadata": {},
     "output_type": "display_data"
    }
   ],
   "source": [
    "main_id_counts = df['Main_ID'].value_counts()\n",
    "duplicated_counts = main_id_counts[main_id_counts > 1]\n",
    "\n",
    "# Create a histogram of the number of rows each duplicated ID has\n",
    "plt.figure(figsize=(10, 6))\n",
    "plt.hist(duplicated_counts, bins=range(2, duplicated_counts.max()), edgecolor='black') # start at 2 counts (all are duplicated)\n",
    "plt.title('Histogram of Duplicate Main_ID Counts')\n",
    "plt.xlabel('Number of Duplicate Main_IDs')\n",
    "plt.ylabel('Frequency')\n",
    "plt.xticks(range(2, duplicated_counts.max() + 1), rotation = 45)\n",
    "plt.grid(axis='y', alpha=0.7)\n",
    "plt.show()"
   ]
  },
  {
   "cell_type": "code",
   "execution_count": 87,
   "metadata": {},
   "outputs": [
    {
     "data": {
      "text/plain": [
       "7243"
      ]
     },
     "execution_count": 87,
     "metadata": {},
     "output_type": "execute_result"
    }
   ],
   "source": [
    "len(duplicated_counts)"
   ]
  },
  {
   "cell_type": "code",
   "execution_count": 88,
   "metadata": {},
   "outputs": [
    {
     "data": {
      "text/plain": [
       "21271"
      ]
     },
     "execution_count": 88,
     "metadata": {},
     "output_type": "execute_result"
    }
   ],
   "source": [
    "single_transaction_cusomters = main_id_counts[main_id_counts ==1]\n",
    "len(single_transaction_cusomters)"
   ]
  },
  {
   "cell_type": "markdown",
   "metadata": {},
   "source": [
    "## What is the difference between 'Code_Product' and 'ItemKey'"
   ]
  },
  {
   "cell_type": "code",
   "execution_count": 89,
   "metadata": {},
   "outputs": [
    {
     "data": {
      "text/html": [
       "<div>\n",
       "<style scoped>\n",
       "    .dataframe tbody tr th:only-of-type {\n",
       "        vertical-align: middle;\n",
       "    }\n",
       "\n",
       "    .dataframe tbody tr th {\n",
       "        vertical-align: top;\n",
       "    }\n",
       "\n",
       "    .dataframe thead th {\n",
       "        text-align: right;\n",
       "    }\n",
       "</style>\n",
       "<table border=\"1\" class=\"dataframe\">\n",
       "  <thead>\n",
       "    <tr style=\"text-align: right;\">\n",
       "      <th></th>\n",
       "      <th>Code_Product</th>\n",
       "      <th>ItemKey</th>\n",
       "    </tr>\n",
       "  </thead>\n",
       "  <tbody>\n",
       "    <tr>\n",
       "      <th>1654</th>\n",
       "      <td>10013.0</td>\n",
       "      <td>10013.0</td>\n",
       "    </tr>\n",
       "    <tr>\n",
       "      <th>15463</th>\n",
       "      <td>48513.0</td>\n",
       "      <td>NaN</td>\n",
       "    </tr>\n",
       "    <tr>\n",
       "      <th>8323</th>\n",
       "      <td>5009.0</td>\n",
       "      <td>5009.0</td>\n",
       "    </tr>\n",
       "    <tr>\n",
       "      <th>23600</th>\n",
       "      <td>40021.5</td>\n",
       "      <td>40021.5</td>\n",
       "    </tr>\n",
       "    <tr>\n",
       "      <th>47224</th>\n",
       "      <td>49291.5</td>\n",
       "      <td>NaN</td>\n",
       "    </tr>\n",
       "  </tbody>\n",
       "</table>\n",
       "</div>"
      ],
      "text/plain": [
       "       Code_Product  ItemKey\n",
       "1654        10013.0  10013.0\n",
       "15463       48513.0      NaN\n",
       "8323         5009.0   5009.0\n",
       "23600       40021.5  40021.5\n",
       "47224       49291.5      NaN"
      ]
     },
     "execution_count": 89,
     "metadata": {},
     "output_type": "execute_result"
    }
   ],
   "source": [
    "df[['Code_Product', 'ItemKey']].sample(5)"
   ]
  },
  {
   "cell_type": "code",
   "execution_count": 90,
   "metadata": {},
   "outputs": [
    {
     "data": {
      "text/plain": [
       "0.0    28597\n",
       "NaN    21403\n",
       "Name: count, dtype: int64"
      ]
     },
     "execution_count": 90,
     "metadata": {},
     "output_type": "execute_result"
    }
   ],
   "source": [
    "#Check if Code_product and ItemKey are the same\n",
    "difference_cp_ik = df['Code_Product'] - df['ItemKey']\n",
    "difference_cp_ik.value_counts(dropna = False)"
   ]
  },
  {
   "cell_type": "markdown",
   "metadata": {},
   "source": [
    "ItemKey is the same as Code_product but contains NAs, drop this column"
   ]
  },
  {
   "cell_type": "code",
   "execution_count": 91,
   "metadata": {},
   "outputs": [],
   "source": [
    "df.drop('ItemKey', inplace  = True, axis = 1)"
   ]
  },
  {
   "cell_type": "markdown",
   "metadata": {},
   "source": [
    "## Distribution and meaning of 'Amount' column"
   ]
  },
  {
   "cell_type": "code",
   "execution_count": 92,
   "metadata": {},
   "outputs": [
    {
     "data": {
      "text/plain": [
       "Unnamed: 0          int64\n",
       "Main_ID            object\n",
       "Transaction_ID     object\n",
       "Date               object\n",
       "Price             float64\n",
       "Code_Product      float64\n",
       "Amount            float64\n",
       "dtype: object"
      ]
     },
     "execution_count": 92,
     "metadata": {},
     "output_type": "execute_result"
    }
   ],
   "source": [
    "df.dtypes"
   ]
  },
  {
   "cell_type": "code",
   "execution_count": 93,
   "metadata": {},
   "outputs": [],
   "source": [
    "df['Amount'] = df['Amount'].astype(int)"
   ]
  },
  {
   "cell_type": "code",
   "execution_count": 94,
   "metadata": {},
   "outputs": [
    {
     "data": {
      "image/png": "[encoded data removed]",
      "text/plain": [
       "<Figure size 1000x600 with 1 Axes>"
      ]
     },
     "metadata": {},
     "output_type": "display_data"
    }
   ],
   "source": [
    "#Visualise distribution of Amount\n",
    "plt.figure(figsize = (10,6))\n",
    "plt.hist(df['Amount'], bins = range(1, df['Amount'].max() + 1), edgecolor = 'black')\n",
    "plt.title('Histogram of Amount distribution')\n",
    "plt.xlabel('Amount')\n",
    "plt.ylabel('count')\n",
    "plt.xticks(range(1, df['Amount'].max() + 1), rotation = 45)\n",
    "plt.show()"
   ]
  },
  {
   "cell_type": "markdown",
   "metadata": {},
   "source": [
    "Does 'Amount' refer to number of (different) items bought in that transaction, or number of same item? Look into relationship between Amount and Price for some products"
   ]
  },
  {
   "cell_type": "code",
   "execution_count": 95,
   "metadata": {},
   "outputs": [
    {
     "data": {
      "text/html": [
       "<div>\n",
       "<style scoped>\n",
       "    .dataframe tbody tr th:only-of-type {\n",
       "        vertical-align: middle;\n",
       "    }\n",
       "\n",
       "    .dataframe tbody tr th {\n",
       "        vertical-align: top;\n",
       "    }\n",
       "\n",
       "    .dataframe thead th {\n",
       "        text-align: right;\n",
       "    }\n",
       "</style>\n",
       "<table border=\"1\" class=\"dataframe\">\n",
       "  <thead>\n",
       "    <tr style=\"text-align: right;\">\n",
       "      <th></th>\n",
       "      <th>Unnamed: 0</th>\n",
       "      <th>Main_ID</th>\n",
       "      <th>Transaction_ID</th>\n",
       "      <th>Date</th>\n",
       "      <th>Price</th>\n",
       "      <th>Code_Product</th>\n",
       "      <th>Amount</th>\n",
       "    </tr>\n",
       "  </thead>\n",
       "  <tbody>\n",
       "    <tr>\n",
       "      <th>4</th>\n",
       "      <td>4</td>\n",
       "      <td>41949228</td>\n",
       "      <td>244fe6d8</td>\n",
       "      <td>2022-10-14 18:53:43.933</td>\n",
       "      <td>129.5</td>\n",
       "      <td>49291.5</td>\n",
       "      <td>5</td>\n",
       "    </tr>\n",
       "    <tr>\n",
       "      <th>5</th>\n",
       "      <td>5</td>\n",
       "      <td>0e816717</td>\n",
       "      <td>654c3866</td>\n",
       "      <td>2022-10-21 20:53:45.037</td>\n",
       "      <td>72.0</td>\n",
       "      <td>49291.5</td>\n",
       "      <td>1</td>\n",
       "    </tr>\n",
       "    <tr>\n",
       "      <th>18</th>\n",
       "      <td>18</td>\n",
       "      <td>4e30e4bd</td>\n",
       "      <td>e4e0995f</td>\n",
       "      <td>2022-09-13 18:06:33.157</td>\n",
       "      <td>59.0</td>\n",
       "      <td>49291.5</td>\n",
       "      <td>1</td>\n",
       "    </tr>\n",
       "    <tr>\n",
       "      <th>44</th>\n",
       "      <td>44</td>\n",
       "      <td>1914e5ad</td>\n",
       "      <td>c263f5ca</td>\n",
       "      <td>2022-11-27 14:34:39.030</td>\n",
       "      <td>19.5</td>\n",
       "      <td>49291.5</td>\n",
       "      <td>1</td>\n",
       "    </tr>\n",
       "    <tr>\n",
       "      <th>50</th>\n",
       "      <td>50</td>\n",
       "      <td>21e2aea9</td>\n",
       "      <td>69ef6992</td>\n",
       "      <td>2022-08-28 17:13:01.943</td>\n",
       "      <td>47.5</td>\n",
       "      <td>49291.5</td>\n",
       "      <td>1</td>\n",
       "    </tr>\n",
       "  </tbody>\n",
       "</table>\n",
       "</div>"
      ],
      "text/plain": [
       "    Unnamed: 0   Main_ID Transaction_ID                     Date  Price  \\\n",
       "4            4  41949228       244fe6d8  2022-10-14 18:53:43.933  129.5   \n",
       "5            5  0e816717       654c3866  2022-10-21 20:53:45.037   72.0   \n",
       "18          18  4e30e4bd       e4e0995f  2022-09-13 18:06:33.157   59.0   \n",
       "44          44  1914e5ad       c263f5ca  2022-11-27 14:34:39.030   19.5   \n",
       "50          50  21e2aea9       69ef6992  2022-08-28 17:13:01.943   47.5   \n",
       "\n",
       "    Code_Product  Amount  \n",
       "4        49291.5       5  \n",
       "5        49291.5       1  \n",
       "18       49291.5       1  \n",
       "44       49291.5       1  \n",
       "50       49291.5       1  "
      ]
     },
     "execution_count": 95,
     "metadata": {},
     "output_type": "execute_result"
    }
   ],
   "source": [
    "product49291 = df[df['Code_Product'] == 49291.5]\n",
    "product10013 = df[df['Code_Product'] == 10013.0]\n",
    "product49291.head()"
   ]
  },
  {
   "cell_type": "markdown",
   "metadata": {},
   "source": [
    "The transaction IDS for this example Code_Product when Amount = 5 is unique, so Amount must be if that same product. Price doesn't seem to match up with simple Amount * (single unit price) however, with Amount = 5 for Code_Product 49291.5 $129.5 (on 2022-10-14), and a single unit $72 (on 2022-10-21). You;d expect single unit to be 129.5/5 = $25.9.\n"
   ]
  },
  {
   "cell_type": "markdown",
   "metadata": {},
   "source": [
    "Could Price here reflect the single unit price? Have a look at how Price corresponds to amount for the top three most popular products"
   ]
  },
  {
   "cell_type": "code",
   "execution_count": 96,
   "metadata": {},
   "outputs": [
    {
     "data": {
      "image/png": "[encoded data removed]",
      "text/plain": [
       "<Figure size 1800x600 with 2 Axes>"
      ]
     },
     "metadata": {},
     "output_type": "display_data"
    }
   ],
   "source": [
    "fig, axes = plt.subplots(1,2, figsize = (18,6))\n",
    "\n",
    "sns.boxplot(x= 'Amount', y = 'Price', data = product49291, ax = axes[0])\n",
    "sns.boxplot(x= 'Amount', y = 'Price', data = product10013, ax = axes[1])\n",
    "fig.suptitle('Distribution of Price for another example product with varying Amounts') # set to centre of figure\n",
    "plt.show()\n",
    "\n"
   ]
  },
  {
   "cell_type": "markdown",
   "metadata": {},
   "source": [
    "Check the medians for each Amount value per product, looks like they're scaling nicely here so Amount indicates the amount of that product bought in that transaction."
   ]
  },
  {
   "cell_type": "code",
   "execution_count": 97,
   "metadata": {},
   "outputs": [
    {
     "data": {
      "text/plain": [
       "Amount\n",
       "1     43.50\n",
       "2    104.00\n",
       "3    136.50\n",
       "4    180.50\n",
       "5    219.25\n",
       "Name: Price, dtype: float64"
      ]
     },
     "execution_count": 97,
     "metadata": {},
     "output_type": "execute_result"
    }
   ],
   "source": [
    "product10013.groupby('Amount')['Price'].median()"
   ]
  },
  {
   "cell_type": "markdown",
   "metadata": {},
   "source": [
    "Lots of variability in single unit cost, but when looking at medians it looks like the prices scale nicely with the amount"
   ]
  },
  {
   "cell_type": "markdown",
   "metadata": {},
   "source": [
    "## Transaction_ID data"
   ]
  },
  {
   "cell_type": "code",
   "execution_count": 98,
   "metadata": {},
   "outputs": [
    {
     "data": {
      "text/plain": [
       "count\n",
       "1    46859\n",
       "2     1491\n",
       "3       53\n",
       "Name: count, dtype: int64"
      ]
     },
     "execution_count": 98,
     "metadata": {},
     "output_type": "execute_result"
    }
   ],
   "source": [
    "transaction_id_counts = df['Transaction_ID'].value_counts()\n",
    "transaction_id_counts.value_counts()"
   ]
  },
  {
   "cell_type": "markdown",
   "metadata": {},
   "source": [
    "We have 1491 duplicated Transaction_IDs, 53 with three records. Check the duplicated transaction IDs occured from same customer on same day/time, and refer to customer purchasing more than one product"
   ]
  },
  {
   "cell_type": "code",
   "execution_count": 99,
   "metadata": {},
   "outputs": [],
   "source": [
    "transaction_duplicates = df[df['Transaction_ID'].duplicated(keep = False)]"
   ]
  },
  {
   "cell_type": "code",
   "execution_count": 100,
   "metadata": {},
   "outputs": [
    {
     "data": {
      "text/html": [
       "<div>\n",
       "<style scoped>\n",
       "    .dataframe tbody tr th:only-of-type {\n",
       "        vertical-align: middle;\n",
       "    }\n",
       "\n",
       "    .dataframe tbody tr th {\n",
       "        vertical-align: top;\n",
       "    }\n",
       "\n",
       "    .dataframe thead th {\n",
       "        text-align: right;\n",
       "    }\n",
       "</style>\n",
       "<table border=\"1\" class=\"dataframe\">\n",
       "  <thead>\n",
       "    <tr style=\"text-align: right;\">\n",
       "      <th></th>\n",
       "      <th>Unnamed: 0</th>\n",
       "      <th>Main_ID</th>\n",
       "      <th>Transaction_ID</th>\n",
       "      <th>Date</th>\n",
       "      <th>Price</th>\n",
       "      <th>Code_Product</th>\n",
       "      <th>Amount</th>\n",
       "    </tr>\n",
       "  </thead>\n",
       "  <tbody>\n",
       "    <tr>\n",
       "      <th>12373</th>\n",
       "      <td>12373</td>\n",
       "      <td>7d7ea3d3</td>\n",
       "      <td>00647a4d</td>\n",
       "      <td>2022-11-21 17:28:34.180</td>\n",
       "      <td>189.0</td>\n",
       "      <td>10003.0</td>\n",
       "      <td>1</td>\n",
       "    </tr>\n",
       "    <tr>\n",
       "      <th>49616</th>\n",
       "      <td>49616</td>\n",
       "      <td>7d7ea3d3</td>\n",
       "      <td>00647a4d</td>\n",
       "      <td>2022-11-21 17:28:34.180</td>\n",
       "      <td>189.0</td>\n",
       "      <td>45001.5</td>\n",
       "      <td>2</td>\n",
       "    </tr>\n",
       "    <tr>\n",
       "      <th>3447</th>\n",
       "      <td>3447</td>\n",
       "      <td>04ca2e79</td>\n",
       "      <td>00a29b9f</td>\n",
       "      <td>2022-10-22 18:45:20.490</td>\n",
       "      <td>133.5</td>\n",
       "      <td>49292.0</td>\n",
       "      <td>2</td>\n",
       "    </tr>\n",
       "    <tr>\n",
       "      <th>36284</th>\n",
       "      <td>36284</td>\n",
       "      <td>04ca2e79</td>\n",
       "      <td>00a29b9f</td>\n",
       "      <td>2022-10-22 18:45:20.490</td>\n",
       "      <td>133.5</td>\n",
       "      <td>49292.0</td>\n",
       "      <td>2</td>\n",
       "    </tr>\n",
       "    <tr>\n",
       "      <th>24715</th>\n",
       "      <td>24715</td>\n",
       "      <td>367d45d1</td>\n",
       "      <td>00f59200</td>\n",
       "      <td>2022-10-06 15:09:53.273</td>\n",
       "      <td>50.5</td>\n",
       "      <td>5009.0</td>\n",
       "      <td>1</td>\n",
       "    </tr>\n",
       "    <tr>\n",
       "      <th>...</th>\n",
       "      <td>...</td>\n",
       "      <td>...</td>\n",
       "      <td>...</td>\n",
       "      <td>...</td>\n",
       "      <td>...</td>\n",
       "      <td>...</td>\n",
       "      <td>...</td>\n",
       "    </tr>\n",
       "    <tr>\n",
       "      <th>26328</th>\n",
       "      <td>26328</td>\n",
       "      <td>825af057</td>\n",
       "      <td>fff34fc5</td>\n",
       "      <td>2022-10-27 13:27:00.670</td>\n",
       "      <td>274.0</td>\n",
       "      <td>10023.5</td>\n",
       "      <td>2</td>\n",
       "    </tr>\n",
       "    <tr>\n",
       "      <th>34547</th>\n",
       "      <td>34547</td>\n",
       "      <td>825af057</td>\n",
       "      <td>fff34fc5</td>\n",
       "      <td>2022-10-27 13:27:00.670</td>\n",
       "      <td>274.0</td>\n",
       "      <td>25005.0</td>\n",
       "      <td>1</td>\n",
       "    </tr>\n",
       "    <tr>\n",
       "      <th>22348</th>\n",
       "      <td>22348</td>\n",
       "      <td>8e5994b0</td>\n",
       "      <td>fff7818d</td>\n",
       "      <td>2022-11-19 16:02:23.617</td>\n",
       "      <td>93.5</td>\n",
       "      <td>5002.0</td>\n",
       "      <td>1</td>\n",
       "    </tr>\n",
       "    <tr>\n",
       "      <th>33766</th>\n",
       "      <td>33766</td>\n",
       "      <td>8e5994b0</td>\n",
       "      <td>fff7818d</td>\n",
       "      <td>2022-11-19 16:02:23.617</td>\n",
       "      <td>93.5</td>\n",
       "      <td>5011.5</td>\n",
       "      <td>1</td>\n",
       "    </tr>\n",
       "    <tr>\n",
       "      <th>28428</th>\n",
       "      <td>28428</td>\n",
       "      <td>8e5994b0</td>\n",
       "      <td>fff7818d</td>\n",
       "      <td>2022-11-19 16:02:23.617</td>\n",
       "      <td>93.5</td>\n",
       "      <td>5011.5</td>\n",
       "      <td>1</td>\n",
       "    </tr>\n",
       "  </tbody>\n",
       "</table>\n",
       "<p>3141 rows × 7 columns</p>\n",
       "</div>"
      ],
      "text/plain": [
       "       Unnamed: 0   Main_ID Transaction_ID                     Date  Price  \\\n",
       "12373       12373  7d7ea3d3       00647a4d  2022-11-21 17:28:34.180  189.0   \n",
       "49616       49616  7d7ea3d3       00647a4d  2022-11-21 17:28:34.180  189.0   \n",
       "3447         3447  04ca2e79       00a29b9f  2022-10-22 18:45:20.490  133.5   \n",
       "36284       36284  04ca2e79       00a29b9f  2022-10-22 18:45:20.490  133.5   \n",
       "24715       24715  367d45d1       00f59200  2022-10-06 15:09:53.273   50.5   \n",
       "...           ...       ...            ...                      ...    ...   \n",
       "26328       26328  825af057       fff34fc5  2022-10-27 13:27:00.670  274.0   \n",
       "34547       34547  825af057       fff34fc5  2022-10-27 13:27:00.670  274.0   \n",
       "22348       22348  8e5994b0       fff7818d  2022-11-19 16:02:23.617   93.5   \n",
       "33766       33766  8e5994b0       fff7818d  2022-11-19 16:02:23.617   93.5   \n",
       "28428       28428  8e5994b0       fff7818d  2022-11-19 16:02:23.617   93.5   \n",
       "\n",
       "       Code_Product  Amount  \n",
       "12373       10003.0       1  \n",
       "49616       45001.5       2  \n",
       "3447        49292.0       2  \n",
       "36284       49292.0       2  \n",
       "24715        5009.0       1  \n",
       "...             ...     ...  \n",
       "26328       10023.5       2  \n",
       "34547       25005.0       1  \n",
       "22348        5002.0       1  \n",
       "33766        5011.5       1  \n",
       "28428        5011.5       1  \n",
       "\n",
       "[3141 rows x 7 columns]"
      ]
     },
     "execution_count": 100,
     "metadata": {},
     "output_type": "execute_result"
    }
   ],
   "source": [
    "transaction_duplicates.sort_values(by= 'Transaction_ID')"
   ]
  },
  {
   "cell_type": "markdown",
   "metadata": {},
   "source": [
    "For transaction duplicates, customer and date are always the same, price is also the same only Code_Product is different. The duplicated transaction IDs therefore show **different products purchased at the same time by the same customer**, the price is the **aggregate of the all the code_products in the transcation as well as the and amount**."
   ]
  },
  {
   "cell_type": "markdown",
   "metadata": {},
   "source": [
    "## What are the most popular products? Could be 'null' recommendation e.g. for new users"
   ]
  },
  {
   "cell_type": "code",
   "execution_count": 101,
   "metadata": {},
   "outputs": [
    {
     "data": {
      "text/plain": [
       "Code_Product\n",
       "49292.0    6006\n",
       "49291.5    5706\n",
       "5000.5     4730\n",
       "45004.0    4507\n",
       "10013.0    1713\n",
       "Name: Amount, dtype: int32"
      ]
     },
     "execution_count": 101,
     "metadata": {},
     "output_type": "execute_result"
    }
   ],
   "source": [
    "popular_products = df.groupby('Code_Product')['Amount'].sum().sort_values(ascending = False)\n",
    "popular_products.head()"
   ]
  },
  {
   "cell_type": "markdown",
   "metadata": {},
   "source": [
    "## Have a look at aggregate data grouped by customer"
   ]
  },
  {
   "cell_type": "code",
   "execution_count": 102,
   "metadata": {},
   "outputs": [],
   "source": [
    "df['Date'] = pd.to_datetime(df['Date'])"
   ]
  },
  {
   "cell_type": "code",
   "execution_count": 103,
   "metadata": {},
   "outputs": [
    {
     "data": {
      "text/html": [
       "<div>\n",
       "<style scoped>\n",
       "    .dataframe tbody tr th:only-of-type {\n",
       "        vertical-align: middle;\n",
       "    }\n",
       "\n",
       "    .dataframe tbody tr th {\n",
       "        vertical-align: top;\n",
       "    }\n",
       "\n",
       "    .dataframe thead th {\n",
       "        text-align: right;\n",
       "    }\n",
       "</style>\n",
       "<table border=\"1\" class=\"dataframe\">\n",
       "  <thead>\n",
       "    <tr style=\"text-align: right;\">\n",
       "      <th></th>\n",
       "      <th>Total_Spend</th>\n",
       "      <th>Days_Since_Last_Purchase</th>\n",
       "      <th>Purchase_Count</th>\n",
       "    </tr>\n",
       "    <tr>\n",
       "      <th>Main_ID</th>\n",
       "      <th></th>\n",
       "      <th></th>\n",
       "      <th></th>\n",
       "    </tr>\n",
       "  </thead>\n",
       "  <tbody>\n",
       "    <tr>\n",
       "      <th>751131ee</th>\n",
       "      <td>28082.5</td>\n",
       "      <td>4</td>\n",
       "      <td>51</td>\n",
       "    </tr>\n",
       "    <tr>\n",
       "      <th>c25c373a</th>\n",
       "      <td>19561.5</td>\n",
       "      <td>74</td>\n",
       "      <td>25</td>\n",
       "    </tr>\n",
       "    <tr>\n",
       "      <th>31812c26</th>\n",
       "      <td>11399.5</td>\n",
       "      <td>80</td>\n",
       "      <td>19</td>\n",
       "    </tr>\n",
       "    <tr>\n",
       "      <th>4493b2ac</th>\n",
       "      <td>6318.5</td>\n",
       "      <td>1</td>\n",
       "      <td>35</td>\n",
       "    </tr>\n",
       "    <tr>\n",
       "      <th>0c87428f</th>\n",
       "      <td>6065.0</td>\n",
       "      <td>10</td>\n",
       "      <td>19</td>\n",
       "    </tr>\n",
       "  </tbody>\n",
       "</table>\n",
       "</div>"
      ],
      "text/plain": [
       "          Total_Spend  Days_Since_Last_Purchase  Purchase_Count\n",
       "Main_ID                                                        \n",
       "751131ee      28082.5                         4              51\n",
       "c25c373a      19561.5                        74              25\n",
       "31812c26      11399.5                        80              19\n",
       "4493b2ac       6318.5                         1              35\n",
       "0c87428f       6065.0                        10              19"
      ]
     },
     "execution_count": 103,
     "metadata": {},
     "output_type": "execute_result"
    }
   ],
   "source": [
    "last_date = df['Date'].max()\n",
    "\n",
    "customer_freq_spend_date = df.groupby('Main_ID').agg(\n",
    "    Total_Spend=pd.NamedAgg(column='Price', aggfunc='sum'),\n",
    "    Days_Since_Last_Purchase=pd.NamedAgg(column='Date', aggfunc=lambda x: (last_date - x.max()).days),\n",
    "    Purchase_Count=pd.NamedAgg(column='Date', aggfunc='count')\n",
    ")\n",
    "customer_freq_spend_date.sort_values(by= 'Total_Spend', ascending= False).head()"
   ]
  },
  {
   "cell_type": "markdown",
   "metadata": {},
   "source": [
    "## Create pivot table for understanding relationship between customer and products they buy"
   ]
  },
  {
   "cell_type": "code",
   "execution_count": 104,
   "metadata": {},
   "outputs": [
    {
     "data": {
      "text/html": [
       "<div>\n",
       "<style scoped>\n",
       "    .dataframe tbody tr th:only-of-type {\n",
       "        vertical-align: middle;\n",
       "    }\n",
       "\n",
       "    .dataframe tbody tr th {\n",
       "        vertical-align: top;\n",
       "    }\n",
       "\n",
       "    .dataframe thead th {\n",
       "        text-align: right;\n",
       "    }\n",
       "</style>\n",
       "<table border=\"1\" class=\"dataframe\">\n",
       "  <thead>\n",
       "    <tr style=\"text-align: right;\">\n",
       "      <th>Code_Product</th>\n",
       "      <th>5000.5</th>\n",
       "      <th>5001.0</th>\n",
       "      <th>5001.5</th>\n",
       "      <th>5002.0</th>\n",
       "      <th>5002.5</th>\n",
       "      <th>5003.0</th>\n",
       "      <th>5004.0</th>\n",
       "      <th>5004.5</th>\n",
       "      <th>5005.0</th>\n",
       "      <th>5007.0</th>\n",
       "      <th>...</th>\n",
       "      <th>200035.5</th>\n",
       "      <th>200037.0</th>\n",
       "      <th>200037.5</th>\n",
       "      <th>200038.0</th>\n",
       "      <th>200038.5</th>\n",
       "      <th>200045.5</th>\n",
       "      <th>200046.0</th>\n",
       "      <th>200046.5</th>\n",
       "      <th>200047.0</th>\n",
       "      <th>350027.5</th>\n",
       "    </tr>\n",
       "    <tr>\n",
       "      <th>Main_ID</th>\n",
       "      <th></th>\n",
       "      <th></th>\n",
       "      <th></th>\n",
       "      <th></th>\n",
       "      <th></th>\n",
       "      <th></th>\n",
       "      <th></th>\n",
       "      <th></th>\n",
       "      <th></th>\n",
       "      <th></th>\n",
       "      <th></th>\n",
       "      <th></th>\n",
       "      <th></th>\n",
       "      <th></th>\n",
       "      <th></th>\n",
       "      <th></th>\n",
       "      <th></th>\n",
       "      <th></th>\n",
       "      <th></th>\n",
       "      <th></th>\n",
       "      <th></th>\n",
       "    </tr>\n",
       "  </thead>\n",
       "  <tbody>\n",
       "    <tr>\n",
       "      <th>00024de6</th>\n",
       "      <td>0</td>\n",
       "      <td>0</td>\n",
       "      <td>0</td>\n",
       "      <td>0</td>\n",
       "      <td>0</td>\n",
       "      <td>0</td>\n",
       "      <td>0</td>\n",
       "      <td>0</td>\n",
       "      <td>0</td>\n",
       "      <td>0</td>\n",
       "      <td>...</td>\n",
       "      <td>0</td>\n",
       "      <td>0</td>\n",
       "      <td>0</td>\n",
       "      <td>0</td>\n",
       "      <td>0</td>\n",
       "      <td>0</td>\n",
       "      <td>0</td>\n",
       "      <td>0</td>\n",
       "      <td>0</td>\n",
       "      <td>0</td>\n",
       "    </tr>\n",
       "    <tr>\n",
       "      <th>00084856</th>\n",
       "      <td>0</td>\n",
       "      <td>0</td>\n",
       "      <td>0</td>\n",
       "      <td>0</td>\n",
       "      <td>0</td>\n",
       "      <td>0</td>\n",
       "      <td>0</td>\n",
       "      <td>0</td>\n",
       "      <td>0</td>\n",
       "      <td>0</td>\n",
       "      <td>...</td>\n",
       "      <td>0</td>\n",
       "      <td>0</td>\n",
       "      <td>0</td>\n",
       "      <td>0</td>\n",
       "      <td>0</td>\n",
       "      <td>0</td>\n",
       "      <td>0</td>\n",
       "      <td>0</td>\n",
       "      <td>0</td>\n",
       "      <td>0</td>\n",
       "    </tr>\n",
       "    <tr>\n",
       "      <th>0008e848</th>\n",
       "      <td>0</td>\n",
       "      <td>0</td>\n",
       "      <td>0</td>\n",
       "      <td>0</td>\n",
       "      <td>0</td>\n",
       "      <td>0</td>\n",
       "      <td>0</td>\n",
       "      <td>0</td>\n",
       "      <td>0</td>\n",
       "      <td>0</td>\n",
       "      <td>...</td>\n",
       "      <td>0</td>\n",
       "      <td>0</td>\n",
       "      <td>0</td>\n",
       "      <td>0</td>\n",
       "      <td>0</td>\n",
       "      <td>0</td>\n",
       "      <td>0</td>\n",
       "      <td>0</td>\n",
       "      <td>0</td>\n",
       "      <td>0</td>\n",
       "    </tr>\n",
       "    <tr>\n",
       "      <th>00096930</th>\n",
       "      <td>0</td>\n",
       "      <td>0</td>\n",
       "      <td>0</td>\n",
       "      <td>0</td>\n",
       "      <td>0</td>\n",
       "      <td>0</td>\n",
       "      <td>0</td>\n",
       "      <td>0</td>\n",
       "      <td>0</td>\n",
       "      <td>0</td>\n",
       "      <td>...</td>\n",
       "      <td>0</td>\n",
       "      <td>0</td>\n",
       "      <td>0</td>\n",
       "      <td>0</td>\n",
       "      <td>0</td>\n",
       "      <td>0</td>\n",
       "      <td>0</td>\n",
       "      <td>0</td>\n",
       "      <td>0</td>\n",
       "      <td>0</td>\n",
       "    </tr>\n",
       "    <tr>\n",
       "      <th>000c66b7</th>\n",
       "      <td>0</td>\n",
       "      <td>0</td>\n",
       "      <td>0</td>\n",
       "      <td>1</td>\n",
       "      <td>0</td>\n",
       "      <td>0</td>\n",
       "      <td>0</td>\n",
       "      <td>0</td>\n",
       "      <td>0</td>\n",
       "      <td>0</td>\n",
       "      <td>...</td>\n",
       "      <td>0</td>\n",
       "      <td>0</td>\n",
       "      <td>0</td>\n",
       "      <td>0</td>\n",
       "      <td>0</td>\n",
       "      <td>0</td>\n",
       "      <td>0</td>\n",
       "      <td>0</td>\n",
       "      <td>0</td>\n",
       "      <td>0</td>\n",
       "    </tr>\n",
       "    <tr>\n",
       "      <th>...</th>\n",
       "      <td>...</td>\n",
       "      <td>...</td>\n",
       "      <td>...</td>\n",
       "      <td>...</td>\n",
       "      <td>...</td>\n",
       "      <td>...</td>\n",
       "      <td>...</td>\n",
       "      <td>...</td>\n",
       "      <td>...</td>\n",
       "      <td>...</td>\n",
       "      <td>...</td>\n",
       "      <td>...</td>\n",
       "      <td>...</td>\n",
       "      <td>...</td>\n",
       "      <td>...</td>\n",
       "      <td>...</td>\n",
       "      <td>...</td>\n",
       "      <td>...</td>\n",
       "      <td>...</td>\n",
       "      <td>...</td>\n",
       "      <td>...</td>\n",
       "    </tr>\n",
       "    <tr>\n",
       "      <th>fff8b1c4</th>\n",
       "      <td>0</td>\n",
       "      <td>0</td>\n",
       "      <td>0</td>\n",
       "      <td>0</td>\n",
       "      <td>0</td>\n",
       "      <td>0</td>\n",
       "      <td>0</td>\n",
       "      <td>0</td>\n",
       "      <td>0</td>\n",
       "      <td>0</td>\n",
       "      <td>...</td>\n",
       "      <td>0</td>\n",
       "      <td>0</td>\n",
       "      <td>0</td>\n",
       "      <td>0</td>\n",
       "      <td>0</td>\n",
       "      <td>0</td>\n",
       "      <td>0</td>\n",
       "      <td>0</td>\n",
       "      <td>0</td>\n",
       "      <td>0</td>\n",
       "    </tr>\n",
       "    <tr>\n",
       "      <th>fff905d0</th>\n",
       "      <td>0</td>\n",
       "      <td>0</td>\n",
       "      <td>0</td>\n",
       "      <td>0</td>\n",
       "      <td>0</td>\n",
       "      <td>0</td>\n",
       "      <td>0</td>\n",
       "      <td>0</td>\n",
       "      <td>0</td>\n",
       "      <td>0</td>\n",
       "      <td>...</td>\n",
       "      <td>0</td>\n",
       "      <td>0</td>\n",
       "      <td>0</td>\n",
       "      <td>0</td>\n",
       "      <td>0</td>\n",
       "      <td>0</td>\n",
       "      <td>0</td>\n",
       "      <td>0</td>\n",
       "      <td>0</td>\n",
       "      <td>0</td>\n",
       "    </tr>\n",
       "    <tr>\n",
       "      <th>fff9726b</th>\n",
       "      <td>0</td>\n",
       "      <td>0</td>\n",
       "      <td>0</td>\n",
       "      <td>0</td>\n",
       "      <td>0</td>\n",
       "      <td>0</td>\n",
       "      <td>0</td>\n",
       "      <td>0</td>\n",
       "      <td>0</td>\n",
       "      <td>0</td>\n",
       "      <td>...</td>\n",
       "      <td>0</td>\n",
       "      <td>0</td>\n",
       "      <td>0</td>\n",
       "      <td>0</td>\n",
       "      <td>0</td>\n",
       "      <td>0</td>\n",
       "      <td>0</td>\n",
       "      <td>0</td>\n",
       "      <td>0</td>\n",
       "      <td>0</td>\n",
       "    </tr>\n",
       "    <tr>\n",
       "      <th>fffa332b</th>\n",
       "      <td>0</td>\n",
       "      <td>0</td>\n",
       "      <td>0</td>\n",
       "      <td>0</td>\n",
       "      <td>0</td>\n",
       "      <td>0</td>\n",
       "      <td>0</td>\n",
       "      <td>0</td>\n",
       "      <td>0</td>\n",
       "      <td>0</td>\n",
       "      <td>...</td>\n",
       "      <td>0</td>\n",
       "      <td>0</td>\n",
       "      <td>0</td>\n",
       "      <td>0</td>\n",
       "      <td>0</td>\n",
       "      <td>0</td>\n",
       "      <td>0</td>\n",
       "      <td>0</td>\n",
       "      <td>0</td>\n",
       "      <td>0</td>\n",
       "    </tr>\n",
       "    <tr>\n",
       "      <th>ffff4aa9</th>\n",
       "      <td>0</td>\n",
       "      <td>0</td>\n",
       "      <td>0</td>\n",
       "      <td>0</td>\n",
       "      <td>0</td>\n",
       "      <td>0</td>\n",
       "      <td>0</td>\n",
       "      <td>0</td>\n",
       "      <td>0</td>\n",
       "      <td>0</td>\n",
       "      <td>...</td>\n",
       "      <td>0</td>\n",
       "      <td>0</td>\n",
       "      <td>0</td>\n",
       "      <td>0</td>\n",
       "      <td>0</td>\n",
       "      <td>0</td>\n",
       "      <td>0</td>\n",
       "      <td>0</td>\n",
       "      <td>0</td>\n",
       "      <td>0</td>\n",
       "    </tr>\n",
       "  </tbody>\n",
       "</table>\n",
       "<p>28514 rows × 333 columns</p>\n",
       "</div>"
      ],
      "text/plain": [
       "Code_Product  5000.5    5001.0    5001.5    5002.0    5002.5    5003.0    \\\n",
       "Main_ID                                                                    \n",
       "00024de6             0         0         0         0         0         0   \n",
       "00084856             0         0         0         0         0         0   \n",
       "0008e848             0         0         0         0         0         0   \n",
       "00096930             0         0         0         0         0         0   \n",
       "000c66b7             0         0         0         1         0         0   \n",
       "...                ...       ...       ...       ...       ...       ...   \n",
       "fff8b1c4             0         0         0         0         0         0   \n",
       "fff905d0             0         0         0         0         0         0   \n",
       "fff9726b             0         0         0         0         0         0   \n",
       "fffa332b             0         0         0         0         0         0   \n",
       "ffff4aa9             0         0         0         0         0         0   \n",
       "\n",
       "Code_Product  5004.0    5004.5    5005.0    5007.0    ...  200035.5  200037.0  \\\n",
       "Main_ID                                               ...                       \n",
       "00024de6             0         0         0         0  ...         0         0   \n",
       "00084856             0         0         0         0  ...         0         0   \n",
       "0008e848             0         0         0         0  ...         0         0   \n",
       "00096930             0         0         0         0  ...         0         0   \n",
       "000c66b7             0         0         0         0  ...         0         0   \n",
       "...                ...       ...       ...       ...  ...       ...       ...   \n",
       "fff8b1c4             0         0         0         0  ...         0         0   \n",
       "fff905d0             0         0         0         0  ...         0         0   \n",
       "fff9726b             0         0         0         0  ...         0         0   \n",
       "fffa332b             0         0         0         0  ...         0         0   \n",
       "ffff4aa9             0         0         0         0  ...         0         0   \n",
       "\n",
       "Code_Product  200037.5  200038.0  200038.5  200045.5  200046.0  200046.5  \\\n",
       "Main_ID                                                                    \n",
       "00024de6             0         0         0         0         0         0   \n",
       "00084856             0         0         0         0         0         0   \n",
       "0008e848             0         0         0         0         0         0   \n",
       "00096930             0         0         0         0         0         0   \n",
       "000c66b7             0         0         0         0         0         0   \n",
       "...                ...       ...       ...       ...       ...       ...   \n",
       "fff8b1c4             0         0         0         0         0         0   \n",
       "fff905d0             0         0         0         0         0         0   \n",
       "fff9726b             0         0         0         0         0         0   \n",
       "fffa332b             0         0         0         0         0         0   \n",
       "ffff4aa9             0         0         0         0         0         0   \n",
       "\n",
       "Code_Product  200047.0  350027.5  \n",
       "Main_ID                           \n",
       "00024de6             0         0  \n",
       "00084856             0         0  \n",
       "0008e848             0         0  \n",
       "00096930             0         0  \n",
       "000c66b7             0         0  \n",
       "...                ...       ...  \n",
       "fff8b1c4             0         0  \n",
       "fff905d0             0         0  \n",
       "fff9726b             0         0  \n",
       "fffa332b             0         0  \n",
       "ffff4aa9             0         0  \n",
       "\n",
       "[28514 rows x 333 columns]"
      ]
     },
     "execution_count": 104,
     "metadata": {},
     "output_type": "execute_result"
    }
   ],
   "source": [
    "cust_item_pivot = pd.pivot_table(df, values = 'Amount', index = 'Main_ID', columns = 'Code_Product', aggfunc = 'sum', fill_value = 0) \n",
    "cust_item_pivot"
   ]
  },
  {
   "cell_type": "code",
   "execution_count": 105,
   "metadata": {},
   "outputs": [],
   "source": [
    "item_cust_pivot = cust_item_pivot.T"
   ]
  },
  {
   "cell_type": "code",
   "execution_count": 106,
   "metadata": {},
   "outputs": [],
   "source": [
    "# Generate a dot product matrix to show which products are co-occuring more or less across each customer (mostly across different transactions, sometimes same transaction - we just sum them above/don't treat them differently)\n",
    "co_occur_matrix = np.dot(item_cust_pivot, cust_item_pivot)"
   ]
  },
  {
   "cell_type": "code",
   "execution_count": 107,
   "metadata": {},
   "outputs": [
    {
     "data": {
      "text/plain": [
       "333"
      ]
     },
     "execution_count": 107,
     "metadata": {},
     "output_type": "execute_result"
    }
   ],
   "source": [
    "len(co_occur_matrix) # matches the number of products"
   ]
  },
  {
   "cell_type": "code",
   "execution_count": 108,
   "metadata": {},
   "outputs": [],
   "source": [
    "co_occur_df = pd.DataFrame(co_occur_matrix,\n",
    "                           index = item_cust_pivot.index,\n",
    "                           columns = item_cust_pivot.index\n",
    "                           )"
   ]
  },
  {
   "cell_type": "code",
   "execution_count": 109,
   "metadata": {},
   "outputs": [
    {
     "data": {
      "text/html": [
       "<div>\n",
       "<style scoped>\n",
       "    .dataframe tbody tr th:only-of-type {\n",
       "        vertical-align: middle;\n",
       "    }\n",
       "\n",
       "    .dataframe tbody tr th {\n",
       "        vertical-align: top;\n",
       "    }\n",
       "\n",
       "    .dataframe thead th {\n",
       "        text-align: right;\n",
       "    }\n",
       "</style>\n",
       "<table border=\"1\" class=\"dataframe\">\n",
       "  <thead>\n",
       "    <tr style=\"text-align: right;\">\n",
       "      <th>Code_Product</th>\n",
       "      <th>5000.5</th>\n",
       "      <th>5001.0</th>\n",
       "      <th>5001.5</th>\n",
       "      <th>5002.0</th>\n",
       "      <th>5002.5</th>\n",
       "      <th>5003.0</th>\n",
       "      <th>5004.0</th>\n",
       "      <th>5004.5</th>\n",
       "      <th>5005.0</th>\n",
       "      <th>5007.0</th>\n",
       "      <th>...</th>\n",
       "      <th>200035.5</th>\n",
       "      <th>200037.0</th>\n",
       "      <th>200037.5</th>\n",
       "      <th>200038.0</th>\n",
       "      <th>200038.5</th>\n",
       "      <th>200045.5</th>\n",
       "      <th>200046.0</th>\n",
       "      <th>200046.5</th>\n",
       "      <th>200047.0</th>\n",
       "      <th>350027.5</th>\n",
       "    </tr>\n",
       "    <tr>\n",
       "      <th>Code_Product</th>\n",
       "      <th></th>\n",
       "      <th></th>\n",
       "      <th></th>\n",
       "      <th></th>\n",
       "      <th></th>\n",
       "      <th></th>\n",
       "      <th></th>\n",
       "      <th></th>\n",
       "      <th></th>\n",
       "      <th></th>\n",
       "      <th></th>\n",
       "      <th></th>\n",
       "      <th></th>\n",
       "      <th></th>\n",
       "      <th></th>\n",
       "      <th></th>\n",
       "      <th></th>\n",
       "      <th></th>\n",
       "      <th></th>\n",
       "      <th></th>\n",
       "      <th></th>\n",
       "    </tr>\n",
       "  </thead>\n",
       "  <tbody>\n",
       "    <tr>\n",
       "      <th>5000.5</th>\n",
       "      <td>13022</td>\n",
       "      <td>695</td>\n",
       "      <td>325</td>\n",
       "      <td>675</td>\n",
       "      <td>0</td>\n",
       "      <td>8</td>\n",
       "      <td>1</td>\n",
       "      <td>104</td>\n",
       "      <td>83</td>\n",
       "      <td>27</td>\n",
       "      <td>...</td>\n",
       "      <td>0</td>\n",
       "      <td>0</td>\n",
       "      <td>0</td>\n",
       "      <td>0</td>\n",
       "      <td>0</td>\n",
       "      <td>0</td>\n",
       "      <td>0</td>\n",
       "      <td>0</td>\n",
       "      <td>0</td>\n",
       "      <td>0</td>\n",
       "    </tr>\n",
       "    <tr>\n",
       "      <th>5001.0</th>\n",
       "      <td>695</td>\n",
       "      <td>1197</td>\n",
       "      <td>68</td>\n",
       "      <td>192</td>\n",
       "      <td>0</td>\n",
       "      <td>1</td>\n",
       "      <td>0</td>\n",
       "      <td>35</td>\n",
       "      <td>69</td>\n",
       "      <td>9</td>\n",
       "      <td>...</td>\n",
       "      <td>0</td>\n",
       "      <td>0</td>\n",
       "      <td>0</td>\n",
       "      <td>0</td>\n",
       "      <td>0</td>\n",
       "      <td>0</td>\n",
       "      <td>0</td>\n",
       "      <td>0</td>\n",
       "      <td>0</td>\n",
       "      <td>0</td>\n",
       "    </tr>\n",
       "    <tr>\n",
       "      <th>5001.5</th>\n",
       "      <td>325</td>\n",
       "      <td>68</td>\n",
       "      <td>674</td>\n",
       "      <td>50</td>\n",
       "      <td>0</td>\n",
       "      <td>2</td>\n",
       "      <td>1</td>\n",
       "      <td>3</td>\n",
       "      <td>9</td>\n",
       "      <td>10</td>\n",
       "      <td>...</td>\n",
       "      <td>0</td>\n",
       "      <td>0</td>\n",
       "      <td>0</td>\n",
       "      <td>0</td>\n",
       "      <td>0</td>\n",
       "      <td>0</td>\n",
       "      <td>0</td>\n",
       "      <td>0</td>\n",
       "      <td>0</td>\n",
       "      <td>0</td>\n",
       "    </tr>\n",
       "    <tr>\n",
       "      <th>5002.0</th>\n",
       "      <td>675</td>\n",
       "      <td>192</td>\n",
       "      <td>50</td>\n",
       "      <td>1308</td>\n",
       "      <td>0</td>\n",
       "      <td>6</td>\n",
       "      <td>0</td>\n",
       "      <td>27</td>\n",
       "      <td>16</td>\n",
       "      <td>3</td>\n",
       "      <td>...</td>\n",
       "      <td>0</td>\n",
       "      <td>0</td>\n",
       "      <td>0</td>\n",
       "      <td>0</td>\n",
       "      <td>0</td>\n",
       "      <td>0</td>\n",
       "      <td>0</td>\n",
       "      <td>0</td>\n",
       "      <td>0</td>\n",
       "      <td>0</td>\n",
       "    </tr>\n",
       "    <tr>\n",
       "      <th>5002.5</th>\n",
       "      <td>0</td>\n",
       "      <td>0</td>\n",
       "      <td>0</td>\n",
       "      <td>0</td>\n",
       "      <td>5</td>\n",
       "      <td>0</td>\n",
       "      <td>0</td>\n",
       "      <td>0</td>\n",
       "      <td>0</td>\n",
       "      <td>0</td>\n",
       "      <td>...</td>\n",
       "      <td>0</td>\n",
       "      <td>0</td>\n",
       "      <td>0</td>\n",
       "      <td>0</td>\n",
       "      <td>0</td>\n",
       "      <td>0</td>\n",
       "      <td>0</td>\n",
       "      <td>0</td>\n",
       "      <td>0</td>\n",
       "      <td>0</td>\n",
       "    </tr>\n",
       "  </tbody>\n",
       "</table>\n",
       "<p>5 rows × 333 columns</p>\n",
       "</div>"
      ],
      "text/plain": [
       "Code_Product  5000.5    5001.0    5001.5    5002.0    5002.5    5003.0    \\\n",
       "Code_Product                                                               \n",
       "5000.5           13022       695       325       675         0         8   \n",
       "5001.0             695      1197        68       192         0         1   \n",
       "5001.5             325        68       674        50         0         2   \n",
       "5002.0             675       192        50      1308         0         6   \n",
       "5002.5               0         0         0         0         5         0   \n",
       "\n",
       "Code_Product  5004.0    5004.5    5005.0    5007.0    ...  200035.5  200037.0  \\\n",
       "Code_Product                                          ...                       \n",
       "5000.5               1       104        83        27  ...         0         0   \n",
       "5001.0               0        35        69         9  ...         0         0   \n",
       "5001.5               1         3         9        10  ...         0         0   \n",
       "5002.0               0        27        16         3  ...         0         0   \n",
       "5002.5               0         0         0         0  ...         0         0   \n",
       "\n",
       "Code_Product  200037.5  200038.0  200038.5  200045.5  200046.0  200046.5  \\\n",
       "Code_Product                                                               \n",
       "5000.5               0         0         0         0         0         0   \n",
       "5001.0               0         0         0         0         0         0   \n",
       "5001.5               0         0         0         0         0         0   \n",
       "5002.0               0         0         0         0         0         0   \n",
       "5002.5               0         0         0         0         0         0   \n",
       "\n",
       "Code_Product  200047.0  350027.5  \n",
       "Code_Product                      \n",
       "5000.5               0         0  \n",
       "5001.0               0         0  \n",
       "5001.5               0         0  \n",
       "5002.0               0         0  \n",
       "5002.5               0         0  \n",
       "\n",
       "[5 rows x 333 columns]"
      ]
     },
     "execution_count": 109,
     "metadata": {},
     "output_type": "execute_result"
    }
   ],
   "source": [
    "co_occur_df.head()"
   ]
  },
  {
   "cell_type": "markdown",
   "metadata": {},
   "source": [
    "With the co-occurrence or similarity matrix in hand:\n",
    "\n",
    "- Identify items each user already purchased by iterating over user_item_pivot.\n",
    "- For each purchased item, look up the top-N similar items from the co_occurrence_df.\n",
    "- Collect these candidate items, sort by highest co-occurrence, and exclude items the user already has to avoid recommending duplicates."
   ]
  },
  {
   "cell_type": "code",
   "execution_count": 110,
   "metadata": {},
   "outputs": [],
   "source": [
    "def recommend_items(cust_id, cust_item_data, co_occurence_data, top_n=3):\n",
    "    # get items purchased by the user\n",
    "    purchased_items = cust_item_data.columns[cust_item_data.loc[cust_id] > 0]\n",
    "    \n",
    "    # For every item the user purchased, get co-occurance scores from the co-occurance data\n",
    "    similar_candidates = {}\n",
    "    \n",
    "    for item in purchased_items:\n",
    "        # Sort items by similarity score descending\n",
    "        sim_scores = co_occurence_data.loc[item].sort_values(ascending=False)\n",
    "        for candidate_item, score in sim_scores.items():\n",
    "            # Skip if it's the item itself or already purchased\n",
    "            if candidate_item == item or candidate_item in purchased_items:\n",
    "                continue\n",
    "            similar_candidates[candidate_item] = max(similar_candidates.get(candidate_item, 0), score) # get the item with the highest similarity score for that product\n",
    "    \n",
    "    # Sort candidates by max similarity (co-occurence)\n",
    "    sorted_candidates = sorted(similar_candidates.items(), key=lambda x: x[1], reverse=True)\n",
    "    \n",
    "    # Pick the top_n as the top recommendations (default, three recommendations - can change this if we want more)\n",
    "    top_recs = [item for item, score in sorted_candidates[:top_n]]\n",
    "    return top_recs\n",
    "\n",
    "# Create a dictinary of customer and top_n recommended items\n",
    "all_recommendations = {}\n",
    "for cust in cust_item_pivot.index:\n",
    "    recs = recommend_items(\n",
    "        cust_id=cust, \n",
    "        cust_item_data=cust_item_pivot, \n",
    "        co_occurence_data= co_occur_df, \n",
    "        top_n=3\n",
    "    )\n",
    "    all_recommendations[cust] = recs"
   ]
  },
  {
   "cell_type": "code",
   "execution_count": 111,
   "metadata": {},
   "outputs": [],
   "source": [
    "# create final df with customer Id and recommended items\n",
    "recs_df = pd.DataFrame([\n",
    "    {'Main_ID': user, 'Recommended_Items': all_recommendations[user]} \n",
    "    for user in all_recommendations\n",
    "])"
   ]
  },
  {
   "cell_type": "code",
   "execution_count": 112,
   "metadata": {},
   "outputs": [
    {
     "data": {
      "text/html": [
       "<div>\n",
       "<style scoped>\n",
       "    .dataframe tbody tr th:only-of-type {\n",
       "        vertical-align: middle;\n",
       "    }\n",
       "\n",
       "    .dataframe tbody tr th {\n",
       "        vertical-align: top;\n",
       "    }\n",
       "\n",
       "    .dataframe thead th {\n",
       "        text-align: right;\n",
       "    }\n",
       "</style>\n",
       "<table border=\"1\" class=\"dataframe\">\n",
       "  <thead>\n",
       "    <tr style=\"text-align: right;\">\n",
       "      <th></th>\n",
       "      <th>Main_ID</th>\n",
       "      <th>Recommended_Items</th>\n",
       "    </tr>\n",
       "  </thead>\n",
       "  <tbody>\n",
       "    <tr>\n",
       "      <th>0</th>\n",
       "      <td>00024de6</td>\n",
       "      <td>[35001.0, 35096.5, 5000.5]</td>\n",
       "    </tr>\n",
       "    <tr>\n",
       "      <th>1</th>\n",
       "      <td>00084856</td>\n",
       "      <td>[5000.5, 45004.0, 10013.0]</td>\n",
       "    </tr>\n",
       "    <tr>\n",
       "      <th>2</th>\n",
       "      <td>0008e848</td>\n",
       "      <td>[5000.5, 45004.0, 49291.5]</td>\n",
       "    </tr>\n",
       "    <tr>\n",
       "      <th>3</th>\n",
       "      <td>00096930</td>\n",
       "      <td>[49292.0, 5000.5, 45004.0]</td>\n",
       "    </tr>\n",
       "    <tr>\n",
       "      <th>4</th>\n",
       "      <td>000c66b7</td>\n",
       "      <td>[5000.5, 45004.0, 49292.0]</td>\n",
       "    </tr>\n",
       "  </tbody>\n",
       "</table>\n",
       "</div>"
      ],
      "text/plain": [
       "    Main_ID           Recommended_Items\n",
       "0  00024de6  [35001.0, 35096.5, 5000.5]\n",
       "1  00084856  [5000.5, 45004.0, 10013.0]\n",
       "2  0008e848  [5000.5, 45004.0, 49291.5]\n",
       "3  00096930  [49292.0, 5000.5, 45004.0]\n",
       "4  000c66b7  [5000.5, 45004.0, 49292.0]"
      ]
     },
     "execution_count": 112,
     "metadata": {},
     "output_type": "execute_result"
    }
   ],
   "source": [
    "recs_df.head()"
   ]
  },
  {
   "cell_type": "code",
   "execution_count": null,
   "metadata": {},
   "outputs": [],
   "source": [
    "# Split Recommnded_Items list into three separate columns\n",
    "recs_df[['rec1','rec2','rec3']] = pd.DataFrame(recs_df['Recommended_Items'].to_list(), index = recs_df.index)\n",
    "recs_df.drop('Recommended_Items', axis = 1, inplace = True)                       "
   ]
  },
  {
   "cell_type": "code",
   "execution_count": 114,
   "metadata": {},
   "outputs": [
    {
     "data": {
      "text/html": [
       "<div>\n",
       "<style scoped>\n",
       "    .dataframe tbody tr th:only-of-type {\n",
       "        vertical-align: middle;\n",
       "    }\n",
       "\n",
       "    .dataframe tbody tr th {\n",
       "        vertical-align: top;\n",
       "    }\n",
       "\n",
       "    .dataframe thead th {\n",
       "        text-align: right;\n",
       "    }\n",
       "</style>\n",
       "<table border=\"1\" class=\"dataframe\">\n",
       "  <thead>\n",
       "    <tr style=\"text-align: right;\">\n",
       "      <th></th>\n",
       "      <th>Main_ID</th>\n",
       "      <th>rec1</th>\n",
       "      <th>rec2</th>\n",
       "      <th>rec3</th>\n",
       "    </tr>\n",
       "  </thead>\n",
       "  <tbody>\n",
       "    <tr>\n",
       "      <th>0</th>\n",
       "      <td>00024de6</td>\n",
       "      <td>35001.0</td>\n",
       "      <td>35096.5</td>\n",
       "      <td>5000.5</td>\n",
       "    </tr>\n",
       "    <tr>\n",
       "      <th>1</th>\n",
       "      <td>00084856</td>\n",
       "      <td>5000.5</td>\n",
       "      <td>45004.0</td>\n",
       "      <td>10013.0</td>\n",
       "    </tr>\n",
       "    <tr>\n",
       "      <th>2</th>\n",
       "      <td>0008e848</td>\n",
       "      <td>5000.5</td>\n",
       "      <td>45004.0</td>\n",
       "      <td>49291.5</td>\n",
       "    </tr>\n",
       "    <tr>\n",
       "      <th>3</th>\n",
       "      <td>00096930</td>\n",
       "      <td>49292.0</td>\n",
       "      <td>5000.5</td>\n",
       "      <td>45004.0</td>\n",
       "    </tr>\n",
       "    <tr>\n",
       "      <th>4</th>\n",
       "      <td>000c66b7</td>\n",
       "      <td>5000.5</td>\n",
       "      <td>45004.0</td>\n",
       "      <td>49292.0</td>\n",
       "    </tr>\n",
       "  </tbody>\n",
       "</table>\n",
       "</div>"
      ],
      "text/plain": [
       "    Main_ID     rec1     rec2     rec3\n",
       "0  00024de6  35001.0  35096.5   5000.5\n",
       "1  00084856   5000.5  45004.0  10013.0\n",
       "2  0008e848   5000.5  45004.0  49291.5\n",
       "3  00096930  49292.0   5000.5  45004.0\n",
       "4  000c66b7   5000.5  45004.0  49292.0"
      ]
     },
     "execution_count": 114,
     "metadata": {},
     "output_type": "execute_result"
    }
   ],
   "source": [
    "recs_df.head() "
   ]
  },
  {
   "cell_type": "code",
   "execution_count": 134,
   "metadata": {},
   "outputs": [
    {
     "data": {
      "text/plain": [
       "rec1    47\n",
       "rec2     7\n",
       "rec3    63\n",
       "dtype: int64"
      ]
     },
     "execution_count": 134,
     "metadata": {},
     "output_type": "execute_result"
    }
   ],
   "source": [
    " recs_df[['rec1', 'rec2', 'rec3']].eq(35001.0).sum()"
   ]
  }
 ],
 "metadata": {
  "kernelspec": {
   "display_name": "Python 3",
   "language": "python",
   "name": "python3"
  },
  "language_info": {
   "codemirror_mode": {
    "name": "ipython",
    "version": 3
   },
   "file_extension": ".py",
   "mimetype": "text/x-python",
   "name": "python",
   "nbconvert_exporter": "python",
   "pygments_lexer": "ipython3",
   "version": "3.12.4"
  }
 },
 "nbformat": 4,
 "nbformat_minor": 2
}
