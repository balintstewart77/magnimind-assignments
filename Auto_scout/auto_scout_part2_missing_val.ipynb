{
 "cells": [
  {
   "cell_type": "markdown",
   "metadata": {},
   "source": [
    "# Auto scout project Balint Part 2: dealing with missing values"
   ]
  },
  {
   "cell_type": "code",
   "execution_count": 8,
   "metadata": {},
   "outputs": [],
   "source": [
    "# import libraries\n",
    "import numpy as np\n",
    "import pandas as pd\n",
    "import matplotlib.pyplot as plt\n",
    "import seaborn as sns"
   ]
  },
  {
   "cell_type": "code",
   "execution_count": 9,
   "metadata": {},
   "outputs": [],
   "source": [
    "# load in the cleaned data \n",
    "df = pd.read_csv('data/clean_auto_scout.csv')"
   ]
  },
  {
   "cell_type": "code",
   "execution_count": 10,
   "metadata": {},
   "outputs": [
    {
     "data": {
      "text/html": [
       "<div>\n",
       "<style scoped>\n",
       "    .dataframe tbody tr th:only-of-type {\n",
       "        vertical-align: middle;\n",
       "    }\n",
       "\n",
       "    .dataframe tbody tr th {\n",
       "        vertical-align: top;\n",
       "    }\n",
       "\n",
       "    .dataframe thead th {\n",
       "        text-align: right;\n",
       "    }\n",
       "</style>\n",
       "<table border=\"1\" class=\"dataframe\">\n",
       "  <thead>\n",
       "    <tr style=\"text-align: right;\">\n",
       "      <th></th>\n",
       "      <th>make_model</th>\n",
       "      <th>price</th>\n",
       "      <th>previous_owners_cleaned</th>\n",
       "      <th>co2emission_cleaned_gco2/km</th>\n",
       "      <th>emissionlabel_cleaned</th>\n",
       "      <th>emissionclass_cleaned</th>\n",
       "      <th>body_cleaned</th>\n",
       "      <th>bodycolor_cleaned</th>\n",
       "      <th>km_cleaned</th>\n",
       "      <th>vat_cleaned</th>\n",
       "      <th>...</th>\n",
       "      <th>led_headlights</th>\n",
       "      <th>lane_departure_warning_system</th>\n",
       "      <th>passenger-side_airbag</th>\n",
       "      <th>power_steering</th>\n",
       "      <th>rear_airbag</th>\n",
       "      <th>side_airbag</th>\n",
       "      <th>tire_pressure_monitoring_system</th>\n",
       "      <th>traction_control</th>\n",
       "      <th>traffic_sign_recognition</th>\n",
       "      <th>xenon_headlights</th>\n",
       "    </tr>\n",
       "  </thead>\n",
       "  <tbody>\n",
       "    <tr>\n",
       "      <th>0</th>\n",
       "      <td>Audi A1</td>\n",
       "      <td>15770</td>\n",
       "      <td>2.0</td>\n",
       "      <td>992.0</td>\n",
       "      <td>NaN</td>\n",
       "      <td>6</td>\n",
       "      <td>Sedans</td>\n",
       "      <td>Black</td>\n",
       "      <td>56013.0</td>\n",
       "      <td>VAT deductible</td>\n",
       "      <td>...</td>\n",
       "      <td>0</td>\n",
       "      <td>0</td>\n",
       "      <td>1</td>\n",
       "      <td>1</td>\n",
       "      <td>0</td>\n",
       "      <td>1</td>\n",
       "      <td>1</td>\n",
       "      <td>1</td>\n",
       "      <td>0</td>\n",
       "      <td>1</td>\n",
       "    </tr>\n",
       "    <tr>\n",
       "      <th>1</th>\n",
       "      <td>Audi A1</td>\n",
       "      <td>14500</td>\n",
       "      <td>NaN</td>\n",
       "      <td>1292.0</td>\n",
       "      <td>Green</td>\n",
       "      <td>6</td>\n",
       "      <td>Sedans</td>\n",
       "      <td>Red</td>\n",
       "      <td>80000.0</td>\n",
       "      <td>Price negotiable</td>\n",
       "      <td>...</td>\n",
       "      <td>0</td>\n",
       "      <td>0</td>\n",
       "      <td>1</td>\n",
       "      <td>1</td>\n",
       "      <td>0</td>\n",
       "      <td>1</td>\n",
       "      <td>1</td>\n",
       "      <td>1</td>\n",
       "      <td>0</td>\n",
       "      <td>1</td>\n",
       "    </tr>\n",
       "    <tr>\n",
       "      <th>2</th>\n",
       "      <td>Audi A1</td>\n",
       "      <td>14640</td>\n",
       "      <td>1.0</td>\n",
       "      <td>992.0</td>\n",
       "      <td>Green</td>\n",
       "      <td>6</td>\n",
       "      <td>Sedans</td>\n",
       "      <td>Black</td>\n",
       "      <td>83450.0</td>\n",
       "      <td>VAT deductible</td>\n",
       "      <td>...</td>\n",
       "      <td>0</td>\n",
       "      <td>0</td>\n",
       "      <td>1</td>\n",
       "      <td>1</td>\n",
       "      <td>0</td>\n",
       "      <td>1</td>\n",
       "      <td>1</td>\n",
       "      <td>1</td>\n",
       "      <td>0</td>\n",
       "      <td>0</td>\n",
       "    </tr>\n",
       "    <tr>\n",
       "      <th>3</th>\n",
       "      <td>Audi A1</td>\n",
       "      <td>14500</td>\n",
       "      <td>1.0</td>\n",
       "      <td>992.0</td>\n",
       "      <td>NaN</td>\n",
       "      <td>6</td>\n",
       "      <td>Sedans</td>\n",
       "      <td>Brown</td>\n",
       "      <td>73000.0</td>\n",
       "      <td>NaN</td>\n",
       "      <td>...</td>\n",
       "      <td>0</td>\n",
       "      <td>0</td>\n",
       "      <td>1</td>\n",
       "      <td>1</td>\n",
       "      <td>0</td>\n",
       "      <td>1</td>\n",
       "      <td>1</td>\n",
       "      <td>0</td>\n",
       "      <td>0</td>\n",
       "      <td>0</td>\n",
       "    </tr>\n",
       "    <tr>\n",
       "      <th>4</th>\n",
       "      <td>Audi A1</td>\n",
       "      <td>16790</td>\n",
       "      <td>1.0</td>\n",
       "      <td>1092.0</td>\n",
       "      <td>NaN</td>\n",
       "      <td>6</td>\n",
       "      <td>Sedans</td>\n",
       "      <td>Black</td>\n",
       "      <td>16200.0</td>\n",
       "      <td>NaN</td>\n",
       "      <td>...</td>\n",
       "      <td>0</td>\n",
       "      <td>0</td>\n",
       "      <td>1</td>\n",
       "      <td>1</td>\n",
       "      <td>0</td>\n",
       "      <td>1</td>\n",
       "      <td>1</td>\n",
       "      <td>1</td>\n",
       "      <td>0</td>\n",
       "      <td>1</td>\n",
       "    </tr>\n",
       "  </tbody>\n",
       "</table>\n",
       "<p>5 rows × 113 columns</p>\n",
       "</div>"
      ],
      "text/plain": [
       "  make_model  price  previous_owners_cleaned  co2emission_cleaned_gco2/km  \\\n",
       "0    Audi A1  15770                      2.0                        992.0   \n",
       "1    Audi A1  14500                      NaN                       1292.0   \n",
       "2    Audi A1  14640                      1.0                        992.0   \n",
       "3    Audi A1  14500                      1.0                        992.0   \n",
       "4    Audi A1  16790                      1.0                       1092.0   \n",
       "\n",
       "  emissionlabel_cleaned emissionclass_cleaned body_cleaned bodycolor_cleaned  \\\n",
       "0                   NaN                     6       Sedans             Black   \n",
       "1                 Green                     6       Sedans               Red   \n",
       "2                 Green                     6       Sedans             Black   \n",
       "3                   NaN                     6       Sedans             Brown   \n",
       "4                   NaN                     6       Sedans             Black   \n",
       "\n",
       "   km_cleaned       vat_cleaned  ... led_headlights  \\\n",
       "0     56013.0    VAT deductible  ...              0   \n",
       "1     80000.0  Price negotiable  ...              0   \n",
       "2     83450.0    VAT deductible  ...              0   \n",
       "3     73000.0               NaN  ...              0   \n",
       "4     16200.0               NaN  ...              0   \n",
       "\n",
       "   lane_departure_warning_system passenger-side_airbag power_steering  \\\n",
       "0                              0                     1              1   \n",
       "1                              0                     1              1   \n",
       "2                              0                     1              1   \n",
       "3                              0                     1              1   \n",
       "4                              0                     1              1   \n",
       "\n",
       "  rear_airbag  side_airbag  tire_pressure_monitoring_system traction_control  \\\n",
       "0           0            1                                1                1   \n",
       "1           0            1                                1                1   \n",
       "2           0            1                                1                1   \n",
       "3           0            1                                1                0   \n",
       "4           0            1                                1                1   \n",
       "\n",
       "   traffic_sign_recognition xenon_headlights  \n",
       "0                         0                1  \n",
       "1                         0                1  \n",
       "2                         0                0  \n",
       "3                         0                0  \n",
       "4                         0                1  \n",
       "\n",
       "[5 rows x 113 columns]"
      ]
     },
     "execution_count": 10,
     "metadata": {},
     "output_type": "execute_result"
    }
   ],
   "source": [
    "df.head()"
   ]
  },
  {
   "cell_type": "code",
   "execution_count": 11,
   "metadata": {},
   "outputs": [
    {
     "data": {
      "text/plain": [
       "{'make_model': 0,\n",
       " 'price': 0,\n",
       " 'previous_owners_cleaned': 6665,\n",
       " 'co2emission_cleaned_gco2/km': 2436,\n",
       " 'emissionlabel_cleaned': 11974,\n",
       " 'emissionclass_cleaned': 3628,\n",
       " 'body_cleaned': 60,\n",
       " 'bodycolor_cleaned': 597,\n",
       " 'km_cleaned': 1024,\n",
       " 'vat_cleaned': 4513,\n",
       " 'registration_cleaned': 1597,\n",
       " 'hp_kw_cleaned': 88,\n",
       " 'nextinspection_cleaned': 15209,\n",
       " 'type_cleaned': 2,\n",
       " 'fuel_cleaned': 0,\n",
       " 'particulate_filter': 0,\n",
       " 'multiple_fuel': 0,\n",
       " 'offernumber_cleaned': 3175,\n",
       " 'warranty_months': 11066,\n",
       " 'painttype_cleaned': 5772,\n",
       " 'interior_material': 4503,\n",
       " 'interior_colour': 5078,\n",
       " 'nrofdoors_cleaned': 212,\n",
       " 'nrofseats_cleaned': 977,\n",
       " 'modelcode_cleaned': 10941,\n",
       " 'gearingtype_cleaned': 0,\n",
       " 'gears_cleaned': 4712,\n",
       " 'cylinders_cleaned': 5680,\n",
       " 'drivechain_cleaned': 6858,\n",
       " 'weight_cleaned_kg': 6974,\n",
       " 'displacement_cleaned_cc': 496,\n",
       " 'countryversion_cleaned': 8333,\n",
       " 'consumption_comb_l_per_100km': 2914,\n",
       " 'consumption_city_l_per_100km': 3303,\n",
       " 'consumption_country_l_per_100km': 3243,\n",
       " 'comfort_convenience_cleaned': 0,\n",
       " 'air_conditioning': 0,\n",
       " 'armrest': 0,\n",
       " 'automatic_climate_control': 0,\n",
       " 'cruise_control': 0,\n",
       " 'electric_tailgate': 0,\n",
       " 'electrical_side_mirrors': 0,\n",
       " 'electrically_adjustable_seats': 0,\n",
       " 'electrically_heated_windshield': 0,\n",
       " 'heads-up_display': 0,\n",
       " 'heated_steering_wheel': 0,\n",
       " 'hill_holder': 0,\n",
       " 'keyless_central_door_lock': 0,\n",
       " 'leather_steering_wheel': 0,\n",
       " 'light_sensor': 0,\n",
       " 'lumbar_support': 0,\n",
       " 'multi-function_steering_wheel': 0,\n",
       " 'navigation_system': 0,\n",
       " 'panorama_roof': 0,\n",
       " 'park_distance_control': 0,\n",
       " 'parking_assist_system_camera': 0,\n",
       " 'parking_assist_system_self-steering': 0,\n",
       " 'parking_assist_system_sensors_front': 0,\n",
       " 'parking_assist_system_sensors_rear': 0,\n",
       " 'power_windows': 0,\n",
       " 'rain_sensor': 0,\n",
       " 'seat_heating': 0,\n",
       " 'seat_ventilation': 0,\n",
       " 'split_rear_seats': 0,\n",
       " 'start-stop_system': 0,\n",
       " 'tinted_windows': 0,\n",
       " 'bluetooth': 0,\n",
       " 'cd_player': 0,\n",
       " 'digital_radio': 0,\n",
       " 'hands-free_equipment': 0,\n",
       " 'mp3': 0,\n",
       " 'on-board_computer': 0,\n",
       " 'radio': 0,\n",
       " 'sound_system': 0,\n",
       " 'usb': 0,\n",
       " 'alloy_wheels': 0,\n",
       " 'catalytic_converter': 0,\n",
       " 'roof_rack': 0,\n",
       " 'shift_paddles': 0,\n",
       " 'sport_package': 0,\n",
       " 'sport_seats': 0,\n",
       " 'sport_suspension': 0,\n",
       " 'touch_screen': 0,\n",
       " 'trailer_hitch': 0,\n",
       " 'voice_control': 0,\n",
       " 'abs': 0,\n",
       " 'adaptive_cruise_control': 0,\n",
       " 'adaptive_headlights': 0,\n",
       " 'alarm_system': 0,\n",
       " 'blind_spot_monitor': 0,\n",
       " 'central_door_lock': 0,\n",
       " 'central_door_lock_with_remote_control': 0,\n",
       " 'daytime_running_lights': 0,\n",
       " 'driver_drowsiness_detection': 0,\n",
       " 'driver-side_airbag': 0,\n",
       " 'electronic_stability_control': 0,\n",
       " 'emergency_brake_assistant': 0,\n",
       " 'emergency_system': 0,\n",
       " 'fog_lights': 0,\n",
       " 'head_airbag': 0,\n",
       " 'immobilizer': 0,\n",
       " 'isofix': 0,\n",
       " 'led_daytime_running_lights': 0,\n",
       " 'led_headlights': 0,\n",
       " 'lane_departure_warning_system': 0,\n",
       " 'passenger-side_airbag': 0,\n",
       " 'power_steering': 0,\n",
       " 'rear_airbag': 0,\n",
       " 'side_airbag': 0,\n",
       " 'tire_pressure_monitoring_system': 0,\n",
       " 'traction_control': 0,\n",
       " 'traffic_sign_recognition': 0,\n",
       " 'xenon_headlights': 0}"
      ]
     },
     "execution_count": 11,
     "metadata": {},
     "output_type": "execute_result"
    }
   ],
   "source": [
    "dict(df.isna().sum())"
   ]
  },
  {
   "cell_type": "markdown",
   "metadata": {},
   "source": [
    "## General strategy: find colinear variables and groupby these, calculate some average on the variable to fill "
   ]
  },
  {
   "cell_type": "markdown",
   "metadata": {},
   "source": [
    "## Registration cleaned - generate age column"
   ]
  },
  {
   "cell_type": "code",
   "execution_count": 12,
   "metadata": {},
   "outputs": [],
   "source": [
    "# Extract year info to determine cars age\n",
    "df['registration_cleaned'] = pd.to_datetime(df['registration_cleaned']) # convert to datetime type,looks like i did this already in part1, maybe converting to csv loses this\n",
    "df['year'] = df['registration_cleaned'].dt.year\n",
    "df['year'].value_counts()\n",
    "df.drop('registration_cleaned', axis = 1, inplace = True)"
   ]
  },
  {
   "cell_type": "code",
   "execution_count": 36,
   "metadata": {},
   "outputs": [
    {
     "data": {
      "text/plain": [
       "1.0    4522\n",
       "3.0    3674\n",
       "2.0    3273\n",
       "0.0    2853\n",
       "NaN    1597\n",
       "Name: age, dtype: int64"
      ]
     },
     "execution_count": 36,
     "metadata": {},
     "output_type": "execute_result"
    }
   ],
   "source": [
    "# Generate 'age' column where 2019 is new (age = 0)\n",
    "# Define the mapping of year to age\n",
    "year_to_age = {\n",
    "    2019: 0,\n",
    "    2018: 1,\n",
    "    2017: 2,\n",
    "    2016: 3\n",
    "}\n",
    "# Use map() to apply the mapping\n",
    "df['age'] = df['year'].map(year_to_age)\n",
    "df['age'].value_counts(dropna = False)"
   ]
  },
  {
   "cell_type": "code",
   "execution_count": 14,
   "metadata": {},
   "outputs": [
    {
     "name": "stderr",
     "output_type": "stream",
     "text": [
      "/var/folders/hy/qjrf39791gj4bzf0p4kslpnm0000gn/T/ipykernel_852/790082965.py:1: UserWarning: Pandas doesn't allow columns to be created via a new attribute name - see https://pandas.pydata.org/pandas-docs/stable/indexing.html#attribute-access\n",
      "  df.non_enc_cols = df[['make_model',\n"
     ]
    }
   ],
   "source": [
    "df.non_enc_cols = df[['make_model',\n",
    "'previous_owners_cleaned',\n",
    " 'co2emission_cleaned_gco2/km',\n",
    " 'emissionlabel_cleaned',\n",
    " 'emissionclass_cleaned',\n",
    " 'body_cleaned',\n",
    " 'bodycolor_cleaned',\n",
    " 'km_cleaned',\n",
    " 'vat_cleaned',\n",
    " 'hp_kw_cleaned',\n",
    " 'nextinspection_cleaned',\n",
    " 'type_cleaned',\n",
    " 'fuel_cleaned',\n",
    " 'offernumber_cleaned',\n",
    " 'warranty_months',\n",
    " 'painttype_cleaned',\n",
    " 'interior_material',\n",
    " 'interior_colour',\n",
    " 'nrofdoors_cleaned',\n",
    " 'nrofseats_cleaned',\n",
    " 'modelcode_cleaned',\n",
    " 'gearingtype_cleaned',\n",
    " 'gears_cleaned',\n",
    " 'cylinders_cleaned',\n",
    " 'drivechain_cleaned',\n",
    " 'weight_cleaned_kg',\n",
    " 'displacement_cleaned_cc',\n",
    " 'countryversion_cleaned',\n",
    " 'consumption_comb_l_per_100km',\n",
    " 'consumption_city_l_per_100km',\n",
    " 'consumption_country_l_per_100km',\n",
    " 'age']]"
   ]
  },
  {
   "cell_type": "code",
   "execution_count": 15,
   "metadata": {},
   "outputs": [
    {
     "name": "stdout",
     "output_type": "stream",
     "text": [
      "['age', 'body_cleaned', 'bodycolor_cleaned', 'co2emission_cleaned_gco2/km', 'consumption_city_l_per_100km', 'consumption_comb_l_per_100km', 'consumption_country_l_per_100km', 'countryversion_cleaned', 'cylinders_cleaned', 'displacement_cleaned_cc', 'drivechain_cleaned', 'emissionclass_cleaned', 'emissionlabel_cleaned', 'gears_cleaned', 'hp_kw_cleaned', 'interior_colour', 'interior_material', 'km_cleaned', 'modelcode_cleaned', 'nextinspection_cleaned', 'nrofdoors_cleaned', 'nrofseats_cleaned', 'offernumber_cleaned', 'painttype_cleaned', 'previous_owners_cleaned', 'type_cleaned', 'vat_cleaned', 'warranty_months', 'weight_cleaned_kg', 'year']\n"
     ]
    }
   ],
   "source": [
    "# Determine columns with missing values\n",
    "cols_with_mv = df.columns[df.isna().sum() > 0]\n",
    "print(sorted(cols_with_mv))"
   ]
  },
  {
   "cell_type": "markdown",
   "metadata": {},
   "source": [
    "## Heatmap to look for some colinearlity patterns in the numerical variables \n"
   ]
  },
  {
   "cell_type": "code",
   "execution_count": 16,
   "metadata": {},
   "outputs": [
    {
     "name": "stderr",
     "output_type": "stream",
     "text": [
      "/var/folders/hy/qjrf39791gj4bzf0p4kslpnm0000gn/T/ipykernel_852/1309570656.py:2: FutureWarning: The default value of numeric_only in DataFrame.corr is deprecated. In a future version, it will default to False. Select only valid columns or specify the value of numeric_only to silence this warning.\n",
      "  sns.heatmap(df.non_enc_cols.corr())\n"
     ]
    },
    {
     "data": {
      "text/plain": [
       "<AxesSubplot: >"
      ]
     },
     "execution_count": 16,
     "metadata": {},
     "output_type": "execute_result"
    },
    {
     "data": {
      "image/png": "[encoded data removed]",
      "text/plain": [
       "<Figure size 640x480 with 2 Axes>"
      ]
     },
     "metadata": {},
     "output_type": "display_data"
    }
   ],
   "source": [
    "# heatmap of correlations for numeric cols (includes numeric categorical variables like age)\n",
    "sns.heatmap(df.non_enc_cols.corr()) "
   ]
  },
  {
   "cell_type": "markdown",
   "metadata": {},
   "source": [
    "## Try to impute mvs for the cateegorical variables first, then can use these wi groupbys to calculate groped medians for filling the numeric variables"
   ]
  },
  {
   "cell_type": "markdown",
   "metadata": {},
   "source": [
    "## type_cleaned column "
   ]
  },
  {
   "cell_type": "code",
   "execution_count": 17,
   "metadata": {},
   "outputs": [
    {
     "data": {
      "text/plain": [
       "2"
      ]
     },
     "execution_count": 17,
     "metadata": {},
     "output_type": "execute_result"
    }
   ],
   "source": [
    "df['type_cleaned'].isna().sum()"
   ]
  },
  {
   "cell_type": "code",
   "execution_count": 18,
   "metadata": {},
   "outputs": [
    {
     "data": {
      "text/plain": [
       "Used              11098\n",
       "New                1650\n",
       "Pre-registered     1364\n",
       "Employee's car     1011\n",
       "Demonstration       796\n",
       "Name: type_cleaned_filled, dtype: int64"
      ]
     },
     "execution_count": 18,
     "metadata": {},
     "output_type": "execute_result"
    }
   ],
   "source": [
    "df['type_cleaned_filled'] = df['type_cleaned'].fillna(df['type_cleaned'].mode()[0]) \n",
    "df['type_cleaned_filled'].value_counts(dropna = False)"
   ]
  },
  {
   "cell_type": "markdown",
   "metadata": {},
   "source": [
    "Only 2 missig values, fill with the mode of the column"
   ]
  },
  {
   "cell_type": "markdown",
   "metadata": {},
   "source": [
    "## previous_owners_cleaned"
   ]
  },
  {
   "cell_type": "code",
   "execution_count": 19,
   "metadata": {},
   "outputs": [
    {
     "data": {
      "text/plain": [
       "<AxesSubplot: xlabel='previous_owners_cleaned', ylabel='Count'>"
      ]
     },
     "execution_count": 19,
     "metadata": {},
     "output_type": "execute_result"
    },
    {
     "data": {
      "image/png": "[encoded data removed]",
      "text/plain": [
       "<Figure size 640x480 with 1 Axes>"
      ]
     },
     "metadata": {},
     "output_type": "display_data"
    }
   ],
   "source": [
    "# Look at the distribution of values\n",
    "sns.histplot(df['previous_owners_cleaned'])"
   ]
  },
  {
   "cell_type": "markdown",
   "metadata": {},
   "source": [
    "Looks like nans might just be previous_owners = 0, 0s look underrepresented in the data"
   ]
  },
  {
   "cell_type": "code",
   "execution_count": 20,
   "metadata": {},
   "outputs": [],
   "source": [
    "# compare distribution of nan and values in whether car is new or not\n",
    "poc_nan = df[df['previous_owners_cleaned'].isna()]\n",
    "poc_vals = df[~df['previous_owners_cleaned'].isna()]"
   ]
  },
  {
   "cell_type": "code",
   "execution_count": 21,
   "metadata": {},
   "outputs": [
    {
     "data": {
      "text/plain": [
       "Used              4012\n",
       "New               1496\n",
       "Pre-registered     519\n",
       "Employee's car     356\n",
       "Demonstration      282\n",
       "Name: type_cleaned_filled, dtype: int64"
      ]
     },
     "execution_count": 21,
     "metadata": {},
     "output_type": "execute_result"
    }
   ],
   "source": [
    "poc_nan['type_cleaned_filled'].value_counts(dropna = False) # Nearly all the 'New' cars (1496 out of 1650) are in the nans."
   ]
  },
  {
   "cell_type": "code",
   "execution_count": 22,
   "metadata": {},
   "outputs": [
    {
     "data": {
      "text/plain": [
       "Used              7086\n",
       "Pre-registered     845\n",
       "Employee's car     655\n",
       "Demonstration      514\n",
       "New                154\n",
       "Name: type_cleaned_filled, dtype: int64"
      ]
     },
     "execution_count": 22,
     "metadata": {},
     "output_type": "execute_result"
    }
   ],
   "source": [
    "poc_vals['type_cleaned_filled'].value_counts(dropna = False) "
   ]
  },
  {
   "cell_type": "code",
   "execution_count": 23,
   "metadata": {},
   "outputs": [
    {
     "data": {
      "text/plain": [
       "1.0    13463\n",
       "0.0     1659\n",
       "2.0      778\n",
       "3.0       17\n",
       "4.0        2\n",
       "Name: previous_owners_cleaned_filled, dtype: int64"
      ]
     },
     "execution_count": 23,
     "metadata": {},
     "output_type": "execute_result"
    }
   ],
   "source": [
    "# fill nans using info from 'age' and 'type_cleaned_filled' columns\n",
    "mode_poc = df.groupby(['type_cleaned_filled'])['previous_owners_cleaned'].transform(lambda x: x.mode().iloc[0])\n",
    "df['previous_owners_cleaned_filled'] = df['previous_owners_cleaned'].fillna(mode_poc)\n",
    "df['previous_owners_cleaned_filled'].value_counts(dropna = False)"
   ]
  },
  {
   "cell_type": "markdown",
   "metadata": {},
   "source": [
    "## Body cleaned"
   ]
  },
  {
   "cell_type": "code",
   "execution_count": 24,
   "metadata": {},
   "outputs": [
    {
     "data": {
      "text/plain": [
       "Sedans           7903\n",
       "Station wagon    3553\n",
       "Compact          3153\n",
       "Van               783\n",
       "Other             290\n",
       "Transporter        88\n",
       "NaN                60\n",
       "Off-Road           56\n",
       "Coupe              25\n",
       "Convertible         8\n",
       "Name: body_cleaned, dtype: int64"
      ]
     },
     "execution_count": 24,
     "metadata": {},
     "output_type": "execute_result"
    }
   ],
   "source": [
    "df['body_cleaned'].value_counts(dropna = False)"
   ]
  },
  {
   "cell_type": "code",
   "execution_count": 25,
   "metadata": {},
   "outputs": [],
   "source": [
    "mode_body = df.groupby('make_model')['body_cleaned'].transform(lambda x: x.mode().iloc[0]) # Choose the first modal value of the group\n",
    "df['body_cleaned_filled'] = df['body_cleaned'].fillna(mode_body)"
   ]
  },
  {
   "cell_type": "code",
   "execution_count": 26,
   "metadata": {},
   "outputs": [
    {
     "data": {
      "text/plain": [
       "0"
      ]
     },
     "execution_count": 26,
     "metadata": {},
     "output_type": "execute_result"
    }
   ],
   "source": [
    "df['body_cleaned_filled'].isna().sum()"
   ]
  },
  {
   "cell_type": "code",
   "execution_count": 33,
   "metadata": {},
   "outputs": [
    {
     "data": {
      "text/plain": [
       "0"
      ]
     },
     "execution_count": 33,
     "metadata": {},
     "output_type": "execute_result"
    }
   ],
   "source": [
    "df['type_cleaned_filled'].isna().sum()"
   ]
  },
  {
   "cell_type": "markdown",
   "metadata": {},
   "source": [
    "## Age column"
   ]
  },
  {
   "cell_type": "code",
   "execution_count": 40,
   "metadata": {},
   "outputs": [
    {
     "name": "stdout",
     "output_type": "stream",
     "text": [
      "1.0    4522\n",
      "3.0    3674\n",
      "2.0    3273\n",
      "0.0    2853\n",
      "NaN    1597\n",
      "Name: age, dtype: int64\n"
     ]
    }
   ],
   "source": [
    "print(df.age.value_counts(dropna = False))"
   ]
  },
  {
   "cell_type": "code",
   "execution_count": 46,
   "metadata": {},
   "outputs": [
    {
     "name": "stdout",
     "output_type": "stream",
     "text": [
      "1.0    4540\n",
      "0.0    4393\n",
      "3.0    3692\n",
      "2.0    3276\n",
      "NaN      18\n",
      "Name: age_filled, dtype: int64\n"
     ]
    }
   ],
   "source": [
    "# Fill age column on basis of type_cleaned (also make_model, km_cleaned?)\n",
    "age_mode = df.groupby(['make_model','type_cleaned_filled'])['age'].transform(lambda x: x.mode().iloc[0] if not x.mode().empty else np.nan) # check if there is a mode, may not be if value unique/all 'age' values are nan in that grouping\n",
    "df['age_filled'] = df['age'].fillna(age_mode)\n",
    "print(df.age_filled.value_counts(dropna = False))\n"
   ]
  },
  {
   "cell_type": "code",
   "execution_count": 47,
   "metadata": {},
   "outputs": [
    {
     "name": "stdout",
     "output_type": "stream",
     "text": [
      "1.0    4540\n",
      "0.0    4411\n",
      "3.0    3692\n",
      "2.0    3276\n",
      "Name: age_filled, dtype: int64\n"
     ]
    }
   ],
   "source": [
    "# Fill the remaining 18 nans with a higher grouping, just type_cleaned_filled in this case\n",
    "remaining_age_mode = df.groupby(['type_cleaned_filled'])['age'].transform(lambda x: x.mode().iloc[0] if not x.mode().empty else np.nan) \n",
    "df['age_filled'] = df['age_filled'].fillna(remaining_age_mode)\n",
    "print(df.age_filled.value_counts(dropna = False))"
   ]
  },
  {
   "cell_type": "markdown",
   "metadata": {},
   "source": [
    "## co2_emission_cleaned"
   ]
  },
  {
   "cell_type": "code",
   "execution_count": null,
   "metadata": {},
   "outputs": [
    {
     "data": {
      "text/plain": [
       "Manual            8153\n",
       "Automatic         7297\n",
       "Semi-automatic     469\n",
       "Name: gearingtype_cleaned, dtype: int64"
      ]
     },
     "execution_count": 236,
     "metadata": {},
     "output_type": "execute_result"
    }
   ],
   "source": [
    "df['gearingtype_cleaned'].value_counts(dropna = False)"
   ]
  },
  {
   "cell_type": "code",
   "execution_count": null,
   "metadata": {},
   "outputs": [
    {
     "data": {
      "text/plain": [
       "diesel      7298\n",
       "super95     4466\n",
       "gasoline    3731\n",
       "other        424\n",
       "Name: fuel_cleaned, dtype: int64"
      ]
     },
     "execution_count": 237,
     "metadata": {},
     "output_type": "execute_result"
    }
   ],
   "source": [
    "df['fuel_cleaned'].value_counts(dropna = False)"
   ]
  },
  {
   "cell_type": "code",
   "execution_count": null,
   "metadata": {},
   "outputs": [
    {
     "data": {
      "text/plain": [
       "6      10139\n",
       "NaN     3628\n",
       "6d      1907\n",
       "6c       127\n",
       "5         78\n",
       "4         40\n",
       "Name: emissionclass_cleaned, dtype: int64"
      ]
     },
     "execution_count": 244,
     "metadata": {},
     "output_type": "execute_result"
    }
   ],
   "source": [
    "df.emissionclass_cleaned.value_counts(dropna = False)              "
   ]
  },
  {
   "cell_type": "code",
   "execution_count": 48,
   "metadata": {},
   "outputs": [],
   "source": [
    "median_co2 = df.groupby(['make_model', 'fuel_cleaned','gearingtype_cleaned'])['co2emission_cleaned_gco2/km'].transform(lambda x: x.median())\n",
    "df['co2emission_cleaned_filled'] = df['co2emission_cleaned_gco2/km'].fillna(median_co2)"
   ]
  },
  {
   "cell_type": "code",
   "execution_count": 49,
   "metadata": {},
   "outputs": [
    {
     "data": {
      "text/plain": [
       "2"
      ]
     },
     "execution_count": 49,
     "metadata": {},
     "output_type": "execute_result"
    }
   ],
   "source": [
    "df['co2emission_cleaned_filled'].isna().sum()"
   ]
  },
  {
   "cell_type": "code",
   "execution_count": 50,
   "metadata": {},
   "outputs": [
    {
     "data": {
      "text/plain": [
       "1"
      ]
     },
     "execution_count": 50,
     "metadata": {},
     "output_type": "execute_result"
    }
   ],
   "source": [
    "# Have 2 leftover nas (no median for that grouping), group by higher grouping and impute based on this. make_model probably most important, start with this\n",
    "median_co2_leftover = df.groupby(['make_model'])['co2emission_cleaned_gco2/km'].transform(lambda x: x.median())\n",
    "df['co2emission_cleaned_filled'] = df['co2emission_cleaned_filled'].fillna(median_co2_leftover)\n",
    "df['co2emission_cleaned_filled'].isna().sum()"
   ]
  },
  {
   "cell_type": "code",
   "execution_count": 51,
   "metadata": {},
   "outputs": [
    {
     "data": {
      "text/plain": [
       "0"
      ]
     },
     "execution_count": 51,
     "metadata": {},
     "output_type": "execute_result"
    }
   ],
   "source": [
    "# Have 2 leftover nas (no median for that grouping), group by higher grouping and impute based on this. make_model probably most important, start with this\n",
    "median_co2_leftover2 = df.groupby(['fuel_cleaned'])['co2emission_cleaned_gco2/km'].transform(lambda x: x.median())\n",
    "df['co2emission_cleaned_filled'] = df['co2emission_cleaned_filled'].fillna(median_co2_leftover2)\n",
    "df['co2emission_cleaned_filled'].isna().sum()"
   ]
  },
  {
   "cell_type": "code",
   "execution_count": null,
   "metadata": {},
   "outputs": [],
   "source": [
    "## emission_class column"
   ]
  },
  {
   "cell_type": "code",
   "execution_count": null,
   "metadata": {},
   "outputs": [],
   "source": [
    "mode_emissionclass = df.groupby(['make_model', 'fuel_cleaned'])['emissionclass_cleaned'].transform(lambda x: x.mode().iloc[0])\n",
    "df['emissionclass_cleaned_filled'] = df['emissionclass_cleaned'].fillna(mode_emissionclass)"
   ]
  },
  {
   "cell_type": "code",
   "execution_count": null,
   "metadata": {},
   "outputs": [
    {
     "data": {
      "text/plain": [
       "6     13746\n",
       "6d     1926\n",
       "6c      127\n",
       "5        78\n",
       "4        42\n",
       "Name: emissionclass_cleaned_filled, dtype: int64"
      ]
     },
     "execution_count": 265,
     "metadata": {},
     "output_type": "execute_result"
    }
   ],
   "source": [
    "df['emissionclass_cleaned_filled'].value_counts(dropna= False)"
   ]
  },
  {
   "cell_type": "code",
   "execution_count": null,
   "metadata": {},
   "outputs": [],
   "source": [
    "# Drop all of the 'cleaned' columns that now have 'cleaned_filled' versions\n",
    "# df.drop(['previous_owners_cleaned', type_cleaned], axis = 1, inplace = True)\n"
   ]
  },
  {
   "cell_type": "code",
   "execution_count": null,
   "metadata": {},
   "outputs": [],
   "source": []
  },
  {
   "cell_type": "code",
   "execution_count": null,
   "metadata": {},
   "outputs": [],
   "source": []
  },
  {
   "cell_type": "markdown",
   "metadata": {},
   "source": [
    "## km_cleaned column"
   ]
  },
  {
   "cell_type": "code",
   "execution_count": null,
   "metadata": {},
   "outputs": [
    {
     "data": {
      "text/plain": [
       "10.0       1076\n",
       "NaN         841\n",
       "1.0         367\n",
       "5.0         174\n",
       "50.0        167\n",
       "           ... \n",
       "36020.0       1\n",
       "53433.0       1\n",
       "67469.0       1\n",
       "43197.0       1\n",
       "57.0          1\n",
       "Name: km_cleaned_filled, Length: 6692, dtype: int64"
      ]
     },
     "execution_count": 240,
     "metadata": {},
     "output_type": "execute_result"
    }
   ],
   "source": [
    "median_group_km = df.groupby(['make_model','body_cleaned','age'])['km_cleaned'].transform(lambda x: x.median())\n",
    "\n",
    "df['km_cleaned_filled'] = df['km_cleaned'].fillna(median_group_km)\n",
    "df['km_cleaned_filled'].value_counts(dropna = False)"
   ]
  },
  {
   "cell_type": "code",
   "execution_count": null,
   "metadata": {},
   "outputs": [
    {
     "data": {
      "text/plain": [
       "NaN        841\n",
       "36.0        41\n",
       "10.0        31\n",
       "50.0        19\n",
       "13587.5     14\n",
       "1500.0      12\n",
       "178.0        8\n",
       "500.0        7\n",
       "15.0         7\n",
       "7000.0       6\n",
       "10564.0      5\n",
       "2000.0       5\n",
       "5.0          4\n",
       "11.0         4\n",
       "775.5        3\n",
       "12000.0      3\n",
       "3000.0       3\n",
       "10780.0      3\n",
       "19800.0      2\n",
       "31000.0      1\n",
       "25150.0      1\n",
       "28000.0      1\n",
       "35.0         1\n",
       "7.0          1\n",
       "18000.0      1\n",
       "Name: km_cleaned_filled, dtype: int64"
      ]
     },
     "execution_count": 241,
     "metadata": {},
     "output_type": "execute_result"
    }
   ],
   "source": [
    "df[['km_cleaned_filled', 'km_cleaned']].sample(20)\n",
    "df[df['km_cleaned'].isna()]['km_cleaned_filled'].value_counts(dropna = False)"
   ]
  },
  {
   "cell_type": "markdown",
   "metadata": {},
   "source": [
    "## consumption city, country, comb"
   ]
  },
  {
   "cell_type": "code",
   "execution_count": null,
   "metadata": {},
   "outputs": [
    {
     "data": {
      "text/plain": [
       "consumption_city_l_per_100km       3303\n",
       "consumption_comb_l_per_100km       2914\n",
       "consumption_country_l_per_100km    3243\n",
       "dtype: int64"
      ]
     },
     "execution_count": 242,
     "metadata": {},
     "output_type": "execute_result"
    }
   ],
   "source": [
    "cc = df[['consumption_city_l_per_100km', 'consumption_comb_l_per_100km', 'consumption_country_l_per_100km',]]\n",
    "cc.isna().sum()"
   ]
  },
  {
   "cell_type": "markdown",
   "metadata": {},
   "source": []
  },
  {
   "cell_type": "code",
   "execution_count": null,
   "metadata": {},
   "outputs": [],
   "source": []
  }
 ],
 "metadata": {
  "kernelspec": {
   "display_name": "Python 3",
   "language": "python",
   "name": "python3"
  },
  "language_info": {
   "codemirror_mode": {
    "name": "ipython",
    "version": 3
   },
   "file_extension": ".py",
   "mimetype": "text/x-python",
   "name": "python",
   "nbconvert_exporter": "python",
   "pygments_lexer": "ipython3",
   "version": "3.10.9"
  }
 },
 "nbformat": 4,
 "nbformat_minor": 2
}
