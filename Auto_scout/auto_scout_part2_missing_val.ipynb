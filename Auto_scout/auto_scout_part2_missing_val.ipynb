{
 "cells": [
  {
   "cell_type": "markdown",
   "metadata": {},
   "source": [
    "# Auto scout project Balint Part 2: dealing with missing values"
   ]
  },
  {
   "cell_type": "code",
   "execution_count": 50,
   "metadata": {},
   "outputs": [],
   "source": [
    "# import libraries\n",
    "import numpy as np\n",
    "import pandas as pd\n",
    "import matplotlib.pyplot as plt"
   ]
  },
  {
   "cell_type": "code",
   "execution_count": 51,
   "metadata": {},
   "outputs": [],
   "source": [
    "# load in the cleaned data \n",
    "df = pd.read_csv('data/clean_auto_scout.csv')"
   ]
  },
  {
   "cell_type": "code",
   "execution_count": 52,
   "metadata": {},
   "outputs": [
    {
     "data": {
      "text/html": [
       "<div>\n",
       "<style scoped>\n",
       "    .dataframe tbody tr th:only-of-type {\n",
       "        vertical-align: middle;\n",
       "    }\n",
       "\n",
       "    .dataframe tbody tr th {\n",
       "        vertical-align: top;\n",
       "    }\n",
       "\n",
       "    .dataframe thead th {\n",
       "        text-align: right;\n",
       "    }\n",
       "</style>\n",
       "<table border=\"1\" class=\"dataframe\">\n",
       "  <thead>\n",
       "    <tr style=\"text-align: right;\">\n",
       "      <th></th>\n",
       "      <th>make_model</th>\n",
       "      <th>price</th>\n",
       "      <th>previous_owners_cleaned</th>\n",
       "      <th>co2emission_cleaned_gco2/km</th>\n",
       "      <th>emissionlabel_cleaned</th>\n",
       "      <th>emissionclass_cleaned</th>\n",
       "      <th>body_cleaned</th>\n",
       "      <th>bodycolor_cleaned</th>\n",
       "      <th>km_cleaned</th>\n",
       "      <th>vat_cleaned</th>\n",
       "      <th>...</th>\n",
       "      <th>led_headlights</th>\n",
       "      <th>lane_departure_warning_system</th>\n",
       "      <th>passenger-side_airbag</th>\n",
       "      <th>power_steering</th>\n",
       "      <th>rear_airbag</th>\n",
       "      <th>side_airbag</th>\n",
       "      <th>tire_pressure_monitoring_system</th>\n",
       "      <th>traction_control</th>\n",
       "      <th>traffic_sign_recognition</th>\n",
       "      <th>xenon_headlights</th>\n",
       "    </tr>\n",
       "  </thead>\n",
       "  <tbody>\n",
       "    <tr>\n",
       "      <th>0</th>\n",
       "      <td>Audi A1</td>\n",
       "      <td>15770</td>\n",
       "      <td>2.0</td>\n",
       "      <td>992.0</td>\n",
       "      <td>NaN</td>\n",
       "      <td>6</td>\n",
       "      <td>Sedans</td>\n",
       "      <td>Black</td>\n",
       "      <td>56013.0</td>\n",
       "      <td>VAT deductible</td>\n",
       "      <td>...</td>\n",
       "      <td>0</td>\n",
       "      <td>0</td>\n",
       "      <td>1</td>\n",
       "      <td>1</td>\n",
       "      <td>0</td>\n",
       "      <td>1</td>\n",
       "      <td>1</td>\n",
       "      <td>1</td>\n",
       "      <td>0</td>\n",
       "      <td>1</td>\n",
       "    </tr>\n",
       "    <tr>\n",
       "      <th>1</th>\n",
       "      <td>Audi A1</td>\n",
       "      <td>14500</td>\n",
       "      <td>NaN</td>\n",
       "      <td>1292.0</td>\n",
       "      <td>Green</td>\n",
       "      <td>6</td>\n",
       "      <td>Sedans</td>\n",
       "      <td>Red</td>\n",
       "      <td>80000.0</td>\n",
       "      <td>Price negotiable</td>\n",
       "      <td>...</td>\n",
       "      <td>0</td>\n",
       "      <td>0</td>\n",
       "      <td>1</td>\n",
       "      <td>1</td>\n",
       "      <td>0</td>\n",
       "      <td>1</td>\n",
       "      <td>1</td>\n",
       "      <td>1</td>\n",
       "      <td>0</td>\n",
       "      <td>1</td>\n",
       "    </tr>\n",
       "    <tr>\n",
       "      <th>2</th>\n",
       "      <td>Audi A1</td>\n",
       "      <td>14640</td>\n",
       "      <td>1.0</td>\n",
       "      <td>992.0</td>\n",
       "      <td>Green</td>\n",
       "      <td>6</td>\n",
       "      <td>Sedans</td>\n",
       "      <td>Black</td>\n",
       "      <td>83450.0</td>\n",
       "      <td>VAT deductible</td>\n",
       "      <td>...</td>\n",
       "      <td>0</td>\n",
       "      <td>0</td>\n",
       "      <td>1</td>\n",
       "      <td>1</td>\n",
       "      <td>0</td>\n",
       "      <td>1</td>\n",
       "      <td>1</td>\n",
       "      <td>1</td>\n",
       "      <td>0</td>\n",
       "      <td>0</td>\n",
       "    </tr>\n",
       "    <tr>\n",
       "      <th>3</th>\n",
       "      <td>Audi A1</td>\n",
       "      <td>14500</td>\n",
       "      <td>1.0</td>\n",
       "      <td>992.0</td>\n",
       "      <td>NaN</td>\n",
       "      <td>6</td>\n",
       "      <td>Sedans</td>\n",
       "      <td>Brown</td>\n",
       "      <td>73000.0</td>\n",
       "      <td>NaN</td>\n",
       "      <td>...</td>\n",
       "      <td>0</td>\n",
       "      <td>0</td>\n",
       "      <td>1</td>\n",
       "      <td>1</td>\n",
       "      <td>0</td>\n",
       "      <td>1</td>\n",
       "      <td>1</td>\n",
       "      <td>0</td>\n",
       "      <td>0</td>\n",
       "      <td>0</td>\n",
       "    </tr>\n",
       "    <tr>\n",
       "      <th>4</th>\n",
       "      <td>Audi A1</td>\n",
       "      <td>16790</td>\n",
       "      <td>1.0</td>\n",
       "      <td>1092.0</td>\n",
       "      <td>NaN</td>\n",
       "      <td>6</td>\n",
       "      <td>Sedans</td>\n",
       "      <td>Black</td>\n",
       "      <td>16200.0</td>\n",
       "      <td>NaN</td>\n",
       "      <td>...</td>\n",
       "      <td>0</td>\n",
       "      <td>0</td>\n",
       "      <td>1</td>\n",
       "      <td>1</td>\n",
       "      <td>0</td>\n",
       "      <td>1</td>\n",
       "      <td>1</td>\n",
       "      <td>1</td>\n",
       "      <td>0</td>\n",
       "      <td>1</td>\n",
       "    </tr>\n",
       "  </tbody>\n",
       "</table>\n",
       "<p>5 rows × 113 columns</p>\n",
       "</div>"
      ],
      "text/plain": [
       "  make_model  price  previous_owners_cleaned  co2emission_cleaned_gco2/km  \\\n",
       "0    Audi A1  15770                      2.0                        992.0   \n",
       "1    Audi A1  14500                      NaN                       1292.0   \n",
       "2    Audi A1  14640                      1.0                        992.0   \n",
       "3    Audi A1  14500                      1.0                        992.0   \n",
       "4    Audi A1  16790                      1.0                       1092.0   \n",
       "\n",
       "  emissionlabel_cleaned emissionclass_cleaned body_cleaned bodycolor_cleaned  \\\n",
       "0                   NaN                     6       Sedans             Black   \n",
       "1                 Green                     6       Sedans               Red   \n",
       "2                 Green                     6       Sedans             Black   \n",
       "3                   NaN                     6       Sedans             Brown   \n",
       "4                   NaN                     6       Sedans             Black   \n",
       "\n",
       "   km_cleaned       vat_cleaned  ... led_headlights  \\\n",
       "0     56013.0    VAT deductible  ...              0   \n",
       "1     80000.0  Price negotiable  ...              0   \n",
       "2     83450.0    VAT deductible  ...              0   \n",
       "3     73000.0               NaN  ...              0   \n",
       "4     16200.0               NaN  ...              0   \n",
       "\n",
       "   lane_departure_warning_system passenger-side_airbag power_steering  \\\n",
       "0                              0                     1              1   \n",
       "1                              0                     1              1   \n",
       "2                              0                     1              1   \n",
       "3                              0                     1              1   \n",
       "4                              0                     1              1   \n",
       "\n",
       "  rear_airbag  side_airbag  tire_pressure_monitoring_system traction_control  \\\n",
       "0           0            1                                1                1   \n",
       "1           0            1                                1                1   \n",
       "2           0            1                                1                1   \n",
       "3           0            1                                1                0   \n",
       "4           0            1                                1                1   \n",
       "\n",
       "   traffic_sign_recognition xenon_headlights  \n",
       "0                         0                1  \n",
       "1                         0                1  \n",
       "2                         0                0  \n",
       "3                         0                0  \n",
       "4                         0                1  \n",
       "\n",
       "[5 rows x 113 columns]"
      ]
     },
     "execution_count": 52,
     "metadata": {},
     "output_type": "execute_result"
    }
   ],
   "source": [
    "df.head()"
   ]
  },
  {
   "cell_type": "markdown",
   "metadata": {},
   "source": [
    "## General strategy: find colinear variables and groupby these, calculate some average on the variable to fill "
   ]
  },
  {
   "cell_type": "code",
   "execution_count": 53,
   "metadata": {},
   "outputs": [
    {
     "data": {
      "text/plain": [
       "{'make_model': dtype('O'),\n",
       " 'price': dtype('int64'),\n",
       " 'previous_owners_cleaned': dtype('float64'),\n",
       " 'co2emission_cleaned_gco2/km': dtype('float64'),\n",
       " 'emissionlabel_cleaned': dtype('O'),\n",
       " 'emissionclass_cleaned': dtype('O'),\n",
       " 'body_cleaned': dtype('O'),\n",
       " 'bodycolor_cleaned': dtype('O'),\n",
       " 'km_cleaned': dtype('float64'),\n",
       " 'vat_cleaned': dtype('O'),\n",
       " 'registration_cleaned': dtype('O'),\n",
       " 'hp_kw_cleaned': dtype('float64'),\n",
       " 'nextinspection_cleaned': dtype('O'),\n",
       " 'type_cleaned': dtype('O'),\n",
       " 'fuel_cleaned': dtype('O'),\n",
       " 'particulate_filter': dtype('int64'),\n",
       " 'multiple_fuel': dtype('int64'),\n",
       " 'offernumber_cleaned': dtype('O'),\n",
       " 'warranty_months': dtype('float64'),\n",
       " 'painttype_cleaned': dtype('O'),\n",
       " 'interior_material': dtype('O'),\n",
       " 'interior_colour': dtype('O'),\n",
       " 'nrofdoors_cleaned': dtype('float64'),\n",
       " 'nrofseats_cleaned': dtype('float64'),\n",
       " 'modelcode_cleaned': dtype('O'),\n",
       " 'gearingtype_cleaned': dtype('O'),\n",
       " 'gears_cleaned': dtype('float64'),\n",
       " 'cylinders_cleaned': dtype('float64'),\n",
       " 'drivechain_cleaned': dtype('O'),\n",
       " 'weight_cleaned_kg': dtype('float64'),\n",
       " 'displacement_cleaned_cc': dtype('float64'),\n",
       " 'countryversion_cleaned': dtype('O'),\n",
       " 'consumption_comb_l_per_100km': dtype('float64'),\n",
       " 'consumption_city_l_per_100km': dtype('float64'),\n",
       " 'consumption_country_l_per_100km': dtype('float64'),\n",
       " 'comfort_convenience_cleaned': dtype('O'),\n",
       " 'air_conditioning': dtype('int64'),\n",
       " 'armrest': dtype('int64'),\n",
       " 'automatic_climate_control': dtype('int64'),\n",
       " 'cruise_control': dtype('int64'),\n",
       " 'electric_tailgate': dtype('int64'),\n",
       " 'electrical_side_mirrors': dtype('int64'),\n",
       " 'electrically_adjustable_seats': dtype('int64'),\n",
       " 'electrically_heated_windshield': dtype('int64'),\n",
       " 'heads-up_display': dtype('int64'),\n",
       " 'heated_steering_wheel': dtype('int64'),\n",
       " 'hill_holder': dtype('int64'),\n",
       " 'keyless_central_door_lock': dtype('int64'),\n",
       " 'leather_steering_wheel': dtype('int64'),\n",
       " 'light_sensor': dtype('int64'),\n",
       " 'lumbar_support': dtype('int64'),\n",
       " 'multi-function_steering_wheel': dtype('int64'),\n",
       " 'navigation_system': dtype('int64'),\n",
       " 'panorama_roof': dtype('int64'),\n",
       " 'park_distance_control': dtype('int64'),\n",
       " 'parking_assist_system_camera': dtype('int64'),\n",
       " 'parking_assist_system_self-steering': dtype('int64'),\n",
       " 'parking_assist_system_sensors_front': dtype('int64'),\n",
       " 'parking_assist_system_sensors_rear': dtype('int64'),\n",
       " 'power_windows': dtype('int64'),\n",
       " 'rain_sensor': dtype('int64'),\n",
       " 'seat_heating': dtype('int64'),\n",
       " 'seat_ventilation': dtype('int64'),\n",
       " 'split_rear_seats': dtype('int64'),\n",
       " 'start-stop_system': dtype('int64'),\n",
       " 'tinted_windows': dtype('int64'),\n",
       " 'bluetooth': dtype('int64'),\n",
       " 'cd_player': dtype('int64'),\n",
       " 'digital_radio': dtype('int64'),\n",
       " 'hands-free_equipment': dtype('int64'),\n",
       " 'mp3': dtype('int64'),\n",
       " 'on-board_computer': dtype('int64'),\n",
       " 'radio': dtype('int64'),\n",
       " 'sound_system': dtype('int64'),\n",
       " 'usb': dtype('int64'),\n",
       " 'alloy_wheels': dtype('int64'),\n",
       " 'catalytic_converter': dtype('int64'),\n",
       " 'roof_rack': dtype('int64'),\n",
       " 'shift_paddles': dtype('int64'),\n",
       " 'sport_package': dtype('int64'),\n",
       " 'sport_seats': dtype('int64'),\n",
       " 'sport_suspension': dtype('int64'),\n",
       " 'touch_screen': dtype('int64'),\n",
       " 'trailer_hitch': dtype('int64'),\n",
       " 'voice_control': dtype('int64'),\n",
       " 'abs': dtype('int64'),\n",
       " 'adaptive_cruise_control': dtype('int64'),\n",
       " 'adaptive_headlights': dtype('int64'),\n",
       " 'alarm_system': dtype('int64'),\n",
       " 'blind_spot_monitor': dtype('int64'),\n",
       " 'central_door_lock': dtype('int64'),\n",
       " 'central_door_lock_with_remote_control': dtype('int64'),\n",
       " 'daytime_running_lights': dtype('int64'),\n",
       " 'driver_drowsiness_detection': dtype('int64'),\n",
       " 'driver-side_airbag': dtype('int64'),\n",
       " 'electronic_stability_control': dtype('int64'),\n",
       " 'emergency_brake_assistant': dtype('int64'),\n",
       " 'emergency_system': dtype('int64'),\n",
       " 'fog_lights': dtype('int64'),\n",
       " 'head_airbag': dtype('int64'),\n",
       " 'immobilizer': dtype('int64'),\n",
       " 'isofix': dtype('int64'),\n",
       " 'led_daytime_running_lights': dtype('int64'),\n",
       " 'led_headlights': dtype('int64'),\n",
       " 'lane_departure_warning_system': dtype('int64'),\n",
       " 'passenger-side_airbag': dtype('int64'),\n",
       " 'power_steering': dtype('int64'),\n",
       " 'rear_airbag': dtype('int64'),\n",
       " 'side_airbag': dtype('int64'),\n",
       " 'tire_pressure_monitoring_system': dtype('int64'),\n",
       " 'traction_control': dtype('int64'),\n",
       " 'traffic_sign_recognition': dtype('int64'),\n",
       " 'xenon_headlights': dtype('int64')}"
      ]
     },
     "execution_count": 53,
     "metadata": {},
     "output_type": "execute_result"
    }
   ],
   "source": [
    "# Search for potential groupings of variables\n",
    "(dict(df.dtypes))"
   ]
  },
  {
   "cell_type": "code",
   "execution_count": 54,
   "metadata": {},
   "outputs": [],
   "source": [
    "# num_cols = df[]"
   ]
  },
  {
   "cell_type": "code",
   "execution_count": 55,
   "metadata": {},
   "outputs": [
    {
     "name": "stdout",
     "output_type": "stream",
     "text": [
      "['body_cleaned', 'bodycolor_cleaned', 'co2emission_cleaned_gco2/km', 'consumption_city_l_per_100km', 'consumption_comb_l_per_100km', 'consumption_country_l_per_100km', 'countryversion_cleaned', 'cylinders_cleaned', 'displacement_cleaned_cc', 'drivechain_cleaned', 'emissionclass_cleaned', 'emissionlabel_cleaned', 'gears_cleaned', 'hp_kw_cleaned', 'interior_colour', 'interior_material', 'km_cleaned', 'modelcode_cleaned', 'nextinspection_cleaned', 'nrofdoors_cleaned', 'nrofseats_cleaned', 'offernumber_cleaned', 'painttype_cleaned', 'previous_owners_cleaned', 'registration_cleaned', 'type_cleaned', 'vat_cleaned', 'warranty_months', 'weight_cleaned_kg']\n"
     ]
    }
   ],
   "source": [
    "# Determine columns with missing values\n",
    "cols_with_mv = df.columns[df.isna().sum() > 0]\n",
    "print(sorted(cols_with_mv))"
   ]
  },
  {
   "cell_type": "markdown",
   "metadata": {},
   "source": [
    "## registration_cleaned"
   ]
  },
  {
   "cell_type": "code",
   "execution_count": 56,
   "metadata": {},
   "outputs": [
    {
     "data": {
      "text/plain": [
       "np.int64(1597)"
      ]
     },
     "execution_count": 56,
     "metadata": {},
     "output_type": "execute_result"
    }
   ],
   "source": [
    "df['registration_cleaned'].isna().sum()"
   ]
  },
  {
   "cell_type": "markdown",
   "metadata": {},
   "source": [
    "Generate a car 'age' column from the registration data year"
   ]
  },
  {
   "cell_type": "code",
   "execution_count": 57,
   "metadata": {},
   "outputs": [],
   "source": [
    "# Extract year info to determine cars age\n",
    "df['registration_cleaned'] = pd.to_datetime(df['registration_cleaned']) # convert to datetime type,looks like i did this already in part1, maybe converting to csv loses this\n",
    "df['year'] = df['registration_cleaned'].dt.year\n",
    "df['year'].value_counts()\n",
    "df.drop('registration_cleaned', axis = 1, inplace = True)"
   ]
  },
  {
   "cell_type": "code",
   "execution_count": 58,
   "metadata": {},
   "outputs": [
    {
     "data": {
      "text/plain": [
       "age\n",
       "1.0    4522\n",
       "3.0    3674\n",
       "2.0    3273\n",
       "0.0    2853\n",
       "NaN    1597\n",
       "Name: count, dtype: int64"
      ]
     },
     "execution_count": 58,
     "metadata": {},
     "output_type": "execute_result"
    }
   ],
   "source": [
    "# Generate 'age' column where 2019 is new (age = 0)\n",
    "# Define the mapping of year to age\n",
    "year_to_age = {\n",
    "    2019: 0,\n",
    "    2018: 1,\n",
    "    2017: 2,\n",
    "    2016: 3\n",
    "}\n",
    "# Use map() to apply the mapping\n",
    "df['age'] = df['year'].map(year_to_age)\n",
    "df['age'].value_counts(dropna = False)"
   ]
  },
  {
   "cell_type": "markdown",
   "metadata": {},
   "source": [
    "##"
   ]
  },
  {
   "cell_type": "markdown",
   "metadata": {},
   "source": [
    "## km_cleaned column"
   ]
  },
  {
   "cell_type": "code",
   "execution_count": 64,
   "metadata": {},
   "outputs": [
    {
     "name": "stderr",
     "output_type": "stream",
     "text": [
      "c:\\Users\\BalintStewart\\AppData\\Local\\Programs\\Python\\Python312\\Lib\\site-packages\\numpy\\lib\\_nanfunctions_impl.py:1241: RuntimeWarning: Mean of empty slice\n",
      "  return np.nanmean(a, axis, out=out, keepdims=keepdims)\n"
     ]
    },
    {
     "data": {
      "text/plain": [
       "km_cleaned_filled\n",
       "10.0       1076\n",
       "NaN         841\n",
       "1.0         367\n",
       "5.0         174\n",
       "50.0        167\n",
       "           ... \n",
       "6250.0        1\n",
       "22801.0       1\n",
       "28976.0       1\n",
       "27896.0       1\n",
       "69435.0       1\n",
       "Name: count, Length: 6692, dtype: int64"
      ]
     },
     "execution_count": 64,
     "metadata": {},
     "output_type": "execute_result"
    }
   ],
   "source": [
    "median_group_km = df.groupby(['make_model','body_cleaned','age'])['km_cleaned'].transform(lambda x: x.median())\n",
    "\n",
    "df['km_cleaned_filled'] = df['km_cleaned'].fillna(median_group_km)\n",
    "df['km_cleaned_filled'].value_counts(dropna = False)"
   ]
  },
  {
   "cell_type": "code",
   "execution_count": 81,
   "metadata": {},
   "outputs": [
    {
     "data": {
      "text/plain": [
       "km_cleaned_filled\n",
       "NaN        841\n",
       "36.0        41\n",
       "10.0        31\n",
       "50.0        19\n",
       "13587.5     14\n",
       "1500.0      12\n",
       "178.0        8\n",
       "15.0         7\n",
       "500.0        7\n",
       "7000.0       6\n",
       "10564.0      5\n",
       "2000.0       5\n",
       "11.0         4\n",
       "5.0          4\n",
       "12000.0      3\n",
       "775.5        3\n",
       "3000.0       3\n",
       "10780.0      3\n",
       "19800.0      2\n",
       "18000.0      1\n",
       "7.0          1\n",
       "25150.0      1\n",
       "35.0         1\n",
       "31000.0      1\n",
       "28000.0      1\n",
       "Name: count, dtype: int64"
      ]
     },
     "execution_count": 81,
     "metadata": {},
     "output_type": "execute_result"
    }
   ],
   "source": [
    "df[['km_cleaned_filled', 'km_cleaned']].sample(20)\n",
    "df[df['km_cleaned'].isna()]['km_cleaned_filled'].value_counts(dropna = False)"
   ]
  }
 ],
 "metadata": {
  "kernelspec": {
   "display_name": "Python 3",
   "language": "python",
   "name": "python3"
  },
  "language_info": {
   "codemirror_mode": {
    "name": "ipython",
    "version": 3
   },
   "file_extension": ".py",
   "mimetype": "text/x-python",
   "name": "python",
   "nbconvert_exporter": "python",
   "pygments_lexer": "ipython3",
   "version": "3.12.4"
  }
 },
 "nbformat": 4,
 "nbformat_minor": 2
}
