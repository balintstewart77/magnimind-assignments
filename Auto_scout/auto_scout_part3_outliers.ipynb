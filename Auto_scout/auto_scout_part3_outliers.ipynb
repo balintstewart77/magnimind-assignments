{
 "cells": [
  {
   "cell_type": "markdown",
   "metadata": {},
   "source": [
    "# scout project Balint Part 3: dealing with outliers"
   ]
  },
  {
   "cell_type": "code",
   "execution_count": 1128,
   "metadata": {},
   "outputs": [],
   "source": [
    "import matplotlib.pyplot as plt\n",
    "%matplotlib inline\n",
    "import numpy as np\n",
    "import pandas as pd\n",
    "import seaborn as sns\n",
    "import warnings;\n",
    "warnings.filterwarnings(\"ignore\")\n",
    "import re"
   ]
  },
  {
   "cell_type": "code",
   "execution_count": 1129,
   "metadata": {},
   "outputs": [],
   "source": [
    "df = pd.read_csv('data/clean_filled_auto_scout.csv')"
   ]
  },
  {
   "cell_type": "code",
   "execution_count": 1130,
   "metadata": {},
   "outputs": [
    {
     "name": "stdout",
     "output_type": "stream",
     "text": [
      "Series([], dtype: int64)\n"
     ]
    }
   ],
   "source": [
    "missing_values = df.isna().sum()\n",
    "missing_columns = missing_values[missing_values > 0]\n",
    "print(missing_columns)"
   ]
  },
  {
   "cell_type": "markdown",
   "metadata": {},
   "source": [
    "## Price"
   ]
  },
  {
   "cell_type": "code",
   "execution_count": 1131,
   "metadata": {},
   "outputs": [
    {
     "data": {
      "image/png": "[encoded data removed]",
      "text/plain": [
       "<Figure size 640x480 with 1 Axes>"
      ]
     },
     "metadata": {},
     "output_type": "display_data"
    }
   ],
   "source": [
    "sns.set_theme(style=\"whitegrid\")\n",
    "ax = sns.boxplot(x=df[\"price\"])"
   ]
  },
  {
   "cell_type": "code",
   "execution_count": 1132,
   "metadata": {},
   "outputs": [
    {
     "data": {
      "text/html": [
       "<div>\n",
       "<style scoped>\n",
       "    .dataframe tbody tr th:only-of-type {\n",
       "        vertical-align: middle;\n",
       "    }\n",
       "\n",
       "    .dataframe tbody tr th {\n",
       "        vertical-align: top;\n",
       "    }\n",
       "\n",
       "    .dataframe thead th {\n",
       "        text-align: right;\n",
       "    }\n",
       "</style>\n",
       "<table border=\"1\" class=\"dataframe\">\n",
       "  <thead>\n",
       "    <tr style=\"text-align: right;\">\n",
       "      <th></th>\n",
       "      <th>make_model</th>\n",
       "      <th>price</th>\n",
       "      <th>fuel</th>\n",
       "      <th>particulate_filter</th>\n",
       "      <th>multiple_fuel</th>\n",
       "      <th>gearingtype</th>\n",
       "      <th>air_conditioning</th>\n",
       "      <th>armrest</th>\n",
       "      <th>automatic_climate_control</th>\n",
       "      <th>cruise_control</th>\n",
       "      <th>...</th>\n",
       "      <th>gears</th>\n",
       "      <th>interior_material</th>\n",
       "      <th>warranty_months</th>\n",
       "      <th>drivechain</th>\n",
       "      <th>hp</th>\n",
       "      <th>displacement</th>\n",
       "      <th>cylinders</th>\n",
       "      <th>inspectionnew</th>\n",
       "      <th>weight</th>\n",
       "      <th>consumption_comb</th>\n",
       "    </tr>\n",
       "  </thead>\n",
       "  <tbody>\n",
       "    <tr>\n",
       "      <th>8594</th>\n",
       "      <td>Opel Corsa</td>\n",
       "      <td>13</td>\n",
       "      <td>gasoline</td>\n",
       "      <td>0</td>\n",
       "      <td>0</td>\n",
       "      <td>Manual</td>\n",
       "      <td>1</td>\n",
       "      <td>0</td>\n",
       "      <td>0</td>\n",
       "      <td>1</td>\n",
       "      <td>...</td>\n",
       "      <td>5.0</td>\n",
       "      <td>Cloth</td>\n",
       "      <td>0.0</td>\n",
       "      <td>front</td>\n",
       "      <td>66.0</td>\n",
       "      <td>1398.0</td>\n",
       "      <td>4.0</td>\n",
       "      <td>No</td>\n",
       "      <td>1141.0</td>\n",
       "      <td>5.6</td>\n",
       "    </tr>\n",
       "    <tr>\n",
       "      <th>8828</th>\n",
       "      <td>Opel Corsa</td>\n",
       "      <td>120</td>\n",
       "      <td>gasoline</td>\n",
       "      <td>0</td>\n",
       "      <td>0</td>\n",
       "      <td>Manual</td>\n",
       "      <td>1</td>\n",
       "      <td>0</td>\n",
       "      <td>1</td>\n",
       "      <td>1</td>\n",
       "      <td>...</td>\n",
       "      <td>6.0</td>\n",
       "      <td>Cloth</td>\n",
       "      <td>0.0</td>\n",
       "      <td>front</td>\n",
       "      <td>66.0</td>\n",
       "      <td>999.0</td>\n",
       "      <td>3.0</td>\n",
       "      <td>No</td>\n",
       "      <td>1099.0</td>\n",
       "      <td>4.6</td>\n",
       "    </tr>\n",
       "    <tr>\n",
       "      <th>6066</th>\n",
       "      <td>Opel Astra</td>\n",
       "      <td>255</td>\n",
       "      <td>diesel</td>\n",
       "      <td>1</td>\n",
       "      <td>0</td>\n",
       "      <td>Manual</td>\n",
       "      <td>1</td>\n",
       "      <td>0</td>\n",
       "      <td>0</td>\n",
       "      <td>1</td>\n",
       "      <td>...</td>\n",
       "      <td>6.0</td>\n",
       "      <td>Cloth</td>\n",
       "      <td>0.0</td>\n",
       "      <td>front</td>\n",
       "      <td>100.0</td>\n",
       "      <td>1598.0</td>\n",
       "      <td>4.0</td>\n",
       "      <td>No</td>\n",
       "      <td>1403.0</td>\n",
       "      <td>3.8</td>\n",
       "    </tr>\n",
       "    <tr>\n",
       "      <th>8829</th>\n",
       "      <td>Opel Corsa</td>\n",
       "      <td>331</td>\n",
       "      <td>gasoline</td>\n",
       "      <td>0</td>\n",
       "      <td>0</td>\n",
       "      <td>Manual</td>\n",
       "      <td>1</td>\n",
       "      <td>1</td>\n",
       "      <td>1</td>\n",
       "      <td>1</td>\n",
       "      <td>...</td>\n",
       "      <td>6.0</td>\n",
       "      <td>Cloth</td>\n",
       "      <td>0.0</td>\n",
       "      <td>front</td>\n",
       "      <td>66.0</td>\n",
       "      <td>999.0</td>\n",
       "      <td>3.0</td>\n",
       "      <td>No</td>\n",
       "      <td>1163.0</td>\n",
       "      <td>4.6</td>\n",
       "    </tr>\n",
       "    <tr>\n",
       "      <th>8827</th>\n",
       "      <td>Opel Corsa</td>\n",
       "      <td>4950</td>\n",
       "      <td>diesel</td>\n",
       "      <td>1</td>\n",
       "      <td>0</td>\n",
       "      <td>Manual</td>\n",
       "      <td>1</td>\n",
       "      <td>0</td>\n",
       "      <td>1</td>\n",
       "      <td>0</td>\n",
       "      <td>...</td>\n",
       "      <td>5.0</td>\n",
       "      <td>Cloth</td>\n",
       "      <td>0.0</td>\n",
       "      <td>front</td>\n",
       "      <td>70.0</td>\n",
       "      <td>1248.0</td>\n",
       "      <td>4.0</td>\n",
       "      <td>No</td>\n",
       "      <td>1163.0</td>\n",
       "      <td>3.2</td>\n",
       "    </tr>\n",
       "  </tbody>\n",
       "</table>\n",
       "<p>5 rows × 106 columns</p>\n",
       "</div>"
      ],
      "text/plain": [
       "      make_model  price      fuel  particulate_filter  multiple_fuel  \\\n",
       "8594  Opel Corsa     13  gasoline                   0              0   \n",
       "8828  Opel Corsa    120  gasoline                   0              0   \n",
       "6066  Opel Astra    255    diesel                   1              0   \n",
       "8829  Opel Corsa    331  gasoline                   0              0   \n",
       "8827  Opel Corsa   4950    diesel                   1              0   \n",
       "\n",
       "     gearingtype  air_conditioning  armrest  automatic_climate_control  \\\n",
       "8594      Manual                 1        0                          0   \n",
       "8828      Manual                 1        0                          1   \n",
       "6066      Manual                 1        0                          0   \n",
       "8829      Manual                 1        1                          1   \n",
       "8827      Manual                 1        0                          1   \n",
       "\n",
       "      cruise_control  ...  gears  interior_material  warranty_months  \\\n",
       "8594               1  ...    5.0              Cloth              0.0   \n",
       "8828               1  ...    6.0              Cloth              0.0   \n",
       "6066               1  ...    6.0              Cloth              0.0   \n",
       "8829               1  ...    6.0              Cloth              0.0   \n",
       "8827               0  ...    5.0              Cloth              0.0   \n",
       "\n",
       "      drivechain     hp  displacement  cylinders  inspectionnew  weight  \\\n",
       "8594       front   66.0        1398.0        4.0             No  1141.0   \n",
       "8828       front   66.0         999.0        3.0             No  1099.0   \n",
       "6066       front  100.0        1598.0        4.0             No  1403.0   \n",
       "8829       front   66.0         999.0        3.0             No  1163.0   \n",
       "8827       front   70.0        1248.0        4.0             No  1163.0   \n",
       "\n",
       "      consumption_comb  \n",
       "8594               5.6  \n",
       "8828               4.6  \n",
       "6066               3.8  \n",
       "8829               4.6  \n",
       "8827               3.2  \n",
       "\n",
       "[5 rows x 106 columns]"
      ]
     },
     "execution_count": 1132,
     "metadata": {},
     "output_type": "execute_result"
    }
   ],
   "source": [
    "df.sort_values(by = 'price').head()"
   ]
  },
  {
   "cell_type": "code",
   "execution_count": 1133,
   "metadata": {},
   "outputs": [
    {
     "data": {
      "text/html": [
       "<div>\n",
       "<style scoped>\n",
       "    .dataframe tbody tr th:only-of-type {\n",
       "        vertical-align: middle;\n",
       "    }\n",
       "\n",
       "    .dataframe tbody tr th {\n",
       "        vertical-align: top;\n",
       "    }\n",
       "\n",
       "    .dataframe thead th {\n",
       "        text-align: right;\n",
       "    }\n",
       "</style>\n",
       "<table border=\"1\" class=\"dataframe\">\n",
       "  <thead>\n",
       "    <tr style=\"text-align: right;\">\n",
       "      <th></th>\n",
       "      <th>make_model</th>\n",
       "      <th>price</th>\n",
       "      <th>fuel</th>\n",
       "      <th>particulate_filter</th>\n",
       "      <th>multiple_fuel</th>\n",
       "      <th>gearingtype</th>\n",
       "      <th>air_conditioning</th>\n",
       "      <th>armrest</th>\n",
       "      <th>automatic_climate_control</th>\n",
       "      <th>cruise_control</th>\n",
       "      <th>...</th>\n",
       "      <th>gears</th>\n",
       "      <th>interior_material</th>\n",
       "      <th>warranty_months</th>\n",
       "      <th>drivechain</th>\n",
       "      <th>hp</th>\n",
       "      <th>displacement</th>\n",
       "      <th>cylinders</th>\n",
       "      <th>inspectionnew</th>\n",
       "      <th>weight</th>\n",
       "      <th>consumption_comb</th>\n",
       "    </tr>\n",
       "  </thead>\n",
       "  <tbody>\n",
       "    <tr>\n",
       "      <th>8827</th>\n",
       "      <td>Opel Corsa</td>\n",
       "      <td>4950</td>\n",
       "      <td>diesel</td>\n",
       "      <td>1</td>\n",
       "      <td>0</td>\n",
       "      <td>Manual</td>\n",
       "      <td>1</td>\n",
       "      <td>0</td>\n",
       "      <td>1</td>\n",
       "      <td>0</td>\n",
       "      <td>...</td>\n",
       "      <td>5.0</td>\n",
       "      <td>Cloth</td>\n",
       "      <td>0.0</td>\n",
       "      <td>front</td>\n",
       "      <td>70.0</td>\n",
       "      <td>1248.0</td>\n",
       "      <td>4.0</td>\n",
       "      <td>No</td>\n",
       "      <td>1163.0</td>\n",
       "      <td>3.2</td>\n",
       "    </tr>\n",
       "    <tr>\n",
       "      <th>8825</th>\n",
       "      <td>Opel Corsa</td>\n",
       "      <td>4990</td>\n",
       "      <td>gasoline</td>\n",
       "      <td>0</td>\n",
       "      <td>0</td>\n",
       "      <td>Manual</td>\n",
       "      <td>1</td>\n",
       "      <td>0</td>\n",
       "      <td>0</td>\n",
       "      <td>1</td>\n",
       "      <td>...</td>\n",
       "      <td>5.0</td>\n",
       "      <td>Cloth</td>\n",
       "      <td>0.0</td>\n",
       "      <td>front</td>\n",
       "      <td>66.0</td>\n",
       "      <td>1398.0</td>\n",
       "      <td>4.0</td>\n",
       "      <td>No</td>\n",
       "      <td>1141.0</td>\n",
       "      <td>5.2</td>\n",
       "    </tr>\n",
       "    <tr>\n",
       "      <th>8826</th>\n",
       "      <td>Opel Corsa</td>\n",
       "      <td>5250</td>\n",
       "      <td>diesel</td>\n",
       "      <td>0</td>\n",
       "      <td>0</td>\n",
       "      <td>Manual</td>\n",
       "      <td>1</td>\n",
       "      <td>0</td>\n",
       "      <td>0</td>\n",
       "      <td>0</td>\n",
       "      <td>...</td>\n",
       "      <td>5.0</td>\n",
       "      <td>Cloth</td>\n",
       "      <td>12.0</td>\n",
       "      <td>front</td>\n",
       "      <td>55.0</td>\n",
       "      <td>1248.0</td>\n",
       "      <td>4.0</td>\n",
       "      <td>No</td>\n",
       "      <td>1199.0</td>\n",
       "      <td>3.8</td>\n",
       "    </tr>\n",
       "    <tr>\n",
       "      <th>8824</th>\n",
       "      <td>Opel Corsa</td>\n",
       "      <td>5300</td>\n",
       "      <td>diesel</td>\n",
       "      <td>1</td>\n",
       "      <td>0</td>\n",
       "      <td>Manual</td>\n",
       "      <td>1</td>\n",
       "      <td>0</td>\n",
       "      <td>0</td>\n",
       "      <td>0</td>\n",
       "      <td>...</td>\n",
       "      <td>5.0</td>\n",
       "      <td>Cloth</td>\n",
       "      <td>0.0</td>\n",
       "      <td>front</td>\n",
       "      <td>55.0</td>\n",
       "      <td>1248.0</td>\n",
       "      <td>4.0</td>\n",
       "      <td>No</td>\n",
       "      <td>1237.0</td>\n",
       "      <td>3.9</td>\n",
       "    </tr>\n",
       "    <tr>\n",
       "      <th>13770</th>\n",
       "      <td>Renault Clio</td>\n",
       "      <td>5445</td>\n",
       "      <td>diesel</td>\n",
       "      <td>0</td>\n",
       "      <td>0</td>\n",
       "      <td>Manual</td>\n",
       "      <td>1</td>\n",
       "      <td>0</td>\n",
       "      <td>0</td>\n",
       "      <td>0</td>\n",
       "      <td>...</td>\n",
       "      <td>5.0</td>\n",
       "      <td>Cloth</td>\n",
       "      <td>0.0</td>\n",
       "      <td>front</td>\n",
       "      <td>55.0</td>\n",
       "      <td>1461.0</td>\n",
       "      <td>4.0</td>\n",
       "      <td>No</td>\n",
       "      <td>1146.0</td>\n",
       "      <td>3.6</td>\n",
       "    </tr>\n",
       "  </tbody>\n",
       "</table>\n",
       "<p>5 rows × 106 columns</p>\n",
       "</div>"
      ],
      "text/plain": [
       "         make_model  price      fuel  particulate_filter  multiple_fuel  \\\n",
       "8827     Opel Corsa   4950    diesel                   1              0   \n",
       "8825     Opel Corsa   4990  gasoline                   0              0   \n",
       "8826     Opel Corsa   5250    diesel                   0              0   \n",
       "8824     Opel Corsa   5300    diesel                   1              0   \n",
       "13770  Renault Clio   5445    diesel                   0              0   \n",
       "\n",
       "      gearingtype  air_conditioning  armrest  automatic_climate_control  \\\n",
       "8827       Manual                 1        0                          1   \n",
       "8825       Manual                 1        0                          0   \n",
       "8826       Manual                 1        0                          0   \n",
       "8824       Manual                 1        0                          0   \n",
       "13770      Manual                 1        0                          0   \n",
       "\n",
       "       cruise_control  ...  gears  interior_material  warranty_months  \\\n",
       "8827                0  ...    5.0              Cloth              0.0   \n",
       "8825                1  ...    5.0              Cloth              0.0   \n",
       "8826                0  ...    5.0              Cloth             12.0   \n",
       "8824                0  ...    5.0              Cloth              0.0   \n",
       "13770               0  ...    5.0              Cloth              0.0   \n",
       "\n",
       "       drivechain    hp  displacement  cylinders  inspectionnew  weight  \\\n",
       "8827        front  70.0        1248.0        4.0             No  1163.0   \n",
       "8825        front  66.0        1398.0        4.0             No  1141.0   \n",
       "8826        front  55.0        1248.0        4.0             No  1199.0   \n",
       "8824        front  55.0        1248.0        4.0             No  1237.0   \n",
       "13770       front  55.0        1461.0        4.0             No  1146.0   \n",
       "\n",
       "       consumption_comb  \n",
       "8827                3.2  \n",
       "8825                5.2  \n",
       "8826                3.8  \n",
       "8824                3.9  \n",
       "13770               3.6  \n",
       "\n",
       "[5 rows x 106 columns]"
      ]
     },
     "execution_count": 1133,
     "metadata": {},
     "output_type": "execute_result"
    }
   ],
   "source": [
    "# Drop bottom four price outliers\n",
    "df.drop(df.loc[df['price'] < 1000].index, inplace=True)\n",
    "df.sort_values(by = 'price').head()"
   ]
  },
  {
   "cell_type": "markdown",
   "metadata": {},
   "source": [
    "## previous_owners"
   ]
  },
  {
   "cell_type": "code",
   "execution_count": 1134,
   "metadata": {},
   "outputs": [
    {
     "data": {
      "text/plain": [
       "previous_owners\n",
       "1.0    12165\n",
       "0.0     2961\n",
       "2.0      770\n",
       "3.0       17\n",
       "4.0        2\n",
       "Name: count, dtype: int64"
      ]
     },
     "execution_count": 1134,
     "metadata": {},
     "output_type": "execute_result"
    }
   ],
   "source": [
    "df.previous_owners.value_counts(dropna=False)"
   ]
  },
  {
   "cell_type": "markdown",
   "metadata": {},
   "source": [
    "## horsepower"
   ]
  },
  {
   "cell_type": "code",
   "execution_count": 1135,
   "metadata": {},
   "outputs": [
    {
     "data": {
      "text/plain": [
       "<Axes: xlabel='make_model', ylabel='hp'>"
      ]
     },
     "execution_count": 1135,
     "metadata": {},
     "output_type": "execute_result"
    },
    {
     "data": {
      "image/png": "[encoded data removed]",
      "text/plain": [
       "<Figure size 1500x600 with 1 Axes>"
      ]
     },
     "metadata": {},
     "output_type": "display_data"
    }
   ],
   "source": [
    "plt.figure(figsize=(15,6))\n",
    "sns.boxplot(x = 'make_model', y= 'hp', data = df)"
   ]
  },
  {
   "cell_type": "code",
   "execution_count": 1136,
   "metadata": {},
   "outputs": [
    {
     "data": {
      "text/plain": [
       "np.int64(22)"
      ]
     },
     "execution_count": 1136,
     "metadata": {},
     "output_type": "execute_result"
    }
   ],
   "source": [
    "# Convert values <25 to np.nan\n",
    "df.loc[df['hp'] < 25, 'hp'] = np.nan\n",
    "df[\"hp\"].isna().sum()"
   ]
  },
  {
   "cell_type": "code",
   "execution_count": 1137,
   "metadata": {},
   "outputs": [
    {
     "data": {
      "text/plain": [
       "np.int64(2)"
      ]
     },
     "execution_count": 1137,
     "metadata": {},
     "output_type": "execute_result"
    }
   ],
   "source": [
    "mode_hp = df.groupby(['make_model','body','displacement'])['hp']\\\n",
    "              .transform(lambda x: x.mode()[0] if list(x.mode()) != [] else np.nan)\n",
    "df[\"hp\"] = df[\"hp\"].fillna(mode_hp)\n",
    "df[\"hp\"].isna().sum()"
   ]
  },
  {
   "cell_type": "code",
   "execution_count": 1138,
   "metadata": {},
   "outputs": [
    {
     "data": {
      "text/plain": [
       "np.int64(2)"
      ]
     },
     "execution_count": 1138,
     "metadata": {},
     "output_type": "execute_result"
    }
   ],
   "source": [
    "mode_hp1 = df.groupby(['make_model','displacement'])['hp']\\\n",
    "              .transform(lambda x: x.mode()[0] if list(x.mode()) != [] else np.nan)\n",
    "df[\"hp\"] = df[\"hp\"].fillna(mode_hp1)\n",
    "df['hp'].isna().sum()"
   ]
  },
  {
   "cell_type": "code",
   "execution_count": 1139,
   "metadata": {},
   "outputs": [
    {
     "data": {
      "text/plain": [
       "np.int64(0)"
      ]
     },
     "execution_count": 1139,
     "metadata": {},
     "output_type": "execute_result"
    }
   ],
   "source": [
    "mode_hp2 = df.groupby(['make_model'])['hp']\\\n",
    "              .transform(lambda x: x.mode()[0] if list(x.mode()) != [] else np.nan)\n",
    "df[\"hp\"] = df[\"hp\"].fillna(mode_hp2)\n",
    "df['hp'].isna().sum()"
   ]
  },
  {
   "cell_type": "code",
   "execution_count": 1140,
   "metadata": {},
   "outputs": [
    {
     "data": {
      "text/plain": [
       "<Axes: >"
      ]
     },
     "execution_count": 1140,
     "metadata": {},
     "output_type": "execute_result"
    },
    {
     "data": {
      "image/png": "[encoded data removed]",
      "text/plain": [
       "<Figure size 640x480 with 1 Axes>"
      ]
     },
     "metadata": {},
     "output_type": "display_data"
    }
   ],
   "source": [
    "df.warranty_months.hist()"
   ]
  },
  {
   "cell_type": "markdown",
   "metadata": {},
   "source": [
    "## gears column"
   ]
  },
  {
   "cell_type": "code",
   "execution_count": 1141,
   "metadata": {},
   "outputs": [
    {
     "data": {
      "text/plain": [
       "gears\n",
       "6.0     8612\n",
       "5.0     4254\n",
       "7.0     2810\n",
       "8.0      225\n",
       "9.0        6\n",
       "1.0        2\n",
       "4.0        2\n",
       "3.0        2\n",
       "2.0        1\n",
       "50.0       1\n",
       "Name: count, dtype: int64"
      ]
     },
     "execution_count": 1141,
     "metadata": {},
     "output_type": "execute_result"
    }
   ],
   "source": [
    "df['gears'].value_counts(dropna = False)"
   ]
  },
  {
   "cell_type": "code",
   "execution_count": 1142,
   "metadata": {},
   "outputs": [
    {
     "data": {
      "text/html": [
       "<div>\n",
       "<style scoped>\n",
       "    .dataframe tbody tr th:only-of-type {\n",
       "        vertical-align: middle;\n",
       "    }\n",
       "\n",
       "    .dataframe tbody tr th {\n",
       "        vertical-align: top;\n",
       "    }\n",
       "\n",
       "    .dataframe thead th {\n",
       "        text-align: right;\n",
       "    }\n",
       "</style>\n",
       "<table border=\"1\" class=\"dataframe\">\n",
       "  <thead>\n",
       "    <tr style=\"text-align: right;\">\n",
       "      <th></th>\n",
       "      <th>make_model</th>\n",
       "      <th>price</th>\n",
       "      <th>fuel</th>\n",
       "      <th>particulate_filter</th>\n",
       "      <th>multiple_fuel</th>\n",
       "      <th>gearingtype</th>\n",
       "      <th>air_conditioning</th>\n",
       "      <th>armrest</th>\n",
       "      <th>automatic_climate_control</th>\n",
       "      <th>cruise_control</th>\n",
       "      <th>...</th>\n",
       "      <th>gears</th>\n",
       "      <th>interior_material</th>\n",
       "      <th>warranty_months</th>\n",
       "      <th>drivechain</th>\n",
       "      <th>hp</th>\n",
       "      <th>displacement</th>\n",
       "      <th>cylinders</th>\n",
       "      <th>inspectionnew</th>\n",
       "      <th>weight</th>\n",
       "      <th>consumption_comb</th>\n",
       "    </tr>\n",
       "  </thead>\n",
       "  <tbody>\n",
       "    <tr>\n",
       "      <th>8921</th>\n",
       "      <td>Opel Corsa</td>\n",
       "      <td>11000</td>\n",
       "      <td>gasoline</td>\n",
       "      <td>0</td>\n",
       "      <td>0</td>\n",
       "      <td>Semi-automatic</td>\n",
       "      <td>1</td>\n",
       "      <td>0</td>\n",
       "      <td>0</td>\n",
       "      <td>0</td>\n",
       "      <td>...</td>\n",
       "      <td>1.0</td>\n",
       "      <td>Cloth</td>\n",
       "      <td>24.0</td>\n",
       "      <td>front</td>\n",
       "      <td>66.0</td>\n",
       "      <td>1398.0</td>\n",
       "      <td>4.0</td>\n",
       "      <td>No</td>\n",
       "      <td>1163.0</td>\n",
       "      <td>4.8</td>\n",
       "    </tr>\n",
       "    <tr>\n",
       "      <th>9812</th>\n",
       "      <td>Opel Corsa</td>\n",
       "      <td>9880</td>\n",
       "      <td>gasoline</td>\n",
       "      <td>0</td>\n",
       "      <td>0</td>\n",
       "      <td>Manual</td>\n",
       "      <td>1</td>\n",
       "      <td>0</td>\n",
       "      <td>0</td>\n",
       "      <td>0</td>\n",
       "      <td>...</td>\n",
       "      <td>2.0</td>\n",
       "      <td>Cloth</td>\n",
       "      <td>12.0</td>\n",
       "      <td>front</td>\n",
       "      <td>51.0</td>\n",
       "      <td>1229.0</td>\n",
       "      <td>4.0</td>\n",
       "      <td>No</td>\n",
       "      <td>1163.0</td>\n",
       "      <td>5.3</td>\n",
       "    </tr>\n",
       "    <tr>\n",
       "      <th>14375</th>\n",
       "      <td>Renault Clio</td>\n",
       "      <td>23990</td>\n",
       "      <td>gasoline</td>\n",
       "      <td>0</td>\n",
       "      <td>0</td>\n",
       "      <td>Automatic</td>\n",
       "      <td>1</td>\n",
       "      <td>0</td>\n",
       "      <td>1</td>\n",
       "      <td>1</td>\n",
       "      <td>...</td>\n",
       "      <td>1.0</td>\n",
       "      <td>Cloth</td>\n",
       "      <td>48.0</td>\n",
       "      <td>front</td>\n",
       "      <td>147.0</td>\n",
       "      <td>1618.0</td>\n",
       "      <td>4.0</td>\n",
       "      <td>No</td>\n",
       "      <td>1288.0</td>\n",
       "      <td>5.9</td>\n",
       "    </tr>\n",
       "    <tr>\n",
       "      <th>14495</th>\n",
       "      <td>Renault Clio</td>\n",
       "      <td>10798</td>\n",
       "      <td>super95</td>\n",
       "      <td>0</td>\n",
       "      <td>0</td>\n",
       "      <td>Manual</td>\n",
       "      <td>1</td>\n",
       "      <td>0</td>\n",
       "      <td>0</td>\n",
       "      <td>1</td>\n",
       "      <td>...</td>\n",
       "      <td>50.0</td>\n",
       "      <td>Cloth</td>\n",
       "      <td>0.0</td>\n",
       "      <td>front</td>\n",
       "      <td>56.0</td>\n",
       "      <td>898.0</td>\n",
       "      <td>3.0</td>\n",
       "      <td>No</td>\n",
       "      <td>1165.0</td>\n",
       "      <td>5.2</td>\n",
       "    </tr>\n",
       "    <tr>\n",
       "      <th>15812</th>\n",
       "      <td>Renault Espace</td>\n",
       "      <td>54982</td>\n",
       "      <td>gasoline</td>\n",
       "      <td>0</td>\n",
       "      <td>0</td>\n",
       "      <td>Automatic</td>\n",
       "      <td>1</td>\n",
       "      <td>1</td>\n",
       "      <td>1</td>\n",
       "      <td>1</td>\n",
       "      <td>...</td>\n",
       "      <td>9.0</td>\n",
       "      <td>Part leather</td>\n",
       "      <td>0.0</td>\n",
       "      <td>front</td>\n",
       "      <td>165.0</td>\n",
       "      <td>1798.0</td>\n",
       "      <td>4.0</td>\n",
       "      <td>No</td>\n",
       "      <td>1647.0</td>\n",
       "      <td>7.6</td>\n",
       "    </tr>\n",
       "    <tr>\n",
       "      <th>15814</th>\n",
       "      <td>Renault Espace</td>\n",
       "      <td>54982</td>\n",
       "      <td>gasoline</td>\n",
       "      <td>0</td>\n",
       "      <td>0</td>\n",
       "      <td>Automatic</td>\n",
       "      <td>1</td>\n",
       "      <td>1</td>\n",
       "      <td>1</td>\n",
       "      <td>1</td>\n",
       "      <td>...</td>\n",
       "      <td>9.0</td>\n",
       "      <td>Part leather</td>\n",
       "      <td>0.0</td>\n",
       "      <td>front</td>\n",
       "      <td>165.0</td>\n",
       "      <td>1798.0</td>\n",
       "      <td>4.0</td>\n",
       "      <td>No</td>\n",
       "      <td>1647.0</td>\n",
       "      <td>7.6</td>\n",
       "    </tr>\n",
       "    <tr>\n",
       "      <th>15824</th>\n",
       "      <td>Renault Espace</td>\n",
       "      <td>52711</td>\n",
       "      <td>gasoline</td>\n",
       "      <td>0</td>\n",
       "      <td>0</td>\n",
       "      <td>Automatic</td>\n",
       "      <td>1</td>\n",
       "      <td>1</td>\n",
       "      <td>1</td>\n",
       "      <td>1</td>\n",
       "      <td>...</td>\n",
       "      <td>9.0</td>\n",
       "      <td>Part leather</td>\n",
       "      <td>0.0</td>\n",
       "      <td>front</td>\n",
       "      <td>165.0</td>\n",
       "      <td>1798.0</td>\n",
       "      <td>4.0</td>\n",
       "      <td>No</td>\n",
       "      <td>1608.0</td>\n",
       "      <td>7.4</td>\n",
       "    </tr>\n",
       "    <tr>\n",
       "      <th>15827</th>\n",
       "      <td>Renault Espace</td>\n",
       "      <td>52711</td>\n",
       "      <td>gasoline</td>\n",
       "      <td>0</td>\n",
       "      <td>0</td>\n",
       "      <td>Automatic</td>\n",
       "      <td>1</td>\n",
       "      <td>1</td>\n",
       "      <td>1</td>\n",
       "      <td>1</td>\n",
       "      <td>...</td>\n",
       "      <td>9.0</td>\n",
       "      <td>Part leather</td>\n",
       "      <td>0.0</td>\n",
       "      <td>front</td>\n",
       "      <td>165.0</td>\n",
       "      <td>1798.0</td>\n",
       "      <td>4.0</td>\n",
       "      <td>No</td>\n",
       "      <td>1608.0</td>\n",
       "      <td>7.4</td>\n",
       "    </tr>\n",
       "    <tr>\n",
       "      <th>15869</th>\n",
       "      <td>Renault Espace</td>\n",
       "      <td>49100</td>\n",
       "      <td>diesel</td>\n",
       "      <td>0</td>\n",
       "      <td>0</td>\n",
       "      <td>Automatic</td>\n",
       "      <td>1</td>\n",
       "      <td>1</td>\n",
       "      <td>1</td>\n",
       "      <td>1</td>\n",
       "      <td>...</td>\n",
       "      <td>9.0</td>\n",
       "      <td>Part leather</td>\n",
       "      <td>0.0</td>\n",
       "      <td>front</td>\n",
       "      <td>146.0</td>\n",
       "      <td>1997.0</td>\n",
       "      <td>4.0</td>\n",
       "      <td>No</td>\n",
       "      <td>1740.0</td>\n",
       "      <td>5.3</td>\n",
       "    </tr>\n",
       "    <tr>\n",
       "      <th>15876</th>\n",
       "      <td>Renault Espace</td>\n",
       "      <td>48765</td>\n",
       "      <td>gasoline</td>\n",
       "      <td>0</td>\n",
       "      <td>0</td>\n",
       "      <td>Automatic</td>\n",
       "      <td>1</td>\n",
       "      <td>1</td>\n",
       "      <td>1</td>\n",
       "      <td>1</td>\n",
       "      <td>...</td>\n",
       "      <td>9.0</td>\n",
       "      <td>Part leather</td>\n",
       "      <td>0.0</td>\n",
       "      <td>front</td>\n",
       "      <td>165.0</td>\n",
       "      <td>1798.0</td>\n",
       "      <td>4.0</td>\n",
       "      <td>No</td>\n",
       "      <td>1608.0</td>\n",
       "      <td>7.4</td>\n",
       "    </tr>\n",
       "  </tbody>\n",
       "</table>\n",
       "<p>10 rows × 106 columns</p>\n",
       "</div>"
      ],
      "text/plain": [
       "           make_model  price      fuel  particulate_filter  multiple_fuel  \\\n",
       "8921       Opel Corsa  11000  gasoline                   0              0   \n",
       "9812       Opel Corsa   9880  gasoline                   0              0   \n",
       "14375    Renault Clio  23990  gasoline                   0              0   \n",
       "14495    Renault Clio  10798   super95                   0              0   \n",
       "15812  Renault Espace  54982  gasoline                   0              0   \n",
       "15814  Renault Espace  54982  gasoline                   0              0   \n",
       "15824  Renault Espace  52711  gasoline                   0              0   \n",
       "15827  Renault Espace  52711  gasoline                   0              0   \n",
       "15869  Renault Espace  49100    diesel                   0              0   \n",
       "15876  Renault Espace  48765  gasoline                   0              0   \n",
       "\n",
       "          gearingtype  air_conditioning  armrest  automatic_climate_control  \\\n",
       "8921   Semi-automatic                 1        0                          0   \n",
       "9812           Manual                 1        0                          0   \n",
       "14375       Automatic                 1        0                          1   \n",
       "14495          Manual                 1        0                          0   \n",
       "15812       Automatic                 1        1                          1   \n",
       "15814       Automatic                 1        1                          1   \n",
       "15824       Automatic                 1        1                          1   \n",
       "15827       Automatic                 1        1                          1   \n",
       "15869       Automatic                 1        1                          1   \n",
       "15876       Automatic                 1        1                          1   \n",
       "\n",
       "       cruise_control  ...  gears  interior_material  warranty_months  \\\n",
       "8921                0  ...    1.0              Cloth             24.0   \n",
       "9812                0  ...    2.0              Cloth             12.0   \n",
       "14375               1  ...    1.0              Cloth             48.0   \n",
       "14495               1  ...   50.0              Cloth              0.0   \n",
       "15812               1  ...    9.0       Part leather              0.0   \n",
       "15814               1  ...    9.0       Part leather              0.0   \n",
       "15824               1  ...    9.0       Part leather              0.0   \n",
       "15827               1  ...    9.0       Part leather              0.0   \n",
       "15869               1  ...    9.0       Part leather              0.0   \n",
       "15876               1  ...    9.0       Part leather              0.0   \n",
       "\n",
       "       drivechain     hp  displacement  cylinders  inspectionnew  weight  \\\n",
       "8921        front   66.0        1398.0        4.0             No  1163.0   \n",
       "9812        front   51.0        1229.0        4.0             No  1163.0   \n",
       "14375       front  147.0        1618.0        4.0             No  1288.0   \n",
       "14495       front   56.0         898.0        3.0             No  1165.0   \n",
       "15812       front  165.0        1798.0        4.0             No  1647.0   \n",
       "15814       front  165.0        1798.0        4.0             No  1647.0   \n",
       "15824       front  165.0        1798.0        4.0             No  1608.0   \n",
       "15827       front  165.0        1798.0        4.0             No  1608.0   \n",
       "15869       front  146.0        1997.0        4.0             No  1740.0   \n",
       "15876       front  165.0        1798.0        4.0             No  1608.0   \n",
       "\n",
       "       consumption_comb  \n",
       "8921                4.8  \n",
       "9812                5.3  \n",
       "14375               5.9  \n",
       "14495               5.2  \n",
       "15812               7.6  \n",
       "15814               7.6  \n",
       "15824               7.4  \n",
       "15827               7.4  \n",
       "15869               5.3  \n",
       "15876               7.4  \n",
       "\n",
       "[10 rows x 106 columns]"
      ]
     },
     "execution_count": 1142,
     "metadata": {},
     "output_type": "execute_result"
    }
   ],
   "source": [
    "df[df['gears'].isin([1,2,9,50])]"
   ]
  },
  {
   "cell_type": "code",
   "execution_count": 1143,
   "metadata": {},
   "outputs": [],
   "source": [
    "# Assign cars with <5 gears, 5 gears\n",
    "df.loc[df['gears']<5, 'gears'] = 5"
   ]
  },
  {
   "cell_type": "code",
   "execution_count": 1144,
   "metadata": {},
   "outputs": [],
   "source": [
    "df.loc[df.gears==50,'gears'] = 5"
   ]
  },
  {
   "cell_type": "code",
   "execution_count": 1145,
   "metadata": {},
   "outputs": [
    {
     "data": {
      "text/html": [
       "<div>\n",
       "<style scoped>\n",
       "    .dataframe tbody tr th:only-of-type {\n",
       "        vertical-align: middle;\n",
       "    }\n",
       "\n",
       "    .dataframe tbody tr th {\n",
       "        vertical-align: top;\n",
       "    }\n",
       "\n",
       "    .dataframe thead th {\n",
       "        text-align: right;\n",
       "    }\n",
       "</style>\n",
       "<table border=\"1\" class=\"dataframe\">\n",
       "  <thead>\n",
       "    <tr style=\"text-align: right;\">\n",
       "      <th></th>\n",
       "      <th>make_model</th>\n",
       "      <th>price</th>\n",
       "      <th>fuel</th>\n",
       "      <th>particulate_filter</th>\n",
       "      <th>multiple_fuel</th>\n",
       "      <th>gearingtype</th>\n",
       "      <th>air_conditioning</th>\n",
       "      <th>armrest</th>\n",
       "      <th>automatic_climate_control</th>\n",
       "      <th>cruise_control</th>\n",
       "      <th>...</th>\n",
       "      <th>gears</th>\n",
       "      <th>interior_material</th>\n",
       "      <th>warranty_months</th>\n",
       "      <th>drivechain</th>\n",
       "      <th>hp</th>\n",
       "      <th>displacement</th>\n",
       "      <th>cylinders</th>\n",
       "      <th>inspectionnew</th>\n",
       "      <th>weight</th>\n",
       "      <th>consumption_comb</th>\n",
       "    </tr>\n",
       "  </thead>\n",
       "  <tbody>\n",
       "    <tr>\n",
       "      <th>15812</th>\n",
       "      <td>Renault Espace</td>\n",
       "      <td>54982</td>\n",
       "      <td>gasoline</td>\n",
       "      <td>0</td>\n",
       "      <td>0</td>\n",
       "      <td>Automatic</td>\n",
       "      <td>1</td>\n",
       "      <td>1</td>\n",
       "      <td>1</td>\n",
       "      <td>1</td>\n",
       "      <td>...</td>\n",
       "      <td>9.0</td>\n",
       "      <td>Part leather</td>\n",
       "      <td>0.0</td>\n",
       "      <td>front</td>\n",
       "      <td>165.0</td>\n",
       "      <td>1798.0</td>\n",
       "      <td>4.0</td>\n",
       "      <td>No</td>\n",
       "      <td>1647.0</td>\n",
       "      <td>7.6</td>\n",
       "    </tr>\n",
       "    <tr>\n",
       "      <th>15814</th>\n",
       "      <td>Renault Espace</td>\n",
       "      <td>54982</td>\n",
       "      <td>gasoline</td>\n",
       "      <td>0</td>\n",
       "      <td>0</td>\n",
       "      <td>Automatic</td>\n",
       "      <td>1</td>\n",
       "      <td>1</td>\n",
       "      <td>1</td>\n",
       "      <td>1</td>\n",
       "      <td>...</td>\n",
       "      <td>9.0</td>\n",
       "      <td>Part leather</td>\n",
       "      <td>0.0</td>\n",
       "      <td>front</td>\n",
       "      <td>165.0</td>\n",
       "      <td>1798.0</td>\n",
       "      <td>4.0</td>\n",
       "      <td>No</td>\n",
       "      <td>1647.0</td>\n",
       "      <td>7.6</td>\n",
       "    </tr>\n",
       "    <tr>\n",
       "      <th>15824</th>\n",
       "      <td>Renault Espace</td>\n",
       "      <td>52711</td>\n",
       "      <td>gasoline</td>\n",
       "      <td>0</td>\n",
       "      <td>0</td>\n",
       "      <td>Automatic</td>\n",
       "      <td>1</td>\n",
       "      <td>1</td>\n",
       "      <td>1</td>\n",
       "      <td>1</td>\n",
       "      <td>...</td>\n",
       "      <td>9.0</td>\n",
       "      <td>Part leather</td>\n",
       "      <td>0.0</td>\n",
       "      <td>front</td>\n",
       "      <td>165.0</td>\n",
       "      <td>1798.0</td>\n",
       "      <td>4.0</td>\n",
       "      <td>No</td>\n",
       "      <td>1608.0</td>\n",
       "      <td>7.4</td>\n",
       "    </tr>\n",
       "    <tr>\n",
       "      <th>15827</th>\n",
       "      <td>Renault Espace</td>\n",
       "      <td>52711</td>\n",
       "      <td>gasoline</td>\n",
       "      <td>0</td>\n",
       "      <td>0</td>\n",
       "      <td>Automatic</td>\n",
       "      <td>1</td>\n",
       "      <td>1</td>\n",
       "      <td>1</td>\n",
       "      <td>1</td>\n",
       "      <td>...</td>\n",
       "      <td>9.0</td>\n",
       "      <td>Part leather</td>\n",
       "      <td>0.0</td>\n",
       "      <td>front</td>\n",
       "      <td>165.0</td>\n",
       "      <td>1798.0</td>\n",
       "      <td>4.0</td>\n",
       "      <td>No</td>\n",
       "      <td>1608.0</td>\n",
       "      <td>7.4</td>\n",
       "    </tr>\n",
       "    <tr>\n",
       "      <th>15869</th>\n",
       "      <td>Renault Espace</td>\n",
       "      <td>49100</td>\n",
       "      <td>diesel</td>\n",
       "      <td>0</td>\n",
       "      <td>0</td>\n",
       "      <td>Automatic</td>\n",
       "      <td>1</td>\n",
       "      <td>1</td>\n",
       "      <td>1</td>\n",
       "      <td>1</td>\n",
       "      <td>...</td>\n",
       "      <td>9.0</td>\n",
       "      <td>Part leather</td>\n",
       "      <td>0.0</td>\n",
       "      <td>front</td>\n",
       "      <td>146.0</td>\n",
       "      <td>1997.0</td>\n",
       "      <td>4.0</td>\n",
       "      <td>No</td>\n",
       "      <td>1740.0</td>\n",
       "      <td>5.3</td>\n",
       "    </tr>\n",
       "    <tr>\n",
       "      <th>15876</th>\n",
       "      <td>Renault Espace</td>\n",
       "      <td>48765</td>\n",
       "      <td>gasoline</td>\n",
       "      <td>0</td>\n",
       "      <td>0</td>\n",
       "      <td>Automatic</td>\n",
       "      <td>1</td>\n",
       "      <td>1</td>\n",
       "      <td>1</td>\n",
       "      <td>1</td>\n",
       "      <td>...</td>\n",
       "      <td>9.0</td>\n",
       "      <td>Part leather</td>\n",
       "      <td>0.0</td>\n",
       "      <td>front</td>\n",
       "      <td>165.0</td>\n",
       "      <td>1798.0</td>\n",
       "      <td>4.0</td>\n",
       "      <td>No</td>\n",
       "      <td>1608.0</td>\n",
       "      <td>7.4</td>\n",
       "    </tr>\n",
       "  </tbody>\n",
       "</table>\n",
       "<p>6 rows × 106 columns</p>\n",
       "</div>"
      ],
      "text/plain": [
       "           make_model  price      fuel  particulate_filter  multiple_fuel  \\\n",
       "15812  Renault Espace  54982  gasoline                   0              0   \n",
       "15814  Renault Espace  54982  gasoline                   0              0   \n",
       "15824  Renault Espace  52711  gasoline                   0              0   \n",
       "15827  Renault Espace  52711  gasoline                   0              0   \n",
       "15869  Renault Espace  49100    diesel                   0              0   \n",
       "15876  Renault Espace  48765  gasoline                   0              0   \n",
       "\n",
       "      gearingtype  air_conditioning  armrest  automatic_climate_control  \\\n",
       "15812   Automatic                 1        1                          1   \n",
       "15814   Automatic                 1        1                          1   \n",
       "15824   Automatic                 1        1                          1   \n",
       "15827   Automatic                 1        1                          1   \n",
       "15869   Automatic                 1        1                          1   \n",
       "15876   Automatic                 1        1                          1   \n",
       "\n",
       "       cruise_control  ...  gears  interior_material  warranty_months  \\\n",
       "15812               1  ...    9.0       Part leather              0.0   \n",
       "15814               1  ...    9.0       Part leather              0.0   \n",
       "15824               1  ...    9.0       Part leather              0.0   \n",
       "15827               1  ...    9.0       Part leather              0.0   \n",
       "15869               1  ...    9.0       Part leather              0.0   \n",
       "15876               1  ...    9.0       Part leather              0.0   \n",
       "\n",
       "       drivechain     hp  displacement  cylinders  inspectionnew  weight  \\\n",
       "15812       front  165.0        1798.0        4.0             No  1647.0   \n",
       "15814       front  165.0        1798.0        4.0             No  1647.0   \n",
       "15824       front  165.0        1798.0        4.0             No  1608.0   \n",
       "15827       front  165.0        1798.0        4.0             No  1608.0   \n",
       "15869       front  146.0        1997.0        4.0             No  1740.0   \n",
       "15876       front  165.0        1798.0        4.0             No  1608.0   \n",
       "\n",
       "       consumption_comb  \n",
       "15812               7.6  \n",
       "15814               7.6  \n",
       "15824               7.4  \n",
       "15827               7.4  \n",
       "15869               5.3  \n",
       "15876               7.4  \n",
       "\n",
       "[6 rows x 106 columns]"
      ]
     },
     "execution_count": 1145,
     "metadata": {},
     "output_type": "execute_result"
    }
   ],
   "source": [
    "df[df['gears'] ==9]"
   ]
  },
  {
   "cell_type": "code",
   "execution_count": 1146,
   "metadata": {},
   "outputs": [
    {
     "data": {
      "text/plain": [
       "gears\n",
       "6.0    198\n",
       "7.0     95\n",
       "9.0      6\n",
       "5.0      4\n",
       "Name: count, dtype: int64"
      ]
     },
     "execution_count": 1146,
     "metadata": {},
     "output_type": "execute_result"
    }
   ],
   "source": [
    "df[(df['make_model'] == 'Renault Espace') & (df['displacement'] > 1700)].gears.value_counts()"
   ]
  },
  {
   "cell_type": "code",
   "execution_count": 1147,
   "metadata": {},
   "outputs": [
    {
     "data": {
      "text/plain": [
       "gears\n",
       "6.0    8612\n",
       "5.0    4262\n",
       "7.0    2810\n",
       "8.0     225\n",
       "9.0       6\n",
       "Name: count, dtype: int64"
      ]
     },
     "execution_count": 1147,
     "metadata": {},
     "output_type": "execute_result"
    }
   ],
   "source": [
    "df.gears.value_counts()"
   ]
  },
  {
   "cell_type": "markdown",
   "metadata": {},
   "source": [
    "## bodycolor"
   ]
  },
  {
   "cell_type": "code",
   "execution_count": 1148,
   "metadata": {},
   "outputs": [
    {
     "data": {
      "text/plain": [
       "bodycolor\n",
       "Black     3941\n",
       "Grey      3838\n",
       "White     3468\n",
       "Silver    1647\n",
       "Blue      1431\n",
       "Red        957\n",
       "Brown      289\n",
       "Green      158\n",
       "Beige      108\n",
       "Yellow      51\n",
       "Violet      18\n",
       "Bronze       6\n",
       "Orange       3\n",
       "Name: count, dtype: int64"
      ]
     },
     "execution_count": 1148,
     "metadata": {},
     "output_type": "execute_result"
    }
   ],
   "source": [
    "df['bodycolor'].value_counts()"
   ]
  },
  {
   "cell_type": "code",
   "execution_count": 1149,
   "metadata": {},
   "outputs": [],
   "source": [
    "# replace values with <500 counts with 'Others'\n",
    "df['bodycolor'] = df.bodycolor.replace(['Yellow','Violet','Bronze','Orange','Beige', 'Green','Brown'], 'Others')"
   ]
  },
  {
   "cell_type": "markdown",
   "metadata": {},
   "source": [
    "## nr of doors"
   ]
  },
  {
   "cell_type": "code",
   "execution_count": 1150,
   "metadata": {},
   "outputs": [
    {
     "data": {
      "text/plain": [
       "nrofdoors\n",
       "5.0    11784\n",
       "4.0     3079\n",
       "3.0      831\n",
       "2.0      219\n",
       "1.0        1\n",
       "7.0        1\n",
       "Name: count, dtype: int64"
      ]
     },
     "execution_count": 1150,
     "metadata": {},
     "output_type": "execute_result"
    }
   ],
   "source": [
    "df['nrofdoors'].value_counts()"
   ]
  },
  {
   "cell_type": "code",
   "execution_count": 1151,
   "metadata": {},
   "outputs": [],
   "source": [
    "df.loc[(df.nrofdoors == 2) | (df.nrofdoors == 1),'nrofdoors'] = 3"
   ]
  },
  {
   "cell_type": "code",
   "execution_count": 1152,
   "metadata": {},
   "outputs": [],
   "source": [
    "df.loc[(df.nrofdoors == 4) | (df.nrofdoors == 7),'nrofdoors'] = 5"
   ]
  },
  {
   "cell_type": "markdown",
   "metadata": {},
   "source": [
    "Make nrofdoors include the trunk"
   ]
  },
  {
   "cell_type": "code",
   "execution_count": 1153,
   "metadata": {},
   "outputs": [
    {
     "data": {
      "text/plain": [
       "nrofdoors\n",
       "5.0    14864\n",
       "3.0     1051\n",
       "Name: count, dtype: int64"
      ]
     },
     "execution_count": 1153,
     "metadata": {},
     "output_type": "execute_result"
    }
   ],
   "source": [
    "df['nrofdoors'].value_counts()"
   ]
  },
  {
   "cell_type": "markdown",
   "metadata": {},
   "source": [
    "## nrofseats"
   ]
  },
  {
   "cell_type": "code",
   "execution_count": 1154,
   "metadata": {},
   "outputs": [
    {
     "data": {
      "text/plain": [
       "nrofseats\n",
       "5.0    14304\n",
       "4.0     1127\n",
       "7.0      362\n",
       "2.0      119\n",
       "6.0        2\n",
       "3.0        1\n",
       "Name: count, dtype: int64"
      ]
     },
     "execution_count": 1154,
     "metadata": {},
     "output_type": "execute_result"
    }
   ],
   "source": [
    "df['nrofseats'].value_counts(dropna= False)"
   ]
  },
  {
   "cell_type": "code",
   "execution_count": 1155,
   "metadata": {},
   "outputs": [
    {
     "data": {
      "text/html": [
       "<div>\n",
       "<style scoped>\n",
       "    .dataframe tbody tr th:only-of-type {\n",
       "        vertical-align: middle;\n",
       "    }\n",
       "\n",
       "    .dataframe tbody tr th {\n",
       "        vertical-align: top;\n",
       "    }\n",
       "\n",
       "    .dataframe thead th {\n",
       "        text-align: right;\n",
       "    }\n",
       "</style>\n",
       "<table border=\"1\" class=\"dataframe\">\n",
       "  <thead>\n",
       "    <tr style=\"text-align: right;\">\n",
       "      <th></th>\n",
       "      <th>make_model</th>\n",
       "      <th>body</th>\n",
       "    </tr>\n",
       "  </thead>\n",
       "  <tbody>\n",
       "    <tr>\n",
       "      <th>582</th>\n",
       "      <td>Audi A1</td>\n",
       "      <td>Compact</td>\n",
       "    </tr>\n",
       "    <tr>\n",
       "      <th>1636</th>\n",
       "      <td>Audi A1</td>\n",
       "      <td>Compact</td>\n",
       "    </tr>\n",
       "    <tr>\n",
       "      <th>15890</th>\n",
       "      <td>Renault Espace</td>\n",
       "      <td>Station wagon</td>\n",
       "    </tr>\n",
       "  </tbody>\n",
       "</table>\n",
       "</div>"
      ],
      "text/plain": [
       "           make_model           body\n",
       "582           Audi A1        Compact\n",
       "1636          Audi A1        Compact\n",
       "15890  Renault Espace  Station wagon"
      ]
     },
     "execution_count": 1155,
     "metadata": {},
     "output_type": "execute_result"
    }
   ],
   "source": [
    "df.loc[df['nrofseats'].isin([6, 3])][['make_model','body']]"
   ]
  },
  {
   "cell_type": "code",
   "execution_count": 1156,
   "metadata": {},
   "outputs": [
    {
     "data": {
      "text/plain": [
       "np.float64(5.0)"
      ]
     },
     "execution_count": 1156,
     "metadata": {},
     "output_type": "execute_result"
    }
   ],
   "source": [
    "df[(df['make_model']== 'Audi A1') & (df['body'] == 'Compact')]['nrofseats'].mode()[0]"
   ]
  },
  {
   "cell_type": "code",
   "execution_count": 1157,
   "metadata": {},
   "outputs": [
    {
     "data": {
      "text/plain": [
       "np.float64(5.0)"
      ]
     },
     "execution_count": 1157,
     "metadata": {},
     "output_type": "execute_result"
    }
   ],
   "source": [
    "df[(df['make_model']== 'Renault Espace') & (df['body'] == 'Station wagon')]['nrofseats'].mode()[0]"
   ]
  },
  {
   "cell_type": "code",
   "execution_count": 1158,
   "metadata": {},
   "outputs": [],
   "source": [
    "df.loc[[582,1636,15890], 'nrofseats'] = 5"
   ]
  },
  {
   "cell_type": "code",
   "execution_count": 1159,
   "metadata": {},
   "outputs": [
    {
     "data": {
      "text/plain": [
       "nrofseats\n",
       "5.0    14307\n",
       "4.0     1127\n",
       "7.0      362\n",
       "2.0      119\n",
       "Name: count, dtype: int64"
      ]
     },
     "execution_count": 1159,
     "metadata": {},
     "output_type": "execute_result"
    }
   ],
   "source": [
    "df['nrofseats'].value_counts(dropna= False)"
   ]
  },
  {
   "cell_type": "markdown",
   "metadata": {},
   "source": [
    "## consumption combined"
   ]
  },
  {
   "cell_type": "code",
   "execution_count": 1160,
   "metadata": {},
   "outputs": [
    {
     "data": {
      "text/plain": [
       "0        3.8\n",
       "1        5.6\n",
       "2        3.8\n",
       "3        3.8\n",
       "4        4.1\n",
       "        ... \n",
       "15914    5.3\n",
       "15915    7.4\n",
       "15916    5.3\n",
       "15917    5.3\n",
       "15918    6.8\n",
       "Name: consumption_comb, Length: 15915, dtype: float64"
      ]
     },
     "execution_count": 1160,
     "metadata": {},
     "output_type": "execute_result"
    }
   ],
   "source": [
    "df['consumption_comb']"
   ]
  },
  {
   "cell_type": "code",
   "execution_count": 1161,
   "metadata": {},
   "outputs": [
    {
     "data": {
      "text/plain": [
       "([0, 1, 2, 3, 4, 5, 6, 7, 8],\n",
       " [Text(0, 0, 'Audi A1'),\n",
       "  Text(1, 0, 'Audi A2'),\n",
       "  Text(2, 0, 'Audi A3'),\n",
       "  Text(3, 0, 'Opel Astra'),\n",
       "  Text(4, 0, 'Opel Corsa'),\n",
       "  Text(5, 0, 'Opel Insignia'),\n",
       "  Text(6, 0, 'Renault Clio'),\n",
       "  Text(7, 0, 'Renault Duster'),\n",
       "  Text(8, 0, 'Renault Espace')])"
      ]
     },
     "execution_count": 1161,
     "metadata": {},
     "output_type": "execute_result"
    },
    {
     "data": {
      "image/png": "[encoded data removed]",
      "text/plain": [
       "<Figure size 640x480 with 1 Axes>"
      ]
     },
     "metadata": {},
     "output_type": "display_data"
    }
   ],
   "source": [
    "sns.boxplot(y='consumption_comb',data=df, x='make_model')\n",
    "plt.xticks(rotation=45)\n"
   ]
  },
  {
   "cell_type": "code",
   "execution_count": 1162,
   "metadata": {},
   "outputs": [],
   "source": [
    "df.loc[(df['consumption_comb']>20)|(df['consumption_comb']<3), 'consumption_comb'] = np.nan"
   ]
  },
  {
   "cell_type": "code",
   "execution_count": 1163,
   "metadata": {},
   "outputs": [
    {
     "data": {
      "text/plain": [
       "count    15896.000000\n",
       "mean         4.831609\n",
       "std          0.933004\n",
       "min          3.000000\n",
       "25%          4.100000\n",
       "50%          4.800000\n",
       "75%          5.400000\n",
       "max         13.800000\n",
       "Name: consumption_comb, dtype: float64"
      ]
     },
     "execution_count": 1163,
     "metadata": {},
     "output_type": "execute_result"
    }
   ],
   "source": [
    "df.consumption_comb.describe()"
   ]
  },
  {
   "cell_type": "code",
   "execution_count": 1164,
   "metadata": {},
   "outputs": [
    {
     "data": {
      "text/plain": [
       "np.int64(19)"
      ]
     },
     "execution_count": 1164,
     "metadata": {},
     "output_type": "execute_result"
    }
   ],
   "source": [
    "df.consumption_comb.isna().sum(0)"
   ]
  },
  {
   "cell_type": "code",
   "execution_count": 1165,
   "metadata": {},
   "outputs": [
    {
     "data": {
      "text/plain": [
       "np.int64(5)"
      ]
     },
     "execution_count": 1165,
     "metadata": {},
     "output_type": "execute_result"
    }
   ],
   "source": [
    "mode_comb = df.groupby(['co2emission','displacement','fuel'])['consumption_comb'].transform(lambda x: x.mode()[0] if not x.mode().empty else np.nan)\n",
    "df['consumption_comb'] = df['consumption_comb'].fillna(mode_comb)\n",
    "df['consumption_comb'].isna().sum()"
   ]
  },
  {
   "cell_type": "code",
   "execution_count": 1166,
   "metadata": {},
   "outputs": [
    {
     "data": {
      "text/plain": [
       "np.int64(0)"
      ]
     },
     "execution_count": 1166,
     "metadata": {},
     "output_type": "execute_result"
    }
   ],
   "source": [
    "mode_comb1 = df.groupby(['displacement'])['consumption_comb'].transform(lambda x: x.mode()[0] if not x.mode().empty else np.nan)\n",
    "df['consumption_comb'] = df['consumption_comb'].fillna(mode_comb1)\n",
    "df['consumption_comb'].isna().sum()"
   ]
  },
  {
   "cell_type": "code",
   "execution_count": 1167,
   "metadata": {},
   "outputs": [
    {
     "data": {
      "text/plain": [
       "([0, 1, 2, 3, 4, 5, 6, 7, 8],\n",
       " [Text(0, 0, 'Audi A1'),\n",
       "  Text(1, 0, 'Audi A2'),\n",
       "  Text(2, 0, 'Audi A3'),\n",
       "  Text(3, 0, 'Opel Astra'),\n",
       "  Text(4, 0, 'Opel Corsa'),\n",
       "  Text(5, 0, 'Opel Insignia'),\n",
       "  Text(6, 0, 'Renault Clio'),\n",
       "  Text(7, 0, 'Renault Duster'),\n",
       "  Text(8, 0, 'Renault Espace')])"
      ]
     },
     "execution_count": 1167,
     "metadata": {},
     "output_type": "execute_result"
    },
    {
     "data": {
      "image/png": "[encoded data removed]",
      "text/plain": [
       "<Figure size 640x480 with 1 Axes>"
      ]
     },
     "metadata": {},
     "output_type": "display_data"
    }
   ],
   "source": [
    "sns.boxplot(x = 'make_model', y = 'consumption_comb', data = df)\n",
    "plt.xticks(rotation=45)\n"
   ]
  },
  {
   "cell_type": "markdown",
   "metadata": {},
   "source": [
    "## displacement"
   ]
  },
  {
   "cell_type": "code",
   "execution_count": 1168,
   "metadata": {},
   "outputs": [
    {
     "data": {
      "text/plain": [
       "([0, 1, 2, 3, 4, 5, 6, 7, 8],\n",
       " [Text(0, 0, 'Audi A1'),\n",
       "  Text(1, 0, 'Audi A2'),\n",
       "  Text(2, 0, 'Audi A3'),\n",
       "  Text(3, 0, 'Opel Astra'),\n",
       "  Text(4, 0, 'Opel Corsa'),\n",
       "  Text(5, 0, 'Opel Insignia'),\n",
       "  Text(6, 0, 'Renault Clio'),\n",
       "  Text(7, 0, 'Renault Duster'),\n",
       "  Text(8, 0, 'Renault Espace')])"
      ]
     },
     "execution_count": 1168,
     "metadata": {},
     "output_type": "execute_result"
    },
    {
     "data": {
      "image/png": "[encoded data removed]",
      "text/plain": [
       "<Figure size 640x480 with 1 Axes>"
      ]
     },
     "metadata": {},
     "output_type": "display_data"
    }
   ],
   "source": [
    "sns.boxplot(x = 'make_model', y = 'displacement', data = df)\n",
    "plt.xticks(rotation = 45)"
   ]
  },
  {
   "cell_type": "code",
   "execution_count": 1169,
   "metadata": {},
   "outputs": [],
   "source": [
    "df.loc[(df['displacement'] > 5000)| (df['displacement'] < 600), 'displacement'] = np.nan"
   ]
  },
  {
   "cell_type": "code",
   "execution_count": 1170,
   "metadata": {},
   "outputs": [
    {
     "data": {
      "text/plain": [
       "([0, 1, 2, 3, 4, 5, 6, 7, 8],\n",
       " [Text(0, 0, 'Audi A1'),\n",
       "  Text(1, 0, 'Audi A2'),\n",
       "  Text(2, 0, 'Audi A3'),\n",
       "  Text(3, 0, 'Opel Astra'),\n",
       "  Text(4, 0, 'Opel Corsa'),\n",
       "  Text(5, 0, 'Opel Insignia'),\n",
       "  Text(6, 0, 'Renault Clio'),\n",
       "  Text(7, 0, 'Renault Duster'),\n",
       "  Text(8, 0, 'Renault Espace')])"
      ]
     },
     "execution_count": 1170,
     "metadata": {},
     "output_type": "execute_result"
    },
    {
     "data": {
      "image/png": "[encoded data removed]",
      "text/plain": [
       "<Figure size 640x480 with 1 Axes>"
      ]
     },
     "metadata": {},
     "output_type": "display_data"
    }
   ],
   "source": [
    "sns.boxplot(x = 'make_model', y = 'displacement', data = df)\n",
    "plt.xticks(rotation = 45)"
   ]
  },
  {
   "cell_type": "code",
   "execution_count": 1171,
   "metadata": {},
   "outputs": [
    {
     "data": {
      "text/plain": [
       "np.int64(53)"
      ]
     },
     "execution_count": 1171,
     "metadata": {},
     "output_type": "execute_result"
    }
   ],
   "source": [
    "df['displacement'].isna().sum()"
   ]
  },
  {
   "cell_type": "code",
   "execution_count": 1172,
   "metadata": {},
   "outputs": [
    {
     "data": {
      "text/plain": [
       "np.int64(0)"
      ]
     },
     "execution_count": 1172,
     "metadata": {},
     "output_type": "execute_result"
    }
   ],
   "source": [
    "mode_displacement = df.groupby(['make_model', 'type','hp'])['displacement'].transform(lambda x: x.mode()[0] if list(x.mode()) != [] else np.nan)\n",
    "df['displacement'] = df['displacement'].fillna(mode_displacement)\n",
    "df['displacement'].isna().sum()"
   ]
  },
  {
   "cell_type": "markdown",
   "metadata": {},
   "source": [
    "## cylinders"
   ]
  },
  {
   "cell_type": "code",
   "execution_count": 1173,
   "metadata": {},
   "outputs": [
    {
     "data": {
      "text/plain": [
       "([0, 1, 2, 3, 4, 5, 6, 7, 8],\n",
       " [Text(0, 0, 'Audi A1'),\n",
       "  Text(1, 0, 'Audi A2'),\n",
       "  Text(2, 0, 'Audi A3'),\n",
       "  Text(3, 0, 'Opel Astra'),\n",
       "  Text(4, 0, 'Opel Corsa'),\n",
       "  Text(5, 0, 'Opel Insignia'),\n",
       "  Text(6, 0, 'Renault Clio'),\n",
       "  Text(7, 0, 'Renault Duster'),\n",
       "  Text(8, 0, 'Renault Espace')])"
      ]
     },
     "execution_count": 1173,
     "metadata": {},
     "output_type": "execute_result"
    },
    {
     "data": {
      "image/png": "[encoded data removed]",
      "text/plain": [
       "<Figure size 640x480 with 1 Axes>"
      ]
     },
     "metadata": {},
     "output_type": "display_data"
    }
   ],
   "source": [
    "sns.boxplot(x='make_model', y='cylinders',data=df)\n",
    "plt.xticks(rotation = 45)"
   ]
  },
  {
   "cell_type": "code",
   "execution_count": 1174,
   "metadata": {},
   "outputs": [],
   "source": [
    "#Convert cylinder outliers to 4\n",
    "df.loc[df['cylinders'].isin([1,2,8]), 'cylinders'] = 4"
   ]
  },
  {
   "cell_type": "code",
   "execution_count": 1175,
   "metadata": {},
   "outputs": [
    {
     "data": {
      "text/plain": [
       "cylinders\n",
       "4.0    12470\n",
       "3.0     3420\n",
       "5.0       22\n",
       "6.0        3\n",
       "Name: count, dtype: int64"
      ]
     },
     "execution_count": 1175,
     "metadata": {},
     "output_type": "execute_result"
    }
   ],
   "source": [
    "df['cylinders'].value_counts(dropna = False)"
   ]
  },
  {
   "cell_type": "markdown",
   "metadata": {},
   "source": [
    "## weight"
   ]
  },
  {
   "cell_type": "code",
   "execution_count": 1176,
   "metadata": {},
   "outputs": [
    {
     "data": {
      "text/plain": [
       "([0, 1, 2, 3, 4, 5, 6, 7, 8],\n",
       " [Text(0, 0, 'Audi A1'),\n",
       "  Text(1, 0, 'Audi A2'),\n",
       "  Text(2, 0, 'Audi A3'),\n",
       "  Text(3, 0, 'Opel Astra'),\n",
       "  Text(4, 0, 'Opel Corsa'),\n",
       "  Text(5, 0, 'Opel Insignia'),\n",
       "  Text(6, 0, 'Renault Clio'),\n",
       "  Text(7, 0, 'Renault Duster'),\n",
       "  Text(8, 0, 'Renault Espace')])"
      ]
     },
     "execution_count": 1176,
     "metadata": {},
     "output_type": "execute_result"
    },
    {
     "data": {
      "image/png": "[encoded data removed]",
      "text/plain": [
       "<Figure size 640x480 with 1 Axes>"
      ]
     },
     "metadata": {},
     "output_type": "display_data"
    }
   ],
   "source": [
    "sns.boxplot(x='make_model', y='weight',data=df)\n",
    "plt.xticks(rotation = 45)"
   ]
  },
  {
   "cell_type": "code",
   "execution_count": 1177,
   "metadata": {},
   "outputs": [],
   "source": [
    "df.loc[df['weight'] <500, 'weight'] = np.nan"
   ]
  },
  {
   "cell_type": "code",
   "execution_count": 1178,
   "metadata": {},
   "outputs": [
    {
     "data": {
      "text/plain": [
       "np.int64(3)"
      ]
     },
     "execution_count": 1178,
     "metadata": {},
     "output_type": "execute_result"
    }
   ],
   "source": [
    "df.weight.isna().sum()"
   ]
  },
  {
   "cell_type": "code",
   "execution_count": 1179,
   "metadata": {},
   "outputs": [
    {
     "data": {
      "text/plain": [
       "np.int64(0)"
      ]
     },
     "execution_count": 1179,
     "metadata": {},
     "output_type": "execute_result"
    }
   ],
   "source": [
    "mode_weight = df.groupby([\n",
    "    'make_model',\n",
    "    'body',\n",
    "    'displacement'\n",
    "])['weight'].transform(lambda x: x.mode()[0] if list(x.mode()) != [] else np.nan)\n",
    "\n",
    "df['weight'] = df['weight'].fillna(mode_weight)\n",
    "df['weight'].isna().sum()"
   ]
  },
  {
   "cell_type": "markdown",
   "metadata": {},
   "source": [
    "## co2 emission"
   ]
  },
  {
   "cell_type": "code",
   "execution_count": 1180,
   "metadata": {},
   "outputs": [
    {
     "data": {
      "text/plain": [
       "([0, 1, 2, 3, 4, 5, 6, 7, 8],\n",
       " [Text(0, 0, 'Audi A1'),\n",
       "  Text(1, 0, 'Audi A2'),\n",
       "  Text(2, 0, 'Audi A3'),\n",
       "  Text(3, 0, 'Opel Astra'),\n",
       "  Text(4, 0, 'Opel Corsa'),\n",
       "  Text(5, 0, 'Opel Insignia'),\n",
       "  Text(6, 0, 'Renault Clio'),\n",
       "  Text(7, 0, 'Renault Duster'),\n",
       "  Text(8, 0, 'Renault Espace')])"
      ]
     },
     "execution_count": 1180,
     "metadata": {},
     "output_type": "execute_result"
    },
    {
     "data": {
      "image/png": "[encoded data removed]",
      "text/plain": [
       "<Figure size 640x480 with 1 Axes>"
      ]
     },
     "metadata": {},
     "output_type": "display_data"
    }
   ],
   "source": [
    "sns.boxplot(x='make_model', y='co2emission',data=df)\n",
    "plt.xticks(rotation = 45)\n"
   ]
  },
  {
   "cell_type": "code",
   "execution_count": 1181,
   "metadata": {},
   "outputs": [],
   "source": [
    "df.loc[(df['co2emission']> 300) | (df['co2emission']< 70), 'co2emission'] = np.nan"
   ]
  },
  {
   "cell_type": "code",
   "execution_count": 1182,
   "metadata": {},
   "outputs": [
    {
     "data": {
      "text/plain": [
       "(0.0, 1000.0)"
      ]
     },
     "execution_count": 1182,
     "metadata": {},
     "output_type": "execute_result"
    },
    {
     "data": {
      "image/png": "[encoded data removed]",
      "text/plain": [
       "<Figure size 640x480 with 1 Axes>"
      ]
     },
     "metadata": {},
     "output_type": "display_data"
    }
   ],
   "source": [
    "sns.boxplot(x='make_model', y='co2emission',data=df)\n",
    "plt.xticks(rotation = 45)\n",
    "plt.ylim(0,1000)"
   ]
  },
  {
   "cell_type": "code",
   "execution_count": 1183,
   "metadata": {},
   "outputs": [
    {
     "data": {
      "text/plain": [
       "np.int64(21)"
      ]
     },
     "execution_count": 1183,
     "metadata": {},
     "output_type": "execute_result"
    }
   ],
   "source": [
    "df['co2emission'].isna().sum()"
   ]
  },
  {
   "cell_type": "code",
   "execution_count": 1184,
   "metadata": {},
   "outputs": [
    {
     "data": {
      "text/plain": [
       "np.int64(0)"
      ]
     },
     "execution_count": 1184,
     "metadata": {},
     "output_type": "execute_result"
    }
   ],
   "source": [
    "mode_co2 = df.groupby(['make_model', 'fuel','displacement'])['co2emission'].transform(lambda x: x.mode()[0] if not x.mode().empty else np.nan)\n",
    "df['co2emission'] = df['co2emission'].fillna(mode_co2)\n",
    "df['co2emission'].isna().sum()"
   ]
  },
  {
   "cell_type": "markdown",
   "metadata": {},
   "source": [
    "## type"
   ]
  },
  {
   "cell_type": "code",
   "execution_count": 1185,
   "metadata": {},
   "outputs": [
    {
     "data": {
      "text/plain": [
       "type\n",
       "Used              11097\n",
       "New                1647\n",
       "Pre-registered     1364\n",
       "Employee's car     1011\n",
       "Demonstration       796\n",
       "Name: count, dtype: int64"
      ]
     },
     "execution_count": 1185,
     "metadata": {},
     "output_type": "execute_result"
    }
   ],
   "source": [
    "df.type.value_counts()"
   ]
  },
  {
   "cell_type": "code",
   "execution_count": 1186,
   "metadata": {},
   "outputs": [
    {
     "data": {
      "text/plain": [
       "count    1647.000000\n",
       "mean       77.362174\n",
       "std       207.242615\n",
       "min         0.000000\n",
       "25%        10.000000\n",
       "50%        11.000000\n",
       "75%       100.000000\n",
       "max      3000.000000\n",
       "Name: km, dtype: float64"
      ]
     },
     "execution_count": 1186,
     "metadata": {},
     "output_type": "execute_result"
    }
   ],
   "source": [
    "df[df['type'] == 'New']['km'].describe()"
   ]
  },
  {
   "cell_type": "code",
   "execution_count": 1187,
   "metadata": {},
   "outputs": [
    {
     "data": {
      "text/html": [
       "<div>\n",
       "<style scoped>\n",
       "    .dataframe tbody tr th:only-of-type {\n",
       "        vertical-align: middle;\n",
       "    }\n",
       "\n",
       "    .dataframe tbody tr th {\n",
       "        vertical-align: top;\n",
       "    }\n",
       "\n",
       "    .dataframe thead th {\n",
       "        text-align: right;\n",
       "    }\n",
       "</style>\n",
       "<table border=\"1\" class=\"dataframe\">\n",
       "  <thead>\n",
       "    <tr style=\"text-align: right;\">\n",
       "      <th></th>\n",
       "      <th>make_model</th>\n",
       "      <th>price</th>\n",
       "      <th>fuel</th>\n",
       "      <th>particulate_filter</th>\n",
       "      <th>multiple_fuel</th>\n",
       "      <th>gearingtype</th>\n",
       "      <th>air_conditioning</th>\n",
       "      <th>armrest</th>\n",
       "      <th>automatic_climate_control</th>\n",
       "      <th>cruise_control</th>\n",
       "      <th>...</th>\n",
       "      <th>gears</th>\n",
       "      <th>interior_material</th>\n",
       "      <th>warranty_months</th>\n",
       "      <th>drivechain</th>\n",
       "      <th>hp</th>\n",
       "      <th>displacement</th>\n",
       "      <th>cylinders</th>\n",
       "      <th>inspectionnew</th>\n",
       "      <th>weight</th>\n",
       "      <th>consumption_comb</th>\n",
       "    </tr>\n",
       "  </thead>\n",
       "  <tbody>\n",
       "    <tr>\n",
       "      <th>9887</th>\n",
       "      <td>Opel Corsa</td>\n",
       "      <td>17490</td>\n",
       "      <td>super95</td>\n",
       "      <td>0</td>\n",
       "      <td>1</td>\n",
       "      <td>Automatic</td>\n",
       "      <td>1</td>\n",
       "      <td>0</td>\n",
       "      <td>0</td>\n",
       "      <td>1</td>\n",
       "      <td>...</td>\n",
       "      <td>6.0</td>\n",
       "      <td>Cloth</td>\n",
       "      <td>0.0</td>\n",
       "      <td>front</td>\n",
       "      <td>66.0</td>\n",
       "      <td>1398.0</td>\n",
       "      <td>4.0</td>\n",
       "      <td>Yes</td>\n",
       "      <td>1237.0</td>\n",
       "      <td>5.2</td>\n",
       "    </tr>\n",
       "    <tr>\n",
       "      <th>9933</th>\n",
       "      <td>Opel Corsa</td>\n",
       "      <td>17250</td>\n",
       "      <td>super95</td>\n",
       "      <td>0</td>\n",
       "      <td>0</td>\n",
       "      <td>Automatic</td>\n",
       "      <td>1</td>\n",
       "      <td>0</td>\n",
       "      <td>0</td>\n",
       "      <td>1</td>\n",
       "      <td>...</td>\n",
       "      <td>6.0</td>\n",
       "      <td>Cloth</td>\n",
       "      <td>0.0</td>\n",
       "      <td>front</td>\n",
       "      <td>66.0</td>\n",
       "      <td>1398.0</td>\n",
       "      <td>4.0</td>\n",
       "      <td>No</td>\n",
       "      <td>1199.0</td>\n",
       "      <td>6.0</td>\n",
       "    </tr>\n",
       "    <tr>\n",
       "      <th>10043</th>\n",
       "      <td>Opel Corsa</td>\n",
       "      <td>15950</td>\n",
       "      <td>super95</td>\n",
       "      <td>0</td>\n",
       "      <td>1</td>\n",
       "      <td>Automatic</td>\n",
       "      <td>1</td>\n",
       "      <td>0</td>\n",
       "      <td>1</td>\n",
       "      <td>1</td>\n",
       "      <td>...</td>\n",
       "      <td>6.0</td>\n",
       "      <td>Cloth</td>\n",
       "      <td>0.0</td>\n",
       "      <td>front</td>\n",
       "      <td>66.0</td>\n",
       "      <td>1398.0</td>\n",
       "      <td>4.0</td>\n",
       "      <td>No</td>\n",
       "      <td>1199.0</td>\n",
       "      <td>6.0</td>\n",
       "    </tr>\n",
       "    <tr>\n",
       "      <th>15299</th>\n",
       "      <td>Renault Espace</td>\n",
       "      <td>46895</td>\n",
       "      <td>diesel</td>\n",
       "      <td>1</td>\n",
       "      <td>0</td>\n",
       "      <td>Manual</td>\n",
       "      <td>1</td>\n",
       "      <td>1</td>\n",
       "      <td>1</td>\n",
       "      <td>1</td>\n",
       "      <td>...</td>\n",
       "      <td>6.0</td>\n",
       "      <td>Part leather</td>\n",
       "      <td>0.0</td>\n",
       "      <td>front</td>\n",
       "      <td>147.0</td>\n",
       "      <td>1997.0</td>\n",
       "      <td>4.0</td>\n",
       "      <td>No</td>\n",
       "      <td>2044.0</td>\n",
       "      <td>5.4</td>\n",
       "    </tr>\n",
       "    <tr>\n",
       "      <th>15821</th>\n",
       "      <td>Renault Espace</td>\n",
       "      <td>50950</td>\n",
       "      <td>diesel</td>\n",
       "      <td>1</td>\n",
       "      <td>0</td>\n",
       "      <td>Automatic</td>\n",
       "      <td>1</td>\n",
       "      <td>1</td>\n",
       "      <td>1</td>\n",
       "      <td>1</td>\n",
       "      <td>...</td>\n",
       "      <td>6.0</td>\n",
       "      <td>Other</td>\n",
       "      <td>0.0</td>\n",
       "      <td>front</td>\n",
       "      <td>147.0</td>\n",
       "      <td>1997.0</td>\n",
       "      <td>4.0</td>\n",
       "      <td>No</td>\n",
       "      <td>1840.0</td>\n",
       "      <td>5.7</td>\n",
       "    </tr>\n",
       "    <tr>\n",
       "      <th>15884</th>\n",
       "      <td>Renault Espace</td>\n",
       "      <td>42990</td>\n",
       "      <td>super95</td>\n",
       "      <td>1</td>\n",
       "      <td>0</td>\n",
       "      <td>Automatic</td>\n",
       "      <td>1</td>\n",
       "      <td>0</td>\n",
       "      <td>1</td>\n",
       "      <td>0</td>\n",
       "      <td>...</td>\n",
       "      <td>6.0</td>\n",
       "      <td>Full leather</td>\n",
       "      <td>0.0</td>\n",
       "      <td>front</td>\n",
       "      <td>165.0</td>\n",
       "      <td>1798.0</td>\n",
       "      <td>4.0</td>\n",
       "      <td>No</td>\n",
       "      <td>1685.0</td>\n",
       "      <td>7.4</td>\n",
       "    </tr>\n",
       "    <tr>\n",
       "      <th>15890</th>\n",
       "      <td>Renault Espace</td>\n",
       "      <td>42490</td>\n",
       "      <td>diesel</td>\n",
       "      <td>1</td>\n",
       "      <td>0</td>\n",
       "      <td>Automatic</td>\n",
       "      <td>1</td>\n",
       "      <td>1</td>\n",
       "      <td>1</td>\n",
       "      <td>1</td>\n",
       "      <td>...</td>\n",
       "      <td>6.0</td>\n",
       "      <td>Cloth</td>\n",
       "      <td>0.0</td>\n",
       "      <td>front</td>\n",
       "      <td>147.0</td>\n",
       "      <td>1997.0</td>\n",
       "      <td>4.0</td>\n",
       "      <td>No</td>\n",
       "      <td>1840.0</td>\n",
       "      <td>5.7</td>\n",
       "    </tr>\n",
       "    <tr>\n",
       "      <th>15902</th>\n",
       "      <td>Renault Espace</td>\n",
       "      <td>41043</td>\n",
       "      <td>diesel</td>\n",
       "      <td>1</td>\n",
       "      <td>0</td>\n",
       "      <td>Automatic</td>\n",
       "      <td>1</td>\n",
       "      <td>1</td>\n",
       "      <td>1</td>\n",
       "      <td>1</td>\n",
       "      <td>...</td>\n",
       "      <td>6.0</td>\n",
       "      <td>Part leather</td>\n",
       "      <td>0.0</td>\n",
       "      <td>front</td>\n",
       "      <td>147.0</td>\n",
       "      <td>1997.0</td>\n",
       "      <td>4.0</td>\n",
       "      <td>No</td>\n",
       "      <td>2044.0</td>\n",
       "      <td>5.3</td>\n",
       "    </tr>\n",
       "  </tbody>\n",
       "</table>\n",
       "<p>8 rows × 106 columns</p>\n",
       "</div>"
      ],
      "text/plain": [
       "           make_model  price     fuel  particulate_filter  multiple_fuel  \\\n",
       "9887       Opel Corsa  17490  super95                   0              1   \n",
       "9933       Opel Corsa  17250  super95                   0              0   \n",
       "10043      Opel Corsa  15950  super95                   0              1   \n",
       "15299  Renault Espace  46895   diesel                   1              0   \n",
       "15821  Renault Espace  50950   diesel                   1              0   \n",
       "15884  Renault Espace  42990  super95                   1              0   \n",
       "15890  Renault Espace  42490   diesel                   1              0   \n",
       "15902  Renault Espace  41043   diesel                   1              0   \n",
       "\n",
       "      gearingtype  air_conditioning  armrest  automatic_climate_control  \\\n",
       "9887    Automatic                 1        0                          0   \n",
       "9933    Automatic                 1        0                          0   \n",
       "10043   Automatic                 1        0                          1   \n",
       "15299      Manual                 1        1                          1   \n",
       "15821   Automatic                 1        1                          1   \n",
       "15884   Automatic                 1        0                          1   \n",
       "15890   Automatic                 1        1                          1   \n",
       "15902   Automatic                 1        1                          1   \n",
       "\n",
       "       cruise_control  ...  gears  interior_material  warranty_months  \\\n",
       "9887                1  ...    6.0              Cloth              0.0   \n",
       "9933                1  ...    6.0              Cloth              0.0   \n",
       "10043               1  ...    6.0              Cloth              0.0   \n",
       "15299               1  ...    6.0       Part leather              0.0   \n",
       "15821               1  ...    6.0              Other              0.0   \n",
       "15884               0  ...    6.0       Full leather              0.0   \n",
       "15890               1  ...    6.0              Cloth              0.0   \n",
       "15902               1  ...    6.0       Part leather              0.0   \n",
       "\n",
       "       drivechain     hp  displacement  cylinders  inspectionnew  weight  \\\n",
       "9887        front   66.0        1398.0        4.0            Yes  1237.0   \n",
       "9933        front   66.0        1398.0        4.0             No  1199.0   \n",
       "10043       front   66.0        1398.0        4.0             No  1199.0   \n",
       "15299       front  147.0        1997.0        4.0             No  2044.0   \n",
       "15821       front  147.0        1997.0        4.0             No  1840.0   \n",
       "15884       front  165.0        1798.0        4.0             No  1685.0   \n",
       "15890       front  147.0        1997.0        4.0             No  1840.0   \n",
       "15902       front  147.0        1997.0        4.0             No  2044.0   \n",
       "\n",
       "       consumption_comb  \n",
       "9887                5.2  \n",
       "9933                6.0  \n",
       "10043               6.0  \n",
       "15299               5.4  \n",
       "15821               5.7  \n",
       "15884               7.4  \n",
       "15890               5.7  \n",
       "15902               5.3  \n",
       "\n",
       "[8 rows x 106 columns]"
      ]
     },
     "execution_count": 1187,
     "metadata": {},
     "output_type": "execute_result"
    }
   ],
   "source": [
    "df[(df.km > 1000) & (df.type == 'New')]"
   ]
  },
  {
   "cell_type": "code",
   "execution_count": 1188,
   "metadata": {},
   "outputs": [
    {
     "data": {
      "text/plain": [
       "type\n",
       "Used              11099\n",
       "New                1645\n",
       "Pre-registered     1364\n",
       "Employee's car     1011\n",
       "Demonstration       796\n",
       "Name: count, dtype: int64"
      ]
     },
     "execution_count": 1188,
     "metadata": {},
     "output_type": "execute_result"
    }
   ],
   "source": [
    "df.loc[(df.age > 0) & (df.type == 'New'), 'type'] = 'Used'\n",
    "df.type.value_counts()"
   ]
  },
  {
   "cell_type": "markdown",
   "metadata": {},
   "source": [
    "## fuel"
   ]
  },
  {
   "cell_type": "code",
   "execution_count": 1189,
   "metadata": {},
   "outputs": [
    {
     "data": {
      "text/plain": [
       "fuel\n",
       "diesel      7297\n",
       "super95     4466\n",
       "gasoline    3728\n",
       "other        424\n",
       "Name: count, dtype: int64"
      ]
     },
     "execution_count": 1189,
     "metadata": {},
     "output_type": "execute_result"
    }
   ],
   "source": [
    "df.fuel.value_counts()"
   ]
  },
  {
   "cell_type": "markdown",
   "metadata": {},
   "source": [
    "## interior material"
   ]
  },
  {
   "cell_type": "code",
   "execution_count": 1190,
   "metadata": {},
   "outputs": [
    {
     "data": {
      "text/plain": [
       "interior_material\n",
       "Cloth           12460\n",
       "Part leather     1552\n",
       "Full leather     1382\n",
       "Other             404\n",
       "Velour             60\n",
       "alcantara          57\n",
       "Name: count, dtype: int64"
      ]
     },
     "execution_count": 1190,
     "metadata": {},
     "output_type": "execute_result"
    }
   ],
   "source": [
    "df.interior_material.value_counts()"
   ]
  },
  {
   "cell_type": "code",
   "execution_count": 1191,
   "metadata": {},
   "outputs": [
    {
     "data": {
      "text/plain": [
       "interior_material\n",
       "Cloth      12520\n",
       "Leather     2934\n",
       "Other        461\n",
       "Name: count, dtype: int64"
      ]
     },
     "execution_count": 1191,
     "metadata": {},
     "output_type": "execute_result"
    }
   ],
   "source": [
    "# Combine into larger, more general categories\n",
    "df.loc[df['interior_material'].isin(['Part leather', 'Full leather']), 'interior_material'] = 'Leather'\n",
    "df.loc[df['interior_material'] == 'Velour', 'interior_material'] = 'Cloth'\n",
    "df.loc[df['interior_material'] == 'alcantara', 'interior_material'] = 'Other'\n",
    "df.interior_material.value_counts()"
   ]
  },
  {
   "cell_type": "code",
   "execution_count": 1192,
   "metadata": {},
   "outputs": [
    {
     "data": {
      "text/plain": [
       "['make_model',\n",
       " 'price',\n",
       " 'fuel',\n",
       " 'particulate_filter',\n",
       " 'multiple_fuel',\n",
       " 'gearingtype',\n",
       " 'air_conditioning',\n",
       " 'armrest',\n",
       " 'automatic_climate_control',\n",
       " 'cruise_control',\n",
       " 'electric_tailgate',\n",
       " 'electrical_side_mirrors',\n",
       " 'electrically_adjustable_seats',\n",
       " 'electrically_heated_windshield',\n",
       " 'heads-up_display',\n",
       " 'heated_steering_wheel',\n",
       " 'hill_holder',\n",
       " 'keyless_central_door_lock',\n",
       " 'leather_steering_wheel',\n",
       " 'light_sensor',\n",
       " 'lumbar_support',\n",
       " 'multi-function_steering_wheel',\n",
       " 'navigation_system',\n",
       " 'panorama_roof',\n",
       " 'park_distance_control',\n",
       " 'parking_assist_system_camera',\n",
       " 'parking_assist_system_self-steering',\n",
       " 'parking_assist_system_sensors_front',\n",
       " 'parking_assist_system_sensors_rear',\n",
       " 'power_windows',\n",
       " 'rain_sensor',\n",
       " 'seat_heating',\n",
       " 'seat_ventilation',\n",
       " 'split_rear_seats',\n",
       " 'start-stop_system',\n",
       " 'tinted_windows',\n",
       " 'bluetooth',\n",
       " 'cd_player',\n",
       " 'digital_radio',\n",
       " 'hands-free_equipment',\n",
       " 'mp3',\n",
       " 'on-board_computer',\n",
       " 'radio',\n",
       " 'sound_system',\n",
       " 'usb',\n",
       " 'alloy_wheels',\n",
       " 'catalytic_converter',\n",
       " 'roof_rack',\n",
       " 'shift_paddles',\n",
       " 'sport_package',\n",
       " 'sport_seats',\n",
       " 'sport_suspension',\n",
       " 'touch_screen',\n",
       " 'trailer_hitch',\n",
       " 'voice_control',\n",
       " 'abs',\n",
       " 'adaptive_cruise_control',\n",
       " 'adaptive_headlights',\n",
       " 'alarm_system',\n",
       " 'blind_spot_monitor',\n",
       " 'central_door_lock',\n",
       " 'central_door_lock_with_remote_control',\n",
       " 'daytime_running_lights',\n",
       " 'driver_drowsiness_detection',\n",
       " 'driver-side_airbag',\n",
       " 'electronic_stability_control',\n",
       " 'emergency_brake_assistant',\n",
       " 'emergency_system',\n",
       " 'fog_lights',\n",
       " 'head_airbag',\n",
       " 'immobilizer',\n",
       " 'isofix',\n",
       " 'led_daytime_running_lights',\n",
       " 'led_headlights',\n",
       " 'lane_departure_warning_system',\n",
       " 'passenger-side_airbag',\n",
       " 'power_steering',\n",
       " 'rear_airbag',\n",
       " 'side_airbag',\n",
       " 'tire_pressure_monitoring_system',\n",
       " 'traction_control',\n",
       " 'traffic_sign_recognition',\n",
       " 'xenon_headlights',\n",
       " 'body',\n",
       " 'age',\n",
       " 'type',\n",
       " 'km',\n",
       " 'previous_owners',\n",
       " 'co2emission',\n",
       " 'emissionclass',\n",
       " 'bodycolor',\n",
       " 'painttype',\n",
       " 'nrofseats',\n",
       " 'nrofdoors',\n",
       " 'countryversion',\n",
       " 'vat',\n",
       " 'gears',\n",
       " 'interior_material',\n",
       " 'warranty_months',\n",
       " 'drivechain',\n",
       " 'hp',\n",
       " 'displacement',\n",
       " 'cylinders',\n",
       " 'inspectionnew',\n",
       " 'weight',\n",
       " 'consumption_comb']"
      ]
     },
     "execution_count": 1192,
     "metadata": {},
     "output_type": "execute_result"
    }
   ],
   "source": [
    "list(df.columns)"
   ]
  },
  {
   "cell_type": "code",
   "execution_count": 1193,
   "metadata": {},
   "outputs": [
    {
     "data": {
      "text/plain": [
       "inspectionnew\n",
       "No     11983\n",
       "Yes     3932\n",
       "Name: count, dtype: int64"
      ]
     },
     "execution_count": 1193,
     "metadata": {},
     "output_type": "execute_result"
    }
   ],
   "source": [
    "df.inspectionnew.value_counts()"
   ]
  },
  {
   "cell_type": "markdown",
   "metadata": {},
   "source": [
    "## make_model"
   ]
  },
  {
   "cell_type": "code",
   "execution_count": 1194,
   "metadata": {},
   "outputs": [
    {
     "data": {
      "text/plain": [
       "make_model\n",
       "Audi A3           3097\n",
       "Audi A1           2614\n",
       "Opel Insignia     2598\n",
       "Opel Astra        2525\n",
       "Opel Corsa        2216\n",
       "Renault Clio      1839\n",
       "Renault Espace     991\n",
       "Renault Duster      34\n",
       "Audi A2              1\n",
       "Name: count, dtype: int64"
      ]
     },
     "execution_count": 1194,
     "metadata": {},
     "output_type": "execute_result"
    }
   ],
   "source": [
    "df.make_model.value_counts()"
   ]
  },
  {
   "cell_type": "markdown",
   "metadata": {},
   "source": [
    "Audi A2 were made only from 1999-2005, so can't be age 1. Drop this row"
   ]
  },
  {
   "cell_type": "code",
   "execution_count": 1195,
   "metadata": {},
   "outputs": [
    {
     "data": {
      "text/plain": [
       "Index([2614], dtype='int64')"
      ]
     },
     "execution_count": 1195,
     "metadata": {},
     "output_type": "execute_result"
    }
   ],
   "source": [
    "df.loc[df['make_model'] == 'Audi A2'].index"
   ]
  },
  {
   "cell_type": "code",
   "execution_count": 1196,
   "metadata": {},
   "outputs": [],
   "source": [
    "df.drop(index=[2614], inplace=True)\n",
    "df.reset_index(drop=True, inplace=True)"
   ]
  },
  {
   "cell_type": "markdown",
   "metadata": {},
   "source": [
    "# A couple of checks"
   ]
  },
  {
   "cell_type": "code",
   "execution_count": 1197,
   "metadata": {},
   "outputs": [
    {
     "name": "stdout",
     "output_type": "stream",
     "text": [
      "Series([], dtype: int64)\n"
     ]
    }
   ],
   "source": [
    "missing_values = df.isna().sum()\n",
    "missing_columns = missing_values[missing_values > 0]\n",
    "print(missing_columns)"
   ]
  },
  {
   "cell_type": "markdown",
   "metadata": {},
   "source": [
    "# Save output for get_dummies"
   ]
  },
  {
   "cell_type": "code",
   "execution_count": 1198,
   "metadata": {},
   "outputs": [],
   "source": [
    "df.to_csv('data/auto_scout_outlier.csv', index=False)"
   ]
  }
 ],
 "metadata": {
  "kernelspec": {
   "display_name": "Python 3",
   "language": "python",
   "name": "python3"
  },
  "language_info": {
   "codemirror_mode": {
    "name": "ipython",
    "version": 3
   },
   "file_extension": ".py",
   "mimetype": "text/x-python",
   "name": "python",
   "nbconvert_exporter": "python",
   "pygments_lexer": "ipython3",
   "version": "3.12.4"
  }
 },
 "nbformat": 4,
 "nbformat_minor": 2
}
