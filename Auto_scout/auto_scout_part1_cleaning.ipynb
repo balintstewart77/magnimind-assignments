{
 "cells": [
  {
   "cell_type": "markdown",
   "metadata": {},
   "source": [
    "# Auto_scout project Balint - Part 1: cleaning"
   ]
  },
  {
   "cell_type": "code",
   "execution_count": 227,
   "metadata": {},
   "outputs": [],
   "source": [
    "import numpy as np\n",
    "import pandas as pd\n",
    "import matplotlib.pyplot as plt\n",
    "import seaborn as sns\n"
   ]
  },
  {
   "cell_type": "code",
   "execution_count": 228,
   "metadata": {},
   "outputs": [
    {
     "data": {
      "text/plain": [
       "(15919, 54)"
      ]
     },
     "execution_count": 228,
     "metadata": {},
     "output_type": "execute_result"
    }
   ],
   "source": [
    "# Load the data\n",
    "df = pd.read_json(r'C:\\Users\\BalintStewart\\OneDrive - Health Data Research\\Desktop\\magnimind-assignments\\Auto_scout\\data\\scout_car.json', lines=True) # lines=True reads the file as lines of JSON (one JSON object per line)\n",
    "\n",
    "df.shape"
   ]
  },
  {
   "cell_type": "code",
   "execution_count": 229,
   "metadata": {},
   "outputs": [
    {
     "name": "stdout",
     "output_type": "stream",
     "text": [
      "<class 'pandas.core.frame.DataFrame'>\n",
      "RangeIndex: 15919 entries, 0 to 15918\n",
      "Data columns (total 54 columns):\n",
      " #   Column                         Non-Null Count  Dtype  \n",
      "---  ------                         --------------  -----  \n",
      " 0   url                            15919 non-null  object \n",
      " 1   make_model                     15919 non-null  object \n",
      " 2   short_description              15873 non-null  object \n",
      " 3   body_type                      15859 non-null  object \n",
      " 4   price                          15919 non-null  int64  \n",
      " 5   vat                            11406 non-null  object \n",
      " 6   km                             15919 non-null  object \n",
      " 7   registration                   15919 non-null  object \n",
      " 8   prev_owner                     9091 non-null   object \n",
      " 9   kW                             0 non-null      float64\n",
      " 10  hp                             15919 non-null  object \n",
      " 11  Type                           15917 non-null  object \n",
      " 12  Previous Owners                9279 non-null   object \n",
      " 13  Next Inspection                3535 non-null   object \n",
      " 14  Inspection new                 3932 non-null   object \n",
      " 15  Warranty                       10499 non-null  object \n",
      " 16  Full Service                   8215 non-null   object \n",
      " 17  Non-smoking Vehicle            7177 non-null   object \n",
      " 18  null                           15919 non-null  object \n",
      " 19  Make                           15919 non-null  object \n",
      " 20  Model                          15919 non-null  object \n",
      " 21  Offer Number                   12744 non-null  object \n",
      " 22  First Registration             14322 non-null  object \n",
      " 23  Body Color                     15322 non-null  object \n",
      " 24  Paint Type                     10147 non-null  object \n",
      " 25  Body Color Original            12160 non-null  object \n",
      " 26  Upholstery                     12199 non-null  object \n",
      " 27  Body                           15859 non-null  object \n",
      " 28  Nr. of Doors                   15707 non-null  object \n",
      " 29  Nr. of Seats                   14942 non-null  object \n",
      " 30  Model Code                     4978 non-null   object \n",
      " 31  Gearing Type                   15919 non-null  object \n",
      " 32  Displacement                   15423 non-null  object \n",
      " 33  Cylinders                      10239 non-null  object \n",
      " 34  Weight                         8945 non-null   object \n",
      " 35  Drive chain                    9061 non-null   object \n",
      " 36  Fuel                           15919 non-null  object \n",
      " 37  Consumption                    14013 non-null  object \n",
      " 38  CO2 Emission                   14111 non-null  object \n",
      " 39  Emission Class                 12898 non-null  object \n",
      " 40  \n",
      "Comfort & Convenience\n",
      "        14999 non-null  object \n",
      " 41  \n",
      "Entertainment & Media\n",
      "        14545 non-null  object \n",
      " 42  \n",
      "Extras\n",
      "                       12957 non-null  object \n",
      " 43  \n",
      "Safety & Security\n",
      "            14937 non-null  object \n",
      " 44  description                    15919 non-null  object \n",
      " 45  Emission Label                 3985 non-null   object \n",
      " 46  Gears                          11207 non-null  object \n",
      " 47  Country version                7586 non-null   object \n",
      " 48  Electricity consumption        137 non-null    object \n",
      " 49  Last Service Date              566 non-null    object \n",
      " 50  Other Fuel Types               880 non-null    object \n",
      " 51  Availability                   635 non-null    object \n",
      " 52  Last Timing Belt Service Date  16 non-null     object \n",
      " 53  Available from                 272 non-null    object \n",
      "dtypes: float64(1), int64(1), object(52)\n",
      "memory usage: 6.6+ MB\n",
      "None\n"
     ]
    }
   ],
   "source": [
    "print(df.info())"
   ]
  },
  {
   "cell_type": "code",
   "execution_count": 230,
   "metadata": {},
   "outputs": [
    {
     "data": {
      "text/html": [
       "<div>\n",
       "<style scoped>\n",
       "    .dataframe tbody tr th:only-of-type {\n",
       "        vertical-align: middle;\n",
       "    }\n",
       "\n",
       "    .dataframe tbody tr th {\n",
       "        vertical-align: top;\n",
       "    }\n",
       "\n",
       "    .dataframe thead th {\n",
       "        text-align: right;\n",
       "    }\n",
       "</style>\n",
       "<table border=\"1\" class=\"dataframe\">\n",
       "  <thead>\n",
       "    <tr style=\"text-align: right;\">\n",
       "      <th></th>\n",
       "      <th>price</th>\n",
       "      <th>kW</th>\n",
       "    </tr>\n",
       "  </thead>\n",
       "  <tbody>\n",
       "    <tr>\n",
       "      <th>count</th>\n",
       "      <td>15919.000000</td>\n",
       "      <td>0.0</td>\n",
       "    </tr>\n",
       "    <tr>\n",
       "      <th>mean</th>\n",
       "      <td>18019.896727</td>\n",
       "      <td>NaN</td>\n",
       "    </tr>\n",
       "    <tr>\n",
       "      <th>std</th>\n",
       "      <td>7386.169409</td>\n",
       "      <td>NaN</td>\n",
       "    </tr>\n",
       "    <tr>\n",
       "      <th>min</th>\n",
       "      <td>13.000000</td>\n",
       "      <td>NaN</td>\n",
       "    </tr>\n",
       "    <tr>\n",
       "      <th>25%</th>\n",
       "      <td>12850.000000</td>\n",
       "      <td>NaN</td>\n",
       "    </tr>\n",
       "    <tr>\n",
       "      <th>50%</th>\n",
       "      <td>16900.000000</td>\n",
       "      <td>NaN</td>\n",
       "    </tr>\n",
       "    <tr>\n",
       "      <th>75%</th>\n",
       "      <td>21900.000000</td>\n",
       "      <td>NaN</td>\n",
       "    </tr>\n",
       "    <tr>\n",
       "      <th>max</th>\n",
       "      <td>74600.000000</td>\n",
       "      <td>NaN</td>\n",
       "    </tr>\n",
       "  </tbody>\n",
       "</table>\n",
       "</div>"
      ],
      "text/plain": [
       "              price   kW\n",
       "count  15919.000000  0.0\n",
       "mean   18019.896727  NaN\n",
       "std     7386.169409  NaN\n",
       "min       13.000000  NaN\n",
       "25%    12850.000000  NaN\n",
       "50%    16900.000000  NaN\n",
       "75%    21900.000000  NaN\n",
       "max    74600.000000  NaN"
      ]
     },
     "execution_count": 230,
     "metadata": {},
     "output_type": "execute_result"
    }
   ],
   "source": [
    "df.describe()"
   ]
  },
  {
   "cell_type": "markdown",
   "metadata": {},
   "source": [
    "## Drop columns containing >90% missing values"
   ]
  },
  {
   "cell_type": "code",
   "execution_count": 231,
   "metadata": {},
   "outputs": [
    {
     "data": {
      "text/plain": [
       "(15919, 47)"
      ]
     },
     "execution_count": 231,
     "metadata": {},
     "output_type": "execute_result"
    }
   ],
   "source": [
    "# Find proportion of missing values for each column\n",
    "percent_missing = df.isna().sum()/len(df)*100\n",
    "\n",
    "# Select columns that have >90% missing values, drop these from the data\n",
    "high_missing = percent_missing[percent_missing >90].index\n",
    "df = df.drop(high_missing, axis = 1)\n",
    "df.shape"
   ]
  },
  {
   "cell_type": "code",
   "execution_count": 232,
   "metadata": {},
   "outputs": [
    {
     "data": {
      "text/plain": [
       "url                           0.000000\n",
       "make_model                    0.000000\n",
       "short_description             0.288963\n",
       "body_type                     0.376908\n",
       "price                         0.000000\n",
       "vat                          28.349771\n",
       "km                            0.000000\n",
       "registration                  0.000000\n",
       "prev_owner                   42.892141\n",
       "hp                            0.000000\n",
       "Type                          0.012564\n",
       "Previous Owners              41.711163\n",
       "Next Inspection              77.793831\n",
       "Inspection new               75.299956\n",
       "Warranty                     34.047365\n",
       "Full Service                 48.395000\n",
       "Non-smoking Vehicle          54.915510\n",
       "null                          0.000000\n",
       "Make                          0.000000\n",
       "Model                         0.000000\n",
       "Offer Number                 19.944720\n",
       "First Registration           10.032037\n",
       "Body Color                    3.750236\n",
       "Paint Type                   36.258559\n",
       "Body Color Original          23.613292\n",
       "Upholstery                   23.368302\n",
       "Body                          0.376908\n",
       "Nr. of Doors                  1.331742\n",
       "Nr. of Seats                  6.137320\n",
       "Model Code                   68.729192\n",
       "Gearing Type                  0.000000\n",
       "Displacement                  3.115774\n",
       "Cylinders                    35.680633\n",
       "Weight                       43.809285\n",
       "Drive chain                  43.080596\n",
       "Fuel                          0.000000\n",
       "Consumption                  11.973114\n",
       "CO2 Emission                 11.357497\n",
       "Emission Class               18.977323\n",
       "\\nComfort & Convenience\\n     5.779257\n",
       "\\nEntertainment & Media\\n     8.631195\n",
       "\\nExtras\\n                   18.606696\n",
       "\\nSafety & Security\\n         6.168729\n",
       "description                   0.000000\n",
       "Emission Label               74.967021\n",
       "Gears                        29.599849\n",
       "Country version              52.346253\n",
       "dtype: float64"
      ]
     },
     "execution_count": 232,
     "metadata": {},
     "output_type": "execute_result"
    }
   ],
   "source": [
    "df.isna().sum()/len(df)*100\n"
   ]
  },
  {
   "cell_type": "markdown",
   "metadata": {},
   "source": [
    "## Tidy up column names\n",
    "- Make them all lower case\n",
    "- join words using underscore\n",
    "- clean up col name strings (remove leaading and trailing '\\n'))"
   ]
  },
  {
   "cell_type": "code",
   "execution_count": 233,
   "metadata": {},
   "outputs": [
    {
     "data": {
      "text/plain": [
       "Index(['url', 'make_model', 'short_description', 'body_type', 'price', 'vat',\n",
       "       'km', 'registration', 'prev_owner', 'hp', 'type', 'previousowners',\n",
       "       'nextinspection', 'inspectionnew', 'warranty', 'fullservice',\n",
       "       'non-smokingvehicle', 'null', 'make', 'model', 'offernumber',\n",
       "       'firstregistration', 'bodycolor', 'painttype', 'bodycolororiginal',\n",
       "       'upholstery', 'body', 'nrofdoors', 'nrofseats', 'modelcode',\n",
       "       'gearingtype', 'displacement', 'cylinders', 'weight', 'drivechain',\n",
       "       'fuel', 'consumption', 'co2emission', 'emissionclass',\n",
       "       'comfort_convenience', 'entertainment_media', 'extras',\n",
       "       'safety_security', 'description', 'emissionlabel', 'gears',\n",
       "       'countryversion'],\n",
       "      dtype='object')"
      ]
     },
     "execution_count": 233,
     "metadata": {},
     "output_type": "execute_result"
    }
   ],
   "source": [
    "# Clean up column names\n",
    "df.columns = df.columns.str.strip().str.lower().str.replace(r'\\n','').str.replace('&','_').str.replace(' ','').str.replace('.','')\n",
    "df.columns"
   ]
  },
  {
   "cell_type": "markdown",
   "metadata": {},
   "source": [
    "## Compare 'make_model' with 'make' and 'model' columns"
   ]
  },
  {
   "cell_type": "code",
   "execution_count": 234,
   "metadata": {},
   "outputs": [
    {
     "name": "stdout",
     "output_type": "stream",
     "text": [
      "make_model\n",
      "Audi A3           3097\n",
      "Audi A1           2614\n",
      "Opel Insignia     2598\n",
      "Opel Astra        2526\n",
      "Opel Corsa        2219\n",
      "Renault Clio      1839\n",
      "Renault Espace     991\n",
      "Renault Duster      34\n",
      "Audi A2              1\n",
      "Name: count, dtype: int64\n"
     ]
    }
   ],
   "source": [
    "dfmm = df[['make_model', 'make', 'model']]\n",
    "dfmm.sample(10)\n",
    "\n",
    "# Should I keep 'make' and 'model' as separate features or just 'make_model'? Want to avoid redundancy/multicolinearity in my training dataset.\n",
    "print(dfmm.make_model.value_counts(dropna=False)) \n",
    "\n",
    "# Final decision: keep 'make_model' and drop 'make' and 'model' - simplifies the feauture set more than onehotencoding both 'make' and 'model'\n",
    "df = df.drop(['make','model'], axis = 1)\n"
   ]
  },
  {
   "cell_type": "markdown",
   "metadata": {},
   "source": [
    "## Compare and clean/combine prev_owner and previousowners"
   ]
  },
  {
   "cell_type": "code",
   "execution_count": 235,
   "metadata": {},
   "outputs": [
    {
     "name": "stdout",
     "output_type": "stream",
     "text": [
      "prev_owner\n",
      "1 previous owner     8294\n",
      "None                 6828\n",
      "2 previous owners     778\n",
      "3 previous owners      17\n",
      "4 previous owners       2\n",
      "Name: count, dtype: int64\n",
      "previousowners\n",
      "\\n1\\n                                                                                        8101\n",
      "NaN                                                                                          6640\n",
      "\\n2\\n                                                                                         766\n",
      "\\n0\\n                                                                                         163\n",
      "\\n3\\n                                                                                          17\n",
      "                                                                                             ... \n",
      "[\\n1\\n, \\n85 g CO2/km (comb)\\n]                                                                 1\n",
      "[\\n1\\n, \\n, 5.9 l/100 km (comb), \\n, 7.6 l/100 km (city), \\n, 5.1 l/100 km (country), \\n]       1\n",
      "[\\n1\\n, \\n188 g CO2/km (comb)\\n]                                                                1\n",
      "[\\n1\\n, \\n, 6.8 l/100 km (comb), \\n, 8.7 l/100 km (city), \\n, 5.7 l/100 km (country), \\n]       1\n",
      "[\\n2\\n, \\n123 g CO2/km (comb)\\n]                                                                1\n",
      "Name: count, Length: 103, dtype: int64\n"
     ]
    }
   ],
   "source": [
    "df[['prev_owner', 'previousowners']].sample(10)\n",
    "print(df.prev_owner.value_counts(dropna = False))\n",
    "print(df.previousowners.value_counts(dropna= False))"
   ]
  },
  {
   "cell_type": "code",
   "execution_count": 236,
   "metadata": {},
   "outputs": [],
   "source": [
    "# clean previousowners column \n",
    "df['previousowners_cleaned'] = df['previousowners'].str.replace('\\n', '')\n",
    "\n"
   ]
  },
  {
   "cell_type": "code",
   "execution_count": 237,
   "metadata": {},
   "outputs": [
    {
     "data": {
      "text/plain": [
       "prev_owner_cleaned\n",
       "1      8294\n",
       "NaN    6828\n",
       "2       778\n",
       "3        17\n",
       "4         2\n",
       "Name: count, dtype: int64"
      ]
     },
     "execution_count": 237,
     "metadata": {},
     "output_type": "execute_result"
    }
   ],
   "source": [
    "# clean prev_owner column: remove strings after number, and convert 'None' to np.nan\n",
    "def clean_prev_owner(value):\n",
    "    if isinstance(value, str):\n",
    "        return value.split()[0] # value.split() splits the string into ['1', 'previous', 'owners'], then select first element \n",
    "    if value == 'None' or pd.isna(value):\n",
    "        return np.nan\n",
    "    return value\n",
    "\n",
    "df['prev_owner_cleaned'] = df['prev_owner'].apply(clean_prev_owner)\n",
    "df['prev_owner_cleaned'].value_counts(dropna= False)"
   ]
  },
  {
   "cell_type": "code",
   "execution_count": 238,
   "metadata": {},
   "outputs": [
    {
     "data": {
      "text/html": [
       "<div>\n",
       "<style scoped>\n",
       "    .dataframe tbody tr th:only-of-type {\n",
       "        vertical-align: middle;\n",
       "    }\n",
       "\n",
       "    .dataframe tbody tr th {\n",
       "        vertical-align: top;\n",
       "    }\n",
       "\n",
       "    .dataframe thead th {\n",
       "        text-align: right;\n",
       "    }\n",
       "</style>\n",
       "<table border=\"1\" class=\"dataframe\">\n",
       "  <thead>\n",
       "    <tr style=\"text-align: right;\">\n",
       "      <th></th>\n",
       "      <th>prev_owner_cleaned</th>\n",
       "      <th>previousowners_cleaned</th>\n",
       "    </tr>\n",
       "  </thead>\n",
       "  <tbody>\n",
       "  </tbody>\n",
       "</table>\n",
       "</div>"
      ],
      "text/plain": [
       "Empty DataFrame\n",
       "Columns: [prev_owner_cleaned, previousowners_cleaned]\n",
       "Index: []"
      ]
     },
     "execution_count": 238,
     "metadata": {},
     "output_type": "execute_result"
    }
   ],
   "source": [
    "# Check the NaN discrepancy across the two columns\n",
    "discrep = df[df['prev_owner_cleaned'] != df['previousowners_cleaned']]\n",
    "discrep[['prev_owner_cleaned','previousowners_cleaned']].dropna()\n",
    "# All discrepencies involve an NaN in one of the columns"
   ]
  },
  {
   "cell_type": "code",
   "execution_count": 239,
   "metadata": {},
   "outputs": [
    {
     "data": {
      "text/html": [
       "<div>\n",
       "<style scoped>\n",
       "    .dataframe tbody tr th:only-of-type {\n",
       "        vertical-align: middle;\n",
       "    }\n",
       "\n",
       "    .dataframe tbody tr th {\n",
       "        vertical-align: top;\n",
       "    }\n",
       "\n",
       "    .dataframe thead th {\n",
       "        text-align: right;\n",
       "    }\n",
       "</style>\n",
       "<table border=\"1\" class=\"dataframe\">\n",
       "  <thead>\n",
       "    <tr style=\"text-align: right;\">\n",
       "      <th></th>\n",
       "      <th>prev_owner_cleaned</th>\n",
       "      <th>previousowners_cleaned</th>\n",
       "    </tr>\n",
       "  </thead>\n",
       "  <tbody>\n",
       "    <tr>\n",
       "      <th>47</th>\n",
       "      <td>NaN</td>\n",
       "      <td>0</td>\n",
       "    </tr>\n",
       "    <tr>\n",
       "      <th>418</th>\n",
       "      <td>NaN</td>\n",
       "      <td>0</td>\n",
       "    </tr>\n",
       "    <tr>\n",
       "      <th>586</th>\n",
       "      <td>NaN</td>\n",
       "      <td>0</td>\n",
       "    </tr>\n",
       "    <tr>\n",
       "      <th>648</th>\n",
       "      <td>NaN</td>\n",
       "      <td>0</td>\n",
       "    </tr>\n",
       "    <tr>\n",
       "      <th>734</th>\n",
       "      <td>NaN</td>\n",
       "      <td>0</td>\n",
       "    </tr>\n",
       "    <tr>\n",
       "      <th>...</th>\n",
       "      <td>...</td>\n",
       "      <td>...</td>\n",
       "    </tr>\n",
       "    <tr>\n",
       "      <th>15794</th>\n",
       "      <td>1</td>\n",
       "      <td>NaN</td>\n",
       "    </tr>\n",
       "    <tr>\n",
       "      <th>15853</th>\n",
       "      <td>NaN</td>\n",
       "      <td>0</td>\n",
       "    </tr>\n",
       "    <tr>\n",
       "      <th>15860</th>\n",
       "      <td>NaN</td>\n",
       "      <td>0</td>\n",
       "    </tr>\n",
       "    <tr>\n",
       "      <th>15915</th>\n",
       "      <td>1</td>\n",
       "      <td>NaN</td>\n",
       "    </tr>\n",
       "    <tr>\n",
       "      <th>15916</th>\n",
       "      <td>1</td>\n",
       "      <td>NaN</td>\n",
       "    </tr>\n",
       "  </tbody>\n",
       "</table>\n",
       "<p>368 rows × 2 columns</p>\n",
       "</div>"
      ],
      "text/plain": [
       "      prev_owner_cleaned previousowners_cleaned\n",
       "47                   NaN                      0\n",
       "418                  NaN                      0\n",
       "586                  NaN                      0\n",
       "648                  NaN                      0\n",
       "734                  NaN                      0\n",
       "...                  ...                    ...\n",
       "15794                  1                    NaN\n",
       "15853                NaN                      0\n",
       "15860                NaN                      0\n",
       "15915                  1                    NaN\n",
       "15916                  1                    NaN\n",
       "\n",
       "[368 rows x 2 columns]"
      ]
     },
     "execution_count": 239,
     "metadata": {},
     "output_type": "execute_result"
    }
   ],
   "source": [
    "# Have a look at the NaN discrepencies\n",
    "filtered_df = df[(df['prev_owner_cleaned'].isna() & df['previousowners_cleaned'].notna()) | (df['prev_owner_cleaned'].notna() & df['previousowners_cleaned'].isna())]\n",
    "filtered_df[['prev_owner_cleaned','previousowners_cleaned']] "
   ]
  },
  {
   "cell_type": "code",
   "execution_count": 240,
   "metadata": {},
   "outputs": [
    {
     "data": {
      "text/plain": [
       "previous_owners_cleaned\n",
       "1      8294\n",
       "NaN    6665\n",
       "2       778\n",
       "0       163\n",
       "3        17\n",
       "4         2\n",
       "Name: count, dtype: int64"
      ]
     },
     "execution_count": 240,
     "metadata": {},
     "output_type": "execute_result"
    }
   ],
   "source": [
    "# Some values are NaN in one, and value in the other, and vice versa. Merge so that we keep the value and discard the NaN these instances by using combine_first\n",
    "# Now merge the two columns together\n",
    "df['previous_owners_cleaned'] = df['prev_owner_cleaned'].combine_first(df['previousowners_cleaned'])\n",
    "df['previous_owners_cleaned'].value_counts(dropna = False)\n"
   ]
  },
  {
   "cell_type": "code",
   "execution_count": 241,
   "metadata": {},
   "outputs": [],
   "source": [
    "# Drop columns not needed anymore\n",
    "df = df.drop(['prev_owner_cleaned','previousowners_cleaned','prev_owner', 'previousowners'], axis = 1)"
   ]
  },
  {
   "cell_type": "markdown",
   "metadata": {},
   "source": [
    "## 'Null' column"
   ]
  },
  {
   "cell_type": "code",
   "execution_count": 242,
   "metadata": {},
   "outputs": [
    {
     "name": "stdout",
     "output_type": "stream",
     "text": [
      "null\n",
      "[]    15919\n",
      "Name: count, dtype: int64\n"
     ]
    }
   ],
   "source": [
    "print(df['null'].value_counts(dropna = False))\n",
    "# Drop the 'null' column\n",
    "df = df.drop('null', axis = 1)"
   ]
  },
  {
   "cell_type": "code",
   "execution_count": 243,
   "metadata": {},
   "outputs": [
    {
     "data": {
      "text/plain": [
       "Index(['url', 'make_model', 'short_description', 'body_type', 'price', 'vat',\n",
       "       'km', 'registration', 'hp', 'type', 'nextinspection', 'inspectionnew',\n",
       "       'warranty', 'fullservice', 'non-smokingvehicle', 'offernumber',\n",
       "       'firstregistration', 'bodycolor', 'painttype', 'bodycolororiginal',\n",
       "       'upholstery', 'body', 'nrofdoors', 'nrofseats', 'modelcode',\n",
       "       'gearingtype', 'displacement', 'cylinders', 'weight', 'drivechain',\n",
       "       'fuel', 'consumption', 'co2emission', 'emissionclass',\n",
       "       'comfort_convenience', 'entertainment_media', 'extras',\n",
       "       'safety_security', 'description', 'emissionlabel', 'gears',\n",
       "       'countryversion', 'previous_owners_cleaned'],\n",
       "      dtype='object')"
      ]
     },
     "execution_count": 243,
     "metadata": {},
     "output_type": "execute_result"
    }
   ],
   "source": [
    "df.columns"
   ]
  },
  {
   "cell_type": "markdown",
   "metadata": {},
   "source": [
    "## Compare 'co2emission', 'emissionclass', 'emissionlabel' columns"
   ]
  },
  {
   "cell_type": "code",
   "execution_count": 244,
   "metadata": {},
   "outputs": [
    {
     "data": {
      "text/plain": [
       "emissionlabel\n",
       "NaN                     11934\n",
       "[\\n4 (Green)\\n]          3553\n",
       "[\\n1 (No sticker)\\n]      381\n",
       "[[], [], []]               40\n",
       "[\\n5 (Blue)\\n]              8\n",
       "[\\n3 (Yellow)\\n]            2\n",
       "[\\n2 (Red)\\n]               1\n",
       "Name: count, dtype: int64"
      ]
     },
     "execution_count": 244,
     "metadata": {},
     "output_type": "execute_result"
    }
   ],
   "source": [
    "df[['co2emission', 'emissionclass', 'emissionlabel']]\n",
    "df['emissionlabel'].value_counts(dropna = False)"
   ]
  },
  {
   "cell_type": "markdown",
   "metadata": {},
   "source": [
    "## Co2 emission"
   ]
  },
  {
   "cell_type": "code",
   "execution_count": 245,
   "metadata": {},
   "outputs": [],
   "source": [
    "def cleann_column(series):\n",
    "    # Convert the series to string type\n",
    "    series = series.astype(str)\n",
    "    # Strip unwanted characters and replace newlines\n",
    "    return series.str.strip('[]\\\\n').str.replace('\\\\n', '', regex=False)\n",
    "\n",
    "# Apply the cleaning function to each column\n",
    "df['co2emission'] = cleann_column(df['co2emission'])\n",
    "df['emissionclass'] = cleann_column(df['emissionclass'])\n",
    "df['emissionlabel'] = cleann_column(df['emissionlabel'])\n"
   ]
  },
  {
   "cell_type": "code",
   "execution_count": 246,
   "metadata": {},
   "outputs": [
    {
     "data": {
      "text/plain": [
       "co2emission_cleaned_gCO2/km\n",
       "NaN       2436\n",
       "1202.0     740\n",
       "992.0      545\n",
       "972.0      537\n",
       "1042.0     501\n",
       "          ... \n",
       "1802.0       1\n",
       "1712.0       1\n",
       "1832.0       1\n",
       "12.0         1\n",
       "1932.0       1\n",
       "Name: count, Length: 123, dtype: int64"
      ]
     },
     "execution_count": 246,
     "metadata": {},
     "output_type": "execute_result"
    }
   ],
   "source": [
    "import re\n",
    "# Define a function to clean the emission values\n",
    "def extract_int(value):\n",
    "    if isinstance(value, str):\n",
    "        # Remove any unwanted characters and extract the numeric part\n",
    "        value = re.sub(r'[^\\d]', '', value)  # Remove everything except digits\n",
    "        return int(value) if value else np.nan  # Convert to int or return NaN if empty\n",
    "    return np.nan\n",
    "\n",
    "# Apply the cleaning function to the column\n",
    "df['co2emission_cleaned_gCO2/km'] = df['co2emission'].apply(extract_int)\n",
    "df['co2emission_cleaned_gCO2/km'].value_counts(dropna=False)"
   ]
  },
  {
   "cell_type": "markdown",
   "metadata": {},
   "source": [
    "## emissionlabel column"
   ]
  },
  {
   "cell_type": "code",
   "execution_count": 247,
   "metadata": {},
   "outputs": [
    {
     "data": {
      "text/plain": [
       "emissionlabel\n",
       "NaN                 11974\n",
       "'4 (Green)'          3553\n",
       "'1 (No sticker)'      381\n",
       "'5 (Blue)'              8\n",
       "'3 (Yellow)'            2\n",
       "'2 (Red)'               1\n",
       "Name: count, dtype: int64"
      ]
     },
     "execution_count": 247,
     "metadata": {},
     "output_type": "execute_result"
    }
   ],
   "source": [
    "df['emissionlabel'].value_counts()\n",
    "df['emissionlabel'] =df['emissionlabel'].str.strip()\n",
    "# define values to make np.nan\n",
    "values_to_nan = ['a', ', [],']\n",
    "\n",
    "# Replace these values with np.nan\n",
    "df['emissionlabel'] = df['emissionlabel'].replace(values_to_nan, np.nan) # not sure why this returns string nan, need NaN! \n",
    "df['emissionlabel'] = df['emissionlabel'].replace('nan', np.nan)\n",
    "df['emissionlabel'].value_counts(dropna = False)\n"
   ]
  },
  {
   "cell_type": "code",
   "execution_count": 248,
   "metadata": {},
   "outputs": [
    {
     "name": "stdout",
     "output_type": "stream",
     "text": [
      "emissionlabel_cleaned\n",
      "NaN           11974\n",
      "Green          3553\n",
      "No sticker      381\n",
      "Blue              8\n",
      "Yellow            2\n",
      "Red               1\n",
      "Name: count, dtype: int64\n"
     ]
    }
   ],
   "source": [
    "import re\n",
    "# Define a function to extract the color (I think this is more meaningful than a category number?)\n",
    "def extract_color(label):\n",
    "    match = re.search(r'\\(([^)]+)\\)', label)\n",
    "    return match.group(1) if match else np.nan\n",
    "\n",
    "# convert column to string\n",
    "df['emissionlabel'] = df['emissionlabel'].astype(str)\n",
    "# Apply the function to the column\n",
    "df['emissionlabel_cleaned'] = df['emissionlabel'].apply(extract_color)\n",
    "\n",
    "# Check the cleaned values\n",
    "print(df['emissionlabel_cleaned'].value_counts(dropna=False))\n",
    "\n",
    "# Should we convert 'No sticker' to NaN? Depends if 'no sticker' is the same as 'unknown sticker' (assuming NaN is 'unknown sticker')"
   ]
  },
  {
   "cell_type": "markdown",
   "metadata": {},
   "source": [
    "## emissionclass column\n"
   ]
  },
  {
   "cell_type": "code",
   "execution_count": 249,
   "metadata": {},
   "outputs": [
    {
     "data": {
      "text/plain": [
       "emissionclass_cleaned\n",
       "' 6'     10139\n",
       "NaN       3628\n",
       "' 6d'     1907\n",
       "' 6c'      127\n",
       "' 5'        78\n",
       "' 4'        40\n",
       "Name: count, dtype: int64"
      ]
     },
     "execution_count": 249,
     "metadata": {},
     "output_type": "execute_result"
    }
   ],
   "source": [
    "# Remove Euro and -TEMP from beginning and end of values\n",
    "df['emissionclass'] =df['emissionclass'].str.replace('Euro','').str.replace('-TEMP', '')\n",
    "# strip leading/trailing whitespace\n",
    "df['emissionclass'] =df['emissionclass'].str.strip()\n",
    "# Convert 'a' and ', []' to NaN\n",
    "values_to_nan = ['a', ', [],']\n",
    "# Replace these values with np.nan\n",
    "df['emissionclass_cleaned'] = df['emissionclass'].replace(values_to_nan, np.nan) # not sure why this returns string nan, need NaN! \n",
    "df['emissionclass_cleaned'].value_counts(dropna = False)\n"
   ]
  },
  {
   "cell_type": "code",
   "execution_count": 250,
   "metadata": {},
   "outputs": [
    {
     "data": {
      "text/plain": [
       "Index(['url', 'make_model', 'short_description', 'body_type', 'price', 'vat',\n",
       "       'km', 'registration', 'hp', 'type', 'nextinspection', 'inspectionnew',\n",
       "       'warranty', 'fullservice', 'non-smokingvehicle', 'offernumber',\n",
       "       'firstregistration', 'bodycolor', 'painttype', 'bodycolororiginal',\n",
       "       'upholstery', 'body', 'nrofdoors', 'nrofseats', 'modelcode',\n",
       "       'gearingtype', 'displacement', 'cylinders', 'weight', 'drivechain',\n",
       "       'fuel', 'consumption', 'comfort_convenience', 'entertainment_media',\n",
       "       'extras', 'safety_security', 'description', 'gears', 'countryversion',\n",
       "       'previous_owners_cleaned', 'co2emission_cleaned_gCO2/km',\n",
       "       'emissionlabel_cleaned', 'emissionclass_cleaned'],\n",
       "      dtype='object')"
      ]
     },
     "execution_count": 250,
     "metadata": {},
     "output_type": "execute_result"
    }
   ],
   "source": [
    "# Drop emissionclass, emissionlabel, and co2emission columns\n",
    "df = df.drop(['emissionclass', 'emissionlabel', 'co2emission'], axis = 1)\n",
    "df.columns"
   ]
  },
  {
   "cell_type": "markdown",
   "metadata": {},
   "source": [
    "## Compare 'body_type','body' columns"
   ]
  },
  {
   "cell_type": "code",
   "execution_count": 251,
   "metadata": {},
   "outputs": [
    {
     "data": {
      "text/html": [
       "<div>\n",
       "<style scoped>\n",
       "    .dataframe tbody tr th:only-of-type {\n",
       "        vertical-align: middle;\n",
       "    }\n",
       "\n",
       "    .dataframe tbody tr th {\n",
       "        vertical-align: top;\n",
       "    }\n",
       "\n",
       "    .dataframe thead th {\n",
       "        text-align: right;\n",
       "    }\n",
       "</style>\n",
       "<table border=\"1\" class=\"dataframe\">\n",
       "  <thead>\n",
       "    <tr style=\"text-align: right;\">\n",
       "      <th></th>\n",
       "      <th>body_type</th>\n",
       "      <th>body</th>\n",
       "    </tr>\n",
       "  </thead>\n",
       "  <tbody>\n",
       "    <tr>\n",
       "      <th>4953</th>\n",
       "      <td>Sedans</td>\n",
       "      <td>[\\n, Sedans, \\n]</td>\n",
       "    </tr>\n",
       "    <tr>\n",
       "      <th>14711</th>\n",
       "      <td>Compact</td>\n",
       "      <td>[\\n, Compact, \\n]</td>\n",
       "    </tr>\n",
       "    <tr>\n",
       "      <th>3803</th>\n",
       "      <td>Sedans</td>\n",
       "      <td>[\\n, Sedans, \\n]</td>\n",
       "    </tr>\n",
       "    <tr>\n",
       "      <th>7750</th>\n",
       "      <td>Station wagon</td>\n",
       "      <td>[\\n, Station wagon, \\n]</td>\n",
       "    </tr>\n",
       "    <tr>\n",
       "      <th>713</th>\n",
       "      <td>Sedans</td>\n",
       "      <td>[\\n, Sedans, \\n]</td>\n",
       "    </tr>\n",
       "    <tr>\n",
       "      <th>14464</th>\n",
       "      <td>Sedans</td>\n",
       "      <td>[\\n, Sedans, \\n]</td>\n",
       "    </tr>\n",
       "    <tr>\n",
       "      <th>1754</th>\n",
       "      <td>Sedans</td>\n",
       "      <td>[\\n, Sedans, \\n]</td>\n",
       "    </tr>\n",
       "    <tr>\n",
       "      <th>9391</th>\n",
       "      <td>Sedans</td>\n",
       "      <td>[\\n, Sedans, \\n]</td>\n",
       "    </tr>\n",
       "    <tr>\n",
       "      <th>10997</th>\n",
       "      <td>Sedans</td>\n",
       "      <td>[\\n, Sedans, \\n]</td>\n",
       "    </tr>\n",
       "    <tr>\n",
       "      <th>4675</th>\n",
       "      <td>Other</td>\n",
       "      <td>[\\n, Other, \\n]</td>\n",
       "    </tr>\n",
       "    <tr>\n",
       "      <th>2249</th>\n",
       "      <td>Sedans</td>\n",
       "      <td>[\\n, Sedans, \\n]</td>\n",
       "    </tr>\n",
       "    <tr>\n",
       "      <th>7694</th>\n",
       "      <td>Station wagon</td>\n",
       "      <td>[\\n, Station wagon, \\n]</td>\n",
       "    </tr>\n",
       "    <tr>\n",
       "      <th>11863</th>\n",
       "      <td>Sedans</td>\n",
       "      <td>[\\n, Sedans, \\n]</td>\n",
       "    </tr>\n",
       "    <tr>\n",
       "      <th>14992</th>\n",
       "      <td>Van</td>\n",
       "      <td>[\\n, Van, \\n]</td>\n",
       "    </tr>\n",
       "    <tr>\n",
       "      <th>2774</th>\n",
       "      <td>Sedans</td>\n",
       "      <td>[\\n, Sedans, \\n]</td>\n",
       "    </tr>\n",
       "    <tr>\n",
       "      <th>6635</th>\n",
       "      <td>Station wagon</td>\n",
       "      <td>[\\n, Station wagon, \\n]</td>\n",
       "    </tr>\n",
       "    <tr>\n",
       "      <th>6310</th>\n",
       "      <td>Station wagon</td>\n",
       "      <td>[\\n, Station wagon, \\n]</td>\n",
       "    </tr>\n",
       "    <tr>\n",
       "      <th>1550</th>\n",
       "      <td>Sedans</td>\n",
       "      <td>[\\n, Sedans, \\n]</td>\n",
       "    </tr>\n",
       "    <tr>\n",
       "      <th>60</th>\n",
       "      <td>Sedans</td>\n",
       "      <td>[\\n, Sedans, \\n]</td>\n",
       "    </tr>\n",
       "    <tr>\n",
       "      <th>12833</th>\n",
       "      <td>Station wagon</td>\n",
       "      <td>[\\n, Station wagon, \\n]</td>\n",
       "    </tr>\n",
       "  </tbody>\n",
       "</table>\n",
       "</div>"
      ],
      "text/plain": [
       "           body_type                     body\n",
       "4953          Sedans         [\\n, Sedans, \\n]\n",
       "14711        Compact        [\\n, Compact, \\n]\n",
       "3803          Sedans         [\\n, Sedans, \\n]\n",
       "7750   Station wagon  [\\n, Station wagon, \\n]\n",
       "713           Sedans         [\\n, Sedans, \\n]\n",
       "14464         Sedans         [\\n, Sedans, \\n]\n",
       "1754          Sedans         [\\n, Sedans, \\n]\n",
       "9391          Sedans         [\\n, Sedans, \\n]\n",
       "10997         Sedans         [\\n, Sedans, \\n]\n",
       "4675           Other          [\\n, Other, \\n]\n",
       "2249          Sedans         [\\n, Sedans, \\n]\n",
       "7694   Station wagon  [\\n, Station wagon, \\n]\n",
       "11863         Sedans         [\\n, Sedans, \\n]\n",
       "14992            Van            [\\n, Van, \\n]\n",
       "2774          Sedans         [\\n, Sedans, \\n]\n",
       "6635   Station wagon  [\\n, Station wagon, \\n]\n",
       "6310   Station wagon  [\\n, Station wagon, \\n]\n",
       "1550          Sedans         [\\n, Sedans, \\n]\n",
       "60            Sedans         [\\n, Sedans, \\n]\n",
       "12833  Station wagon  [\\n, Station wagon, \\n]"
      ]
     },
     "execution_count": 251,
     "metadata": {},
     "output_type": "execute_result"
    }
   ],
   "source": [
    "df[['body_type', 'body']].sample(20)"
   ]
  },
  {
   "cell_type": "code",
   "execution_count": 252,
   "metadata": {},
   "outputs": [],
   "source": [
    "# Create a function similar to cleann_column that also removes ','\n",
    "def clean_column(series):\n",
    "    series = series.astype(str)\n",
    "    # Strip unwanted characters and replace newlines\n",
    "    return series.str.split(',').str[1].str.strip(\" \\n[]'\")"
   ]
  },
  {
   "cell_type": "code",
   "execution_count": 253,
   "metadata": {},
   "outputs": [
    {
     "data": {
      "text/plain": [
       "body_cleaned\n",
       "Sedans           7903\n",
       "Station wagon    3553\n",
       "Compact          3153\n",
       "Van               783\n",
       "Other             290\n",
       "Transporter        88\n",
       "NaN                60\n",
       "Off-Road           56\n",
       "Coupe              25\n",
       "Convertible         8\n",
       "Name: count, dtype: int64"
      ]
     },
     "execution_count": 253,
     "metadata": {},
     "output_type": "execute_result"
    }
   ],
   "source": [
    "# body_type and 'body' look very similar, clean 'body' and then check\n",
    "df['body_cleaned'] = clean_column(df['body'])\n",
    "df['body_cleaned'].value_counts(dropna =False)"
   ]
  },
  {
   "cell_type": "code",
   "execution_count": 254,
   "metadata": {},
   "outputs": [],
   "source": [
    "# Check body_type\n",
    "df['body_type'].value_counts(dropna = False)\n",
    "# body_type identical to body_cleaned, so keep body_cleaned\n",
    "df = df.drop('body_type', axis = 1)"
   ]
  },
  {
   "cell_type": "markdown",
   "metadata": {},
   "source": [
    "## Compare'bodycolor', 'bodycolororiginal' columns"
   ]
  },
  {
   "cell_type": "code",
   "execution_count": 255,
   "metadata": {},
   "outputs": [
    {
     "data": {
      "text/html": [
       "<div>\n",
       "<style scoped>\n",
       "    .dataframe tbody tr th:only-of-type {\n",
       "        vertical-align: middle;\n",
       "    }\n",
       "\n",
       "    .dataframe tbody tr th {\n",
       "        vertical-align: top;\n",
       "    }\n",
       "\n",
       "    .dataframe thead th {\n",
       "        text-align: right;\n",
       "    }\n",
       "</style>\n",
       "<table border=\"1\" class=\"dataframe\">\n",
       "  <thead>\n",
       "    <tr style=\"text-align: right;\">\n",
       "      <th></th>\n",
       "      <th>bodycolor</th>\n",
       "      <th>bodycolororiginal</th>\n",
       "    </tr>\n",
       "  </thead>\n",
       "  <tbody>\n",
       "    <tr>\n",
       "      <th>0</th>\n",
       "      <td>[\\n, Black, \\n]</td>\n",
       "      <td>[\\nMythosschwarz\\n]</td>\n",
       "    </tr>\n",
       "    <tr>\n",
       "      <th>1</th>\n",
       "      <td>[\\n, Red, \\n]</td>\n",
       "      <td>NaN</td>\n",
       "    </tr>\n",
       "    <tr>\n",
       "      <th>2</th>\n",
       "      <td>[\\n, Black, \\n]</td>\n",
       "      <td>[\\nmythosschwarz metallic\\n]</td>\n",
       "    </tr>\n",
       "    <tr>\n",
       "      <th>3</th>\n",
       "      <td>[\\n, Brown, \\n]</td>\n",
       "      <td>NaN</td>\n",
       "    </tr>\n",
       "    <tr>\n",
       "      <th>4</th>\n",
       "      <td>[\\n, Black, \\n]</td>\n",
       "      <td>[\\nMythosschwarz Metallic\\n]</td>\n",
       "    </tr>\n",
       "    <tr>\n",
       "      <th>...</th>\n",
       "      <td>...</td>\n",
       "      <td>...</td>\n",
       "    </tr>\n",
       "    <tr>\n",
       "      <th>15914</th>\n",
       "      <td>[\\n, Grey, \\n]</td>\n",
       "      <td>[\\nGrigio scuro\\n]</td>\n",
       "    </tr>\n",
       "    <tr>\n",
       "      <th>15915</th>\n",
       "      <td>[\\n, Grey, \\n]</td>\n",
       "      <td>[\\nStahl-Grau Metallic\\n]</td>\n",
       "    </tr>\n",
       "    <tr>\n",
       "      <th>15916</th>\n",
       "      <td>[\\n, White, \\n]</td>\n",
       "      <td>[\\narktis-weiß\\n]</td>\n",
       "    </tr>\n",
       "    <tr>\n",
       "      <th>15917</th>\n",
       "      <td>[\\n, Grey, \\n]</td>\n",
       "      <td>[\\nGrigio\\n]</td>\n",
       "    </tr>\n",
       "    <tr>\n",
       "      <th>15918</th>\n",
       "      <td>[\\n, Grey, \\n]</td>\n",
       "      <td>[\\nTitanium-Grau Metallic\\n]</td>\n",
       "    </tr>\n",
       "  </tbody>\n",
       "</table>\n",
       "<p>15919 rows × 2 columns</p>\n",
       "</div>"
      ],
      "text/plain": [
       "             bodycolor             bodycolororiginal\n",
       "0      [\\n, Black, \\n]           [\\nMythosschwarz\\n]\n",
       "1        [\\n, Red, \\n]                           NaN\n",
       "2      [\\n, Black, \\n]  [\\nmythosschwarz metallic\\n]\n",
       "3      [\\n, Brown, \\n]                           NaN\n",
       "4      [\\n, Black, \\n]  [\\nMythosschwarz Metallic\\n]\n",
       "...                ...                           ...\n",
       "15914   [\\n, Grey, \\n]            [\\nGrigio scuro\\n]\n",
       "15915   [\\n, Grey, \\n]     [\\nStahl-Grau Metallic\\n]\n",
       "15916  [\\n, White, \\n]             [\\narktis-weiß\\n]\n",
       "15917   [\\n, Grey, \\n]                  [\\nGrigio\\n]\n",
       "15918   [\\n, Grey, \\n]  [\\nTitanium-Grau Metallic\\n]\n",
       "\n",
       "[15919 rows x 2 columns]"
      ]
     },
     "execution_count": 255,
     "metadata": {},
     "output_type": "execute_result"
    }
   ],
   "source": [
    "df[['bodycolor', 'bodycolororiginal']]\n",
    "\n"
   ]
  },
  {
   "cell_type": "code",
   "execution_count": 256,
   "metadata": {},
   "outputs": [
    {
     "data": {
      "text/plain": [
       "bodycolor_cleaned\n",
       "Black     3745\n",
       "Grey      3505\n",
       "White     3406\n",
       "Silver    1647\n",
       "Blue      1431\n",
       "Red        957\n",
       "NaN        597\n",
       "Brown      289\n",
       "Green      154\n",
       "Beige      108\n",
       "Yellow      51\n",
       "Violet      18\n",
       "Bronze       6\n",
       "Orange       3\n",
       "Gold         2\n",
       "Name: count, dtype: int64"
      ]
     },
     "execution_count": 256,
     "metadata": {},
     "output_type": "execute_result"
    }
   ],
   "source": [
    "# Clean the bodycolor feature\n",
    "df['bodycolor_cleaned'] = clean_column(df['bodycolor'])\n",
    "df['bodycolor_cleaned'].value_counts(dropna=False)"
   ]
  },
  {
   "cell_type": "code",
   "execution_count": 257,
   "metadata": {},
   "outputs": [],
   "source": [
    "# Drop the bodycolororiginal column - lots of NaNs and useful information all in 'bodycolor_cleaned' variable now\n",
    "df = df.drop('bodycolororiginal', axis = 1)"
   ]
  },
  {
   "cell_type": "code",
   "execution_count": 258,
   "metadata": {},
   "outputs": [
    {
     "data": {
      "text/plain": [
       "Index(['url', 'make_model', 'short_description', 'price', 'vat', 'km',\n",
       "       'registration', 'hp', 'type', 'nextinspection', 'inspectionnew',\n",
       "       'warranty', 'fullservice', 'non-smokingvehicle', 'offernumber',\n",
       "       'firstregistration', 'bodycolor', 'painttype', 'upholstery', 'body',\n",
       "       'nrofdoors', 'nrofseats', 'modelcode', 'gearingtype', 'displacement',\n",
       "       'cylinders', 'weight', 'drivechain', 'fuel', 'consumption',\n",
       "       'comfort_convenience', 'entertainment_media', 'extras',\n",
       "       'safety_security', 'description', 'gears', 'countryversion',\n",
       "       'previous_owners_cleaned', 'co2emission_cleaned_gCO2/km',\n",
       "       'emissionlabel_cleaned', 'emissionclass_cleaned', 'body_cleaned',\n",
       "       'bodycolor_cleaned'],\n",
       "      dtype='object')"
      ]
     },
     "execution_count": 258,
     "metadata": {},
     "output_type": "execute_result"
    }
   ],
   "source": [
    "df.columns"
   ]
  },
  {
   "cell_type": "markdown",
   "metadata": {},
   "source": [
    "** Look at price (target variable?) and vat columns\n"
   ]
  },
  {
   "cell_type": "code",
   "execution_count": 259,
   "metadata": {},
   "outputs": [
    {
     "data": {
      "text/plain": [
       "<Axes: ylabel='price'>"
      ]
     },
     "execution_count": 259,
     "metadata": {},
     "output_type": "execute_result"
    },
    {
     "data": {
      "image/png": "[encoded data removed]",
      "text/plain": [
       "<Figure size 640x480 with 1 Axes>"
      ]
     },
     "metadata": {},
     "output_type": "display_data"
    }
   ],
   "source": [
    "sns.boxplot(df['price'])"
   ]
  },
  {
   "cell_type": "code",
   "execution_count": 260,
   "metadata": {},
   "outputs": [
    {
     "data": {
      "text/plain": [
       "vat\n",
       "VAT deductible      10980\n",
       "None                 4513\n",
       "Price negotiable      426\n",
       "Name: count, dtype: int64"
      ]
     },
     "execution_count": 260,
     "metadata": {},
     "output_type": "execute_result"
    }
   ],
   "source": [
    "df['vat'].value_counts(dropna= False)"
   ]
  },
  {
   "cell_type": "markdown",
   "metadata": {},
   "source": [
    "## km column"
   ]
  },
  {
   "cell_type": "code",
   "execution_count": 261,
   "metadata": {},
   "outputs": [
    {
     "data": {
      "text/plain": [
       "km\n",
       "10 km        1045\n",
       "- km         1024\n",
       "1 km          367\n",
       "5 km          170\n",
       "50 km         148\n",
       "             ... \n",
       "10,227 km       1\n",
       "10,803 km       1\n",
       "14,328 km       1\n",
       "22,987 km       1\n",
       "15,042 km       1\n",
       "Name: count, Length: 6690, dtype: int64"
      ]
     },
     "execution_count": 261,
     "metadata": {},
     "output_type": "execute_result"
    }
   ],
   "source": [
    "df['km'].value_counts(dropna= False)"
   ]
  },
  {
   "cell_type": "code",
   "execution_count": 262,
   "metadata": {},
   "outputs": [],
   "source": [
    "# drop 'km' and convert to integer\n",
    "df['km'] = df['km'].str.replace(' km','').str.replace(',','').str.replace('-','')\n",
    "df['km_cleaned'] = pd.to_numeric(df['km']).astype('Int64')\n",
    "df['km_cleaned'].sample(10)\n",
    "\n",
    "df = df.drop('km', axis = 1)\n"
   ]
  },
  {
   "cell_type": "code",
   "execution_count": 263,
   "metadata": {},
   "outputs": [],
   "source": [
    "## VAT column"
   ]
  },
  {
   "cell_type": "code",
   "execution_count": 264,
   "metadata": {},
   "outputs": [
    {
     "data": {
      "text/plain": [
       "vat\n",
       "VAT deductible      10980\n",
       "None                 4513\n",
       "Price negotiable      426\n",
       "Name: count, dtype: int64"
      ]
     },
     "execution_count": 264,
     "metadata": {},
     "output_type": "execute_result"
    }
   ],
   "source": [
    "df['vat'].value_counts(dropna = False)"
   ]
  },
  {
   "cell_type": "code",
   "execution_count": 265,
   "metadata": {},
   "outputs": [],
   "source": [
    "# Convert 'None' to np.NaN\n",
    "df['vat_cleaned'] = df['vat'].replace([None, 'None', ' None', ' None '], np.nan)\n",
    "df = df.drop('vat', axis = 1)"
   ]
  },
  {
   "cell_type": "markdown",
   "metadata": {},
   "source": [
    "## Registration column"
   ]
  },
  {
   "cell_type": "code",
   "execution_count": 271,
   "metadata": {},
   "outputs": [],
   "source": [
    "df['registration'].value_counts(dropna = False)\n",
    "# Convert -/- to np.nan\n",
    "df['registration'] = df['registration'].replace('-/-', np.nan)"
   ]
  },
  {
   "cell_type": "code",
   "execution_count": 274,
   "metadata": {},
   "outputs": [
    {
     "data": {
      "text/html": [
       "<div>\n",
       "<style scoped>\n",
       "    .dataframe tbody tr th:only-of-type {\n",
       "        vertical-align: middle;\n",
       "    }\n",
       "\n",
       "    .dataframe tbody tr th {\n",
       "        vertical-align: top;\n",
       "    }\n",
       "\n",
       "    .dataframe thead th {\n",
       "        text-align: right;\n",
       "    }\n",
       "</style>\n",
       "<table border=\"1\" class=\"dataframe\">\n",
       "  <thead>\n",
       "    <tr style=\"text-align: right;\">\n",
       "      <th></th>\n",
       "      <th>url</th>\n",
       "      <th>make_model</th>\n",
       "      <th>short_description</th>\n",
       "      <th>price</th>\n",
       "      <th>hp</th>\n",
       "      <th>type</th>\n",
       "      <th>nextinspection</th>\n",
       "      <th>inspectionnew</th>\n",
       "      <th>warranty</th>\n",
       "      <th>fullservice</th>\n",
       "      <th>...</th>\n",
       "      <th>countryversion</th>\n",
       "      <th>previous_owners_cleaned</th>\n",
       "      <th>co2emission_cleaned_gCO2/km</th>\n",
       "      <th>emissionlabel_cleaned</th>\n",
       "      <th>emissionclass_cleaned</th>\n",
       "      <th>body_cleaned</th>\n",
       "      <th>bodycolor_cleaned</th>\n",
       "      <th>km_cleaned</th>\n",
       "      <th>vat_cleaned</th>\n",
       "      <th>registration_cleaned</th>\n",
       "    </tr>\n",
       "  </thead>\n",
       "  <tbody>\n",
       "    <tr>\n",
       "      <th>0</th>\n",
       "      <td>https://www.autoscout24.com//offers/audi-a1-sp...</td>\n",
       "      <td>Audi A1</td>\n",
       "      <td>Sportback 1.4 TDI S-tronic Xenon Navi Klima</td>\n",
       "      <td>15770</td>\n",
       "      <td>66 kW</td>\n",
       "      <td>[, Used, , Diesel (Particulate Filter)]</td>\n",
       "      <td>[\\n06/2021\\n, \\n99 g CO2/km (comb)\\n]</td>\n",
       "      <td>[\\nYes\\n, \\nEuro 6\\n]</td>\n",
       "      <td>[\\n, \\n, \\n4 (Green)\\n]</td>\n",
       "      <td>[\\n, \\n]</td>\n",
       "      <td>...</td>\n",
       "      <td>NaN</td>\n",
       "      <td>2</td>\n",
       "      <td>992.0</td>\n",
       "      <td>NaN</td>\n",
       "      <td>' 6'</td>\n",
       "      <td>Sedans</td>\n",
       "      <td>Black</td>\n",
       "      <td>56013</td>\n",
       "      <td>VAT deductible</td>\n",
       "      <td>2016-01-01</td>\n",
       "    </tr>\n",
       "    <tr>\n",
       "      <th>1</th>\n",
       "      <td>https://www.autoscout24.com//offers/audi-a1-1-...</td>\n",
       "      <td>Audi A1</td>\n",
       "      <td>1.8 TFSI sport</td>\n",
       "      <td>14500</td>\n",
       "      <td>141 kW</td>\n",
       "      <td>[, Used, , Gasoline]</td>\n",
       "      <td>NaN</td>\n",
       "      <td>NaN</td>\n",
       "      <td>NaN</td>\n",
       "      <td>NaN</td>\n",
       "      <td>...</td>\n",
       "      <td>NaN</td>\n",
       "      <td>NaN</td>\n",
       "      <td>1292.0</td>\n",
       "      <td>Green</td>\n",
       "      <td>' 6'</td>\n",
       "      <td>Sedans</td>\n",
       "      <td>Red</td>\n",
       "      <td>80000</td>\n",
       "      <td>Price negotiable</td>\n",
       "      <td>2017-03-01</td>\n",
       "    </tr>\n",
       "    <tr>\n",
       "      <th>2</th>\n",
       "      <td>https://www.autoscout24.com//offers/audi-a1-sp...</td>\n",
       "      <td>Audi A1</td>\n",
       "      <td>Sportback 1.6 TDI S tronic Einparkhilfe plus+m...</td>\n",
       "      <td>14640</td>\n",
       "      <td>85 kW</td>\n",
       "      <td>[, Used, , Diesel (Particulate Filter)]</td>\n",
       "      <td>NaN</td>\n",
       "      <td>NaN</td>\n",
       "      <td>[\\n, \\n, \\n99 g CO2/km (comb)\\n]</td>\n",
       "      <td>NaN</td>\n",
       "      <td>...</td>\n",
       "      <td>NaN</td>\n",
       "      <td>1</td>\n",
       "      <td>992.0</td>\n",
       "      <td>Green</td>\n",
       "      <td>' 6'</td>\n",
       "      <td>Sedans</td>\n",
       "      <td>Black</td>\n",
       "      <td>83450</td>\n",
       "      <td>VAT deductible</td>\n",
       "      <td>2016-02-01</td>\n",
       "    </tr>\n",
       "    <tr>\n",
       "      <th>3</th>\n",
       "      <td>https://www.autoscout24.com//offers/audi-a1-1-...</td>\n",
       "      <td>Audi A1</td>\n",
       "      <td>1.4 TDi Design S tronic</td>\n",
       "      <td>14500</td>\n",
       "      <td>66 kW</td>\n",
       "      <td>[, Used, , Diesel (Particulate Filter)]</td>\n",
       "      <td>NaN</td>\n",
       "      <td>NaN</td>\n",
       "      <td>NaN</td>\n",
       "      <td>[\\n, \\n, \\n99 g CO2/km (comb)\\n]</td>\n",
       "      <td>...</td>\n",
       "      <td>NaN</td>\n",
       "      <td>1</td>\n",
       "      <td>992.0</td>\n",
       "      <td>NaN</td>\n",
       "      <td>' 6'</td>\n",
       "      <td>Sedans</td>\n",
       "      <td>Brown</td>\n",
       "      <td>73000</td>\n",
       "      <td>NaN</td>\n",
       "      <td>2016-08-01</td>\n",
       "    </tr>\n",
       "    <tr>\n",
       "      <th>4</th>\n",
       "      <td>https://www.autoscout24.com//offers/audi-a1-sp...</td>\n",
       "      <td>Audi A1</td>\n",
       "      <td>Sportback 1.4 TDI S-Tronic S-Line Ext. admired...</td>\n",
       "      <td>16790</td>\n",
       "      <td>66 kW</td>\n",
       "      <td>[, Used, , Diesel (Particulate Filter)]</td>\n",
       "      <td>NaN</td>\n",
       "      <td>[\\nYes\\n, \\n109 g CO2/km (comb)\\n]</td>\n",
       "      <td>[\\n, \\n, \\nEuro 6\\n]</td>\n",
       "      <td>[\\n, \\n, \\n4 (Green)\\n]</td>\n",
       "      <td>...</td>\n",
       "      <td>[\\nGermany\\n]</td>\n",
       "      <td>1</td>\n",
       "      <td>1092.0</td>\n",
       "      <td>NaN</td>\n",
       "      <td>' 6'</td>\n",
       "      <td>Sedans</td>\n",
       "      <td>Black</td>\n",
       "      <td>16200</td>\n",
       "      <td>NaN</td>\n",
       "      <td>2016-05-01</td>\n",
       "    </tr>\n",
       "    <tr>\n",
       "      <th>...</th>\n",
       "      <td>...</td>\n",
       "      <td>...</td>\n",
       "      <td>...</td>\n",
       "      <td>...</td>\n",
       "      <td>...</td>\n",
       "      <td>...</td>\n",
       "      <td>...</td>\n",
       "      <td>...</td>\n",
       "      <td>...</td>\n",
       "      <td>...</td>\n",
       "      <td>...</td>\n",
       "      <td>...</td>\n",
       "      <td>...</td>\n",
       "      <td>...</td>\n",
       "      <td>...</td>\n",
       "      <td>...</td>\n",
       "      <td>...</td>\n",
       "      <td>...</td>\n",
       "      <td>...</td>\n",
       "      <td>...</td>\n",
       "      <td>...</td>\n",
       "    </tr>\n",
       "    <tr>\n",
       "      <th>15914</th>\n",
       "      <td>https://www.autoscout24.com//offers/renault-es...</td>\n",
       "      <td>Renault Espace</td>\n",
       "      <td>Blue dCi 200CV EDC Executive 4Control</td>\n",
       "      <td>39950</td>\n",
       "      <td>147 kW</td>\n",
       "      <td>[, New, , Diesel (Particulate Filter)]</td>\n",
       "      <td>NaN</td>\n",
       "      <td>NaN</td>\n",
       "      <td>\\n24 months\\n</td>\n",
       "      <td>NaN</td>\n",
       "      <td>...</td>\n",
       "      <td>NaN</td>\n",
       "      <td>NaN</td>\n",
       "      <td>1392.0</td>\n",
       "      <td>NaN</td>\n",
       "      <td>NaN</td>\n",
       "      <td>Van</td>\n",
       "      <td>Grey</td>\n",
       "      <td>&lt;NA&gt;</td>\n",
       "      <td>VAT deductible</td>\n",
       "      <td>NaT</td>\n",
       "    </tr>\n",
       "    <tr>\n",
       "      <th>15915</th>\n",
       "      <td>https://www.autoscout24.com//offers/renault-es...</td>\n",
       "      <td>Renault Espace</td>\n",
       "      <td>TCe 225 EDC GPF LIM Deluxe Pano,RFK</td>\n",
       "      <td>39885</td>\n",
       "      <td>165 kW</td>\n",
       "      <td>[, Used, , Super 95 / Super Plus 98 (Particula...</td>\n",
       "      <td>[\\n01/2022\\n, \\n168 g CO2/km (comb)\\n]</td>\n",
       "      <td>NaN</td>\n",
       "      <td>[\\n, \\n, \\nEuro 6\\n]</td>\n",
       "      <td>NaN</td>\n",
       "      <td>...</td>\n",
       "      <td>[\\nGermany\\n]</td>\n",
       "      <td>1</td>\n",
       "      <td>1682.0</td>\n",
       "      <td>NaN</td>\n",
       "      <td>NaN</td>\n",
       "      <td>Van</td>\n",
       "      <td>Grey</td>\n",
       "      <td>9900</td>\n",
       "      <td>VAT deductible</td>\n",
       "      <td>2019-01-01</td>\n",
       "    </tr>\n",
       "    <tr>\n",
       "      <th>15916</th>\n",
       "      <td>https://www.autoscout24.com//offers/renault-es...</td>\n",
       "      <td>Renault Espace</td>\n",
       "      <td>Blue dCi 200 EDC Initiale Paris Leder LED Navi...</td>\n",
       "      <td>39875</td>\n",
       "      <td>146 kW</td>\n",
       "      <td>[, Pre-registered, , Diesel]</td>\n",
       "      <td>NaN</td>\n",
       "      <td>[\\nYes\\n, \\nEuro 6d-TEMP\\n]</td>\n",
       "      <td>[\\n, \\n, \\n4 (Green)\\n]</td>\n",
       "      <td>[\\n, \\n]</td>\n",
       "      <td>...</td>\n",
       "      <td>[\\nAustria\\n]</td>\n",
       "      <td>1</td>\n",
       "      <td>1392.0</td>\n",
       "      <td>NaN</td>\n",
       "      <td>' 6d'</td>\n",
       "      <td>Van</td>\n",
       "      <td>White</td>\n",
       "      <td>15</td>\n",
       "      <td>VAT deductible</td>\n",
       "      <td>2019-03-01</td>\n",
       "    </tr>\n",
       "    <tr>\n",
       "      <th>15917</th>\n",
       "      <td>https://www.autoscout24.com//offers/renault-es...</td>\n",
       "      <td>Renault Espace</td>\n",
       "      <td>Blue dCi 200CV EDC Business , NUOVA DA IMMATRI...</td>\n",
       "      <td>39700</td>\n",
       "      <td>147 kW</td>\n",
       "      <td>[, Pre-registered, , Diesel]</td>\n",
       "      <td>NaN</td>\n",
       "      <td>NaN</td>\n",
       "      <td>\\n</td>\n",
       "      <td>NaN</td>\n",
       "      <td>...</td>\n",
       "      <td>NaN</td>\n",
       "      <td>NaN</td>\n",
       "      <td>1392.0</td>\n",
       "      <td>NaN</td>\n",
       "      <td>' 6'</td>\n",
       "      <td>Van</td>\n",
       "      <td>Grey</td>\n",
       "      <td>10</td>\n",
       "      <td>VAT deductible</td>\n",
       "      <td>2019-06-01</td>\n",
       "    </tr>\n",
       "    <tr>\n",
       "      <th>15918</th>\n",
       "      <td>https://www.autoscout24.com//offers/renault-es...</td>\n",
       "      <td>Renault Espace</td>\n",
       "      <td>INITIALE PARIS TCe 225 EDC GPF NAVI SHZ AUX</td>\n",
       "      <td>40999</td>\n",
       "      <td>165 kW</td>\n",
       "      <td>[, Demonstration, , Super 95]</td>\n",
       "      <td>NaN</td>\n",
       "      <td>[\\nYes\\n, \\n153 g CO2/km (comb)\\n]</td>\n",
       "      <td>NaN</td>\n",
       "      <td>NaN</td>\n",
       "      <td>...</td>\n",
       "      <td>[\\nGermany\\n]</td>\n",
       "      <td>1</td>\n",
       "      <td>1532.0</td>\n",
       "      <td>Green</td>\n",
       "      <td>' 6'</td>\n",
       "      <td>Van</td>\n",
       "      <td>Grey</td>\n",
       "      <td>&lt;NA&gt;</td>\n",
       "      <td>VAT deductible</td>\n",
       "      <td>2019-01-01</td>\n",
       "    </tr>\n",
       "  </tbody>\n",
       "</table>\n",
       "<p>15919 rows × 43 columns</p>\n",
       "</div>"
      ],
      "text/plain": [
       "                                                     url      make_model  \\\n",
       "0      https://www.autoscout24.com//offers/audi-a1-sp...         Audi A1   \n",
       "1      https://www.autoscout24.com//offers/audi-a1-1-...         Audi A1   \n",
       "2      https://www.autoscout24.com//offers/audi-a1-sp...         Audi A1   \n",
       "3      https://www.autoscout24.com//offers/audi-a1-1-...         Audi A1   \n",
       "4      https://www.autoscout24.com//offers/audi-a1-sp...         Audi A1   \n",
       "...                                                  ...             ...   \n",
       "15914  https://www.autoscout24.com//offers/renault-es...  Renault Espace   \n",
       "15915  https://www.autoscout24.com//offers/renault-es...  Renault Espace   \n",
       "15916  https://www.autoscout24.com//offers/renault-es...  Renault Espace   \n",
       "15917  https://www.autoscout24.com//offers/renault-es...  Renault Espace   \n",
       "15918  https://www.autoscout24.com//offers/renault-es...  Renault Espace   \n",
       "\n",
       "                                       short_description  price      hp  \\\n",
       "0            Sportback 1.4 TDI S-tronic Xenon Navi Klima  15770   66 kW   \n",
       "1                                         1.8 TFSI sport  14500  141 kW   \n",
       "2      Sportback 1.6 TDI S tronic Einparkhilfe plus+m...  14640   85 kW   \n",
       "3                                1.4 TDi Design S tronic  14500   66 kW   \n",
       "4      Sportback 1.4 TDI S-Tronic S-Line Ext. admired...  16790   66 kW   \n",
       "...                                                  ...    ...     ...   \n",
       "15914              Blue dCi 200CV EDC Executive 4Control  39950  147 kW   \n",
       "15915                TCe 225 EDC GPF LIM Deluxe Pano,RFK  39885  165 kW   \n",
       "15916  Blue dCi 200 EDC Initiale Paris Leder LED Navi...  39875  146 kW   \n",
       "15917  Blue dCi 200CV EDC Business , NUOVA DA IMMATRI...  39700  147 kW   \n",
       "15918        INITIALE PARIS TCe 225 EDC GPF NAVI SHZ AUX  40999  165 kW   \n",
       "\n",
       "                                                    type  \\\n",
       "0                [, Used, , Diesel (Particulate Filter)]   \n",
       "1                                   [, Used, , Gasoline]   \n",
       "2                [, Used, , Diesel (Particulate Filter)]   \n",
       "3                [, Used, , Diesel (Particulate Filter)]   \n",
       "4                [, Used, , Diesel (Particulate Filter)]   \n",
       "...                                                  ...   \n",
       "15914             [, New, , Diesel (Particulate Filter)]   \n",
       "15915  [, Used, , Super 95 / Super Plus 98 (Particula...   \n",
       "15916                       [, Pre-registered, , Diesel]   \n",
       "15917                       [, Pre-registered, , Diesel]   \n",
       "15918                      [, Demonstration, , Super 95]   \n",
       "\n",
       "                               nextinspection  \\\n",
       "0       [\\n06/2021\\n, \\n99 g CO2/km (comb)\\n]   \n",
       "1                                         NaN   \n",
       "2                                         NaN   \n",
       "3                                         NaN   \n",
       "4                                         NaN   \n",
       "...                                       ...   \n",
       "15914                                     NaN   \n",
       "15915  [\\n01/2022\\n, \\n168 g CO2/km (comb)\\n]   \n",
       "15916                                     NaN   \n",
       "15917                                     NaN   \n",
       "15918                                     NaN   \n",
       "\n",
       "                            inspectionnew                          warranty  \\\n",
       "0                   [\\nYes\\n, \\nEuro 6\\n]           [\\n, \\n, \\n4 (Green)\\n]   \n",
       "1                                     NaN                               NaN   \n",
       "2                                     NaN  [\\n, \\n, \\n99 g CO2/km (comb)\\n]   \n",
       "3                                     NaN                               NaN   \n",
       "4      [\\nYes\\n, \\n109 g CO2/km (comb)\\n]              [\\n, \\n, \\nEuro 6\\n]   \n",
       "...                                   ...                               ...   \n",
       "15914                                 NaN                     \\n24 months\\n   \n",
       "15915                                 NaN              [\\n, \\n, \\nEuro 6\\n]   \n",
       "15916         [\\nYes\\n, \\nEuro 6d-TEMP\\n]           [\\n, \\n, \\n4 (Green)\\n]   \n",
       "15917                                 NaN                                \\n   \n",
       "15918  [\\nYes\\n, \\n153 g CO2/km (comb)\\n]                               NaN   \n",
       "\n",
       "                            fullservice  ... countryversion  \\\n",
       "0                              [\\n, \\n]  ...            NaN   \n",
       "1                                   NaN  ...            NaN   \n",
       "2                                   NaN  ...            NaN   \n",
       "3      [\\n, \\n, \\n99 g CO2/km (comb)\\n]  ...            NaN   \n",
       "4               [\\n, \\n, \\n4 (Green)\\n]  ...  [\\nGermany\\n]   \n",
       "...                                 ...  ...            ...   \n",
       "15914                               NaN  ...            NaN   \n",
       "15915                               NaN  ...  [\\nGermany\\n]   \n",
       "15916                          [\\n, \\n]  ...  [\\nAustria\\n]   \n",
       "15917                               NaN  ...            NaN   \n",
       "15918                               NaN  ...  [\\nGermany\\n]   \n",
       "\n",
       "      previous_owners_cleaned co2emission_cleaned_gCO2/km  \\\n",
       "0                           2                       992.0   \n",
       "1                         NaN                      1292.0   \n",
       "2                           1                       992.0   \n",
       "3                           1                       992.0   \n",
       "4                           1                      1092.0   \n",
       "...                       ...                         ...   \n",
       "15914                     NaN                      1392.0   \n",
       "15915                       1                      1682.0   \n",
       "15916                       1                      1392.0   \n",
       "15917                     NaN                      1392.0   \n",
       "15918                       1                      1532.0   \n",
       "\n",
       "      emissionlabel_cleaned emissionclass_cleaned body_cleaned  \\\n",
       "0                       NaN                  ' 6'       Sedans   \n",
       "1                     Green                  ' 6'       Sedans   \n",
       "2                     Green                  ' 6'       Sedans   \n",
       "3                       NaN                  ' 6'       Sedans   \n",
       "4                       NaN                  ' 6'       Sedans   \n",
       "...                     ...                   ...          ...   \n",
       "15914                   NaN                   NaN          Van   \n",
       "15915                   NaN                   NaN          Van   \n",
       "15916                   NaN                 ' 6d'          Van   \n",
       "15917                   NaN                  ' 6'          Van   \n",
       "15918                 Green                  ' 6'          Van   \n",
       "\n",
       "      bodycolor_cleaned km_cleaned       vat_cleaned registration_cleaned  \n",
       "0                 Black      56013    VAT deductible           2016-01-01  \n",
       "1                   Red      80000  Price negotiable           2017-03-01  \n",
       "2                 Black      83450    VAT deductible           2016-02-01  \n",
       "3                 Brown      73000               NaN           2016-08-01  \n",
       "4                 Black      16200               NaN           2016-05-01  \n",
       "...                 ...        ...               ...                  ...  \n",
       "15914              Grey       <NA>    VAT deductible                  NaT  \n",
       "15915              Grey       9900    VAT deductible           2019-01-01  \n",
       "15916             White         15    VAT deductible           2019-03-01  \n",
       "15917              Grey         10    VAT deductible           2019-06-01  \n",
       "15918              Grey       <NA>    VAT deductible           2019-01-01  \n",
       "\n",
       "[15919 rows x 43 columns]"
      ]
     },
     "execution_count": 274,
     "metadata": {},
     "output_type": "execute_result"
    }
   ],
   "source": [
    "# convert feature to datetime data type\n",
    "df['registration_cleaned'] = pd.to_datetime(df['registration'])\n",
    "df.drop('registration', axis = 1)"
   ]
  },
  {
   "cell_type": "code",
   "execution_count": 266,
   "metadata": {},
   "outputs": [
    {
     "data": {
      "text/html": [
       "<div>\n",
       "<style scoped>\n",
       "    .dataframe tbody tr th:only-of-type {\n",
       "        vertical-align: middle;\n",
       "    }\n",
       "\n",
       "    .dataframe tbody tr th {\n",
       "        vertical-align: top;\n",
       "    }\n",
       "\n",
       "    .dataframe thead th {\n",
       "        text-align: right;\n",
       "    }\n",
       "</style>\n",
       "<table border=\"1\" class=\"dataframe\">\n",
       "  <thead>\n",
       "    <tr style=\"text-align: right;\">\n",
       "      <th></th>\n",
       "      <th>url</th>\n",
       "      <th>make_model</th>\n",
       "      <th>short_description</th>\n",
       "      <th>price</th>\n",
       "      <th>registration</th>\n",
       "      <th>hp</th>\n",
       "      <th>type</th>\n",
       "      <th>nextinspection</th>\n",
       "      <th>inspectionnew</th>\n",
       "      <th>warranty</th>\n",
       "      <th>...</th>\n",
       "      <th>gears</th>\n",
       "      <th>countryversion</th>\n",
       "      <th>previous_owners_cleaned</th>\n",
       "      <th>co2emission_cleaned_gCO2/km</th>\n",
       "      <th>emissionlabel_cleaned</th>\n",
       "      <th>emissionclass_cleaned</th>\n",
       "      <th>body_cleaned</th>\n",
       "      <th>bodycolor_cleaned</th>\n",
       "      <th>km_cleaned</th>\n",
       "      <th>vat_cleaned</th>\n",
       "    </tr>\n",
       "  </thead>\n",
       "  <tbody>\n",
       "    <tr>\n",
       "      <th>0</th>\n",
       "      <td>https://www.autoscout24.com//offers/audi-a1-sp...</td>\n",
       "      <td>Audi A1</td>\n",
       "      <td>Sportback 1.4 TDI S-tronic Xenon Navi Klima</td>\n",
       "      <td>15770</td>\n",
       "      <td>01/2016</td>\n",
       "      <td>66 kW</td>\n",
       "      <td>[, Used, , Diesel (Particulate Filter)]</td>\n",
       "      <td>[\\n06/2021\\n, \\n99 g CO2/km (comb)\\n]</td>\n",
       "      <td>[\\nYes\\n, \\nEuro 6\\n]</td>\n",
       "      <td>[\\n, \\n, \\n4 (Green)\\n]</td>\n",
       "      <td>...</td>\n",
       "      <td>NaN</td>\n",
       "      <td>NaN</td>\n",
       "      <td>2</td>\n",
       "      <td>992.0</td>\n",
       "      <td>NaN</td>\n",
       "      <td>' 6'</td>\n",
       "      <td>Sedans</td>\n",
       "      <td>Black</td>\n",
       "      <td>56013</td>\n",
       "      <td>VAT deductible</td>\n",
       "    </tr>\n",
       "    <tr>\n",
       "      <th>1</th>\n",
       "      <td>https://www.autoscout24.com//offers/audi-a1-1-...</td>\n",
       "      <td>Audi A1</td>\n",
       "      <td>1.8 TFSI sport</td>\n",
       "      <td>14500</td>\n",
       "      <td>03/2017</td>\n",
       "      <td>141 kW</td>\n",
       "      <td>[, Used, , Gasoline]</td>\n",
       "      <td>NaN</td>\n",
       "      <td>NaN</td>\n",
       "      <td>NaN</td>\n",
       "      <td>...</td>\n",
       "      <td>[\\n7\\n]</td>\n",
       "      <td>NaN</td>\n",
       "      <td>NaN</td>\n",
       "      <td>1292.0</td>\n",
       "      <td>Green</td>\n",
       "      <td>' 6'</td>\n",
       "      <td>Sedans</td>\n",
       "      <td>Red</td>\n",
       "      <td>80000</td>\n",
       "      <td>Price negotiable</td>\n",
       "    </tr>\n",
       "    <tr>\n",
       "      <th>2</th>\n",
       "      <td>https://www.autoscout24.com//offers/audi-a1-sp...</td>\n",
       "      <td>Audi A1</td>\n",
       "      <td>Sportback 1.6 TDI S tronic Einparkhilfe plus+m...</td>\n",
       "      <td>14640</td>\n",
       "      <td>02/2016</td>\n",
       "      <td>85 kW</td>\n",
       "      <td>[, Used, , Diesel (Particulate Filter)]</td>\n",
       "      <td>NaN</td>\n",
       "      <td>NaN</td>\n",
       "      <td>[\\n, \\n, \\n99 g CO2/km (comb)\\n]</td>\n",
       "      <td>...</td>\n",
       "      <td>NaN</td>\n",
       "      <td>NaN</td>\n",
       "      <td>1</td>\n",
       "      <td>992.0</td>\n",
       "      <td>Green</td>\n",
       "      <td>' 6'</td>\n",
       "      <td>Sedans</td>\n",
       "      <td>Black</td>\n",
       "      <td>83450</td>\n",
       "      <td>VAT deductible</td>\n",
       "    </tr>\n",
       "    <tr>\n",
       "      <th>3</th>\n",
       "      <td>https://www.autoscout24.com//offers/audi-a1-1-...</td>\n",
       "      <td>Audi A1</td>\n",
       "      <td>1.4 TDi Design S tronic</td>\n",
       "      <td>14500</td>\n",
       "      <td>08/2016</td>\n",
       "      <td>66 kW</td>\n",
       "      <td>[, Used, , Diesel (Particulate Filter)]</td>\n",
       "      <td>NaN</td>\n",
       "      <td>NaN</td>\n",
       "      <td>NaN</td>\n",
       "      <td>...</td>\n",
       "      <td>[\\n6\\n]</td>\n",
       "      <td>NaN</td>\n",
       "      <td>1</td>\n",
       "      <td>992.0</td>\n",
       "      <td>NaN</td>\n",
       "      <td>' 6'</td>\n",
       "      <td>Sedans</td>\n",
       "      <td>Brown</td>\n",
       "      <td>73000</td>\n",
       "      <td>NaN</td>\n",
       "    </tr>\n",
       "    <tr>\n",
       "      <th>4</th>\n",
       "      <td>https://www.autoscout24.com//offers/audi-a1-sp...</td>\n",
       "      <td>Audi A1</td>\n",
       "      <td>Sportback 1.4 TDI S-Tronic S-Line Ext. admired...</td>\n",
       "      <td>16790</td>\n",
       "      <td>05/2016</td>\n",
       "      <td>66 kW</td>\n",
       "      <td>[, Used, , Diesel (Particulate Filter)]</td>\n",
       "      <td>NaN</td>\n",
       "      <td>[\\nYes\\n, \\n109 g CO2/km (comb)\\n]</td>\n",
       "      <td>[\\n, \\n, \\nEuro 6\\n]</td>\n",
       "      <td>...</td>\n",
       "      <td>NaN</td>\n",
       "      <td>[\\nGermany\\n]</td>\n",
       "      <td>1</td>\n",
       "      <td>1092.0</td>\n",
       "      <td>NaN</td>\n",
       "      <td>' 6'</td>\n",
       "      <td>Sedans</td>\n",
       "      <td>Black</td>\n",
       "      <td>16200</td>\n",
       "      <td>NaN</td>\n",
       "    </tr>\n",
       "  </tbody>\n",
       "</table>\n",
       "<p>5 rows × 43 columns</p>\n",
       "</div>"
      ],
      "text/plain": [
       "                                                 url make_model  \\\n",
       "0  https://www.autoscout24.com//offers/audi-a1-sp...    Audi A1   \n",
       "1  https://www.autoscout24.com//offers/audi-a1-1-...    Audi A1   \n",
       "2  https://www.autoscout24.com//offers/audi-a1-sp...    Audi A1   \n",
       "3  https://www.autoscout24.com//offers/audi-a1-1-...    Audi A1   \n",
       "4  https://www.autoscout24.com//offers/audi-a1-sp...    Audi A1   \n",
       "\n",
       "                                   short_description  price registration  \\\n",
       "0        Sportback 1.4 TDI S-tronic Xenon Navi Klima  15770      01/2016   \n",
       "1                                     1.8 TFSI sport  14500      03/2017   \n",
       "2  Sportback 1.6 TDI S tronic Einparkhilfe plus+m...  14640      02/2016   \n",
       "3                            1.4 TDi Design S tronic  14500      08/2016   \n",
       "4  Sportback 1.4 TDI S-Tronic S-Line Ext. admired...  16790      05/2016   \n",
       "\n",
       "       hp                                     type  \\\n",
       "0   66 kW  [, Used, , Diesel (Particulate Filter)]   \n",
       "1  141 kW                     [, Used, , Gasoline]   \n",
       "2   85 kW  [, Used, , Diesel (Particulate Filter)]   \n",
       "3   66 kW  [, Used, , Diesel (Particulate Filter)]   \n",
       "4   66 kW  [, Used, , Diesel (Particulate Filter)]   \n",
       "\n",
       "                          nextinspection                       inspectionnew  \\\n",
       "0  [\\n06/2021\\n, \\n99 g CO2/km (comb)\\n]               [\\nYes\\n, \\nEuro 6\\n]   \n",
       "1                                    NaN                                 NaN   \n",
       "2                                    NaN                                 NaN   \n",
       "3                                    NaN                                 NaN   \n",
       "4                                    NaN  [\\nYes\\n, \\n109 g CO2/km (comb)\\n]   \n",
       "\n",
       "                           warranty  ...    gears countryversion  \\\n",
       "0           [\\n, \\n, \\n4 (Green)\\n]  ...      NaN            NaN   \n",
       "1                               NaN  ...  [\\n7\\n]            NaN   \n",
       "2  [\\n, \\n, \\n99 g CO2/km (comb)\\n]  ...      NaN            NaN   \n",
       "3                               NaN  ...  [\\n6\\n]            NaN   \n",
       "4              [\\n, \\n, \\nEuro 6\\n]  ...      NaN  [\\nGermany\\n]   \n",
       "\n",
       "  previous_owners_cleaned co2emission_cleaned_gCO2/km emissionlabel_cleaned  \\\n",
       "0                       2                       992.0                   NaN   \n",
       "1                     NaN                      1292.0                 Green   \n",
       "2                       1                       992.0                 Green   \n",
       "3                       1                       992.0                   NaN   \n",
       "4                       1                      1092.0                   NaN   \n",
       "\n",
       "  emissionclass_cleaned body_cleaned bodycolor_cleaned km_cleaned  \\\n",
       "0                  ' 6'       Sedans             Black      56013   \n",
       "1                  ' 6'       Sedans               Red      80000   \n",
       "2                  ' 6'       Sedans             Black      83450   \n",
       "3                  ' 6'       Sedans             Brown      73000   \n",
       "4                  ' 6'       Sedans             Black      16200   \n",
       "\n",
       "        vat_cleaned  \n",
       "0    VAT deductible  \n",
       "1  Price negotiable  \n",
       "2    VAT deductible  \n",
       "3               NaN  \n",
       "4               NaN  \n",
       "\n",
       "[5 rows x 43 columns]"
      ]
     },
     "execution_count": 266,
     "metadata": {},
     "output_type": "execute_result"
    }
   ],
   "source": [
    "df.head()"
   ]
  },
  {
   "cell_type": "markdown",
   "metadata": {},
   "source": [
    "## Columns that I don't think contain useful information for a predictive model"
   ]
  },
  {
   "cell_type": "code",
   "execution_count": 267,
   "metadata": {},
   "outputs": [],
   "source": [
    "useless_cols = ['url',]"
   ]
  }
 ],
 "metadata": {
  "kernelspec": {
   "display_name": "Python 3",
   "language": "python",
   "name": "python3"
  },
  "language_info": {
   "codemirror_mode": {
    "name": "ipython",
    "version": 3
   },
   "file_extension": ".py",
   "mimetype": "text/x-python",
   "name": "python",
   "nbconvert_exporter": "python",
   "pygments_lexer": "ipython3",
   "version": "3.12.4"
  }
 },
 "nbformat": 4,
 "nbformat_minor": 2
}
