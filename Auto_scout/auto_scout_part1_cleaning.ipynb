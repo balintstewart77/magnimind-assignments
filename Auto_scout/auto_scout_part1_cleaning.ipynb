{
 "cells": [
  {
   "cell_type": "markdown",
   "metadata": {},
   "source": [
    "# Auto_scout project Balint - Part 1: cleaning"
   ]
  },
  {
   "cell_type": "code",
   "execution_count": 66,
   "metadata": {},
   "outputs": [],
   "source": [
    "import numpy as np\n",
    "import pandas as pd\n",
    "import matplotlib.pyplot as plt\n",
    "import seaborn as sns\n"
   ]
  },
  {
   "cell_type": "code",
   "execution_count": 67,
   "metadata": {},
   "outputs": [
    {
     "data": {
      "text/plain": [
       "(15919, 54)"
      ]
     },
     "execution_count": 67,
     "metadata": {},
     "output_type": "execute_result"
    }
   ],
   "source": [
    "# Load the data\n",
    "# df = pd.read_json(r'C:\\Users\\BalintStewart\\OneDrive - Health Data Research\\Desktop\\magnimind-assignments\\Auto_scout\\data\\scout_car.json', lines=True) # lines=True reads the file as lines of JSON (one JSON object per line)\n",
    "\n",
    "# Load the data on from relative path\n",
    "df = pd.read_json('data/scout_car.json', lines = True)\n",
    "\n",
    "df.shape"
   ]
  },
  {
   "cell_type": "code",
   "execution_count": 68,
   "metadata": {},
   "outputs": [
    {
     "name": "stdout",
     "output_type": "stream",
     "text": [
      "<class 'pandas.core.frame.DataFrame'>\n",
      "RangeIndex: 15919 entries, 0 to 15918\n",
      "Data columns (total 54 columns):\n",
      " #   Column                         Non-Null Count  Dtype  \n",
      "---  ------                         --------------  -----  \n",
      " 0   url                            15919 non-null  object \n",
      " 1   make_model                     15919 non-null  object \n",
      " 2   short_description              15873 non-null  object \n",
      " 3   body_type                      15859 non-null  object \n",
      " 4   price                          15919 non-null  int64  \n",
      " 5   vat                            11406 non-null  object \n",
      " 6   km                             15919 non-null  object \n",
      " 7   registration                   15919 non-null  object \n",
      " 8   prev_owner                     9091 non-null   object \n",
      " 9   kW                             0 non-null      float64\n",
      " 10  hp                             15919 non-null  object \n",
      " 11  Type                           15917 non-null  object \n",
      " 12  Previous Owners                9279 non-null   object \n",
      " 13  Next Inspection                3535 non-null   object \n",
      " 14  Inspection new                 3932 non-null   object \n",
      " 15  Warranty                       10499 non-null  object \n",
      " 16  Full Service                   8215 non-null   object \n",
      " 17  Non-smoking Vehicle            7177 non-null   object \n",
      " 18  null                           15919 non-null  object \n",
      " 19  Make                           15919 non-null  object \n",
      " 20  Model                          15919 non-null  object \n",
      " 21  Offer Number                   12744 non-null  object \n",
      " 22  First Registration             14322 non-null  object \n",
      " 23  Body Color                     15322 non-null  object \n",
      " 24  Paint Type                     10147 non-null  object \n",
      " 25  Body Color Original            12160 non-null  object \n",
      " 26  Upholstery                     12199 non-null  object \n",
      " 27  Body                           15859 non-null  object \n",
      " 28  Nr. of Doors                   15707 non-null  object \n",
      " 29  Nr. of Seats                   14942 non-null  object \n",
      " 30  Model Code                     4978 non-null   object \n",
      " 31  Gearing Type                   15919 non-null  object \n",
      " 32  Displacement                   15423 non-null  object \n",
      " 33  Cylinders                      10239 non-null  object \n",
      " 34  Weight                         8945 non-null   object \n",
      " 35  Drive chain                    9061 non-null   object \n",
      " 36  Fuel                           15919 non-null  object \n",
      " 37  Consumption                    14013 non-null  object \n",
      " 38  CO2 Emission                   14111 non-null  object \n",
      " 39  Emission Class                 12898 non-null  object \n",
      " 40  \n",
      "Comfort & Convenience\n",
      "        14999 non-null  object \n",
      " 41  \n",
      "Entertainment & Media\n",
      "        14545 non-null  object \n",
      " 42  \n",
      "Extras\n",
      "                       12957 non-null  object \n",
      " 43  \n",
      "Safety & Security\n",
      "            14937 non-null  object \n",
      " 44  description                    15919 non-null  object \n",
      " 45  Emission Label                 3985 non-null   object \n",
      " 46  Gears                          11207 non-null  object \n",
      " 47  Country version                7586 non-null   object \n",
      " 48  Electricity consumption        137 non-null    object \n",
      " 49  Last Service Date              566 non-null    object \n",
      " 50  Other Fuel Types               880 non-null    object \n",
      " 51  Availability                   635 non-null    object \n",
      " 52  Last Timing Belt Service Date  16 non-null     object \n",
      " 53  Available from                 272 non-null    object \n",
      "dtypes: float64(1), int64(1), object(52)\n",
      "memory usage: 6.6+ MB\n",
      "None\n"
     ]
    }
   ],
   "source": [
    "print(df.info())"
   ]
  },
  {
   "cell_type": "code",
   "execution_count": 69,
   "metadata": {},
   "outputs": [
    {
     "data": {
      "text/html": [
       "<div>\n",
       "<style scoped>\n",
       "    .dataframe tbody tr th:only-of-type {\n",
       "        vertical-align: middle;\n",
       "    }\n",
       "\n",
       "    .dataframe tbody tr th {\n",
       "        vertical-align: top;\n",
       "    }\n",
       "\n",
       "    .dataframe thead th {\n",
       "        text-align: right;\n",
       "    }\n",
       "</style>\n",
       "<table border=\"1\" class=\"dataframe\">\n",
       "  <thead>\n",
       "    <tr style=\"text-align: right;\">\n",
       "      <th></th>\n",
       "      <th>price</th>\n",
       "      <th>kW</th>\n",
       "    </tr>\n",
       "  </thead>\n",
       "  <tbody>\n",
       "    <tr>\n",
       "      <th>count</th>\n",
       "      <td>15919.000000</td>\n",
       "      <td>0.0</td>\n",
       "    </tr>\n",
       "    <tr>\n",
       "      <th>mean</th>\n",
       "      <td>18019.896727</td>\n",
       "      <td>NaN</td>\n",
       "    </tr>\n",
       "    <tr>\n",
       "      <th>std</th>\n",
       "      <td>7386.169409</td>\n",
       "      <td>NaN</td>\n",
       "    </tr>\n",
       "    <tr>\n",
       "      <th>min</th>\n",
       "      <td>13.000000</td>\n",
       "      <td>NaN</td>\n",
       "    </tr>\n",
       "    <tr>\n",
       "      <th>25%</th>\n",
       "      <td>12850.000000</td>\n",
       "      <td>NaN</td>\n",
       "    </tr>\n",
       "    <tr>\n",
       "      <th>50%</th>\n",
       "      <td>16900.000000</td>\n",
       "      <td>NaN</td>\n",
       "    </tr>\n",
       "    <tr>\n",
       "      <th>75%</th>\n",
       "      <td>21900.000000</td>\n",
       "      <td>NaN</td>\n",
       "    </tr>\n",
       "    <tr>\n",
       "      <th>max</th>\n",
       "      <td>74600.000000</td>\n",
       "      <td>NaN</td>\n",
       "    </tr>\n",
       "  </tbody>\n",
       "</table>\n",
       "</div>"
      ],
      "text/plain": [
       "              price   kW\n",
       "count  15919.000000  0.0\n",
       "mean   18019.896727  NaN\n",
       "std     7386.169409  NaN\n",
       "min       13.000000  NaN\n",
       "25%    12850.000000  NaN\n",
       "50%    16900.000000  NaN\n",
       "75%    21900.000000  NaN\n",
       "max    74600.000000  NaN"
      ]
     },
     "execution_count": 69,
     "metadata": {},
     "output_type": "execute_result"
    }
   ],
   "source": [
    "df.describe()"
   ]
  },
  {
   "cell_type": "markdown",
   "metadata": {},
   "source": [
    "## Columns to drop straight away/that don't contain useful information for a predictive model"
   ]
  },
  {
   "cell_type": "code",
   "execution_count": 70,
   "metadata": {},
   "outputs": [],
   "source": [
    "useless_cols = ['url','short_description','description'] # short description could potentially be useful if we can extract general information from it, looks too complex to be useful\n",
    "df = df.drop(useless_cols, axis =1)"
   ]
  },
  {
   "cell_type": "markdown",
   "metadata": {},
   "source": [
    "## Drop columns containing >90% missing values"
   ]
  },
  {
   "cell_type": "code",
   "execution_count": 124,
   "metadata": {},
   "outputs": [
    {
     "name": "stdout",
     "output_type": "stream",
     "text": [
      "make_model                      0.000000\n",
      "price                           0.000000\n",
      "type                            0.012564\n",
      "warranty                       34.047365\n",
      "fullservice                    48.395000\n",
      "non-smokingvehicle             54.915510\n",
      "offernumber                    19.944720\n",
      "firstregistration              10.032037\n",
      "painttype                      36.258559\n",
      "upholstery                     23.368302\n",
      "body                            0.376908\n",
      "nrofdoors                       1.331742\n",
      "nrofseats                       6.137320\n",
      "modelcode                      68.729192\n",
      "gearingtype                     0.000000\n",
      "displacement                    3.115774\n",
      "cylinders                      35.680633\n",
      "weight                         43.809285\n",
      "drivechain                     43.080596\n",
      "fuel                            0.012564\n",
      "consumption                    11.973114\n",
      "comfort_convenience             5.779257\n",
      "entertainment_media             8.631195\n",
      "extras                         18.606696\n",
      "safety_security                 6.168729\n",
      "gears                          29.599849\n",
      "countryversion                 52.346253\n",
      "previous_owners_cleaned        41.868208\n",
      "co2emission_cleaned_gCO2/km    15.302469\n",
      "emissionlabel_cleaned          75.218293\n",
      "emissionclass_cleaned          22.790376\n",
      "body_cleaned                    0.376908\n",
      "bodycolor_cleaned               3.750236\n",
      "km_cleaned                      6.432565\n",
      "vat_cleaned                    28.349771\n",
      "registration_cleaned           10.032037\n",
      "hp_kW_cleaned                   0.552799\n",
      "nextinspection_cleaned         95.539921\n",
      "type_cleaned                    0.012564\n",
      "offernumber_cleaned             0.000000\n",
      "dtype: float64\n"
     ]
    },
    {
     "data": {
      "text/plain": [
       "(15919, 39)"
      ]
     },
     "execution_count": 124,
     "metadata": {},
     "output_type": "execute_result"
    }
   ],
   "source": [
    "# Find proportion of missing values for each column\n",
    "percent_missing = df.isna().sum()/len(df)*100\n",
    "print(percent_missing)\n",
    "# Select columns that have >90% missing values, drop these from the data\n",
    "high_missing = percent_missing[percent_missing >90].index\n",
    "df = df.drop(high_missing, axis = 1)\n",
    "df.shape"
   ]
  },
  {
   "cell_type": "code",
   "execution_count": 72,
   "metadata": {},
   "outputs": [
    {
     "data": {
      "text/plain": [
       "make_model                    0.000000\n",
       "body_type                     0.376908\n",
       "price                         0.000000\n",
       "vat                          28.349771\n",
       "km                            0.000000\n",
       "registration                  0.000000\n",
       "prev_owner                   42.892141\n",
       "hp                            0.000000\n",
       "Type                          0.012564\n",
       "Previous Owners              41.711163\n",
       "Next Inspection              77.793831\n",
       "Inspection new               75.299956\n",
       "Warranty                     34.047365\n",
       "Full Service                 48.395000\n",
       "Non-smoking Vehicle          54.915510\n",
       "null                          0.000000\n",
       "Make                          0.000000\n",
       "Model                         0.000000\n",
       "Offer Number                 19.944720\n",
       "First Registration           10.032037\n",
       "Body Color                    3.750236\n",
       "Paint Type                   36.258559\n",
       "Body Color Original          23.613292\n",
       "Upholstery                   23.368302\n",
       "Body                          0.376908\n",
       "Nr. of Doors                  1.331742\n",
       "Nr. of Seats                  6.137320\n",
       "Model Code                   68.729192\n",
       "Gearing Type                  0.000000\n",
       "Displacement                  3.115774\n",
       "Cylinders                    35.680633\n",
       "Weight                       43.809285\n",
       "Drive chain                  43.080596\n",
       "Fuel                          0.000000\n",
       "Consumption                  11.973114\n",
       "CO2 Emission                 11.357497\n",
       "Emission Class               18.977323\n",
       "\\nComfort & Convenience\\n     5.779257\n",
       "\\nEntertainment & Media\\n     8.631195\n",
       "\\nExtras\\n                   18.606696\n",
       "\\nSafety & Security\\n         6.168729\n",
       "Emission Label               74.967021\n",
       "Gears                        29.599849\n",
       "Country version              52.346253\n",
       "dtype: float64"
      ]
     },
     "execution_count": 72,
     "metadata": {},
     "output_type": "execute_result"
    }
   ],
   "source": [
    "df.isna().sum()/len(df)*100\n"
   ]
  },
  {
   "cell_type": "markdown",
   "metadata": {},
   "source": [
    "## Tidy up column names\n",
    "- Make them all lower case\n",
    "- join words using underscore\n",
    "- clean up col name strings (remove leaading and trailing '\\n'))"
   ]
  },
  {
   "cell_type": "code",
   "execution_count": 73,
   "metadata": {},
   "outputs": [
    {
     "name": "stderr",
     "output_type": "stream",
     "text": [
      "/var/folders/hy/qjrf39791gj4bzf0p4kslpnm0000gn/T/ipykernel_3385/346858531.py:2: FutureWarning: The default value of regex will change from True to False in a future version.\n",
      "  df.columns = df.columns.str.strip().str.lower().str.replace(r'\\n','').str.replace('&','_').str.replace(' ','').str.replace('.','')\n",
      "/var/folders/hy/qjrf39791gj4bzf0p4kslpnm0000gn/T/ipykernel_3385/346858531.py:2: FutureWarning: The default value of regex will change from True to False in a future version. In addition, single character regular expressions will *not* be treated as literal strings when regex=True.\n",
      "  df.columns = df.columns.str.strip().str.lower().str.replace(r'\\n','').str.replace('&','_').str.replace(' ','').str.replace('.','')\n"
     ]
    },
    {
     "data": {
      "text/plain": [
       "Index(['make_model', 'body_type', 'price', 'vat', 'km', 'registration',\n",
       "       'prev_owner', 'hp', 'type', 'previousowners', 'nextinspection',\n",
       "       'inspectionnew', 'warranty', 'fullservice', 'non-smokingvehicle',\n",
       "       'null', 'make', 'model', 'offernumber', 'firstregistration',\n",
       "       'bodycolor', 'painttype', 'bodycolororiginal', 'upholstery', 'body',\n",
       "       'nrofdoors', 'nrofseats', 'modelcode', 'gearingtype', 'displacement',\n",
       "       'cylinders', 'weight', 'drivechain', 'fuel', 'consumption',\n",
       "       'co2emission', 'emissionclass', 'comfort_convenience',\n",
       "       'entertainment_media', 'extras', 'safety_security', 'emissionlabel',\n",
       "       'gears', 'countryversion'],\n",
       "      dtype='object')"
      ]
     },
     "execution_count": 73,
     "metadata": {},
     "output_type": "execute_result"
    }
   ],
   "source": [
    "# Clean up column names\n",
    "df.columns = df.columns.str.strip().str.lower().str.replace(r'\\n','').str.replace('&','_').str.replace(' ','').str.replace('.','')\n",
    "df.columns"
   ]
  },
  {
   "cell_type": "markdown",
   "metadata": {},
   "source": [
    "## Compare 'make_model' with 'make' and 'model' columns"
   ]
  },
  {
   "cell_type": "code",
   "execution_count": 74,
   "metadata": {},
   "outputs": [
    {
     "name": "stdout",
     "output_type": "stream",
     "text": [
      "Audi A3           3097\n",
      "Audi A1           2614\n",
      "Opel Insignia     2598\n",
      "Opel Astra        2526\n",
      "Opel Corsa        2219\n",
      "Renault Clio      1839\n",
      "Renault Espace     991\n",
      "Renault Duster      34\n",
      "Audi A2              1\n",
      "Name: make_model, dtype: int64\n"
     ]
    }
   ],
   "source": [
    "dfmm = df[['make_model', 'make', 'model']]\n",
    "dfmm.sample(10)\n",
    "\n",
    "# Should I keep 'make' and 'model' as separate features or just 'make_model'? Want to avoid redundancy/multicolinearity in my training dataset.\n",
    "print(dfmm.make_model.value_counts(dropna=False)) \n",
    "\n",
    "# Final decision: keep 'make_model' and drop 'make' and 'model' - simplifies the feauture set more than onehotencoding both 'make' and 'model'\n",
    "df = df.drop(['make','model'], axis = 1)\n"
   ]
  },
  {
   "cell_type": "markdown",
   "metadata": {},
   "source": [
    "## Compare and clean/combine prev_owner and previousowners"
   ]
  },
  {
   "cell_type": "code",
   "execution_count": 75,
   "metadata": {},
   "outputs": [
    {
     "name": "stdout",
     "output_type": "stream",
     "text": [
      "1 previous owner     8294\n",
      "None                 6828\n",
      "2 previous owners     778\n",
      "3 previous owners      17\n",
      "4 previous owners       2\n",
      "Name: prev_owner, dtype: int64\n",
      "\\n1\\n                                                                                        8101\n",
      "NaN                                                                                          6640\n",
      "\\n2\\n                                                                                         766\n",
      "\\n0\\n                                                                                         163\n",
      "\\n3\\n                                                                                          17\n",
      "                                                                                             ... \n",
      "[\\n1\\n, \\n111 g CO2/km (comb)\\n]                                                                1\n",
      "[\\n1\\n, \\nEuro 6\\n]                                                                             1\n",
      "[\\n2\\n, \\n119 g CO2/km (comb)\\n]                                                                1\n",
      "[\\n1\\n, \\n, 6.6 l/100 km (comb), \\n, 8.1 l/100 km (city), \\n, 5.7 l/100 km (country), \\n]       1\n",
      "[\\n2\\n, \\n137 g CO2/km (comb)\\n]                                                                1\n",
      "Name: previousowners, Length: 103, dtype: int64\n"
     ]
    }
   ],
   "source": [
    "df[['prev_owner', 'previousowners']].sample(10)\n",
    "print(df.prev_owner.value_counts(dropna = False))\n",
    "print(df.previousowners.value_counts(dropna= False))"
   ]
  },
  {
   "cell_type": "code",
   "execution_count": 76,
   "metadata": {},
   "outputs": [],
   "source": [
    "# clean previousowners column \n",
    "df['previousowners_cleaned'] = df['previousowners'].str.replace('\\n', '')\n",
    "\n"
   ]
  },
  {
   "cell_type": "code",
   "execution_count": 77,
   "metadata": {},
   "outputs": [
    {
     "data": {
      "text/plain": [
       "1      8294\n",
       "NaN    6828\n",
       "2       778\n",
       "3        17\n",
       "4         2\n",
       "Name: prev_owner_cleaned, dtype: int64"
      ]
     },
     "execution_count": 77,
     "metadata": {},
     "output_type": "execute_result"
    }
   ],
   "source": [
    "# clean prev_owner column: remove strings after number, and convert 'None' to np.nan\n",
    "def clean_prev_owner(value):\n",
    "    if isinstance(value, str):\n",
    "        return value.split()[0] # value.split() splits the string into ['1', 'previous', 'owners'], then select first element \n",
    "    if value == 'None' or pd.isna(value):\n",
    "        return np.nan\n",
    "    return value\n",
    "\n",
    "df['prev_owner_cleaned'] = df['prev_owner'].apply(clean_prev_owner)\n",
    "df['prev_owner_cleaned'].value_counts(dropna= False)"
   ]
  },
  {
   "cell_type": "code",
   "execution_count": 78,
   "metadata": {},
   "outputs": [
    {
     "data": {
      "text/html": [
       "<div>\n",
       "<style scoped>\n",
       "    .dataframe tbody tr th:only-of-type {\n",
       "        vertical-align: middle;\n",
       "    }\n",
       "\n",
       "    .dataframe tbody tr th {\n",
       "        vertical-align: top;\n",
       "    }\n",
       "\n",
       "    .dataframe thead th {\n",
       "        text-align: right;\n",
       "    }\n",
       "</style>\n",
       "<table border=\"1\" class=\"dataframe\">\n",
       "  <thead>\n",
       "    <tr style=\"text-align: right;\">\n",
       "      <th></th>\n",
       "      <th>prev_owner_cleaned</th>\n",
       "      <th>previousowners_cleaned</th>\n",
       "    </tr>\n",
       "  </thead>\n",
       "  <tbody>\n",
       "  </tbody>\n",
       "</table>\n",
       "</div>"
      ],
      "text/plain": [
       "Empty DataFrame\n",
       "Columns: [prev_owner_cleaned, previousowners_cleaned]\n",
       "Index: []"
      ]
     },
     "execution_count": 78,
     "metadata": {},
     "output_type": "execute_result"
    }
   ],
   "source": [
    "# Check the NaN discrepancy across the two columns\n",
    "discrep = df[df['prev_owner_cleaned'] != df['previousowners_cleaned']]\n",
    "discrep[['prev_owner_cleaned','previousowners_cleaned']].dropna()\n",
    "# All discrepencies involve an NaN in one of the columns"
   ]
  },
  {
   "cell_type": "code",
   "execution_count": 79,
   "metadata": {},
   "outputs": [
    {
     "data": {
      "text/html": [
       "<div>\n",
       "<style scoped>\n",
       "    .dataframe tbody tr th:only-of-type {\n",
       "        vertical-align: middle;\n",
       "    }\n",
       "\n",
       "    .dataframe tbody tr th {\n",
       "        vertical-align: top;\n",
       "    }\n",
       "\n",
       "    .dataframe thead th {\n",
       "        text-align: right;\n",
       "    }\n",
       "</style>\n",
       "<table border=\"1\" class=\"dataframe\">\n",
       "  <thead>\n",
       "    <tr style=\"text-align: right;\">\n",
       "      <th></th>\n",
       "      <th>prev_owner_cleaned</th>\n",
       "      <th>previousowners_cleaned</th>\n",
       "    </tr>\n",
       "  </thead>\n",
       "  <tbody>\n",
       "    <tr>\n",
       "      <th>47</th>\n",
       "      <td>NaN</td>\n",
       "      <td>0</td>\n",
       "    </tr>\n",
       "    <tr>\n",
       "      <th>418</th>\n",
       "      <td>NaN</td>\n",
       "      <td>0</td>\n",
       "    </tr>\n",
       "    <tr>\n",
       "      <th>586</th>\n",
       "      <td>NaN</td>\n",
       "      <td>0</td>\n",
       "    </tr>\n",
       "    <tr>\n",
       "      <th>648</th>\n",
       "      <td>NaN</td>\n",
       "      <td>0</td>\n",
       "    </tr>\n",
       "    <tr>\n",
       "      <th>734</th>\n",
       "      <td>NaN</td>\n",
       "      <td>0</td>\n",
       "    </tr>\n",
       "    <tr>\n",
       "      <th>...</th>\n",
       "      <td>...</td>\n",
       "      <td>...</td>\n",
       "    </tr>\n",
       "    <tr>\n",
       "      <th>15794</th>\n",
       "      <td>1</td>\n",
       "      <td>NaN</td>\n",
       "    </tr>\n",
       "    <tr>\n",
       "      <th>15853</th>\n",
       "      <td>NaN</td>\n",
       "      <td>0</td>\n",
       "    </tr>\n",
       "    <tr>\n",
       "      <th>15860</th>\n",
       "      <td>NaN</td>\n",
       "      <td>0</td>\n",
       "    </tr>\n",
       "    <tr>\n",
       "      <th>15915</th>\n",
       "      <td>1</td>\n",
       "      <td>NaN</td>\n",
       "    </tr>\n",
       "    <tr>\n",
       "      <th>15916</th>\n",
       "      <td>1</td>\n",
       "      <td>NaN</td>\n",
       "    </tr>\n",
       "  </tbody>\n",
       "</table>\n",
       "<p>368 rows × 2 columns</p>\n",
       "</div>"
      ],
      "text/plain": [
       "      prev_owner_cleaned previousowners_cleaned\n",
       "47                   NaN                      0\n",
       "418                  NaN                      0\n",
       "586                  NaN                      0\n",
       "648                  NaN                      0\n",
       "734                  NaN                      0\n",
       "...                  ...                    ...\n",
       "15794                  1                    NaN\n",
       "15853                NaN                      0\n",
       "15860                NaN                      0\n",
       "15915                  1                    NaN\n",
       "15916                  1                    NaN\n",
       "\n",
       "[368 rows x 2 columns]"
      ]
     },
     "execution_count": 79,
     "metadata": {},
     "output_type": "execute_result"
    }
   ],
   "source": [
    "# Have a look at the NaN discrepencies\n",
    "filtered_df = df[(df['prev_owner_cleaned'].isna() & df['previousowners_cleaned'].notna()) | (df['prev_owner_cleaned'].notna() & df['previousowners_cleaned'].isna())]\n",
    "filtered_df[['prev_owner_cleaned','previousowners_cleaned']] "
   ]
  },
  {
   "cell_type": "code",
   "execution_count": 80,
   "metadata": {},
   "outputs": [
    {
     "data": {
      "text/plain": [
       "1      8294\n",
       "NaN    6665\n",
       "2       778\n",
       "0       163\n",
       "3        17\n",
       "4         2\n",
       "Name: previous_owners_cleaned, dtype: int64"
      ]
     },
     "execution_count": 80,
     "metadata": {},
     "output_type": "execute_result"
    }
   ],
   "source": [
    "# Some values are NaN in one, and value in the other, and vice versa. Merge so that we keep the value and discard the NaN these instances by using combine_first\n",
    "# Now merge the two columns together\n",
    "df['previous_owners_cleaned'] = df['prev_owner_cleaned'].combine_first(df['previousowners_cleaned'])\n",
    "df['previous_owners_cleaned'].value_counts(dropna = False)\n"
   ]
  },
  {
   "cell_type": "code",
   "execution_count": 81,
   "metadata": {},
   "outputs": [],
   "source": [
    "# Drop columns not needed anymore\n",
    "df = df.drop(['prev_owner_cleaned','previousowners_cleaned','prev_owner', 'previousowners'], axis = 1)"
   ]
  },
  {
   "cell_type": "markdown",
   "metadata": {},
   "source": [
    "## 'Null' column"
   ]
  },
  {
   "cell_type": "code",
   "execution_count": 82,
   "metadata": {},
   "outputs": [
    {
     "name": "stdout",
     "output_type": "stream",
     "text": [
      "[]    15919\n",
      "Name: null, dtype: int64\n"
     ]
    }
   ],
   "source": [
    "print(df['null'].value_counts(dropna = False))\n",
    "# Drop the 'null' column\n",
    "df = df.drop('null', axis = 1)"
   ]
  },
  {
   "cell_type": "code",
   "execution_count": 83,
   "metadata": {},
   "outputs": [
    {
     "data": {
      "text/plain": [
       "Index(['make_model', 'body_type', 'price', 'vat', 'km', 'registration', 'hp',\n",
       "       'type', 'nextinspection', 'inspectionnew', 'warranty', 'fullservice',\n",
       "       'non-smokingvehicle', 'offernumber', 'firstregistration', 'bodycolor',\n",
       "       'painttype', 'bodycolororiginal', 'upholstery', 'body', 'nrofdoors',\n",
       "       'nrofseats', 'modelcode', 'gearingtype', 'displacement', 'cylinders',\n",
       "       'weight', 'drivechain', 'fuel', 'consumption', 'co2emission',\n",
       "       'emissionclass', 'comfort_convenience', 'entertainment_media', 'extras',\n",
       "       'safety_security', 'emissionlabel', 'gears', 'countryversion',\n",
       "       'previous_owners_cleaned'],\n",
       "      dtype='object')"
      ]
     },
     "execution_count": 83,
     "metadata": {},
     "output_type": "execute_result"
    }
   ],
   "source": [
    "df.columns"
   ]
  },
  {
   "cell_type": "markdown",
   "metadata": {},
   "source": [
    "## Compare 'co2emission', 'emissionclass', 'emissionlabel' columns"
   ]
  },
  {
   "cell_type": "code",
   "execution_count": 84,
   "metadata": {},
   "outputs": [
    {
     "data": {
      "text/plain": [
       "NaN                     11934\n",
       "[\\n4 (Green)\\n]          3553\n",
       "[\\n1 (No sticker)\\n]      381\n",
       "[[], [], []]               40\n",
       "[\\n5 (Blue)\\n]              8\n",
       "[\\n3 (Yellow)\\n]            2\n",
       "[\\n2 (Red)\\n]               1\n",
       "Name: emissionlabel, dtype: int64"
      ]
     },
     "execution_count": 84,
     "metadata": {},
     "output_type": "execute_result"
    }
   ],
   "source": [
    "df[['co2emission', 'emissionclass', 'emissionlabel']]\n",
    "df['emissionlabel'].value_counts(dropna = False)"
   ]
  },
  {
   "cell_type": "markdown",
   "metadata": {},
   "source": [
    "## Co2 emission"
   ]
  },
  {
   "cell_type": "code",
   "execution_count": 85,
   "metadata": {},
   "outputs": [],
   "source": [
    "def cleann_column(series):\n",
    "    # Convert the series to string type\n",
    "    series = series.astype(str)\n",
    "    # Strip unwanted characters and replace newlines\n",
    "    return series.str.strip('[]\\\\n').str.replace('\\\\n', '', regex=False)\n",
    "\n",
    "# Apply the cleaning function to each column\n",
    "df['co2emission'] = cleann_column(df['co2emission'])\n",
    "df['emissionclass'] = cleann_column(df['emissionclass'])\n",
    "df['emissionlabel'] = cleann_column(df['emissionlabel'])\n"
   ]
  },
  {
   "cell_type": "code",
   "execution_count": 86,
   "metadata": {},
   "outputs": [
    {
     "data": {
      "text/plain": [
       "NaN        2436\n",
       "1202.0      740\n",
       "992.0       545\n",
       "972.0       537\n",
       "1042.0      501\n",
       "           ... \n",
       "142.0         1\n",
       "10602.0       1\n",
       "512.0         1\n",
       "1652.0        1\n",
       "1932.0        1\n",
       "Name: co2emission_cleaned_gCO2/km, Length: 123, dtype: int64"
      ]
     },
     "execution_count": 86,
     "metadata": {},
     "output_type": "execute_result"
    }
   ],
   "source": [
    "import re\n",
    "# Define a function to clean the emission values\n",
    "def extract_int(value):\n",
    "    if isinstance(value, str):\n",
    "        # Remove any unwanted characters and extract the numeric part\n",
    "        value = re.sub(r'[^\\d]', '', value)  # Remove everything except digits\n",
    "        return int(value) if value else np.nan  # Convert to int or return NaN if empty\n",
    "    return np.nan\n",
    "\n",
    "# Apply the cleaning function to the column\n",
    "df['co2emission_cleaned_gCO2/km'] = df['co2emission'].apply(extract_int)\n",
    "df['co2emission_cleaned_gCO2/km'].value_counts(dropna=False)"
   ]
  },
  {
   "cell_type": "markdown",
   "metadata": {},
   "source": [
    "## emissionlabel column"
   ]
  },
  {
   "cell_type": "code",
   "execution_count": 87,
   "metadata": {},
   "outputs": [
    {
     "data": {
      "text/plain": [
       "NaN                 11974\n",
       "'4 (Green)'          3553\n",
       "'1 (No sticker)'      381\n",
       "'5 (Blue)'              8\n",
       "'3 (Yellow)'            2\n",
       "'2 (Red)'               1\n",
       "Name: emissionlabel, dtype: int64"
      ]
     },
     "execution_count": 87,
     "metadata": {},
     "output_type": "execute_result"
    }
   ],
   "source": [
    "df['emissionlabel'].value_counts()\n",
    "df['emissionlabel'] =df['emissionlabel'].str.strip()\n",
    "# define values to make np.nan\n",
    "values_to_nan = ['a', ', [],']\n",
    "\n",
    "# Replace these values with np.nan\n",
    "df['emissionlabel'] = df['emissionlabel'].replace(values_to_nan, np.nan) # not sure why this returns string nan, need NaN! \n",
    "df['emissionlabel'] = df['emissionlabel'].replace('nan', np.nan)\n",
    "df['emissionlabel'].value_counts(dropna = False)\n"
   ]
  },
  {
   "cell_type": "code",
   "execution_count": 88,
   "metadata": {},
   "outputs": [
    {
     "name": "stdout",
     "output_type": "stream",
     "text": [
      "NaN           11974\n",
      "Green          3553\n",
      "No sticker      381\n",
      "Blue              8\n",
      "Yellow            2\n",
      "Red               1\n",
      "Name: emissionlabel_cleaned, dtype: int64\n"
     ]
    }
   ],
   "source": [
    "import re\n",
    "# Define a function to extract the color (I think this is more meaningful than a category number?)\n",
    "def extract_color(label):\n",
    "    match = re.search(r'\\(([^)]+)\\)', label)\n",
    "    return match.group(1) if match else np.nan\n",
    "\n",
    "# convert column to string\n",
    "df['emissionlabel'] = df['emissionlabel'].astype(str)\n",
    "# Apply the function to the column\n",
    "df['emissionlabel_cleaned'] = df['emissionlabel'].apply(extract_color)\n",
    "\n",
    "# Check the cleaned values\n",
    "print(df['emissionlabel_cleaned'].value_counts(dropna=False))\n",
    "\n",
    "# Should we convert 'No sticker' to NaN? Depends if 'no sticker' is the same as 'unknown sticker' (assuming NaN is 'unknown sticker')"
   ]
  },
  {
   "cell_type": "markdown",
   "metadata": {},
   "source": [
    "## emissionclass column\n"
   ]
  },
  {
   "cell_type": "code",
   "execution_count": 89,
   "metadata": {},
   "outputs": [
    {
     "data": {
      "text/plain": [
       "' 6'     10139\n",
       "NaN       3628\n",
       "' 6d'     1907\n",
       "' 6c'      127\n",
       "' 5'        78\n",
       "' 4'        40\n",
       "Name: emissionclass_cleaned, dtype: int64"
      ]
     },
     "execution_count": 89,
     "metadata": {},
     "output_type": "execute_result"
    }
   ],
   "source": [
    "# Remove Euro and -TEMP from beginning and end of values\n",
    "df['emissionclass'] =df['emissionclass'].str.replace('Euro','').str.replace('-TEMP', '')\n",
    "# strip leading/trailing whitespace\n",
    "df['emissionclass'] =df['emissionclass'].str.strip()\n",
    "# Convert 'a' and ', []' to NaN\n",
    "values_to_nan = ['a', ', [],']\n",
    "# Replace these values with np.nan\n",
    "df['emissionclass_cleaned'] = df['emissionclass'].replace(values_to_nan, np.nan) # not sure why this returns string nan, need NaN! \n",
    "df['emissionclass_cleaned'].value_counts(dropna = False)\n"
   ]
  },
  {
   "cell_type": "code",
   "execution_count": 90,
   "metadata": {},
   "outputs": [
    {
     "data": {
      "text/plain": [
       "Index(['make_model', 'body_type', 'price', 'vat', 'km', 'registration', 'hp',\n",
       "       'type', 'nextinspection', 'inspectionnew', 'warranty', 'fullservice',\n",
       "       'non-smokingvehicle', 'offernumber', 'firstregistration', 'bodycolor',\n",
       "       'painttype', 'bodycolororiginal', 'upholstery', 'body', 'nrofdoors',\n",
       "       'nrofseats', 'modelcode', 'gearingtype', 'displacement', 'cylinders',\n",
       "       'weight', 'drivechain', 'fuel', 'consumption', 'comfort_convenience',\n",
       "       'entertainment_media', 'extras', 'safety_security', 'gears',\n",
       "       'countryversion', 'previous_owners_cleaned',\n",
       "       'co2emission_cleaned_gCO2/km', 'emissionlabel_cleaned',\n",
       "       'emissionclass_cleaned'],\n",
       "      dtype='object')"
      ]
     },
     "execution_count": 90,
     "metadata": {},
     "output_type": "execute_result"
    }
   ],
   "source": [
    "# Drop emissionclass, emissionlabel, and co2emission columns\n",
    "df = df.drop(['emissionclass', 'emissionlabel', 'co2emission'], axis = 1)\n",
    "df.columns"
   ]
  },
  {
   "cell_type": "markdown",
   "metadata": {},
   "source": [
    "## Compare 'body_type','body' columns"
   ]
  },
  {
   "cell_type": "code",
   "execution_count": 91,
   "metadata": {},
   "outputs": [
    {
     "data": {
      "text/html": [
       "<div>\n",
       "<style scoped>\n",
       "    .dataframe tbody tr th:only-of-type {\n",
       "        vertical-align: middle;\n",
       "    }\n",
       "\n",
       "    .dataframe tbody tr th {\n",
       "        vertical-align: top;\n",
       "    }\n",
       "\n",
       "    .dataframe thead th {\n",
       "        text-align: right;\n",
       "    }\n",
       "</style>\n",
       "<table border=\"1\" class=\"dataframe\">\n",
       "  <thead>\n",
       "    <tr style=\"text-align: right;\">\n",
       "      <th></th>\n",
       "      <th>body_type</th>\n",
       "      <th>body</th>\n",
       "    </tr>\n",
       "  </thead>\n",
       "  <tbody>\n",
       "    <tr>\n",
       "      <th>5158</th>\n",
       "      <td>Sedans</td>\n",
       "      <td>[\\n, Sedans, \\n]</td>\n",
       "    </tr>\n",
       "    <tr>\n",
       "      <th>15631</th>\n",
       "      <td>Van</td>\n",
       "      <td>[\\n, Van, \\n]</td>\n",
       "    </tr>\n",
       "    <tr>\n",
       "      <th>10514</th>\n",
       "      <td>Station wagon</td>\n",
       "      <td>[\\n, Station wagon, \\n]</td>\n",
       "    </tr>\n",
       "    <tr>\n",
       "      <th>7680</th>\n",
       "      <td>Station wagon</td>\n",
       "      <td>[\\n, Station wagon, \\n]</td>\n",
       "    </tr>\n",
       "    <tr>\n",
       "      <th>8249</th>\n",
       "      <td>Compact</td>\n",
       "      <td>[\\n, Compact, \\n]</td>\n",
       "    </tr>\n",
       "    <tr>\n",
       "      <th>6573</th>\n",
       "      <td>Station wagon</td>\n",
       "      <td>[\\n, Station wagon, \\n]</td>\n",
       "    </tr>\n",
       "    <tr>\n",
       "      <th>8838</th>\n",
       "      <td>Compact</td>\n",
       "      <td>[\\n, Compact, \\n]</td>\n",
       "    </tr>\n",
       "    <tr>\n",
       "      <th>13676</th>\n",
       "      <td>Compact</td>\n",
       "      <td>[\\n, Compact, \\n]</td>\n",
       "    </tr>\n",
       "    <tr>\n",
       "      <th>14958</th>\n",
       "      <td>Van</td>\n",
       "      <td>[\\n, Van, \\n]</td>\n",
       "    </tr>\n",
       "    <tr>\n",
       "      <th>59</th>\n",
       "      <td>Sedans</td>\n",
       "      <td>[\\n, Sedans, \\n]</td>\n",
       "    </tr>\n",
       "    <tr>\n",
       "      <th>4513</th>\n",
       "      <td>Sedans</td>\n",
       "      <td>[\\n, Sedans, \\n]</td>\n",
       "    </tr>\n",
       "    <tr>\n",
       "      <th>1965</th>\n",
       "      <td>Sedans</td>\n",
       "      <td>[\\n, Sedans, \\n]</td>\n",
       "    </tr>\n",
       "    <tr>\n",
       "      <th>7079</th>\n",
       "      <td>Station wagon</td>\n",
       "      <td>[\\n, Station wagon, \\n]</td>\n",
       "    </tr>\n",
       "    <tr>\n",
       "      <th>13084</th>\n",
       "      <td>Sedans</td>\n",
       "      <td>[\\n, Sedans, \\n]</td>\n",
       "    </tr>\n",
       "    <tr>\n",
       "      <th>137</th>\n",
       "      <td>Compact</td>\n",
       "      <td>[\\n, Compact, \\n]</td>\n",
       "    </tr>\n",
       "    <tr>\n",
       "      <th>9477</th>\n",
       "      <td>Compact</td>\n",
       "      <td>[\\n, Compact, \\n]</td>\n",
       "    </tr>\n",
       "    <tr>\n",
       "      <th>4366</th>\n",
       "      <td>Sedans</td>\n",
       "      <td>[\\n, Sedans, \\n]</td>\n",
       "    </tr>\n",
       "    <tr>\n",
       "      <th>14351</th>\n",
       "      <td>Other</td>\n",
       "      <td>[\\n, Other, \\n]</td>\n",
       "    </tr>\n",
       "    <tr>\n",
       "      <th>15592</th>\n",
       "      <td>Van</td>\n",
       "      <td>[\\n, Van, \\n]</td>\n",
       "    </tr>\n",
       "    <tr>\n",
       "      <th>12489</th>\n",
       "      <td>Sedans</td>\n",
       "      <td>[\\n, Sedans, \\n]</td>\n",
       "    </tr>\n",
       "  </tbody>\n",
       "</table>\n",
       "</div>"
      ],
      "text/plain": [
       "           body_type                     body\n",
       "5158          Sedans         [\\n, Sedans, \\n]\n",
       "15631            Van            [\\n, Van, \\n]\n",
       "10514  Station wagon  [\\n, Station wagon, \\n]\n",
       "7680   Station wagon  [\\n, Station wagon, \\n]\n",
       "8249         Compact        [\\n, Compact, \\n]\n",
       "6573   Station wagon  [\\n, Station wagon, \\n]\n",
       "8838         Compact        [\\n, Compact, \\n]\n",
       "13676        Compact        [\\n, Compact, \\n]\n",
       "14958            Van            [\\n, Van, \\n]\n",
       "59            Sedans         [\\n, Sedans, \\n]\n",
       "4513          Sedans         [\\n, Sedans, \\n]\n",
       "1965          Sedans         [\\n, Sedans, \\n]\n",
       "7079   Station wagon  [\\n, Station wagon, \\n]\n",
       "13084         Sedans         [\\n, Sedans, \\n]\n",
       "137          Compact        [\\n, Compact, \\n]\n",
       "9477         Compact        [\\n, Compact, \\n]\n",
       "4366          Sedans         [\\n, Sedans, \\n]\n",
       "14351          Other          [\\n, Other, \\n]\n",
       "15592            Van            [\\n, Van, \\n]\n",
       "12489         Sedans         [\\n, Sedans, \\n]"
      ]
     },
     "execution_count": 91,
     "metadata": {},
     "output_type": "execute_result"
    }
   ],
   "source": [
    "df[['body_type', 'body']].sample(20)"
   ]
  },
  {
   "cell_type": "code",
   "execution_count": 92,
   "metadata": {},
   "outputs": [],
   "source": [
    "# Create a function similar to cleann_column that also removes ','\n",
    "def clean_column(series):\n",
    "    series = series.astype(str)\n",
    "    # Strip unwanted characters and replace newlines\n",
    "    return series.str.split(',').str[1].str.strip(\" \\n[]'\")"
   ]
  },
  {
   "cell_type": "code",
   "execution_count": 93,
   "metadata": {},
   "outputs": [
    {
     "data": {
      "text/plain": [
       "Sedans           7903\n",
       "Station wagon    3553\n",
       "Compact          3153\n",
       "Van               783\n",
       "Other             290\n",
       "Transporter        88\n",
       "NaN                60\n",
       "Off-Road           56\n",
       "Coupe              25\n",
       "Convertible         8\n",
       "Name: body_cleaned, dtype: int64"
      ]
     },
     "execution_count": 93,
     "metadata": {},
     "output_type": "execute_result"
    }
   ],
   "source": [
    "# body_type and 'body' look very similar, clean 'body' and then check\n",
    "df['body_cleaned'] = clean_column(df['body'])\n",
    "df['body_cleaned'].value_counts(dropna =False)"
   ]
  },
  {
   "cell_type": "code",
   "execution_count": 94,
   "metadata": {},
   "outputs": [],
   "source": [
    "# Check body_type\n",
    "df['body_type'].value_counts(dropna = False)\n",
    "# body_type identical to body_cleaned, so keep body_cleaned\n",
    "df = df.drop('body_type', axis = 1)"
   ]
  },
  {
   "cell_type": "markdown",
   "metadata": {},
   "source": [
    "## Compare'bodycolor', 'bodycolororiginal' columns"
   ]
  },
  {
   "cell_type": "code",
   "execution_count": 95,
   "metadata": {},
   "outputs": [],
   "source": [
    "# Clean the bodycolor feature\n",
    "df['bodycolor_cleaned'] = clean_column(df['bodycolor'])\n",
    "df['bodycolor_cleaned'].value_counts(dropna=False)\n",
    "df = df.drop('bodycolor', axis = 1)"
   ]
  },
  {
   "cell_type": "code",
   "execution_count": 96,
   "metadata": {},
   "outputs": [],
   "source": [
    "# Drop the bodycolororiginal column - lots of NaNs and useful information all in 'bodycolor_cleaned' variable now\n",
    "df = df.drop('bodycolororiginal', axis = 1)"
   ]
  },
  {
   "cell_type": "code",
   "execution_count": 97,
   "metadata": {},
   "outputs": [
    {
     "data": {
      "text/plain": [
       "Index(['make_model', 'price', 'vat', 'km', 'registration', 'hp', 'type',\n",
       "       'nextinspection', 'inspectionnew', 'warranty', 'fullservice',\n",
       "       'non-smokingvehicle', 'offernumber', 'firstregistration', 'painttype',\n",
       "       'upholstery', 'body', 'nrofdoors', 'nrofseats', 'modelcode',\n",
       "       'gearingtype', 'displacement', 'cylinders', 'weight', 'drivechain',\n",
       "       'fuel', 'consumption', 'comfort_convenience', 'entertainment_media',\n",
       "       'extras', 'safety_security', 'gears', 'countryversion',\n",
       "       'previous_owners_cleaned', 'co2emission_cleaned_gCO2/km',\n",
       "       'emissionlabel_cleaned', 'emissionclass_cleaned', 'body_cleaned',\n",
       "       'bodycolor_cleaned'],\n",
       "      dtype='object')"
      ]
     },
     "execution_count": 97,
     "metadata": {},
     "output_type": "execute_result"
    }
   ],
   "source": [
    "df.columns"
   ]
  },
  {
   "cell_type": "markdown",
   "metadata": {},
   "source": [
    "** Look at price (target variable?) and vat columns\n"
   ]
  },
  {
   "cell_type": "code",
   "execution_count": 98,
   "metadata": {},
   "outputs": [
    {
     "data": {
      "text/plain": [
       "<AxesSubplot: >"
      ]
     },
     "execution_count": 98,
     "metadata": {},
     "output_type": "execute_result"
    },
    {
     "data": {
      "image/png": "[encoded data removed]",
      "text/plain": [
       "<Figure size 640x480 with 1 Axes>"
      ]
     },
     "metadata": {},
     "output_type": "display_data"
    }
   ],
   "source": [
    "sns.boxplot(df['price'])"
   ]
  },
  {
   "cell_type": "code",
   "execution_count": 99,
   "metadata": {},
   "outputs": [
    {
     "data": {
      "text/plain": [
       "VAT deductible      10980\n",
       "None                 4513\n",
       "Price negotiable      426\n",
       "Name: vat, dtype: int64"
      ]
     },
     "execution_count": 99,
     "metadata": {},
     "output_type": "execute_result"
    }
   ],
   "source": [
    "df['vat'].value_counts(dropna= False)"
   ]
  },
  {
   "cell_type": "markdown",
   "metadata": {},
   "source": [
    "## km column"
   ]
  },
  {
   "cell_type": "code",
   "execution_count": 100,
   "metadata": {},
   "outputs": [
    {
     "data": {
      "text/plain": [
       "10 km        1045\n",
       "- km         1024\n",
       "1 km          367\n",
       "5 km          170\n",
       "50 km         148\n",
       "             ... \n",
       "67,469 km       1\n",
       "43,197 km       1\n",
       "10,027 km       1\n",
       "35,882 km       1\n",
       "57 km           1\n",
       "Name: km, Length: 6690, dtype: int64"
      ]
     },
     "execution_count": 100,
     "metadata": {},
     "output_type": "execute_result"
    }
   ],
   "source": [
    "df['km'].value_counts(dropna= False)"
   ]
  },
  {
   "cell_type": "code",
   "execution_count": 101,
   "metadata": {},
   "outputs": [],
   "source": [
    "# drop 'km' and convert to integer\n",
    "df['km'] = df['km'].str.replace(' km','').str.replace(',','').str.replace('-','')\n",
    "df['km_cleaned'] = pd.to_numeric(df['km']).astype('Int64')\n",
    "df['km_cleaned'].sample(10)\n",
    "\n",
    "df = df.drop('km', axis = 1)\n"
   ]
  },
  {
   "cell_type": "code",
   "execution_count": 102,
   "metadata": {},
   "outputs": [],
   "source": [
    "## VAT column"
   ]
  },
  {
   "cell_type": "code",
   "execution_count": 103,
   "metadata": {},
   "outputs": [
    {
     "data": {
      "text/plain": [
       "VAT deductible      10980\n",
       "None                 4513\n",
       "Price negotiable      426\n",
       "Name: vat, dtype: int64"
      ]
     },
     "execution_count": 103,
     "metadata": {},
     "output_type": "execute_result"
    }
   ],
   "source": [
    "df['vat'].value_counts(dropna = False)"
   ]
  },
  {
   "cell_type": "code",
   "execution_count": 104,
   "metadata": {},
   "outputs": [],
   "source": [
    "# Convert 'None' to np.NaN\n",
    "df['vat_cleaned'] = df['vat'].replace([None, 'None', ' None', ' None '], np.nan)\n",
    "df = df.drop('vat', axis = 1)"
   ]
  },
  {
   "cell_type": "markdown",
   "metadata": {},
   "source": [
    "## Registration column"
   ]
  },
  {
   "cell_type": "code",
   "execution_count": 105,
   "metadata": {},
   "outputs": [],
   "source": [
    "df['registration'].value_counts(dropna = False)\n",
    "# Convert -/- to np.nan\n",
    "df['registration'] = df['registration'].replace('-/-', np.nan)"
   ]
  },
  {
   "cell_type": "code",
   "execution_count": 106,
   "metadata": {},
   "outputs": [],
   "source": [
    "# convert feature to datetime data type\n",
    "df['registration_cleaned'] = pd.to_datetime(df['registration'])\n",
    "df = df.drop('registration', axis = 1)"
   ]
  },
  {
   "cell_type": "code",
   "execution_count": 107,
   "metadata": {},
   "outputs": [
    {
     "data": {
      "text/plain": [
       "0       2016-01-01\n",
       "1       2017-03-01\n",
       "2       2016-02-01\n",
       "3       2016-08-01\n",
       "4       2016-05-01\n",
       "           ...    \n",
       "15914          NaT\n",
       "15915   2019-01-01\n",
       "15916   2019-03-01\n",
       "15917   2019-06-01\n",
       "15918   2019-01-01\n",
       "Name: registration_cleaned, Length: 15919, dtype: datetime64[ns]"
      ]
     },
     "execution_count": 107,
     "metadata": {},
     "output_type": "execute_result"
    }
   ],
   "source": [
    "#compare with firstregistration column\n",
    "df.firstregistration.value_counts(dropna = False)\n",
    "df.registration_cleaned"
   ]
  },
  {
   "cell_type": "code",
   "execution_count": 108,
   "metadata": {},
   "outputs": [
    {
     "data": {
      "text/plain": [
       "2016.0    3674\n",
       "2017.0    3273\n",
       "2018.0    4522\n",
       "2019.0    2853\n",
       "Name: registration_cleaned, dtype: int64"
      ]
     },
     "execution_count": 108,
     "metadata": {},
     "output_type": "execute_result"
    }
   ],
   "source": [
    "# registration_cleaned has more info that firstregistration, just make sure year counts are same across both\n",
    "df['registration_cleaned'].dt.year.value_counts().sort_index()"
   ]
  },
  {
   "cell_type": "code",
   "execution_count": 109,
   "metadata": {},
   "outputs": [
    {
     "data": {
      "text/html": [
       "<div>\n",
       "<style scoped>\n",
       "    .dataframe tbody tr th:only-of-type {\n",
       "        vertical-align: middle;\n",
       "    }\n",
       "\n",
       "    .dataframe tbody tr th {\n",
       "        vertical-align: top;\n",
       "    }\n",
       "\n",
       "    .dataframe thead th {\n",
       "        text-align: right;\n",
       "    }\n",
       "</style>\n",
       "<table border=\"1\" class=\"dataframe\">\n",
       "  <thead>\n",
       "    <tr style=\"text-align: right;\">\n",
       "      <th></th>\n",
       "      <th>make_model</th>\n",
       "      <th>price</th>\n",
       "      <th>hp</th>\n",
       "      <th>type</th>\n",
       "      <th>nextinspection</th>\n",
       "      <th>inspectionnew</th>\n",
       "      <th>warranty</th>\n",
       "      <th>fullservice</th>\n",
       "      <th>non-smokingvehicle</th>\n",
       "      <th>offernumber</th>\n",
       "      <th>...</th>\n",
       "      <th>countryversion</th>\n",
       "      <th>previous_owners_cleaned</th>\n",
       "      <th>co2emission_cleaned_gCO2/km</th>\n",
       "      <th>emissionlabel_cleaned</th>\n",
       "      <th>emissionclass_cleaned</th>\n",
       "      <th>body_cleaned</th>\n",
       "      <th>bodycolor_cleaned</th>\n",
       "      <th>km_cleaned</th>\n",
       "      <th>vat_cleaned</th>\n",
       "      <th>registration_cleaned</th>\n",
       "    </tr>\n",
       "  </thead>\n",
       "  <tbody>\n",
       "    <tr>\n",
       "      <th>0</th>\n",
       "      <td>Audi A1</td>\n",
       "      <td>15770</td>\n",
       "      <td>66 kW</td>\n",
       "      <td>[, Used, , Diesel (Particulate Filter)]</td>\n",
       "      <td>[\\n06/2021\\n, \\n99 g CO2/km (comb)\\n]</td>\n",
       "      <td>[\\nYes\\n, \\nEuro 6\\n]</td>\n",
       "      <td>[\\n, \\n, \\n4 (Green)\\n]</td>\n",
       "      <td>[\\n, \\n]</td>\n",
       "      <td>[\\n, \\n]</td>\n",
       "      <td>[\\nLR-062483\\n]</td>\n",
       "      <td>...</td>\n",
       "      <td>NaN</td>\n",
       "      <td>2</td>\n",
       "      <td>992.0</td>\n",
       "      <td>NaN</td>\n",
       "      <td>' 6'</td>\n",
       "      <td>Sedans</td>\n",
       "      <td>Black</td>\n",
       "      <td>56013</td>\n",
       "      <td>VAT deductible</td>\n",
       "      <td>2016-01-01</td>\n",
       "    </tr>\n",
       "    <tr>\n",
       "      <th>1</th>\n",
       "      <td>Audi A1</td>\n",
       "      <td>14500</td>\n",
       "      <td>141 kW</td>\n",
       "      <td>[, Used, , Gasoline]</td>\n",
       "      <td>NaN</td>\n",
       "      <td>NaN</td>\n",
       "      <td>NaN</td>\n",
       "      <td>NaN</td>\n",
       "      <td>NaN</td>\n",
       "      <td>NaN</td>\n",
       "      <td>...</td>\n",
       "      <td>NaN</td>\n",
       "      <td>NaN</td>\n",
       "      <td>1292.0</td>\n",
       "      <td>Green</td>\n",
       "      <td>' 6'</td>\n",
       "      <td>Sedans</td>\n",
       "      <td>Red</td>\n",
       "      <td>80000</td>\n",
       "      <td>Price negotiable</td>\n",
       "      <td>2017-03-01</td>\n",
       "    </tr>\n",
       "    <tr>\n",
       "      <th>2</th>\n",
       "      <td>Audi A1</td>\n",
       "      <td>14640</td>\n",
       "      <td>85 kW</td>\n",
       "      <td>[, Used, , Diesel (Particulate Filter)]</td>\n",
       "      <td>NaN</td>\n",
       "      <td>NaN</td>\n",
       "      <td>[\\n, \\n, \\n99 g CO2/km (comb)\\n]</td>\n",
       "      <td>NaN</td>\n",
       "      <td>NaN</td>\n",
       "      <td>[\\nAM-95365\\n]</td>\n",
       "      <td>...</td>\n",
       "      <td>NaN</td>\n",
       "      <td>1</td>\n",
       "      <td>992.0</td>\n",
       "      <td>Green</td>\n",
       "      <td>' 6'</td>\n",
       "      <td>Sedans</td>\n",
       "      <td>Black</td>\n",
       "      <td>83450</td>\n",
       "      <td>VAT deductible</td>\n",
       "      <td>2016-02-01</td>\n",
       "    </tr>\n",
       "    <tr>\n",
       "      <th>3</th>\n",
       "      <td>Audi A1</td>\n",
       "      <td>14500</td>\n",
       "      <td>66 kW</td>\n",
       "      <td>[, Used, , Diesel (Particulate Filter)]</td>\n",
       "      <td>NaN</td>\n",
       "      <td>NaN</td>\n",
       "      <td>NaN</td>\n",
       "      <td>[\\n, \\n, \\n99 g CO2/km (comb)\\n]</td>\n",
       "      <td>[\\n, \\n, \\nEuro 6\\n]</td>\n",
       "      <td>NaN</td>\n",
       "      <td>...</td>\n",
       "      <td>NaN</td>\n",
       "      <td>1</td>\n",
       "      <td>992.0</td>\n",
       "      <td>NaN</td>\n",
       "      <td>' 6'</td>\n",
       "      <td>Sedans</td>\n",
       "      <td>Brown</td>\n",
       "      <td>73000</td>\n",
       "      <td>NaN</td>\n",
       "      <td>2016-08-01</td>\n",
       "    </tr>\n",
       "    <tr>\n",
       "      <th>4</th>\n",
       "      <td>Audi A1</td>\n",
       "      <td>16790</td>\n",
       "      <td>66 kW</td>\n",
       "      <td>[, Used, , Diesel (Particulate Filter)]</td>\n",
       "      <td>NaN</td>\n",
       "      <td>[\\nYes\\n, \\n109 g CO2/km (comb)\\n]</td>\n",
       "      <td>[\\n, \\n, \\nEuro 6\\n]</td>\n",
       "      <td>[\\n, \\n, \\n4 (Green)\\n]</td>\n",
       "      <td>[\\n, \\n]</td>\n",
       "      <td>[\\nC1626\\n]</td>\n",
       "      <td>...</td>\n",
       "      <td>[\\nGermany\\n]</td>\n",
       "      <td>1</td>\n",
       "      <td>1092.0</td>\n",
       "      <td>NaN</td>\n",
       "      <td>' 6'</td>\n",
       "      <td>Sedans</td>\n",
       "      <td>Black</td>\n",
       "      <td>16200</td>\n",
       "      <td>NaN</td>\n",
       "      <td>2016-05-01</td>\n",
       "    </tr>\n",
       "    <tr>\n",
       "      <th>...</th>\n",
       "      <td>...</td>\n",
       "      <td>...</td>\n",
       "      <td>...</td>\n",
       "      <td>...</td>\n",
       "      <td>...</td>\n",
       "      <td>...</td>\n",
       "      <td>...</td>\n",
       "      <td>...</td>\n",
       "      <td>...</td>\n",
       "      <td>...</td>\n",
       "      <td>...</td>\n",
       "      <td>...</td>\n",
       "      <td>...</td>\n",
       "      <td>...</td>\n",
       "      <td>...</td>\n",
       "      <td>...</td>\n",
       "      <td>...</td>\n",
       "      <td>...</td>\n",
       "      <td>...</td>\n",
       "      <td>...</td>\n",
       "      <td>...</td>\n",
       "    </tr>\n",
       "    <tr>\n",
       "      <th>15914</th>\n",
       "      <td>Renault Espace</td>\n",
       "      <td>39950</td>\n",
       "      <td>147 kW</td>\n",
       "      <td>[, New, , Diesel (Particulate Filter)]</td>\n",
       "      <td>NaN</td>\n",
       "      <td>NaN</td>\n",
       "      <td>\\n24 months\\n</td>\n",
       "      <td>NaN</td>\n",
       "      <td>NaN</td>\n",
       "      <td>[\\n10988301\\n]</td>\n",
       "      <td>...</td>\n",
       "      <td>NaN</td>\n",
       "      <td>NaN</td>\n",
       "      <td>1392.0</td>\n",
       "      <td>NaN</td>\n",
       "      <td>NaN</td>\n",
       "      <td>Van</td>\n",
       "      <td>Grey</td>\n",
       "      <td>&lt;NA&gt;</td>\n",
       "      <td>VAT deductible</td>\n",
       "      <td>NaT</td>\n",
       "    </tr>\n",
       "    <tr>\n",
       "      <th>15915</th>\n",
       "      <td>Renault Espace</td>\n",
       "      <td>39885</td>\n",
       "      <td>165 kW</td>\n",
       "      <td>[, Used, , Super 95 / Super Plus 98 (Particula...</td>\n",
       "      <td>[\\n01/2022\\n, \\n168 g CO2/km (comb)\\n]</td>\n",
       "      <td>NaN</td>\n",
       "      <td>[\\n, \\n, \\nEuro 6\\n]</td>\n",
       "      <td>NaN</td>\n",
       "      <td>[\\n, \\n, \\n4 (Green)\\n]</td>\n",
       "      <td>[\\n507370_3223\\n]</td>\n",
       "      <td>...</td>\n",
       "      <td>[\\nGermany\\n]</td>\n",
       "      <td>1</td>\n",
       "      <td>1682.0</td>\n",
       "      <td>NaN</td>\n",
       "      <td>NaN</td>\n",
       "      <td>Van</td>\n",
       "      <td>Grey</td>\n",
       "      <td>9900</td>\n",
       "      <td>VAT deductible</td>\n",
       "      <td>2019-01-01</td>\n",
       "    </tr>\n",
       "    <tr>\n",
       "      <th>15916</th>\n",
       "      <td>Renault Espace</td>\n",
       "      <td>39875</td>\n",
       "      <td>146 kW</td>\n",
       "      <td>[, Pre-registered, , Diesel]</td>\n",
       "      <td>NaN</td>\n",
       "      <td>[\\nYes\\n, \\nEuro 6d-TEMP\\n]</td>\n",
       "      <td>[\\n, \\n, \\n4 (Green)\\n]</td>\n",
       "      <td>[\\n, \\n]</td>\n",
       "      <td>[\\n, \\n]</td>\n",
       "      <td>[\\nEspace16\\n]</td>\n",
       "      <td>...</td>\n",
       "      <td>[\\nAustria\\n]</td>\n",
       "      <td>1</td>\n",
       "      <td>1392.0</td>\n",
       "      <td>NaN</td>\n",
       "      <td>' 6d'</td>\n",
       "      <td>Van</td>\n",
       "      <td>White</td>\n",
       "      <td>15</td>\n",
       "      <td>VAT deductible</td>\n",
       "      <td>2019-03-01</td>\n",
       "    </tr>\n",
       "    <tr>\n",
       "      <th>15917</th>\n",
       "      <td>Renault Espace</td>\n",
       "      <td>39700</td>\n",
       "      <td>147 kW</td>\n",
       "      <td>[, Pre-registered, , Diesel]</td>\n",
       "      <td>NaN</td>\n",
       "      <td>NaN</td>\n",
       "      <td>\\n</td>\n",
       "      <td>NaN</td>\n",
       "      <td>NaN</td>\n",
       "      <td>[\\n2691331\\n]</td>\n",
       "      <td>...</td>\n",
       "      <td>NaN</td>\n",
       "      <td>NaN</td>\n",
       "      <td>1392.0</td>\n",
       "      <td>NaN</td>\n",
       "      <td>' 6'</td>\n",
       "      <td>Van</td>\n",
       "      <td>Grey</td>\n",
       "      <td>10</td>\n",
       "      <td>VAT deductible</td>\n",
       "      <td>2019-06-01</td>\n",
       "    </tr>\n",
       "    <tr>\n",
       "      <th>15918</th>\n",
       "      <td>Renault Espace</td>\n",
       "      <td>40999</td>\n",
       "      <td>165 kW</td>\n",
       "      <td>[, Demonstration, , Super 95]</td>\n",
       "      <td>NaN</td>\n",
       "      <td>[\\nYes\\n, \\n153 g CO2/km (comb)\\n]</td>\n",
       "      <td>NaN</td>\n",
       "      <td>NaN</td>\n",
       "      <td>NaN</td>\n",
       "      <td>[\\nRe_30000008029\\n]</td>\n",
       "      <td>...</td>\n",
       "      <td>[\\nGermany\\n]</td>\n",
       "      <td>1</td>\n",
       "      <td>1532.0</td>\n",
       "      <td>Green</td>\n",
       "      <td>' 6'</td>\n",
       "      <td>Van</td>\n",
       "      <td>Grey</td>\n",
       "      <td>&lt;NA&gt;</td>\n",
       "      <td>VAT deductible</td>\n",
       "      <td>2019-01-01</td>\n",
       "    </tr>\n",
       "  </tbody>\n",
       "</table>\n",
       "<p>15919 rows × 38 columns</p>\n",
       "</div>"
      ],
      "text/plain": [
       "           make_model  price      hp  \\\n",
       "0             Audi A1  15770   66 kW   \n",
       "1             Audi A1  14500  141 kW   \n",
       "2             Audi A1  14640   85 kW   \n",
       "3             Audi A1  14500   66 kW   \n",
       "4             Audi A1  16790   66 kW   \n",
       "...               ...    ...     ...   \n",
       "15914  Renault Espace  39950  147 kW   \n",
       "15915  Renault Espace  39885  165 kW   \n",
       "15916  Renault Espace  39875  146 kW   \n",
       "15917  Renault Espace  39700  147 kW   \n",
       "15918  Renault Espace  40999  165 kW   \n",
       "\n",
       "                                                    type  \\\n",
       "0                [, Used, , Diesel (Particulate Filter)]   \n",
       "1                                   [, Used, , Gasoline]   \n",
       "2                [, Used, , Diesel (Particulate Filter)]   \n",
       "3                [, Used, , Diesel (Particulate Filter)]   \n",
       "4                [, Used, , Diesel (Particulate Filter)]   \n",
       "...                                                  ...   \n",
       "15914             [, New, , Diesel (Particulate Filter)]   \n",
       "15915  [, Used, , Super 95 / Super Plus 98 (Particula...   \n",
       "15916                       [, Pre-registered, , Diesel]   \n",
       "15917                       [, Pre-registered, , Diesel]   \n",
       "15918                      [, Demonstration, , Super 95]   \n",
       "\n",
       "                               nextinspection  \\\n",
       "0       [\\n06/2021\\n, \\n99 g CO2/km (comb)\\n]   \n",
       "1                                         NaN   \n",
       "2                                         NaN   \n",
       "3                                         NaN   \n",
       "4                                         NaN   \n",
       "...                                       ...   \n",
       "15914                                     NaN   \n",
       "15915  [\\n01/2022\\n, \\n168 g CO2/km (comb)\\n]   \n",
       "15916                                     NaN   \n",
       "15917                                     NaN   \n",
       "15918                                     NaN   \n",
       "\n",
       "                            inspectionnew                          warranty  \\\n",
       "0                   [\\nYes\\n, \\nEuro 6\\n]           [\\n, \\n, \\n4 (Green)\\n]   \n",
       "1                                     NaN                               NaN   \n",
       "2                                     NaN  [\\n, \\n, \\n99 g CO2/km (comb)\\n]   \n",
       "3                                     NaN                               NaN   \n",
       "4      [\\nYes\\n, \\n109 g CO2/km (comb)\\n]              [\\n, \\n, \\nEuro 6\\n]   \n",
       "...                                   ...                               ...   \n",
       "15914                                 NaN                     \\n24 months\\n   \n",
       "15915                                 NaN              [\\n, \\n, \\nEuro 6\\n]   \n",
       "15916         [\\nYes\\n, \\nEuro 6d-TEMP\\n]           [\\n, \\n, \\n4 (Green)\\n]   \n",
       "15917                                 NaN                                \\n   \n",
       "15918  [\\nYes\\n, \\n153 g CO2/km (comb)\\n]                               NaN   \n",
       "\n",
       "                            fullservice       non-smokingvehicle  \\\n",
       "0                              [\\n, \\n]                 [\\n, \\n]   \n",
       "1                                   NaN                      NaN   \n",
       "2                                   NaN                      NaN   \n",
       "3      [\\n, \\n, \\n99 g CO2/km (comb)\\n]     [\\n, \\n, \\nEuro 6\\n]   \n",
       "4               [\\n, \\n, \\n4 (Green)\\n]                 [\\n, \\n]   \n",
       "...                                 ...                      ...   \n",
       "15914                               NaN                      NaN   \n",
       "15915                               NaN  [\\n, \\n, \\n4 (Green)\\n]   \n",
       "15916                          [\\n, \\n]                 [\\n, \\n]   \n",
       "15917                               NaN                      NaN   \n",
       "15918                               NaN                      NaN   \n",
       "\n",
       "                offernumber  ... countryversion previous_owners_cleaned  \\\n",
       "0           [\\nLR-062483\\n]  ...            NaN                       2   \n",
       "1                       NaN  ...            NaN                     NaN   \n",
       "2            [\\nAM-95365\\n]  ...            NaN                       1   \n",
       "3                       NaN  ...            NaN                       1   \n",
       "4               [\\nC1626\\n]  ...  [\\nGermany\\n]                       1   \n",
       "...                     ...  ...            ...                     ...   \n",
       "15914        [\\n10988301\\n]  ...            NaN                     NaN   \n",
       "15915     [\\n507370_3223\\n]  ...  [\\nGermany\\n]                       1   \n",
       "15916        [\\nEspace16\\n]  ...  [\\nAustria\\n]                       1   \n",
       "15917         [\\n2691331\\n]  ...            NaN                     NaN   \n",
       "15918  [\\nRe_30000008029\\n]  ...  [\\nGermany\\n]                       1   \n",
       "\n",
       "      co2emission_cleaned_gCO2/km emissionlabel_cleaned emissionclass_cleaned  \\\n",
       "0                           992.0                   NaN                  ' 6'   \n",
       "1                          1292.0                 Green                  ' 6'   \n",
       "2                           992.0                 Green                  ' 6'   \n",
       "3                           992.0                   NaN                  ' 6'   \n",
       "4                          1092.0                   NaN                  ' 6'   \n",
       "...                           ...                   ...                   ...   \n",
       "15914                      1392.0                   NaN                   NaN   \n",
       "15915                      1682.0                   NaN                   NaN   \n",
       "15916                      1392.0                   NaN                 ' 6d'   \n",
       "15917                      1392.0                   NaN                  ' 6'   \n",
       "15918                      1532.0                 Green                  ' 6'   \n",
       "\n",
       "      body_cleaned bodycolor_cleaned km_cleaned       vat_cleaned  \\\n",
       "0           Sedans             Black      56013    VAT deductible   \n",
       "1           Sedans               Red      80000  Price negotiable   \n",
       "2           Sedans             Black      83450    VAT deductible   \n",
       "3           Sedans             Brown      73000               NaN   \n",
       "4           Sedans             Black      16200               NaN   \n",
       "...            ...               ...        ...               ...   \n",
       "15914          Van              Grey       <NA>    VAT deductible   \n",
       "15915          Van              Grey       9900    VAT deductible   \n",
       "15916          Van             White         15    VAT deductible   \n",
       "15917          Van              Grey         10    VAT deductible   \n",
       "15918          Van              Grey       <NA>    VAT deductible   \n",
       "\n",
       "      registration_cleaned  \n",
       "0               2016-01-01  \n",
       "1               2017-03-01  \n",
       "2               2016-02-01  \n",
       "3               2016-08-01  \n",
       "4               2016-05-01  \n",
       "...                    ...  \n",
       "15914                  NaT  \n",
       "15915           2019-01-01  \n",
       "15916           2019-03-01  \n",
       "15917           2019-06-01  \n",
       "15918           2019-01-01  \n",
       "\n",
       "[15919 rows x 38 columns]"
      ]
     },
     "execution_count": 109,
     "metadata": {},
     "output_type": "execute_result"
    }
   ],
   "source": [
    "df.drop('firstregistration', axis = 1)"
   ]
  },
  {
   "cell_type": "markdown",
   "metadata": {},
   "source": [
    "# hp column"
   ]
  },
  {
   "cell_type": "code",
   "execution_count": 110,
   "metadata": {},
   "outputs": [
    {
     "data": {
      "text/plain": [
       "85 kW     2542\n",
       "66 kW     2122\n",
       "81 kW     1402\n",
       "100 kW    1308\n",
       "110 kW    1112\n",
       "          ... \n",
       "84 kW        1\n",
       "195 kW       1\n",
       "44 kW        1\n",
       "239 kW       1\n",
       "9 kW         1\n",
       "Name: hp, Length: 81, dtype: int64"
      ]
     },
     "execution_count": 110,
     "metadata": {},
     "output_type": "execute_result"
    }
   ],
   "source": [
    "df.hp.value_counts(dropna = False)"
   ]
  },
  {
   "cell_type": "code",
   "execution_count": 111,
   "metadata": {},
   "outputs": [],
   "source": [
    "#drop kW, add unit to column name and make into Int64 dtype\n",
    "df['hp_kW_cleaned'] = df['hp'].str.replace('kW', '').str.replace('- ', '')\n",
    "df['hp_kW_cleaned'] = pd.to_numeric(df['hp_kW_cleaned']).astype('Int64')\n",
    "# Replace pd.NA with np.nan\n",
    "df['hp_kW_cleaned'] = df['hp_kW_cleaned'].replace('<NA>', np.nan)\n",
    "df = df.drop('hp', axis = 1)"
   ]
  },
  {
   "cell_type": "code",
   "execution_count": 112,
   "metadata": {},
   "outputs": [
    {
     "data": {
      "text/plain": [
       "Index(['make_model', 'price', 'type', 'nextinspection', 'inspectionnew',\n",
       "       'warranty', 'fullservice', 'non-smokingvehicle', 'offernumber',\n",
       "       'firstregistration', 'painttype', 'upholstery', 'body', 'nrofdoors',\n",
       "       'nrofseats', 'modelcode', 'gearingtype', 'displacement', 'cylinders',\n",
       "       'weight', 'drivechain', 'fuel', 'consumption', 'comfort_convenience',\n",
       "       'entertainment_media', 'extras', 'safety_security', 'gears',\n",
       "       'countryversion', 'previous_owners_cleaned',\n",
       "       'co2emission_cleaned_gCO2/km', 'emissionlabel_cleaned',\n",
       "       'emissionclass_cleaned', 'body_cleaned', 'bodycolor_cleaned',\n",
       "       'km_cleaned', 'vat_cleaned', 'registration_cleaned', 'hp_kW_cleaned'],\n",
       "      dtype='object')"
      ]
     },
     "execution_count": 112,
     "metadata": {},
     "output_type": "execute_result"
    }
   ],
   "source": [
    "df.columns"
   ]
  },
  {
   "cell_type": "markdown",
   "metadata": {},
   "source": [
    "## nextinspection and inspectionnew columns"
   ]
  },
  {
   "cell_type": "code",
   "execution_count": 113,
   "metadata": {},
   "outputs": [
    {
     "data": {
      "text/plain": [
       "\\n04/2022\\n                               62\n",
       "\\n03/2021\\n                               38\n",
       "\\n03/2022\\n                               36\n",
       "\\n06/2021\\n                               34\n",
       "\\n01/2022\\n                               32\n",
       "                                          ..\n",
       "[\\n12/2018\\n, \\n97 g CO2/km (comb)\\n]      1\n",
       "[\\n03/2022\\n, \\n1 (No sticker)\\n]          1\n",
       "[\\n05/2021\\n, \\n93 g CO2/km (comb)\\n]      1\n",
       "[\\n06/2021\\n, \\n93 g CO2/km (comb)\\n]      1\n",
       "[\\n01/2022\\n, \\n168 g CO2/km (comb)\\n]     1\n",
       "Name: nextinspection, Length: 1399, dtype: int64"
      ]
     },
     "execution_count": 113,
     "metadata": {},
     "output_type": "execute_result"
    }
   ],
   "source": [
    "df['nextinspection'].value_counts()"
   ]
  },
  {
   "cell_type": "code",
   "execution_count": 114,
   "metadata": {},
   "outputs": [],
   "source": [
    "# Extract MM/YYYY pattern\n",
    "df['nextinspection_cleaned'] = df['nextinspection'].str.extract(r'(\\d{2}/\\d{4})')\n",
    "# Convert to datetime\n",
    "df['nextinspection_cleaned'] = pd.to_datetime(df['nextinspection_cleaned'], format='%m/%Y', errors='coerce')\n",
    "df.nextinspection_cleaned.value_counts(dropna = False) # Looks like quite a lot of NaTs?\n",
    "df = df.drop('nextinspection', axis = 1)\n"
   ]
  },
  {
   "cell_type": "code",
   "execution_count": 115,
   "metadata": {},
   "outputs": [],
   "source": [
    "df.inspectionnew.value_counts(dropna = False) # doesn't look like this column contains any useful info, all are either NaN or 'Yes', emission info elsewhere\n",
    "df = df.drop('inspectionnew', axis = 1)"
   ]
  },
  {
   "cell_type": "markdown",
   "metadata": {},
   "source": [
    "## Type column"
   ]
  },
  {
   "cell_type": "code",
   "execution_count": 116,
   "metadata": {},
   "outputs": [],
   "source": [
    "df.type.value_counts(dropna = False)\n",
    "# type column appears to have two pieces of info - whether the car is new or used, and what fuel it uses. Both useful for our model, so split into two columns: 'type' and 'fuel'\n",
    "# Create new 'type_cleaned' containing element [1] from each row\n",
    "df['type_cleaned'] = df['type'].apply(lambda x: x[1] if isinstance(x, list) else np.nan)"
   ]
  },
  {
   "cell_type": "code",
   "execution_count": 117,
   "metadata": {},
   "outputs": [
    {
     "data": {
      "text/plain": [
       "Diesel (Particulate Filter)                                                                                  4315\n",
       "Super 95                                                                                                     3338\n",
       "Gasoline                                                                                                     3175\n",
       "Diesel                                                                                                       2982\n",
       "Super 95 / Regular/Benzine 91                                                                                 424\n",
       "                                                                                                             ... \n",
       "Regular/Benzine 91 / Super 95 / Regular/Benzine E10 91                                                          1\n",
       "Super Plus 98 / Super E10 95                                                                                    1\n",
       "Super 95 / Regular/Benzine 91 / Super Plus 98 / Regular/Benzine E10 91 / Super Plus E10 98 / Super E10 95       1\n",
       "Regular/Benzine 91 / Super Plus 98 / Regular/Benzine E10 91 / Super 95 / Super E10 95 / Super Plus E10 98       1\n",
       "Super Plus 98 / Super 95 / Super Plus E10 98                                                                    1\n",
       "Name: fuel, Length: 78, dtype: int64"
      ]
     },
     "execution_count": 117,
     "metadata": {},
     "output_type": "execute_result"
    }
   ],
   "source": [
    "# Create new column 'fuel' containing element[3] from each list \n",
    "df['fuel'] = df['type'].apply(lambda x: x[3] if isinstance(x, list) else np.nan)\n",
    "df['fuel'].value_counts(dropna = False)"
   ]
  },
  {
   "cell_type": "code",
   "execution_count": 118,
   "metadata": {},
   "outputs": [
    {
     "data": {
      "text/plain": [
       "0                                [\\n, \\n]\n",
       "1                                     NaN\n",
       "2                                     NaN\n",
       "3        [\\n, \\n, \\n99 g CO2/km (comb)\\n]\n",
       "4                 [\\n, \\n, \\n4 (Green)\\n]\n",
       "                       ...               \n",
       "15914                                 NaN\n",
       "15915                                 NaN\n",
       "15916                            [\\n, \\n]\n",
       "15917                                 NaN\n",
       "15918                                 NaN\n",
       "Name: fullservice, Length: 15919, dtype: object"
      ]
     },
     "execution_count": 118,
     "metadata": {},
     "output_type": "execute_result"
    }
   ],
   "source": [
    "df.fullservice"
   ]
  },
  {
   "cell_type": "code",
   "execution_count": 119,
   "metadata": {},
   "outputs": [
    {
     "data": {
      "text/plain": [
       "Index(['make_model', 'price', 'type', 'warranty', 'fullservice',\n",
       "       'non-smokingvehicle', 'offernumber', 'firstregistration', 'painttype',\n",
       "       'upholstery', 'body', 'nrofdoors', 'nrofseats', 'modelcode',\n",
       "       'gearingtype', 'displacement', 'cylinders', 'weight', 'drivechain',\n",
       "       'fuel', 'consumption', 'comfort_convenience', 'entertainment_media',\n",
       "       'extras', 'safety_security', 'gears', 'countryversion',\n",
       "       'previous_owners_cleaned', 'co2emission_cleaned_gCO2/km',\n",
       "       'emissionlabel_cleaned', 'emissionclass_cleaned', 'body_cleaned',\n",
       "       'bodycolor_cleaned', 'km_cleaned', 'vat_cleaned',\n",
       "       'registration_cleaned', 'hp_kW_cleaned', 'nextinspection_cleaned',\n",
       "       'type_cleaned'],\n",
       "      dtype='object')"
      ]
     },
     "execution_count": 119,
     "metadata": {},
     "output_type": "execute_result"
    }
   ],
   "source": [
    "df.columns"
   ]
  },
  {
   "cell_type": "markdown",
   "metadata": {},
   "source": [
    "## offernumber column"
   ]
  },
  {
   "cell_type": "code",
   "execution_count": 123,
   "metadata": {},
   "outputs": [
    {
     "data": {
      "text/plain": [
       "NaN                                               3175\n",
       "[\\nLT67679\\n]                                       27\n",
       "[\\nUN89904\\n]                                       27\n",
       "[\\nXJ38068\\n]                                       27\n",
       "[\\nJV03654\\n]                                       27\n",
       "                                                  ... \n",
       "[\\n160_dcbb6c3e-a6da-43a3-8754-ccd994cec93b\\n]       1\n",
       "[\\n6701576\\n]                                        1\n",
       "[\\n6701569\\n]                                        1\n",
       "[\\n158121\\n]                                         1\n",
       "[\\nRe_30000008029\\n]                                 1\n",
       "Name: offernumber, Length: 11441, dtype: int64"
      ]
     },
     "execution_count": 123,
     "metadata": {},
     "output_type": "execute_result"
    }
   ],
   "source": [
    "df.offernumber.value_counts(dropna = False)"
   ]
  },
  {
   "cell_type": "code",
   "execution_count": 122,
   "metadata": {},
   "outputs": [
    {
     "data": {
      "text/plain": [
       "a                                           3175\n",
       "LT67679                                       27\n",
       "UN89904                                       27\n",
       "XJ38068                                       27\n",
       "JV03654                                       27\n",
       "                                            ... \n",
       "160_dcbb6c3e-a6da-43a3-8754-ccd994cec93b       1\n",
       "6701576                                        1\n",
       "6701569                                        1\n",
       "158121                                         1\n",
       "Re_30000008029                                 1\n",
       "Name: offernumber_cleaned, Length: 11441, dtype: int64"
      ]
     },
     "execution_count": 122,
     "metadata": {},
     "output_type": "execute_result"
    }
   ],
   "source": [
    "# Run the cleaning function removing new lines\n",
    "df['offernumber_cleaned'] = cleann_column(df['offernumber']).str.replace(\"'\",'') #remove leading and trailing \n",
    "df.offernumber_cleaned.value_counts(dropna = False)"
   ]
  }
 ],
 "metadata": {
  "kernelspec": {
   "display_name": "Python 3",
   "language": "python",
   "name": "python3"
  },
  "language_info": {
   "codemirror_mode": {
    "name": "ipython",
    "version": 3
   },
   "file_extension": ".py",
   "mimetype": "text/x-python",
   "name": "python",
   "nbconvert_exporter": "python",
   "pygments_lexer": "ipython3",
   "version": "3.10.9"
  }
 },
 "nbformat": 4,
 "nbformat_minor": 2
}
