{
 "cells": [
  {
   "cell_type": "markdown",
   "metadata": {},
   "source": [
    "# Auto_scout project Balint - Part 1: cleaning"
   ]
  },
  {
   "cell_type": "code",
   "execution_count": 93,
   "metadata": {},
   "outputs": [],
   "source": [
    "import numpy as numpy\n",
    "import pandas as pd\n",
    "import matplotlib.pyplot as plt\n",
    "import seaborn as sns\n"
   ]
  },
  {
   "cell_type": "code",
   "execution_count": 94,
   "metadata": {},
   "outputs": [
    {
     "data": {
      "text/plain": [
       "(15919, 54)"
      ]
     },
     "execution_count": 94,
     "metadata": {},
     "output_type": "execute_result"
    }
   ],
   "source": [
    "# Load the data\n",
    "df = pd.read_json(r'C:\\Users\\BalintStewart\\OneDrive - Health Data Research\\Desktop\\magnimind-assignments\\Auto_scout\\data\\scout_car.json', lines=True) # lines=True reads the file as lines of JSON (one JSON object per line)\n",
    "\n",
    "df.shape"
   ]
  },
  {
   "cell_type": "code",
   "execution_count": 95,
   "metadata": {},
   "outputs": [
    {
     "name": "stdout",
     "output_type": "stream",
     "text": [
      "<class 'pandas.core.frame.DataFrame'>\n",
      "RangeIndex: 15919 entries, 0 to 15918\n",
      "Data columns (total 54 columns):\n",
      " #   Column                         Non-Null Count  Dtype  \n",
      "---  ------                         --------------  -----  \n",
      " 0   url                            15919 non-null  object \n",
      " 1   make_model                     15919 non-null  object \n",
      " 2   short_description              15873 non-null  object \n",
      " 3   body_type                      15859 non-null  object \n",
      " 4   price                          15919 non-null  int64  \n",
      " 5   vat                            11406 non-null  object \n",
      " 6   km                             15919 non-null  object \n",
      " 7   registration                   15919 non-null  object \n",
      " 8   prev_owner                     9091 non-null   object \n",
      " 9   kW                             0 non-null      float64\n",
      " 10  hp                             15919 non-null  object \n",
      " 11  Type                           15917 non-null  object \n",
      " 12  Previous Owners                9279 non-null   object \n",
      " 13  Next Inspection                3535 non-null   object \n",
      " 14  Inspection new                 3932 non-null   object \n",
      " 15  Warranty                       10499 non-null  object \n",
      " 16  Full Service                   8215 non-null   object \n",
      " 17  Non-smoking Vehicle            7177 non-null   object \n",
      " 18  null                           15919 non-null  object \n",
      " 19  Make                           15919 non-null  object \n",
      " 20  Model                          15919 non-null  object \n",
      " 21  Offer Number                   12744 non-null  object \n",
      " 22  First Registration             14322 non-null  object \n",
      " 23  Body Color                     15322 non-null  object \n",
      " 24  Paint Type                     10147 non-null  object \n",
      " 25  Body Color Original            12160 non-null  object \n",
      " 26  Upholstery                     12199 non-null  object \n",
      " 27  Body                           15859 non-null  object \n",
      " 28  Nr. of Doors                   15707 non-null  object \n",
      " 29  Nr. of Seats                   14942 non-null  object \n",
      " 30  Model Code                     4978 non-null   object \n",
      " 31  Gearing Type                   15919 non-null  object \n",
      " 32  Displacement                   15423 non-null  object \n",
      " 33  Cylinders                      10239 non-null  object \n",
      " 34  Weight                         8945 non-null   object \n",
      " 35  Drive chain                    9061 non-null   object \n",
      " 36  Fuel                           15919 non-null  object \n",
      " 37  Consumption                    14013 non-null  object \n",
      " 38  CO2 Emission                   14111 non-null  object \n",
      " 39  Emission Class                 12898 non-null  object \n",
      " 40  \n",
      "Comfort & Convenience\n",
      "        14999 non-null  object \n",
      " 41  \n",
      "Entertainment & Media\n",
      "        14545 non-null  object \n",
      " 42  \n",
      "Extras\n",
      "                       12957 non-null  object \n",
      " 43  \n",
      "Safety & Security\n",
      "            14937 non-null  object \n",
      " 44  description                    15919 non-null  object \n",
      " 45  Emission Label                 3985 non-null   object \n",
      " 46  Gears                          11207 non-null  object \n",
      " 47  Country version                7586 non-null   object \n",
      " 48  Electricity consumption        137 non-null    object \n",
      " 49  Last Service Date              566 non-null    object \n",
      " 50  Other Fuel Types               880 non-null    object \n",
      " 51  Availability                   635 non-null    object \n",
      " 52  Last Timing Belt Service Date  16 non-null     object \n",
      " 53  Available from                 272 non-null    object \n",
      "dtypes: float64(1), int64(1), object(52)\n",
      "memory usage: 6.6+ MB\n",
      "None\n"
     ]
    }
   ],
   "source": [
    "print(df.info())"
   ]
  },
  {
   "cell_type": "code",
   "execution_count": 96,
   "metadata": {},
   "outputs": [
    {
     "data": {
      "text/html": [
       "<div>\n",
       "<style scoped>\n",
       "    .dataframe tbody tr th:only-of-type {\n",
       "        vertical-align: middle;\n",
       "    }\n",
       "\n",
       "    .dataframe tbody tr th {\n",
       "        vertical-align: top;\n",
       "    }\n",
       "\n",
       "    .dataframe thead th {\n",
       "        text-align: right;\n",
       "    }\n",
       "</style>\n",
       "<table border=\"1\" class=\"dataframe\">\n",
       "  <thead>\n",
       "    <tr style=\"text-align: right;\">\n",
       "      <th></th>\n",
       "      <th>price</th>\n",
       "      <th>kW</th>\n",
       "    </tr>\n",
       "  </thead>\n",
       "  <tbody>\n",
       "    <tr>\n",
       "      <th>count</th>\n",
       "      <td>15919.000000</td>\n",
       "      <td>0.0</td>\n",
       "    </tr>\n",
       "    <tr>\n",
       "      <th>mean</th>\n",
       "      <td>18019.896727</td>\n",
       "      <td>NaN</td>\n",
       "    </tr>\n",
       "    <tr>\n",
       "      <th>std</th>\n",
       "      <td>7386.169409</td>\n",
       "      <td>NaN</td>\n",
       "    </tr>\n",
       "    <tr>\n",
       "      <th>min</th>\n",
       "      <td>13.000000</td>\n",
       "      <td>NaN</td>\n",
       "    </tr>\n",
       "    <tr>\n",
       "      <th>25%</th>\n",
       "      <td>12850.000000</td>\n",
       "      <td>NaN</td>\n",
       "    </tr>\n",
       "    <tr>\n",
       "      <th>50%</th>\n",
       "      <td>16900.000000</td>\n",
       "      <td>NaN</td>\n",
       "    </tr>\n",
       "    <tr>\n",
       "      <th>75%</th>\n",
       "      <td>21900.000000</td>\n",
       "      <td>NaN</td>\n",
       "    </tr>\n",
       "    <tr>\n",
       "      <th>max</th>\n",
       "      <td>74600.000000</td>\n",
       "      <td>NaN</td>\n",
       "    </tr>\n",
       "  </tbody>\n",
       "</table>\n",
       "</div>"
      ],
      "text/plain": [
       "              price   kW\n",
       "count  15919.000000  0.0\n",
       "mean   18019.896727  NaN\n",
       "std     7386.169409  NaN\n",
       "min       13.000000  NaN\n",
       "25%    12850.000000  NaN\n",
       "50%    16900.000000  NaN\n",
       "75%    21900.000000  NaN\n",
       "max    74600.000000  NaN"
      ]
     },
     "execution_count": 96,
     "metadata": {},
     "output_type": "execute_result"
    }
   ],
   "source": [
    "df.describe()"
   ]
  },
  {
   "cell_type": "markdown",
   "metadata": {},
   "source": [
    "## Drop columns containing >90% missing values"
   ]
  },
  {
   "cell_type": "code",
   "execution_count": 97,
   "metadata": {},
   "outputs": [
    {
     "data": {
      "text/plain": [
       "(15919, 47)"
      ]
     },
     "execution_count": 97,
     "metadata": {},
     "output_type": "execute_result"
    }
   ],
   "source": [
    "# Find proportion of missing values for each column\n",
    "percent_missing = df.isna().sum()/len(df)*100\n",
    "\n",
    "# Select columns that have >90% missing values, drop these from the data\n",
    "high_missing = percent_missing[percent_missing >90].index\n",
    "df = df.drop(high_missing, axis = 1)\n",
    "df.shape"
   ]
  },
  {
   "cell_type": "code",
   "execution_count": 98,
   "metadata": {},
   "outputs": [
    {
     "data": {
      "text/plain": [
       "url                           0.000000\n",
       "make_model                    0.000000\n",
       "short_description             0.288963\n",
       "body_type                     0.376908\n",
       "price                         0.000000\n",
       "vat                          28.349771\n",
       "km                            0.000000\n",
       "registration                  0.000000\n",
       "prev_owner                   42.892141\n",
       "hp                            0.000000\n",
       "Type                          0.012564\n",
       "Previous Owners              41.711163\n",
       "Next Inspection              77.793831\n",
       "Inspection new               75.299956\n",
       "Warranty                     34.047365\n",
       "Full Service                 48.395000\n",
       "Non-smoking Vehicle          54.915510\n",
       "null                          0.000000\n",
       "Make                          0.000000\n",
       "Model                         0.000000\n",
       "Offer Number                 19.944720\n",
       "First Registration           10.032037\n",
       "Body Color                    3.750236\n",
       "Paint Type                   36.258559\n",
       "Body Color Original          23.613292\n",
       "Upholstery                   23.368302\n",
       "Body                          0.376908\n",
       "Nr. of Doors                  1.331742\n",
       "Nr. of Seats                  6.137320\n",
       "Model Code                   68.729192\n",
       "Gearing Type                  0.000000\n",
       "Displacement                  3.115774\n",
       "Cylinders                    35.680633\n",
       "Weight                       43.809285\n",
       "Drive chain                  43.080596\n",
       "Fuel                          0.000000\n",
       "Consumption                  11.973114\n",
       "CO2 Emission                 11.357497\n",
       "Emission Class               18.977323\n",
       "\\nComfort & Convenience\\n     5.779257\n",
       "\\nEntertainment & Media\\n     8.631195\n",
       "\\nExtras\\n                   18.606696\n",
       "\\nSafety & Security\\n         6.168729\n",
       "description                   0.000000\n",
       "Emission Label               74.967021\n",
       "Gears                        29.599849\n",
       "Country version              52.346253\n",
       "dtype: float64"
      ]
     },
     "execution_count": 98,
     "metadata": {},
     "output_type": "execute_result"
    }
   ],
   "source": [
    "df.isna().sum()/len(df)*100\n"
   ]
  },
  {
   "cell_type": "markdown",
   "metadata": {},
   "source": [
    "## Tidy up column names\n",
    "- Make them all lower case\n",
    "- join words using underscore\n",
    "- clean up col name strings (remove leaading and trailing '\\n'))"
   ]
  },
  {
   "cell_type": "code",
   "execution_count": 99,
   "metadata": {},
   "outputs": [
    {
     "data": {
      "text/plain": [
       "Index(['url', 'make_model', 'short_description', 'body_type', 'price', 'vat',\n",
       "       'km', 'registration', 'prev_owner', 'hp', 'type', 'previousowners',\n",
       "       'nextinspection', 'inspectionnew', 'warranty', 'fullservice',\n",
       "       'non-smokingvehicle', 'null', 'make', 'model', 'offernumber',\n",
       "       'firstregistration', 'bodycolor', 'painttype', 'bodycolororiginal',\n",
       "       'upholstery', 'body', 'nr.ofdoors', 'nr.ofseats', 'modelcode',\n",
       "       'gearingtype', 'displacement', 'cylinders', 'weight', 'drivechain',\n",
       "       'fuel', 'consumption', 'co2emission', 'emissionclass',\n",
       "       'comfort_convenience', 'entertainment_media', 'extras',\n",
       "       'safety_security', 'description', 'emissionlabel', 'gears',\n",
       "       'countryversion'],\n",
       "      dtype='object')"
      ]
     },
     "execution_count": 99,
     "metadata": {},
     "output_type": "execute_result"
    }
   ],
   "source": [
    "# Clean up column names\n",
    "df.columns = df.columns.str.strip().str.lower().str.replace(r'\\n','').str.replace('&','_').str.replace(' ','')\n",
    "df.columns"
   ]
  },
  {
   "cell_type": "markdown",
   "metadata": {},
   "source": [
    "## Compare 'make_model' with 'make' and 'model' columns"
   ]
  },
  {
   "cell_type": "code",
   "execution_count": 100,
   "metadata": {},
   "outputs": [
    {
     "name": "stdout",
     "output_type": "stream",
     "text": [
      "make_model\n",
      "Audi A3           3097\n",
      "Audi A1           2614\n",
      "Opel Insignia     2598\n",
      "Opel Astra        2526\n",
      "Opel Corsa        2219\n",
      "Renault Clio      1839\n",
      "Renault Espace     991\n",
      "Renault Duster      34\n",
      "Audi A2              1\n",
      "Name: count, dtype: int64\n"
     ]
    }
   ],
   "source": [
    "dfmm = df[['make_model', 'make', 'model']]\n",
    "dfmm.sample(10)\n",
    "\n",
    "# Should I keep 'make' and 'model' as separate features or just 'make_model'? Want to avoid redundancy/multicolinearity in my training dataset.\n",
    "print(dfmm.make_model.value_counts(dropna=False)) \n",
    "\n",
    "# Final decision: keep 'make_model' and drop 'make' and 'model' - simplifies the feauture set more than onehotencoding both 'make' and 'model'\n",
    "df = df.drop(['make','model'], axis = 1)\n"
   ]
  }
 ],
 "metadata": {
  "kernelspec": {
   "display_name": "Python 3",
   "language": "python",
   "name": "python3"
  },
  "language_info": {
   "codemirror_mode": {
    "name": "ipython",
    "version": 3
   },
   "file_extension": ".py",
   "mimetype": "text/x-python",
   "name": "python",
   "nbconvert_exporter": "python",
   "pygments_lexer": "ipython3",
   "version": "3.12.4"
  }
 },
 "nbformat": 4,
 "nbformat_minor": 2
}
