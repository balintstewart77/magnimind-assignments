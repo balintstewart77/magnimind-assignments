{
 "cells": [
  {
   "cell_type": "code",
   "execution_count": 83,
   "metadata": {},
   "outputs": [],
   "source": [
    "import matplotlib.pyplot as plt\n",
    "%matplotlib inline\n",
    "import numpy as np\n",
    "import pandas as pd\n",
    "import seaborn as sns\n",
    "import warnings;\n",
    "warnings.filterwarnings(\"ignore\")\n",
    "import re"
   ]
  },
  {
   "cell_type": "code",
   "execution_count": 84,
   "metadata": {},
   "outputs": [],
   "source": [
    "df = pd.read_csv('data/auto_scout_outlier.csv')"
   ]
  },
  {
   "cell_type": "code",
   "execution_count": 85,
   "metadata": {},
   "outputs": [
    {
     "data": {
      "text/plain": [
       "['abs',\n",
       " 'adaptive_cruise_control',\n",
       " 'adaptive_headlights',\n",
       " 'age',\n",
       " 'air_conditioning',\n",
       " 'alarm_system',\n",
       " 'alloy_wheels',\n",
       " 'armrest',\n",
       " 'automatic_climate_control',\n",
       " 'blind_spot_monitor',\n",
       " 'bluetooth',\n",
       " 'body',\n",
       " 'bodycolor',\n",
       " 'catalytic_converter',\n",
       " 'cd_player',\n",
       " 'central_door_lock',\n",
       " 'central_door_lock_with_remote_control',\n",
       " 'co2emission',\n",
       " 'consumption_comb',\n",
       " 'countryversion',\n",
       " 'cruise_control',\n",
       " 'cylinders',\n",
       " 'daytime_running_lights',\n",
       " 'digital_radio',\n",
       " 'displacement',\n",
       " 'drivechain',\n",
       " 'driver-side_airbag',\n",
       " 'driver_drowsiness_detection',\n",
       " 'electric_tailgate',\n",
       " 'electrical_side_mirrors',\n",
       " 'electrically_adjustable_seats',\n",
       " 'electrically_heated_windshield',\n",
       " 'electronic_stability_control',\n",
       " 'emergency_brake_assistant',\n",
       " 'emergency_system',\n",
       " 'emissionclass',\n",
       " 'fog_lights',\n",
       " 'fuel',\n",
       " 'gearingtype',\n",
       " 'gears',\n",
       " 'hands-free_equipment',\n",
       " 'head_airbag',\n",
       " 'heads-up_display',\n",
       " 'heated_steering_wheel',\n",
       " 'hill_holder',\n",
       " 'hp',\n",
       " 'immobilizer',\n",
       " 'inspectionnew',\n",
       " 'interior_material',\n",
       " 'isofix',\n",
       " 'keyless_central_door_lock',\n",
       " 'km',\n",
       " 'lane_departure_warning_system',\n",
       " 'leather_steering_wheel',\n",
       " 'led_daytime_running_lights',\n",
       " 'led_headlights',\n",
       " 'light_sensor',\n",
       " 'lumbar_support',\n",
       " 'make_model',\n",
       " 'mp3',\n",
       " 'multi-function_steering_wheel',\n",
       " 'multiple_fuel',\n",
       " 'navigation_system',\n",
       " 'nrofdoors',\n",
       " 'nrofseats',\n",
       " 'on-board_computer',\n",
       " 'painttype',\n",
       " 'panorama_roof',\n",
       " 'park_distance_control',\n",
       " 'parking_assist_system_camera',\n",
       " 'parking_assist_system_self-steering',\n",
       " 'parking_assist_system_sensors_front',\n",
       " 'parking_assist_system_sensors_rear',\n",
       " 'particulate_filter',\n",
       " 'passenger-side_airbag',\n",
       " 'power_steering',\n",
       " 'power_windows',\n",
       " 'previous_owners',\n",
       " 'price',\n",
       " 'radio',\n",
       " 'rain_sensor',\n",
       " 'rear_airbag',\n",
       " 'roof_rack',\n",
       " 'seat_heating',\n",
       " 'seat_ventilation',\n",
       " 'shift_paddles',\n",
       " 'side_airbag',\n",
       " 'sound_system',\n",
       " 'split_rear_seats',\n",
       " 'sport_package',\n",
       " 'sport_seats',\n",
       " 'sport_suspension',\n",
       " 'start-stop_system',\n",
       " 'tinted_windows',\n",
       " 'tire_pressure_monitoring_system',\n",
       " 'touch_screen',\n",
       " 'traction_control',\n",
       " 'traffic_sign_recognition',\n",
       " 'trailer_hitch',\n",
       " 'type',\n",
       " 'usb',\n",
       " 'vat',\n",
       " 'voice_control',\n",
       " 'warranty_months',\n",
       " 'weight',\n",
       " 'xenon_headlights']"
      ]
     },
     "execution_count": 85,
     "metadata": {},
     "output_type": "execute_result"
    }
   ],
   "source": [
    "sorted(list(df.columns))"
   ]
  },
  {
   "cell_type": "code",
   "execution_count": 86,
   "metadata": {},
   "outputs": [
    {
     "data": {
      "text/plain": [
       "(15914, 106)"
      ]
     },
     "execution_count": 86,
     "metadata": {},
     "output_type": "execute_result"
    }
   ],
   "source": [
    "df.shape"
   ]
  },
  {
   "cell_type": "code",
   "execution_count": 87,
   "metadata": {},
   "outputs": [],
   "source": [
    "object_columns = ['make_model', 'body', 'vat', 'type', 'bodycolor', 'painttype', \n",
    "                  'gearingtype', 'drivechain', 'fuel', 'emissionclass','countryversion','interior_material']\n",
    "df_dummied = pd.get_dummies(df, columns= object_columns, drop_first=True, dtype=int)"
   ]
  },
  {
   "cell_type": "code",
   "execution_count": 88,
   "metadata": {},
   "outputs": [
    {
     "data": {
      "text/plain": [
       "(15914, 159)"
      ]
     },
     "execution_count": 88,
     "metadata": {},
     "output_type": "execute_result"
    }
   ],
   "source": [
    "df_dummied.shape"
   ]
  },
  {
   "cell_type": "code",
   "execution_count": 89,
   "metadata": {},
   "outputs": [
    {
     "data": {
      "text/plain": [
       "['abs',\n",
       " 'adaptive_cruise_control',\n",
       " 'adaptive_headlights',\n",
       " 'age',\n",
       " 'air_conditioning',\n",
       " 'alarm_system',\n",
       " 'alloy_wheels',\n",
       " 'armrest',\n",
       " 'automatic_climate_control',\n",
       " 'blind_spot_monitor',\n",
       " 'bluetooth',\n",
       " 'body_Convertible',\n",
       " 'body_Coupe',\n",
       " 'body_Off-Road',\n",
       " 'body_Other',\n",
       " 'body_Sedans',\n",
       " 'body_Station wagon',\n",
       " 'body_Transporter',\n",
       " 'body_Van',\n",
       " 'bodycolor_Blue',\n",
       " 'bodycolor_Grey',\n",
       " 'bodycolor_Others',\n",
       " 'bodycolor_Red',\n",
       " 'bodycolor_Silver',\n",
       " 'bodycolor_White',\n",
       " 'catalytic_converter',\n",
       " 'cd_player',\n",
       " 'central_door_lock',\n",
       " 'central_door_lock_with_remote_control',\n",
       " 'co2emission',\n",
       " 'consumption_comb',\n",
       " 'countryversion_Belgium',\n",
       " 'countryversion_Bulgaria',\n",
       " 'countryversion_Croatia',\n",
       " 'countryversion_Czech Republic',\n",
       " 'countryversion_Denmark',\n",
       " 'countryversion_Egypt',\n",
       " 'countryversion_European Union',\n",
       " 'countryversion_France',\n",
       " 'countryversion_Germany',\n",
       " 'countryversion_Hungary',\n",
       " 'countryversion_Italy',\n",
       " 'countryversion_Japan',\n",
       " 'countryversion_Luxembourg',\n",
       " 'countryversion_Netherlands',\n",
       " 'countryversion_Poland',\n",
       " 'countryversion_Romania',\n",
       " 'countryversion_Serbia',\n",
       " 'countryversion_Slovakia',\n",
       " 'countryversion_Slovenia',\n",
       " 'countryversion_Spain',\n",
       " 'countryversion_Sweden',\n",
       " 'countryversion_Switzerland',\n",
       " 'countryversion_Unknown_country',\n",
       " 'cruise_control',\n",
       " 'cylinders',\n",
       " 'daytime_running_lights',\n",
       " 'digital_radio',\n",
       " 'displacement',\n",
       " 'drivechain_front',\n",
       " 'drivechain_rear',\n",
       " 'driver-side_airbag',\n",
       " 'driver_drowsiness_detection',\n",
       " 'electric_tailgate',\n",
       " 'electrical_side_mirrors',\n",
       " 'electrically_adjustable_seats',\n",
       " 'electrically_heated_windshield',\n",
       " 'electronic_stability_control',\n",
       " 'emergency_brake_assistant',\n",
       " 'emergency_system',\n",
       " 'emissionclass_5',\n",
       " 'emissionclass_6',\n",
       " 'emissionclass_6c',\n",
       " 'emissionclass_6d',\n",
       " 'fog_lights',\n",
       " 'fuel_gasoline',\n",
       " 'fuel_other',\n",
       " 'fuel_super95',\n",
       " 'gearingtype_Manual',\n",
       " 'gearingtype_Semi-automatic',\n",
       " 'gears',\n",
       " 'hands-free_equipment',\n",
       " 'head_airbag',\n",
       " 'heads-up_display',\n",
       " 'heated_steering_wheel',\n",
       " 'hill_holder',\n",
       " 'hp',\n",
       " 'immobilizer',\n",
       " 'inspectionnew',\n",
       " 'interior_material_Leather',\n",
       " 'interior_material_Other',\n",
       " 'isofix',\n",
       " 'keyless_central_door_lock',\n",
       " 'km',\n",
       " 'lane_departure_warning_system',\n",
       " 'leather_steering_wheel',\n",
       " 'led_daytime_running_lights',\n",
       " 'led_headlights',\n",
       " 'light_sensor',\n",
       " 'lumbar_support',\n",
       " 'make_model_Audi A3',\n",
       " 'make_model_Opel Astra',\n",
       " 'make_model_Opel Corsa',\n",
       " 'make_model_Opel Insignia',\n",
       " 'make_model_Renault Clio',\n",
       " 'make_model_Renault Duster',\n",
       " 'make_model_Renault Espace',\n",
       " 'mp3',\n",
       " 'multi-function_steering_wheel',\n",
       " 'multiple_fuel',\n",
       " 'navigation_system',\n",
       " 'nrofdoors',\n",
       " 'nrofseats',\n",
       " 'on-board_computer',\n",
       " 'painttype_Perl effect',\n",
       " 'painttype_Uni/basic',\n",
       " 'panorama_roof',\n",
       " 'park_distance_control',\n",
       " 'parking_assist_system_camera',\n",
       " 'parking_assist_system_self-steering',\n",
       " 'parking_assist_system_sensors_front',\n",
       " 'parking_assist_system_sensors_rear',\n",
       " 'particulate_filter',\n",
       " 'passenger-side_airbag',\n",
       " 'power_steering',\n",
       " 'power_windows',\n",
       " 'previous_owners',\n",
       " 'price',\n",
       " 'radio',\n",
       " 'rain_sensor',\n",
       " 'rear_airbag',\n",
       " 'roof_rack',\n",
       " 'seat_heating',\n",
       " 'seat_ventilation',\n",
       " 'shift_paddles',\n",
       " 'side_airbag',\n",
       " 'sound_system',\n",
       " 'split_rear_seats',\n",
       " 'sport_package',\n",
       " 'sport_seats',\n",
       " 'sport_suspension',\n",
       " 'start-stop_system',\n",
       " 'tinted_windows',\n",
       " 'tire_pressure_monitoring_system',\n",
       " 'touch_screen',\n",
       " 'traction_control',\n",
       " 'traffic_sign_recognition',\n",
       " 'trailer_hitch',\n",
       " \"type_Employee's car\",\n",
       " 'type_New',\n",
       " 'type_Pre-registered',\n",
       " 'type_Used',\n",
       " 'usb',\n",
       " 'vat_VAT deductible',\n",
       " 'vat_VAT nondeductible',\n",
       " 'voice_control',\n",
       " 'warranty_months',\n",
       " 'weight',\n",
       " 'xenon_headlights']"
      ]
     },
     "execution_count": 89,
     "metadata": {},
     "output_type": "execute_result"
    }
   ],
   "source": [
    "sorted(list(df_dummied.columns))"
   ]
  },
  {
   "cell_type": "code",
   "execution_count": 90,
   "metadata": {},
   "outputs": [
    {
     "data": {
      "text/plain": [
       "['abs',\n",
       " 'adaptive_cruise_control',\n",
       " 'adaptive_headlights',\n",
       " 'age',\n",
       " 'air_conditioning',\n",
       " 'alarm_system',\n",
       " 'alloy_wheels',\n",
       " 'armrest',\n",
       " 'automatic_climate_control',\n",
       " 'blind_spot_monitor',\n",
       " 'bluetooth',\n",
       " 'body_Convertible',\n",
       " 'body_Coupe',\n",
       " 'body_Off-Road',\n",
       " 'body_Other',\n",
       " 'body_Sedans',\n",
       " 'body_Station wagon',\n",
       " 'body_Transporter',\n",
       " 'body_Van',\n",
       " 'bodycolor_Blue',\n",
       " 'bodycolor_Grey',\n",
       " 'bodycolor_Others',\n",
       " 'bodycolor_Red',\n",
       " 'bodycolor_Silver',\n",
       " 'bodycolor_White',\n",
       " 'catalytic_converter',\n",
       " 'cd_player',\n",
       " 'central_door_lock',\n",
       " 'central_door_lock_with_remote_control',\n",
       " 'co2emission',\n",
       " 'consumption_comb',\n",
       " 'countryversion_Belgium',\n",
       " 'countryversion_Bulgaria',\n",
       " 'countryversion_Croatia',\n",
       " 'countryversion_Czech Republic',\n",
       " 'countryversion_Denmark',\n",
       " 'countryversion_Egypt',\n",
       " 'countryversion_European Union',\n",
       " 'countryversion_France',\n",
       " 'countryversion_Germany',\n",
       " 'countryversion_Hungary',\n",
       " 'countryversion_Italy',\n",
       " 'countryversion_Japan',\n",
       " 'countryversion_Luxembourg',\n",
       " 'countryversion_Netherlands',\n",
       " 'countryversion_Poland',\n",
       " 'countryversion_Romania',\n",
       " 'countryversion_Serbia',\n",
       " 'countryversion_Slovakia',\n",
       " 'countryversion_Slovenia',\n",
       " 'countryversion_Spain',\n",
       " 'countryversion_Sweden',\n",
       " 'countryversion_Switzerland',\n",
       " 'countryversion_Unknown_country',\n",
       " 'cruise_control',\n",
       " 'cylinders',\n",
       " 'daytime_running_lights',\n",
       " 'digital_radio',\n",
       " 'displacement',\n",
       " 'drivechain_front',\n",
       " 'drivechain_rear',\n",
       " 'driver-side_airbag',\n",
       " 'driver_drowsiness_detection',\n",
       " 'electric_tailgate',\n",
       " 'electrical_side_mirrors',\n",
       " 'electrically_adjustable_seats',\n",
       " 'electrically_heated_windshield',\n",
       " 'electronic_stability_control',\n",
       " 'emergency_brake_assistant',\n",
       " 'emergency_system',\n",
       " 'emissionclass_5',\n",
       " 'emissionclass_6',\n",
       " 'emissionclass_6c',\n",
       " 'emissionclass_6d',\n",
       " 'fog_lights',\n",
       " 'fuel_gasoline',\n",
       " 'fuel_other',\n",
       " 'fuel_super95',\n",
       " 'gearingtype_Manual',\n",
       " 'gearingtype_Semi-automatic',\n",
       " 'gears',\n",
       " 'hands-free_equipment',\n",
       " 'head_airbag',\n",
       " 'heads-up_display',\n",
       " 'heated_steering_wheel',\n",
       " 'hill_holder',\n",
       " 'hp',\n",
       " 'immobilizer',\n",
       " 'inspectionnew',\n",
       " 'interior_material_Leather',\n",
       " 'interior_material_Other',\n",
       " 'isofix',\n",
       " 'keyless_central_door_lock',\n",
       " 'km',\n",
       " 'lane_departure_warning_system',\n",
       " 'leather_steering_wheel',\n",
       " 'led_daytime_running_lights',\n",
       " 'led_headlights',\n",
       " 'light_sensor',\n",
       " 'lumbar_support',\n",
       " 'make_model_Audi A3',\n",
       " 'make_model_Opel Astra',\n",
       " 'make_model_Opel Corsa',\n",
       " 'make_model_Opel Insignia',\n",
       " 'make_model_Renault Clio',\n",
       " 'make_model_Renault Duster',\n",
       " 'make_model_Renault Espace',\n",
       " 'mp3',\n",
       " 'multi-function_steering_wheel',\n",
       " 'multiple_fuel',\n",
       " 'navigation_system',\n",
       " 'nrofdoors',\n",
       " 'nrofseats',\n",
       " 'on-board_computer',\n",
       " 'painttype_Perl effect',\n",
       " 'painttype_Uni/basic',\n",
       " 'panorama_roof',\n",
       " 'park_distance_control',\n",
       " 'parking_assist_system_camera',\n",
       " 'parking_assist_system_self-steering',\n",
       " 'parking_assist_system_sensors_front',\n",
       " 'parking_assist_system_sensors_rear',\n",
       " 'particulate_filter',\n",
       " 'passenger-side_airbag',\n",
       " 'power_steering',\n",
       " 'power_windows',\n",
       " 'previous_owners',\n",
       " 'price',\n",
       " 'radio',\n",
       " 'rain_sensor',\n",
       " 'rear_airbag',\n",
       " 'roof_rack',\n",
       " 'seat_heating',\n",
       " 'seat_ventilation',\n",
       " 'shift_paddles',\n",
       " 'side_airbag',\n",
       " 'sound_system',\n",
       " 'split_rear_seats',\n",
       " 'sport_package',\n",
       " 'sport_seats',\n",
       " 'sport_suspension',\n",
       " 'start-stop_system',\n",
       " 'tinted_windows',\n",
       " 'tire_pressure_monitoring_system',\n",
       " 'touch_screen',\n",
       " 'traction_control',\n",
       " 'traffic_sign_recognition',\n",
       " 'trailer_hitch',\n",
       " \"type_Employee's car\",\n",
       " 'type_New',\n",
       " 'type_Pre-registered',\n",
       " 'type_Used',\n",
       " 'usb',\n",
       " 'vat_VAT deductible',\n",
       " 'vat_VAT nondeductible',\n",
       " 'voice_control',\n",
       " 'warranty_months',\n",
       " 'weight',\n",
       " 'xenon_headlights']"
      ]
     },
     "execution_count": 90,
     "metadata": {},
     "output_type": "execute_result"
    }
   ],
   "source": [
    "sorted(list(df_dummied.columns))"
   ]
  },
  {
   "cell_type": "code",
   "execution_count": 91,
   "metadata": {},
   "outputs": [
    {
     "name": "stdout",
     "output_type": "stream",
     "text": [
      "<class 'pandas.core.frame.DataFrame'>\n",
      "RangeIndex: 15914 entries, 0 to 15913\n",
      "Columns: 159 entries, price to interior_material_Other\n",
      "dtypes: float64(12), int64(146), object(1)\n",
      "memory usage: 19.3+ MB\n"
     ]
    }
   ],
   "source": [
    "df_dummied.info()"
   ]
  },
  {
   "cell_type": "code",
   "execution_count": 92,
   "metadata": {},
   "outputs": [
    {
     "data": {
      "text/plain": [
       "Index(['inspectionnew'], dtype='object')"
      ]
     },
     "execution_count": 92,
     "metadata": {},
     "output_type": "execute_result"
    }
   ],
   "source": [
    "df_dummied.select_dtypes(include = 'object').columns"
   ]
  },
  {
   "cell_type": "code",
   "execution_count": 93,
   "metadata": {},
   "outputs": [
    {
     "data": {
      "text/plain": [
       "inspectionnew\n",
       "No     11982\n",
       "Yes     3932\n",
       "Name: count, dtype: int64"
      ]
     },
     "execution_count": 93,
     "metadata": {},
     "output_type": "execute_result"
    }
   ],
   "source": [
    "df_dummied['inspectionnew'].value_counts()"
   ]
  },
  {
   "cell_type": "code",
   "execution_count": 97,
   "metadata": {},
   "outputs": [],
   "source": [
    "# replace 'No' with 0 and 'Yes' with 1\n",
    "df_dummied.loc[df['inspectionnew'] == 'No', 'inspectionnew'] = 0\n",
    "df_dummied.loc[df['inspectionnew'] == 'Yes', 'inspectionnew'] = 1\n",
    "df_dummied['inspectionnew'] = df_dummied.inspectionnew.astype('int')"
   ]
  },
  {
   "cell_type": "code",
   "execution_count": 98,
   "metadata": {},
   "outputs": [
    {
     "name": "stdout",
     "output_type": "stream",
     "text": [
      "<class 'pandas.core.frame.DataFrame'>\n",
      "RangeIndex: 15914 entries, 0 to 15913\n",
      "Columns: 159 entries, price to interior_material_Other\n",
      "dtypes: float64(12), int64(147)\n",
      "memory usage: 19.3 MB\n"
     ]
    }
   ],
   "source": [
    "df_dummied.info()"
   ]
  },
  {
   "cell_type": "code",
   "execution_count": 96,
   "metadata": {},
   "outputs": [
    {
     "data": {
      "text/plain": [
       "Index(['inspectionnew'], dtype='object')"
      ]
     },
     "execution_count": 96,
     "metadata": {},
     "output_type": "execute_result"
    }
   ],
   "source": [
    "df_dummied.select_dtypes(include = 'object').columns"
   ]
  },
  {
   "cell_type": "code",
   "execution_count": 99,
   "metadata": {},
   "outputs": [],
   "source": [
    "df_dummied.to_csv('data/auto_scout_final.csv', index = False)"
   ]
  }
 ],
 "metadata": {
  "kernelspec": {
   "display_name": "Python 3",
   "language": "python",
   "name": "python3"
  },
  "language_info": {
   "codemirror_mode": {
    "name": "ipython",
    "version": 3
   },
   "file_extension": ".py",
   "mimetype": "text/x-python",
   "name": "python",
   "nbconvert_exporter": "python",
   "pygments_lexer": "ipython3",
   "version": "3.12.4"
  }
 },
 "nbformat": 4,
 "nbformat_minor": 2
}
