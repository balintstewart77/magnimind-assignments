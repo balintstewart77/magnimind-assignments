{
  "cells": [
    {
      "cell_type": "markdown",
      "metadata": {
        "id": "zAVRAwGCyqqq"
      },
      "source": [
        "### Check Version of the Relevant Libraries"
      ]
    },
    {
      "cell_type": "code",
      "execution_count": 1,
      "metadata": {
        "id": "gYA13bHvyqqv"
      },
      "outputs": [],
      "source": [
        "import numpy as np\n",
        "import pandas as pd\n",
        "import matplotlib.pyplot as plt\n"
      ]
    },
    {
      "cell_type": "markdown",
      "metadata": {
        "id": "lqMBcWnMyqqv"
      },
      "source": [
        "# Overfitting the test set"
      ]
    },
    {
      "cell_type": "markdown",
      "metadata": {
        "id": "EewW-rFlyqqw"
      },
      "source": [
        "- Import `breast_cancer` dataset from Scikitlearn\n",
        "- Scale the feature set\n",
        "- Split data into first trainval and test, then split trainval into validation and train datasets\n",
        "- Fit train dataset for `k=5` neighbors\n",
        "- print the score on validation and test datasets"
      ]
    },
    {
      "cell_type": "code",
      "execution_count": 13,
      "metadata": {
        "id": "o1qhlQWayqqw",
        "colab": {
          "base_uri": "https://localhost:8080/"
        },
        "outputId": "8b53d5d4-f97e-4de1-e050-5114f7a510b4"
      },
      "outputs": [
        {
          "output_type": "stream",
          "name": "stdout",
          "text": [
            "Validation score is: 0.9719626168224299\n",
            "Test score is:  0.9440559440559441\n"
          ]
        }
      ],
      "source": [
        "from sklearn.datasets import load_breast_cancer\n",
        "from sklearn.model_selection import train_test_split\n",
        "from sklearn.preprocessing import StandardScaler\n",
        "from sklearn.neighbors import KNeighborsClassifier\n",
        "\n",
        "data = load_breast_cancer()\n",
        "X = data.data\n",
        "y = data.target\n",
        "\n",
        "# Scale the feature set\n",
        "scaler = StandardScaler()\n",
        "X_scaled = scaler.fit_transform(X)\n",
        "\n",
        "# Split into trainval and test\n",
        "X_trainval, X_test, y_trainval, y_test = train_test_split(X_scaled, y, random_state=0)\n",
        "\n",
        "#split trainval into train and validation\n",
        "X_train, X_val, y_train, y_val = train_test_split(X_trainval, y_trainval, random_state=0)\n",
        "\n",
        "X_trainval.shape, X_train.shape, X_val.shape, X_test.shape, X.shape\n",
        "\n",
        "# fit the train dataset for k=5 neighbors\n",
        "knn = KNeighborsClassifier(n_neighbors = 5)\n",
        "knn.fit(X_train, y_train)\n",
        "print('Validation score is:', knn.score(X_val, y_val))\n",
        "print('Test score is: ', knn.score(X_test, y_test))"
      ]
    },
    {
      "cell_type": "markdown",
      "metadata": {
        "id": "Pe5tQeKUyqqw"
      },
      "source": [
        "- Create a loop and fit your train dataset and test your validation dataset for `k=1,15,2`.\n",
        "- Print the best validation score out of three neighbors and determine the `k` value with the highest score, $best_n$\n",
        "- Retrain your model with trainvalidation dataset for $k=best_n$\n",
        "- Print the score for test dataset for the latest trained model"
      ]
    },
    {
      "cell_type": "code",
      "execution_count": 21,
      "metadata": {
        "id": "IvrluWt2yqqx",
        "colab": {
          "base_uri": "https://localhost:8080/"
        },
        "outputId": "f4ce40d6-b6a5-43eb-e3b5-adbed45d87c7"
      },
      "outputs": [
        {
          "output_type": "stream",
          "name": "stdout",
          "text": [
            "Validation score for 1 neighbors is:  0.9439252336448598\n",
            "Test score for 1 neighbors is:  0.9370629370629371\n",
            "Validation score for 15 neighbors is:  0.9532710280373832\n",
            "Test score for 15 neighbors is:  0.958041958041958\n",
            "Validation score for 2 neighbors is:  0.9439252336448598\n",
            "Test score for 2 neighbors is:  0.916083916083916\n",
            "Score for optimised model =  0.951048951048951\n"
          ]
        }
      ],
      "source": [
        "nset = [1,15,2]\n",
        "for n in nset:\n",
        "  knn = KNeighborsClassifier(n_neighbors=n)\n",
        "  knn.fit(X_train, y_train)\n",
        "  print(f'Validation score for {n} neighbors is: ', knn.score(X_val, y_val))\n",
        "  print(f'Test score for {n} neighbors is: ', knn.score(X_test, y_test))\n",
        "\n",
        "# Retrain your model with trainvalidation dataset k = bestn\n",
        "knn = KNeighborsClassifier(n_neighbors=15)\n",
        "knn.fit(X_trainval, y_trainval)\n",
        "\n",
        "print('Score for optimised model = ', knn.score(X_test, y_test))"
      ]
    },
    {
      "cell_type": "markdown",
      "metadata": {
        "id": "KSxIvoxGyqqy"
      },
      "source": [
        "# Cross validation"
      ]
    },
    {
      "cell_type": "markdown",
      "metadata": {
        "id": "i-NV8PBMyqqy"
      },
      "source": [
        "- Import `cross_val_score` from `sklearn.model_selection`\n",
        "- Split your data into train and test datasets\n",
        "- For `neighbors=1, 15, 2`, compute cross validation scores for trainvalidation dataset with kfold=10.\n",
        "- Print the best validation score out of three neighbors and determine the `k` value with the highest score, $best_n$\n",
        "- Retrain your model with trainvalidation dataset for $k=best_n$\n",
        "- Print the score for test dataset for the latest trained model"
      ]
    },
    {
      "cell_type": "code",
      "execution_count": null,
      "metadata": {
        "id": "KSGE1crxyqqy"
      },
      "outputs": [],
      "source": [
        "from sklearn.model_selection import cross_val_score\n",
        "from sklearn.model_selection import KFold, StratifiedKFold\n",
        "\n",
        "X_train, X_test, y_train, y_test = train_test_split(X, y, random_state=0)\n"
      ]
    },
    {
      "cell_type": "markdown",
      "metadata": {
        "id": "TKkawF2Ayqqy"
      },
      "source": [
        "- Compute cross validation score for `KNeighborsClassifier()` when `cv=KFold(n_splits=5)` and `cv=StratifiedKFold(n_splits=5, shuffle=True)`"
      ]
    },
    {
      "cell_type": "code",
      "execution_count": null,
      "metadata": {
        "id": "0ceNx8HJyqqz"
      },
      "outputs": [],
      "source": [
        "np.set_printoptions(precision=2)"
      ]
    },
    {
      "cell_type": "code",
      "execution_count": null,
      "metadata": {
        "id": "OWA9TRX9yqqz"
      },
      "outputs": [],
      "source": []
    },
    {
      "cell_type": "markdown",
      "metadata": {
        "id": "xG5rFWiOyqqz"
      },
      "source": [
        "# GridSearchCV"
      ]
    },
    {
      "cell_type": "markdown",
      "metadata": {
        "id": "a8MBbxnHyqqz"
      },
      "source": [
        "- Import `GridSearchCV` from `sklearn.model_selection`\n",
        "- Split your data into train and test datasets\n",
        "- For `neighbors=1 to 30`, compute `GridSearchCV` for train dataset with kfold=10.\n",
        "- Print the best cross validation score\n",
        "- Priont the best parameter\n",
        "- Print the test score"
      ]
    },
    {
      "cell_type": "code",
      "execution_count": null,
      "metadata": {
        "id": "TgXCROyIyqqz"
      },
      "outputs": [],
      "source": []
    }
  ],
  "metadata": {
    "anaconda-cloud": {},
    "kernelspec": {
      "display_name": "Python 3",
      "language": "python",
      "name": "python3"
    },
    "language_info": {
      "codemirror_mode": {
        "name": "ipython",
        "version": 3
      },
      "file_extension": ".py",
      "mimetype": "text/x-python",
      "name": "python",
      "nbconvert_exporter": "python",
      "pygments_lexer": "ipython3",
      "version": "3.8.3"
    },
    "colab": {
      "provenance": []
    }
  },
  "nbformat": 4,
  "nbformat_minor": 0
}