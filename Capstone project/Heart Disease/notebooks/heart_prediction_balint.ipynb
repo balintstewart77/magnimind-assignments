{
 "cells": [
  {
   "cell_type": "markdown",
   "metadata": {},
   "source": [
    "# Capstone project: Predicting heart disease"
   ]
  },
  {
   "cell_type": "code",
   "execution_count": 2,
   "metadata": {},
   "outputs": [],
   "source": [
    "# Load common libraries\n",
    "import pandas as pd\n",
    "import numpy as np\n",
    "import matplotlib.pyplot as plt\n",
    "import seaborn as sns\n"
   ]
  },
  {
   "cell_type": "code",
   "execution_count": 3,
   "metadata": {},
   "outputs": [],
   "source": [
    "df= pd.read_excel(r\"C:\\Users\\BalintStewart\\OneDrive - Health Data Research\\Desktop\\magnimind-assignments\\Capstone project\\Heart Disease\\data\\Patients Data ( Used for Heart Disease Prediction ).xlsx\")"
   ]
  },
  {
   "cell_type": "code",
   "execution_count": 4,
   "metadata": {},
   "outputs": [
    {
     "data": {
      "text/html": [
       "<div>\n",
       "<style scoped>\n",
       "    .dataframe tbody tr th:only-of-type {\n",
       "        vertical-align: middle;\n",
       "    }\n",
       "\n",
       "    .dataframe tbody tr th {\n",
       "        vertical-align: top;\n",
       "    }\n",
       "\n",
       "    .dataframe thead th {\n",
       "        text-align: right;\n",
       "    }\n",
       "</style>\n",
       "<table border=\"1\" class=\"dataframe\">\n",
       "  <thead>\n",
       "    <tr style=\"text-align: right;\">\n",
       "      <th></th>\n",
       "      <th>PatientID</th>\n",
       "      <th>State</th>\n",
       "      <th>Sex</th>\n",
       "      <th>GeneralHealth</th>\n",
       "      <th>AgeCategory</th>\n",
       "      <th>HeightInMeters</th>\n",
       "      <th>WeightInKilograms</th>\n",
       "      <th>BMI</th>\n",
       "      <th>HadHeartAttack</th>\n",
       "      <th>HadAngina</th>\n",
       "      <th>...</th>\n",
       "      <th>ECigaretteUsage</th>\n",
       "      <th>ChestScan</th>\n",
       "      <th>RaceEthnicityCategory</th>\n",
       "      <th>AlcoholDrinkers</th>\n",
       "      <th>HIVTesting</th>\n",
       "      <th>FluVaxLast12</th>\n",
       "      <th>PneumoVaxEver</th>\n",
       "      <th>TetanusLast10Tdap</th>\n",
       "      <th>HighRiskLastYear</th>\n",
       "      <th>CovidPos</th>\n",
       "    </tr>\n",
       "  </thead>\n",
       "  <tbody>\n",
       "    <tr>\n",
       "      <th>0</th>\n",
       "      <td>1</td>\n",
       "      <td>Alabama</td>\n",
       "      <td>Female</td>\n",
       "      <td>Fair</td>\n",
       "      <td>Age 75 to 79</td>\n",
       "      <td>1.63</td>\n",
       "      <td>84.820000</td>\n",
       "      <td>32.099998</td>\n",
       "      <td>0</td>\n",
       "      <td>1</td>\n",
       "      <td>...</td>\n",
       "      <td>Never used e-cigarettes in my entire life</td>\n",
       "      <td>1</td>\n",
       "      <td>White only, Non-Hispanic</td>\n",
       "      <td>0</td>\n",
       "      <td>0</td>\n",
       "      <td>0</td>\n",
       "      <td>1</td>\n",
       "      <td>No, did not receive any tetanus shot in the pa...</td>\n",
       "      <td>0</td>\n",
       "      <td>1</td>\n",
       "    </tr>\n",
       "    <tr>\n",
       "      <th>1</th>\n",
       "      <td>2</td>\n",
       "      <td>Alabama</td>\n",
       "      <td>Female</td>\n",
       "      <td>Very good</td>\n",
       "      <td>Age 65 to 69</td>\n",
       "      <td>1.60</td>\n",
       "      <td>71.669998</td>\n",
       "      <td>27.990000</td>\n",
       "      <td>0</td>\n",
       "      <td>0</td>\n",
       "      <td>...</td>\n",
       "      <td>Never used e-cigarettes in my entire life</td>\n",
       "      <td>0</td>\n",
       "      <td>White only, Non-Hispanic</td>\n",
       "      <td>0</td>\n",
       "      <td>0</td>\n",
       "      <td>1</td>\n",
       "      <td>1</td>\n",
       "      <td>Yes, received Tdap</td>\n",
       "      <td>0</td>\n",
       "      <td>0</td>\n",
       "    </tr>\n",
       "    <tr>\n",
       "      <th>2</th>\n",
       "      <td>3</td>\n",
       "      <td>Alabama</td>\n",
       "      <td>Male</td>\n",
       "      <td>Excellent</td>\n",
       "      <td>Age 60 to 64</td>\n",
       "      <td>1.78</td>\n",
       "      <td>71.209999</td>\n",
       "      <td>22.530001</td>\n",
       "      <td>0</td>\n",
       "      <td>0</td>\n",
       "      <td>...</td>\n",
       "      <td>Never used e-cigarettes in my entire life</td>\n",
       "      <td>0</td>\n",
       "      <td>White only, Non-Hispanic</td>\n",
       "      <td>1</td>\n",
       "      <td>0</td>\n",
       "      <td>0</td>\n",
       "      <td>0</td>\n",
       "      <td>Yes, received tetanus shot but not sure what type</td>\n",
       "      <td>0</td>\n",
       "      <td>0</td>\n",
       "    </tr>\n",
       "    <tr>\n",
       "      <th>3</th>\n",
       "      <td>4</td>\n",
       "      <td>Alabama</td>\n",
       "      <td>Male</td>\n",
       "      <td>Very good</td>\n",
       "      <td>Age 70 to 74</td>\n",
       "      <td>1.78</td>\n",
       "      <td>95.250000</td>\n",
       "      <td>30.129999</td>\n",
       "      <td>0</td>\n",
       "      <td>0</td>\n",
       "      <td>...</td>\n",
       "      <td>Never used e-cigarettes in my entire life</td>\n",
       "      <td>0</td>\n",
       "      <td>White only, Non-Hispanic</td>\n",
       "      <td>0</td>\n",
       "      <td>0</td>\n",
       "      <td>1</td>\n",
       "      <td>1</td>\n",
       "      <td>Yes, received tetanus shot but not sure what type</td>\n",
       "      <td>0</td>\n",
       "      <td>0</td>\n",
       "    </tr>\n",
       "    <tr>\n",
       "      <th>4</th>\n",
       "      <td>5</td>\n",
       "      <td>Alabama</td>\n",
       "      <td>Female</td>\n",
       "      <td>Good</td>\n",
       "      <td>Age 50 to 54</td>\n",
       "      <td>1.68</td>\n",
       "      <td>78.019997</td>\n",
       "      <td>27.760000</td>\n",
       "      <td>0</td>\n",
       "      <td>0</td>\n",
       "      <td>...</td>\n",
       "      <td>Never used e-cigarettes in my entire life</td>\n",
       "      <td>1</td>\n",
       "      <td>Black only, Non-Hispanic</td>\n",
       "      <td>0</td>\n",
       "      <td>0</td>\n",
       "      <td>1</td>\n",
       "      <td>0</td>\n",
       "      <td>No, did not receive any tetanus shot in the pa...</td>\n",
       "      <td>0</td>\n",
       "      <td>0</td>\n",
       "    </tr>\n",
       "  </tbody>\n",
       "</table>\n",
       "<p>5 rows × 35 columns</p>\n",
       "</div>"
      ],
      "text/plain": [
       "   PatientID    State     Sex GeneralHealth   AgeCategory  HeightInMeters  \\\n",
       "0          1  Alabama  Female          Fair  Age 75 to 79            1.63   \n",
       "1          2  Alabama  Female     Very good  Age 65 to 69            1.60   \n",
       "2          3  Alabama    Male     Excellent  Age 60 to 64            1.78   \n",
       "3          4  Alabama    Male     Very good  Age 70 to 74            1.78   \n",
       "4          5  Alabama  Female          Good  Age 50 to 54            1.68   \n",
       "\n",
       "   WeightInKilograms        BMI  HadHeartAttack  HadAngina  ...  \\\n",
       "0          84.820000  32.099998               0          1  ...   \n",
       "1          71.669998  27.990000               0          0  ...   \n",
       "2          71.209999  22.530001               0          0  ...   \n",
       "3          95.250000  30.129999               0          0  ...   \n",
       "4          78.019997  27.760000               0          0  ...   \n",
       "\n",
       "                             ECigaretteUsage  ChestScan  \\\n",
       "0  Never used e-cigarettes in my entire life          1   \n",
       "1  Never used e-cigarettes in my entire life          0   \n",
       "2  Never used e-cigarettes in my entire life          0   \n",
       "3  Never used e-cigarettes in my entire life          0   \n",
       "4  Never used e-cigarettes in my entire life          1   \n",
       "\n",
       "      RaceEthnicityCategory  AlcoholDrinkers  HIVTesting  FluVaxLast12  \\\n",
       "0  White only, Non-Hispanic                0           0             0   \n",
       "1  White only, Non-Hispanic                0           0             1   \n",
       "2  White only, Non-Hispanic                1           0             0   \n",
       "3  White only, Non-Hispanic                0           0             1   \n",
       "4  Black only, Non-Hispanic                0           0             1   \n",
       "\n",
       "   PneumoVaxEver                                  TetanusLast10Tdap  \\\n",
       "0              1  No, did not receive any tetanus shot in the pa...   \n",
       "1              1                                 Yes, received Tdap   \n",
       "2              0  Yes, received tetanus shot but not sure what type   \n",
       "3              1  Yes, received tetanus shot but not sure what type   \n",
       "4              0  No, did not receive any tetanus shot in the pa...   \n",
       "\n",
       "   HighRiskLastYear  CovidPos  \n",
       "0                 0         1  \n",
       "1                 0         0  \n",
       "2                 0         0  \n",
       "3                 0         0  \n",
       "4                 0         0  \n",
       "\n",
       "[5 rows x 35 columns]"
      ]
     },
     "execution_count": 4,
     "metadata": {},
     "output_type": "execute_result"
    }
   ],
   "source": [
    "df.head()"
   ]
  },
  {
   "cell_type": "code",
   "execution_count": 5,
   "metadata": {},
   "outputs": [
    {
     "data": {
      "text/plain": [
       "Index(['PatientID', 'State', 'Sex', 'GeneralHealth', 'AgeCategory',\n",
       "       'HeightInMeters', 'WeightInKilograms', 'BMI', 'HadHeartAttack',\n",
       "       'HadAngina', 'HadStroke', 'HadAsthma', 'HadSkinCancer', 'HadCOPD',\n",
       "       'HadDepressiveDisorder', 'HadKidneyDisease', 'HadArthritis',\n",
       "       'HadDiabetes', 'DeafOrHardOfHearing', 'BlindOrVisionDifficulty',\n",
       "       'DifficultyConcentrating', 'DifficultyWalking',\n",
       "       'DifficultyDressingBathing', 'DifficultyErrands', 'SmokerStatus',\n",
       "       'ECigaretteUsage', 'ChestScan', 'RaceEthnicityCategory',\n",
       "       'AlcoholDrinkers', 'HIVTesting', 'FluVaxLast12', 'PneumoVaxEver',\n",
       "       'TetanusLast10Tdap', 'HighRiskLastYear', 'CovidPos'],\n",
       "      dtype='object')"
      ]
     },
     "execution_count": 5,
     "metadata": {},
     "output_type": "execute_result"
    }
   ],
   "source": [
    "df.columns"
   ]
  },
  {
   "cell_type": "markdown",
   "metadata": {},
   "source": [
    "## Check for missing values in the data"
   ]
  },
  {
   "cell_type": "code",
   "execution_count": 6,
   "metadata": {},
   "outputs": [
    {
     "data": {
      "text/plain": [
       "PatientID                    0\n",
       "State                        0\n",
       "Sex                          0\n",
       "GeneralHealth                0\n",
       "AgeCategory                  0\n",
       "HeightInMeters               0\n",
       "WeightInKilograms            0\n",
       "BMI                          0\n",
       "HadHeartAttack               0\n",
       "HadAngina                    0\n",
       "HadStroke                    0\n",
       "HadAsthma                    0\n",
       "HadSkinCancer                0\n",
       "HadCOPD                      0\n",
       "HadDepressiveDisorder        0\n",
       "HadKidneyDisease             0\n",
       "HadArthritis                 0\n",
       "HadDiabetes                  0\n",
       "DeafOrHardOfHearing          0\n",
       "BlindOrVisionDifficulty      0\n",
       "DifficultyConcentrating      0\n",
       "DifficultyWalking            0\n",
       "DifficultyDressingBathing    0\n",
       "DifficultyErrands            0\n",
       "SmokerStatus                 0\n",
       "ECigaretteUsage              0\n",
       "ChestScan                    0\n",
       "RaceEthnicityCategory        0\n",
       "AlcoholDrinkers              0\n",
       "HIVTesting                   0\n",
       "FluVaxLast12                 0\n",
       "PneumoVaxEver                0\n",
       "TetanusLast10Tdap            0\n",
       "HighRiskLastYear             0\n",
       "CovidPos                     0\n",
       "dtype: int64"
      ]
     },
     "execution_count": 6,
     "metadata": {},
     "output_type": "execute_result"
    }
   ],
   "source": [
    "df.isna().sum()\n",
    "# No missing values in the data"
   ]
  },
  {
   "cell_type": "code",
   "execution_count": 7,
   "metadata": {},
   "outputs": [
    {
     "data": {
      "text/plain": [
       "SmokerStatus\n",
       "Never smoked                             142390\n",
       "Former smoker                             66193\n",
       "Current smoker - now smokes every day     21148\n",
       "Current smoker - now smokes some days      7899\n",
       "Name: count, dtype: int64"
      ]
     },
     "execution_count": 7,
     "metadata": {},
     "output_type": "execute_result"
    }
   ],
   "source": [
    "df.SmokerStatus.value_counts()"
   ]
  },
  {
   "cell_type": "code",
   "execution_count": null,
   "metadata": {},
   "outputs": [],
   "source": [
    "# Quick and dirty RF and XGboost, using age (ordinally encoded), sex, BMI and smoker status"
   ]
  },
  {
   "cell_type": "code",
   "execution_count": 9,
   "metadata": {},
   "outputs": [
    {
     "data": {
      "text/plain": [
       "AgeCategory\n",
       "Age 65 to 69       27547\n",
       "Age 60 to 64       25685\n",
       "Age 70 to 74       24946\n",
       "Age 55 to 59       21422\n",
       "Age 50 to 54       19154\n",
       "Age 75 to 79       17679\n",
       "Age 80 or older    17544\n",
       "Age 40 to 44       16228\n",
       "Age 45 to 49       16095\n",
       "Age 35 to 39       14982\n",
       "Age 30 to 34       12825\n",
       "Age 18 to 24       12777\n",
       "Age 25 to 29       10746\n",
       "Name: count, dtype: int64"
      ]
     },
     "execution_count": 9,
     "metadata": {},
     "output_type": "execute_result"
    }
   ],
   "source": [
    "df.AgeCategory.value_counts()"
   ]
  },
  {
   "cell_type": "code",
   "execution_count": 10,
   "metadata": {},
   "outputs": [
    {
     "data": {
      "text/plain": [
       "age\n",
       "9     27547\n",
       "8     25685\n",
       "10    24946\n",
       "7     21422\n",
       "6     19154\n",
       "11    17679\n",
       "12    17544\n",
       "4     16228\n",
       "5     16095\n",
       "3     14982\n",
       "2     12825\n",
       "0     12777\n",
       "1     10746\n",
       "Name: count, dtype: int64"
      ]
     },
     "execution_count": 10,
     "metadata": {},
     "output_type": "execute_result"
    }
   ],
   "source": [
    "# Encode AgeCategory. Try ordinal encoding (should work well for tree, mught not work so well for linear models)\n",
    "df['age'] = df['AgeCategory'].map({'Age 18 to 24': 0,\n",
    "                                   'Age 25 to 29': 1,\n",
    "                                   'Age 30 to 34': 2,\n",
    "                                   'Age 35 to 39': 3,\n",
    "                                   'Age 40 to 44': 4,\n",
    "                                   'Age 45 to 49': 5,\n",
    "                                   'Age 50 to 54': 6,\n",
    "                                   'Age 55 to 59': 7,\n",
    "                                   'Age 60 to 64': 8,\n",
    "                                   'Age 65 to 69': 9,\n",
    "                                   'Age 70 to 74': 10,\n",
    "                                   'Age 75 to 79': 11,\n",
    "                                   'Age 80 or older': 12})\n",
    "\n",
    "df.age.value_counts()"
   ]
  },
  {
   "cell_type": "code",
   "execution_count": 11,
   "metadata": {},
   "outputs": [],
   "source": [
    "# One-hot encode smoker status? Try ordinal encoding first (since we assume some ordinaliry in risk) to make model training and testing more efficient\n",
    "# Ordinal Encoding for SmokerStatus\n",
    "df['smoker'] = df['SmokerStatus'].map({\"Never smoked\": 0,\n",
    "                                       \"Former smoker\": 1,\n",
    "                                        \"Current smoker - now smokes some days\": 2,\n",
    "                                        \"Current smoker - now smokes every day\": 3})\n"
   ]
  },
  {
   "cell_type": "code",
   "execution_count": 16,
   "metadata": {},
   "outputs": [],
   "source": [
    "# Encode sex through binary encoding (no need to one-hot encode as only 2 categories)\n",
    "df['sex'] = df['Sex'].map({'Female': 0, 'Male': 1})\n"
   ]
  },
  {
   "cell_type": "markdown",
   "metadata": {},
   "source": [
    "# Try some models for training and eval speed"
   ]
  },
  {
   "cell_type": "code",
   "execution_count": 42,
   "metadata": {},
   "outputs": [],
   "source": [
    "from sklearn.model_selection import train_test_split\n",
    "from sklearn.ensemble import RandomForestClassifier\n",
    "from sklearn.metrics import recall_score, roc_auc_score"
   ]
  },
  {
   "cell_type": "code",
   "execution_count": 14,
   "metadata": {},
   "outputs": [
    {
     "data": {
      "text/plain": [
       "HadHeartAttack\n",
       "0    224429\n",
       "1     13201\n",
       "Name: count, dtype: int64"
      ]
     },
     "execution_count": 14,
     "metadata": {},
     "output_type": "execute_result"
    }
   ],
   "source": [
    "df['HadHeartAttack'].value_counts()"
   ]
  },
  {
   "cell_type": "code",
   "execution_count": 27,
   "metadata": {},
   "outputs": [
    {
     "data": {
      "text/plain": [
       "HadAngina\n",
       "0    223013\n",
       "1     14617\n",
       "Name: count, dtype: int64"
      ]
     },
     "execution_count": 27,
     "metadata": {},
     "output_type": "execute_result"
    }
   ],
   "source": [
    "df['HadAngina'].value_counts()"
   ]
  },
  {
   "cell_type": "code",
   "execution_count": 33,
   "metadata": {},
   "outputs": [],
   "source": [
    "# split the data into features and target\n",
    "X = df[['age', 'sex', 'smoker', 'BMI']]\n",
    "y = df['HadHeartAttack']"
   ]
  },
  {
   "cell_type": "code",
   "execution_count": 34,
   "metadata": {},
   "outputs": [
    {
     "data": {
      "text/plain": [
       "(237630, 4)"
      ]
     },
     "execution_count": 34,
     "metadata": {},
     "output_type": "execute_result"
    }
   ],
   "source": [
    "X.shape"
   ]
  },
  {
   "cell_type": "code",
   "execution_count": 35,
   "metadata": {},
   "outputs": [
    {
     "data": {
      "text/plain": [
       "(237630,)"
      ]
     },
     "execution_count": 35,
     "metadata": {},
     "output_type": "execute_result"
    }
   ],
   "source": [
    "y.shape"
   ]
  },
  {
   "cell_type": "code",
   "execution_count": null,
   "metadata": {},
   "outputs": [],
   "source": [
    "# split the data into train test split. Stratify the target variable so that the split leads to balanced classes in both train and test\n",
    "X_train, X_test, y_train, y_test = train_test_split(X, y, stratify = y, random_state = 42)"
   ]
  },
  {
   "cell_type": "code",
   "execution_count": 48,
   "metadata": {},
   "outputs": [
    {
     "name": "stdout",
     "output_type": "stream",
     "text": [
      "Recall: 0.32\n",
      "ROC AUC: 0.63\n"
     ]
    }
   ],
   "source": [
    "# initialise the RF classifier\n",
    "rf_clf = RandomForestClassifier(class_weight = 'balanced',n_estimators = 100, random_state = 42)\n",
    "\n",
    "# train the model\n",
    "rf_clf.fit(X_train, y_train)\n",
    "\n",
    "# make predicitons\n",
    "y_pred = rf_clf.predict(X_test)\n",
    "y_pred_proba = rf_clf.predict_proba(X_test)[:,1] # get the predicted probabilities for the positive class\n",
    "\n",
    "# Recall\n",
    "recall = recall_score(y_test, y_pred)\n",
    "print(f\"Recall: {recall:.2f}\")\n",
    "\n",
    "# ROC AUC\n",
    "roc_auc = roc_auc_score(y_test, y_pred_proba)\n",
    "print(f\"ROC AUC: {roc_auc:.2f}\")"
   ]
  },
  {
   "cell_type": "code",
   "execution_count": 49,
   "metadata": {},
   "outputs": [
    {
     "name": "stdout",
     "output_type": "stream",
     "text": [
      "Recall: 0.76\n",
      "ROC AUC: 0.77\n"
     ]
    }
   ],
   "source": [
    "# Try XGBoost (faster)\n",
    "from xgboost import XGBClassifier\n",
    "\n",
    "# Calculate scale_pos_weight for imbalanced dataset\n",
    "scale_pos_weight = len(y_train[y_train == 0]) / len(y_train[y_train == 1])\n",
    "\n",
    "# Initialize the model\n",
    "xgb_clf = XGBClassifier(\n",
    "    n_estimators=100,         # Number of trees\n",
    "    learning_rate=0.1,        # Step size for boosting\n",
    "    max_depth=3,              # Maximum tree depth\n",
    "    scale_pos_weight=scale_pos_weight,  # Handle class imbalance\n",
    "    random_state=42,\n",
    "    use_label_encoder=False,  # Suppress warnings in newer XGBoost versions\n",
    "    eval_metric='logloss'     # Evaluation metric\n",
    ")\n",
    "\n",
    "# train the model\n",
    "xgb_clf.fit(X_train, y_train)\n",
    "\n",
    "#generate predictions\n",
    "y_pred = xgb_clf.predict(X_test)  # Predicted classes\n",
    "y_pred_proba = xgb_clf.predict_proba(X_test)[:, 1]  # Predicted probabilities\n",
    "\n",
    "# Recall\n",
    "recall = recall_score(y_test, y_pred)\n",
    "print(f\"Recall: {recall:.2f}\")\n",
    "\n",
    "# ROC AUC\n",
    "roc_auc = roc_auc_score(y_test, y_pred_proba)\n",
    "print(f\"ROC AUC: {roc_auc:.2f}\")\n"
   ]
  },
  {
   "cell_type": "code",
   "execution_count": null,
   "metadata": {},
   "outputs": [],
   "source": []
  }
 ],
 "metadata": {
  "kernelspec": {
   "display_name": "Python 3",
   "language": "python",
   "name": "python3"
  },
  "language_info": {
   "codemirror_mode": {
    "name": "ipython",
    "version": 3
   },
   "file_extension": ".py",
   "mimetype": "text/x-python",
   "name": "python",
   "nbconvert_exporter": "python",
   "pygments_lexer": "ipython3",
   "version": "3.12.4"
  }
 },
 "nbformat": 4,
 "nbformat_minor": 2
}
