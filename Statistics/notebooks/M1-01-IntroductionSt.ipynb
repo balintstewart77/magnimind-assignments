{
 "cells": [
  {
   "cell_type": "markdown",
   "metadata": {},
   "source": [
    "## 1. Random Numbers\n",
    "Randomness is a big part of machine learning. Randomness is used as a tool or a feature in preparing data and in learning algorithms that map input data to output data in order to make predictions."
   ]
  },
  {
   "cell_type": "markdown",
   "metadata": {},
   "source": [
    "### 1.1 Seed The Random Number Generator\n",
    "The pseudorandom number generator is a mathematical function that generates a sequence of nearly random numbers. It takes a parameter to start off the sequence, called the seed. The function is deterministic, meaning given the same seed, it will produce the same sequence of numbers every time. The choice of seed does not matter. The `seed()` function will seed the pseudorandom number generator, taking an integer value as an argument, such as 1 or 7. If the `seed()` function is not called prior to using randomness."
   ]
  },
  {
   "cell_type": "code",
   "execution_count": 44,
   "metadata": {},
   "outputs": [
    {
     "name": "stdout",
     "output_type": "stream",
     "text": [
      "0.13436424411240122 0.8474337369372327 0.763774618976614\n",
      "0.13436424411240122 0.8474337369372327 0.763774618976614\n"
     ]
    }
   ],
   "source": [
    "# seed the pseudorandom number generator\n",
    "from random import seed\n",
    "from random import random\n",
    "# seed random number generator\n",
    "seed(1)\n",
    "# generate some random numbers\n",
    "# Return the next random floating point number in the range [0.0, 1.0).\n",
    "print(random(), random(), random())\n",
    "# reset the seed\n",
    "seed(1)\n",
    "# generate some random numbers\n",
    "print(random(), random(), random())"
   ]
  },
  {
   "cell_type": "code",
   "execution_count": null,
   "metadata": {},
   "outputs": [],
   "source": [
    "uniformly distributed RV between 0 and 1?\n",
    "When you roll a dice, what is the probablity of 1? "
   ]
  },
  {
   "cell_type": "markdown",
   "metadata": {},
   "source": [
    "### 1.2 Random Floating Point Values\n",
    "Random floating point values can be generated using the `random()` function. Values will be generated in the range between 0 and 1, specifically in the interval $[0,1)$. Values are drawn from a uniform distribution, meaning each value has an equal chance of being drawn."
   ]
  },
  {
   "cell_type": "code",
   "execution_count": 45,
   "metadata": {},
   "outputs": [
    {
     "name": "stdout",
     "output_type": "stream",
     "text": [
      "0.13436424411240122\n",
      "0.8474337369372327\n",
      "0.763774618976614\n",
      "0.2550690257394217\n",
      "0.49543508709194095\n",
      "0.4494910647887381\n",
      "0.651592972722763\n",
      "0.7887233511355132\n",
      "0.0938595867742349\n",
      "0.02834747652200631\n"
     ]
    }
   ],
   "source": [
    "# generate random floating point values\n",
    "from random import seed\n",
    "from random import random\n",
    "# seed random number generator\n",
    "seed(1)\n",
    "# generate random numbers between 0-1\n",
    "for _ in range(10):\n",
    "    value = random()\n",
    "    print(value)"
   ]
  },
  {
   "cell_type": "markdown",
   "metadata": {},
   "source": [
    "### 1.3 Random Integer Values\n",
    "Random integer values can be generated with the `randint()` function. This function takes two arguments: the start and the end of the range for the generated integer values. Random integers are generated within and including the start and end of range values, specifically in the interval $[start, end]$. Random values are drawn from a uniform distribution."
   ]
  },
  {
   "cell_type": "code",
   "execution_count": 46,
   "metadata": {},
   "outputs": [
    {
     "name": "stdout",
     "output_type": "stream",
     "text": [
      "2\n",
      "9\n",
      "1\n",
      "4\n",
      "1\n",
      "7\n",
      "7\n",
      "7\n",
      "10\n",
      "6\n"
     ]
    }
   ],
   "source": [
    "# generate random integer values\n",
    "from random import seed\n",
    "from random import randint\n",
    "# seed random number generator\n",
    "seed(1)\n",
    "# generate some integers\n",
    "for _ in range(10):\n",
    "    value = randint(0, 10)\n",
    "    print(value)"
   ]
  },
  {
   "cell_type": "markdown",
   "metadata": {},
   "source": [
    "### 1.4 Random Gaussian Values\n",
    "Random floating point values can be drawn from a Gaussian distribution using the `gauss()` function. This function takes two arguments that correspond to the parameters that control the size of the distribution, specifically the mean and the standard deviation."
   ]
  },
  {
   "cell_type": "code",
   "execution_count": 47,
   "metadata": {},
   "outputs": [
    {
     "name": "stdout",
     "output_type": "stream",
     "text": [
      "17.881847531554627\n",
      "19.494456086997708\n",
      "5.663358089382619\n",
      "-2.645436509716318\n",
      "-5.9217321510414145\n",
      "5.313345168317169\n",
      "-5.221031700108728\n",
      "-9.3682944510253\n",
      "6.993119764837538\n",
      "6.3337460465860485\n"
     ]
    }
   ],
   "source": [
    "# generate random Gaussian values\n",
    "from random import seed\n",
    "from random import gauss\n",
    "# seed random number generator\n",
    "seed(1)\n",
    "# generate some Gaussian values\n",
    "for _ in range(10):\n",
    "    value = 10*gauss(0, 1)+5\n",
    "    print(value)"
   ]
  },
  {
   "cell_type": "markdown",
   "metadata": {},
   "source": [
    "### 1.5 Randomly Choosing From a List\n",
    "Random numbers can be used to randomly choose an item from a list. For example, if a list had 10 items with indexes between 0 and 9, then you could generate a random integer between 0 and 9 and use it to randomly select an item from the list. The `choice()` function implements this behavior for you. Selections are made with a uniform likelihood."
   ]
  },
  {
   "cell_type": "code",
   "execution_count": 48,
   "metadata": {},
   "outputs": [
    {
     "name": "stdout",
     "output_type": "stream",
     "text": [
      "[0, 1, 2, 3, 4, 5, 6, 7, 8, 9, 10, 11, 12, 13, 14, 15, 16, 17, 18, 19]\n",
      "4\n",
      "18\n",
      "2\n",
      "8\n",
      "3\n"
     ]
    }
   ],
   "source": [
    "# choose a random element from a list\n",
    "from random import seed\n",
    "from random import choice\n",
    "# seed random number generator\n",
    "seed(1)\n",
    "# prepare a sequence\n",
    "sequence = [i for i in range(20)]\n",
    "print(sequence)\n",
    "# make choices from the sequence\n",
    "for _ in range(5):\n",
    "    selection = choice(sequence)\n",
    "    print(selection)"
   ]
  },
  {
   "cell_type": "markdown",
   "metadata": {},
   "source": [
    "### 1.6 Random Subsample From a List\n",
    "We may be interested in repeating the random selection of items from a list to create a randomly chosen subset. Importantly, once an item is selected from the list and added to the subset, it should not be added again. This is called selection without replacement because once an item from the list is selected for the subset, it is not added back to the original list (i.e. is not made available for re-selection). This behavior is provided in the `sample()` function that selects a random sample from a list without replacement. The function takes both the list and the size of the subset to select as arguments. Note that items are not actually removed from the original list, only selected into a copy of the list."
   ]
  },
  {
   "cell_type": "code",
   "execution_count": 49,
   "metadata": {},
   "outputs": [
    {
     "name": "stdout",
     "output_type": "stream",
     "text": [
      "[0, 1, 2, 3, 4, 5, 6, 7, 8, 9, 10, 11, 12, 13, 14, 15, 16, 17, 18, 19]\n",
      "[4, 18, 2, 8, 3]\n"
     ]
    }
   ],
   "source": [
    "# select a random sample without replacement\n",
    "from random import seed\n",
    "from random import sample\n",
    "# seed random number generator\n",
    "seed(1)\n",
    "# prepare a sequence\n",
    "sequence = [i for i in range(20)]\n",
    "print(sequence)\n",
    "# select a subset without replacement\n",
    "subset = sample(sequence, 5)\n",
    "print(subset)"
   ]
  },
  {
   "cell_type": "markdown",
   "metadata": {},
   "source": [
    "### 1.7 Randomly Shuffle a List\n",
    "Randomness can be used to shuffle a list of items, like shuffling a deck of cards. The `shuffle()` function can be used to shuffle a list. The shuffle is performed in place, meaning that the list provided as an argument to the `shuffle()` function is shuffled rather than a shuffled copy of the list being made and returned."
   ]
  },
  {
   "cell_type": "code",
   "execution_count": 50,
   "metadata": {},
   "outputs": [
    {
     "name": "stdout",
     "output_type": "stream",
     "text": [
      "[0, 1, 2, 3, 4, 5, 6, 7, 8, 9, 10, 11, 12, 13, 14, 15, 16, 17, 18, 19]\n",
      "[11, 5, 17, 19, 9, 0, 16, 1, 15, 6, 10, 13, 14, 12, 7, 3, 8, 2, 18, 4]\n"
     ]
    }
   ],
   "source": [
    "# randomly shuffle a sequence\n",
    "from random import seed\n",
    "from random import shuffle\n",
    "# seed random number generator\n",
    "seed(1)\n",
    "# prepare a sequence\n",
    "sequence = [i for i in range(20)]\n",
    "print(sequence)\n",
    "# randomly shuffle the sequence\n",
    "shuffle(sequence)\n",
    "print(sequence)"
   ]
  },
  {
   "cell_type": "markdown",
   "metadata": {},
   "source": [
    "### 1.8 Random Numbers with NumPy\n",
    "In machine learning, you are likely using libraries such as scikit-learn and Keras. These libraries make use of NumPy under the covers, a library that makes working with vectors and matrices of numbers very efficient. NumPy also has its own implementation of a pseudorandom number generator and convenience wrapper functions."
   ]
  },
  {
   "cell_type": "code",
   "execution_count": 51,
   "metadata": {},
   "outputs": [
    {
     "name": "stdout",
     "output_type": "stream",
     "text": [
      "[4.17022005e-01 7.20324493e-01 1.14374817e-04]\n",
      "[4.17022005e-01 7.20324493e-01 1.14374817e-04]\n"
     ]
    }
   ],
   "source": [
    "# seed the pseudorandom number generator\n",
    "from numpy.random import seed\n",
    "from numpy.random import rand\n",
    "# seed random number generator\n",
    "seed(1)\n",
    "# generate some random numbers\n",
    "print(rand(3))\n",
    "# reset the seed\n",
    "seed(1)\n",
    "# generate some random numbers\n",
    "print(rand(3))"
   ]
  },
  {
   "cell_type": "code",
   "execution_count": 52,
   "metadata": {},
   "outputs": [
    {
     "name": "stdout",
     "output_type": "stream",
     "text": [
      "[4.17022005e-01 7.20324493e-01 1.14374817e-04 3.02332573e-01\n",
      " 1.46755891e-01 9.23385948e-02 1.86260211e-01 3.45560727e-01\n",
      " 3.96767474e-01 5.38816734e-01]\n"
     ]
    }
   ],
   "source": [
    "# generate random floating point values\n",
    "from numpy.random import seed\n",
    "from numpy.random import rand\n",
    "# seed random number generator\n",
    "seed(1)\n",
    "# generate random numbers between 0-1\n",
    "values = rand(10)\n",
    "print(values)"
   ]
  },
  {
   "cell_type": "code",
   "execution_count": 53,
   "metadata": {},
   "outputs": [
    {
     "name": "stdout",
     "output_type": "stream",
     "text": [
      "[5 8 9 5 0 0 1 7 6 9 2 4 5 2 4 2 4 7 7 9]\n"
     ]
    }
   ],
   "source": [
    "# generate random integer values\n",
    "from numpy.random import seed\n",
    "from numpy.random import randint\n",
    "# seed random number generator\n",
    "seed(1)\n",
    "# generate some integers\n",
    "values = randint(0, 10, 20)\n",
    "print(values)"
   ]
  },
  {
   "cell_type": "code",
   "execution_count": 54,
   "metadata": {},
   "outputs": [
    {
     "name": "stdout",
     "output_type": "stream",
     "text": [
      "[ 1.62434536 -0.61175641 -0.52817175 -1.07296862  0.86540763 -2.3015387\n",
      "  1.74481176 -0.7612069   0.3190391  -0.24937038]\n"
     ]
    }
   ],
   "source": [
    "# generate random Gaussian values\n",
    "from numpy.random import seed\n",
    "from numpy.random import randn\n",
    "# seed random number generator\n",
    "seed(1)\n",
    "# generate some Gaussian values\n",
    "values = randn(10)\n",
    "print(values)"
   ]
  },
  {
   "cell_type": "code",
   "execution_count": 55,
   "metadata": {},
   "outputs": [
    {
     "name": "stdout",
     "output_type": "stream",
     "text": [
      "[0, 1, 2, 3, 4, 5, 6, 7, 8, 9, 10, 11, 12, 13, 14, 15, 16, 17, 18, 19]\n",
      "[3, 16, 6, 10, 2, 14, 4, 17, 7, 1, 13, 0, 19, 18, 9, 15, 8, 12, 11, 5]\n"
     ]
    }
   ],
   "source": [
    "# randomly shuffle a sequence\n",
    "from numpy.random import seed\n",
    "from numpy.random import shuffle\n",
    "# seed random number generator\n",
    "seed(1)\n",
    "# prepare a sequence\n",
    "sequence = [i for i in range(20)]\n",
    "print(sequence)\n",
    "# randomly shuffle the sequence\n",
    "shuffle(sequence)\n",
    "print(sequence)"
   ]
  },
  {
   "cell_type": "markdown",
   "metadata": {},
   "source": [
    "## 2. Some Important Statistical Concepts and Theorems"
   ]
  },
  {
   "cell_type": "markdown",
   "metadata": {},
   "source": [
    "In this part of the statistics module, we will discuss some important statistical concepts such as:\n",
    "\n",
    "* Population vs Sample\n",
    "* Randomness \n",
    "* Selection Bias\n",
    "* Independence\n",
    "* Joint Probability\n",
    "* Marginal Probability\n",
    "* Conditional Probability"
   ]
  },
  {
   "cell_type": "markdown",
   "metadata": {},
   "source": [
    "### 2.1 Population vs Sample"
   ]
  },
  {
   "cell_type": "markdown",
   "metadata": {},
   "source": [
    "In data science, we infer information based on sample. Therefore, we need to have a reliable and representative sample space drawn from population. As population is a collection of data that consists of all relevant units about which one or more variables are intended to be examined, researched and interpreted. "
   ]
  },
  {
   "cell_type": "markdown",
   "metadata": {},
   "source": [
    "So, vast majority of the cases, we do not work with population due either to its the impossibility to obtain or challenge to process it. Does it make sense to you to understand the political tendency of US voters by visiting every one of them? It amounts to visiting over 300 million people, which is huge!"
   ]
  },
  {
   "cell_type": "markdown",
   "metadata": {},
   "source": [
    "This makes quite important the way we get sample out of the population. The population subsetis called `sample`, and the selection from the population is called sampling.\n",
    "\n",
    "\n"
   ]
  },
  {
   "cell_type": "markdown",
   "metadata": {},
   "source": [
    "In order for sampling to be done, the population is divided into a number of subsets. Usually, sampling is done through these subsets. These subsets are called samples. Although the sample is intended to consist of a single population, it can sometimes consist of more than one population unit."
   ]
  },
  {
   "cell_type": "markdown",
   "metadata": {},
   "source": [
    "Suppose we have a box containing 1000 pieces of marbles with different colors and we want to know how many of them  are red. In this case, the box is our population. First of all, it is possible to count all the red marbles but it is quite time-consuming process. Instead, we can draw like 100 random samples. If 10% of 100 marbles are red, 10% of 1000 marbles are red, then we can get an insight about the proporion of red marbles in the box in a practical way."
   ]
  },
  {
   "cell_type": "markdown",
   "metadata": {},
   "source": [
    "Some of the advantages to work with samples are:\n",
    "\n",
    "* Cost reduction\n",
    "* Having quick result\n",
    "* Population cannot be counted in some cases."
   ]
  },
  {
   "cell_type": "markdown",
   "metadata": {},
   "source": [
    "Let's make a practice and digest the concept of sampling."
   ]
  },
  {
   "cell_type": "markdown",
   "metadata": {},
   "source": [
    "For sampling with Python, we can use the `choice` function in the `random` module in the Numpy library. For the sake of practice, let's create a population first to draw a sample from it. Below, we create a population of 100000 random numbers from integers with a lower bound of 1 and a upper bound of 2 using the `randint` from numpy library. Then, we select a sample of 250 elements."
   ]
  },
  {
   "cell_type": "code",
   "execution_count": 56,
   "metadata": {},
   "outputs": [],
   "source": [
    "import numpy as np\n",
    "population = np.random.randint(1, 3, 100000)\n",
    "sample = np.random.choice(population, 250)"
   ]
  },
  {
   "cell_type": "code",
   "execution_count": 102,
   "metadata": {},
   "outputs": [
    {
     "data": {
      "text/plain": [
       "100000"
      ]
     },
     "execution_count": 102,
     "metadata": {},
     "output_type": "execute_result"
    }
   ],
   "source": [
    "import numpy as np\n",
    "population = np.random.randint(1,3, 100000)\n",
    "len(population)"
   ]
  },
  {
   "cell_type": "code",
   "execution_count": 104,
   "metadata": {},
   "outputs": [
    {
     "data": {
      "text/plain": [
       "(array([1, 2, 1, 1, 2, 1, 2, 2, 2, 2]), 1.49836)"
      ]
     },
     "execution_count": 104,
     "metadata": {},
     "output_type": "execute_result"
    }
   ],
   "source": [
    "population[:10], population.mean()"
   ]
  },
  {
   "cell_type": "code",
   "execution_count": 105,
   "metadata": {},
   "outputs": [
    {
     "data": {
      "text/plain": [
       "1.488"
      ]
     },
     "execution_count": 105,
     "metadata": {},
     "output_type": "execute_result"
    }
   ],
   "source": [
    "sample = np.random.choice(population,250)\n",
    "sample.mean()"
   ]
  },
  {
   "cell_type": "code",
   "execution_count": 57,
   "metadata": {},
   "outputs": [
    {
     "data": {
      "text/plain": [
       "1.49767"
      ]
     },
     "execution_count": 57,
     "metadata": {},
     "output_type": "execute_result"
    }
   ],
   "source": [
    "population.mean()"
   ]
  },
  {
   "cell_type": "markdown",
   "metadata": {},
   "source": [
    "Now let's look at the proportion of numbers greater than 1.5, which is the population mean and we calculate the sample mean:"
   ]
  },
  {
   "cell_type": "code",
   "execution_count": 58,
   "metadata": {},
   "outputs": [
    {
     "data": {
      "text/plain": [
       "array([1, 2, 1, 1, 1, 2, 1, 1, 1])"
      ]
     },
     "execution_count": 58,
     "metadata": {},
     "output_type": "execute_result"
    }
   ],
   "source": [
    "population[1:10]"
   ]
  },
  {
   "cell_type": "code",
   "execution_count": 59,
   "metadata": {},
   "outputs": [
    {
     "name": "stdout",
     "output_type": "stream",
     "text": [
      "Ratio for population:  49.767\n",
      "Ratio for sample   :  46.800000000000004\n"
     ]
    }
   ],
   "source": [
    "print('Ratio for population: ', len(population[population > 1.5])/len(population)*100)\n",
    "print('Ratio for sample   : ', len(sample[sample > 1.5])/len(sample)*100)"
   ]
  },
  {
   "cell_type": "code",
   "execution_count": 107,
   "metadata": {},
   "outputs": [
    {
     "data": {
      "text/plain": [
       "0.49836"
      ]
     },
     "execution_count": 107,
     "metadata": {},
     "output_type": "execute_result"
    }
   ],
   "source": [
    "len(population[population>1.5])/len(population)"
   ]
  },
  {
   "cell_type": "code",
   "execution_count": 60,
   "metadata": {},
   "outputs": [
    {
     "data": {
      "text/plain": [
       "1.49767"
      ]
     },
     "execution_count": 60,
     "metadata": {},
     "output_type": "execute_result"
    }
   ],
   "source": [
    "population.mean()"
   ]
  },
  {
   "cell_type": "code",
   "execution_count": 61,
   "metadata": {},
   "outputs": [
    {
     "data": {
      "text/plain": [
       "1.468"
      ]
     },
     "execution_count": 61,
     "metadata": {},
     "output_type": "execute_result"
    }
   ],
   "source": [
    "sample.mean()"
   ]
  },
  {
   "cell_type": "markdown",
   "metadata": {},
   "source": [
    "It turns out that the population ratio is around 49.9 and the sample ratio is nearly 48.4. Let's increase the sample size and see how it works:"
   ]
  },
  {
   "cell_type": "code",
   "execution_count": 62,
   "metadata": {},
   "outputs": [
    {
     "name": "stdout",
     "output_type": "stream",
     "text": [
      "Ratio for sample 2  :  50.6\n"
     ]
    }
   ],
   "source": [
    "population = np.random.randint(1, 3, 100000)\n",
    "sample_2 = np.random.choice(population, 1000)\n",
    "print('Ratio for sample 2  : ', len(sample_2[sample_2 > 1.5])/len(sample_2)*100)"
   ]
  },
  {
   "cell_type": "markdown",
   "metadata": {},
   "source": [
    "Ratios are not equal, but close. However, our sample gives information about the population with a certain margin of error."
   ]
  },
  {
   "cell_type": "markdown",
   "metadata": {},
   "source": [
    "### 2.2 Randomness"
   ]
  },
  {
   "cell_type": "markdown",
   "metadata": {},
   "source": [
    "The random process is a set of events whose results cannot be explained in deterministic standpoint. Randomness is used to statistically explain events that lack a certain correlation. This term is of considerable importance for a data scientist in that most of the time we work with randomness. \n",
    "\n",
    "The information that the data scientist draws often depends on the ability to measure the unknown. That is, there is a significant difference in data science between saying \"it is 65% likely to rain tomorrow\" rather than \"tomorrow can rain\". Moreover, when we give a number about the probability of rain, it is important that how sure we are about that value."
   ]
  },
  {
   "cell_type": "markdown",
   "metadata": {},
   "source": [
    "For instance, the following statement includes randomness:\n",
    "        \n",
    "        \"With 60% of chance, stock prices will go up tomorrow\"\n",
    "\n",
    "However, the following statement has certainty:\n",
    "        \n",
    "        \"Stock prices will go up tomorrow\"\""
   ]
  },
  {
   "cell_type": "markdown",
   "metadata": {},
   "source": [
    "Probability is also very important in the context of randomness. As in the coin experiment, what we call randomness refers to situations in which all possible outputs occur with equal likelihood. "
   ]
  },
  {
   "cell_type": "markdown",
   "metadata": {},
   "source": [
    "### 2.3 Selection Bias"
   ]
  },
  {
   "cell_type": "markdown",
   "metadata": {},
   "source": [
    "Getting sample from population sounds great but there are certain things that data scientists should follow in order to have realiable and representative sample. Selection bias can be defined as the `systematic difference` between our sample and population. Selection bias can occur when researchers employ improper procedures for selecting a sample population. Selection bias arises when the comparisons in data from the sample population makes no sense at all due to unequal and unfair sample procedure."
   ]
  },
  {
   "cell_type": "markdown",
   "metadata": {},
   "source": [
    "Following may be a good example for selection bias: people who are lucky when they play gambling for the first time (beginner's luck) tend to believe it is a sign that they will be lucky for the rest of their lives. It is believed that such people are more likely to become dependent on gambling."
   ]
  },
  {
   "cell_type": "markdown",
   "metadata": {},
   "source": [
    "For example, say you want to study the effects of working nights on the incidence of a certain health problem. You collect health information on a group of 9-to-5 workers and a group of workers doing the same kind of work, but at night. You then measure the rates at which members of both groups reported the health problem. You might conclude that night work is associated with an increase in that problem.\n",
    "\n",
    "The trouble is, the two groups you studied may have been very different to begin with. The people who worked nights may have been less skilled, with fewer employment options. Their lower socioeconomic status would also be linked with more health risks—due to less healthy diets, less time and money for leisure activities and so on. So your finding may not be related to night work at all, but a reflection of the influence of socioeconomic status.\n",
    "\n",
    "Selection bias also occurs when people volunteer for a study."
   ]
  },
  {
   "cell_type": "markdown",
   "metadata": {},
   "source": [
    "### 2.4 Independence"
   ]
  },
  {
   "cell_type": "markdown",
   "metadata": {},
   "source": [
    "In probability theory, if two events occur independently of each other, we call them independent events. That is, if the outcome of one event does not affect the other event, these two events are refered to as independent events. For example, you toss a coin and it comes up tails twice, what is the chance that the next toss will also be a tail? The answer is the same: 1/2."
   ]
  },
  {
   "cell_type": "markdown",
   "metadata": {},
   "source": [
    "If two events are independent, it can be mathematically described as:"
   ]
  },
  {
   "cell_type": "markdown",
   "metadata": {},
   "source": [
    "$$\\begin{equation}\n",
    "A\\in X \\text{ and } B\\in Y\\\\\n",
    "P(A\\in X,B\\in Y)=P(A\\in X)P(B\\in Y)\n",
    "\\end{equation}$$"
   ]
  },
  {
   "cell_type": "markdown",
   "metadata": {},
   "source": [
    "For example, suppose there are 10 balls in a bag, 5 red and 5 blue with replacement. The first time we draw a ball from the bag and look at the color. Then, we throw the ball back into the bag.\n",
    "\n",
    "$$P(red) = 1/2$$\n",
    "\n"
   ]
  },
  {
   "cell_type": "markdown",
   "metadata": {},
   "source": [
    "Here, P represents the probability.\n",
    "\n",
    "Since the possibility of a blue ball coming out of the bag in our second draw is independent of the first draw: $P (red) = P (blue) = 1/2$\n",
    "\n",
    "The probability of occurrence of two or more independent events is multiplied by the probability of each. This means that we can first pull red from the bag and then blue:\n",
    "\n",
    "$$P(red ∩ blue) = P(red) P(blue) = (1/2) (1/2) = 1/4$$"
   ]
  },
  {
   "cell_type": "markdown",
   "metadata": {},
   "source": [
    "### 2.5 Joint Probability"
   ]
  },
  {
   "cell_type": "markdown",
   "metadata": {},
   "source": [
    "The probability of two (or more) events is called the joint probability. The joint probability of two or more random variables is referred to as the joint probability distribution. For example, the joint probability of event A and event B is written formally as $P(A,B)$. The joint probability for events A and B is calculated as the probability of event A given event B multiplied by the probability of event B."
   ]
  },
  {
   "cell_type": "markdown",
   "metadata": {},
   "source": [
    "### 2.6 Marginal Probability"
   ]
  },
  {
   "cell_type": "markdown",
   "metadata": {},
   "source": [
    "Let A be a set of events, and hypothetically, event A is not independent of event B. In this case, on the basis of the probability of occurrence of event B, the probability of occurrence of A is called marginal probability.\n",
    "\n",
    "$$\n",
    "\\begin{equation}\n",
    "P_A(A_j)=\\sum^\\infty_{i=1}P(A_j,B_i)\n",
    "\\end{equation}$$\n",
    "i=1,2,..."
   ]
  },
  {
   "attachments": {
    "9fdf9960-ac82-426b-8f29-adc0746abb8b.png": {
     "image/png": "[encoded data removed]"
    }
   },
   "cell_type": "markdown",
   "metadata": {},
   "source": [
    "![image.png](attachment:9fdf9960-ac82-426b-8f29-adc0746abb8b.png)"
   ]
  },
  {
   "cell_type": "markdown",
   "metadata": {},
   "source": [
    "### 2.7 Conditional Probability"
   ]
  },
  {
   "cell_type": "markdown",
   "metadata": {},
   "source": [
    "As its name suggests, as opposed to independence property, the probability of two events are dependent on each other. Conditional probability of event A given that event B occurs, then conditional probability turns out to be:"
   ]
  },
  {
   "cell_type": "markdown",
   "metadata": {},
   "source": [
    "$$\\begin{equation}\n",
    "P(A|B)=\\frac{P(B|A)P(A)}{P(B)}=\\frac{P(A \\cap B)}{P(B)}\n",
    "\\end{equation}$$"
   ]
  },
  {
   "cell_type": "markdown",
   "metadata": {},
   "source": [
    "***Bayes' Theorem***\n",
    ">Sometimes, the converse of a conditional probability is of interest. Ex: A spam filter measures the frequency of known spam messages and known legitimate messages containing words from a list of words more likely to appear in spam. The converse probability is the likelihood that a message containing words from the spam list is actually spam.\n",
    "\n",
    ">Bayes' Theorem relates the probability of an event $A$ given a condition $B$ to the probability of the condition $B$ given that the event $A$ occurred. That is, Bayes' Theorem allows $P(A|B)$ to be calculated from $P(B|A)$.\n",
    "\n",
    "$$\\begin{equation}\n",
    "P(A|B)=\\frac{P(B|A)P(A)}{P(B)}=\\frac{P(B|A)P(A)}{P(B|A)P(A)+P(B|\\bar{A})P(\\bar{A})}\n",
    "\\end{equation}$$"
   ]
  },
  {
   "cell_type": "markdown",
   "metadata": {},
   "source": [
    "$P(B|A)P(A)+P(B|\\bar{A})P(\\bar{A})$\n",
    "\n",
    "$P(B,A) + P(B, \\bar A)$\n",
    "\n",
    "$P(B)$"
   ]
  },
  {
   "cell_type": "code",
   "execution_count": null,
   "metadata": {},
   "outputs": [],
   "source": []
  },
  {
   "cell_type": "markdown",
   "metadata": {},
   "source": [
    "Imagine you are a financial analyst at an investment bank. According to your research of publicly-traded companies, 60% of the companies that increased their share price by more than 5% in the last three years replaced their CEOs during the period. At the same time, only 35% of the companies that did not increase their share price by more than 5% in the same period replaced their CEOs. Knowing that the probability that the stock prices grow by more than 5% is 4%, find the probability that the shares of a company that fires its CEO will increase by more than 5%."
   ]
  },
  {
   "cell_type": "markdown",
   "metadata": {},
   "source": [
    "$$\\begin{equation}\n",
    "P(A|B)=\\frac{P(B|A)P(A)}{P(B)}=\\frac{P(B|A)P(A)}{P(B|A)P(A)+P(B|\\bar{A})P(\\bar{A})}\n",
    "\\end{equation}$$"
   ]
  },
  {
   "cell_type": "markdown",
   "metadata": {},
   "source": [
    "- A: stock prices grow by more than 5%\n",
    "- B: Replacing the CEO\n",
    "- $P(B|A)$: =given the share price is increased by 5%, probability that a company fires the CEO\n",
    "- $P(B|\\bar A)$: given the share price is not increased by 5%, the probability that a company fires the CEPO\n",
    "- $P(B)=P(B|A)+P(B|\\bar A)$"
   ]
  },
  {
   "cell_type": "code",
   "execution_count": null,
   "metadata": {},
   "outputs": [],
   "source": []
  },
  {
   "cell_type": "markdown",
   "metadata": {},
   "source": [
    "$$\\begin{equation}\n",
    "P(A|B)=\\frac{0.6*0.04}{0.6*0.04+0.35*(1-0.04)}=0.067\n",
    "\\end{equation}$$"
   ]
  },
  {
   "cell_type": "markdown",
   "metadata": {},
   "source": [
    "## 3. Law of Large Numbers\n",
    "The law of large numbers is a theorem from probability and statistics that suggests that the average result from repeating an experiment multiple times will better approximate the true or expected underlying result.\n",
    "We can think of a trial of an experiment as one observation. The standalone and independent repetition of the experiment will perform multiple trials and lead to multiple observations. All sample observations for an experiment are drawn from an idealized population of observations.\n",
    " - Observation: Result from one trial of an experiment.\n",
    " - Sample: Group of results gathered from separate independent trials.\n",
    " - Population: Space of all possible observations that could be seen from a trial.\n",
    " \n",
    "Using these terms from statistics, we can say that as the size of the sample increases, the mean value of the sample will better approximate the mean or expected value in the population. As the sample size goes to infinity, the sample mean will converge to the population mean.\n",
    "\n",
    "It is important to be clear that the observations in the sample must be independent. This means that the trial is run in an identical manner and does not depend on the results of any other trial. In statistics, this expectation is called independent and identically distributed, or IID, iid, or i.i.d. for short."
   ]
  },
  {
   "cell_type": "code",
   "execution_count": 63,
   "metadata": {},
   "outputs": [
    {
     "data": {
      "image/png": "[encoded data removed]",
      "text/plain": [
       "<Figure size 432x288 with 1 Axes>"
      ]
     },
     "metadata": {
      "needs_background": "light"
     },
     "output_type": "display_data"
    }
   ],
   "source": [
    "# idealized population distribution\n",
    "from numpy import arange\n",
    "from matplotlib import pyplot\n",
    "from scipy.stats import norm\n",
    "# x-axis for the plot\n",
    "xaxis = arange(30, 70, 1)\n",
    "# y-axis for the plot\n",
    "yaxis = norm.pdf(xaxis, 50, 5)\n",
    "# plot ideal population\n",
    "pyplot.plot(xaxis, yaxis)\n",
    "pyplot.show()"
   ]
  },
  {
   "cell_type": "code",
   "execution_count": 64,
   "metadata": {},
   "outputs": [
    {
     "data": {
      "image/png": "[encoded data removed]",
      "text/plain": [
       "<Figure size 432x288 with 1 Axes>"
      ]
     },
     "metadata": {
      "needs_background": "light"
     },
     "output_type": "display_data"
    }
   ],
   "source": [
    "# demonstrate the law of large numbers\n",
    "from numpy.random import seed\n",
    "from numpy.random import randn\n",
    "from numpy import mean\n",
    "from numpy import array\n",
    "from matplotlib import pyplot\n",
    "# seed the random number generator\n",
    "seed(1)\n",
    "# sample sizes\n",
    "sizes = list()\n",
    "for x in range (10, 20000, 200):\n",
    "    sizes.append(x)\n",
    "# generate samples of different sizes and calculate their means\n",
    "means = [mean(5 * randn(size) + 50) for size in sizes]\n",
    "# plot sample mean error vs sample size\n",
    "pyplot.scatter(sizes, array(means)-50)\n",
    "pyplot.show()\n",
    "                                  "
   ]
  },
  {
   "cell_type": "code",
   "execution_count": 65,
   "metadata": {},
   "outputs": [
    {
     "data": {
      "text/plain": [
       "array([57.08614106, 51.29791602, 52.98347121, 46.69064641, 55.89939928,\n",
       "       41.61255187, 43.30635118, 48.19815499, 49.59659551, 52.10082635,\n",
       "       46.37829523, 47.67711083, 45.3224547 , 38.00898411, 58.31040845,\n",
       "       52.46718639, 49.93030821, 48.62622695, 45.61450143, 46.63103733,\n",
       "       45.4412318 , 46.23679156, 46.69837724, 46.59853742, 47.69609173,\n",
       "       52.04637313, 43.85373337, 48.6366848 , 52.80044329, 56.18856783])"
      ]
     },
     "execution_count": 65,
     "metadata": {},
     "output_type": "execute_result"
    }
   ],
   "source": [
    "from numpy.random import randn\n",
    "5 * randn(30) + 50"
   ]
  },
  {
   "cell_type": "markdown",
   "metadata": {},
   "source": [
    "Running the example creates a plot that compares the size of the sample to the error of the sample mean from the population mean. Generally, we can see that larger sample sizes have less error, and we would expect this trend to continue, on average. We can also see that some sample means overestimate and some underestimate."
   ]
  },
  {
   "cell_type": "code",
   "execution_count": null,
   "metadata": {},
   "outputs": [],
   "source": []
  },
  {
   "cell_type": "markdown",
   "metadata": {},
   "source": [
    "The Law of Large Numbers is very simple: as the number of samples with a uniform distribution and randomly selected variables increases, the sample mean approaches the theoretical average.\n",
    "\n",
    "The Law of Large Numbers therefore explains why casinos make money in the long run.\n",
    "\n",
    "Let's see this on a dice sample. As we know in a membrane, there are 6 possibilities, and each probability is equal. This probability is approximately 0.166."
   ]
  },
  {
   "cell_type": "code",
   "execution_count": 98,
   "metadata": {},
   "outputs": [],
   "source": [
    "import numpy as np\n",
    "import pandas as pd\n",
    "import matplotlib.pyplot as plt\n"
   ]
  },
  {
   "cell_type": "code",
   "execution_count": 101,
   "metadata": {},
   "outputs": [
    {
     "data": {
      "text/plain": [
       "5"
      ]
     },
     "execution_count": 101,
     "metadata": {},
     "output_type": "execute_result"
    }
   ],
   "source": [
    "np.random.randint(low=1,high=7, size=1)[0]"
   ]
  },
  {
   "cell_type": "code",
   "execution_count": 68,
   "metadata": {},
   "outputs": [],
   "source": [
    "sample = []\n",
    "sample_means = []\n",
    "for number_shots in range(1,2000):\n",
    "    shot = np.random.randint(low=1,high=7, size=1)[0]\n",
    "    sample.append(shot)\n",
    "    sample_means.append(np.mean(sample))"
   ]
  },
  {
   "cell_type": "code",
   "execution_count": 69,
   "metadata": {},
   "outputs": [
    {
     "name": "stdout",
     "output_type": "stream",
     "text": [
      "[3, 3, 6, 4, 4, 3, 4, 6, 4, 5]\n",
      "[3.0, 3.0, 4.0, 4.0, 4.0, 3.8333333333333335, 3.857142857142857, 4.125, 4.111111111111111, 4.2]\n"
     ]
    }
   ],
   "source": [
    "print(sample[0:10])\n",
    "print(sample_means[0:10])"
   ]
  },
  {
   "cell_type": "code",
   "execution_count": 86,
   "metadata": {},
   "outputs": [],
   "source": [
    "def sample_plot(sample_means,sample_size, subplot_no):\n",
    "    plt.subplot(subplot_no)\n",
    "    plt.hlines(3.5, 0, sample_size, colors= 'r' )\n",
    "    plt.plot(sample_means[0:sample_size])\n",
    "    plt.ylim((1,6))\n",
    "    plt.title(\"Sample Size = {}\".format(sample_size))\n",
    "    plt.xlabel(\"Sample Size\")\n",
    "    plt.ylabel(\"Sample Mean\")\n",
    "    return plt"
   ]
  },
  {
   "cell_type": "code",
   "execution_count": 87,
   "metadata": {},
   "outputs": [
    {
     "data": {
      "image/png": "[encoded data removed]",
      "text/plain": [
       "<Figure size 1080x360 with 3 Axes>"
      ]
     },
     "metadata": {
      "needs_background": "light"
     },
     "output_type": "display_data"
    }
   ],
   "source": [
    "plt.figure(figsize=(15,5))\n",
    "sample_plot(sample_means,100, 131) \n",
    "sample_plot(sample_means, 500, 132)\n",
    "sample_plot(sample_means, 2000, 133)\n",
    "plt.show()"
   ]
  },
  {
   "cell_type": "markdown",
   "metadata": {},
   "source": [
    "## 4. Central Limit Theorem\n",
    "The theorem states that as the size of the sample increases, the distribution of the mean across multiple samples will approximate a Gaussian distribution.\n",
    "\n",
    "If we calculate the mean of a sample, it will be an estimate of the mean of the population distribution. But, like any estimate, it will be wrong and will contain some error. If we draw multiple independent samples, and calculate their means, the distribution of those means will form a Gaussian distribution. It is important that each trial that results in an observation be independent and performed in the same way. This is to ensure that the sample is drawing from the same underlying population distribution."
   ]
  },
  {
   "cell_type": "markdown",
   "metadata": {},
   "source": [
    "$S_1 = x_1, x_2, x_3$\n",
    "\n",
    "$\\bar S_1$"
   ]
  },
  {
   "cell_type": "code",
   "execution_count": 88,
   "metadata": {},
   "outputs": [
    {
     "name": "stdout",
     "output_type": "stream",
     "text": [
      "[6 4 5 1 2 4 6 1 1 2 5 6 5 2 3 5 6 3 5 4 5 3 5 6 3 5 2 2 1 6 2 2 6 2 2 1 5\n",
      " 2 1 1 6 4 3 2 1 4 6 2 2 4]\n",
      "3.44\n"
     ]
    }
   ],
   "source": [
    "# generate random dice rolls\n",
    "from numpy.random import seed\n",
    "from numpy.random import randint\n",
    "from numpy import mean\n",
    "# seed the random number generator\n",
    "seed(1)\n",
    "# generate a sample of die rolls\n",
    "rolls = randint(1, 7, 50)\n",
    "print(rolls)\n",
    "print(mean(rolls))"
   ]
  },
  {
   "cell_type": "code",
   "execution_count": 70,
   "metadata": {},
   "outputs": [
    {
     "data": {
      "image/png": "[encoded data removed]",
      "text/plain": [
       "<Figure size 432x288 with 1 Axes>"
      ]
     },
     "metadata": {
      "needs_background": "light"
     },
     "output_type": "display_data"
    }
   ],
   "source": [
    "# demonstration of the central limit theorem\n",
    "from numpy.random import seed\n",
    "from numpy.random import randint\n",
    "from numpy import mean\n",
    "from matplotlib import pyplot\n",
    "# seed the random number generator\n",
    "seed(1)\n",
    "# calculate the mean of 50 dice rolls 1000 times\n",
    "means = [mean(randint(1, 7, 50)) for _ in range(1000)]\n",
    "# plot the distribution of sample means\n",
    "pyplot.hist(means)\n",
    "pyplot.show()"
   ]
  },
  {
   "cell_type": "markdown",
   "metadata": {},
   "source": [
    "Running the example creates a histogram plot of the sample means. We can tell from the shape of the distribution that the distribution is Gaussian. It’s interesting to note the amount of error in the sample mean that we can see in 1,000 trials of 50 dice rolls. Further, the central limit theorem also states that as the size of each sample, in this case 50, is increased, then the better the sample means will approximate a Gaussian distribution."
   ]
  },
  {
   "cell_type": "markdown",
   "metadata": {
    "tags": []
   },
   "source": [
    "## 5. Probability"
   ]
  },
  {
   "cell_type": "markdown",
   "metadata": {},
   "source": [
    "We are not living in a world of certainty. Image the world around you, how many times you try to make a prediction out of necessity? Why we need a prediction if we have a certainty? In extreme case, a test conducted by a medical doctor can produce positive (negative) even if it is supposed to be negative (positive). So, probability is everywhere."
   ]
  },
  {
   "cell_type": "markdown",
   "metadata": {
    "tags": []
   },
   "source": [
    "### 5.1. Sample Space\n",
    "Certain actions have measurable outcomes. A sample space is the set of all the possible outcomes an action could produce. Let’s take the simple action of flipping a coin. The coin will land on either heads or tails. Thus, the coin flip will produce one of two measurable outcomes: heads or tails."
   ]
  },
  {
   "cell_type": "markdown",
   "metadata": {},
   "source": [
    "A coin-flip will produce one of 2 measurable outcomes: _Heads_ or _Tails_. By storing outcomes in a Python set, we can create a **sample space** of coin-flips.\n",
    "\n",
    "**5.1.1. Creating a Sample Space of Coin-Flips**"
   ]
  },
  {
   "cell_type": "code",
   "execution_count": null,
   "metadata": {},
   "outputs": [],
   "source": []
  },
  {
   "cell_type": "markdown",
   "metadata": {},
   "source": [
    "All outcomes within `sample_space` share an identical probability, which is equal to `1 / len(sample_space)`.\n",
    "\n",
    "**5. 1. 2. Computing the probability of heads**"
   ]
  },
  {
   "cell_type": "code",
   "execution_count": null,
   "metadata": {},
   "outputs": [],
   "source": []
  },
  {
   "cell_type": "markdown",
   "metadata": {},
   "source": [
    "The probability of choosing `'Heads'` equals 0.5. What is the probability that the coin lands on either heads or on\n",
    "tails? To find rigorous answers, we’ll need to define the\n",
    "concept of an **event**. An event is the subset of those elements within sample_space that\n",
    "satisfy some event condition. An **event condition** is a simple Boolean function whose input\n",
    "is a single sample_space element. \n",
    "\n",
    "**5. 1. 3. Defining event conditions**"
   ]
  },
  {
   "cell_type": "code",
   "execution_count": null,
   "metadata": {},
   "outputs": [],
   "source": []
  },
  {
   "cell_type": "markdown",
   "metadata": {},
   "source": [
    "Also, for completeness-sake, lets define event conditions for the two basic events in which the coin satisfies exactly one of our two potential outcomes."
   ]
  },
  {
   "cell_type": "markdown",
   "metadata": {},
   "source": [
    "**5. 1. 4. Defining additional event conditions**"
   ]
  },
  {
   "cell_type": "code",
   "execution_count": null,
   "metadata": {},
   "outputs": [],
   "source": []
  },
  {
   "cell_type": "markdown",
   "metadata": {},
   "source": [
    "We can pass event conditions into a generalized `get_matching_event` function. The\n",
    "function iterates through `generic_sample_space` and returns the set of outcomes where\n",
    "`event_condition(outcome)` is `True`.\n",
    "\n",
    "**5. 1. 5. Defining an event detection function**"
   ]
  },
  {
   "cell_type": "code",
   "execution_count": null,
   "metadata": {},
   "outputs": [],
   "source": []
  },
  {
   "cell_type": "markdown",
   "metadata": {},
   "source": [
    "Lets execute `get_matching_event` on our 4 event conditions.\n",
    "\n",
    "**5. 1. 6. Detecting events using event conditions**"
   ]
  },
  {
   "cell_type": "code",
   "execution_count": null,
   "metadata": {},
   "outputs": [],
   "source": []
  },
  {
   "cell_type": "markdown",
   "metadata": {},
   "source": [
    "We’ve successfully extracted 4 events from `sample_space`. The probability of each event is equal to `len(event) / len(sample_space)`.\n",
    "\n",
    "**5. 1. 7. Computing event probabilities**"
   ]
  },
  {
   "cell_type": "code",
   "execution_count": null,
   "metadata": {},
   "outputs": [],
   "source": []
  },
  {
   "cell_type": "markdown",
   "metadata": {
    "tags": []
   },
   "source": [
    "### 5.2. Analyzing a Biased Coin\n",
    "Suppose a coin is 4 times more likely to land on heads relative to tails. We can represent that coin as a weighted sample space.\n",
    "\n",
    "**Listing 5. 2. 1. Representing a weighted sample space**"
   ]
  },
  {
   "cell_type": "code",
   "execution_count": null,
   "metadata": {},
   "outputs": [],
   "source": []
  },
  {
   "cell_type": "markdown",
   "metadata": {},
   "source": [
    "Our new sample space is stored within a dictionary. We can redefine sample-space size as the sum of all dictionary weights.\n",
    "\n",
    "**Listing 5. 2. 2. Checking the weighted sample space size**"
   ]
  },
  {
   "cell_type": "code",
   "execution_count": null,
   "metadata": {},
   "outputs": [],
   "source": []
  },
  {
   "cell_type": "markdown",
   "metadata": {},
   "source": [
    "We can redefine event size in similar manner. Each event is a set of outcomes. These outcomes map to weights. Summing over these weights will yield the event size.\n",
    "\n",
    "**Listing 5. 2. 3. Checking the weighted event size**"
   ]
  },
  {
   "cell_type": "code",
   "execution_count": null,
   "metadata": {},
   "outputs": [],
   "source": []
  },
  {
   "cell_type": "markdown",
   "metadata": {},
   "source": [
    "Our generalized definitions of sample-space size and event size permit us to create a\n",
    "`compute_event_probability function.`\n",
    "\n",
    "**Listing 5. 2. 4. Defining a generalized event probability function**"
   ]
  },
  {
   "cell_type": "code",
   "execution_count": null,
   "metadata": {},
   "outputs": [],
   "source": []
  },
  {
   "cell_type": "markdown",
   "metadata": {},
   "source": [
    "We can now output all the event probabilities for the biased coin without needing to redefine our 4 event condition functions.\n",
    "\n",
    "**Listing 5. 2. 5. Computing weighted event probabilities**"
   ]
  },
  {
   "cell_type": "code",
   "execution_count": null,
   "metadata": {},
   "outputs": [],
   "source": []
  },
  {
   "cell_type": "markdown",
   "metadata": {
    "tags": []
   },
   "source": [
    "## 6. Gaussian and Summary Stats"
   ]
  },
  {
   "cell_type": "markdown",
   "metadata": {},
   "source": [
    "A distribution of data refers to the shape it has when you graph it, such as with a histogram. The most commonly seen and therefore well-known distribution of continuous values is the bell curve. It is known as the normal distribution, because it is the distribution that a lot of data falls into. It is also known as the Gaussian distribution, more formally, named for Carl Friedrich Gauss. As such, you will see references to data being normally distributed or Gaussian, which are interchangeable, both referring to the same thing: that the data looks like the Gaussian distribution. Some examples of observations that have a Gaussian distribution include:\n",
    " - People’s heights.\n",
    " - IQ scores.\n",
    " - Body temperature."
   ]
  },
  {
   "cell_type": "markdown",
   "metadata": {},
   "source": [
    "### PDF of Gaussian Distribution\n",
    "\n",
    "The probability density function (PDF) is given by,\n",
    "$$ f(x\\mid \\mu ,\\sigma ^{2})={\\frac {1}{\\sqrt {2\\pi \\sigma ^{2}}}}e^{-{\\frac {(x-\\mu )^{2}}{2\\sigma ^{2}}}} $$\n",
    "where,\n",
    "- $\\mu$ is the mean or expectation of the distribution (and also its median and mode),\n",
    "- $\\sigma$ is the standard deviation, and $\\sigma^2$ is the variance.\n"
   ]
  },
  {
   "cell_type": "code",
   "execution_count": 83,
   "metadata": {},
   "outputs": [
    {
     "data": {
      "text/plain": [
       "[<matplotlib.lines.Line2D at 0x7fa5387a6160>]"
      ]
     },
     "execution_count": 83,
     "metadata": {},
     "output_type": "execute_result"
    },
    {
     "data": {
      "image/png": "[encoded data removed]",
      "text/plain": [
       "<Figure size 432x288 with 1 Axes>"
      ]
     },
     "metadata": {
      "needs_background": "light"
     },
     "output_type": "display_data"
    }
   ],
   "source": [
    "# generate and plot an idealized gaussian\n",
    "from numpy import arange\n",
    "from matplotlib import pyplot\n",
    "from scipy.stats import norm\n",
    "# x-axis for the plot\n",
    "x_axis = arange(-3, 3, 0.001)\n",
    "# y-axis as the gaussian\n",
    "y_axis = norm.pdf(x_axis, 0, 1) \n",
    "    #normpdf(x,mu,sigma) returns the pdf of the normal distribution with mean mu and\n",
    "    #standard deviation sigma, evaluated at the values in x.\n",
    "# plot data\n",
    "pyplot.plot(x_axis, y_axis)\n",
    "#pyplot.show()\n"
   ]
  },
  {
   "cell_type": "code",
   "execution_count": 4,
   "metadata": {},
   "outputs": [
    {
     "data": {
      "image/png": "[encoded data removed]",
      "text/plain": [
       "<Figure size 720x360 with 1 Axes>"
      ]
     },
     "metadata": {
      "needs_background": "light"
     },
     "output_type": "display_data"
    }
   ],
   "source": [
    "import numpy as np\n",
    "from matplotlib import pyplot as plt\n",
    "x = np.linspace(-3, 3, num = 100)\n",
    "constant = 1.0 / np.sqrt(2*np.pi)\n",
    "pdf_normal_distribution = constant * np.exp((-x**2) / 2.0)\n",
    "\n",
    "fig, ax = plt.subplots(figsize=(10, 5))\n",
    "ax.plot(x, pdf_normal_distribution)\n",
    "plt.plot(figsize=(10, 5));\n",
    "ax.set_ylim(0);\n",
    "ax.set_title('Normal Distribution', size = 20)\n",
    "ax.set_ylabel('Probability Density', size = 20);"
   ]
  },
  {
   "cell_type": "code",
   "execution_count": 23,
   "metadata": {},
   "outputs": [
    {
     "data": {
      "text/plain": [
       "<matplotlib.axes._subplots.AxesSubplot at 0x1231afbb0>"
      ]
     },
     "execution_count": 23,
     "metadata": {},
     "output_type": "execute_result"
    }
   ],
   "source": [
    "ax"
   ]
  },
  {
   "cell_type": "code",
   "execution_count": null,
   "metadata": {},
   "outputs": [],
   "source": []
  },
  {
   "cell_type": "markdown",
   "metadata": {},
   "source": [
    "A uniform distribution is another common distribution, often seen when each item or value has an equal value for being selected. The shape of a graph of the uniform distribution is a flat line."
   ]
  },
  {
   "cell_type": "markdown",
   "metadata": {},
   "source": [
    "### 6.1 Sample vs Population"
   ]
  },
  {
   "cell_type": "markdown",
   "metadata": {},
   "source": [
    "- Data Sample: A subset of observations from a group.\n",
    "- Data Population: All possible observations from a group.\n",
    "\n",
    "This is an important distinction because different statistical methods are used on samples vs populations, and in applied machine learning, we are often working with samples of data. If you read or use the word population when talking about data in machine learning, it very likely means sample when it comes to statistical methods."
   ]
  },
  {
   "cell_type": "markdown",
   "metadata": {},
   "source": [
    "### 6.2 Generate Test Dataset"
   ]
  },
  {
   "cell_type": "markdown",
   "metadata": {},
   "source": [
    "We can use the `randn()` NumPy function to generate a sample of random numbers drawn from a Gaussian distribution. There are two key parameters that define any Gaussian distribution; they are the mean and the standard deviation. The `randn()` function will generate a specified number of random numbers (e.g. 10,000) drawn from a Gaussian distribution with a mean of zero and a standard deviation of 1. We can then scale these numbers to a Gaussian of our choosing by rescaling the numbers."
   ]
  },
  {
   "cell_type": "code",
   "execution_count": 92,
   "metadata": {},
   "outputs": [
    {
     "data": {
      "image/png": "[encoded data removed]",
      "text/plain": [
       "<Figure size 432x288 with 1 Axes>"
      ]
     },
     "metadata": {
      "needs_background": "light"
     },
     "output_type": "display_data"
    }
   ],
   "source": [
    "# generate a sample of random gaussians\n",
    "from numpy.random import seed\n",
    "from numpy.random import randn\n",
    "from matplotlib import pyplot\n",
    "# seed the random number generator\n",
    "seed(1)\n",
    "# generate univariate observations\n",
    "data = 5 * randn(10000) + 50\n",
    "# histogram of generated data\n",
    "pyplot.hist(data)\n",
    "pyplot.show()"
   ]
  },
  {
   "cell_type": "code",
   "execution_count": 87,
   "metadata": {},
   "outputs": [],
   "source": [
    "from numpy.random import randn\n",
    "mylist=[]\n",
    "for _ in arange(1000):\n",
    "    mylist.append(randn())"
   ]
  },
  {
   "cell_type": "code",
   "execution_count": 88,
   "metadata": {},
   "outputs": [
    {
     "data": {
      "text/plain": [
       "1000"
      ]
     },
     "execution_count": 88,
     "metadata": {},
     "output_type": "execute_result"
    }
   ],
   "source": [
    "len(mylist)"
   ]
  },
  {
   "cell_type": "code",
   "execution_count": 91,
   "metadata": {},
   "outputs": [
    {
     "data": {
      "text/plain": [
       "0.9774608795487727"
      ]
     },
     "execution_count": 91,
     "metadata": {},
     "output_type": "execute_result"
    }
   ],
   "source": [
    "std(mylist)"
   ]
  },
  {
   "cell_type": "code",
   "execution_count": null,
   "metadata": {},
   "outputs": [],
   "source": [
    "if E[X]=mu, E[a*X]=?, E[X]=sum(X)/len(X)\n",
    "\n",
    "X-->represents RV, x1, x2, x3, ...., xn\n",
    "a*X-->a*x1, a*x2, a*x3, ...., a*xn\n",
    "E[aX]=aE[X]=a*mu\n",
    "\n",
    "Var(X)-->on average, how much your X spreads around the mean of X\n",
    "var(X)--> E[(X-mu)^2]-->sum(X-mu)^2/(len(X))\n",
    "std = sqrt(var)\n",
    "\n",
    "var(a*X)-->a^2*var(X)\n",
    "\n",
    "E[X+a]-->a+E[X]-->a+mu\n",
    "a+X-->a+x1, a+x2, a+x3, ...., a+xn\n",
    "\n",
    "var[X+a]-->var(X)"
   ]
  },
  {
   "cell_type": "code",
   "execution_count": null,
   "metadata": {},
   "outputs": [],
   "source": [
    "can you generate normally distributed random samples with mean=5, std=4, and plot the histogram?\n",
    "var(4*randn())-->16, std-->4\n",
    "mean(4*randn())-->0\n",
    "\n",
    "4*randn() -->NRV with std=4, mean=0\n",
    "\n",
    "mean(4*randn()+5)-->0+5-->5\n",
    "var(4*randn()+5)-->16+0-->16"
   ]
  },
  {
   "cell_type": "code",
   "execution_count": 53,
   "metadata": {},
   "outputs": [
    {
     "name": "stdout",
     "output_type": "stream",
     "text": [
      "50.04886328349552\n",
      "4.993929218440242\n",
      "24.93932903879117\n"
     ]
    }
   ],
   "source": [
    "print(data.mean())\n",
    "print(data.std())\n",
    "print(data.var())"
   ]
  },
  {
   "cell_type": "markdown",
   "metadata": {},
   "source": [
    "In the case of this dataset, we do have enough data and the plot is blocky because the plotting function chooses an arbitrary sized bucket for splitting up the data. We can choose a different, more granular way to split up the data and better expose the underlying Gaussian distribution. The updated example with the more refined plot is listed below."
   ]
  },
  {
   "cell_type": "code",
   "execution_count": 6,
   "metadata": {},
   "outputs": [
    {
     "data": {
      "image/png": "[encoded data removed]",
      "text/plain": [
       "<Figure size 432x288 with 1 Axes>"
      ]
     },
     "metadata": {
      "needs_background": "light"
     },
     "output_type": "display_data"
    }
   ],
   "source": [
    "# generate a sample of random gaussians\n",
    "from numpy.random import seed\n",
    "from numpy.random import randn\n",
    "from matplotlib import pyplot\n",
    "# seed the random number generator\n",
    "seed(1)\n",
    "# generate univariate observations\n",
    "data = 5 * randn(10000) + 50\n",
    "# histogram of generated data\n",
    "pyplot.hist(data, bins=100)\n",
    "pyplot.show()"
   ]
  },
  {
   "cell_type": "code",
   "execution_count": 15,
   "metadata": {},
   "outputs": [],
   "source": [
    "datat=(data-np.mean(data))/np.std(data)/np.sqrt(len(data))"
   ]
  },
  {
   "cell_type": "code",
   "execution_count": 16,
   "metadata": {},
   "outputs": [
    {
     "data": {
      "image/png": "[encoded data removed]",
      "text/plain": [
       "<Figure size 432x288 with 1 Axes>"
      ]
     },
     "metadata": {
      "needs_background": "light"
     },
     "output_type": "display_data"
    }
   ],
   "source": [
    "pyplot.hist(datat, bins=100)\n",
    "pyplot.show()"
   ]
  },
  {
   "cell_type": "markdown",
   "metadata": {},
   "source": [
    "### 6.3 Central Tendency"
   ]
  },
  {
   "cell_type": "markdown",
   "metadata": {},
   "source": [
    "The central tendency of a distribution refers to the middle or typical value in the distribution. The most common or most likely value. In the Gaussian distribution, the central tendency is called the mean, or more formally, the arithmetic mean, and is one of the two main parameters that defines any Gaussian distribution.\n",
    "\n",
    "$$mean(x)=\\frac{1}{n}\\times \\sum_{i=1}^{n}x_i $$\n",
    "\n",
    "The notation for the population mean is the Greek lower case letter `mu` ($\\mu$). The notation for the sample mean is the variable with a bar above, such as `x-bar` ($\\bar x$)."
   ]
  },
  {
   "cell_type": "code",
   "execution_count": 7,
   "metadata": {},
   "outputs": [
    {
     "name": "stdout",
     "output_type": "stream",
     "text": [
      "Mean: 50.049\n"
     ]
    }
   ],
   "source": [
    "# calculate the mean of a sample\n",
    "from numpy.random import seed\n",
    "from numpy.random import randn\n",
    "from numpy import mean\n",
    "# seed the random number generator\n",
    "seed(1)\n",
    "# generate univariate observations\n",
    "data = 5 * randn(10000) + 50\n",
    "# calculate mean\n",
    "result = mean(data) \n",
    "print('Mean: {:.3f}'.format(result))"
   ]
  },
  {
   "cell_type": "markdown",
   "metadata": {},
   "source": [
    "Recall that the `numpy.mean()` function is used to find the mean of values in an array. The `DataFrame.mean()` function is used to find the mean of values in a data frame."
   ]
  },
  {
   "cell_type": "code",
   "execution_count": 8,
   "metadata": {},
   "outputs": [
    {
     "name": "stdout",
     "output_type": "stream",
     "text": [
      "5.8\n"
     ]
    }
   ],
   "source": [
    "import numpy as np\n",
    "\n",
    "# Creates an array\n",
    "arr1 = np.array([4, 8, 2, 10, 5])\n",
    "\n",
    "# Prints the mean \n",
    "print(np.mean(arr1))"
   ]
  },
  {
   "cell_type": "code",
   "execution_count": 9,
   "metadata": {},
   "outputs": [
    {
     "name": "stdout",
     "output_type": "stream",
     "text": [
      "   Exam1  Exam2  Exam3  Exam4\n",
      "0    100     66     74     68\n",
      "1     76     84    100     75\n",
      "2     89     80    100     95\n",
      "3     83     76     91     74\n",
      "4     86     99     78     78\n",
      "Exam1    82.70\n",
      "Exam2    79.40\n",
      "Exam3    73.34\n",
      "Exam4    76.50\n",
      "dtype: float64\n",
      "Exam1    82.7\n",
      "dtype: float64\n",
      "Exam1    82.7\n",
      "Exam2    79.4\n",
      "dtype: float64\n"
     ]
    }
   ],
   "source": [
    "import pandas as pd\n",
    "\n",
    "scores = pd.read_csv('ExamScores.csv')\n",
    "\n",
    "# Prints the first few lines of data\n",
    "print(scores.head())\n",
    "\n",
    "# Prints the mean for each exam\n",
    "print(scores.mean())\n",
    "\n",
    "# Prints the mean for Exam1 only\n",
    "print(scores[['Exam1']].mean())\n",
    "\n",
    "# Prints the means for Exam1 and Exam2\n",
    "print(scores[['Exam1', 'Exam2']].mean())"
   ]
  },
  {
   "cell_type": "code",
   "execution_count": 10,
   "metadata": {},
   "outputs": [],
   "source": [
    "import pandas as pd\n",
    "scores = pd.read_csv('ExamScores.csv')"
   ]
  },
  {
   "cell_type": "code",
   "execution_count": 11,
   "metadata": {},
   "outputs": [
    {
     "data": {
      "text/html": [
       "<div>\n",
       "<style scoped>\n",
       "    .dataframe tbody tr th:only-of-type {\n",
       "        vertical-align: middle;\n",
       "    }\n",
       "\n",
       "    .dataframe tbody tr th {\n",
       "        vertical-align: top;\n",
       "    }\n",
       "\n",
       "    .dataframe thead th {\n",
       "        text-align: right;\n",
       "    }\n",
       "</style>\n",
       "<table border=\"1\" class=\"dataframe\">\n",
       "  <thead>\n",
       "    <tr style=\"text-align: right;\">\n",
       "      <th></th>\n",
       "      <th>Exam1</th>\n",
       "      <th>Exam2</th>\n",
       "      <th>Exam3</th>\n",
       "      <th>Exam4</th>\n",
       "    </tr>\n",
       "  </thead>\n",
       "  <tbody>\n",
       "    <tr>\n",
       "      <th>0</th>\n",
       "      <td>100</td>\n",
       "      <td>66</td>\n",
       "      <td>74</td>\n",
       "      <td>68</td>\n",
       "    </tr>\n",
       "    <tr>\n",
       "      <th>1</th>\n",
       "      <td>76</td>\n",
       "      <td>84</td>\n",
       "      <td>100</td>\n",
       "      <td>75</td>\n",
       "    </tr>\n",
       "    <tr>\n",
       "      <th>2</th>\n",
       "      <td>89</td>\n",
       "      <td>80</td>\n",
       "      <td>100</td>\n",
       "      <td>95</td>\n",
       "    </tr>\n",
       "    <tr>\n",
       "      <th>3</th>\n",
       "      <td>83</td>\n",
       "      <td>76</td>\n",
       "      <td>91</td>\n",
       "      <td>74</td>\n",
       "    </tr>\n",
       "    <tr>\n",
       "      <th>4</th>\n",
       "      <td>86</td>\n",
       "      <td>99</td>\n",
       "      <td>78</td>\n",
       "      <td>78</td>\n",
       "    </tr>\n",
       "  </tbody>\n",
       "</table>\n",
       "</div>"
      ],
      "text/plain": [
       "   Exam1  Exam2  Exam3  Exam4\n",
       "0    100     66     74     68\n",
       "1     76     84    100     75\n",
       "2     89     80    100     95\n",
       "3     83     76     91     74\n",
       "4     86     99     78     78"
      ]
     },
     "execution_count": 11,
     "metadata": {},
     "output_type": "execute_result"
    }
   ],
   "source": [
    "scores.head()"
   ]
  },
  {
   "cell_type": "code",
   "execution_count": 12,
   "metadata": {},
   "outputs": [
    {
     "name": "stdout",
     "output_type": "stream",
     "text": [
      "Exam1    82.7\n",
      "dtype: float64\n"
     ]
    }
   ],
   "source": [
    "print(scores[['Exam1']].mean())"
   ]
  },
  {
   "cell_type": "code",
   "execution_count": 13,
   "metadata": {},
   "outputs": [
    {
     "name": "stdout",
     "output_type": "stream",
     "text": [
      "77.98500000000001\n"
     ]
    }
   ],
   "source": [
    "print(scores.mean().mean())"
   ]
  },
  {
   "cell_type": "markdown",
   "metadata": {},
   "source": [
    "The mean is easily influenced by outlier values, that is, rare values far from the mean. These may be legitimately rare observations on the edge of the distribution or errors. In the case of outliers or a non-Gaussian distribution, an alternate and commonly used central tendency to calculate is the median. The median is calculated by first sorting all data and then locating the middle value in the sample."
   ]
  },
  {
   "cell_type": "code",
   "execution_count": 14,
   "metadata": {},
   "outputs": [
    {
     "name": "stdout",
     "output_type": "stream",
     "text": [
      "Median: 50.042\n"
     ]
    }
   ],
   "source": [
    "# calculate the median of a sample\n",
    "from numpy.random import seed\n",
    "from numpy.random import randn\n",
    "from numpy import median\n",
    "# seed the random number generator\n",
    "seed(1)\n",
    "# generate univariate observations\n",
    "data = 5 * randn(10000) + 50\n",
    "# calculate median\n",
    "result = median(data) \n",
    "print('Median: {:.3f}'.format(result))"
   ]
  },
  {
   "cell_type": "markdown",
   "metadata": {},
   "source": [
    "Running the example, we can see that median is calculated from the sample and printed. The result is not too dissimilar from the mean because the sample has a Gaussian distribution. If the data had a different (non-Gaussian) distribution, the median may be very different from the mean and perhaps a better reflection of the central tendency of the underlying population."
   ]
  },
  {
   "cell_type": "code",
   "execution_count": 15,
   "metadata": {},
   "outputs": [
    {
     "name": "stdout",
     "output_type": "stream",
     "text": [
      "Exam1    83.0\n",
      "Exam2    79.5\n",
      "Exam3    74.5\n",
      "Exam4    75.0\n",
      "dtype: float64\n",
      "Exam1    83.0\n",
      "dtype: float64\n"
     ]
    }
   ],
   "source": [
    "import pandas as pd\n",
    "\n",
    "# Loads the ExamScores dataset\n",
    "scores = pd.read_csv('ExamScores.csv')\n",
    "\n",
    "# Prints the median for each exam\n",
    "print(scores.median())\n",
    "\n",
    "# Prints the median for Exam1 only\n",
    "print(scores[['Exam1']].median())"
   ]
  },
  {
   "cell_type": "markdown",
   "metadata": {},
   "source": [
    "***Example:*** The rent dataset lists the monthly rent (in USD) of  apartments with area less than  $1000ft^2$ in  cities. The columns of the dataset give the rents in Santa Monica, CA, Boise, ID, Tucson, AZ, Detroit, MI, Pittsburgh, PA, and Orlando, FL.\n",
    "\n",
    "To find the mean and median, the CSV file is first imported into Python as a pandas DataFrame. Then find the mean rent for Santa Monica, mean rent for all cities, and the median rent for all cities. "
   ]
  },
  {
   "cell_type": "code",
   "execution_count": 16,
   "metadata": {},
   "outputs": [
    {
     "name": "stdout",
     "output_type": "stream",
     "text": [
      "   Santa Monica CA  Boise ID  Tucson AZ  Detroit MI  Pittsburgh PA  Orlando FL\n",
      "0            10230      1600       2495        3195           2480        2242\n",
      "1            10000      1500       2200        2695           2435        2000\n",
      "2             9000      1029       2150        2595           2405        1912\n",
      "3             8500      1025       1800        2495           2350        1895\n",
      "4             8250       980       1650        2495           2320        1800\n",
      "5             8000       950       1600        1675           2316        1765\n",
      "6             7000       950       1500        1525           2305        1685\n",
      "7             6500       925       1500        1480           2290        1670\n",
      "8             6000       925       1500        1410           2275        1665\n",
      "9             5815       900       1500        1400           2265        1625\n"
     ]
    }
   ],
   "source": [
    "import pandas as pd\n",
    "rent = pd.read_csv('rent.csv')\n",
    "print(rent)"
   ]
  },
  {
   "cell_type": "code",
   "execution_count": 17,
   "metadata": {},
   "outputs": [
    {
     "name": "stdout",
     "output_type": "stream",
     "text": [
      "7929.5\n"
     ]
    }
   ],
   "source": [
    "print(rent['Santa Monica CA'].mean())"
   ]
  },
  {
   "cell_type": "code",
   "execution_count": 18,
   "metadata": {},
   "outputs": [
    {
     "name": "stdout",
     "output_type": "stream",
     "text": [
      "Santa Monica CA    7929.5\n",
      "Boise ID           1078.4\n",
      "Tucson AZ          1789.5\n",
      "Detroit MI         2096.5\n",
      "Pittsburgh PA      2344.1\n",
      "Orlando FL         1825.9\n",
      "dtype: float64\n"
     ]
    }
   ],
   "source": [
    "print(rent.mean())"
   ]
  },
  {
   "cell_type": "code",
   "execution_count": 19,
   "metadata": {},
   "outputs": [
    {
     "name": "stdout",
     "output_type": "stream",
     "text": [
      "Santa Monica CA    8125.0\n",
      "Boise ID            965.0\n",
      "Tucson AZ          1625.0\n",
      "Detroit MI         2085.0\n",
      "Pittsburgh PA      2318.0\n",
      "Orlando FL         1782.5\n",
      "dtype: float64\n"
     ]
    }
   ],
   "source": [
    "print(rent.median())"
   ]
  },
  {
   "cell_type": "markdown",
   "metadata": {},
   "source": [
    "### 6.4 Variance"
   ]
  },
  {
   "cell_type": "markdown",
   "metadata": {},
   "source": [
    "The variance of a distribution refers to how much on average that observations vary or differ from the mean value. It is useful to think of the variance as a measure of the spread of a distribution. A low variance will have values grouped around the mean (e.g. a narrow bell shape), whereas a high variance will have values spread out from the mean (e.g. a wide bell shape.)"
   ]
  },
  {
   "cell_type": "code",
   "execution_count": 20,
   "metadata": {},
   "outputs": [
    {
     "data": {
      "image/png": "[encoded data removed]",
      "text/plain": [
       "<Figure size 432x288 with 1 Axes>"
      ]
     },
     "metadata": {
      "needs_background": "light"
     },
     "output_type": "display_data"
    }
   ],
   "source": [
    "# generate and plot gaussians with different variance\n",
    "from numpy import arange\n",
    "from matplotlib import pyplot\n",
    "from scipy.stats import norm\n",
    "# x-axis for the plot\n",
    "x_axis = arange(-3, 3, 0.001)\n",
    "# plot low variance\n",
    "pyplot.plot(x_axis, norm.pdf(x_axis, 0, 0.5))\n",
    "# plot high variance\n",
    "pyplot.plot(x_axis, norm.pdf(x_axis, 0, 1))\n",
    "pyplot.show()"
   ]
  },
  {
   "cell_type": "markdown",
   "metadata": {},
   "source": [
    "The variance of a data sample drawn from a Gaussian distribution is calculated as the average squared difference of each observation in the sample from the sample mean:\n",
    "\n",
    "$$ variance (x)=\\frac{1}{n-1}\\sum_{i=1}^{n}(x_i-mean(x))^2$$\n",
    "\n",
    "Where variance is often denoted as $s^2$ or the lowercase Greek letter sigma $\\sigma^2$, clearly showing the squared units of the measure."
   ]
  },
  {
   "cell_type": "markdown",
   "metadata": {},
   "source": [
    "$x_1, x_2, \\ldots x_n$\n",
    "\n",
    "$\\bar x=\\frac{x_1+x_2\\ldots x_n}{n}$\n",
    "\n",
    "$x_1 - \\frac{x_1+x_2\\ldots x_n}{n} $\n",
    "\n",
    "$x_2 - \\frac{x_1+x_2\\ldots x_n}{n} $\n",
    "\n",
    "$x_{n-1} - \\frac{x_1+x_2\\ldots x_n}{n} $\n"
   ]
  },
  {
   "cell_type": "code",
   "execution_count": 21,
   "metadata": {},
   "outputs": [
    {
     "name": "stdout",
     "output_type": "stream",
     "text": [
      "Variance: 24.939\n"
     ]
    }
   ],
   "source": [
    "# calculate the variance of a sample\n",
    "from numpy.random import seed\n",
    "from numpy.random import randn\n",
    "from numpy import var\n",
    "# seed the random number generator\n",
    "seed(1)\n",
    "# generate univariate observations\n",
    "data = 5 * randn(10000) + 50\n",
    "# calculate variance\n",
    "result = var(data)\n",
    "print('Variance: {:.3f}'.format(result))"
   ]
  },
  {
   "cell_type": "code",
   "execution_count": 22,
   "metadata": {},
   "outputs": [
    {
     "data": {
      "text/plain": [
       "24.93932903879117"
      ]
     },
     "execution_count": 22,
     "metadata": {},
     "output_type": "execute_result"
    }
   ],
   "source": [
    "data.var()"
   ]
  },
  {
   "cell_type": "markdown",
   "metadata": {},
   "source": [
    "It is hard to interpret the variance because the units are the squared units of the observations. We can return the units to the original units of the observations by taking the square root of the result. For example, the square root of 24.939 is about 4.9. Often, when the spread of a Gaussian distribution is summarized, it is described using the square root of the variance. This is called the standard deviation."
   ]
  },
  {
   "cell_type": "code",
   "execution_count": 23,
   "metadata": {},
   "outputs": [
    {
     "name": "stdout",
     "output_type": "stream",
     "text": [
      "Standard Deviation: 4.994\n"
     ]
    }
   ],
   "source": [
    "# calculate the standard deviation of a sample\n",
    "from numpy.random import seed\n",
    "from numpy.random import randn\n",
    "from numpy import std\n",
    "# seed the random number generator\n",
    "seed(1)\n",
    "# generate univariate observations\n",
    "data = 5 * randn(10000) + 50\n",
    "# calculate standard deviation\n",
    "result = std(data)\n",
    "print('Standard Deviation: {:.3f}'.format(result))"
   ]
  },
  {
   "cell_type": "code",
   "execution_count": 24,
   "metadata": {},
   "outputs": [
    {
     "name": "stdout",
     "output_type": "stream",
     "text": [
      "Exam1     9.291756\n",
      "Exam2    14.332780\n",
      "Exam3    21.754296\n",
      "Exam4     8.056560\n",
      "dtype: float64\n",
      "Exam1    9.291756\n",
      "dtype: float64\n",
      "Exam1     86.336735\n",
      "Exam2    205.428571\n",
      "Exam3    473.249388\n",
      "Exam4     64.908163\n",
      "dtype: float64\n",
      "Exam1    86.336735\n",
      "dtype: float64\n"
     ]
    }
   ],
   "source": [
    "import pandas as pd\n",
    "\n",
    "# Loads the ExamScores dataset\n",
    "scores = pd.read_csv('ExamScores.csv')\n",
    "\n",
    "# Prints the standard deviation for each exam\n",
    "print(scores.std())\n",
    "\n",
    "# Prints the standard deviation for Exam1 only\n",
    "print(scores[['Exam1']].std()) \n",
    "\n",
    "# Prints the variance for each exam\n",
    "print(scores.var())\n",
    "\n",
    "# Prints the variance for Exam1 only\n",
    "print(scores[['Exam1']].var())"
   ]
  },
  {
   "cell_type": "markdown",
   "metadata": {},
   "source": [
    "## 3. Simple Data Visualisation\n",
    "Data visualization is an important skill in applied statistics and machine learning. Statistics does indeed focus on quantitative descriptions and estimations of data. Data visualization provides an important suite of tools for gaining a qualitative understanding. This can be helpful when exploring and getting to know a dataset and can help with identifying patterns, corrupt data, outliers, and much more. With a little domain knowledge, data visualizations can be used to express and demonstrate key relationships in plots and charts that are more visceral to yourself and stakeholders than measures of association or significance."
   ]
  },
  {
   "cell_type": "markdown",
   "metadata": {},
   "source": [
    "### 7.1 Introduction to Matplotlib"
   ]
  },
  {
   "cell_type": "markdown",
   "metadata": {},
   "source": [
    "It is the foundation for many other plotting libraries and plotting support in higher-level libraries such as Pandas. The `Matplotlib` provides a context, one in which one or more plots can be drawn before the image is shown or saved to file. The context can be accessed via functions on pyplot."
   ]
  },
  {
   "cell_type": "code",
   "execution_count": null,
   "metadata": {},
   "outputs": [],
   "source": [
    "# import matplotlib context\n",
    "import matplotlib.pyplot as plt\n",
    "...\n",
    "\n",
    "...\n",
    "# create a plot\n",
    "plt.plot(...)\n",
    "\n",
    "# display the plot\n",
    "plt.show()\n",
    "\n",
    "...\n",
    "# save plot to file\n",
    "plt.savefig('my_image.png')"
   ]
  },
  {
   "cell_type": "markdown",
   "metadata": {},
   "source": [
    "### 7.2 Line Plot\n",
    "A line plot is generally used to present observations collected at regular intervals. The x-axis represents the regular interval, such as time. The y-axis shows the observations, ordered by the x-axis and connected by a line. A line plot can be created by calling the `plot()` function and passing the x-axis data for the regular interval, and y-axis for the observations."
   ]
  },
  {
   "cell_type": "code",
   "execution_count": 25,
   "metadata": {},
   "outputs": [
    {
     "data": {
      "image/png": "[encoded data removed]",
      "text/plain": [
       "<Figure size 432x288 with 1 Axes>"
      ]
     },
     "metadata": {
      "needs_background": "light"
     },
     "output_type": "display_data"
    }
   ],
   "source": [
    "# example of a line plot\n",
    "from numpy import sin\n",
    "import matplotlib.pyplot as plt\n",
    "# consistent interval for x-axis\n",
    "x = [x*0.1 for x in range(100)]\n",
    "# function of x for y-axis\n",
    "y = sin(x)\n",
    "# create line plot\n",
    "plt.plot(x, y)\n",
    "# show line plot\n",
    "plt.show()"
   ]
  },
  {
   "cell_type": "markdown",
   "metadata": {},
   "source": [
    "### 7.3 Bar Chart\n",
    "A bar chart is generally used to present relative quantities for multiple categories. The x-axis represents the categories and are spaced evenly. The y-axis represents the quantity for each category and is drawn as a bar from the baseline to the appropriate level on the y-axis. A bar chart can be created by calling the `bar()` function and passing the category names for the x-axis and the quantities for the y-axis."
   ]
  },
  {
   "cell_type": "code",
   "execution_count": 26,
   "metadata": {},
   "outputs": [
    {
     "data": {
      "image/png": "[encoded data removed]",
      "text/plain": [
       "<Figure size 432x288 with 1 Axes>"
      ]
     },
     "metadata": {
      "needs_background": "light"
     },
     "output_type": "display_data"
    }
   ],
   "source": [
    "# example of a bar chart\n",
    "from random import seed\n",
    "from random import randint\n",
    "from matplotlib import pyplot\n",
    "# seed the random number generator\n",
    "seed(2)\n",
    "# names for categories\n",
    "#The randint() method returns an integer number selected element from the specified range.ranint(start,stop)\n",
    "x = ['red', 'green', 'blue']\n",
    "# quantities for each category\n",
    "y = [randint(0, 100), randint(0, 100), randint(0, 100)]\n",
    "# create bar chart\n",
    "pyplot.bar(x, y)\n",
    "# show line plot\n",
    "pyplot.show()"
   ]
  },
  {
   "cell_type": "code",
   "execution_count": 53,
   "metadata": {},
   "outputs": [
    {
     "data": {
      "text/plain": [
       "[7, 11, 10]"
      ]
     },
     "execution_count": 53,
     "metadata": {},
     "output_type": "execute_result"
    }
   ],
   "source": [
    "y"
   ]
  },
  {
   "cell_type": "code",
   "execution_count": null,
   "metadata": {},
   "outputs": [],
   "source": [
    "red red red red blue green"
   ]
  },
  {
   "cell_type": "markdown",
   "metadata": {},
   "source": [
    "### 7.4 Histogram Plot\n",
    "A `frequency distribution` is a table that displays how often an outcome occurs for a sample. To construct a frequency distribution, the data set is divided into mutually exclusive classes. A `class` is either a value of a categorical variable or an interval of a continuous variable. The frequency of a class is the number of events or values that fall under each class. The most common graphical representation of a frequency distribution is a `histogram`. A histogram depicts data values by splitting a continuous variable into a number of class intervals, each known as a `bin`. The simplest and most common type of histogram has bins of equal size. When bin sizes are equal, bins have rectangular bars with heights representing the frequency, which is the number of values in a bin.\n",
    "\n",
    "A histogram plot is generally used to summarize the distribution of a data sample. The x-axis represents discrete bins or intervals for the observations. For example observations with values between 1 and 10 may be split into five bins, the values [1,2] would be allocated to the first bin,[3,4] would be allocated to the second bin, and so on. The y-axis represents the frequency or count of the number of observations in the dataset that belong to each bin. Essentially, a data sample is transformed into a bar chart where each category on the x-axis represents an interval of observation values.\n",
    "\n",
    "When creating a histogram, multiple bin sizes should be attempted to determine the best distribution of the data. A good rule of thumb is to start with a bin size so that the number of bins is roughly equal to the square root of the number of values."
   ]
  },
  {
   "cell_type": "code",
   "execution_count": 27,
   "metadata": {},
   "outputs": [
    {
     "data": {
      "image/png": "[encoded data removed]",
      "text/plain": [
       "<Figure size 432x288 with 1 Axes>"
      ]
     },
     "metadata": {
      "needs_background": "light"
     },
     "output_type": "display_data"
    }
   ],
   "source": [
    "# example of a histogram plot\n",
    "from numpy.random import seed\n",
    "from numpy.random import randn\n",
    "from matplotlib import pyplot\n",
    "# seed the random number generator\n",
    "seed(1)\n",
    "# random numbers drawn from a Gaussian distribution\n",
    "x = randn(100)\n",
    "# create histogram plot\n",
    "pyplot.hist(x,bins=10)\n",
    "# show line plot\n",
    "pyplot.show()"
   ]
  },
  {
   "cell_type": "code",
   "execution_count": 28,
   "metadata": {},
   "outputs": [
    {
     "data": {
      "image/png": "[encoded data removed]",
      "text/plain": [
       "<Figure size 432x288 with 1 Axes>"
      ]
     },
     "metadata": {
      "needs_background": "light"
     },
     "output_type": "display_data"
    }
   ],
   "source": [
    "...\n",
    "# create histogram plot with specified bins\n",
    "pyplot.hist(x, bins=100);"
   ]
  },
  {
   "cell_type": "markdown",
   "metadata": {},
   "source": [
    "Several basic distribution patterns should be looked for when selecting a bin size, because some situations are known to follow a certain distribution. The standard bell curve is a unimodal distribution pattern. A unimodal distribution occurs when there is one (uni) prevalent peak (mode) in the histogram. \n",
    "\n",
    "- Bimodal: Contains two prevalent modes\n",
    "- Multimodal: Contains multiple prevalent modes\n",
    "- Skewed left: Contains a mode on the right with a tail of low-frequency bins on the left\n",
    "- Skewed right: Contains a mode on the left with a tail of low-frequency bins on the right"
   ]
  },
  {
   "cell_type": "markdown",
   "metadata": {},
   "source": [
    "The `Height` dataset gives the heights, in inches, of students in a particular class."
   ]
  },
  {
   "cell_type": "code",
   "execution_count": 29,
   "metadata": {},
   "outputs": [
    {
     "data": {
      "image/png": "[encoded data removed]",
      "text/plain": [
       "<Figure size 432x288 with 1 Axes>"
      ]
     },
     "metadata": {
      "needs_background": "light"
     },
     "output_type": "display_data"
    }
   ],
   "source": [
    "import pandas as pd\n",
    "import matplotlib.pyplot as plt\n",
    "heights = pd.read_csv('height.csv')\n",
    "\n",
    "fig, ax = plt.subplots()\n",
    "plt.hist(heights['Height'], bins=6)\n",
    "ax.set_xlabel('Height')\n",
    "ax.set_ylabel('Frequency')\n",
    "plt.show()"
   ]
  },
  {
   "cell_type": "code",
   "execution_count": null,
   "metadata": {},
   "outputs": [],
   "source": []
  },
  {
   "cell_type": "markdown",
   "metadata": {},
   "source": [
    "### 7.5 Box and Whisker Plot\n",
    "A box and whisker plot, or boxplot for short, is generally used to summarize the distribution of a data sample. The x-axis is used to represent the data sample, where multiple boxplots can be drawn side by side on the x-axis if desired.\n",
    "The y-axis represents the observation values. A box is drawn to summarize the middle 50% of the dataset starting at the observation at the 25th percentile and ending at the 75th percentile. This is called the interquartile range, or `IQR`. The median, or 50th percentile, is drawn with a line. Lines called whiskers are drawn extending from both ends of the box calculated as `1.5×IQR` to demonstrate the expected range of sensible values in the distribution. Observations outside the whiskers might be outliers and are drawn with small circles."
   ]
  },
  {
   "cell_type": "code",
   "execution_count": 30,
   "metadata": {},
   "outputs": [
    {
     "data": {
      "image/png": "[encoded data removed]",
      "text/plain": [
       "<Figure size 432x288 with 1 Axes>"
      ]
     },
     "metadata": {
      "needs_background": "light"
     },
     "output_type": "display_data"
    }
   ],
   "source": [
    "# example of a box and whisker plot\n",
    "from numpy.random import seed\n",
    "from numpy.random import randn\n",
    "from matplotlib import pyplot\n",
    "# seed the random number generator\n",
    "seed(1)\n",
    "# random numbers drawn from a Gaussian distribution\n",
    "x = [randn(1000), 5 * randn(1000), 10 * randn(1000)]\n",
    "# create box and whisker plot\n",
    "pyplot.boxplot(x)\n",
    "# show line plot\n",
    "pyplot.show()"
   ]
  },
  {
   "cell_type": "code",
   "execution_count": 31,
   "metadata": {},
   "outputs": [
    {
     "name": "stdout",
     "output_type": "stream",
     "text": [
      "Exam1    59\n",
      "Exam2    49\n",
      "Exam3    18\n",
      "Exam4    55\n",
      "dtype: int64\n",
      "Exam1    59\n",
      "dtype: int64\n",
      "Exam1    100\n",
      "Exam2    100\n",
      "Exam3    100\n",
      "Exam4    100\n",
      "dtype: int64\n",
      "Exam1    100\n",
      "dtype: int64\n"
     ]
    }
   ],
   "source": [
    "import pandas as pd\n",
    "scores = pd.read_csv('ExamScores.csv')\n",
    "\n",
    "# Prints the minimum score for each exam\n",
    "print(scores.min())\n",
    "\n",
    "# Prints the minimum score for Exam1 only\n",
    "print(scores[['Exam1']].min())\n",
    "\n",
    "# Prints the maximum score for each exam\n",
    "print(scores.max())\n",
    "\n",
    "# Prints the maximum score for Exam1 only\n",
    "print(scores[['Exam1']].max())"
   ]
  },
  {
   "cell_type": "code",
   "execution_count": 32,
   "metadata": {},
   "outputs": [
    {
     "name": "stdout",
     "output_type": "stream",
     "text": [
      "____Range by subtracting the min from max:____\n",
      "Exam1    41\n",
      "Exam2    51\n",
      "Exam3    82\n",
      "Exam4    45\n",
      "dtype: int64\n",
      "____Now using the function:____\n",
      "Exam1    41\n",
      "Exam2    51\n",
      "Exam3    82\n",
      "Exam4    45\n",
      "dtype: int64\n",
      "Exam1    41\n",
      "dtype: int64\n",
      "Exam2    51\n",
      "dtype: int64\n",
      "Exam4    45\n",
      "dtype: int64\n"
     ]
    }
   ],
   "source": [
    "import pandas as pd\n",
    "scores = pd.read_csv('ExamScores.csv')\n",
    "\n",
    "# Calculating the range by subtracting the minimum from the maximum\n",
    "score_range = scores.max() - scores.min()\n",
    "print('____Range by subtracting the min from max:____')\n",
    "print(score_range)\n",
    "print('____Now using the function:____')\n",
    "# Defining a function that can be used repeatedly\n",
    "def range_of_scores(x):\n",
    "    return x.max() - x.min()\n",
    "\n",
    "print(range_of_scores(scores))\n",
    "print(range_of_scores(scores[['Exam1']]))\n",
    "print(range_of_scores(scores[['Exam2']]))\n",
    "print(range_of_scores(scores[['Exam4']]))"
   ]
  },
  {
   "cell_type": "markdown",
   "metadata": {},
   "source": [
    "The `DataFrame.describe()` function generates a five-number summary. $Q_1$ , the $25$th percentile, is shown as $25\\%$, the median, the $50$th percentile, is shown as $50\\%$, and ,$Q_3$ the $75$th percentile, is shown as $75\\%$."
   ]
  },
  {
   "cell_type": "code",
   "execution_count": 33,
   "metadata": {},
   "outputs": [
    {
     "name": "stdout",
     "output_type": "stream",
     "text": [
      "            Exam1      Exam2       Exam3      Exam4\n",
      "count   50.000000   50.00000   50.000000   50.00000\n",
      "mean    82.700000   79.40000   73.340000   76.50000\n",
      "std      9.291756   14.33278   21.754296    8.05656\n",
      "min     59.000000   49.00000   18.000000   55.00000\n",
      "25%     77.250000   68.50000   59.000000   72.00000\n",
      "50%     83.000000   79.50000   74.500000   75.00000\n",
      "75%     88.500000   91.75000   94.500000   79.75000\n",
      "max    100.000000  100.00000  100.000000  100.00000\n",
      "            Exam1\n",
      "count   50.000000\n",
      "mean    82.700000\n",
      "std      9.291756\n",
      "min     59.000000\n",
      "25%     77.250000\n",
      "50%     83.000000\n",
      "75%     88.500000\n",
      "max    100.000000\n"
     ]
    }
   ],
   "source": [
    "import pandas as pd\n",
    "scores = pd.read_csv('ExamScores.csv')\n",
    "\n",
    "# Prints the summary for each exam\n",
    "print(scores.describe())\n",
    "\n",
    "# Prints the summary for Exam1 only\n",
    "print(scores[['Exam1']].describe())"
   ]
  },
  {
   "cell_type": "markdown",
   "metadata": {},
   "source": [
    "***Example:*** The rent dataset lists the monthly rent (in USD) of  apartments with area less than  $1000ft^2$ in  cities. The columns of the dataset give the rents in Santa Monica, CA, Boise, ID, Tucson, AZ, Detroit, MI, Pittsburgh, PA, and Orlando, FL.\n",
    "\n",
    "Import the Rent dataset as a pandas DataFrame. Then find the maximum and minimum rent for all cities and range in rent for all cities by subtracting the minimum rents from the maximum rents"
   ]
  },
  {
   "cell_type": "code",
   "execution_count": 34,
   "metadata": {},
   "outputs": [
    {
     "name": "stdout",
     "output_type": "stream",
     "text": [
      "   Santa Monica CA  Boise ID  Tucson AZ  Detroit MI  Pittsburgh PA  Orlando FL\n",
      "0            10230      1600       2495        3195           2480        2242\n",
      "1            10000      1500       2200        2695           2435        2000\n",
      "2             9000      1029       2150        2595           2405        1912\n",
      "3             8500      1025       1800        2495           2350        1895\n",
      "4             8250       980       1650        2495           2320        1800\n",
      "5             8000       950       1600        1675           2316        1765\n",
      "6             7000       950       1500        1525           2305        1685\n",
      "7             6500       925       1500        1480           2290        1670\n",
      "8             6000       925       1500        1410           2275        1665\n",
      "9             5815       900       1500        1400           2265        1625\n"
     ]
    }
   ],
   "source": [
    "import pandas as pd\n",
    "rent = pd.read_csv('rent.csv')\n",
    "print(rent)"
   ]
  },
  {
   "cell_type": "code",
   "execution_count": 35,
   "metadata": {},
   "outputs": [
    {
     "name": "stdout",
     "output_type": "stream",
     "text": [
      "Santa Monica CA    10230\n",
      "Boise ID            1600\n",
      "Tucson AZ           2495\n",
      "Detroit MI          3195\n",
      "Pittsburgh PA       2480\n",
      "Orlando FL          2242\n",
      "dtype: int64\n",
      "Santa Monica CA    5815\n",
      "Boise ID            900\n",
      "Tucson AZ          1500\n",
      "Detroit MI         1400\n",
      "Pittsburgh PA      2265\n",
      "Orlando FL         1625\n",
      "dtype: int64\n"
     ]
    }
   ],
   "source": [
    "print(rent.max())\n",
    "print(rent.min())"
   ]
  },
  {
   "cell_type": "code",
   "execution_count": 36,
   "metadata": {},
   "outputs": [
    {
     "name": "stdout",
     "output_type": "stream",
     "text": [
      "Santa Monica CA    4415\n",
      "Boise ID            700\n",
      "Tucson AZ           995\n",
      "Detroit MI         1795\n",
      "Pittsburgh PA       215\n",
      "Orlando FL          617\n",
      "dtype: int64\n"
     ]
    }
   ],
   "source": [
    "print(rent.max() - rent.min())"
   ]
  },
  {
   "cell_type": "code",
   "execution_count": 37,
   "metadata": {},
   "outputs": [
    {
     "data": {
      "image/png": "[encoded data removed]",
      "text/plain": [
       "<Figure size 432x288 with 1 Axes>"
      ]
     },
     "metadata": {
      "needs_background": "light"
     },
     "output_type": "display_data"
    }
   ],
   "source": [
    "# loads the necessary libraries\n",
    "import matplotlib.pyplot as plt\n",
    "import seaborn as sns\n",
    "import pandas as pd\n",
    "\n",
    "# loads the ExamScores dataset\n",
    "scores = pd.read_csv('ExamScores.csv')\n",
    "scores.boxplot()\n",
    "\n",
    "# shows the image\n",
    "plt.show()"
   ]
  },
  {
   "cell_type": "code",
   "execution_count": 39,
   "metadata": {},
   "outputs": [
    {
     "data": {
      "text/html": [
       "<div>\n",
       "<style scoped>\n",
       "    .dataframe tbody tr th:only-of-type {\n",
       "        vertical-align: middle;\n",
       "    }\n",
       "\n",
       "    .dataframe tbody tr th {\n",
       "        vertical-align: top;\n",
       "    }\n",
       "\n",
       "    .dataframe thead th {\n",
       "        text-align: right;\n",
       "    }\n",
       "</style>\n",
       "<table border=\"1\" class=\"dataframe\">\n",
       "  <thead>\n",
       "    <tr style=\"text-align: right;\">\n",
       "      <th></th>\n",
       "      <th>Exam1</th>\n",
       "      <th>Exam2</th>\n",
       "      <th>Exam3</th>\n",
       "      <th>Exam4</th>\n",
       "    </tr>\n",
       "  </thead>\n",
       "  <tbody>\n",
       "    <tr>\n",
       "      <th>0</th>\n",
       "      <td>100</td>\n",
       "      <td>66</td>\n",
       "      <td>74</td>\n",
       "      <td>68</td>\n",
       "    </tr>\n",
       "    <tr>\n",
       "      <th>1</th>\n",
       "      <td>76</td>\n",
       "      <td>84</td>\n",
       "      <td>100</td>\n",
       "      <td>75</td>\n",
       "    </tr>\n",
       "    <tr>\n",
       "      <th>2</th>\n",
       "      <td>89</td>\n",
       "      <td>80</td>\n",
       "      <td>100</td>\n",
       "      <td>95</td>\n",
       "    </tr>\n",
       "    <tr>\n",
       "      <th>3</th>\n",
       "      <td>83</td>\n",
       "      <td>76</td>\n",
       "      <td>91</td>\n",
       "      <td>74</td>\n",
       "    </tr>\n",
       "    <tr>\n",
       "      <th>4</th>\n",
       "      <td>86</td>\n",
       "      <td>99</td>\n",
       "      <td>78</td>\n",
       "      <td>78</td>\n",
       "    </tr>\n",
       "  </tbody>\n",
       "</table>\n",
       "</div>"
      ],
      "text/plain": [
       "   Exam1  Exam2  Exam3  Exam4\n",
       "0    100     66     74     68\n",
       "1     76     84    100     75\n",
       "2     89     80    100     95\n",
       "3     83     76     91     74\n",
       "4     86     99     78     78"
      ]
     },
     "execution_count": 39,
     "metadata": {},
     "output_type": "execute_result"
    }
   ],
   "source": [
    "scores.head()"
   ]
  },
  {
   "cell_type": "code",
   "execution_count": 40,
   "metadata": {},
   "outputs": [
    {
     "data": {
      "image/png": "[encoded data removed]",
      "text/plain": [
       "<Figure size 432x288 with 1 Axes>"
      ]
     },
     "metadata": {
      "needs_background": "light"
     },
     "output_type": "display_data"
    }
   ],
   "source": [
    "import numpy as np\n",
    "import matplotlib.pyplot as plt\n",
    "import pandas\n",
    "\n",
    "scores = pd.read_csv('ExamScores.csv')\n",
    "fig, ax = plt.subplots()\n",
    "for n, col in enumerate(scores.columns):\n",
    "    ax.boxplot(scores[col], positions=[n+1], notch=True)\n",
    "\n",
    "ax.set_xticks(range(10))\n",
    "ax.set_xticklabels(range(10))\n",
    "plt.show()"
   ]
  },
  {
   "cell_type": "markdown",
   "metadata": {},
   "source": [
    "***Example:*** `mtcars` a historical dataset from a 1974 issue of Motor Trend comparing the performance of $32$ cars. The dataset should first be imported as a pandas DataFrame using the `read_csv()` function. To see the structure of the dataset, the `head()` function can be used to display the first few lines of the dataset."
   ]
  },
  {
   "cell_type": "code",
   "execution_count": 38,
   "metadata": {},
   "outputs": [
    {
     "name": "stdout",
     "output_type": "stream",
     "text": [
      "          Unnamed: 0   mpg  cyl   disp   hp  drat     wt   qsec  vs  am  gear  \\\n",
      "0          Mazda RX4  21.0    6  160.0  110  3.90  2.620  16.46   0   1     4   \n",
      "1      Mazda RX4 Wag  21.0    6  160.0  110  3.90  2.875  17.02   0   1     4   \n",
      "2         Datsun 710  22.8    4  108.0   93  3.85  2.320  18.61   1   1     4   \n",
      "3     Hornet 4 Drive  21.4    6  258.0  110  3.08  3.215  19.44   1   0     3   \n",
      "4  Hornet Sportabout  18.7    8  360.0  175  3.15  3.440  17.02   0   0     3   \n",
      "\n",
      "   carb  \n",
      "0     4  \n",
      "1     4  \n",
      "2     1  \n",
      "3     1  \n",
      "4     2  \n"
     ]
    }
   ],
   "source": [
    "import seaborn as sns\n",
    "import pandas as pd\n",
    "import matplotlib.pyplot as plt\n",
    "\n",
    "# reads the mtcars.csv file into a dataframe called mtcars\n",
    "mtcars = pd.read_csv(\"mtcars.csv\")\n",
    "\n",
    "# prints the first few lines of mtcars\n",
    "print(mtcars.head())"
   ]
  },
  {
   "cell_type": "markdown",
   "metadata": {},
   "source": [
    "The `describe()` function gives the five-number summary of the weight of the cars."
   ]
  },
  {
   "cell_type": "code",
   "execution_count": 39,
   "metadata": {},
   "outputs": [
    {
     "data": {
      "text/plain": [
       "count    32.000000\n",
       "mean      3.217250\n",
       "std       0.978457\n",
       "min       1.513000\n",
       "25%       2.581250\n",
       "50%       3.325000\n",
       "75%       3.610000\n",
       "max       5.424000\n",
       "Name: wt, dtype: float64"
      ]
     },
     "execution_count": 39,
     "metadata": {},
     "output_type": "execute_result"
    }
   ],
   "source": [
    "mtcars.wt.describe()"
   ]
  },
  {
   "cell_type": "code",
   "execution_count": 40,
   "metadata": {},
   "outputs": [
    {
     "data": {
      "text/html": [
       "<div>\n",
       "<style scoped>\n",
       "    .dataframe tbody tr th:only-of-type {\n",
       "        vertical-align: middle;\n",
       "    }\n",
       "\n",
       "    .dataframe tbody tr th {\n",
       "        vertical-align: top;\n",
       "    }\n",
       "\n",
       "    .dataframe thead th {\n",
       "        text-align: right;\n",
       "    }\n",
       "</style>\n",
       "<table border=\"1\" class=\"dataframe\">\n",
       "  <thead>\n",
       "    <tr style=\"text-align: right;\">\n",
       "      <th></th>\n",
       "      <th>wt</th>\n",
       "    </tr>\n",
       "  </thead>\n",
       "  <tbody>\n",
       "    <tr>\n",
       "      <th>count</th>\n",
       "      <td>32.000000</td>\n",
       "    </tr>\n",
       "    <tr>\n",
       "      <th>mean</th>\n",
       "      <td>3.217250</td>\n",
       "    </tr>\n",
       "    <tr>\n",
       "      <th>std</th>\n",
       "      <td>0.978457</td>\n",
       "    </tr>\n",
       "    <tr>\n",
       "      <th>min</th>\n",
       "      <td>1.513000</td>\n",
       "    </tr>\n",
       "    <tr>\n",
       "      <th>25%</th>\n",
       "      <td>2.581250</td>\n",
       "    </tr>\n",
       "    <tr>\n",
       "      <th>50%</th>\n",
       "      <td>3.325000</td>\n",
       "    </tr>\n",
       "    <tr>\n",
       "      <th>75%</th>\n",
       "      <td>3.610000</td>\n",
       "    </tr>\n",
       "    <tr>\n",
       "      <th>max</th>\n",
       "      <td>5.424000</td>\n",
       "    </tr>\n",
       "  </tbody>\n",
       "</table>\n",
       "</div>"
      ],
      "text/plain": [
       "              wt\n",
       "count  32.000000\n",
       "mean    3.217250\n",
       "std     0.978457\n",
       "min     1.513000\n",
       "25%     2.581250\n",
       "50%     3.325000\n",
       "75%     3.610000\n",
       "max     5.424000"
      ]
     },
     "execution_count": 40,
     "metadata": {},
     "output_type": "execute_result"
    }
   ],
   "source": [
    "mtcars[['wt']].describe()"
   ]
  },
  {
   "cell_type": "markdown",
   "metadata": {},
   "source": [
    "In the command above, `.wt` is needed to display only the summary for the weight. Otherwise, the five-number summaries for each of the attributes or columns are displayed.\n",
    "\n",
    "The command to display the box plot for the weights of the cars as well as the corresponding output are given below."
   ]
  },
  {
   "cell_type": "code",
   "execution_count": 41,
   "metadata": {},
   "outputs": [
    {
     "data": {
      "image/png": "[encoded data removed]",
      "text/plain": [
       "<Figure size 432x288 with 1 Axes>"
      ]
     },
     "metadata": {
      "needs_background": "light"
     },
     "output_type": "display_data"
    }
   ],
   "source": [
    "plt.boxplot(mtcars.wt, vert=True);"
   ]
  },
  {
   "cell_type": "markdown",
   "metadata": {},
   "source": [
    "### 7.6 Scatter Plot\n",
    "A scatter plot, or scatterplot, is generally used to summarize the relationship between two paired data samples. Paired data samples means that two measures were recorded for a given observation, such as the weight and height of a person. The x-axis represents observation values for the first sample, and the y-axis represents the observation values for the second sample. Each point on the plot represents a single observation."
   ]
  },
  {
   "cell_type": "code",
   "execution_count": 42,
   "metadata": {},
   "outputs": [
    {
     "data": {
      "image/png": "[encoded data removed]",
      "text/plain": [
       "<Figure size 432x288 with 1 Axes>"
      ]
     },
     "metadata": {
      "needs_background": "light"
     },
     "output_type": "display_data"
    }
   ],
   "source": [
    "# example of a scatter plot\n",
    "from numpy.random import seed\n",
    "from numpy.random import randn\n",
    "from matplotlib import pyplot\n",
    "# seed the random number generator\n",
    "seed(1)\n",
    "# first variable\n",
    "x = 20 * randn(1000) + 100\n",
    "# second variable\n",
    "y = x + (10 * randn(1000) + 50)\n",
    "# create scatter plot\n",
    "pyplot.scatter(x, y)\n",
    "# show line plot\n",
    "pyplot.show()"
   ]
  },
  {
   "cell_type": "code",
   "execution_count": null,
   "metadata": {},
   "outputs": [],
   "source": [
    "linear or nonlinear"
   ]
  },
  {
   "cell_type": "code",
   "execution_count": 43,
   "metadata": {},
   "outputs": [
    {
     "data": {
      "image/png": "[encoded data removed]",
      "text/plain": [
       "<Figure size 432x288 with 1 Axes>"
      ]
     },
     "metadata": {
      "needs_background": "light"
     },
     "output_type": "display_data"
    }
   ],
   "source": [
    "# loads the necessary modules\n",
    "import matplotlib.pyplot as plt\n",
    "\n",
    "# loads the iris data set\n",
    "df = pd.read_csv(\"iris.csv\")\n",
    "\n",
    "# title\n",
    "plt.title('Petal length and width of iris', fontsize=20)\n",
    "\n",
    "# plot\n",
    "plt.scatter(df[\"petal.length\"], df[\"petal.width\"]);\n",
    "\n",
    "# saves the image\n",
    "#plt.savefig(\"irisscatterplot.png\")\n",
    "\n",
    "# shows the image\n",
    "plt.show()"
   ]
  }
 ],
 "metadata": {
  "kernelspec": {
   "display_name": "Python 3 (ipykernel)",
   "language": "python",
   "name": "python3"
  },
  "language_info": {
   "codemirror_mode": {
    "name": "ipython",
    "version": 3
   },
   "file_extension": ".py",
   "mimetype": "text/x-python",
   "name": "python",
   "nbconvert_exporter": "python",
   "pygments_lexer": "ipython3",
   "version": "3.9.15"
  }
 },
 "nbformat": 4,
 "nbformat_minor": 4
}
