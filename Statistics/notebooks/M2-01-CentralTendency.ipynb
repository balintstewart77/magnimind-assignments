{
 "cells": [
  {
   "cell_type": "markdown",
   "id": "d241d82d-66da-4b80-9892-933a952bfa22",
   "metadata": {},
   "source": [
    "### 1.1 Central Tendency"
   ]
  },
  {
   "cell_type": "markdown",
   "id": "eb5d1510-b016-42be-a14c-5764cd4f8c61",
   "metadata": {},
   "source": [
    "The central tendency of a distribution refers to the middle or typical value in the distribution. The most common or most likely value. In the Gaussian distribution, the central tendency is called the mean, or more formally, the arithmetic mean, and is one of the two main parameters that defines any Gaussian distribution.\n",
    "\n",
    "$$mean(x)=\\frac{1}{n}\\times \\sum_{i=1}^{n}x_i $$\n",
    "\n",
    "The notation for the population mean is the Greek lower case letter `mu` ($\\mu$). The notation for the sample mean is the variable with a bar above, such as `x-bar` ($\\bar x$)."
   ]
  },
  {
   "cell_type": "code",
   "execution_count": 7,
   "id": "06bd8556-3d0b-46c8-a073-f92d8b25932e",
   "metadata": {},
   "outputs": [
    {
     "name": "stdout",
     "output_type": "stream",
     "text": [
      "Mean: 50.049\n"
     ]
    }
   ],
   "source": [
    "# calculate the mean of a sample\n",
    "from numpy.random import seed\n",
    "from numpy.random import randn\n",
    "from numpy import mean\n",
    "# seed the random number generator\n",
    "seed(1)\n",
    "# generate univariate observations\n",
    "data = 5 * randn(10000) + 50\n",
    "# calculate mean\n",
    "result = mean(data) \n",
    "print('Mean: {:.3f}'.format(result))"
   ]
  },
  {
   "cell_type": "markdown",
   "id": "d6dc229d-6cb8-4eb0-b05d-73f4397499f5",
   "metadata": {},
   "source": [
    "Recall that the `numpy.mean()` function is used to find the mean of values in an array. The `DataFrame.mean()` function is used to find the mean of values in a data frame."
   ]
  },
  {
   "cell_type": "code",
   "execution_count": 8,
   "id": "518477ed-c40d-4a98-a88d-36c37034df93",
   "metadata": {},
   "outputs": [
    {
     "name": "stdout",
     "output_type": "stream",
     "text": [
      "5.8\n"
     ]
    }
   ],
   "source": [
    "import numpy as np\n",
    "\n",
    "# Creates an array\n",
    "arr1 = np.array([4, 8, 2, 10, 5])\n",
    "\n",
    "# Prints the mean \n",
    "print(np.mean(arr1))"
   ]
  },
  {
   "cell_type": "code",
   "execution_count": 9,
   "id": "84b5d086-83aa-4036-992e-18567963339f",
   "metadata": {},
   "outputs": [
    {
     "name": "stdout",
     "output_type": "stream",
     "text": [
      "   Exam1  Exam2  Exam3  Exam4\n",
      "0    100     66     74     68\n",
      "1     76     84    100     75\n",
      "2     89     80    100     95\n",
      "3     83     76     91     74\n",
      "4     86     99     78     78\n",
      "Exam1    82.70\n",
      "Exam2    79.40\n",
      "Exam3    73.34\n",
      "Exam4    76.50\n",
      "dtype: float64\n",
      "Exam1    82.7\n",
      "dtype: float64\n",
      "Exam1    82.7\n",
      "Exam2    79.4\n",
      "dtype: float64\n"
     ]
    }
   ],
   "source": [
    "import pandas as pd\n",
    "\n",
    "scores = pd.read_csv('ExamScores.csv')\n",
    "\n",
    "# Prints the first few lines of data\n",
    "print(scores.head())\n",
    "\n",
    "# Prints the mean for each exam\n",
    "print(scores.mean())\n",
    "\n",
    "# Prints the mean for Exam1 only\n",
    "print(scores[['Exam1']].mean())\n",
    "\n",
    "# Prints the means for Exam1 and Exam2\n",
    "print(scores[['Exam1', 'Exam2']].mean())"
   ]
  },
  {
   "cell_type": "code",
   "execution_count": 10,
   "id": "83678f36-38cc-4063-bef3-deb84addb68b",
   "metadata": {},
   "outputs": [],
   "source": [
    "import pandas as pd\n",
    "scores = pd.read_csv('ExamScores.csv')"
   ]
  },
  {
   "cell_type": "code",
   "execution_count": 11,
   "id": "441d648f-56de-4988-934e-26dcc9a0b7cc",
   "metadata": {},
   "outputs": [
    {
     "data": {
      "text/html": [
       "<div>\n",
       "<style scoped>\n",
       "    .dataframe tbody tr th:only-of-type {\n",
       "        vertical-align: middle;\n",
       "    }\n",
       "\n",
       "    .dataframe tbody tr th {\n",
       "        vertical-align: top;\n",
       "    }\n",
       "\n",
       "    .dataframe thead th {\n",
       "        text-align: right;\n",
       "    }\n",
       "</style>\n",
       "<table border=\"1\" class=\"dataframe\">\n",
       "  <thead>\n",
       "    <tr style=\"text-align: right;\">\n",
       "      <th></th>\n",
       "      <th>Exam1</th>\n",
       "      <th>Exam2</th>\n",
       "      <th>Exam3</th>\n",
       "      <th>Exam4</th>\n",
       "    </tr>\n",
       "  </thead>\n",
       "  <tbody>\n",
       "    <tr>\n",
       "      <th>0</th>\n",
       "      <td>100</td>\n",
       "      <td>66</td>\n",
       "      <td>74</td>\n",
       "      <td>68</td>\n",
       "    </tr>\n",
       "    <tr>\n",
       "      <th>1</th>\n",
       "      <td>76</td>\n",
       "      <td>84</td>\n",
       "      <td>100</td>\n",
       "      <td>75</td>\n",
       "    </tr>\n",
       "    <tr>\n",
       "      <th>2</th>\n",
       "      <td>89</td>\n",
       "      <td>80</td>\n",
       "      <td>100</td>\n",
       "      <td>95</td>\n",
       "    </tr>\n",
       "    <tr>\n",
       "      <th>3</th>\n",
       "      <td>83</td>\n",
       "      <td>76</td>\n",
       "      <td>91</td>\n",
       "      <td>74</td>\n",
       "    </tr>\n",
       "    <tr>\n",
       "      <th>4</th>\n",
       "      <td>86</td>\n",
       "      <td>99</td>\n",
       "      <td>78</td>\n",
       "      <td>78</td>\n",
       "    </tr>\n",
       "  </tbody>\n",
       "</table>\n",
       "</div>"
      ],
      "text/plain": [
       "   Exam1  Exam2  Exam3  Exam4\n",
       "0    100     66     74     68\n",
       "1     76     84    100     75\n",
       "2     89     80    100     95\n",
       "3     83     76     91     74\n",
       "4     86     99     78     78"
      ]
     },
     "execution_count": 11,
     "metadata": {},
     "output_type": "execute_result"
    }
   ],
   "source": [
    "scores.head()"
   ]
  },
  {
   "cell_type": "code",
   "execution_count": 12,
   "id": "b7458f70-e5d8-4f49-aeab-0117f3eb5f82",
   "metadata": {},
   "outputs": [
    {
     "name": "stdout",
     "output_type": "stream",
     "text": [
      "Exam1    82.7\n",
      "dtype: float64\n"
     ]
    }
   ],
   "source": [
    "print(scores[['Exam1']].mean())"
   ]
  },
  {
   "cell_type": "code",
   "execution_count": 13,
   "id": "a6fcb15e-05e1-43c9-bd97-717bcfd36285",
   "metadata": {},
   "outputs": [
    {
     "name": "stdout",
     "output_type": "stream",
     "text": [
      "77.98500000000001\n"
     ]
    }
   ],
   "source": [
    "print(scores.mean().mean())"
   ]
  },
  {
   "cell_type": "markdown",
   "id": "556047af-39c7-47bd-9180-5162be968589",
   "metadata": {},
   "source": [
    "The mean is easily influenced by outlier values, that is, rare values far from the mean. These may be legitimately rare observations on the edge of the distribution or errors. In the case of outliers or a non-Gaussian distribution, an alternate and commonly used central tendency to calculate is the median. The median is calculated by first sorting all data and then locating the middle value in the sample."
   ]
  },
  {
   "cell_type": "code",
   "execution_count": 14,
   "id": "12d7f37e-1ef8-4930-9ada-2f588c9f0c43",
   "metadata": {},
   "outputs": [
    {
     "name": "stdout",
     "output_type": "stream",
     "text": [
      "Median: 50.042\n"
     ]
    }
   ],
   "source": [
    "# calculate the median of a sample\n",
    "from numpy.random import seed\n",
    "from numpy.random import randn\n",
    "from numpy import median\n",
    "# seed the random number generator\n",
    "seed(1)\n",
    "# generate univariate observations\n",
    "data = 5 * randn(10000) + 50\n",
    "# calculate median\n",
    "result = median(data) \n",
    "print('Median: {:.3f}'.format(result))"
   ]
  },
  {
   "cell_type": "markdown",
   "id": "80648936-0c99-4a40-a1a3-ba9f9419b289",
   "metadata": {},
   "source": [
    "Running the example, we can see that median is calculated from the sample and printed. The result is not too dissimilar from the mean because the sample has a Gaussian distribution. If the data had a different (non-Gaussian) distribution, the median may be very different from the mean and perhaps a better reflection of the central tendency of the underlying population."
   ]
  },
  {
   "cell_type": "code",
   "execution_count": 15,
   "id": "14e3334e-9d82-4b85-8556-26369300453f",
   "metadata": {},
   "outputs": [
    {
     "name": "stdout",
     "output_type": "stream",
     "text": [
      "Exam1    83.0\n",
      "Exam2    79.5\n",
      "Exam3    74.5\n",
      "Exam4    75.0\n",
      "dtype: float64\n",
      "Exam1    83.0\n",
      "dtype: float64\n"
     ]
    }
   ],
   "source": [
    "import pandas as pd\n",
    "\n",
    "# Loads the ExamScores dataset\n",
    "scores = pd.read_csv('ExamScores.csv')\n",
    "\n",
    "# Prints the median for each exam\n",
    "print(scores.median())\n",
    "\n",
    "# Prints the median for Exam1 only\n",
    "print(scores[['Exam1']].median())"
   ]
  },
  {
   "cell_type": "markdown",
   "id": "c2387572-f201-4f2e-a2c3-7ee3ac06e743",
   "metadata": {},
   "source": [
    "***Example:*** The rent dataset lists the monthly rent (in USD) of  apartments with area less than  $1000ft^2$ in  cities. The columns of the dataset give the rents in Santa Monica, CA, Boise, ID, Tucson, AZ, Detroit, MI, Pittsburgh, PA, and Orlando, FL.\n",
    "\n",
    "To find the mean and median, the CSV file is first imported into Python as a pandas DataFrame. Then find the mean rent for Santa Monica, mean rent for all cities, and the median rent for all cities. "
   ]
  },
  {
   "cell_type": "code",
   "execution_count": 16,
   "id": "5e26221d-1219-4e28-93ee-7aeeb0c264bb",
   "metadata": {},
   "outputs": [
    {
     "name": "stdout",
     "output_type": "stream",
     "text": [
      "   Santa Monica CA  Boise ID  Tucson AZ  Detroit MI  Pittsburgh PA  Orlando FL\n",
      "0            10230      1600       2495        3195           2480        2242\n",
      "1            10000      1500       2200        2695           2435        2000\n",
      "2             9000      1029       2150        2595           2405        1912\n",
      "3             8500      1025       1800        2495           2350        1895\n",
      "4             8250       980       1650        2495           2320        1800\n",
      "5             8000       950       1600        1675           2316        1765\n",
      "6             7000       950       1500        1525           2305        1685\n",
      "7             6500       925       1500        1480           2290        1670\n",
      "8             6000       925       1500        1410           2275        1665\n",
      "9             5815       900       1500        1400           2265        1625\n"
     ]
    }
   ],
   "source": [
    "import pandas as pd\n",
    "rent = pd.read_csv('rent.csv')\n",
    "print(rent)"
   ]
  },
  {
   "cell_type": "code",
   "execution_count": 17,
   "id": "3ec6dd73-521f-4e92-bff9-9142cfcfadef",
   "metadata": {},
   "outputs": [
    {
     "name": "stdout",
     "output_type": "stream",
     "text": [
      "7929.5\n"
     ]
    }
   ],
   "source": [
    "print(rent['Santa Monica CA'].mean())"
   ]
  },
  {
   "cell_type": "code",
   "execution_count": 18,
   "id": "32425c24-db6b-44ea-b99c-e84dab775ca6",
   "metadata": {},
   "outputs": [
    {
     "name": "stdout",
     "output_type": "stream",
     "text": [
      "Santa Monica CA    7929.5\n",
      "Boise ID           1078.4\n",
      "Tucson AZ          1789.5\n",
      "Detroit MI         2096.5\n",
      "Pittsburgh PA      2344.1\n",
      "Orlando FL         1825.9\n",
      "dtype: float64\n"
     ]
    }
   ],
   "source": [
    "print(rent.mean())"
   ]
  },
  {
   "cell_type": "code",
   "execution_count": 19,
   "id": "9f24f3b5-a28a-4095-ace7-0f799e93f828",
   "metadata": {},
   "outputs": [
    {
     "name": "stdout",
     "output_type": "stream",
     "text": [
      "Santa Monica CA    8125.0\n",
      "Boise ID            965.0\n",
      "Tucson AZ          1625.0\n",
      "Detroit MI         2085.0\n",
      "Pittsburgh PA      2318.0\n",
      "Orlando FL         1782.5\n",
      "dtype: float64\n"
     ]
    }
   ],
   "source": [
    "print(rent.median())"
   ]
  },
  {
   "cell_type": "markdown",
   "id": "4e3bac21-9aec-4f23-805a-e3d942c620c9",
   "metadata": {},
   "source": [
    "### 1.2 Variance"
   ]
  },
  {
   "cell_type": "markdown",
   "id": "c3f6c00d-d712-44ed-944d-56a7a3aec6a9",
   "metadata": {},
   "source": [
    "The variance of a distribution refers to how much on average that observations vary or differ from the mean value. It is useful to think of the variance as a measure of the spread of a distribution. A low variance will have values grouped around the mean (e.g. a narrow bell shape), whereas a high variance will have values spread out from the mean (e.g. a wide bell shape.)"
   ]
  },
  {
   "cell_type": "code",
   "execution_count": 20,
   "id": "a371d76b-329b-479e-b938-58301cfea117",
   "metadata": {},
   "outputs": [
    {
     "data": {
      "image/png": "[encoded data removed]",
      "text/plain": [
       "<Figure size 432x288 with 1 Axes>"
      ]
     },
     "metadata": {
      "needs_background": "light"
     },
     "output_type": "display_data"
    }
   ],
   "source": [
    "# generate and plot gaussians with different variance\n",
    "from numpy import arange\n",
    "from matplotlib import pyplot\n",
    "from scipy.stats import norm\n",
    "# x-axis for the plot\n",
    "x_axis = arange(-3, 3, 0.001)\n",
    "# plot low variance\n",
    "pyplot.plot(x_axis, norm.pdf(x_axis, 0, 0.5))\n",
    "# plot high variance\n",
    "pyplot.plot(x_axis, norm.pdf(x_axis, 0, 1))\n",
    "pyplot.show()"
   ]
  },
  {
   "cell_type": "markdown",
   "id": "9952612d-91dd-4b91-840c-38b71ad9ec1f",
   "metadata": {},
   "source": [
    "The variance of a data sample drawn from a Gaussian distribution is calculated as the average squared difference of each observation in the sample from the sample mean:\n",
    "\n",
    "$$ variance (x)=\\frac{1}{n-1}\\sum_{i=1}^{n}(x_i-mean(x))^2$$\n",
    "\n",
    "Where variance is often denoted as $s^2$ or the lowercase Greek letter sigma $\\sigma^2$, clearly showing the squared units of the measure."
   ]
  },
  {
   "cell_type": "markdown",
   "id": "96b07f87-cb84-4476-a0a6-2aca9b8c5b32",
   "metadata": {},
   "source": [
    "$x_1, x_2, \\ldots x_n$\n",
    "\n",
    "$\\bar x=\\frac{x_1+x_2\\ldots x_n}{n}$\n",
    "\n",
    "$x_1 - \\frac{x_1+x_2\\ldots x_n}{n} $\n",
    "\n",
    "$x_2 - \\frac{x_1+x_2\\ldots x_n}{n} $\n",
    "\n",
    "$x_{n-1} - \\frac{x_1+x_2\\ldots x_n}{n} $\n"
   ]
  },
  {
   "cell_type": "code",
   "execution_count": 21,
   "id": "b0668054-2b99-453b-b00f-c62494635c6b",
   "metadata": {},
   "outputs": [
    {
     "name": "stdout",
     "output_type": "stream",
     "text": [
      "Variance: 24.939\n"
     ]
    }
   ],
   "source": [
    "# calculate the variance of a sample\n",
    "from numpy.random import seed\n",
    "from numpy.random import randn\n",
    "from numpy import var\n",
    "# seed the random number generator\n",
    "seed(1)\n",
    "# generate univariate observations\n",
    "data = 5 * randn(10000) + 50\n",
    "# calculate variance\n",
    "result = var(data)\n",
    "print('Variance: {:.3f}'.format(result))"
   ]
  },
  {
   "cell_type": "code",
   "execution_count": 22,
   "id": "d99d5c33-e25d-4d95-b58c-a568e740b937",
   "metadata": {},
   "outputs": [
    {
     "data": {
      "text/plain": [
       "24.93932903879117"
      ]
     },
     "execution_count": 22,
     "metadata": {},
     "output_type": "execute_result"
    }
   ],
   "source": [
    "data.var()"
   ]
  },
  {
   "cell_type": "markdown",
   "id": "763721cf-1055-47b7-9ed2-f34bf1e5f094",
   "metadata": {},
   "source": [
    "It is hard to interpret the variance because the units are the squared units of the observations. We can return the units to the original units of the observations by taking the square root of the result. For example, the square root of 24.939 is about 4.9. Often, when the spread of a Gaussian distribution is summarized, it is described using the square root of the variance. This is called the standard deviation."
   ]
  },
  {
   "cell_type": "code",
   "execution_count": 23,
   "id": "eb6f4f6d-a2ee-484f-9e8f-8d7655a4fca3",
   "metadata": {},
   "outputs": [
    {
     "name": "stdout",
     "output_type": "stream",
     "text": [
      "Standard Deviation: 4.994\n"
     ]
    }
   ],
   "source": [
    "# calculate the standard deviation of a sample\n",
    "from numpy.random import seed\n",
    "from numpy.random import randn\n",
    "from numpy import std\n",
    "# seed the random number generator\n",
    "seed(1)\n",
    "# generate univariate observations\n",
    "data = 5 * randn(10000) + 50\n",
    "# calculate standard deviation\n",
    "result = std(data)\n",
    "print('Standard Deviation: {:.3f}'.format(result))"
   ]
  },
  {
   "cell_type": "code",
   "execution_count": 24,
   "id": "d120c864-701b-44f8-9b96-3d0b7201dcf5",
   "metadata": {},
   "outputs": [
    {
     "name": "stdout",
     "output_type": "stream",
     "text": [
      "Exam1     9.291756\n",
      "Exam2    14.332780\n",
      "Exam3    21.754296\n",
      "Exam4     8.056560\n",
      "dtype: float64\n",
      "Exam1    9.291756\n",
      "dtype: float64\n",
      "Exam1     86.336735\n",
      "Exam2    205.428571\n",
      "Exam3    473.249388\n",
      "Exam4     64.908163\n",
      "dtype: float64\n",
      "Exam1    86.336735\n",
      "dtype: float64\n"
     ]
    }
   ],
   "source": [
    "import pandas as pd\n",
    "\n",
    "# Loads the ExamScores dataset\n",
    "scores = pd.read_csv('ExamScores.csv')\n",
    "\n",
    "# Prints the standard deviation for each exam\n",
    "print(scores.std())\n",
    "\n",
    "# Prints the standard deviation for Exam1 only\n",
    "print(scores[['Exam1']].std()) \n",
    "\n",
    "# Prints the variance for each exam\n",
    "print(scores.var())\n",
    "\n",
    "# Prints the variance for Exam1 only\n",
    "print(scores[['Exam1']].var())"
   ]
  },
  {
   "cell_type": "markdown",
   "id": "3bc1c73f-3287-4416-96ad-c11656372335",
   "metadata": {
    "tags": []
   },
   "source": [
    "## 2. Gaussian and Summary Stats"
   ]
  },
  {
   "cell_type": "markdown",
   "id": "20638fec-4a4d-4f6f-adda-56e9544da658",
   "metadata": {},
   "source": [
    "A distribution of data refers to the shape it has when you graph it, such as with a histogram. The most commonly seen and therefore well-known distribution of continuous values is the bell curve. It is known as the normal distribution, because it is the distribution that a lot of data falls into. It is also known as the Gaussian distribution, more formally, named for Carl Friedrich Gauss. As such, you will see references to data being normally distributed or Gaussian, which are interchangeable, both referring to the same thing: that the data looks like the Gaussian distribution. Some examples of observations that have a Gaussian distribution include:\n",
    " - People’s heights.\n",
    " - IQ scores.\n",
    " - Body temperature."
   ]
  },
  {
   "cell_type": "markdown",
   "id": "fccd8a76-08a6-4593-b394-d99861a40d82",
   "metadata": {},
   "source": [
    "### 2.1 PDF of Gaussian Distribution\n",
    "\n",
    "The probability density function (PDF) is given by,\n",
    "$$ f(x\\mid \\mu ,\\sigma ^{2})={\\frac {1}{\\sqrt {2\\pi \\sigma ^{2}}}}e^{-{\\frac {(x-\\mu )^{2}}{2\\sigma ^{2}}}} $$\n",
    "where,\n",
    "- $\\mu$ is the mean or expectation of the distribution (and also its median and mode),\n",
    "- $\\sigma$ is the standard deviation, and $\\sigma^2$ is the variance.\n"
   ]
  },
  {
   "cell_type": "code",
   "execution_count": 83,
   "id": "4584b143-64ff-447d-b3f9-0d5883212ae4",
   "metadata": {},
   "outputs": [
    {
     "data": {
      "text/plain": [
       "[<matplotlib.lines.Line2D at 0x7fa5387a6160>]"
      ]
     },
     "execution_count": 83,
     "metadata": {},
     "output_type": "execute_result"
    },
    {
     "data": {
      "image/png": "[encoded data removed]",
      "text/plain": [
       "<Figure size 432x288 with 1 Axes>"
      ]
     },
     "metadata": {
      "needs_background": "light"
     },
     "output_type": "display_data"
    }
   ],
   "source": [
    "# generate and plot an idealized gaussian\n",
    "from numpy import arange\n",
    "from matplotlib import pyplot\n",
    "from scipy.stats import norm\n",
    "# x-axis for the plot\n",
    "x_axis = arange(-3, 3, 0.001)\n",
    "# y-axis as the gaussian\n",
    "y_axis = norm.pdf(x_axis, 0, 1) \n",
    "    #normpdf(x,mu,sigma) returns the pdf of the normal distribution with mean mu and\n",
    "    #standard deviation sigma, evaluated at the values in x.\n",
    "# plot data\n",
    "pyplot.plot(x_axis, y_axis)\n",
    "#pyplot.show()\n"
   ]
  },
  {
   "cell_type": "code",
   "execution_count": 4,
   "id": "5a7c2b7d-f258-4ee6-98f0-72e361141b7c",
   "metadata": {},
   "outputs": [
    {
     "data": {
      "image/png": "[encoded data removed]",
      "text/plain": [
       "<Figure size 720x360 with 1 Axes>"
      ]
     },
     "metadata": {
      "needs_background": "light"
     },
     "output_type": "display_data"
    }
   ],
   "source": [
    "import numpy as np\n",
    "from matplotlib import pyplot as plt\n",
    "x = np.linspace(-3, 3, num = 100)\n",
    "constant = 1.0 / np.sqrt(2*np.pi)\n",
    "pdf_normal_distribution = constant * np.exp((-x**2) / 2.0)\n",
    "\n",
    "fig, ax = plt.subplots(figsize=(10, 5))\n",
    "ax.plot(x, pdf_normal_distribution)\n",
    "plt.plot(figsize=(10, 5));\n",
    "ax.set_ylim(0);\n",
    "ax.set_title('Normal Distribution', size = 20)\n",
    "ax.set_ylabel('Probability Density', size = 20);"
   ]
  },
  {
   "cell_type": "code",
   "execution_count": 23,
   "id": "c224acac-86bb-4e16-a856-e541131f7e1b",
   "metadata": {},
   "outputs": [
    {
     "data": {
      "text/plain": [
       "<matplotlib.axes._subplots.AxesSubplot at 0x1231afbb0>"
      ]
     },
     "execution_count": 23,
     "metadata": {},
     "output_type": "execute_result"
    }
   ],
   "source": [
    "ax"
   ]
  },
  {
   "cell_type": "markdown",
   "id": "62206cdb-4690-4f32-9555-36932f2968f1",
   "metadata": {},
   "source": [
    "### 2.2 Generate Test Dataset"
   ]
  },
  {
   "cell_type": "markdown",
   "id": "e22fec57-974e-4f8d-85fe-28c61aa6be4f",
   "metadata": {},
   "source": [
    "We can use the `randn()` NumPy function to generate a sample of random numbers drawn from a Gaussian distribution. There are two key parameters that define any Gaussian distribution; they are the mean and the standard deviation. The `randn()` function will generate a specified number of random numbers (e.g. 10,000) drawn from a Gaussian distribution with a mean of zero and a standard deviation of 1. We can then scale these numbers to a Gaussian of our choosing by rescaling the numbers."
   ]
  },
  {
   "cell_type": "code",
   "execution_count": 92,
   "id": "1c51a622-9b15-4d2d-90aa-21461aad890b",
   "metadata": {},
   "outputs": [
    {
     "data": {
      "image/png": "[encoded data removed]",
      "text/plain": [
       "<Figure size 432x288 with 1 Axes>"
      ]
     },
     "metadata": {
      "needs_background": "light"
     },
     "output_type": "display_data"
    }
   ],
   "source": [
    "# generate a sample of random gaussians\n",
    "from numpy.random import seed\n",
    "from numpy.random import randn\n",
    "from matplotlib import pyplot\n",
    "# seed the random number generator\n",
    "seed(1)\n",
    "# generate univariate observations\n",
    "data = 5 * randn(10000) + 50\n",
    "# histogram of generated data\n",
    "pyplot.hist(data)\n",
    "pyplot.show()"
   ]
  },
  {
   "cell_type": "code",
   "execution_count": 87,
   "id": "6fd7eb3f-7ce7-4cca-a3c9-cdd94b994679",
   "metadata": {},
   "outputs": [],
   "source": [
    "from numpy.random import randn\n",
    "mylist=[]\n",
    "for _ in arange(1000):\n",
    "    mylist.append(randn())"
   ]
  },
  {
   "cell_type": "code",
   "execution_count": 88,
   "id": "af107e04-7303-4567-90ee-e1bcef0b09a2",
   "metadata": {},
   "outputs": [
    {
     "data": {
      "text/plain": [
       "1000"
      ]
     },
     "execution_count": 88,
     "metadata": {},
     "output_type": "execute_result"
    }
   ],
   "source": [
    "len(mylist)"
   ]
  },
  {
   "cell_type": "code",
   "execution_count": 91,
   "id": "5632ee02-ee6b-4b08-a8c1-7b2d0ecf7031",
   "metadata": {},
   "outputs": [
    {
     "data": {
      "text/plain": [
       "0.9774608795487727"
      ]
     },
     "execution_count": 91,
     "metadata": {},
     "output_type": "execute_result"
    }
   ],
   "source": [
    "std(mylist)"
   ]
  },
  {
   "cell_type": "code",
   "execution_count": null,
   "id": "b2a1ec36-780a-4218-bee8-10fc9586ca50",
   "metadata": {},
   "outputs": [],
   "source": [
    "if E[X]=mu, E[a*X]=?, E[X]=sum(X)/len(X)\n",
    "\n",
    "X-->represents RV, x1, x2, x3, ...., xn\n",
    "a*X-->a*x1, a*x2, a*x3, ...., a*xn\n",
    "E[aX]=aE[X]=a*mu\n",
    "\n",
    "Var(X)-->on average, how much your X spreads around the mean of X\n",
    "var(X)--> E[(X-mu)^2]-->sum(X-mu)^2/(len(X))\n",
    "std = sqrt(var)\n",
    "\n",
    "var(a*X)-->a^2*var(X)\n",
    "\n",
    "E[X+a]-->a+E[X]-->a+mu\n",
    "a+X-->a+x1, a+x2, a+x3, ...., a+xn\n",
    "\n",
    "var[X+a]-->var(X)"
   ]
  },
  {
   "cell_type": "code",
   "execution_count": null,
   "id": "2c8fb113-55e5-437a-964d-7934fcc3fd9f",
   "metadata": {},
   "outputs": [],
   "source": [
    "can you generate normally distributed random samples with mean=5, std=4, and plot the histogram?\n",
    "var(4*randn())-->16, std-->4\n",
    "mean(4*randn())-->0\n",
    "\n",
    "4*randn() -->NRV with std=4, mean=0\n",
    "\n",
    "mean(4*randn()+5)-->0+5-->5\n",
    "var(4*randn()+5)-->16+0-->16"
   ]
  },
  {
   "cell_type": "code",
   "execution_count": 53,
   "id": "2cfa389d-e35f-4d9e-a23c-d39b304705cb",
   "metadata": {},
   "outputs": [
    {
     "name": "stdout",
     "output_type": "stream",
     "text": [
      "50.04886328349552\n",
      "4.993929218440242\n",
      "24.93932903879117\n"
     ]
    }
   ],
   "source": [
    "print(data.mean())\n",
    "print(data.std())\n",
    "print(data.var())"
   ]
  },
  {
   "cell_type": "markdown",
   "id": "ee831341-2760-4d30-8724-1ca1f1295a85",
   "metadata": {},
   "source": [
    "In the case of this dataset, we do have enough data and the plot is blocky because the plotting function chooses an arbitrary sized bucket for splitting up the data. We can choose a different, more granular way to split up the data and better expose the underlying Gaussian distribution. The updated example with the more refined plot is listed below."
   ]
  },
  {
   "cell_type": "code",
   "execution_count": 6,
   "id": "d5b91c4e-4e6d-463b-bf7a-68ba0e75e671",
   "metadata": {},
   "outputs": [
    {
     "data": {
      "image/png": "[encoded data removed]",
      "text/plain": [
       "<Figure size 432x288 with 1 Axes>"
      ]
     },
     "metadata": {
      "needs_background": "light"
     },
     "output_type": "display_data"
    }
   ],
   "source": [
    "# generate a sample of random gaussians\n",
    "from numpy.random import seed\n",
    "from numpy.random import randn\n",
    "from matplotlib import pyplot\n",
    "# seed the random number generator\n",
    "seed(1)\n",
    "# generate univariate observations\n",
    "data = 5 * randn(10000) + 50\n",
    "# histogram of generated data\n",
    "pyplot.hist(data, bins=100)\n",
    "pyplot.show()"
   ]
  },
  {
   "cell_type": "code",
   "execution_count": 15,
   "id": "4b0e1696-c1e5-4c6b-ab9f-71fec0d6ee10",
   "metadata": {},
   "outputs": [],
   "source": [
    "datat=(data-np.mean(data))/np.std(data)/np.sqrt(len(data))"
   ]
  },
  {
   "cell_type": "code",
   "execution_count": 16,
   "id": "42681642-b4dc-41a1-8c8e-f0cfc5d06411",
   "metadata": {},
   "outputs": [
    {
     "data": {
      "image/png": "[encoded data removed]",
      "text/plain": [
       "<Figure size 432x288 with 1 Axes>"
      ]
     },
     "metadata": {
      "needs_background": "light"
     },
     "output_type": "display_data"
    }
   ],
   "source": [
    "pyplot.hist(datat, bins=100)\n",
    "pyplot.show()"
   ]
  },
  {
   "cell_type": "markdown",
   "id": "0c69eeae-1aee-43e8-9562-a948251fa936",
   "metadata": {},
   "source": [
    "## 3. Simple Data Visualisation\n",
    "Data visualization is an important skill in applied statistics and machine learning. Statistics does indeed focus on quantitative descriptions and estimations of data. Data visualization provides an important suite of tools for gaining a qualitative understanding. This can be helpful when exploring and getting to know a dataset and can help with identifying patterns, corrupt data, outliers, and much more. With a little domain knowledge, data visualizations can be used to express and demonstrate key relationships in plots and charts that are more visceral to yourself and stakeholders than measures of association or significance."
   ]
  },
  {
   "cell_type": "markdown",
   "id": "a6ebe60c-cf64-455d-8e78-d64580e9f050",
   "metadata": {},
   "source": [
    "### 3.1 Introduction to Matplotlib"
   ]
  },
  {
   "cell_type": "markdown",
   "id": "8cbd549f-2937-4480-a024-ac2ee01d16b5",
   "metadata": {},
   "source": [
    "It is the foundation for many other plotting libraries and plotting support in higher-level libraries such as Pandas. The `Matplotlib` provides a context, one in which one or more plots can be drawn before the image is shown or saved to file. The context can be accessed via functions on pyplot."
   ]
  },
  {
   "cell_type": "code",
   "execution_count": null,
   "id": "dd8abf7d-0276-403e-80dc-62ab69ddc2e4",
   "metadata": {},
   "outputs": [],
   "source": [
    "# import matplotlib context\n",
    "import matplotlib.pyplot as plt\n",
    "...\n",
    "\n",
    "...\n",
    "# create a plot\n",
    "plt.plot(...)\n",
    "\n",
    "# display the plot\n",
    "plt.show()\n",
    "\n",
    "...\n",
    "# save plot to file\n",
    "plt.savefig('my_image.png')"
   ]
  },
  {
   "cell_type": "markdown",
   "id": "5ea307a0-3953-43a8-b002-279f721a6114",
   "metadata": {},
   "source": [
    "### 3.2 Line Plot\n",
    "A line plot is generally used to present observations collected at regular intervals. The x-axis represents the regular interval, such as time. The y-axis shows the observations, ordered by the x-axis and connected by a line. A line plot can be created by calling the `plot()` function and passing the x-axis data for the regular interval, and y-axis for the observations."
   ]
  },
  {
   "cell_type": "code",
   "execution_count": 25,
   "id": "a70e02d1-a407-43f3-833e-f58d92b8ddf5",
   "metadata": {},
   "outputs": [
    {
     "data": {
      "image/png": "[encoded data removed]",
      "text/plain": [
       "<Figure size 432x288 with 1 Axes>"
      ]
     },
     "metadata": {
      "needs_background": "light"
     },
     "output_type": "display_data"
    }
   ],
   "source": [
    "# example of a line plot\n",
    "from numpy import sin\n",
    "import matplotlib.pyplot as plt\n",
    "# consistent interval for x-axis\n",
    "x = [x*0.1 for x in range(100)]\n",
    "# function of x for y-axis\n",
    "y = sin(x)\n",
    "# create line plot\n",
    "plt.plot(x, y)\n",
    "# show line plot\n",
    "plt.show()"
   ]
  },
  {
   "cell_type": "markdown",
   "id": "4332bd5b-ed37-4433-a2bd-1465f0174430",
   "metadata": {},
   "source": [
    "### 3.3 Bar Chart\n",
    "A bar chart is generally used to present relative quantities for multiple categories. The x-axis represents the categories and are spaced evenly. The y-axis represents the quantity for each category and is drawn as a bar from the baseline to the appropriate level on the y-axis. A bar chart can be created by calling the `bar()` function and passing the category names for the x-axis and the quantities for the y-axis."
   ]
  },
  {
   "cell_type": "code",
   "execution_count": 26,
   "id": "c86279d2-c164-4db4-8915-0efa31411e28",
   "metadata": {},
   "outputs": [
    {
     "data": {
      "image/png": "[encoded data removed]",
      "text/plain": [
       "<Figure size 432x288 with 1 Axes>"
      ]
     },
     "metadata": {
      "needs_background": "light"
     },
     "output_type": "display_data"
    }
   ],
   "source": [
    "# example of a bar chart\n",
    "from random import seed\n",
    "from random import randint\n",
    "from matplotlib import pyplot\n",
    "# seed the random number generator\n",
    "seed(2)\n",
    "# names for categories\n",
    "#The randint() method returns an integer number selected element from the specified range.ranint(start,stop)\n",
    "x = ['red', 'green', 'blue']\n",
    "# quantities for each category\n",
    "y = [randint(0, 100), randint(0, 100), randint(0, 100)]\n",
    "# create bar chart\n",
    "pyplot.bar(x, y)\n",
    "# show line plot\n",
    "pyplot.show()"
   ]
  },
  {
   "cell_type": "code",
   "execution_count": 53,
   "id": "51131267-08f5-495b-b288-bef19764cb33",
   "metadata": {},
   "outputs": [
    {
     "data": {
      "text/plain": [
       "[7, 11, 10]"
      ]
     },
     "execution_count": 53,
     "metadata": {},
     "output_type": "execute_result"
    }
   ],
   "source": [
    "y"
   ]
  },
  {
   "cell_type": "code",
   "execution_count": null,
   "id": "0efc02bd-0bc4-4fad-a45b-383ab25c9f7e",
   "metadata": {},
   "outputs": [],
   "source": [
    "red red red red blue green"
   ]
  },
  {
   "cell_type": "markdown",
   "id": "2b914c10-1735-4ec1-96b7-7204d597c5b8",
   "metadata": {},
   "source": [
    "### 3.4 Histogram Plot\n",
    "A `frequency distribution` is a table that displays how often an outcome occurs for a sample. To construct a frequency distribution, the data set is divided into mutually exclusive classes. A `class` is either a value of a categorical variable or an interval of a continuous variable. The frequency of a class is the number of events or values that fall under each class. The most common graphical representation of a frequency distribution is a `histogram`. A histogram depicts data values by splitting a continuous variable into a number of class intervals, each known as a `bin`. The simplest and most common type of histogram has bins of equal size. When bin sizes are equal, bins have rectangular bars with heights representing the frequency, which is the number of values in a bin.\n",
    "\n",
    "A histogram plot is generally used to summarize the distribution of a data sample. The x-axis represents discrete bins or intervals for the observations. For example observations with values between 1 and 10 may be split into five bins, the values [1,2] would be allocated to the first bin,[3,4] would be allocated to the second bin, and so on. The y-axis represents the frequency or count of the number of observations in the dataset that belong to each bin. Essentially, a data sample is transformed into a bar chart where each category on the x-axis represents an interval of observation values.\n",
    "\n",
    "When creating a histogram, multiple bin sizes should be attempted to determine the best distribution of the data. A good rule of thumb is to start with a bin size so that the number of bins is roughly equal to the square root of the number of values."
   ]
  },
  {
   "cell_type": "code",
   "execution_count": 27,
   "id": "a5d86b19-36b2-4689-a636-93f6fa493e32",
   "metadata": {},
   "outputs": [
    {
     "data": {
      "image/png": "[encoded data removed]",
      "text/plain": [
       "<Figure size 432x288 with 1 Axes>"
      ]
     },
     "metadata": {
      "needs_background": "light"
     },
     "output_type": "display_data"
    }
   ],
   "source": [
    "# example of a histogram plot\n",
    "from numpy.random import seed\n",
    "from numpy.random import randn\n",
    "from matplotlib import pyplot\n",
    "# seed the random number generator\n",
    "seed(1)\n",
    "# random numbers drawn from a Gaussian distribution\n",
    "x = randn(100)\n",
    "# create histogram plot\n",
    "pyplot.hist(x,bins=10)\n",
    "# show line plot\n",
    "pyplot.show()"
   ]
  },
  {
   "cell_type": "code",
   "execution_count": 28,
   "id": "02bd3a80-c470-4cf7-b9b0-1ad281c8ad00",
   "metadata": {},
   "outputs": [
    {
     "data": {
      "image/png": "[encoded data removed]",
      "text/plain": [
       "<Figure size 432x288 with 1 Axes>"
      ]
     },
     "metadata": {
      "needs_background": "light"
     },
     "output_type": "display_data"
    }
   ],
   "source": [
    "...\n",
    "# create histogram plot with specified bins\n",
    "pyplot.hist(x, bins=100);"
   ]
  },
  {
   "cell_type": "markdown",
   "id": "ac07161a-237e-4f4d-94a5-433fa5293783",
   "metadata": {},
   "source": [
    "Several basic distribution patterns should be looked for when selecting a bin size, because some situations are known to follow a certain distribution. The standard bell curve is a unimodal distribution pattern. A unimodal distribution occurs when there is one (uni) prevalent peak (mode) in the histogram. \n",
    "\n",
    "- Bimodal: Contains two prevalent modes\n",
    "- Multimodal: Contains multiple prevalent modes\n",
    "- Skewed left: Contains a mode on the right with a tail of low-frequency bins on the left\n",
    "- Skewed right: Contains a mode on the left with a tail of low-frequency bins on the right"
   ]
  },
  {
   "cell_type": "markdown",
   "id": "ba55ed63-f92a-4193-9dae-dfbbe64662c0",
   "metadata": {},
   "source": [
    "The `Height` dataset gives the heights, in inches, of students in a particular class."
   ]
  },
  {
   "cell_type": "code",
   "execution_count": 29,
   "id": "0ffc2e37-9b04-4e5a-ac73-cca0203f53e5",
   "metadata": {},
   "outputs": [
    {
     "data": {
      "image/png": "[encoded data removed]",
      "text/plain": [
       "<Figure size 432x288 with 1 Axes>"
      ]
     },
     "metadata": {
      "needs_background": "light"
     },
     "output_type": "display_data"
    }
   ],
   "source": [
    "import pandas as pd\n",
    "import matplotlib.pyplot as plt\n",
    "heights = pd.read_csv('height.csv')\n",
    "\n",
    "fig, ax = plt.subplots()\n",
    "plt.hist(heights['Height'], bins=6)\n",
    "ax.set_xlabel('Height')\n",
    "ax.set_ylabel('Frequency')\n",
    "plt.show()"
   ]
  },
  {
   "cell_type": "code",
   "execution_count": null,
   "id": "e2d6b63d-16a1-494e-afda-55539e4ada56",
   "metadata": {},
   "outputs": [],
   "source": []
  },
  {
   "cell_type": "markdown",
   "id": "a794c90d-71a1-48a3-b6d6-cad6b6106fc3",
   "metadata": {},
   "source": [
    "### 3.5 Box and Whisker Plot\n",
    "A box and whisker plot, or boxplot for short, is generally used to summarize the distribution of a data sample. The x-axis is used to represent the data sample, where multiple boxplots can be drawn side by side on the x-axis if desired.\n",
    "The y-axis represents the observation values. A box is drawn to summarize the middle 50% of the dataset starting at the observation at the 25th percentile and ending at the 75th percentile. This is called the interquartile range, or `IQR`. The median, or 50th percentile, is drawn with a line. Lines called whiskers are drawn extending from both ends of the box calculated as `1.5×IQR` to demonstrate the expected range of sensible values in the distribution. Observations outside the whiskers might be outliers and are drawn with small circles."
   ]
  },
  {
   "cell_type": "code",
   "execution_count": 30,
   "id": "b422cd4e-67fb-46f5-a850-575540817a35",
   "metadata": {},
   "outputs": [
    {
     "data": {
      "image/png": "[encoded data removed]",
      "text/plain": [
       "<Figure size 432x288 with 1 Axes>"
      ]
     },
     "metadata": {
      "needs_background": "light"
     },
     "output_type": "display_data"
    }
   ],
   "source": [
    "# example of a box and whisker plot\n",
    "from numpy.random import seed\n",
    "from numpy.random import randn\n",
    "from matplotlib import pyplot\n",
    "# seed the random number generator\n",
    "seed(1)\n",
    "# random numbers drawn from a Gaussian distribution\n",
    "x = [randn(1000), 5 * randn(1000), 10 * randn(1000)]\n",
    "# create box and whisker plot\n",
    "pyplot.boxplot(x)\n",
    "# show line plot\n",
    "pyplot.show()"
   ]
  },
  {
   "cell_type": "code",
   "execution_count": 31,
   "id": "a6af467a-a0d7-43a1-b8d6-fdffab44f50a",
   "metadata": {},
   "outputs": [
    {
     "name": "stdout",
     "output_type": "stream",
     "text": [
      "Exam1    59\n",
      "Exam2    49\n",
      "Exam3    18\n",
      "Exam4    55\n",
      "dtype: int64\n",
      "Exam1    59\n",
      "dtype: int64\n",
      "Exam1    100\n",
      "Exam2    100\n",
      "Exam3    100\n",
      "Exam4    100\n",
      "dtype: int64\n",
      "Exam1    100\n",
      "dtype: int64\n"
     ]
    }
   ],
   "source": [
    "import pandas as pd\n",
    "scores = pd.read_csv('ExamScores.csv')\n",
    "\n",
    "# Prints the minimum score for each exam\n",
    "print(scores.min())\n",
    "\n",
    "# Prints the minimum score for Exam1 only\n",
    "print(scores[['Exam1']].min())\n",
    "\n",
    "# Prints the maximum score for each exam\n",
    "print(scores.max())\n",
    "\n",
    "# Prints the maximum score for Exam1 only\n",
    "print(scores[['Exam1']].max())"
   ]
  },
  {
   "cell_type": "code",
   "execution_count": 32,
   "id": "d816528f-4885-4d25-9fe2-87ea66971114",
   "metadata": {},
   "outputs": [
    {
     "name": "stdout",
     "output_type": "stream",
     "text": [
      "____Range by subtracting the min from max:____\n",
      "Exam1    41\n",
      "Exam2    51\n",
      "Exam3    82\n",
      "Exam4    45\n",
      "dtype: int64\n",
      "____Now using the function:____\n",
      "Exam1    41\n",
      "Exam2    51\n",
      "Exam3    82\n",
      "Exam4    45\n",
      "dtype: int64\n",
      "Exam1    41\n",
      "dtype: int64\n",
      "Exam2    51\n",
      "dtype: int64\n",
      "Exam4    45\n",
      "dtype: int64\n"
     ]
    }
   ],
   "source": [
    "import pandas as pd\n",
    "scores = pd.read_csv('ExamScores.csv')\n",
    "\n",
    "# Calculating the range by subtracting the minimum from the maximum\n",
    "score_range = scores.max() - scores.min()\n",
    "print('____Range by subtracting the min from max:____')\n",
    "print(score_range)\n",
    "print('____Now using the function:____')\n",
    "# Defining a function that can be used repeatedly\n",
    "def range_of_scores(x):\n",
    "    return x.max() - x.min()\n",
    "\n",
    "print(range_of_scores(scores))\n",
    "print(range_of_scores(scores[['Exam1']]))\n",
    "print(range_of_scores(scores[['Exam2']]))\n",
    "print(range_of_scores(scores[['Exam4']]))"
   ]
  },
  {
   "cell_type": "markdown",
   "id": "c993e5fc-12ea-4818-8d7a-5d01192161e6",
   "metadata": {},
   "source": [
    "The `DataFrame.describe()` function generates a five-number summary. $Q_1$ , the $25$th percentile, is shown as $25\\%$, the median, the $50$th percentile, is shown as $50\\%$, and ,$Q_3$ the $75$th percentile, is shown as $75\\%$."
   ]
  },
  {
   "cell_type": "code",
   "execution_count": 33,
   "id": "9acc8634-d264-4c21-a008-3fe5f0703854",
   "metadata": {},
   "outputs": [
    {
     "name": "stdout",
     "output_type": "stream",
     "text": [
      "            Exam1      Exam2       Exam3      Exam4\n",
      "count   50.000000   50.00000   50.000000   50.00000\n",
      "mean    82.700000   79.40000   73.340000   76.50000\n",
      "std      9.291756   14.33278   21.754296    8.05656\n",
      "min     59.000000   49.00000   18.000000   55.00000\n",
      "25%     77.250000   68.50000   59.000000   72.00000\n",
      "50%     83.000000   79.50000   74.500000   75.00000\n",
      "75%     88.500000   91.75000   94.500000   79.75000\n",
      "max    100.000000  100.00000  100.000000  100.00000\n",
      "            Exam1\n",
      "count   50.000000\n",
      "mean    82.700000\n",
      "std      9.291756\n",
      "min     59.000000\n",
      "25%     77.250000\n",
      "50%     83.000000\n",
      "75%     88.500000\n",
      "max    100.000000\n"
     ]
    }
   ],
   "source": [
    "import pandas as pd\n",
    "scores = pd.read_csv('ExamScores.csv')\n",
    "\n",
    "# Prints the summary for each exam\n",
    "print(scores.describe())\n",
    "\n",
    "# Prints the summary for Exam1 only\n",
    "print(scores[['Exam1']].describe())"
   ]
  },
  {
   "cell_type": "markdown",
   "id": "cf6bd1f5-bbb0-4068-b692-08bf4a103227",
   "metadata": {},
   "source": [
    "***Example:*** The rent dataset lists the monthly rent (in USD) of  apartments with area less than  $1000ft^2$ in  cities. The columns of the dataset give the rents in Santa Monica, CA, Boise, ID, Tucson, AZ, Detroit, MI, Pittsburgh, PA, and Orlando, FL.\n",
    "\n",
    "Import the Rent dataset as a pandas DataFrame. Then find the maximum and minimum rent for all cities and range in rent for all cities by subtracting the minimum rents from the maximum rents"
   ]
  },
  {
   "cell_type": "code",
   "execution_count": 34,
   "id": "2ddebc42-0db5-4323-881c-43d07096825f",
   "metadata": {},
   "outputs": [
    {
     "name": "stdout",
     "output_type": "stream",
     "text": [
      "   Santa Monica CA  Boise ID  Tucson AZ  Detroit MI  Pittsburgh PA  Orlando FL\n",
      "0            10230      1600       2495        3195           2480        2242\n",
      "1            10000      1500       2200        2695           2435        2000\n",
      "2             9000      1029       2150        2595           2405        1912\n",
      "3             8500      1025       1800        2495           2350        1895\n",
      "4             8250       980       1650        2495           2320        1800\n",
      "5             8000       950       1600        1675           2316        1765\n",
      "6             7000       950       1500        1525           2305        1685\n",
      "7             6500       925       1500        1480           2290        1670\n",
      "8             6000       925       1500        1410           2275        1665\n",
      "9             5815       900       1500        1400           2265        1625\n"
     ]
    }
   ],
   "source": [
    "import pandas as pd\n",
    "rent = pd.read_csv('rent.csv')\n",
    "print(rent)"
   ]
  },
  {
   "cell_type": "code",
   "execution_count": 35,
   "id": "91381712-7bb1-4d5f-8e3f-dafd105dfe66",
   "metadata": {},
   "outputs": [
    {
     "name": "stdout",
     "output_type": "stream",
     "text": [
      "Santa Monica CA    10230\n",
      "Boise ID            1600\n",
      "Tucson AZ           2495\n",
      "Detroit MI          3195\n",
      "Pittsburgh PA       2480\n",
      "Orlando FL          2242\n",
      "dtype: int64\n",
      "Santa Monica CA    5815\n",
      "Boise ID            900\n",
      "Tucson AZ          1500\n",
      "Detroit MI         1400\n",
      "Pittsburgh PA      2265\n",
      "Orlando FL         1625\n",
      "dtype: int64\n"
     ]
    }
   ],
   "source": [
    "print(rent.max())\n",
    "print(rent.min())"
   ]
  },
  {
   "cell_type": "code",
   "execution_count": 36,
   "id": "ef431feb-caad-4c6f-a803-13a81c7e1613",
   "metadata": {},
   "outputs": [
    {
     "name": "stdout",
     "output_type": "stream",
     "text": [
      "Santa Monica CA    4415\n",
      "Boise ID            700\n",
      "Tucson AZ           995\n",
      "Detroit MI         1795\n",
      "Pittsburgh PA       215\n",
      "Orlando FL          617\n",
      "dtype: int64\n"
     ]
    }
   ],
   "source": [
    "print(rent.max() - rent.min())"
   ]
  },
  {
   "cell_type": "code",
   "execution_count": 37,
   "id": "f4b52a42-3ce7-4eba-931f-6ba2dcf4dbeb",
   "metadata": {},
   "outputs": [
    {
     "data": {
      "image/png": "[encoded data removed]",
      "text/plain": [
       "<Figure size 432x288 with 1 Axes>"
      ]
     },
     "metadata": {
      "needs_background": "light"
     },
     "output_type": "display_data"
    }
   ],
   "source": [
    "# loads the necessary libraries\n",
    "import matplotlib.pyplot as plt\n",
    "import seaborn as sns\n",
    "import pandas as pd\n",
    "\n",
    "# loads the ExamScores dataset\n",
    "scores = pd.read_csv('ExamScores.csv')\n",
    "scores.boxplot()\n",
    "\n",
    "# shows the image\n",
    "plt.show()"
   ]
  },
  {
   "cell_type": "code",
   "execution_count": 39,
   "id": "dc98c6b4-cd57-442a-83e1-4dce0589925b",
   "metadata": {},
   "outputs": [
    {
     "data": {
      "text/html": [
       "<div>\n",
       "<style scoped>\n",
       "    .dataframe tbody tr th:only-of-type {\n",
       "        vertical-align: middle;\n",
       "    }\n",
       "\n",
       "    .dataframe tbody tr th {\n",
       "        vertical-align: top;\n",
       "    }\n",
       "\n",
       "    .dataframe thead th {\n",
       "        text-align: right;\n",
       "    }\n",
       "</style>\n",
       "<table border=\"1\" class=\"dataframe\">\n",
       "  <thead>\n",
       "    <tr style=\"text-align: right;\">\n",
       "      <th></th>\n",
       "      <th>Exam1</th>\n",
       "      <th>Exam2</th>\n",
       "      <th>Exam3</th>\n",
       "      <th>Exam4</th>\n",
       "    </tr>\n",
       "  </thead>\n",
       "  <tbody>\n",
       "    <tr>\n",
       "      <th>0</th>\n",
       "      <td>100</td>\n",
       "      <td>66</td>\n",
       "      <td>74</td>\n",
       "      <td>68</td>\n",
       "    </tr>\n",
       "    <tr>\n",
       "      <th>1</th>\n",
       "      <td>76</td>\n",
       "      <td>84</td>\n",
       "      <td>100</td>\n",
       "      <td>75</td>\n",
       "    </tr>\n",
       "    <tr>\n",
       "      <th>2</th>\n",
       "      <td>89</td>\n",
       "      <td>80</td>\n",
       "      <td>100</td>\n",
       "      <td>95</td>\n",
       "    </tr>\n",
       "    <tr>\n",
       "      <th>3</th>\n",
       "      <td>83</td>\n",
       "      <td>76</td>\n",
       "      <td>91</td>\n",
       "      <td>74</td>\n",
       "    </tr>\n",
       "    <tr>\n",
       "      <th>4</th>\n",
       "      <td>86</td>\n",
       "      <td>99</td>\n",
       "      <td>78</td>\n",
       "      <td>78</td>\n",
       "    </tr>\n",
       "  </tbody>\n",
       "</table>\n",
       "</div>"
      ],
      "text/plain": [
       "   Exam1  Exam2  Exam3  Exam4\n",
       "0    100     66     74     68\n",
       "1     76     84    100     75\n",
       "2     89     80    100     95\n",
       "3     83     76     91     74\n",
       "4     86     99     78     78"
      ]
     },
     "execution_count": 39,
     "metadata": {},
     "output_type": "execute_result"
    }
   ],
   "source": [
    "scores.head()"
   ]
  },
  {
   "cell_type": "code",
   "execution_count": 40,
   "id": "c01eeb04-996d-4b14-8f5c-5fca5275cfdd",
   "metadata": {},
   "outputs": [
    {
     "data": {
      "image/png": "[encoded data removed]",
      "text/plain": [
       "<Figure size 432x288 with 1 Axes>"
      ]
     },
     "metadata": {
      "needs_background": "light"
     },
     "output_type": "display_data"
    }
   ],
   "source": [
    "import numpy as np\n",
    "import matplotlib.pyplot as plt\n",
    "import pandas\n",
    "\n",
    "scores = pd.read_csv('ExamScores.csv')\n",
    "fig, ax = plt.subplots()\n",
    "for n, col in enumerate(scores.columns):\n",
    "    ax.boxplot(scores[col], positions=[n+1], notch=True)\n",
    "\n",
    "ax.set_xticks(range(10))\n",
    "ax.set_xticklabels(range(10))\n",
    "plt.show()"
   ]
  },
  {
   "cell_type": "markdown",
   "id": "86a3a4cd-bf97-4787-ae2d-5e3e4853dcb2",
   "metadata": {},
   "source": [
    "***Example:*** `mtcars` a historical dataset from a 1974 issue of Motor Trend comparing the performance of $32$ cars. The dataset should first be imported as a pandas DataFrame using the `read_csv()` function. To see the structure of the dataset, the `head()` function can be used to display the first few lines of the dataset."
   ]
  },
  {
   "cell_type": "code",
   "execution_count": 38,
   "id": "7ddb25b9-f917-4dc9-823c-a740ae1c97d9",
   "metadata": {},
   "outputs": [
    {
     "name": "stdout",
     "output_type": "stream",
     "text": [
      "          Unnamed: 0   mpg  cyl   disp   hp  drat     wt   qsec  vs  am  gear  \\\n",
      "0          Mazda RX4  21.0    6  160.0  110  3.90  2.620  16.46   0   1     4   \n",
      "1      Mazda RX4 Wag  21.0    6  160.0  110  3.90  2.875  17.02   0   1     4   \n",
      "2         Datsun 710  22.8    4  108.0   93  3.85  2.320  18.61   1   1     4   \n",
      "3     Hornet 4 Drive  21.4    6  258.0  110  3.08  3.215  19.44   1   0     3   \n",
      "4  Hornet Sportabout  18.7    8  360.0  175  3.15  3.440  17.02   0   0     3   \n",
      "\n",
      "   carb  \n",
      "0     4  \n",
      "1     4  \n",
      "2     1  \n",
      "3     1  \n",
      "4     2  \n"
     ]
    }
   ],
   "source": [
    "import seaborn as sns\n",
    "import pandas as pd\n",
    "import matplotlib.pyplot as plt\n",
    "\n",
    "# reads the mtcars.csv file into a dataframe called mtcars\n",
    "mtcars = pd.read_csv(\"mtcars.csv\")\n",
    "\n",
    "# prints the first few lines of mtcars\n",
    "print(mtcars.head())"
   ]
  },
  {
   "cell_type": "markdown",
   "id": "1ae6fedc-cd8b-4a2d-aa12-07e772ef8602",
   "metadata": {},
   "source": [
    "The `describe()` function gives the five-number summary of the weight of the cars."
   ]
  },
  {
   "cell_type": "code",
   "execution_count": 39,
   "id": "65893259-eeb7-4a23-8ae8-2151223dc979",
   "metadata": {},
   "outputs": [
    {
     "data": {
      "text/plain": [
       "count    32.000000\n",
       "mean      3.217250\n",
       "std       0.978457\n",
       "min       1.513000\n",
       "25%       2.581250\n",
       "50%       3.325000\n",
       "75%       3.610000\n",
       "max       5.424000\n",
       "Name: wt, dtype: float64"
      ]
     },
     "execution_count": 39,
     "metadata": {},
     "output_type": "execute_result"
    }
   ],
   "source": [
    "mtcars.wt.describe()"
   ]
  },
  {
   "cell_type": "code",
   "execution_count": 40,
   "id": "5b2f60a4-836a-4bb1-b433-9151eca79b5c",
   "metadata": {},
   "outputs": [
    {
     "data": {
      "text/html": [
       "<div>\n",
       "<style scoped>\n",
       "    .dataframe tbody tr th:only-of-type {\n",
       "        vertical-align: middle;\n",
       "    }\n",
       "\n",
       "    .dataframe tbody tr th {\n",
       "        vertical-align: top;\n",
       "    }\n",
       "\n",
       "    .dataframe thead th {\n",
       "        text-align: right;\n",
       "    }\n",
       "</style>\n",
       "<table border=\"1\" class=\"dataframe\">\n",
       "  <thead>\n",
       "    <tr style=\"text-align: right;\">\n",
       "      <th></th>\n",
       "      <th>wt</th>\n",
       "    </tr>\n",
       "  </thead>\n",
       "  <tbody>\n",
       "    <tr>\n",
       "      <th>count</th>\n",
       "      <td>32.000000</td>\n",
       "    </tr>\n",
       "    <tr>\n",
       "      <th>mean</th>\n",
       "      <td>3.217250</td>\n",
       "    </tr>\n",
       "    <tr>\n",
       "      <th>std</th>\n",
       "      <td>0.978457</td>\n",
       "    </tr>\n",
       "    <tr>\n",
       "      <th>min</th>\n",
       "      <td>1.513000</td>\n",
       "    </tr>\n",
       "    <tr>\n",
       "      <th>25%</th>\n",
       "      <td>2.581250</td>\n",
       "    </tr>\n",
       "    <tr>\n",
       "      <th>50%</th>\n",
       "      <td>3.325000</td>\n",
       "    </tr>\n",
       "    <tr>\n",
       "      <th>75%</th>\n",
       "      <td>3.610000</td>\n",
       "    </tr>\n",
       "    <tr>\n",
       "      <th>max</th>\n",
       "      <td>5.424000</td>\n",
       "    </tr>\n",
       "  </tbody>\n",
       "</table>\n",
       "</div>"
      ],
      "text/plain": [
       "              wt\n",
       "count  32.000000\n",
       "mean    3.217250\n",
       "std     0.978457\n",
       "min     1.513000\n",
       "25%     2.581250\n",
       "50%     3.325000\n",
       "75%     3.610000\n",
       "max     5.424000"
      ]
     },
     "execution_count": 40,
     "metadata": {},
     "output_type": "execute_result"
    }
   ],
   "source": [
    "mtcars[['wt']].describe()"
   ]
  },
  {
   "cell_type": "markdown",
   "id": "0ee5b602-4ce5-4038-8e74-1e8116cdf37d",
   "metadata": {},
   "source": [
    "In the command above, `.wt` is needed to display only the summary for the weight. Otherwise, the five-number summaries for each of the attributes or columns are displayed.\n",
    "\n",
    "The command to display the box plot for the weights of the cars as well as the corresponding output are given below."
   ]
  },
  {
   "cell_type": "code",
   "execution_count": 41,
   "id": "55e2b18c-783a-47a2-b6c9-5ddca811d83f",
   "metadata": {},
   "outputs": [
    {
     "data": {
      "image/png": "[encoded data removed]",
      "text/plain": [
       "<Figure size 432x288 with 1 Axes>"
      ]
     },
     "metadata": {
      "needs_background": "light"
     },
     "output_type": "display_data"
    }
   ],
   "source": [
    "plt.boxplot(mtcars.wt, vert=True);"
   ]
  },
  {
   "cell_type": "markdown",
   "id": "ecd2100b-7b4f-4273-9d34-4c707aeeea47",
   "metadata": {},
   "source": [
    "### 3.6 Scatter Plot\n",
    "A scatter plot, or scatterplot, is generally used to summarize the relationship between two paired data samples. Paired data samples means that two measures were recorded for a given observation, such as the weight and height of a person. The x-axis represents observation values for the first sample, and the y-axis represents the observation values for the second sample. Each point on the plot represents a single observation."
   ]
  },
  {
   "cell_type": "code",
   "execution_count": 42,
   "id": "07607ad3-8c61-439b-a3d0-9801a834a463",
   "metadata": {},
   "outputs": [
    {
     "data": {
      "image/png": "[encoded data removed]",
      "text/plain": [
       "<Figure size 432x288 with 1 Axes>"
      ]
     },
     "metadata": {
      "needs_background": "light"
     },
     "output_type": "display_data"
    }
   ],
   "source": [
    "# example of a scatter plot\n",
    "from numpy.random import seed\n",
    "from numpy.random import randn\n",
    "from matplotlib import pyplot\n",
    "# seed the random number generator\n",
    "seed(1)\n",
    "# first variable\n",
    "x = 20 * randn(1000) + 100\n",
    "# second variable\n",
    "y = x + (10 * randn(1000) + 50)\n",
    "# create scatter plot\n",
    "pyplot.scatter(x, y)\n",
    "# show line plot\n",
    "pyplot.show()"
   ]
  },
  {
   "cell_type": "code",
   "execution_count": null,
   "id": "39aa9481-b358-4e9e-b786-e17d1a4d8e22",
   "metadata": {},
   "outputs": [],
   "source": [
    "linear or nonlinear"
   ]
  },
  {
   "cell_type": "code",
   "execution_count": 43,
   "id": "bdafcd53-ab6d-4a44-b786-b0e9faa70582",
   "metadata": {},
   "outputs": [
    {
     "data": {
      "image/png": "[encoded data removed]",
      "text/plain": [
       "<Figure size 432x288 with 1 Axes>"
      ]
     },
     "metadata": {
      "needs_background": "light"
     },
     "output_type": "display_data"
    }
   ],
   "source": [
    "# loads the necessary modules\n",
    "import matplotlib.pyplot as plt\n",
    "\n",
    "# loads the iris data set\n",
    "df = pd.read_csv(\"iris.csv\")\n",
    "\n",
    "# title\n",
    "plt.title('Petal length and width of iris', fontsize=20)\n",
    "\n",
    "# plot\n",
    "plt.scatter(df[\"petal.length\"], df[\"petal.width\"]);\n",
    "\n",
    "# saves the image\n",
    "#plt.savefig(\"irisscatterplot.png\")\n",
    "\n",
    "# shows the image\n",
    "plt.show()"
   ]
  }
 ],
 "metadata": {
  "kernelspec": {
   "display_name": "Python 3 (ipykernel)",
   "language": "python",
   "name": "python3"
  },
  "language_info": {
   "codemirror_mode": {
    "name": "ipython",
    "version": 3
   },
   "file_extension": ".py",
   "mimetype": "text/x-python",
   "name": "python",
   "nbconvert_exporter": "python",
   "pygments_lexer": "ipython3",
   "version": "3.9.15"
  }
 },
 "nbformat": 4,
 "nbformat_minor": 5
}
