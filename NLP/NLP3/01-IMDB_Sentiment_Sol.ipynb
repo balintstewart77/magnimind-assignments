{
 "cells": [
  {
   "cell_type": "markdown",
   "metadata": {},
   "source": [
    "# Sentiment Analysis Movie Review\n",
    "\n",
    "For this analysis we’ll be using a dataset of 50,000 movie reviews taken from IMDb. The data was compiled by Andrew Maas and can be found here: IMDb Reviews.\n",
    "The data is split evenly with 25k reviews intended for training and 25k for testing your classifier. Moreover, each set has 12.5k positive and 12.5k negative reviews.\n",
    "IMDb lets users rate movies on a scale from 1 to 10. To label these reviews the curator of the data labeled anything with ≤ 4 stars as negative and anything with ≥ 7 stars as positive. Reviews with 5 or 6 stars were left out.\n",
    "\n",
    "The dataset is available at http://ai.stanford.edu/~amaas/data/sentiment/."
   ]
  },
  {
   "cell_type": "code",
   "execution_count": 1,
   "metadata": {},
   "outputs": [],
   "source": [
    "import warnings\n",
    "warnings.filterwarnings(\"ignore\")"
   ]
  },
  {
   "cell_type": "code",
   "execution_count": 58,
   "metadata": {},
   "outputs": [],
   "source": [
    "# load_files module loads text files with categories as subfolder names.\n",
    "# The folder names are used as supervised signal label names. \n",
    "# The individual file names are not important.\n",
    "from sklearn.datasets import load_files\n",
    "import numpy as np\n",
    "from sklearn.feature_extraction.text import CountVectorizer\n",
    "import os\n",
    "import random\n",
    "np.set_printoptions(precision=3, suppress=True)\n",
    "import pandas as pd\n",
    "from sklearn.model_selection import train_test_split, cross_val_score\n",
    "from sklearn.pipeline import make_pipeline\n",
    "from sklearn.preprocessing import scale, StandardScaler\n",
    "\n",
    "import matplotlib.pyplot as plt\n",
    "%matplotlib inline\n",
    "#plt.rcParams[\"figure.dpi\"] = 300\n",
    "plt.rcParams[\"savefig.dpi\"] = 300\n",
    "plt.rcParams[\"savefig.bbox\"] = \"tight\""
   ]
  },
  {
   "cell_type": "markdown",
   "metadata": {},
   "source": [
    "You may not always find the dataset available for you to download from Sklearn, Keras type of platforms. Most of the times, you will have to find the dataset yourself and read it to your work space from some file. Below, you will find how you can read the IMDB text files from a folder where files are arranged by the label names."
   ]
  },
  {
   "cell_type": "code",
   "execution_count": 59,
   "metadata": {},
   "outputs": [],
   "source": [
    "def load_imdb_sentiment_analysis_dataset(data_path, seed=123):\n",
    "    \"\"\"Loads the IMDb movie reviews sentiment analysis dataset.\n",
    "\n",
    "    # Arguments\n",
    "        data_path: string, path to the data directory.\n",
    "        seed: int, seed for randomizer.\n",
    "\n",
    "    # Returns\n",
    "        A tuple of training and validation data.\n",
    "        Number of training samples: 25000\n",
    "        Number of test samples: 25000\n",
    "        Number of categories: 2 (0 - negative, 1 - positive)\n",
    "\n",
    "    # References\n",
    "        Mass et al., http://www.aclweb.org/anthology/P11-1015\n",
    "\n",
    "        Download and uncompress archive from:\n",
    "        http://ai.stanford.edu/~amaas/data/sentiment/aclImdb_v1.tar.gz\n",
    "    \"\"\"\n",
    "    imdb_data_path = os.path.join(data_path, 'aclImdb')\n",
    "\n",
    "    # Load the training data\n",
    "    train_texts = []\n",
    "    train_labels = []\n",
    "    for category in ['pos', 'neg']:\n",
    "        train_path = os.path.join(imdb_data_path, 'train', category)\n",
    "        for fname in sorted(os.listdir(train_path)):\n",
    "            if fname.endswith('.txt'):\n",
    "                with open(os.path.join(train_path, fname)) as f:\n",
    "                    z=f.read()\n",
    "                    train_texts.append(str(z))\n",
    "                train_labels.append(0 if category == 'neg' else 1)\n",
    "\n",
    "    # Load the validation data.\n",
    "    test_texts = []\n",
    "    test_labels = []\n",
    "    for category in ['pos', 'neg']:\n",
    "        test_path = os.path.join(imdb_data_path, 'test', category)\n",
    "        for fname in sorted(os.listdir(test_path)):\n",
    "            if fname.endswith('.txt'):\n",
    "                with open(os.path.join(test_path, fname)) as f:\n",
    "                    z=f.read()\n",
    "                    test_texts.append(str(z))\n",
    "                test_labels.append(0 if category == 'neg' else 1)\n",
    "\n",
    "    # Shuffle the training data and labels.\n",
    "    random.seed(seed)\n",
    "    random.shuffle(train_texts)\n",
    "    random.seed(seed)\n",
    "    random.shuffle(train_labels)\n",
    "\n",
    "    return (train_texts, np.array(train_labels),\n",
    "            test_texts, np.array(test_labels))"
   ]
  },
  {
   "cell_type": "markdown",
   "metadata": {},
   "source": [
    "# Load the train dataset\n",
    "\n",
    "- Load the dataset and divide data into trainval and test datasets. \n",
    "- Print the type of the trainval dataset\n",
    "- Print the length of the trainval dataset\n",
    "- Print the first document in your trainval dataset\n"
   ]
  },
  {
   "cell_type": "code",
   "execution_count": 60,
   "metadata": {},
   "outputs": [
    {
     "name": "stdout",
     "output_type": "stream",
     "text": [
      "type of text train: <class 'list'>\n",
      "length of text_train: 25000\n",
      "text_train[1]:\n",
      "The long list of \"big\" names in this flick (including the ubiquitous John Mills) didn't bowl me over to the extent that I couldn't judge the film on its actual merits. It is FULL of stereotypes, caricatures, and standard, set scenes, from the humble air-ace hero to the loud-mouthed yank flyer. The music track was such that at one point, about an hour before the end, I thought the film was over: loud, rising crescendo, grand flourish and finish then silence, but then the movie continued! I found no real storyline, haphazard writing, but smartly-pressed uniforms and the pretty Jean Simmons (pre-nose job) with a rousing little ditty. I cannot say that this picture has any of the ingredients which make a film great. I found it maudlin, mawkish and minor.\n"
     ]
    }
   ],
   "source": [
    "#reviews_train = load_files(\"aclImdb/train\")\n",
    "#text_train, y_train = reviews_train.data, reviews_train.target\n",
    "text_trainval, y_trainval, text_test, y_test = load_imdb_sentiment_analysis_dataset(\"\", seed=123)\n",
    "print(\"type of text train: {}\".format(type(text_trainval)))\n",
    "print(\"length of text_train: {}\".format(len(text_trainval)))\n",
    "print(\"text_train[1]:\\n{}\".format(text_trainval[1]))"
   ]
  },
  {
   "cell_type": "markdown",
   "metadata": {},
   "source": [
    "- Print the type of your labels 'y'\n",
    "- Print the lnegth of your labels\n",
    "- Print the first three labels"
   ]
  },
  {
   "cell_type": "code",
   "execution_count": 6,
   "metadata": {},
   "outputs": [
    {
     "name": "stdout",
     "output_type": "stream",
     "text": [
      "type of y train: <class 'numpy.ndarray'>\n",
      "\n",
      "length of y train: 25000\n",
      "\n",
      "y_train[0]:0\n",
      "y_train[1]:0\n",
      "y_train[2]:1\n"
     ]
    }
   ],
   "source": [
    "print(\"type of y train: {}\\n\".format(type(y_trainval)))\n",
    "print(\"length of y train: {}\\n\".format(len(y_trainval)))\n",
    "print(\"y_train[0]:{}\".format(y_trainval[0]))\n",
    "print(\"y_train[1]:{}\".format(y_trainval[1]))\n",
    "print(\"y_train[2]:{}\".format(y_trainval[2]))"
   ]
  },
  {
   "cell_type": "code",
   "execution_count": 8,
   "metadata": {},
   "outputs": [
    {
     "name": "stdout",
     "output_type": "stream",
     "text": [
      "The long list of \"big\" names in this flick (including the ubiquitous John Mills) didn't bowl me over to the extent that I couldn't judge the film on its actual merits. It is FULL of stereotypes, caricatures, and standard, set scenes, from the humble air-ace hero to the loud-mouthed yank flyer. The music track was such that at one point, about an hour before the end, I thought the film was over: loud, rising crescendo, grand flourish and finish then silence, but then the movie continued! I found no real storyline, haphazard writing, but smartly-pressed uniforms and the pretty Jean Simmons (pre-nose job) with a rousing little ditty. I cannot say that this picture has any of the ingredients which make a film great. I found it maudlin, mawkish and minor.\n"
     ]
    },
    {
     "data": {
      "text/plain": [
       "'The long list of \"big\" names in this flick (including the ubiquitous John Mills) didn\\'t bowl me over to the extent that I couldn\\'t judge the film on its actual merits. It is FULL of stereotypes, caricatures, and standard, set scenes, from the humble air-ace hero to the loud-mouthed yank flyer. The music track was such that at one point, about an hour before the end, I thought the film was over: loud, rising crescendo, grand flourish and finish then silence, but then the movie continued! I found no real storyline, haphazard writing, but smartly-pressed uniforms and the pretty Jean Simmons (pre-nose job) with a rousing little ditty. I cannot say that this picture has any of the ingredients which make a film great. I found it maudlin, mawkish and minor.'"
      ]
     },
     "execution_count": 8,
     "metadata": {},
     "output_type": "execute_result"
    }
   ],
   "source": [
    "a=(text_trainval[1])\n",
    "print(a)\n",
    "a[0]\n",
    "a.replace(\"<br />\", \" \")"
   ]
  },
  {
   "cell_type": "markdown",
   "metadata": {},
   "source": [
    "- If you go over the reviews in the directory structure, you will notice that many of the reviews contain some html line breaks. \n",
    "- Let's clean this. text_trainval is a list containing type bytes(bytes represents a binary encoding of the string data in Python 3.\n",
    "- after cleaning your dataset, divide your trainval dataset into train and validation datasets "
   ]
  },
  {
   "cell_type": "code",
   "execution_count": 9,
   "metadata": {},
   "outputs": [
    {
     "name": "stdout",
     "output_type": "stream",
     "text": [
      "\n",
      "Samples per class (training): [12500 12500]\n",
      "\n"
     ]
    }
   ],
   "source": [
    "text_trainval = [doc.replace(\"<br />\", \" \") for doc in text_trainval]\n",
    "print(\"\\nSamples per class (training): {}\\n\".format(np.bincount(y_trainval)))"
   ]
  },
  {
   "cell_type": "code",
   "execution_count": 11,
   "metadata": {},
   "outputs": [
    {
     "data": {
      "text/plain": [
       "24904"
      ]
     },
     "execution_count": 11,
     "metadata": {},
     "output_type": "execute_result"
    }
   ],
   "source": [
    "len(np.unique(text_trainval))"
   ]
  },
  {
   "cell_type": "code",
   "execution_count": 12,
   "metadata": {},
   "outputs": [
    {
     "data": {
      "text/plain": [
       "array([0, 1])"
      ]
     },
     "execution_count": 12,
     "metadata": {},
     "output_type": "execute_result"
    }
   ],
   "source": [
    "np.unique(y_trainval)"
   ]
  },
  {
   "cell_type": "code",
   "execution_count": 14,
   "metadata": {},
   "outputs": [
    {
     "data": {
      "text/plain": [
       "3"
      ]
     },
     "execution_count": 14,
     "metadata": {},
     "output_type": "execute_result"
    }
   ],
   "source": [
    "len(np.unique(y_trainval))"
   ]
  },
  {
   "cell_type": "code",
   "execution_count": 13,
   "metadata": {},
   "outputs": [
    {
     "name": "stdout",
     "output_type": "stream",
     "text": [
      "text_train[1]:\n",
      "The long list of \"big\" names in this flick (including the ubiquitous John Mills) didn't bowl me over to the extent that I couldn't judge the film on its actual merits. It is FULL of stereotypes, caricatures, and standard, set scenes, from the humble air-ace hero to the loud-mouthed yank flyer. The music track was such that at one point, about an hour before the end, I thought the film was over: loud, rising crescendo, grand flourish and finish then silence, but then the movie continued! I found no real storyline, haphazard writing, but smartly-pressed uniforms and the pretty Jean Simmons (pre-nose job) with a rousing little ditty. I cannot say that this picture has any of the ingredients which make a film great. I found it maudlin, mawkish and minor.\n"
     ]
    }
   ],
   "source": [
    "print(\"text_train[1]:\\n{}\".format(text_trainval[1]))"
   ]
  },
  {
   "cell_type": "code",
   "execution_count": 14,
   "metadata": {},
   "outputs": [
    {
     "name": "stdout",
     "output_type": "stream",
     "text": [
      "y_train[1]:\n",
      "0\n"
     ]
    }
   ],
   "source": [
    "print(\"y_train[1]:\\n{}\".format(y_trainval[1]))"
   ]
  },
  {
   "cell_type": "code",
   "execution_count": 15,
   "metadata": {},
   "outputs": [],
   "source": [
    "\n",
    "text_train, text_val, y_train, y_val = train_test_split(text_trainval, y_trainval, stratify=y_trainval, random_state=0)"
   ]
  },
  {
   "cell_type": "markdown",
   "metadata": {},
   "source": [
    "# Load the test dataset\n",
    "- This is for the purpose of demonstrating that we can load the same dataset using Sklearn available function"
   ]
  },
  {
   "cell_type": "code",
   "execution_count": 19,
   "metadata": {},
   "outputs": [
    {
     "ename": "IsADirectoryError",
     "evalue": "[Errno 21] Is a directory: 'aclImdb/test/neg/.ipynb_checkpoints'",
     "output_type": "error",
     "traceback": [
      "\u001b[0;31m---------------------------------------------------------------------------\u001b[0m",
      "\u001b[0;31mIsADirectoryError\u001b[0m                         Traceback (most recent call last)",
      "\u001b[0;32m/var/folders/m4/nw89d6t55432fr9z9l53lrl80000gn/T/ipykernel_70705/415423319.py\u001b[0m in \u001b[0;36m<module>\u001b[0;34m\u001b[0m\n\u001b[0;32m----> 1\u001b[0;31m \u001b[0mreviews_test\u001b[0m \u001b[0;34m=\u001b[0m \u001b[0mload_files\u001b[0m\u001b[0;34m(\u001b[0m\u001b[0;34m\"aclImdb/test/\"\u001b[0m\u001b[0;34m)\u001b[0m\u001b[0;34m\u001b[0m\u001b[0;34m\u001b[0m\u001b[0m\n\u001b[0m\u001b[1;32m      2\u001b[0m \u001b[0mtext_test\u001b[0m\u001b[0;34m,\u001b[0m \u001b[0my_test\u001b[0m \u001b[0;34m=\u001b[0m \u001b[0mreviews_test\u001b[0m\u001b[0;34m.\u001b[0m\u001b[0mdata\u001b[0m\u001b[0;34m,\u001b[0m \u001b[0mreviews_test\u001b[0m\u001b[0;34m.\u001b[0m\u001b[0mtarget\u001b[0m\u001b[0;34m\u001b[0m\u001b[0;34m\u001b[0m\u001b[0m\n\u001b[1;32m      3\u001b[0m \u001b[0mprint\u001b[0m\u001b[0;34m(\u001b[0m\u001b[0;34m\"Number of documents in test data: {}\"\u001b[0m\u001b[0;34m.\u001b[0m\u001b[0mformat\u001b[0m\u001b[0;34m(\u001b[0m\u001b[0mlen\u001b[0m\u001b[0;34m(\u001b[0m\u001b[0mtext_test\u001b[0m\u001b[0;34m)\u001b[0m\u001b[0;34m)\u001b[0m\u001b[0;34m)\u001b[0m\u001b[0;34m\u001b[0m\u001b[0;34m\u001b[0m\u001b[0m\n\u001b[1;32m      4\u001b[0m \u001b[0mprint\u001b[0m\u001b[0;34m(\u001b[0m\u001b[0;34m\"Samples per class (test): {}\"\u001b[0m\u001b[0;34m.\u001b[0m\u001b[0mformat\u001b[0m\u001b[0;34m(\u001b[0m\u001b[0mnp\u001b[0m\u001b[0;34m.\u001b[0m\u001b[0mbincount\u001b[0m\u001b[0;34m(\u001b[0m\u001b[0my_test\u001b[0m\u001b[0;34m)\u001b[0m\u001b[0;34m)\u001b[0m\u001b[0;34m)\u001b[0m\u001b[0;34m\u001b[0m\u001b[0;34m\u001b[0m\u001b[0m\n\u001b[1;32m      5\u001b[0m \u001b[0mtext_test\u001b[0m \u001b[0;34m=\u001b[0m \u001b[0;34m[\u001b[0m\u001b[0mdoc\u001b[0m\u001b[0;34m.\u001b[0m\u001b[0mreplace\u001b[0m\u001b[0;34m(\u001b[0m\u001b[0;34mb\"<br />\"\u001b[0m\u001b[0;34m,\u001b[0m \u001b[0;34mb\" \"\u001b[0m\u001b[0;34m)\u001b[0m \u001b[0;32mfor\u001b[0m \u001b[0mdoc\u001b[0m \u001b[0;32min\u001b[0m \u001b[0mtext_test\u001b[0m\u001b[0;34m]\u001b[0m\u001b[0;34m\u001b[0m\u001b[0;34m\u001b[0m\u001b[0m\n",
      "\u001b[0;32m~/opt/anaconda3/lib/python3.8/site-packages/sklearn/utils/validation.py\u001b[0m in \u001b[0;36minner_f\u001b[0;34m(*args, **kwargs)\u001b[0m\n\u001b[1;32m     70\u001b[0m                           FutureWarning)\n\u001b[1;32m     71\u001b[0m         \u001b[0mkwargs\u001b[0m\u001b[0;34m.\u001b[0m\u001b[0mupdate\u001b[0m\u001b[0;34m(\u001b[0m\u001b[0;34m{\u001b[0m\u001b[0mk\u001b[0m\u001b[0;34m:\u001b[0m \u001b[0marg\u001b[0m \u001b[0;32mfor\u001b[0m \u001b[0mk\u001b[0m\u001b[0;34m,\u001b[0m \u001b[0marg\u001b[0m \u001b[0;32min\u001b[0m \u001b[0mzip\u001b[0m\u001b[0;34m(\u001b[0m\u001b[0msig\u001b[0m\u001b[0;34m.\u001b[0m\u001b[0mparameters\u001b[0m\u001b[0;34m,\u001b[0m \u001b[0margs\u001b[0m\u001b[0;34m)\u001b[0m\u001b[0;34m}\u001b[0m\u001b[0;34m)\u001b[0m\u001b[0;34m\u001b[0m\u001b[0;34m\u001b[0m\u001b[0m\n\u001b[0;32m---> 72\u001b[0;31m         \u001b[0;32mreturn\u001b[0m \u001b[0mf\u001b[0m\u001b[0;34m(\u001b[0m\u001b[0;34m**\u001b[0m\u001b[0mkwargs\u001b[0m\u001b[0;34m)\u001b[0m\u001b[0;34m\u001b[0m\u001b[0;34m\u001b[0m\u001b[0m\n\u001b[0m\u001b[1;32m     73\u001b[0m     \u001b[0;32mreturn\u001b[0m \u001b[0minner_f\u001b[0m\u001b[0;34m\u001b[0m\u001b[0;34m\u001b[0m\u001b[0m\n\u001b[1;32m     74\u001b[0m \u001b[0;34m\u001b[0m\u001b[0m\n",
      "\u001b[0;32m~/opt/anaconda3/lib/python3.8/site-packages/sklearn/datasets/_base.py\u001b[0m in \u001b[0;36mload_files\u001b[0;34m(container_path, description, categories, load_content, shuffle, encoding, decode_error, random_state)\u001b[0m\n\u001b[1;32m    212\u001b[0m         \u001b[0mdata\u001b[0m \u001b[0;34m=\u001b[0m \u001b[0;34m[\u001b[0m\u001b[0;34m]\u001b[0m\u001b[0;34m\u001b[0m\u001b[0;34m\u001b[0m\u001b[0m\n\u001b[1;32m    213\u001b[0m         \u001b[0;32mfor\u001b[0m \u001b[0mfilename\u001b[0m \u001b[0;32min\u001b[0m \u001b[0mfilenames\u001b[0m\u001b[0;34m:\u001b[0m\u001b[0;34m\u001b[0m\u001b[0;34m\u001b[0m\u001b[0m\n\u001b[0;32m--> 214\u001b[0;31m             \u001b[0;32mwith\u001b[0m \u001b[0mopen\u001b[0m\u001b[0;34m(\u001b[0m\u001b[0mfilename\u001b[0m\u001b[0;34m,\u001b[0m \u001b[0;34m'rb'\u001b[0m\u001b[0;34m)\u001b[0m \u001b[0;32mas\u001b[0m \u001b[0mf\u001b[0m\u001b[0;34m:\u001b[0m\u001b[0;34m\u001b[0m\u001b[0;34m\u001b[0m\u001b[0m\n\u001b[0m\u001b[1;32m    215\u001b[0m                 \u001b[0mdata\u001b[0m\u001b[0;34m.\u001b[0m\u001b[0mappend\u001b[0m\u001b[0;34m(\u001b[0m\u001b[0mf\u001b[0m\u001b[0;34m.\u001b[0m\u001b[0mread\u001b[0m\u001b[0;34m(\u001b[0m\u001b[0;34m)\u001b[0m\u001b[0;34m)\u001b[0m\u001b[0;34m\u001b[0m\u001b[0;34m\u001b[0m\u001b[0m\n\u001b[1;32m    216\u001b[0m         \u001b[0;32mif\u001b[0m \u001b[0mencoding\u001b[0m \u001b[0;32mis\u001b[0m \u001b[0;32mnot\u001b[0m \u001b[0;32mNone\u001b[0m\u001b[0;34m:\u001b[0m\u001b[0;34m\u001b[0m\u001b[0;34m\u001b[0m\u001b[0m\n",
      "\u001b[0;31mIsADirectoryError\u001b[0m: [Errno 21] Is a directory: 'aclImdb/test/neg/.ipynb_checkpoints'"
     ]
    }
   ],
   "source": [
    "reviews_test = load_files(\"aclImdb/test/\")\n",
    "text_test, y_test = reviews_test.data, reviews_test.target \n",
    "print(\"Number of documents in test data: {}\".format(len(text_test))) \n",
    "print(\"Samples per class (test): {}\".format(np.bincount(y_test))) \n",
    "text_test = [doc.replace(b\"<br />\", b\" \") for doc in text_test]"
   ]
  },
  {
   "cell_type": "markdown",
   "metadata": {},
   "source": [
    "# Bag of Words \n",
    "We need to convert the string representation of the corpus into a numeric representation that we can apply our machine learning algorithms to.\n",
    "We discard most of the structure of the input text, and only count how oftern each word appears in each text in the corpus. This is the mental image of a \"bag of words\" for a corpus of docs. \n",
    "It consists of three steps:\n",
    "- Tokenization, (CountVectorizer)\n",
    "- Vocabulary Building, (fitting the CountVectorizer builds the vocabulary)(vocabulary_)\n",
    "- Encoding (in the form of SciPy sparse matrix)(boW is created via transform) (one vector of word counts for each document in the corpus)(for each word in the document, we have a count of how often it appears in each document)\n",
    "\n",
    "### CountVectorizer \n",
    "- eliminates single letter words like \"a\"\n",
    "- tokenizes using a regular expression \"\\b\\w\\w+\\b\". \n",
    "- converts all to lowercase letters.\n",
    "\n",
    "\n"
   ]
  },
  {
   "cell_type": "code",
   "execution_count": 21,
   "metadata": {},
   "outputs": [
    {
     "name": "stdout",
     "output_type": "stream",
     "text": [
      "X_train:\n",
      "<18750x66605 sparse matrix of type '<class 'numpy.int64'>'\n",
      "\twith 2564934 stored elements in Compressed Sparse Row format>\n"
     ]
    }
   ],
   "source": [
    "# Fitting of the CountVectorizer consists of tokenization of the training data, \n",
    "# and building the vocabulary\n",
    "# Transforming the CountVectorizer creates the bag-of-words representation\n",
    "# of the train data.\n",
    "# the bow is stored in a SciPy sparse matrix that only stores the nonzero\n",
    "# entries. \n",
    "# to look at the actual content of the sparse matrix, convert it to dense \n",
    "# array using numpy.toarray() method\n",
    "vect = CountVectorizer()\n",
    "# X_train is in the form of bow (after calling transform, bow is created)\n",
    "X_train = vect.fit_transform(text_train)\n",
    "print(\"X_train:\\n{}\".format(repr(X_train)))\n",
    "X_val = vect.transform(text_val)"
   ]
  },
  {
   "cell_type": "code",
   "execution_count": 24,
   "metadata": {},
   "outputs": [
    {
     "name": "stdout",
     "output_type": "stream",
     "text": [
      "[array(['2005', 'am', 'america', 'american', 'and', 'animation',\n",
      "       'animators', 'anime', 'anymore', 'are', 'ass', 'beating', 'became',\n",
      "       'called', 'came', 'cartoon', 'cartoons', 'characters', 'cheep',\n",
      "       'classic', 'comes', 'crap', 'current', 'date', 'drawing', 'either',\n",
      "       'even', 'first', 'found', 'god', 'heard', 'in', 'is', 'japanese',\n",
      "       'just', 'kappa', 'knew', 'last', 'lazy', 'live', 'messing',\n",
      "       'mikey', 'never', 'night', 'no', 'not', 'of', 'off', 'oh', 'old',\n",
      "       'or', 'out', 'popular', 'produce', 'rip', 'show', 'shows', 'sick',\n",
      "       'since', 'so', 'some', 'style', 'that', 'the', 'they', 'this',\n",
      "       'to', 'trying', 'uk', 'up', 'usa', 'usually', 'was', 'well',\n",
      "       'when', 'with', 'wonder', 'year'], dtype='<U66')]\n"
     ]
    }
   ],
   "source": [
    "print(vect.inverse_transform(X_val[1141]))#decode())"
   ]
  },
  {
   "cell_type": "markdown",
   "metadata": {},
   "source": [
    "- Print the length of the vocabulary vector"
   ]
  },
  {
   "cell_type": "code",
   "execution_count": 25,
   "metadata": {},
   "outputs": [
    {
     "name": "stdout",
     "output_type": "stream",
     "text": [
      "66605\n"
     ]
    }
   ],
   "source": [
    "print(len(vect.vocabulary_))\n",
    "#vect.vocabulary_\n",
    "#vocabulary_ includes a map of feature terms to indices. \n",
    "#get_feature_names array mapping from feature integer indices to feature\n",
    "#name."
   ]
  },
  {
   "cell_type": "markdown",
   "metadata": {},
   "source": [
    "- Get the feature names from the 'vect' object\n",
    "- Print the type of the feature names\n",
    "- Print the first 20 feature names\n",
    "- Print every other 2000th feature name"
   ]
  },
  {
   "cell_type": "code",
   "execution_count": 26,
   "metadata": {},
   "outputs": [
    {
     "name": "stdout",
     "output_type": "stream",
     "text": [
      "<class 'list'>\n",
      "Number of features: 66605\n",
      "First 20 features:\n",
      "['00', '000', '0000000000001', '00001', '000s', '001', '003830', '006', '007', '0079', '0080', '0083', '0093638', '00am', '00pm', '00s', '01', '01pm', '02', '020410']\n",
      "Features 20010 to 20030:\n",
      "['eschews', 'escort', 'escorted', 'escorting', 'escorts', 'escpecially', 'escrow', 'esculator', 'ese', 'eser', 'esha', 'eshaan', 'eshley', 'eskimo', 'eskimos', 'esl', 'esmond', 'esophagus', 'esoteric', 'esoterically']\n",
      "Every 2000th feature:\n",
      "['00', 'ahahahahahhahahahahahahahahahhahahahahahahah', 'ashwar', 'beloved', 'bribe', 'celery', 'comforted', 'crossings', 'deter', 'droplet', 'escargot', 'fingertips', 'gaspard', 'gunner', 'homepage', 'inherently', 'kabinett', 'lederhosen', 'majority', 'mikuni', 'nasha', 'organise', 'perversely', 'primrose', 'reboots', 'robson', 'scuppered', 'skimpier', 'starbase', 'synanomess', 'toothpicks', 'unforgiven', 'wager', 'yearbook']\n"
     ]
    }
   ],
   "source": [
    "feature_names = vect.get_feature_names()\n",
    "print(type(feature_names))\n",
    "print(\"Number of features: {}\".format(len(feature_names)))\n",
    "print(\"First 20 features:\\n{}\".format(feature_names[:20])) \n",
    "print(\"Features 20010 to 20030:\\n{}\".format(feature_names[20010:20030])) \n",
    "print(\"Every 2000th feature:\\n{}\".format(feature_names[::2000]))"
   ]
  },
  {
   "cell_type": "markdown",
   "metadata": {},
   "source": [
    "If you notice, the first features are all numbers that appeared somewhere in the reviews. Also, some words appear multiple times both in singular and plural forms. "
   ]
  },
  {
   "cell_type": "markdown",
   "metadata": {},
   "source": [
    "# Logistic Regression with cross validation\n",
    "- Build a Logistic Regression model\n",
    "- Train the model with cross validation of 5 folds\n",
    "- Print the mean accuracy score of the corss validation"
   ]
  },
  {
   "cell_type": "code",
   "execution_count": 24,
   "metadata": {},
   "outputs": [
    {
     "name": "stdout",
     "output_type": "stream",
     "text": [
      "Mean cross-validation accuracy: 0.88\n"
     ]
    }
   ],
   "source": [
    "from sklearn.model_selection import cross_val_score\n",
    "from sklearn.linear_model import LogisticRegression\n",
    "scores = cross_val_score(LogisticRegression(), X_train, y_train, cv=5) \n",
    "print(\"Mean cross-validation accuracy: {:.2f}\".format(np.mean(scores)))"
   ]
  },
  {
   "cell_type": "markdown",
   "metadata": {},
   "source": [
    "- Get the score on the validation dataset after retaraaiing the model on the train dataset"
   ]
  },
  {
   "cell_type": "code",
   "execution_count": 25,
   "metadata": {},
   "outputs": [
    {
     "name": "stdout",
     "output_type": "stream",
     "text": [
      "0.9994133333333334\n",
      "0.87424\n"
     ]
    }
   ],
   "source": [
    "from sklearn.linear_model import LogisticRegression\n",
    "lr = LogisticRegression(max_iter=2000).fit(X_train, y_train)\n",
    "print(lr.score(X_train, y_train))\n",
    "print(lr.score(X_val, y_val))"
   ]
  },
  {
   "cell_type": "markdown",
   "metadata": {},
   "source": [
    "# Hypertuning C with a GridSearch\n",
    "- You can tune upir model up by exploring for the best `C` parameter value in your logistic regression model\n",
    "- Use `GridSearchCV` from Scikitlearn"
   ]
  },
  {
   "cell_type": "code",
   "execution_count": 26,
   "metadata": {},
   "outputs": [
    {
     "name": "stdout",
     "output_type": "stream",
     "text": [
      "Best cross-validation score: 0.88\n",
      "Best parameters:  {'C': 0.1}\n"
     ]
    }
   ],
   "source": [
    "from sklearn.model_selection import GridSearchCV\n",
    "param_grid = {'C': [0.001, 0.01, 0.1, 1, 10]}\n",
    "# countvectorizer (text_train)\n",
    "# pipeline (CountVectorizer, LogisticRegression )\n",
    "grid = GridSearchCV(LogisticRegression(), param_grid, cv=5) \n",
    "grid.fit(X_train, y_train)\n",
    "print(\"Best cross-validation score: {:.2f}\".format(grid.best_score_)) \n",
    "print(\"Best parameters: \", grid.best_params_)\n"
   ]
  },
  {
   "cell_type": "code",
   "execution_count": 28,
   "metadata": {},
   "outputs": [
    {
     "name": "stdout",
     "output_type": "stream",
     "text": [
      "0.88\n"
     ]
    }
   ],
   "source": [
    "X_test = vect.transform(text_test) \n",
    "print(\"{:.2f}\".format(grid.score(X_test, y_test)))"
   ]
  },
  {
   "cell_type": "markdown",
   "metadata": {},
   "source": [
    "# min_df\n",
    " - Let's modify the CountVectorizer so that it uses tokens that appear in at least five documents. This will get rid of the silly numbers in the feature set. \n",
    " - Make the grid search again and print the best score"
   ]
  },
  {
   "cell_type": "code",
   "execution_count": 27,
   "metadata": {},
   "outputs": [
    {
     "name": "stdout",
     "output_type": "stream",
     "text": [
      "X_train with min_df: <18750x23692 sparse matrix of type '<class 'numpy.int64'>'\n",
      "\twith 2494812 stored elements in Compressed Sparse Row format>\n"
     ]
    }
   ],
   "source": [
    "vect = CountVectorizer(min_df=5).fit(text_train)\n",
    "X_train = vect.transform(text_train)\n",
    "print(\"X_train with min_df: {}\".format(repr(X_train)))"
   ]
  },
  {
   "cell_type": "code",
   "execution_count": 28,
   "metadata": {},
   "outputs": [
    {
     "name": "stdout",
     "output_type": "stream",
     "text": [
      "num of features :23692\n",
      "First 50 features:\n",
      "['00', '000', '007', '00s', '01', '02', '03', '05', '06', '07', '08', '09', '10', '100', '1000', '101', '102', '103', '105', '108', '10th', '11', '110', '112', '117', '11th', '12', '120', '12th', '13', '13th', '14', '140', '14th', '15', '150', '15th', '16', '160', '16mm', '16s', '16th', '17', '17th', '18', '180', '1800', '1800s', '1840', '1860']\n",
      "Features 20010 to 20030:\n",
      "['stand', 'standard', 'standards', 'standing', 'standout', 'standouts', 'standpoint', 'stands', 'standup', 'stanford', 'stank', 'stanley', 'stanton', 'stanwyck', 'staple', 'stapleton', 'star', 'starbuck', 'stardom', 'stardust']\n",
      "Every 700th feature:\n",
      "['00', 'agnes', 'ashton', 'behold', 'bressart', 'cellar', 'colored', 'coups', 'deformed', 'diver', 'elves', 'exuberant', 'forehead', 'god', 'headless', 'il', 'invent', 'kristen', 'lovable', 'melt', 'muslims', 'omar', 'penance', 'preaches', 'railway', 'residents', 'salute', 'shepherd', 'solve', 'stretched', 'tearing', 'trapper', 'unwilling', 'welcomed']\n"
     ]
    }
   ],
   "source": [
    "feature_names = vect.get_feature_names()\n",
    "print(\"num of features :{}\".format(len(feature_names)))\n",
    "print(\"First 50 features:\\n{}\".format(feature_names[:50]))\n",
    "print(\"Features 20010 to 20030:\\n{}\".format(feature_names[20010:20030])) \n",
    "print(\"Every 700th feature:\\n{}\".format(feature_names[::700]))"
   ]
  },
  {
   "cell_type": "code",
   "execution_count": 29,
   "metadata": {},
   "outputs": [
    {
     "name": "stdout",
     "output_type": "stream",
     "text": [
      "Best cross-validation score: 0.88\n"
     ]
    }
   ],
   "source": [
    "grid = GridSearchCV(LogisticRegression(), param_grid, cv=5)\n",
    "grid.fit(X_train, y_train)\n",
    "print(\"Best cross-validation score: {:.2f}\".format(grid.best_score_))"
   ]
  },
  {
   "cell_type": "markdown",
   "metadata": {},
   "source": [
    "Although accuracy did not improve, the number of features are less. The cross validation score did not improve but it speeds up to deal with fewer features."
   ]
  },
  {
   "cell_type": "markdown",
   "metadata": {},
   "source": [
    "# Stopwords\n",
    "Getting rid of uninformative words that are too frequent and language specific. Scikit-learn has a built-in list of English stopwords\n"
   ]
  },
  {
   "cell_type": "code",
   "execution_count": 30,
   "metadata": {},
   "outputs": [
    {
     "name": "stdout",
     "output_type": "stream",
     "text": [
      "Number of stop words: 318\n",
      "Every 10th stopword:\n",
      "['whence', 'myself', 'hereupon', 'whenever', 'us', 'them', 'thus', 'name', 'ie', 're', 'full', 'nine', 'sixty', 'when', 'others', 'made', 'have', 'becomes', 'after', 'why', 'describe', 'in', 'thick', 'be', 'therefore', 'though', 'noone', 'see', 'above', 'towards', 'or', 'around']\n"
     ]
    }
   ],
   "source": [
    "from sklearn.feature_extraction.text import ENGLISH_STOP_WORDS \n",
    "print(\"Number of stop words: {}\".format(len(ENGLISH_STOP_WORDS))) \n",
    "print(\"Every 10th stopword:\\n{}\".format(list(ENGLISH_STOP_WORDS)[::10]))"
   ]
  },
  {
   "cell_type": "code",
   "execution_count": 31,
   "metadata": {},
   "outputs": [
    {
     "name": "stdout",
     "output_type": "stream",
     "text": [
      "X_train with stop words:\n",
      "<18750x23390 sparse matrix of type '<class 'numpy.int64'>'\n",
      "\twith 1594124 stored elements in Compressed Sparse Row format>\n"
     ]
    }
   ],
   "source": [
    "# Specifying stop_words=\"english\" uses the built-in list.\n",
    "# We could also augment it and pass our own.\n",
    "vect = CountVectorizer(min_df=5, stop_words=\"english\").fit(text_train) \n",
    "X_train = vect.transform(text_train)\n",
    "print(\"X_train with stop words:\\n{}\".format(repr(X_train)))"
   ]
  },
  {
   "cell_type": "code",
   "execution_count": 32,
   "metadata": {},
   "outputs": [
    {
     "name": "stdout",
     "output_type": "stream",
     "text": [
      "Best cross-validation score: 0.88\n",
      "Best parameters:  {'C': 0.1}\n"
     ]
    }
   ],
   "source": [
    "grid = GridSearchCV(LogisticRegression(), param_grid, cv=5) \n",
    "grid.fit(X_train, y_train)\n",
    "print(\"Best cross-validation score: {:.2f}\".format(grid.best_score_))\n",
    "print(\"Best parameters: \", grid.best_params_)"
   ]
  },
  {
   "cell_type": "markdown",
   "metadata": {},
   "source": [
    "- Fixed sets of stopwords are not very likely to increase the performance. Let's try another approach. \n",
    "- Removing stopwords might not always be a good idea especially in sentiment analysis. By removing the stop word, a negative string could turn out to be positive and vice versa. \n",
    "\n",
    "# max_df\n",
    "- max_df also eliminates frequently used words. "
   ]
  },
  {
   "cell_type": "code",
   "execution_count": 37,
   "metadata": {},
   "outputs": [
    {
     "name": "stdout",
     "output_type": "stream",
     "text": [
      "X_train with stop words:\n",
      "<18750x18903 sparse matrix of type '<class 'numpy.int64'>'\n",
      "\twith 302276 stored elements in Compressed Sparse Row format>\n"
     ]
    }
   ],
   "source": [
    "vect = CountVectorizer(min_df=5, max_df=55).fit(text_train) \n",
    "X_train = vect.transform(text_train)\n",
    "print(\"X_train with stop words:\\n{}\".format(repr(X_train)))"
   ]
  },
  {
   "cell_type": "code",
   "execution_count": 38,
   "metadata": {},
   "outputs": [
    {
     "name": "stdout",
     "output_type": "stream",
     "text": [
      "Best cross-validation score: 0.76\n"
     ]
    }
   ],
   "source": [
    "grid = GridSearchCV(LogisticRegression(), param_grid, cv=5) \n",
    "grid.fit(X_train, y_train)\n",
    "print(\"Best cross-validation score: {:.2f}\".format(grid.best_score_))"
   ]
  },
  {
   "cell_type": "markdown",
   "metadata": {},
   "source": [
    "# Rescaling with tf-idf\n",
    "\n",
    "Until now, we dropped features that are deemed unimportant. Another approach is to rescale features. The intuition is to give high weight to any term that appears often IN A PARTICULAR DOC, but NOT in many documents in the corpus. \n",
    "term-frequency, inverse document frequency. The lower the IDF value of a word, the less unique it is to any particular document.\n",
    "\n",
    "go over tfidf at web site:\n",
    "https://kavita-ganesan.com/tfidftransformer-tfidfvectorizer-usage-differences/\n",
    "\n",
    "- Create a pipeline of tfidf vectorizer and a logistic regression estimator\n",
    "- use the pipe object in your gridsearch with a cross validation with 5-folds \n"
   ]
  },
  {
   "cell_type": "code",
   "execution_count": 33,
   "metadata": {},
   "outputs": [
    {
     "name": "stdout",
     "output_type": "stream",
     "text": [
      "Best cross-validation score: 0.89\n"
     ]
    }
   ],
   "source": [
    "from sklearn.feature_extraction.text import TfidfVectorizer \n",
    "from sklearn.pipeline import make_pipeline\n",
    "pipe = make_pipeline(TfidfVectorizer(min_df=5, norm=None),\n",
    "                         LogisticRegression())\n",
    "param_grid = {'logisticregression__C': [0.001, 0.01, 0.1, 1, 10]}\n",
    "grid = GridSearchCV(pipe, param_grid, cv=5)\n",
    "grid.fit(text_train, y_train)\n",
    "print(\"Best cross-validation score: {:.2f}\".format(grid.best_score_))\n"
   ]
  },
  {
   "cell_type": "code",
   "execution_count": 34,
   "metadata": {},
   "outputs": [
    {
     "data": {
      "text/plain": [
       "Pipeline(steps=[('tfidfvectorizer', TfidfVectorizer(min_df=5, norm=None)),\n",
       "                ('logisticregression', LogisticRegression(C=0.001))])"
      ]
     },
     "execution_count": 34,
     "metadata": {},
     "output_type": "execute_result"
    }
   ],
   "source": [
    "grid.best_estimator_"
   ]
  },
  {
   "cell_type": "markdown",
   "metadata": {},
   "source": [
    "If you like, you can 3xtract your vectorizer from the pipeline and transform your train or test dataset\n",
    "- extract tfidfvectorizer from the pipeline\n",
    "- transform the training dataset\n",
    "- find max values for each of the features over the dataset\n",
    "- print the lowest 20 tfidf features\n",
    "- print the highest 20 tfidf features"
   ]
  },
  {
   "cell_type": "code",
   "execution_count": 35,
   "metadata": {},
   "outputs": [
    {
     "name": "stdout",
     "output_type": "stream",
     "text": [
      "<class 'sklearn.feature_extraction.text.TfidfVectorizer'>\n",
      "Features with lowest tfidf:\n",
      "['costs' 'amateurish' 'everywhere' 'prepared' 'poignant' 'uncomfortable'\n",
      " 'concerns' 'instantly' 'importantly' 'regardless' 'disagree' 'bucks'\n",
      " 'exaggerated' 'lacked' 'handful' 'occurred' 'areas' 'currently'\n",
      " 'altogether' 'logical']\n",
      "Features with highest tfidf: \n",
      "['superman' 'gypo' 'keaton' 'europa' 'cal' 'blob' 'paulie' 'roy'\n",
      " 'hackenstein' 'dillinger' 'vargas' 'jesse' 'basket' 'the' 'victor'\n",
      " 'victoria' 'zizek' 'rob' 'timon' 'titanic']\n"
     ]
    }
   ],
   "source": [
    "#Extract tfidfvectorizer from the pipeline\n",
    "vectorizer = grid.best_estimator_.named_steps[\"tfidfvectorizer\"]\n",
    "print(type(vectorizer))\n",
    "#transform the training dataset\n",
    "X_train = vectorizer.transform(text_train)\n",
    "#find max values for each of the features over the dataset\n",
    "max_value = X_train.max(axis=0).toarray().ravel() \n",
    "sorted_by_tfidf = max_value.argsort()\n",
    "    # get feature names\n",
    "feature_names = np.array(vectorizer.get_feature_names()) \n",
    "print(\"Features with lowest tfidf:\\n{}\".format(\n",
    "feature_names[sorted_by_tfidf[:20]])) \n",
    "print(\"Features with highest tfidf: \\n{}\".format(\n",
    "feature_names[sorted_by_tfidf[-20:]]))"
   ]
  },
  {
   "cell_type": "markdown",
   "metadata": {},
   "source": [
    "Lowest tfidf features are common accross the documents\n",
    "Highest tfidf features identify specific movies. "
   ]
  },
  {
   "cell_type": "markdown",
   "metadata": {},
   "source": [
    "# Work on idf score\n",
    "- Similarly, we can find the word that have low idf. You can see that they are mosly stopwords.\n",
    "- And some are domain specific words like watch, movie, etc.\n",
    "- Notice that some words like good, great, bad are also among most frequent according to tfidf."
   ]
  },
  {
   "cell_type": "code",
   "execution_count": 36,
   "metadata": {},
   "outputs": [
    {
     "name": "stdout",
     "output_type": "stream",
     "text": [
      "Features with lowest idf:\n",
      "['the' 'and' 'of' 'to' 'this' 'is' 'it' 'in' 'that' 'but' 'for' 'with'\n",
      " 'as' 'was' 'on' 'movie' 'not' 'have' 'one' 'be' 'are' 'film' 'you' 'all'\n",
      " 'at' 'an' 'by' 'like' 'from' 'so' 'who' 'they' 'there' 'if' 'his' 'out'\n",
      " 'just' 'about' 'he' 'or' 'has' 'what' 'some' 'can' 'good' 'when' 'more'\n",
      " 'time' 'up' 'very' 'even' 'only' 'no' 'would' 'my' 'see' 'really' 'story'\n",
      " 'which' 'had' 'well' 'me' 'than' 'much' 'their' 'get' 'been' 'were'\n",
      " 'other' 'do' 'don' 'also' 'most' 'made' 'first' 'her' 'great' 'into'\n",
      " 'how' 'will' 'because' 'make' 'people' 'way' 'could' 'bad' 'we' 'after'\n",
      " 'any' 'too' 'then' 'them' 'watch' 'she' 'think' 'acting' 'movies' 'seen'\n",
      " 'its' 'many']\n"
     ]
    }
   ],
   "source": [
    "sorted_by_idf = np.argsort(vectorizer.idf_) \n",
    "print(\"Features with lowest idf:\\n{}\".format(\n",
    "feature_names[sorted_by_idf[:100]]))"
   ]
  },
  {
   "cell_type": "markdown",
   "metadata": {},
   "source": [
    "When you look at the lowest idf words, some words are stop words. Interestingly, great, good are also in the list. "
   ]
  },
  {
   "cell_type": "markdown",
   "metadata": {},
   "source": [
    "# Investigating Model Coefficients\n",
    "To understand what our model learned, we are going to investigate the model coefficients by looking at the most and least important coeefficients. We will extract the last model that we trained.\n",
    "- If you like, you can install a module `mglearn` to print the plots. use `! pip install mglearn`\n"
   ]
  },
  {
   "cell_type": "code",
   "execution_count": 37,
   "metadata": {},
   "outputs": [],
   "source": [
    "#! pip install mglearn"
   ]
  },
  {
   "cell_type": "code",
   "execution_count": 38,
   "metadata": {},
   "outputs": [],
   "source": [
    "#import mglearn\n",
    "#mglearn.tools.visualize_coefficients(\n",
    "#        grid.best_estimator_.named_steps[\"logisticregression\"].coef_,\n",
    "#        feature_names, n_top_features=25)"
   ]
  },
  {
   "cell_type": "markdown",
   "metadata": {},
   "source": [
    "I provide a function to plot important features."
   ]
  },
  {
   "cell_type": "code",
   "execution_count": 51,
   "metadata": {},
   "outputs": [],
   "source": [
    "def plot_important_features(coef, feature_names, top_n=20, ax=None, rotation=60):\n",
    "    if ax is None:\n",
    "        ax = plt.gca()\n",
    "    inds = np.argsort(coef)\n",
    "    low = inds[:top_n]\n",
    "    high = inds[-top_n:]\n",
    "    important = np.hstack([low, high])\n",
    "    myrange = range(len(important))\n",
    "    colors = ['red'] * top_n + ['blue'] * top_n\n",
    "    \n",
    "    ax.bar(myrange, coef[important], color=colors)\n",
    "    ax.set_xticks(myrange)\n",
    "    ax.set_xticklabels(feature_names[important], rotation=rotation, ha=\"right\")\n",
    "    ax.set_xlim(-.7, 2 * top_n)\n",
    "    ax.set_frame_on(False)"
   ]
  },
  {
   "cell_type": "code",
   "execution_count": 40,
   "metadata": {},
   "outputs": [
    {
     "data": {
      "image/png": "[encoded data removed]",
      "text/plain": [
       "<Figure size 1080x432 with 1 Axes>"
      ]
     },
     "metadata": {
      "needs_background": "light"
     },
     "output_type": "display_data"
    }
   ],
   "source": [
    "\n",
    "plt.figure(figsize=(15, 6))\n",
    "plot_important_features(grid.best_estimator_.named_steps\\\n",
    "[\"logisticregression\"].coef_.ravel(), np.array(feature_names), \\\n",
    "top_n=20, rotation=40)\n",
    "ax = plt.gca()"
   ]
  },
  {
   "cell_type": "markdown",
   "metadata": {},
   "source": [
    "# Bag-of-words\n",
    "- disadvantage: word order is completely discarded. \n",
    "\"It is bad, not good at all\" is the same as \"It is good, not bad at all.\"\n",
    "# n_grams\n",
    "- pairs of tokens are bigrams\n",
    " - unigrams - only one\n",
    "- `n_gram_range` parameter of `CountVectorizer` and `TfidfVectorizer` is a tuple -> (min, max)\n",
    "- Adding longer sequences—up to 5-grams—might help too, but this will lead to an explosion of the number of features and might lead to overfitting, as there will be many very specific features.\n",
    "\n"
   ]
  },
  {
   "cell_type": "code",
   "execution_count": 27,
   "metadata": {},
   "outputs": [],
   "source": [
    "malory = [\"Do you want ants?\",\n",
    "          \"Because that’s how you get ants.\"]"
   ]
  },
  {
   "cell_type": "code",
   "execution_count": 28,
   "metadata": {},
   "outputs": [
    {
     "name": "stdout",
     "output_type": "stream",
     "text": [
      "Vocabulary size: 8\n",
      "Vocabulary:\n",
      "['ants', 'because', 'do', 'get', 'how', 'that', 'want', 'you']\n"
     ]
    }
   ],
   "source": [
    "cv = CountVectorizer(ngram_range=(1, 1)).fit(malory)\n",
    "print(\"Vocabulary size: {}\".format(len(cv.vocabulary_)))\n",
    "print(\"Vocabulary:\\n{}\".format(cv.get_feature_names()))"
   ]
  },
  {
   "cell_type": "code",
   "execution_count": 29,
   "metadata": {},
   "outputs": [
    {
     "name": "stdout",
     "output_type": "stream",
     "text": [
      "Vocabulary size: 8\n",
      "Vocabulary:\n",
      "['because that', 'do you', 'get ants', 'how you', 'that how', 'want ants', 'you get', 'you want']\n"
     ]
    }
   ],
   "source": [
    "cv = CountVectorizer(ngram_range=(2, 2)).fit(malory)\n",
    "print(\"Vocabulary size: {}\".format(len(cv.vocabulary_)))\n",
    "print(\"Vocabulary:\\n{}\".format(cv.get_feature_names()))"
   ]
  },
  {
   "cell_type": "code",
   "execution_count": 30,
   "metadata": {},
   "outputs": [
    {
     "name": "stdout",
     "output_type": "stream",
     "text": [
      "Vocabulary size: 16\n",
      "Vocabulary:\n",
      "['ants', 'because', 'because that', 'do', 'do you', 'get', 'get ants', 'how', 'how you', 'that', 'that how', 'want', 'want ants', 'you', 'you get', 'you want']\n"
     ]
    }
   ],
   "source": [
    "cv = CountVectorizer(ngram_range=(1, 2)).fit(malory)\n",
    "print(\"Vocabulary size: {}\".format(len(cv.vocabulary_)))\n",
    "print(\"Vocabulary:\\n{}\".format(cv.get_feature_names()))"
   ]
  },
  {
   "cell_type": "code",
   "execution_count": 31,
   "metadata": {},
   "outputs": [
    {
     "name": "stdout",
     "output_type": "stream",
     "text": [
      "Vocabulary size (1, 1) (min_df=4): 26907\n",
      "Vocabulary size (1, 2) (min_df=4): 153673\n",
      "Vocabulary size (1, 3) (min_df=4): 248752\n",
      "Vocabulary size (1, 4) (min_df=4): 280226\n"
     ]
    }
   ],
   "source": [
    "for ngram_range in [(1, 1), (1, 2), (1, 3), (1, 4)]:\n",
    "    \n",
    "    cv = CountVectorizer(ngram_range=ngram_range, min_df=4).fit(text_train)\n",
    "    print(\"Vocabulary size {} (min_df=4): {}\".\\\n",
    "          format(ngram_range, len(cv.vocabulary_)))"
   ]
  },
  {
   "cell_type": "code",
   "execution_count": 32,
   "metadata": {},
   "outputs": [
    {
     "name": "stdout",
     "output_type": "stream",
     "text": [
      "Vocabulary size 1-4gram: 7773845\n"
     ]
    }
   ],
   "source": [
    "cv = CountVectorizer(ngram_range=(1, 4)).fit(text_train)\n",
    "print(\"Vocabulary size 1-4gram: {}\".format(len(cv.vocabulary_)))"
   ]
  },
  {
   "cell_type": "code",
   "execution_count": 33,
   "metadata": {},
   "outputs": [
    {
     "name": "stdout",
     "output_type": "stream",
     "text": [
      "Vocabulary size (1, 2), min_df=4: 153673\n",
      "Vocabulary size (1, 2), stopwords, min_df=4: 78373\n"
     ]
    }
   ],
   "source": [
    "cv = CountVectorizer(ngram_range=(1, 2), min_df=4).fit(text_train)\n",
    "print(\"Vocabulary size (1, 2), min_df=4: {}\".format(len(cv.vocabulary_)))\n",
    "cv = CountVectorizer(ngram_range=(1, 2), min_df=4, \\\n",
    "                     stop_words=\"english\").fit(text_train)\n",
    "print(\"Vocabulary size (1, 2), stopwords, min_df=4: {}\".\\\n",
    "      format(len(cv.vocabulary_)))"
   ]
  },
  {
   "cell_type": "code",
   "execution_count": 34,
   "metadata": {},
   "outputs": [
    {
     "name": "stdout",
     "output_type": "stream",
     "text": [
      "31474\n",
      "372\n"
     ]
    }
   ],
   "source": [
    "cv4 = CountVectorizer(ngram_range=(4, 4), min_df=4).fit(text_train)\n",
    "cv4sw = CountVectorizer(ngram_range=(4, 4), min_df=4,\\\n",
    "                        stop_words=\"english\").fit(text_train)\n",
    "print(len(cv4.get_feature_names()))\n",
    "print(len(cv4sw.get_feature_names()))"
   ]
  },
  {
   "cell_type": "code",
   "execution_count": 37,
   "metadata": {
    "scrolled": true
   },
   "outputs": [
    {
     "name": "stdout",
     "output_type": "stream",
     "text": [
      "['10 for this movie', 'and even then you', 'anyone familiar with the', 'bad but this is', 'but the ending is', 'devil knows you re', 'faithful to the book', 'for what it really', 'has the feel of', 'if they had been', 'in the movie can', 'is not love song', 'it is far from', 'just one of the', 'material to work with', 'my big fat greek', 'of the actors have', 'on so many levels', 'performance in this film', 'seem like they re', 'take it too seriously', 'the action scenes are', 'the film succeeds in', 'the movie would have', 'the time and place', 'thirds of the way', 'this movie when it', 'to go see this', 'took me by surprise', 'was trying to make', 'which is why the', 'you can tell they']\n"
     ]
    }
   ],
   "source": [
    "print(cv4.get_feature_names()[::1000])"
   ]
  },
  {
   "cell_type": "code",
   "execution_count": 38,
   "metadata": {},
   "outputs": [
    {
     "name": "stdout",
     "output_type": "stream",
     "text": [
      "['10 year old boy', 'academy award best picture', 'alison parker cristina raines', 'bad acting bad special', 'best movies ve seen', 'burt reynolds dom deluise', 'church jesus christ day', 'dauphine university paris pantheon', 'doc savage man bronze', 'don say didn warn', 'douglas fairbanks william hart', 'fast times ridgemont high', 'film worst film seen', 'gave great supporting role', 'harris arden patrick wilson', 'jacques coulardeau university paris', 'john rooney paul newman', 'la maman et la', 'like texas chainsaw massacre', 'low budget horror flick', 'makes movie worth watching', 'morning sunday night monday', 'movie great story great', 'movie ve seen years', 'mystery science theater 3000', 'palm springs international film', 'pierce brosnan greg kinnear', 'production design spectacular costumes', 'really looking forward seeing', 'robert stack dorothy malone', 'saw movie years ago', 'sky captain world tomorrow', 'story doesn make sense', 'total waste time money', 've seen long time', 'walter matthau george burns', 'won golden globe best', 'wrong place wrong time']\n"
     ]
    }
   ],
   "source": [
    "print(cv4sw.get_feature_names()[::10])"
   ]
  },
  {
   "cell_type": "code",
   "execution_count": 39,
   "metadata": {},
   "outputs": [],
   "source": [
    "bla = cv4sw.transform(text_train)"
   ]
  },
  {
   "cell_type": "code",
   "execution_count": 40,
   "metadata": {},
   "outputs": [
    {
     "name": "stdout",
     "output_type": "stream",
     "text": [
      "['worst movie ve seen' 'worst movies ve seen' '40 year old virgin'\n",
      " 'mystery science theater 3000' 've seen long time' 'don waste time money'\n",
      " 'worst film ve seen' 'best movies ve seen' 'worst films ve seen'\n",
      " 'don waste time watching' 'jean claude van damme'\n",
      " 'really wanted like movie' 'lose friends alienate people'\n",
      " 'don think ve seen' 'toronto international film festival'\n",
      " 'just doesn make sense' 'let face music dance' 've seen ve seen'\n",
      " 'bad bad bad bad' 'fred astaire ginger rogers' 'vote seven title brazil'\n",
      " 'trey parker matt stone' 'just didn make sense'\n",
      " 'santa claus conquers martians' 'rock roll high school'\n",
      " 'don say didn warn' 'crouching tiger hidden dragon' 'best movie ve seen'\n",
      " 'mystery science theatre 3000' 'maman et la putain' 'la maman et la'\n",
      " 'low budget horror films' 'don make mistake did'\n",
      " 'night evelyn came grave' 'according dvd sleeve synopsis'\n",
      " 'peter cushing christopher lee' 'movies ve seen long'\n",
      " 'won academy award best' 'left cutting room floor'\n",
      " 'movie complete waste time' 've seen better acting'\n",
      " 'really wanted like film' 'story doesn make sense' 'low budget sci fi'\n",
      " 'saw movie years ago' 'low budget horror movies'\n",
      " 'saturday night friday night' 'james van der beek'\n",
      " 'looking forward seeing movie' 'robert blake scott wilson']\n"
     ]
    }
   ],
   "source": [
    "print(np.array(cv4sw.get_feature_names())\\\n",
    "      [np.argsort(np.array(bla.sum(axis=0)).\\\n",
    "                  ravel())[::-1][:50]])"
   ]
  },
  {
   "cell_type": "code",
   "execution_count": 41,
   "metadata": {},
   "outputs": [
    {
     "data": {
      "text/plain": [
       "ve       32\n",
       "seen     30\n",
       "movie    17\n",
       "bad      16\n",
       "good     13\n",
       "time     12\n",
       "waste    12\n",
       "make     11\n",
       "worst    11\n",
       "best     10\n",
       "dtype: int64"
      ]
     },
     "execution_count": 41,
     "metadata": {},
     "output_type": "execute_result"
    }
   ],
   "source": [
    "pd.Series(\"\".join(cv4sw.get_feature_names()).\\\n",
    "          split()).value_counts()[:10]"
   ]
  },
  {
   "cell_type": "code",
   "execution_count": 42,
   "metadata": {},
   "outputs": [
    {
     "data": {
      "text/plain": [
       "ve         32\n",
       "seen       30\n",
       "seen',     24\n",
       "'movie     21\n",
       "movie      17\n",
       "movie',    16\n",
       "bad        16\n",
       "good       13\n",
       "'don       13\n",
       "waste      12\n",
       "dtype: int64"
      ]
     },
     "execution_count": 42,
     "metadata": {},
     "output_type": "execute_result"
    }
   ],
   "source": [
    "pd.Series(str(cv4sw.get_feature_names()).\\\n",
    "          split()).value_counts()[:10]"
   ]
  },
  {
   "cell_type": "code",
   "execution_count": 43,
   "metadata": {},
   "outputs": [],
   "source": [
    "vect3 = CountVectorizer(ngram_range=(1, 3), min_df=4)\n",
    "X_train3 = vect3.fit_transform(text_train)"
   ]
  },
  {
   "cell_type": "code",
   "execution_count": 46,
   "metadata": {},
   "outputs": [],
   "source": [
    "from sklearn.linear_model import LogisticRegression\n",
    "lr3 = LogisticRegression().fit(X_train3, y_train)"
   ]
  },
  {
   "cell_type": "code",
   "execution_count": 48,
   "metadata": {},
   "outputs": [
    {
     "data": {
      "text/plain": [
       "1.0"
      ]
     },
     "execution_count": 48,
     "metadata": {},
     "output_type": "execute_result"
    }
   ],
   "source": [
    "lr3.C"
   ]
  },
  {
   "cell_type": "code",
   "execution_count": 49,
   "metadata": {},
   "outputs": [
    {
     "data": {
      "text/plain": [
       "0.8912"
      ]
     },
     "execution_count": 49,
     "metadata": {},
     "output_type": "execute_result"
    }
   ],
   "source": [
    "X_val3 = vect3.transform(text_val)\n",
    "lr3.score(X_val3, y_val)"
   ]
  },
  {
   "cell_type": "code",
   "execution_count": 52,
   "metadata": {},
   "outputs": [
    {
     "data": {
      "text/plain": [
       "Text(0.5, 1.0, 'Stopwords included (1-3 gram)')"
      ]
     },
     "execution_count": 52,
     "metadata": {},
     "output_type": "execute_result"
    },
    {
     "data": {
      "image/png": "[encoded data removed]",
      "text/plain": [
       "<Figure size 1080x288 with 1 Axes>"
      ]
     },
     "metadata": {
      "needs_background": "light"
     },
     "output_type": "display_data"
    }
   ],
   "source": [
    "plt.figure(figsize=(15, 4))\n",
    "plot_important_features(lr3.coef_.ravel(),\\\n",
    "    np.array(vect3.get_feature_names()), top_n=40, rotation=70)\n",
    "plt.title(\"Stopwords included (1-3 gram)\")\n",
    "#plt.savefig(\"images/stopwords_1.png\")"
   ]
  },
  {
   "cell_type": "markdown",
   "metadata": {},
   "source": [
    "Let’s try out the TfidfVectorizer on the IMDb movie review data and find the best\n",
    "setting of n-gram range using a grid search:\n",
    "(n_gram_range is a tuple consisting of min and max number of words in a token)\n",
    "Single words capture a lot of info. Upto 5 is considerable but increasing the max increases the features"
   ]
  },
  {
   "cell_type": "code",
   "execution_count": 56,
   "metadata": {},
   "outputs": [
    {
     "name": "stdout",
     "output_type": "stream",
     "text": [
      "Best cross-validation score: 0.89\n",
      "Best parameters:\n",
      "{'logisticregression__C': 1, 'tfidfvectorizer__ngram_range': (1, 2)}\n"
     ]
    }
   ],
   "source": [
    "from sklearn.feature_extraction.text import TfidfVectorizer \n",
    "from sklearn.pipeline import make_pipeline\n",
    "from sklearn.model_selection import GridSearchCV\n",
    "\n",
    "pipe = make_pipeline(TfidfVectorizer(min_df=5), LogisticRegression())\n",
    "param_grid = {\"logisticregression__C\": [ 0.1, 1],\n",
    "                  \"tfidfvectorizer__ngram_range\": [(1, 1), (1, 2), (1, 3)]}\n",
    "grid = GridSearchCV(pipe, param_grid, cv=5)\n",
    "grid.fit(text_train, y_train)\n",
    "print(\"Best cross-validation score: {:.2f}\".format(grid.best_score_)) \n",
    "print(\"Best parameters:\\n{}\".format(grid.best_params_))"
   ]
  },
  {
   "cell_type": "markdown",
   "metadata": {},
   "source": [
    "Performance increase a bit more by adding bigram and trigram features. \n",
    "Let's visualise the cross-validation accuracy as a function of the ngram_range and C parameter as a heatmap."
   ]
  },
  {
   "cell_type": "code",
   "execution_count": 57,
   "metadata": {},
   "outputs": [
    {
     "data": {
      "image/png": "[encoded data removed]",
      "text/plain": [
       "<Figure size 432x288 with 2 Axes>"
      ]
     },
     "metadata": {
      "needs_background": "light"
     },
     "output_type": "display_data"
    }
   ],
   "source": [
    "from matplotlib import pyplot as plt\n",
    "import mglearn\n",
    "# extract scores from grid_search\n",
    "scores = grid.cv_results_['mean_test_score'].reshape(-1, 3).T # visualize heat map\n",
    "heatmap = mglearn.tools.heatmap(\n",
    "        scores, xlabel=\"C\", ylabel=\"ngram_range\", cmap=\"viridis\", fmt=\"%.3f\",\n",
    "        xticklabels=param_grid['logisticregression__C'],\n",
    "        yticklabels=param_grid['tfidfvectorizer__ngram_range'])\n",
    "plt.colorbar(heatmap);\n"
   ]
  },
  {
   "cell_type": "code",
   "execution_count": 77,
   "metadata": {},
   "outputs": [
    {
     "data": {
      "image/png": "[encoded data removed]",
      "text/plain": [
       "<Figure size 1080x360 with 1 Axes>"
      ]
     },
     "metadata": {
      "needs_background": "light"
     },
     "output_type": "display_data"
    }
   ],
   "source": [
    "# extract feature names and coefficients\n",
    "vect = grid.best_estimator_.named_steps['tfidfvectorizer']\n",
    "feature_names = np.array(vect.get_feature_names())\n",
    "coef = grid.best_estimator_.named_steps\\\n",
    "['logisticregression'].coef_#\\\n",
    "#mglearn.tools.visualize_coefficients\n",
    "#(coef, feature_names, n_top_features=40)\n",
    "plot_important_features(coef.ravel(),\\\n",
    "    feature_names, top_n=40, rotation=70)"
   ]
  },
  {
   "cell_type": "markdown",
   "metadata": {},
   "source": [
    "Next, let's visualise only trigrams"
   ]
  },
  {
   "cell_type": "code",
   "execution_count": 78,
   "metadata": {
    "scrolled": true
   },
   "outputs": [
    {
     "name": "stdout",
     "output_type": "stream",
     "text": [
      "[False False False ... False False False]\n"
     ]
    },
    {
     "data": {
      "image/png": "[encoded data removed]",
      "text/plain": [
       "<Figure size 1080x360 with 1 Axes>"
      ]
     },
     "metadata": {
      "needs_background": "light"
     },
     "output_type": "display_data"
    }
   ],
   "source": [
    " # find 3-gram features\n",
    "mask = np.array([len(feature.split(\" \")) for feature in feature_names]) == 3 \n",
    "print(mask)\n",
    "# visualize only 3-gram features \n",
    "mglearn.tools.visualize_coefficients\\\n",
    "(coef.ravel()[mask],feature_names[mask], n_top_features=40)"
   ]
  },
  {
   "cell_type": "markdown",
   "metadata": {},
   "source": [
    "# Tokenization, Stemming, Lemmatization\n",
    "\n",
    "- Stemming : dropping common suffixes\n",
    "- Lemmatization : a known dictionary is applied to get the root of the word (was, were -> be)\n",
    "Both methods are known as normalization of the text data\n",
    "- Spelling correction is also another way of normalization\n",
    "- scikit-learn does NOT implement text normalization"
   ]
  },
  {
   "cell_type": "code",
   "execution_count": 79,
   "metadata": {},
   "outputs": [],
   "source": [
    "#python -m spacy download en"
   ]
  },
  {
   "cell_type": "markdown",
   "metadata": {},
   "source": [
    "https://docs.python.org/3/howto/regex.html#regex-howto"
   ]
  },
  {
   "cell_type": "code",
   "execution_count": 80,
   "metadata": {},
   "outputs": [],
   "source": [
    "import spacy\n",
    "import nltk\n",
    "    \n",
    "# load spacy's English-language models\n",
    "en_nlp = spacy.load('en')\n",
    "\n",
    "# instantiate nltk's Porter stemmer \n",
    "stemmer = nltk.stem.PorterStemmer()\n",
    "\n",
    "# define function to compare lemmatization in spacy with stemming in nltk\n",
    "def compare_normalization(doc):\n",
    "    # tokenize document in spacy\n",
    "    doc_spacy = en_nlp(doc)\n",
    "    # print lemmas found by spacy\n",
    "    print(\"Lemmatization:\")\n",
    "    print([token.lemma_ for token in doc_spacy])\n",
    "    # print tokens found by Porter stemmer\n",
    "    print(\"Stemming:\")\n",
    "    print([stemmer.stem(token.norm_.lower()) for token in doc_spacy])\n"
   ]
  },
  {
   "cell_type": "code",
   "execution_count": 81,
   "metadata": {},
   "outputs": [
    {
     "name": "stdout",
     "output_type": "stream",
     "text": [
      "Lemmatization:\n",
      "['-PRON-', 'meeting', 'today', 'be', 'bad', 'than', 'yesterday', ',', '-PRON-', 'be', 'scared', 'of', 'meet', 'the', 'client', 'tomorrow', '.']\n",
      "Stemming:\n",
      "['our', 'meet', 'today', 'wa', 'wors', 'than', 'yesterday', ',', 'i', 'am', 'scare', 'of', 'meet', 'the', 'client', 'tomorrow', '.']\n"
     ]
    }
   ],
   "source": [
    "compare_normalization(u\"Our meeting today was worse than yesterday, \"\n",
    "                           \"I'm scared of meeting the clients tomorrow.\")\n"
   ]
  },
  {
   "cell_type": "markdown",
   "metadata": {},
   "source": [
    "(?...)\n",
    "This is an extension notation (a '?' following a '(' is not meaningful otherwise). The first character after the '?' determines what the meaning and further syntax of the construct is. Extensions usually do not create a new group; (?P<name>...) is the only exception to this rule. Following are the currently supported extensions.\n",
    "(?iLmsux)\n",
    "(One or more letters from the set 'i', 'L', 'm', 's', 'u', 'x'.) The group matches the empty string; the letters set the corresponding flags: re.I (ignore case), re.L (locale dependent), re.M (multi-line), re.S (dot matches all), re.U (Unicode dependent), and re.X (verbose), for the entire regular expression. (The flags are described in Module Contents.) This is useful if you wish to include the flags as part of the regular expression, instead of passing a flag argument to the re.compile() function.\n",
    "\n",
    "Note that the (?x) flag changes how the expression is parsed. It should be used first in the expression string, or after one or more whitespace characters. If there are non-whitespace characters before the flag, the results are undefined."
   ]
  },
  {
   "cell_type": "code",
   "execution_count": 82,
   "metadata": {},
   "outputs": [],
   "source": [
    "# Technicality: we want to use the regexp-based tokenizer\n",
    "# that is used by CountVectorizer and only use the lemmatization\n",
    "# from spacy. To this end, we replace en_nlp.tokenizer (the spacy tokenizer) \n",
    "# with the regexp-based tokenization.\n",
    "import re\n",
    "import spacy\n",
    "\n",
    "# regexp used in CountVectorizer\n",
    "# (?u) means unicode dependent\n",
    "# esc sequence is repeated twice for the python interpreter to recognize\n",
    "# \\b is for word boundaries\n",
    "# \\w\\w+ is for two or more words\n",
    "regexp = re.compile('(?u)\\\\b\\\\w\\\\w+\\\\b')\n",
    "\n",
    "# load spacy language model and save old tokenizer\n",
    "en_nlp = spacy.load('en')\n",
    "old_tokenizer = en_nlp.tokenizer\n",
    "# replace the tokenizer with the preceding regexp \n",
    "en_nlp.tokenizer = lambda string: old_tokenizer.tokens_from_list(\n",
    "        regexp.findall(string))\n",
    "\n",
    "# create a custom tokenizer using the spacy document processing pipeline \n",
    "# (now using our own tokenizer)\n",
    "def custom_tokenizer(document):\n",
    "    #doc_spacy = en_nlp(document, entity=False, parse=False)\n",
    "    doc_spacy = en_nlp(document)\n",
    "    return [token.lemma_ for token in doc_spacy]\n",
    "\n",
    "# define a count vectorizer with the custom tokenizer\n",
    "lemma_vect = CountVectorizer(tokenizer=\\\n",
    "                             custom_tokenizer, min_df=5)"
   ]
  },
  {
   "cell_type": "markdown",
   "metadata": {},
   "source": [
    "Let's transform the data and inspect the vocabulary size:"
   ]
  },
  {
   "cell_type": "code",
   "execution_count": 83,
   "metadata": {},
   "outputs": [
    {
     "name": "stdout",
     "output_type": "stream",
     "text": [
      "X_train_lemma.shape: (18750, 19047)\n",
      "X_train.shape: (18750, 23692)\n"
     ]
    }
   ],
   "source": [
    "# transform text_train using CountVectorizer with lemmatization\n",
    "X_train_lemma = lemma_vect.fit_transform(text_train) \n",
    "print(\"X_train_lemma.shape: {}\".format(X_train_lemma.shape))\n",
    "# standard CountVectorizer for reference\n",
    "vect = CountVectorizer(min_df=5).fit(text_train) \n",
    "X_train = vect.transform(text_train) \n",
    "print(\"X_train.shape: {}\".format(X_train.shape))"
   ]
  },
  {
   "cell_type": "markdown",
   "metadata": {},
   "source": [
    "Lemmatization reduced the number of features to 21571. Lemmatization can be seen as a kind of regularization, as it conflates certain features. Therefore, we expect lemmatization to improve performance most when the dataset is small.\n",
    "\n",
    "During data splitting operations, train_test_split represents random sampling while StratifiedShuffleSplit represents Stratified Sampling. This is a sampling technique that is best used when a statistical population can easily be broken down into distinctive sub-groups. Then samples are taken from each sub-groups based on the ratio of the sub groups size to the total population. On the other hand, Random sampling is ideal when there is not much information about a population or when the data is diverse and not easily grouped."
   ]
  },
  {
   "cell_type": "code",
   "execution_count": 84,
   "metadata": {},
   "outputs": [
    {
     "name": "stdout",
     "output_type": "stream",
     "text": [
      "Best cross-validation score (standard CountVectorizer): 0.685\n",
      "Best cross-validation score (lemmatization): 0.694\n"
     ]
    }
   ],
   "source": [
    "# build a grid search using only 1% of the data as the training set\n",
    "from sklearn.model_selection import StratifiedShuffleSplit\n",
    "\n",
    "param_grid = {'C': [0.001, 0.01, 0.1, 1, 10]}\n",
    "cv = StratifiedShuffleSplit(n_splits=5, test_size=0.99,\n",
    "                                train_size=0.01, random_state=0)\n",
    "grid = GridSearchCV(LogisticRegression(), param_grid, cv=cv)\n",
    "# perform grid search with standard CountVectorizer\n",
    "grid.fit(X_train, y_train) \n",
    "print(\"Best cross-validation score \"\n",
    "\"(standard CountVectorizer): {:.3f}\".format(grid.best_score_)) \n",
    "# perform grid search with lemmatization\n",
    "grid.fit(X_train_lemma, y_train)\n",
    "print(\"Best cross-validation score \"\n",
    "      \"(lemmatization): {:.3f}\".format(grid.best_score_))\n"
   ]
  },
  {
   "cell_type": "markdown",
   "metadata": {},
   "source": [
    "In this case, lemmatization provided a modest improvement in performance. \n",
    "# Latent Dirichlet Allocation"
   ]
  },
  {
   "cell_type": "code",
   "execution_count": null,
   "metadata": {},
   "outputs": [],
   "source": [
    "vect = CountVectorizer(max_features=10000, max_df=.15)\n",
    "X = vect.fit_transform(text_train)\n",
    "from sklearn.decomposition import LatentDirichletAllocation\n",
    "lda = LatentDirichletAllocation(n_components=10, learning_method=\"batch\",\n",
    "        max_iter=25, random_state=0) \n",
    "# We build the model and transform the data in one step\n",
    "# Computing transform takes some time,\n",
    "# and we can save time by doing both at once \n",
    "document_topics = lda.fit_transform(X)"
   ]
  },
  {
   "cell_type": "code",
   "execution_count": null,
   "metadata": {},
   "outputs": [],
   "source": [
    "lda.components_.shape"
   ]
  },
  {
   "cell_type": "code",
   "execution_count": null,
   "metadata": {},
   "outputs": [],
   "source": [
    "# For each topic (a row in the components_), sort the features (ascending) # Invert rows with [:, ::-1] to make sorting descending\n",
    "sorting = np.argsort(lda.components_, axis=1)[:, ::-1]\n",
    "# Get the feature names from the vectorizer\n",
    "feature_names = np.array(vect.get_feature_names())\n",
    "# Print out the 10 topics:\n",
    "mglearn.tools.print_topics(topics=range(10),\\\n",
    "feature_names=feature_names,\\\n",
    "sorting= sorting, topics_per_chunk=5, n_words=10)"
   ]
  },
  {
   "cell_type": "markdown",
   "metadata": {},
   "source": [
    "Next, we will learn another model, this time with 100 topics. Using more topics makes the analysis much harder, but makes it more likely that topics can specialize to interesting subsets of the data:"
   ]
  },
  {
   "cell_type": "code",
   "execution_count": null,
   "metadata": {},
   "outputs": [],
   "source": [
    "lda100 = LatentDirichletAllocation(n_components=100,\\\n",
    "learning_method=\"batch\",max_iter=25, random_state=0)\n",
    "document_topics100 = lda100.fit_transform(X)"
   ]
  },
  {
   "cell_type": "markdown",
   "metadata": {},
   "source": [
    "Instead of looking at all the topics, let us look at some of them. "
   ]
  },
  {
   "cell_type": "code",
   "execution_count": null,
   "metadata": {},
   "outputs": [],
   "source": [
    "topics = np.array([7, 16, 24, 25, 28, 36, 37, 45, 51, 53, 54, 63, 89, 97])\n",
    "sorting = np.argsort(lda100.components_, axis=1)[:, ::-1]\n",
    "feature_names = np.array(vect.get_feature_names())\n",
    "mglearn.tools.print_topics(topics=topics,\\\n",
    "feature_names=feature_names,sorting=sorting,\\\n",
    "    topics_per_chunk=7, n_words=20)\n"
   ]
  },
  {
   "cell_type": "markdown",
   "metadata": {},
   "source": [
    "Let’s check which kinds of reviews are assigned to this topic:"
   ]
  },
  {
   "cell_type": "code",
   "execution_count": null,
   "metadata": {},
   "outputs": [],
   "source": [
    "# sort by weight of \"music\" topic 45\n",
    "music = np.argsort(document_topics100[:, 45])[::-1]\n",
    "# print the five documents where the topic is most important \n",
    "for i in music[:10]:\n",
    "    # pshow first two sentences\n",
    "    print(b\".\".join(text_train[i].split(b\".\")[:2]) + b\".\\n\")"
   ]
  },
  {
   "cell_type": "code",
   "execution_count": null,
   "metadata": {},
   "outputs": [],
   "source": [
    "fig, ax = plt.subplots(1, 2, figsize=(10, 10))\n",
    "topic_names = [\"{:>2} \".format(i) + \" \".join(words)\n",
    "for i, words in enumerate(\\\n",
    "feature_names[sorting[:, :2]])] # two column bar chart:\n",
    "for col in [0, 1]: \n",
    "    start=col*50\n",
    "    end=(col+1)*50\n",
    "    ax[col].barh(np.arange(50), \\\n",
    "    np.sum(document_topics100, axis=0)[start:end]) \n",
    "    ax[col].set_yticks(np.arange(50)) \n",
    "    ax[col].set_yticklabels(topic_names[start:end], ha=\"left\", va=\"top\") \n",
    "    ax[col].invert_yaxis()\n",
    "    ax[col].set_xlim(0, 2000)\n",
    "    yax = ax[col].get_yaxis()\n",
    "    yax.set_tick_params(pad=130)\n",
    "plt.tight_layout()"
   ]
  },
  {
   "cell_type": "markdown",
   "metadata": {},
   "source": [
    "# SpaCy tutorial\n",
    "https://nlpforhackers.io/complete-guide-to-spacy/"
   ]
  },
  {
   "cell_type": "code",
   "execution_count": null,
   "metadata": {},
   "outputs": [],
   "source": [
    "import spacy\n",
    "nlp = spacy.load('en')\n",
    "doc = nlp('Hello     World!')\n",
    "for token in doc:\n",
    "    print('\"' + token.text + '\"', token.idx)"
   ]
  },
  {
   "cell_type": "markdown",
   "metadata": {},
   "source": [
    "# NLTK vs spaCY\n",
    "\n",
    "Notice the index preserving tokenization in action. Rather than only keeping the words, spaCy keeps the spaces too. This is helpful for situations when you need to replace words in the original text or add some annotations. With NLTK tokenization, there’s no way to know exactly where a tokenized word is in the original raw text. spaCy preserves this “link” between the word and its place in the raw text.\n",
    "\n",
    "Nltk was for research purposes. \n",
    "Nltk supports various languages, spaCy supports 7 languages with NER.\n",
    "Nltk is a string processing library. spaCy uses OO.\n",
    "In sentence tokenization, nltk outperforms spaCy. in word tokenization and POS-tagging spaCy performs better,\n",
    "\n",
    "spaCy has support for word vectors. nltk does not. "
   ]
  },
  {
   "cell_type": "code",
   "execution_count": null,
   "metadata": {},
   "outputs": [],
   "source": [
    "nlp = spacy.load('en_core_web_lg')\n",
    "print(nlp.vocab['banana'].vector)"
   ]
  },
  {
   "cell_type": "code",
   "execution_count": null,
   "metadata": {},
   "outputs": [],
   "source": [
    "import en_core_web_sm\n",
    "nlp = en_core_web_sm.load()"
   ]
  },
  {
   "cell_type": "code",
   "execution_count": null,
   "metadata": {},
   "outputs": [],
   "source": [
    "from sklearn.feature_extraction.text import CountVectorizer\n",
    "corpus = [\n",
    "     'This is the first document.',\n",
    "     'This document is the second document.',\n",
    "     'And this is the third one.',\n",
    "     'Is this the first document?',\n",
    " ]\n",
    "vectorizer = CountVectorizer()\n",
    "X = vectorizer.fit_transform(corpus)\n",
    "print(vectorizer.get_feature_names())\n",
    "print(vectorizer.vocabulary_)"
   ]
  },
  {
   "cell_type": "code",
   "execution_count": null,
   "metadata": {},
   "outputs": [],
   "source": []
  }
 ],
 "metadata": {
  "kernelspec": {
   "display_name": "Python 3 (ipykernel)",
   "language": "python",
   "name": "python3"
  },
  "language_info": {
   "codemirror_mode": {
    "name": "ipython",
    "version": 3
   },
   "file_extension": ".py",
   "mimetype": "text/x-python",
   "name": "python",
   "nbconvert_exporter": "python",
   "pygments_lexer": "ipython3",
   "version": "3.8.5"
  }
 },
 "nbformat": 4,
 "nbformat_minor": 4
}
