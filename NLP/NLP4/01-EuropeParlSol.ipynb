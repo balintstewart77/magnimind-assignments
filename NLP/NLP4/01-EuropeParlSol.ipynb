{
 "cells": [
  {
   "cell_type": "code",
   "execution_count": 1,
   "id": "45a85f96",
   "metadata": {},
   "outputs": [],
   "source": [
    "import numpy as np\n",
    "import matplotlib.pyplot as plt\n",
    "%matplotlib inline\n",
    "#plt.rcParams[\"figure.dpi\"] = 300\n",
    "plt.rcParams[\"savefig.dpi\"] = 300\n",
    "plt.rcParams[\"savefig.bbox\"] = \"tight\"\n",
    "\n",
    "np.set_printoptions(precision=3, suppress=True)\n",
    "import pandas as pd\n",
    "from sklearn.model_selection import train_test_split, cross_val_score\n",
    "from sklearn.pipeline import make_pipeline\n",
    "from sklearn.preprocessing import scale, StandardScaler"
   ]
  },
  {
   "cell_type": "markdown",
   "id": "77132aa5",
   "metadata": {},
   "source": [
    "# Predict Nationality from Names\n",
    "- In this exercise, we are going to get names of the European Parliment members from European Parliment website.\n",
    "- We will use `xml.etree.ElementTree` library for turning an xml file in string format into xml file\n",
    "- We will use `requests` library to request an`xml` file from a webpage\n",
    "\n",
    "  - XML documents have sections, called elements, defined by a beginning and an ending tag. A tag is a markup construct that begins with < and ends with >. The characters between the start-tag and end-tag, if there are any, are the element's content. Elements can contain markup, including other elements, which are called \"child elements\".\n",
    "  - The largest, top-level element is called the root, which contains all other elements.\n",
    "  - Attributes are name–value pair that exist within a start-tag or empty-element tag. An XML attribute can only have a single value and each attribute can appear at most once on each element.\n",
    "  "
   ]
  },
  {
   "cell_type": "code",
   "execution_count": 2,
   "id": "5ec0db90",
   "metadata": {},
   "outputs": [],
   "source": [
    "import xml.etree.ElementTree as ET"
   ]
  },
  {
   "cell_type": "code",
   "execution_count": 3,
   "id": "25c684ff",
   "metadata": {},
   "outputs": [],
   "source": [
    "import requests"
   ]
  },
  {
   "cell_type": "code",
   "execution_count": 4,
   "id": "828244dc",
   "metadata": {},
   "outputs": [],
   "source": [
    "response = requests.get(\"https://www.europarl.europa.eu/meps/en/full-list/xml\")"
   ]
  },
  {
   "cell_type": "code",
   "execution_count": 5,
   "id": "9c00396c",
   "metadata": {},
   "outputs": [
    {
     "name": "stdout",
     "output_type": "stream",
     "text": [
      "200\n",
      "application/xml;charset=UTF-8\n",
      "UTF-8\n",
      "<?xml version=\"1.0\" encoding=\"UTF-8\" standalone=\"yes\"?><meps><mep><fullName>Magdalena ADAMOWICZ</ful\n"
     ]
    }
   ],
   "source": [
    "print(response.status_code)\n",
    "\n",
    "print(response.headers['content-type'])\n",
    "\n",
    "print(response.encoding)\n",
    "\n",
    "print(response.text[:100])"
   ]
  },
  {
   "cell_type": "markdown",
   "id": "86139e7f",
   "metadata": {},
   "source": [
    "response.text"
   ]
  },
  {
   "cell_type": "markdown",
   "id": "a496dd87",
   "metadata": {},
   "source": [
    "- `fromstring()` parses XML from a string directly into an `Element`, which is the root element of the parsed tree."
   ]
  },
  {
   "cell_type": "code",
   "execution_count": 6,
   "id": "e27cd906",
   "metadata": {},
   "outputs": [],
   "source": [
    "data_xml = ET.fromstring(response.text)"
   ]
  },
  {
   "cell_type": "code",
   "execution_count": 7,
   "id": "12baab0b",
   "metadata": {},
   "outputs": [
    {
     "data": {
      "text/plain": [
       "'meps'"
      ]
     },
     "execution_count": 7,
     "metadata": {},
     "output_type": "execute_result"
    }
   ],
   "source": [
    "data_xml.tag"
   ]
  },
  {
   "cell_type": "code",
   "execution_count": 8,
   "id": "61a5874a",
   "metadata": {},
   "outputs": [
    {
     "data": {
      "text/plain": [
       "{}"
      ]
     },
     "execution_count": 8,
     "metadata": {},
     "output_type": "execute_result"
    }
   ],
   "source": [
    "data_xml.attrib"
   ]
  },
  {
   "cell_type": "code",
   "execution_count": 9,
   "id": "1e03564f",
   "metadata": {},
   "outputs": [
    {
     "data": {
      "text/plain": [
       "xml.etree.ElementTree.Element"
      ]
     },
     "execution_count": 9,
     "metadata": {},
     "output_type": "execute_result"
    }
   ],
   "source": [
    "type(data_xml)"
   ]
  },
  {
   "cell_type": "code",
   "execution_count": 10,
   "id": "c6d263ac",
   "metadata": {},
   "outputs": [
    {
     "data": {
      "text/plain": [
       "702"
      ]
     },
     "execution_count": 10,
     "metadata": {},
     "output_type": "execute_result"
    }
   ],
   "source": [
    "len(data_xml)"
   ]
  },
  {
   "cell_type": "code",
   "execution_count": 12,
   "id": "4dc4add5",
   "metadata": {},
   "outputs": [],
   "source": [
    "root=data_xml\n",
    "[elem.tag for elem in root.iter()];"
   ]
  },
  {
   "cell_type": "code",
   "execution_count": 13,
   "id": "706bff6a",
   "metadata": {},
   "outputs": [
    {
     "name": "stdout",
     "output_type": "stream",
     "text": [
      "meps {}\n",
      "mep {}\n",
      "fullName {}\n",
      "country {}\n",
      "politicalGroup {}\n",
      "id {}\n",
      "nationalPoliticalGroup {}\n",
      "mep {}\n",
      "fullName {}\n",
      "country {}\n",
      "politicalGroup {}\n",
      "id {}\n",
      "nationalPoliticalGroup {}\n",
      "mep {}\n",
      "fullName {}\n",
      "country {}\n",
      "politicalGroup {}\n",
      "id {}\n",
      "nationalPoliticalGroup {}\n",
      "mep {}\n"
     ]
    }
   ],
   "source": [
    "#meps: members of european parliament\n",
    "i=0\n",
    "for child in data_xml.iter():\n",
    "    print(child.tag, child.attrib)\n",
    "    i=i+1\n",
    "    if i==20:\n",
    "        break"
   ]
  },
  {
   "cell_type": "code",
   "execution_count": 14,
   "id": "1f4514c6",
   "metadata": {},
   "outputs": [
    {
     "name": "stdout",
     "output_type": "stream",
     "text": [
      "fullName Magdalena ADAMOWICZ\n",
      "fullName Asim ADEMOV\n",
      "fullName Isabella ADINOLFI\n",
      "fullName Matteo ADINOLFI\n",
      "fullName Alex AGIUS SALIBA\n",
      "fullName Mazaly AGUILAR\n",
      "fullName Clara AGUILERA\n",
      "fullName Alviina ALAMETSÄ\n",
      "fullName Alexander ALEXANDROV YORDANOV\n",
      "fullName François ALFONSI\n",
      "fullName Atidzhe ALIEVA-VELI\n",
      "fullName Abir AL-SAHLANI\n",
      "fullName Álvaro AMARO\n",
      "fullName Andris AMERIKS\n",
      "fullName Christine ANDERSON\n",
      "fullName Rasmus ANDRESEN\n",
      "fullName Barry ANDREWS\n",
      "fullName Eric ANDRIEU\n",
      "fullName Mathilde ANDROUËT\n",
      "fullName Nikos ANDROULAKIS\n"
     ]
    }
   ],
   "source": [
    "i=0\n",
    "for child in data_xml.iter('fullName'):\n",
    "    print(child.tag, child.text)\n",
    "    i=i+1\n",
    "    if i==20:\n",
    "        break"
   ]
  },
  {
   "cell_type": "code",
   "execution_count": 15,
   "id": "7d1b2679",
   "metadata": {},
   "outputs": [
    {
     "data": {
      "text/plain": [
       "'Magdalena ADAMOWICZ'"
      ]
     },
     "execution_count": 15,
     "metadata": {},
     "output_type": "execute_result"
    }
   ],
   "source": [
    "data_xml[0][0].text"
   ]
  },
  {
   "cell_type": "code",
   "execution_count": 16,
   "id": "427baf3c",
   "metadata": {},
   "outputs": [
    {
     "data": {
      "text/plain": [
       "'Poland'"
      ]
     },
     "execution_count": 16,
     "metadata": {},
     "output_type": "execute_result"
    }
   ],
   "source": [
    "data_xml[0][1].text"
   ]
  },
  {
   "cell_type": "code",
   "execution_count": 17,
   "id": "fa034a75",
   "metadata": {},
   "outputs": [],
   "source": [
    "#members_xml = data_xml.getchildren()"
   ]
  },
  {
   "cell_type": "markdown",
   "id": "b60cd91b",
   "metadata": {},
   "source": [
    "- We are now turning the xml string file into a list"
   ]
  },
  {
   "cell_type": "code",
   "execution_count": 18,
   "id": "556133e1",
   "metadata": {},
   "outputs": [],
   "source": [
    "members_xml = list(data_xml)"
   ]
  },
  {
   "cell_type": "code",
   "execution_count": 19,
   "id": "143f2753",
   "metadata": {},
   "outputs": [
    {
     "data": {
      "text/plain": [
       "'Asim ADEMOV'"
      ]
     },
     "execution_count": 19,
     "metadata": {},
     "output_type": "execute_result"
    }
   ],
   "source": [
    "members_xml[1][0].text"
   ]
  },
  {
   "cell_type": "code",
   "execution_count": 20,
   "id": "c4f49d49",
   "metadata": {},
   "outputs": [],
   "source": [
    "import pandas as pd\n",
    "members_dict = [{i.tag: i.text for i in member} for member in members_xml]\n",
    "members = pd.DataFrame(members_dict)"
   ]
  },
  {
   "cell_type": "code",
   "execution_count": 21,
   "id": "a86d81f3",
   "metadata": {},
   "outputs": [
    {
     "data": {
      "text/plain": [
       "[{'fullName': 'Magdalena ADAMOWICZ',\n",
       "  'country': 'Poland',\n",
       "  'politicalGroup': \"Group of the European People's Party (Christian Democrats)\",\n",
       "  'id': '197490',\n",
       "  'nationalPoliticalGroup': 'Independent'},\n",
       " {'fullName': 'Asim ADEMOV',\n",
       "  'country': 'Bulgaria',\n",
       "  'politicalGroup': \"Group of the European People's Party (Christian Democrats)\",\n",
       "  'id': '189525',\n",
       "  'nationalPoliticalGroup': 'Citizens for European Development of Bulgaria'},\n",
       " {'fullName': 'Isabella ADINOLFI',\n",
       "  'country': 'Italy',\n",
       "  'politicalGroup': \"Group of the European People's Party (Christian Democrats)\",\n",
       "  'id': '124831',\n",
       "  'nationalPoliticalGroup': 'Forza Italia'},\n",
       " {'fullName': 'Matteo ADINOLFI',\n",
       "  'country': 'Italy',\n",
       "  'politicalGroup': 'Identity and Democracy Group',\n",
       "  'id': '197826',\n",
       "  'nationalPoliticalGroup': 'Lega'},\n",
       " {'fullName': 'Alex AGIUS SALIBA',\n",
       "  'country': 'Malta',\n",
       "  'politicalGroup': 'Group of the Progressive Alliance of Socialists and Democrats in the European Parliament',\n",
       "  'id': '197403',\n",
       "  'nationalPoliticalGroup': 'Partit Laburista'}]"
      ]
     },
     "execution_count": 21,
     "metadata": {},
     "output_type": "execute_result"
    }
   ],
   "source": [
    "members_dict[:5]"
   ]
  },
  {
   "cell_type": "code",
   "execution_count": 22,
   "id": "70621471",
   "metadata": {},
   "outputs": [
    {
     "data": {
      "text/html": [
       "<div>\n",
       "<style scoped>\n",
       "    .dataframe tbody tr th:only-of-type {\n",
       "        vertical-align: middle;\n",
       "    }\n",
       "\n",
       "    .dataframe tbody tr th {\n",
       "        vertical-align: top;\n",
       "    }\n",
       "\n",
       "    .dataframe thead th {\n",
       "        text-align: right;\n",
       "    }\n",
       "</style>\n",
       "<table border=\"1\" class=\"dataframe\">\n",
       "  <thead>\n",
       "    <tr style=\"text-align: right;\">\n",
       "      <th></th>\n",
       "      <th>fullName</th>\n",
       "      <th>country</th>\n",
       "      <th>politicalGroup</th>\n",
       "      <th>id</th>\n",
       "      <th>nationalPoliticalGroup</th>\n",
       "    </tr>\n",
       "  </thead>\n",
       "  <tbody>\n",
       "    <tr>\n",
       "      <th>0</th>\n",
       "      <td>Magdalena ADAMOWICZ</td>\n",
       "      <td>Poland</td>\n",
       "      <td>Group of the European People's Party (Christia...</td>\n",
       "      <td>197490</td>\n",
       "      <td>Independent</td>\n",
       "    </tr>\n",
       "    <tr>\n",
       "      <th>1</th>\n",
       "      <td>Asim ADEMOV</td>\n",
       "      <td>Bulgaria</td>\n",
       "      <td>Group of the European People's Party (Christia...</td>\n",
       "      <td>189525</td>\n",
       "      <td>Citizens for European Development of Bulgaria</td>\n",
       "    </tr>\n",
       "    <tr>\n",
       "      <th>2</th>\n",
       "      <td>Isabella ADINOLFI</td>\n",
       "      <td>Italy</td>\n",
       "      <td>Group of the European People's Party (Christia...</td>\n",
       "      <td>124831</td>\n",
       "      <td>Forza Italia</td>\n",
       "    </tr>\n",
       "    <tr>\n",
       "      <th>3</th>\n",
       "      <td>Matteo ADINOLFI</td>\n",
       "      <td>Italy</td>\n",
       "      <td>Identity and Democracy Group</td>\n",
       "      <td>197826</td>\n",
       "      <td>Lega</td>\n",
       "    </tr>\n",
       "    <tr>\n",
       "      <th>4</th>\n",
       "      <td>Alex AGIUS SALIBA</td>\n",
       "      <td>Malta</td>\n",
       "      <td>Group of the Progressive Alliance of Socialist...</td>\n",
       "      <td>197403</td>\n",
       "      <td>Partit Laburista</td>\n",
       "    </tr>\n",
       "    <tr>\n",
       "      <th>5</th>\n",
       "      <td>Mazaly AGUILAR</td>\n",
       "      <td>Spain</td>\n",
       "      <td>European Conservatives and Reformists Group</td>\n",
       "      <td>198096</td>\n",
       "      <td>VOX</td>\n",
       "    </tr>\n",
       "    <tr>\n",
       "      <th>6</th>\n",
       "      <td>Clara AGUILERA</td>\n",
       "      <td>Spain</td>\n",
       "      <td>Group of the Progressive Alliance of Socialist...</td>\n",
       "      <td>125045</td>\n",
       "      <td>Partido Socialista Obrero Español</td>\n",
       "    </tr>\n",
       "    <tr>\n",
       "      <th>7</th>\n",
       "      <td>Alviina ALAMETSÄ</td>\n",
       "      <td>Finland</td>\n",
       "      <td>Group of the Greens/European Free Alliance</td>\n",
       "      <td>204335</td>\n",
       "      <td>Vihreä liitto</td>\n",
       "    </tr>\n",
       "    <tr>\n",
       "      <th>8</th>\n",
       "      <td>Alexander ALEXANDROV YORDANOV</td>\n",
       "      <td>Bulgaria</td>\n",
       "      <td>Group of the European People's Party (Christia...</td>\n",
       "      <td>197836</td>\n",
       "      <td>Union of Democratic Forces</td>\n",
       "    </tr>\n",
       "    <tr>\n",
       "      <th>9</th>\n",
       "      <td>François ALFONSI</td>\n",
       "      <td>France</td>\n",
       "      <td>Group of the Greens/European Free Alliance</td>\n",
       "      <td>96750</td>\n",
       "      <td>Régions et Peuples Solidaires</td>\n",
       "    </tr>\n",
       "    <tr>\n",
       "      <th>10</th>\n",
       "      <td>Atidzhe ALIEVA-VELI</td>\n",
       "      <td>Bulgaria</td>\n",
       "      <td>Renew Europe Group</td>\n",
       "      <td>197848</td>\n",
       "      <td>Movement for Rights and Freedoms</td>\n",
       "    </tr>\n",
       "    <tr>\n",
       "      <th>11</th>\n",
       "      <td>Abir AL-SAHLANI</td>\n",
       "      <td>Sweden</td>\n",
       "      <td>Renew Europe Group</td>\n",
       "      <td>197400</td>\n",
       "      <td>Centerpartiet</td>\n",
       "    </tr>\n",
       "    <tr>\n",
       "      <th>12</th>\n",
       "      <td>Álvaro AMARO</td>\n",
       "      <td>Portugal</td>\n",
       "      <td>Group of the European People's Party (Christia...</td>\n",
       "      <td>197746</td>\n",
       "      <td>Partido Social Democrata</td>\n",
       "    </tr>\n",
       "    <tr>\n",
       "      <th>13</th>\n",
       "      <td>Andris AMERIKS</td>\n",
       "      <td>Latvia</td>\n",
       "      <td>Group of the Progressive Alliance of Socialist...</td>\n",
       "      <td>197783</td>\n",
       "      <td>Gods kalpot Rīgai</td>\n",
       "    </tr>\n",
       "    <tr>\n",
       "      <th>14</th>\n",
       "      <td>Christine ANDERSON</td>\n",
       "      <td>Germany</td>\n",
       "      <td>Identity and Democracy Group</td>\n",
       "      <td>197475</td>\n",
       "      <td>Alternative für Deutschland</td>\n",
       "    </tr>\n",
       "    <tr>\n",
       "      <th>15</th>\n",
       "      <td>Rasmus ANDRESEN</td>\n",
       "      <td>Germany</td>\n",
       "      <td>Group of the Greens/European Free Alliance</td>\n",
       "      <td>197448</td>\n",
       "      <td>Bündnis 90/Die Grünen</td>\n",
       "    </tr>\n",
       "    <tr>\n",
       "      <th>16</th>\n",
       "      <td>Barry ANDREWS</td>\n",
       "      <td>Ireland</td>\n",
       "      <td>Renew Europe Group</td>\n",
       "      <td>204332</td>\n",
       "      <td>Fianna Fáil Party</td>\n",
       "    </tr>\n",
       "    <tr>\n",
       "      <th>17</th>\n",
       "      <td>Eric ANDRIEU</td>\n",
       "      <td>France</td>\n",
       "      <td>Group of the Progressive Alliance of Socialist...</td>\n",
       "      <td>113892</td>\n",
       "      <td>Parti socialiste</td>\n",
       "    </tr>\n",
       "    <tr>\n",
       "      <th>18</th>\n",
       "      <td>Mathilde ANDROUËT</td>\n",
       "      <td>France</td>\n",
       "      <td>Identity and Democracy Group</td>\n",
       "      <td>197691</td>\n",
       "      <td>Rassemblement national</td>\n",
       "    </tr>\n",
       "    <tr>\n",
       "      <th>19</th>\n",
       "      <td>Nikos ANDROULAKIS</td>\n",
       "      <td>Greece</td>\n",
       "      <td>Group of the Progressive Alliance of Socialist...</td>\n",
       "      <td>125110</td>\n",
       "      <td>PASOK-KINAL</td>\n",
       "    </tr>\n",
       "  </tbody>\n",
       "</table>\n",
       "</div>"
      ],
      "text/plain": [
       "                         fullName   country  \\\n",
       "0             Magdalena ADAMOWICZ    Poland   \n",
       "1                     Asim ADEMOV  Bulgaria   \n",
       "2               Isabella ADINOLFI     Italy   \n",
       "3                 Matteo ADINOLFI     Italy   \n",
       "4               Alex AGIUS SALIBA     Malta   \n",
       "5                  Mazaly AGUILAR     Spain   \n",
       "6                  Clara AGUILERA     Spain   \n",
       "7                Alviina ALAMETSÄ   Finland   \n",
       "8   Alexander ALEXANDROV YORDANOV  Bulgaria   \n",
       "9                François ALFONSI    France   \n",
       "10            Atidzhe ALIEVA-VELI  Bulgaria   \n",
       "11                Abir AL-SAHLANI    Sweden   \n",
       "12                   Álvaro AMARO  Portugal   \n",
       "13                 Andris AMERIKS    Latvia   \n",
       "14             Christine ANDERSON   Germany   \n",
       "15                Rasmus ANDRESEN   Germany   \n",
       "16                  Barry ANDREWS   Ireland   \n",
       "17                   Eric ANDRIEU    France   \n",
       "18              Mathilde ANDROUËT    France   \n",
       "19              Nikos ANDROULAKIS    Greece   \n",
       "\n",
       "                                       politicalGroup      id  \\\n",
       "0   Group of the European People's Party (Christia...  197490   \n",
       "1   Group of the European People's Party (Christia...  189525   \n",
       "2   Group of the European People's Party (Christia...  124831   \n",
       "3                        Identity and Democracy Group  197826   \n",
       "4   Group of the Progressive Alliance of Socialist...  197403   \n",
       "5         European Conservatives and Reformists Group  198096   \n",
       "6   Group of the Progressive Alliance of Socialist...  125045   \n",
       "7          Group of the Greens/European Free Alliance  204335   \n",
       "8   Group of the European People's Party (Christia...  197836   \n",
       "9          Group of the Greens/European Free Alliance   96750   \n",
       "10                                 Renew Europe Group  197848   \n",
       "11                                 Renew Europe Group  197400   \n",
       "12  Group of the European People's Party (Christia...  197746   \n",
       "13  Group of the Progressive Alliance of Socialist...  197783   \n",
       "14                       Identity and Democracy Group  197475   \n",
       "15         Group of the Greens/European Free Alliance  197448   \n",
       "16                                 Renew Europe Group  204332   \n",
       "17  Group of the Progressive Alliance of Socialist...  113892   \n",
       "18                       Identity and Democracy Group  197691   \n",
       "19  Group of the Progressive Alliance of Socialist...  125110   \n",
       "\n",
       "                           nationalPoliticalGroup  \n",
       "0                                     Independent  \n",
       "1   Citizens for European Development of Bulgaria  \n",
       "2                                    Forza Italia  \n",
       "3                                            Lega  \n",
       "4                                Partit Laburista  \n",
       "5                                             VOX  \n",
       "6               Partido Socialista Obrero Español  \n",
       "7                                   Vihreä liitto  \n",
       "8                      Union of Democratic Forces  \n",
       "9                   Régions et Peuples Solidaires  \n",
       "10               Movement for Rights and Freedoms  \n",
       "11                                  Centerpartiet  \n",
       "12                       Partido Social Democrata  \n",
       "13                              Gods kalpot Rīgai  \n",
       "14                    Alternative für Deutschland  \n",
       "15                          Bündnis 90/Die Grünen  \n",
       "16                              Fianna Fáil Party  \n",
       "17                               Parti socialiste  \n",
       "18                         Rassemblement national  \n",
       "19                                    PASOK-KINAL  "
      ]
     },
     "execution_count": 22,
     "metadata": {},
     "output_type": "execute_result"
    }
   ],
   "source": [
    "members[:20]"
   ]
  },
  {
   "cell_type": "markdown",
   "id": "4adae4ed",
   "metadata": {},
   "source": [
    "# Predicting nationalities from names"
   ]
  },
  {
   "cell_type": "code",
   "execution_count": 23,
   "id": "88ad2537",
   "metadata": {},
   "outputs": [
    {
     "data": {
      "text/plain": [
       "(702, 5)"
      ]
     },
     "execution_count": 23,
     "metadata": {},
     "output_type": "execute_result"
    }
   ],
   "source": [
    "members.shape"
   ]
  },
  {
   "cell_type": "markdown",
   "id": "104a405e",
   "metadata": {},
   "source": [
    "- Create a bar graph showing the ratio of nationalities in the European parliament"
   ]
  },
  {
   "cell_type": "code",
   "execution_count": 24,
   "id": "c775bc85",
   "metadata": {},
   "outputs": [
    {
     "data": {
      "image/png": "[encoded data removed]",
      "text/plain": [
       "<Figure size 576x288 with 1 Axes>"
      ]
     },
     "metadata": {
      "needs_background": "light"
     },
     "output_type": "display_data"
    }
   ],
   "source": [
    "y_mem = members.country\n",
    "data_mem = members.fullName\n",
    "plt.figure(figsize=(8, 4))\n",
    "(y_mem.value_counts() / y_mem.size).plot(kind='bar');"
   ]
  },
  {
   "cell_type": "markdown",
   "id": "6817ce85",
   "metadata": {},
   "source": [
    "- print the value counts of the members per country"
   ]
  },
  {
   "cell_type": "code",
   "execution_count": 25,
   "id": "e80d1b3c",
   "metadata": {},
   "outputs": [],
   "source": [
    "tt=y_mem.value_counts()[:8]"
   ]
  },
  {
   "cell_type": "code",
   "execution_count": 26,
   "id": "e2a7ac7c",
   "metadata": {},
   "outputs": [
    {
     "data": {
      "text/plain": [
       "(array([95, 79, 75, 59, 52, 33, 28, 21]),\n",
       " Index(['Germany', 'France', 'Italy', 'Spain', 'Poland', 'Romania',\n",
       "        'Netherlands', 'Czechia'],\n",
       "       dtype='object'))"
      ]
     },
     "execution_count": 26,
     "metadata": {},
     "output_type": "execute_result"
    }
   ],
   "source": [
    "tt.values, tt.index"
   ]
  },
  {
   "cell_type": "markdown",
   "id": "9f04d89d",
   "metadata": {},
   "source": [
    "- Get the names of the first 8 countries with the largest number of meps"
   ]
  },
  {
   "cell_type": "code",
   "execution_count": 27,
   "id": "f8bea899",
   "metadata": {},
   "outputs": [
    {
     "data": {
      "text/plain": [
       "Index(['Germany', 'France', 'Italy', 'Spain', 'Poland', 'Romania',\n",
       "       'Netherlands', 'Czechia'],\n",
       "      dtype='object')"
      ]
     },
     "execution_count": 27,
     "metadata": {},
     "output_type": "execute_result"
    }
   ],
   "source": [
    "large = y_mem.value_counts()[:8].index\n",
    "large"
   ]
  },
  {
   "cell_type": "markdown",
   "id": "f7481bb2",
   "metadata": {},
   "source": [
    "- create a data with the parliament members in the first eight countries\n",
    "- split data into test and train datasets"
   ]
  },
  {
   "cell_type": "code",
   "execution_count": 28,
   "id": "dc7e7360",
   "metadata": {
    "tags": []
   },
   "outputs": [],
   "source": [
    "mask = y_mem.isin(large)\n",
    "data_mem = data_mem[mask]\n",
    "y_mem = y_mem[mask]"
   ]
  },
  {
   "cell_type": "code",
   "execution_count": 29,
   "id": "424057db",
   "metadata": {},
   "outputs": [
    {
     "data": {
      "text/plain": [
       "0       True\n",
       "1      False\n",
       "2       True\n",
       "3       True\n",
       "4      False\n",
       "       ...  \n",
       "697     True\n",
       "698    False\n",
       "699    False\n",
       "700     True\n",
       "701    False\n",
       "Name: country, Length: 702, dtype: bool"
      ]
     },
     "execution_count": 29,
     "metadata": {},
     "output_type": "execute_result"
    }
   ],
   "source": [
    "mask"
   ]
  },
  {
   "cell_type": "code",
   "execution_count": 30,
   "id": "7510dcad",
   "metadata": {},
   "outputs": [
    {
     "data": {
      "text/plain": [
       "Germany        0.214932\n",
       "France         0.178733\n",
       "Italy          0.169683\n",
       "Spain          0.133484\n",
       "Poland         0.117647\n",
       "Romania        0.074661\n",
       "Netherlands    0.063348\n",
       "Czechia        0.047511\n",
       "Name: country, dtype: float64"
      ]
     },
     "execution_count": 30,
     "metadata": {},
     "output_type": "execute_result"
    }
   ],
   "source": [
    "(y_mem.value_counts() / y_mem.size)"
   ]
  },
  {
   "cell_type": "code",
   "execution_count": 31,
   "id": "335355f0",
   "metadata": {},
   "outputs": [
    {
     "data": {
      "text/plain": [
       "(442,)"
      ]
     },
     "execution_count": 31,
     "metadata": {},
     "output_type": "execute_result"
    }
   ],
   "source": [
    "data_mem.shape"
   ]
  },
  {
   "cell_type": "code",
   "execution_count": 32,
   "id": "d50ea5cb",
   "metadata": {
    "tags": []
   },
   "outputs": [],
   "source": [
    "text_mem_train, text_mem_test, y_mem_train, y_mem_test = \\\n",
    "train_test_split(data_mem, y_mem,  stratify=y_mem, random_state=0)"
   ]
  },
  {
   "cell_type": "markdown",
   "id": "f4fc619e",
   "metadata": {},
   "source": [
    "- create a pipeline of `countvectorizer` and `logisticregressioncv`\n",
    "- report the cross validation scores"
   ]
  },
  {
   "cell_type": "code",
   "execution_count": 33,
   "id": "c1aad124",
   "metadata": {
    "tags": []
   },
   "outputs": [
    {
     "data": {
      "text/plain": [
       "array([0.346, 0.293, 0.302, 0.276, 0.345])"
      ]
     },
     "execution_count": 33,
     "metadata": {},
     "output_type": "execute_result"
    }
   ],
   "source": [
    "from sklearn.feature_extraction.text import CountVectorizer\n",
    "from sklearn.linear_model import LogisticRegressionCV\n",
    "bow_pipe = make_pipeline(CountVectorizer(), LogisticRegressionCV())\n",
    "cross_val_score(bow_pipe, text_mem_train, y_mem_train, cv=5,\\\n",
    "                scoring='f1_macro')"
   ]
  },
  {
   "cell_type": "markdown",
   "id": "06689268",
   "metadata": {},
   "source": [
    "- Repeat the same procedure, with vectorizer having the parameter of analyzer=\"char_wb\"\n",
    "\n",
    " - analyzer{‘word’, ‘char’, ‘char_wb’} or callable, default=’word’ Whether the feature should be made of word n-gram or character n-grams. Option ‘char_wb’ creates character n-grams only from text inside word boundaries; n-grams at the edges of words are padded with space."
   ]
  },
  {
   "cell_type": "code",
   "execution_count": 34,
   "id": "0c174ab6",
   "metadata": {},
   "outputs": [
    {
     "data": {
      "text/plain": [
       "array([0.649, 0.473, 0.48 , 0.448, 0.497])"
      ]
     },
     "execution_count": 34,
     "metadata": {},
     "output_type": "execute_result"
    }
   ],
   "source": [
    "char_pipe = make_pipeline(CountVectorizer(analyzer=\"char_wb\",\\\n",
    "ngram_range=(1, 4)), LogisticRegressionCV(solver='liblinear'))\n",
    "cross_val_score(char_pipe, text_mem_train, y_mem_train, cv=5, scoring='f1_macro')"
   ]
  },
  {
   "cell_type": "code",
   "execution_count": 35,
   "id": "93e07e13",
   "metadata": {},
   "outputs": [
    {
     "data": {
      "text/plain": [
       "Pipeline(steps=[('countvectorizer',\n",
       "                 CountVectorizer(analyzer='char_wb', ngram_range=(1, 4))),\n",
       "                ('logisticregressioncv',\n",
       "                 LogisticRegressionCV(solver='liblinear'))])"
      ]
     },
     "execution_count": 35,
     "metadata": {},
     "output_type": "execute_result"
    }
   ],
   "source": [
    "char_pipe.fit(text_mem_train, y_mem_train)"
   ]
  },
  {
   "cell_type": "markdown",
   "id": "ac7e3cc6",
   "metadata": {},
   "source": [
    "- print the top 20 most important and least important n-grams"
   ]
  },
  {
   "cell_type": "code",
   "execution_count": 36,
   "id": "35f2bee3",
   "metadata": {},
   "outputs": [],
   "source": [
    "def plot_important_features(coef, feature_names, top_n=20,\\\n",
    "                            ax=None, rotation=60):\n",
    "    if ax is None:\n",
    "        ax = plt.gca()\n",
    "    inds = np.argsort(coef)\n",
    "    low = inds[:top_n]\n",
    "    high = inds[-top_n:]\n",
    "    important = np.hstack([low, high])\n",
    "    myrange = range(len(important))\n",
    "    colors = ['red'] * top_n + ['blue'] * top_n\n",
    "    \n",
    "    ax.bar(myrange, coef[important], color=colors)\n",
    "    ax.set_xticks(myrange)\n",
    "    ax.set_xticklabels(feature_names[important],\\\n",
    "                       rotation=rotation, ha=\"right\")\n",
    "    ax.set_xlim(-.7, 2 * top_n)\n",
    "    ax.set_frame_on(False)"
   ]
  },
  {
   "cell_type": "code",
   "execution_count": 37,
   "id": "0c19a379",
   "metadata": {},
   "outputs": [
    {
     "data": {
      "image/png": "[encoded data removed]",
      "text/plain": [
       "<Figure size 1440x720 with 9 Axes>"
      ]
     },
     "metadata": {
      "needs_background": "light"
     },
     "output_type": "display_data"
    }
   ],
   "source": [
    "lr = char_pipe.named_steps['logisticregressioncv']\n",
    "feature_names = np.array(char_pipe.named_steps\\\n",
    "                         ['countvectorizer'].get_feature_names_out())\n",
    "n_classes = len(lr.classes_)\n",
    "fig, axes = plt.subplots(n_classes // 3 + 1, 3, figsize=(20, 10))\n",
    "for ax, coef, label in zip(axes.ravel(), lr.coef_, lr.classes_):\n",
    "    ax.set_title(label)\n",
    "    plot_important_features(coef, feature_names, top_n=10, ax=ax)\n",
    "    \n",
    "plt.tight_layout()"
   ]
  },
  {
   "cell_type": "markdown",
   "id": "ff66f459",
   "metadata": {},
   "source": [
    "- Now make a gridsearch over logistic regression, countvectorizer n-grams, min_df and normalizer"
   ]
  },
  {
   "cell_type": "code",
   "execution_count": 38,
   "id": "6e387de4",
   "metadata": {},
   "outputs": [],
   "source": [
    "from sklearn.model_selection import GridSearchCV\n",
    "from sklearn.linear_model import LogisticRegression\n",
    "from sklearn.preprocessing import Normalizer\n",
    "\n",
    "param_grid = {\"logisticregression__C\": [100, 10, 1, 0.1, 0.001],\n",
    "              \"countvectorizer__ngram_range\": [(1, 1), (1, 2), (1, 5), (1, 7),\n",
    "                                               (2, 3), (2, 5), (3, 8), (5, 5)],\n",
    "              \"countvectorizer__min_df\": [1, 2, 3],\n",
    "              \"normalizer\": [None, Normalizer()]\n",
    "             }\n",
    "grid = GridSearchCV(make_pipeline(CountVectorizer(analyzer=\"char\"),\\\n",
    "Normalizer(), LogisticRegression(solver='liblinear')),\\\n",
    "param_grid=param_grid, cv=10, \\\n",
    "scoring=\"f1_macro\",return_train_score=True\n",
    "                   )\n"
   ]
  },
  {
   "cell_type": "code",
   "execution_count": 39,
   "id": "f0553f12",
   "metadata": {
    "tags": []
   },
   "outputs": [
    {
     "data": {
      "text/plain": [
       "GridSearchCV(cv=10,\n",
       "             estimator=Pipeline(steps=[('countvectorizer',\n",
       "                                        CountVectorizer(analyzer='char')),\n",
       "                                       ('normalizer', Normalizer()),\n",
       "                                       ('logisticregression',\n",
       "                                        LogisticRegression(solver='liblinear'))]),\n",
       "             param_grid={'countvectorizer__min_df': [1, 2, 3],\n",
       "                         'countvectorizer__ngram_range': [(1, 1), (1, 2),\n",
       "                                                          (1, 5), (1, 7),\n",
       "                                                          (2, 3), (2, 5),\n",
       "                                                          (3, 8), (5, 5)],\n",
       "                         'logisticregression__C': [100, 10, 1, 0.1, 0.001],\n",
       "                         'normalizer': [None, Normalizer()]},\n",
       "             return_train_score=True, scoring='f1_macro')"
      ]
     },
     "execution_count": 39,
     "metadata": {},
     "output_type": "execute_result"
    }
   ],
   "source": [
    "grid.fit(text_mem_train, y_mem_train)"
   ]
  },
  {
   "cell_type": "code",
   "execution_count": 40,
   "id": "d337f47c",
   "metadata": {},
   "outputs": [
    {
     "data": {
      "text/plain": [
       "0.6098917747843832"
      ]
     },
     "execution_count": 40,
     "metadata": {},
     "output_type": "execute_result"
    }
   ],
   "source": [
    "grid.best_score_"
   ]
  },
  {
   "cell_type": "code",
   "execution_count": 41,
   "id": "92ec3330",
   "metadata": {},
   "outputs": [
    {
     "data": {
      "text/plain": [
       "{'countvectorizer__min_df': 2,\n",
       " 'countvectorizer__ngram_range': (1, 5),\n",
       " 'logisticregression__C': 100,\n",
       " 'normalizer': Normalizer()}"
      ]
     },
     "execution_count": 41,
     "metadata": {},
     "output_type": "execute_result"
    }
   ],
   "source": [
    "grid.best_params_"
   ]
  },
  {
   "cell_type": "code",
   "execution_count": 42,
   "id": "e0984302",
   "metadata": {},
   "outputs": [],
   "source": [
    "results = pd.DataFrame(grid.cv_results_)\n",
    "res_pivot = results.pivot_table(values=['mean_test_score', 'mean_train_score'],\n",
    "                                index=[\"param_countvectorizer__ngram_range\", \"param_logisticregression__C\",\n",
    "                                       \"param_countvectorizer__min_df\"])"
   ]
  },
  {
   "cell_type": "code",
   "execution_count": 144,
   "id": "06dcd327",
   "metadata": {},
   "outputs": [
    {
     "data": {
      "text/plain": [
       "param_countvectorizer__ngram_range  param_logisticregression__C  param_countvectorizer__min_df\n",
       "(1, 1)                              0.001                        1                                0.090173\n",
       "                                                                 2                                0.090173\n",
       "                                                                 3                                0.090173\n",
       "                                    0.100                        1                                0.283645\n",
       "                                                                 2                                0.283645\n",
       "                                                                                                    ...   \n",
       "(5, 5)                              10.000                       2                                0.266265\n",
       "                                                                 3                                0.191529\n",
       "                                    100.000                      1                                0.393295\n",
       "                                                                 2                                0.262878\n",
       "                                                                 3                                0.191529\n",
       "Name: mean_test_score, Length: 120, dtype: float64"
      ]
     },
     "execution_count": 144,
     "metadata": {},
     "output_type": "execute_result"
    }
   ],
   "source": [
    "res_pivot.mean_test_score"
   ]
  },
  {
   "cell_type": "code",
   "execution_count": 145,
   "id": "e25b3a88",
   "metadata": {},
   "outputs": [
    {
     "data": {
      "text/html": [
       "<style  type=\"text/css\" >\n",
       "#T_3b95748c_1684_11ec_b28e_1e00ea11985arow0_col0,#T_3b95748c_1684_11ec_b28e_1e00ea11985arow0_col1,#T_3b95748c_1684_11ec_b28e_1e00ea11985arow5_col0,#T_3b95748c_1684_11ec_b28e_1e00ea11985arow5_col1,#T_3b95748c_1684_11ec_b28e_1e00ea11985arow5_col7,#T_3b95748c_1684_11ec_b28e_1e00ea11985arow10_col0,#T_3b95748c_1684_11ec_b28e_1e00ea11985arow10_col1,#T_3b95748c_1684_11ec_b28e_1e00ea11985arow10_col2,#T_3b95748c_1684_11ec_b28e_1e00ea11985arow10_col3,#T_3b95748c_1684_11ec_b28e_1e00ea11985arow10_col4,#T_3b95748c_1684_11ec_b28e_1e00ea11985arow10_col5,#T_3b95748c_1684_11ec_b28e_1e00ea11985arow10_col6,#T_3b95748c_1684_11ec_b28e_1e00ea11985arow10_col7{\n",
       "            background-color:  #440154;\n",
       "            color:  #f1f1f1;\n",
       "        }#T_3b95748c_1684_11ec_b28e_1e00ea11985arow0_col2,#T_3b95748c_1684_11ec_b28e_1e00ea11985arow5_col3{\n",
       "            background-color:  #46085c;\n",
       "            color:  #f1f1f1;\n",
       "        }#T_3b95748c_1684_11ec_b28e_1e00ea11985arow0_col3,#T_3b95748c_1684_11ec_b28e_1e00ea11985arow5_col5{\n",
       "            background-color:  #460b5e;\n",
       "            color:  #f1f1f1;\n",
       "        }#T_3b95748c_1684_11ec_b28e_1e00ea11985arow0_col4{\n",
       "            background-color:  #471164;\n",
       "            color:  #f1f1f1;\n",
       "        }#T_3b95748c_1684_11ec_b28e_1e00ea11985arow0_col5{\n",
       "            background-color:  #482173;\n",
       "            color:  #f1f1f1;\n",
       "        }#T_3b95748c_1684_11ec_b28e_1e00ea11985arow0_col6{\n",
       "            background-color:  #433d84;\n",
       "            color:  #f1f1f1;\n",
       "        }#T_3b95748c_1684_11ec_b28e_1e00ea11985arow0_col7{\n",
       "            background-color:  #440256;\n",
       "            color:  #f1f1f1;\n",
       "        }#T_3b95748c_1684_11ec_b28e_1e00ea11985arow1_col0,#T_3b95748c_1684_11ec_b28e_1e00ea11985arow6_col0{\n",
       "            background-color:  #26828e;\n",
       "            color:  #000000;\n",
       "        }#T_3b95748c_1684_11ec_b28e_1e00ea11985arow1_col1,#T_3b95748c_1684_11ec_b28e_1e00ea11985arow6_col1,#T_3b95748c_1684_11ec_b28e_1e00ea11985arow11_col1{\n",
       "            background-color:  #26818e;\n",
       "            color:  #000000;\n",
       "        }#T_3b95748c_1684_11ec_b28e_1e00ea11985arow1_col2{\n",
       "            background-color:  #2d718e;\n",
       "            color:  #f1f1f1;\n",
       "        }#T_3b95748c_1684_11ec_b28e_1e00ea11985arow1_col3{\n",
       "            background-color:  #30698e;\n",
       "            color:  #f1f1f1;\n",
       "        }#T_3b95748c_1684_11ec_b28e_1e00ea11985arow1_col4{\n",
       "            background-color:  #33638d;\n",
       "            color:  #f1f1f1;\n",
       "        }#T_3b95748c_1684_11ec_b28e_1e00ea11985arow1_col5{\n",
       "            background-color:  #375b8d;\n",
       "            color:  #f1f1f1;\n",
       "        }#T_3b95748c_1684_11ec_b28e_1e00ea11985arow1_col6{\n",
       "            background-color:  #365d8d;\n",
       "            color:  #f1f1f1;\n",
       "        }#T_3b95748c_1684_11ec_b28e_1e00ea11985arow1_col7{\n",
       "            background-color:  #3b518b;\n",
       "            color:  #f1f1f1;\n",
       "        }#T_3b95748c_1684_11ec_b28e_1e00ea11985arow2_col0,#T_3b95748c_1684_11ec_b28e_1e00ea11985arow3_col3{\n",
       "            background-color:  #70cf57;\n",
       "            color:  #000000;\n",
       "        }#T_3b95748c_1684_11ec_b28e_1e00ea11985arow2_col1{\n",
       "            background-color:  #69cd5b;\n",
       "            color:  #000000;\n",
       "        }#T_3b95748c_1684_11ec_b28e_1e00ea11985arow2_col2{\n",
       "            background-color:  #40bd72;\n",
       "            color:  #000000;\n",
       "        }#T_3b95748c_1684_11ec_b28e_1e00ea11985arow2_col3{\n",
       "            background-color:  #2db27d;\n",
       "            color:  #000000;\n",
       "        }#T_3b95748c_1684_11ec_b28e_1e00ea11985arow2_col4{\n",
       "            background-color:  #75d054;\n",
       "            color:  #000000;\n",
       "        }#T_3b95748c_1684_11ec_b28e_1e00ea11985arow2_col5,#T_3b95748c_1684_11ec_b28e_1e00ea11985arow7_col2{\n",
       "            background-color:  #73d056;\n",
       "            color:  #000000;\n",
       "        }#T_3b95748c_1684_11ec_b28e_1e00ea11985arow2_col6,#T_3b95748c_1684_11ec_b28e_1e00ea11985arow12_col0{\n",
       "            background-color:  #63cb5f;\n",
       "            color:  #000000;\n",
       "        }#T_3b95748c_1684_11ec_b28e_1e00ea11985arow2_col7{\n",
       "            background-color:  #52c569;\n",
       "            color:  #000000;\n",
       "        }#T_3b95748c_1684_11ec_b28e_1e00ea11985arow3_col0{\n",
       "            background-color:  #fbe723;\n",
       "            color:  #000000;\n",
       "        }#T_3b95748c_1684_11ec_b28e_1e00ea11985arow3_col1,#T_3b95748c_1684_11ec_b28e_1e00ea11985arow3_col7,#T_3b95748c_1684_11ec_b28e_1e00ea11985arow8_col6,#T_3b95748c_1684_11ec_b28e_1e00ea11985arow13_col2,#T_3b95748c_1684_11ec_b28e_1e00ea11985arow14_col0{\n",
       "            background-color:  #dae319;\n",
       "            color:  #000000;\n",
       "        }#T_3b95748c_1684_11ec_b28e_1e00ea11985arow3_col2{\n",
       "            background-color:  #90d743;\n",
       "            color:  #000000;\n",
       "        }#T_3b95748c_1684_11ec_b28e_1e00ea11985arow3_col4,#T_3b95748c_1684_11ec_b28e_1e00ea11985arow9_col4,#T_3b95748c_1684_11ec_b28e_1e00ea11985arow13_col0,#T_3b95748c_1684_11ec_b28e_1e00ea11985arow14_col1,#T_3b95748c_1684_11ec_b28e_1e00ea11985arow14_col4{\n",
       "            background-color:  #e5e419;\n",
       "            color:  #000000;\n",
       "        }#T_3b95748c_1684_11ec_b28e_1e00ea11985arow3_col5,#T_3b95748c_1684_11ec_b28e_1e00ea11985arow8_col3,#T_3b95748c_1684_11ec_b28e_1e00ea11985arow13_col3,#T_3b95748c_1684_11ec_b28e_1e00ea11985arow13_col4{\n",
       "            background-color:  #d5e21a;\n",
       "            color:  #000000;\n",
       "        }#T_3b95748c_1684_11ec_b28e_1e00ea11985arow3_col6,#T_3b95748c_1684_11ec_b28e_1e00ea11985arow4_col6{\n",
       "            background-color:  #dde318;\n",
       "            color:  #000000;\n",
       "        }#T_3b95748c_1684_11ec_b28e_1e00ea11985arow4_col0,#T_3b95748c_1684_11ec_b28e_1e00ea11985arow4_col4,#T_3b95748c_1684_11ec_b28e_1e00ea11985arow4_col5,#T_3b95748c_1684_11ec_b28e_1e00ea11985arow4_col7,#T_3b95748c_1684_11ec_b28e_1e00ea11985arow9_col1,#T_3b95748c_1684_11ec_b28e_1e00ea11985arow9_col2,#T_3b95748c_1684_11ec_b28e_1e00ea11985arow9_col3,#T_3b95748c_1684_11ec_b28e_1e00ea11985arow9_col6{\n",
       "            background-color:  #fde725;\n",
       "            color:  #000000;\n",
       "        }#T_3b95748c_1684_11ec_b28e_1e00ea11985arow4_col1,#T_3b95748c_1684_11ec_b28e_1e00ea11985arow9_col0{\n",
       "            background-color:  #f6e620;\n",
       "            color:  #000000;\n",
       "        }#T_3b95748c_1684_11ec_b28e_1e00ea11985arow4_col2{\n",
       "            background-color:  #a5db36;\n",
       "            color:  #000000;\n",
       "        }#T_3b95748c_1684_11ec_b28e_1e00ea11985arow4_col3,#T_3b95748c_1684_11ec_b28e_1e00ea11985arow7_col6{\n",
       "            background-color:  #7fd34e;\n",
       "            color:  #000000;\n",
       "        }#T_3b95748c_1684_11ec_b28e_1e00ea11985arow5_col2{\n",
       "            background-color:  #46075a;\n",
       "            color:  #f1f1f1;\n",
       "        }#T_3b95748c_1684_11ec_b28e_1e00ea11985arow5_col4{\n",
       "            background-color:  #470d60;\n",
       "            color:  #f1f1f1;\n",
       "        }#T_3b95748c_1684_11ec_b28e_1e00ea11985arow5_col6{\n",
       "            background-color:  #481d6f;\n",
       "            color:  #f1f1f1;\n",
       "        }#T_3b95748c_1684_11ec_b28e_1e00ea11985arow6_col2,#T_3b95748c_1684_11ec_b28e_1e00ea11985arow6_col3,#T_3b95748c_1684_11ec_b28e_1e00ea11985arow11_col3{\n",
       "            background-color:  #2a768e;\n",
       "            color:  #f1f1f1;\n",
       "        }#T_3b95748c_1684_11ec_b28e_1e00ea11985arow6_col4{\n",
       "            background-color:  #31668e;\n",
       "            color:  #f1f1f1;\n",
       "        }#T_3b95748c_1684_11ec_b28e_1e00ea11985arow6_col5,#T_3b95748c_1684_11ec_b28e_1e00ea11985arow11_col5{\n",
       "            background-color:  #38598c;\n",
       "            color:  #f1f1f1;\n",
       "        }#T_3b95748c_1684_11ec_b28e_1e00ea11985arow6_col6{\n",
       "            background-color:  #3e4c8a;\n",
       "            color:  #f1f1f1;\n",
       "        }#T_3b95748c_1684_11ec_b28e_1e00ea11985arow6_col7{\n",
       "            background-color:  #3f4788;\n",
       "            color:  #f1f1f1;\n",
       "        }#T_3b95748c_1684_11ec_b28e_1e00ea11985arow7_col0{\n",
       "            background-color:  #67cc5c;\n",
       "            color:  #000000;\n",
       "        }#T_3b95748c_1684_11ec_b28e_1e00ea11985arow7_col1,#T_3b95748c_1684_11ec_b28e_1e00ea11985arow12_col2,#T_3b95748c_1684_11ec_b28e_1e00ea11985arow12_col4{\n",
       "            background-color:  #65cb5e;\n",
       "            color:  #000000;\n",
       "        }#T_3b95748c_1684_11ec_b28e_1e00ea11985arow7_col3,#T_3b95748c_1684_11ec_b28e_1e00ea11985arow7_col5,#T_3b95748c_1684_11ec_b28e_1e00ea11985arow13_col6{\n",
       "            background-color:  #7cd250;\n",
       "            color:  #000000;\n",
       "        }#T_3b95748c_1684_11ec_b28e_1e00ea11985arow7_col4,#T_3b95748c_1684_11ec_b28e_1e00ea11985arow12_col3{\n",
       "            background-color:  #6ece58;\n",
       "            color:  #000000;\n",
       "        }#T_3b95748c_1684_11ec_b28e_1e00ea11985arow7_col7{\n",
       "            background-color:  #1fa187;\n",
       "            color:  #000000;\n",
       "        }#T_3b95748c_1684_11ec_b28e_1e00ea11985arow8_col0,#T_3b95748c_1684_11ec_b28e_1e00ea11985arow14_col2,#T_3b95748c_1684_11ec_b28e_1e00ea11985arow14_col5{\n",
       "            background-color:  #f4e61e;\n",
       "            color:  #000000;\n",
       "        }#T_3b95748c_1684_11ec_b28e_1e00ea11985arow8_col1,#T_3b95748c_1684_11ec_b28e_1e00ea11985arow8_col2,#T_3b95748c_1684_11ec_b28e_1e00ea11985arow13_col1{\n",
       "            background-color:  #d8e219;\n",
       "            color:  #000000;\n",
       "        }#T_3b95748c_1684_11ec_b28e_1e00ea11985arow8_col4,#T_3b95748c_1684_11ec_b28e_1e00ea11985arow14_col3{\n",
       "            background-color:  #eae51a;\n",
       "            color:  #000000;\n",
       "        }#T_3b95748c_1684_11ec_b28e_1e00ea11985arow8_col5{\n",
       "            background-color:  #f1e51d;\n",
       "            color:  #000000;\n",
       "        }#T_3b95748c_1684_11ec_b28e_1e00ea11985arow8_col7{\n",
       "            background-color:  #2ab07f;\n",
       "            color:  #000000;\n",
       "        }#T_3b95748c_1684_11ec_b28e_1e00ea11985arow9_col5{\n",
       "            background-color:  #efe51c;\n",
       "            color:  #000000;\n",
       "        }#T_3b95748c_1684_11ec_b28e_1e00ea11985arow9_col7{\n",
       "            background-color:  #28ae80;\n",
       "            color:  #000000;\n",
       "        }#T_3b95748c_1684_11ec_b28e_1e00ea11985arow11_col0{\n",
       "            background-color:  #24868e;\n",
       "            color:  #000000;\n",
       "        }#T_3b95748c_1684_11ec_b28e_1e00ea11985arow11_col2{\n",
       "            background-color:  #2a778e;\n",
       "            color:  #000000;\n",
       "        }#T_3b95748c_1684_11ec_b28e_1e00ea11985arow11_col4{\n",
       "            background-color:  #33628d;\n",
       "            color:  #f1f1f1;\n",
       "        }#T_3b95748c_1684_11ec_b28e_1e00ea11985arow11_col6{\n",
       "            background-color:  #404588;\n",
       "            color:  #f1f1f1;\n",
       "        }#T_3b95748c_1684_11ec_b28e_1e00ea11985arow11_col7{\n",
       "            background-color:  #482677;\n",
       "            color:  #f1f1f1;\n",
       "        }#T_3b95748c_1684_11ec_b28e_1e00ea11985arow12_col1{\n",
       "            background-color:  #5ec962;\n",
       "            color:  #000000;\n",
       "        }#T_3b95748c_1684_11ec_b28e_1e00ea11985arow12_col5{\n",
       "            background-color:  #6ccd5a;\n",
       "            color:  #000000;\n",
       "        }#T_3b95748c_1684_11ec_b28e_1e00ea11985arow12_col6{\n",
       "            background-color:  #4ac16d;\n",
       "            color:  #000000;\n",
       "        }#T_3b95748c_1684_11ec_b28e_1e00ea11985arow12_col7{\n",
       "            background-color:  #29798e;\n",
       "            color:  #000000;\n",
       "        }#T_3b95748c_1684_11ec_b28e_1e00ea11985arow13_col5{\n",
       "            background-color:  #d0e11c;\n",
       "            color:  #000000;\n",
       "        }#T_3b95748c_1684_11ec_b28e_1e00ea11985arow13_col7,#T_3b95748c_1684_11ec_b28e_1e00ea11985arow14_col7{\n",
       "            background-color:  #287d8e;\n",
       "            color:  #000000;\n",
       "        }#T_3b95748c_1684_11ec_b28e_1e00ea11985arow14_col6{\n",
       "            background-color:  #8bd646;\n",
       "            color:  #000000;\n",
       "        }</style><table id=\"T_3b95748c_1684_11ec_b28e_1e00ea11985a\" ><thead>    <tr>        <th class=\"blank\" ></th>        <th class=\"index_name level0\" >param_countvectorizer__ngram_range</th>        <th class=\"col_heading level0 col0\" >(1, 1)</th>        <th class=\"col_heading level0 col1\" >(1, 2)</th>        <th class=\"col_heading level0 col2\" >(1, 5)</th>        <th class=\"col_heading level0 col3\" >(1, 7)</th>        <th class=\"col_heading level0 col4\" >(2, 3)</th>        <th class=\"col_heading level0 col5\" >(2, 5)</th>        <th class=\"col_heading level0 col6\" >(3, 8)</th>        <th class=\"col_heading level0 col7\" >(5, 5)</th>    </tr>    <tr>        <th class=\"index_name level0\" >min_df</th>        <th class=\"index_name level1\" >C</th>        <th class=\"blank\" ></th>        <th class=\"blank\" ></th>        <th class=\"blank\" ></th>        <th class=\"blank\" ></th>        <th class=\"blank\" ></th>        <th class=\"blank\" ></th>        <th class=\"blank\" ></th>        <th class=\"blank\" ></th>    </tr></thead><tbody>\n",
       "                <tr>\n",
       "                        <th id=\"T_3b95748c_1684_11ec_b28e_1e00ea11985alevel0_row0\" class=\"row_heading level0 row0\" rowspan=5>1</th>\n",
       "                        <th id=\"T_3b95748c_1684_11ec_b28e_1e00ea11985alevel1_row0\" class=\"row_heading level1 row0\" >0.001</th>\n",
       "                        <td id=\"T_3b95748c_1684_11ec_b28e_1e00ea11985arow0_col0\" class=\"data row0 col0\" >0.090173</td>\n",
       "                        <td id=\"T_3b95748c_1684_11ec_b28e_1e00ea11985arow0_col1\" class=\"data row0 col1\" >0.122566</td>\n",
       "                        <td id=\"T_3b95748c_1684_11ec_b28e_1e00ea11985arow0_col2\" class=\"data row0 col2\" >0.138615</td>\n",
       "                        <td id=\"T_3b95748c_1684_11ec_b28e_1e00ea11985arow0_col3\" class=\"data row0 col3\" >0.143188</td>\n",
       "                        <td id=\"T_3b95748c_1684_11ec_b28e_1e00ea11985arow0_col4\" class=\"data row0 col4\" >0.170681</td>\n",
       "                        <td id=\"T_3b95748c_1684_11ec_b28e_1e00ea11985arow0_col5\" class=\"data row0 col5\" >0.199286</td>\n",
       "                        <td id=\"T_3b95748c_1684_11ec_b28e_1e00ea11985arow0_col6\" class=\"data row0 col6\" >0.180914</td>\n",
       "                        <td id=\"T_3b95748c_1684_11ec_b28e_1e00ea11985arow0_col7\" class=\"data row0 col7\" >0.046973</td>\n",
       "            </tr>\n",
       "            <tr>\n",
       "                                <th id=\"T_3b95748c_1684_11ec_b28e_1e00ea11985alevel1_row1\" class=\"row_heading level1 row1\" >0.1</th>\n",
       "                        <td id=\"T_3b95748c_1684_11ec_b28e_1e00ea11985arow1_col0\" class=\"data row1 col0\" >0.283645</td>\n",
       "                        <td id=\"T_3b95748c_1684_11ec_b28e_1e00ea11985arow1_col1\" class=\"data row1 col1\" >0.310266</td>\n",
       "                        <td id=\"T_3b95748c_1684_11ec_b28e_1e00ea11985arow1_col2\" class=\"data row1 col2\" >0.291792</td>\n",
       "                        <td id=\"T_3b95748c_1684_11ec_b28e_1e00ea11985arow1_col3\" class=\"data row1 col3\" >0.280237</td>\n",
       "                        <td id=\"T_3b95748c_1684_11ec_b28e_1e00ea11985arow1_col4\" class=\"data row1 col4\" >0.267081</td>\n",
       "                        <td id=\"T_3b95748c_1684_11ec_b28e_1e00ea11985arow1_col5\" class=\"data row1 col5\" >0.263094</td>\n",
       "                        <td id=\"T_3b95748c_1684_11ec_b28e_1e00ea11985arow1_col6\" class=\"data row1 col6\" >0.213036</td>\n",
       "                        <td id=\"T_3b95748c_1684_11ec_b28e_1e00ea11985arow1_col7\" class=\"data row1 col7\" >0.130734</td>\n",
       "            </tr>\n",
       "            <tr>\n",
       "                                <th id=\"T_3b95748c_1684_11ec_b28e_1e00ea11985alevel1_row2\" class=\"row_heading level1 row2\" >1.0</th>\n",
       "                        <td id=\"T_3b95748c_1684_11ec_b28e_1e00ea11985arow2_col0\" class=\"data row2 col0\" >0.431551</td>\n",
       "                        <td id=\"T_3b95748c_1684_11ec_b28e_1e00ea11985arow2_col1\" class=\"data row2 col1\" >0.454187</td>\n",
       "                        <td id=\"T_3b95748c_1684_11ec_b28e_1e00ea11985arow2_col2\" class=\"data row2 col2\" >0.432259</td>\n",
       "                        <td id=\"T_3b95748c_1684_11ec_b28e_1e00ea11985arow2_col3\" class=\"data row2 col3\" >0.415371</td>\n",
       "                        <td id=\"T_3b95748c_1684_11ec_b28e_1e00ea11985arow2_col4\" class=\"data row2 col4\" >0.439991</td>\n",
       "                        <td id=\"T_3b95748c_1684_11ec_b28e_1e00ea11985arow2_col5\" class=\"data row2 col5\" >0.429394</td>\n",
       "                        <td id=\"T_3b95748c_1684_11ec_b28e_1e00ea11985arow2_col6\" class=\"data row2 col6\" >0.344874</td>\n",
       "                        <td id=\"T_3b95748c_1684_11ec_b28e_1e00ea11985arow2_col7\" class=\"data row2 col7\" >0.298861</td>\n",
       "            </tr>\n",
       "            <tr>\n",
       "                                <th id=\"T_3b95748c_1684_11ec_b28e_1e00ea11985alevel1_row3\" class=\"row_heading level1 row3\" >10.0</th>\n",
       "                        <td id=\"T_3b95748c_1684_11ec_b28e_1e00ea11985arow3_col0\" class=\"data row3 col0\" >0.524804</td>\n",
       "                        <td id=\"T_3b95748c_1684_11ec_b28e_1e00ea11985arow3_col1\" class=\"data row3 col1\" >0.529099</td>\n",
       "                        <td id=\"T_3b95748c_1684_11ec_b28e_1e00ea11985arow3_col2\" class=\"data row3 col2\" >0.493201</td>\n",
       "                        <td id=\"T_3b95748c_1684_11ec_b28e_1e00ea11985arow3_col3\" class=\"data row3 col3\" >0.477270</td>\n",
       "                        <td id=\"T_3b95748c_1684_11ec_b28e_1e00ea11985arow3_col4\" class=\"data row3 col4\" >0.499848</td>\n",
       "                        <td id=\"T_3b95748c_1684_11ec_b28e_1e00ea11985arow3_col5\" class=\"data row3 col5\" >0.479446</td>\n",
       "                        <td id=\"T_3b95748c_1684_11ec_b28e_1e00ea11985arow3_col6\" class=\"data row3 col6\" >0.396978</td>\n",
       "                        <td id=\"T_3b95748c_1684_11ec_b28e_1e00ea11985arow3_col7\" class=\"data row3 col7\" >0.374091</td>\n",
       "            </tr>\n",
       "            <tr>\n",
       "                                <th id=\"T_3b95748c_1684_11ec_b28e_1e00ea11985alevel1_row4\" class=\"row_heading level1 row4\" >100.0</th>\n",
       "                        <td id=\"T_3b95748c_1684_11ec_b28e_1e00ea11985arow4_col0\" class=\"data row4 col0\" >0.526839</td>\n",
       "                        <td id=\"T_3b95748c_1684_11ec_b28e_1e00ea11985arow4_col1\" class=\"data row4 col1\" >0.547867</td>\n",
       "                        <td id=\"T_3b95748c_1684_11ec_b28e_1e00ea11985arow4_col2\" class=\"data row4 col2\" >0.507265</td>\n",
       "                        <td id=\"T_3b95748c_1684_11ec_b28e_1e00ea11985arow4_col3\" class=\"data row4 col3\" >0.487010</td>\n",
       "                        <td id=\"T_3b95748c_1684_11ec_b28e_1e00ea11985arow4_col4\" class=\"data row4 col4\" >0.515207</td>\n",
       "                        <td id=\"T_3b95748c_1684_11ec_b28e_1e00ea11985arow4_col5\" class=\"data row4 col5\" >0.500353</td>\n",
       "                        <td id=\"T_3b95748c_1684_11ec_b28e_1e00ea11985arow4_col6\" class=\"data row4 col6\" >0.398039</td>\n",
       "                        <td id=\"T_3b95748c_1684_11ec_b28e_1e00ea11985arow4_col7\" class=\"data row4 col7\" >0.393295</td>\n",
       "            </tr>\n",
       "            <tr>\n",
       "                        <th id=\"T_3b95748c_1684_11ec_b28e_1e00ea11985alevel0_row5\" class=\"row_heading level0 row5\" rowspan=5>2</th>\n",
       "                        <th id=\"T_3b95748c_1684_11ec_b28e_1e00ea11985alevel1_row5\" class=\"row_heading level1 row5\" >0.001</th>\n",
       "                        <td id=\"T_3b95748c_1684_11ec_b28e_1e00ea11985arow5_col0\" class=\"data row5 col0\" >0.090173</td>\n",
       "                        <td id=\"T_3b95748c_1684_11ec_b28e_1e00ea11985arow5_col1\" class=\"data row5 col1\" >0.122566</td>\n",
       "                        <td id=\"T_3b95748c_1684_11ec_b28e_1e00ea11985arow5_col2\" class=\"data row5 col2\" >0.136764</td>\n",
       "                        <td id=\"T_3b95748c_1684_11ec_b28e_1e00ea11985arow5_col3\" class=\"data row5 col3\" >0.138181</td>\n",
       "                        <td id=\"T_3b95748c_1684_11ec_b28e_1e00ea11985arow5_col4\" class=\"data row5 col4\" >0.165640</td>\n",
       "                        <td id=\"T_3b95748c_1684_11ec_b28e_1e00ea11985arow5_col5\" class=\"data row5 col5\" >0.178567</td>\n",
       "                        <td id=\"T_3b95748c_1684_11ec_b28e_1e00ea11985arow5_col6\" class=\"data row5 col6\" >0.152812</td>\n",
       "                        <td id=\"T_3b95748c_1684_11ec_b28e_1e00ea11985arow5_col7\" class=\"data row5 col7\" >0.044417</td>\n",
       "            </tr>\n",
       "            <tr>\n",
       "                                <th id=\"T_3b95748c_1684_11ec_b28e_1e00ea11985alevel1_row6\" class=\"row_heading level1 row6\" >0.1</th>\n",
       "                        <td id=\"T_3b95748c_1684_11ec_b28e_1e00ea11985arow6_col0\" class=\"data row6 col0\" >0.283645</td>\n",
       "                        <td id=\"T_3b95748c_1684_11ec_b28e_1e00ea11985arow6_col1\" class=\"data row6 col1\" >0.309550</td>\n",
       "                        <td id=\"T_3b95748c_1684_11ec_b28e_1e00ea11985arow6_col2\" class=\"data row6 col2\" >0.300415</td>\n",
       "                        <td id=\"T_3b95748c_1684_11ec_b28e_1e00ea11985arow6_col3\" class=\"data row6 col3\" >0.303606</td>\n",
       "                        <td id=\"T_3b95748c_1684_11ec_b28e_1e00ea11985arow6_col4\" class=\"data row6 col4\" >0.271847</td>\n",
       "                        <td id=\"T_3b95748c_1684_11ec_b28e_1e00ea11985arow6_col5\" class=\"data row6 col5\" >0.260059</td>\n",
       "                        <td id=\"T_3b95748c_1684_11ec_b28e_1e00ea11985arow6_col6\" class=\"data row6 col6\" >0.195470</td>\n",
       "                        <td id=\"T_3b95748c_1684_11ec_b28e_1e00ea11985arow6_col7\" class=\"data row6 col7\" >0.119057</td>\n",
       "            </tr>\n",
       "            <tr>\n",
       "                                <th id=\"T_3b95748c_1684_11ec_b28e_1e00ea11985alevel1_row7\" class=\"row_heading level1 row7\" >1.0</th>\n",
       "                        <td id=\"T_3b95748c_1684_11ec_b28e_1e00ea11985arow7_col0\" class=\"data row7 col0\" >0.425792</td>\n",
       "                        <td id=\"T_3b95748c_1684_11ec_b28e_1e00ea11985arow7_col1\" class=\"data row7 col1\" >0.450517</td>\n",
       "                        <td id=\"T_3b95748c_1684_11ec_b28e_1e00ea11985arow7_col2\" class=\"data row7 col2\" >0.473213</td>\n",
       "                        <td id=\"T_3b95748c_1684_11ec_b28e_1e00ea11985arow7_col3\" class=\"data row7 col3\" >0.485804</td>\n",
       "                        <td id=\"T_3b95748c_1684_11ec_b28e_1e00ea11985arow7_col4\" class=\"data row7 col4\" >0.436029</td>\n",
       "                        <td id=\"T_3b95748c_1684_11ec_b28e_1e00ea11985arow7_col5\" class=\"data row7 col5\" >0.435534</td>\n",
       "                        <td id=\"T_3b95748c_1684_11ec_b28e_1e00ea11985arow7_col6\" class=\"data row7 col6\" >0.357793</td>\n",
       "                        <td id=\"T_3b95748c_1684_11ec_b28e_1e00ea11985arow7_col7\" class=\"data row7 col7\" >0.244551</td>\n",
       "            </tr>\n",
       "            <tr>\n",
       "                                <th id=\"T_3b95748c_1684_11ec_b28e_1e00ea11985alevel1_row8\" class=\"row_heading level1 row8\" >10.0</th>\n",
       "                        <td id=\"T_3b95748c_1684_11ec_b28e_1e00ea11985arow8_col0\" class=\"data row8 col0\" >0.519019</td>\n",
       "                        <td id=\"T_3b95748c_1684_11ec_b28e_1e00ea11985arow8_col1\" class=\"data row8 col1\" >0.526827</td>\n",
       "                        <td id=\"T_3b95748c_1684_11ec_b28e_1e00ea11985arow8_col2\" class=\"data row8 col2\" >0.540097</td>\n",
       "                        <td id=\"T_3b95748c_1684_11ec_b28e_1e00ea11985arow8_col3\" class=\"data row8 col3\" >0.544290</td>\n",
       "                        <td id=\"T_3b95748c_1684_11ec_b28e_1e00ea11985arow8_col4\" class=\"data row8 col4\" >0.502683</td>\n",
       "                        <td id=\"T_3b95748c_1684_11ec_b28e_1e00ea11985arow8_col5\" class=\"data row8 col5\" >0.493667</td>\n",
       "                        <td id=\"T_3b95748c_1684_11ec_b28e_1e00ea11985arow8_col6\" class=\"data row8 col6\" >0.396742</td>\n",
       "                        <td id=\"T_3b95748c_1684_11ec_b28e_1e00ea11985arow8_col7\" class=\"data row8 col7\" >0.266265</td>\n",
       "            </tr>\n",
       "            <tr>\n",
       "                                <th id=\"T_3b95748c_1684_11ec_b28e_1e00ea11985alevel1_row9\" class=\"row_heading level1 row9\" >100.0</th>\n",
       "                        <td id=\"T_3b95748c_1684_11ec_b28e_1e00ea11985arow9_col0\" class=\"data row9 col0\" >0.521323</td>\n",
       "                        <td id=\"T_3b95748c_1684_11ec_b28e_1e00ea11985arow9_col1\" class=\"data row9 col1\" >0.552921</td>\n",
       "                        <td id=\"T_3b95748c_1684_11ec_b28e_1e00ea11985arow9_col2\" class=\"data row9 col2\" >0.566371</td>\n",
       "                        <td id=\"T_3b95748c_1684_11ec_b28e_1e00ea11985arow9_col3\" class=\"data row9 col3\" >0.573418</td>\n",
       "                        <td id=\"T_3b95748c_1684_11ec_b28e_1e00ea11985arow9_col4\" class=\"data row9 col4\" >0.500927</td>\n",
       "                        <td id=\"T_3b95748c_1684_11ec_b28e_1e00ea11985arow9_col5\" class=\"data row9 col5\" >0.491884</td>\n",
       "                        <td id=\"T_3b95748c_1684_11ec_b28e_1e00ea11985arow9_col6\" class=\"data row9 col6\" >0.412376</td>\n",
       "                        <td id=\"T_3b95748c_1684_11ec_b28e_1e00ea11985arow9_col7\" class=\"data row9 col7\" >0.262878</td>\n",
       "            </tr>\n",
       "            <tr>\n",
       "                        <th id=\"T_3b95748c_1684_11ec_b28e_1e00ea11985alevel0_row10\" class=\"row_heading level0 row10\" rowspan=5>3</th>\n",
       "                        <th id=\"T_3b95748c_1684_11ec_b28e_1e00ea11985alevel1_row10\" class=\"row_heading level1 row10\" >0.001</th>\n",
       "                        <td id=\"T_3b95748c_1684_11ec_b28e_1e00ea11985arow10_col0\" class=\"data row10 col0\" >0.090173</td>\n",
       "                        <td id=\"T_3b95748c_1684_11ec_b28e_1e00ea11985arow10_col1\" class=\"data row10 col1\" >0.122655</td>\n",
       "                        <td id=\"T_3b95748c_1684_11ec_b28e_1e00ea11985arow10_col2\" class=\"data row10 col2\" >0.129899</td>\n",
       "                        <td id=\"T_3b95748c_1684_11ec_b28e_1e00ea11985arow10_col3\" class=\"data row10 col3\" >0.129396</td>\n",
       "                        <td id=\"T_3b95748c_1684_11ec_b28e_1e00ea11985arow10_col4\" class=\"data row10 col4\" >0.154208</td>\n",
       "                        <td id=\"T_3b95748c_1684_11ec_b28e_1e00ea11985arow10_col5\" class=\"data row10 col5\" >0.169517</td>\n",
       "                        <td id=\"T_3b95748c_1684_11ec_b28e_1e00ea11985arow10_col6\" class=\"data row10 col6\" >0.130528</td>\n",
       "                        <td id=\"T_3b95748c_1684_11ec_b28e_1e00ea11985arow10_col7\" class=\"data row10 col7\" >0.044417</td>\n",
       "            </tr>\n",
       "            <tr>\n",
       "                                <th id=\"T_3b95748c_1684_11ec_b28e_1e00ea11985alevel1_row11\" class=\"row_heading level1 row11\" >0.1</th>\n",
       "                        <td id=\"T_3b95748c_1684_11ec_b28e_1e00ea11985arow11_col0\" class=\"data row11 col0\" >0.290175</td>\n",
       "                        <td id=\"T_3b95748c_1684_11ec_b28e_1e00ea11985arow11_col1\" class=\"data row11 col1\" >0.309480</td>\n",
       "                        <td id=\"T_3b95748c_1684_11ec_b28e_1e00ea11985arow11_col2\" class=\"data row11 col2\" >0.303624</td>\n",
       "                        <td id=\"T_3b95748c_1684_11ec_b28e_1e00ea11985arow11_col3\" class=\"data row11 col3\" >0.303624</td>\n",
       "                        <td id=\"T_3b95748c_1684_11ec_b28e_1e00ea11985arow11_col4\" class=\"data row11 col4\" >0.266884</td>\n",
       "                        <td id=\"T_3b95748c_1684_11ec_b28e_1e00ea11985arow11_col5\" class=\"data row11 col5\" >0.260447</td>\n",
       "                        <td id=\"T_3b95748c_1684_11ec_b28e_1e00ea11985arow11_col6\" class=\"data row11 col6\" >0.188029</td>\n",
       "                        <td id=\"T_3b95748c_1684_11ec_b28e_1e00ea11985arow11_col7\" class=\"data row11 col7\" >0.082521</td>\n",
       "            </tr>\n",
       "            <tr>\n",
       "                                <th id=\"T_3b95748c_1684_11ec_b28e_1e00ea11985alevel1_row12\" class=\"row_heading level1 row12\" >1.0</th>\n",
       "                        <td id=\"T_3b95748c_1684_11ec_b28e_1e00ea11985arow12_col0\" class=\"data row12 col0\" >0.421102</td>\n",
       "                        <td id=\"T_3b95748c_1684_11ec_b28e_1e00ea11985arow12_col1\" class=\"data row12 col1\" >0.445875</td>\n",
       "                        <td id=\"T_3b95748c_1684_11ec_b28e_1e00ea11985arow12_col2\" class=\"data row12 col2\" >0.463155</td>\n",
       "                        <td id=\"T_3b95748c_1684_11ec_b28e_1e00ea11985arow12_col3\" class=\"data row12 col3\" >0.475237</td>\n",
       "                        <td id=\"T_3b95748c_1684_11ec_b28e_1e00ea11985arow12_col4\" class=\"data row12 col4\" >0.430261</td>\n",
       "                        <td id=\"T_3b95748c_1684_11ec_b28e_1e00ea11985arow12_col5\" class=\"data row12 col5\" >0.425892</td>\n",
       "                        <td id=\"T_3b95748c_1684_11ec_b28e_1e00ea11985arow12_col6\" class=\"data row12 col6\" >0.331632</td>\n",
       "                        <td id=\"T_3b95748c_1684_11ec_b28e_1e00ea11985arow12_col7\" class=\"data row12 col7\" >0.185005</td>\n",
       "            </tr>\n",
       "            <tr>\n",
       "                                <th id=\"T_3b95748c_1684_11ec_b28e_1e00ea11985alevel1_row13\" class=\"row_heading level1 row13\" >10.0</th>\n",
       "                        <td id=\"T_3b95748c_1684_11ec_b28e_1e00ea11985arow13_col0\" class=\"data row13 col0\" >0.509315</td>\n",
       "                        <td id=\"T_3b95748c_1684_11ec_b28e_1e00ea11985arow13_col1\" class=\"data row13 col1\" >0.527090</td>\n",
       "                        <td id=\"T_3b95748c_1684_11ec_b28e_1e00ea11985arow13_col2\" class=\"data row13 col2\" >0.542278</td>\n",
       "                        <td id=\"T_3b95748c_1684_11ec_b28e_1e00ea11985arow13_col3\" class=\"data row13 col3\" >0.544336</td>\n",
       "                        <td id=\"T_3b95748c_1684_11ec_b28e_1e00ea11985arow13_col4\" class=\"data row13 col4\" >0.491451</td>\n",
       "                        <td id=\"T_3b95748c_1684_11ec_b28e_1e00ea11985arow13_col5\" class=\"data row13 col5\" >0.476730</td>\n",
       "                        <td id=\"T_3b95748c_1684_11ec_b28e_1e00ea11985arow13_col6\" class=\"data row13 col6\" >0.357181</td>\n",
       "                        <td id=\"T_3b95748c_1684_11ec_b28e_1e00ea11985arow13_col7\" class=\"data row13 col7\" >0.191529</td>\n",
       "            </tr>\n",
       "            <tr>\n",
       "                                <th id=\"T_3b95748c_1684_11ec_b28e_1e00ea11985alevel1_row14\" class=\"row_heading level1 row14\" >100.0</th>\n",
       "                        <td id=\"T_3b95748c_1684_11ec_b28e_1e00ea11985arow14_col0\" class=\"data row14 col0\" >0.501991</td>\n",
       "                        <td id=\"T_3b95748c_1684_11ec_b28e_1e00ea11985arow14_col1\" class=\"data row14 col1\" >0.535928</td>\n",
       "                        <td id=\"T_3b95748c_1684_11ec_b28e_1e00ea11985arow14_col2\" class=\"data row14 col2\" >0.558314</td>\n",
       "                        <td id=\"T_3b95748c_1684_11ec_b28e_1e00ea11985arow14_col3\" class=\"data row14 col3\" >0.559401</td>\n",
       "                        <td id=\"T_3b95748c_1684_11ec_b28e_1e00ea11985arow14_col4\" class=\"data row14 col4\" >0.500620</td>\n",
       "                        <td id=\"T_3b95748c_1684_11ec_b28e_1e00ea11985arow14_col5\" class=\"data row14 col5\" >0.494542</td>\n",
       "                        <td id=\"T_3b95748c_1684_11ec_b28e_1e00ea11985arow14_col6\" class=\"data row14 col6\" >0.363372</td>\n",
       "                        <td id=\"T_3b95748c_1684_11ec_b28e_1e00ea11985arow14_col7\" class=\"data row14 col7\" >0.191529</td>\n",
       "            </tr>\n",
       "    </tbody></table>"
      ],
      "text/plain": [
       "<pandas.io.formats.style.Styler at 0x7ff4da5e9340>"
      ]
     },
     "execution_count": 145,
     "metadata": {},
     "output_type": "execute_result"
    }
   ],
   "source": [
    "bla = res_pivot.mean_test_score.unstack([\"param_countvectorizer__ngram_range\"])\n",
    "bla = bla.swaplevel().sort_index()\n",
    "bla.index.names = ['min_df', 'C']\n",
    "bla.style.background_gradient(cmap=\"viridis\")"
   ]
  },
  {
   "cell_type": "code",
   "execution_count": 43,
   "id": "020248ea",
   "metadata": {
    "tags": []
   },
   "outputs": [
    {
     "data": {
      "image/png": "[encoded data removed]",
      "text/plain": [
       "<Figure size 720x1440 with 8 Axes>"
      ]
     },
     "metadata": {
      "needs_background": "light"
     },
     "output_type": "display_data"
    }
   ],
   "source": [
    "lr = grid.best_estimator_.named_steps['logisticregression']\n",
    "feature_names = np.array(grid.best_estimator_.\\\n",
    "    named_steps['countvectorizer'].get_feature_names())\n",
    "n_classes = len(lr.classes_)\n",
    "fig, axes = plt.subplots(n_classes, figsize=(10, 20))\n",
    "for ax, coef, label in zip(axes.ravel(), lr.coef_, lr.classes_):\n",
    "    ax.set_title(label)\n",
    "    plot_important_features(coef, \\\n",
    "feature_names, top_n=20, ax=ax)\n",
    "    \n",
    "plt.tight_layout()"
   ]
  },
  {
   "cell_type": "code",
   "execution_count": null,
   "id": "4749ceb8",
   "metadata": {},
   "outputs": [],
   "source": []
  }
 ],
 "metadata": {
  "kernelspec": {
   "display_name": "Python 3 (ipykernel)",
   "language": "python",
   "name": "python3"
  },
  "language_info": {
   "codemirror_mode": {
    "name": "ipython",
    "version": 3
   },
   "file_extension": ".py",
   "mimetype": "text/x-python",
   "name": "python",
   "nbconvert_exporter": "python",
   "pygments_lexer": "ipython3",
   "version": "3.11.4"
  }
 },
 "nbformat": 4,
 "nbformat_minor": 5
}
