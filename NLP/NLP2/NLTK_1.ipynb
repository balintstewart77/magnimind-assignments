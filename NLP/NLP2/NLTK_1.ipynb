{
 "cells": [
  {
   "cell_type": "markdown",
   "metadata": {},
   "source": [
    "# NLTK \n",
    "Natural Language ToolKit (NLTK) is a comprehensive Python library for natural language processing and text analytics. Originally designed for teaching, it has been adopted in the industry for research and development due to its usefulness and breadth of coverage. NLTK is often used for rapid prototyping of text processing programs and can even be used in production applications. Demos of select NLTK functionality and production-ready APIs are available at http://text-processing.com.\n",
    "\n",
    "### Tokenization\n",
    "Tokenization is a method of breaking up a piece of text into many pieces, such as sentences and words, and is an essential first step for recipes in the later chapters. \n",
    "\n",
    "**WordNet** is a dictionary designed for programmatic access by natural language processing systems. It has many different use cases, including:\n",
    "- Looking up the definition of a word\n",
    "- Finding synonyms and antonyms\n",
    "- Exploring word relations and similarity\n",
    "- Word sense disambiguation for words that have multiple uses and definitions\n",
    "\n",
    "NLTK includes a WordNet corpus reader, which we will use to access and explore WordNet.\n",
    "A corpus is just a body of text, and corpus readers are designed to make accessing a corpus much easier than direct file access. We'll be using WordNet again in the later chapters, so it's important to familiarize yourself with the basics first.\n",
    "\n",
    "How to install NLTK? \n",
    "Installation instructions for NLTK are available at http://nltk.org/install.html\n",
    "\n",
    "Once you've installed NLTK, you'll also need to install the data following the instructions at http://nltk.org/data.html. I recommend installing everything, as we'll be using a number of corpora and pickled objects. The data is installed in a data directory, which on Mac and Linux/Unix is usually /usr/share/nltk_data, or on Windows is C:\\nltk_data. Make sure that tokenizers/punkt.zip is in the data directory and has been unpacked so that there's a file at tokenizers/punkt/PY3/english.pickle."
   ]
  },
  {
   "cell_type": "code",
   "execution_count": 2,
   "metadata": {},
   "outputs": [],
   "source": [
    "# import nltk (install it first:  http://nltk.org/install.html)\n",
    "import nltk\n",
    "#nltk.download()"
   ]
  },
  {
   "cell_type": "code",
   "execution_count": 3,
   "metadata": {},
   "outputs": [],
   "source": [
    " paragraph = \"Hello World. It is such a nice surprize to see you.\""
   ]
  },
  {
   "cell_type": "code",
   "execution_count": 4,
   "metadata": {},
   "outputs": [],
   "source": [
    "# import sent_tokenize\n",
    "from nltk.tokenize import sent_tokenize\n"
   ]
  },
  {
   "cell_type": "code",
   "execution_count": 5,
   "metadata": {},
   "outputs": [
    {
     "data": {
      "text/plain": [
       "['Hello World.', 'It is such a nice surprize to see you.']"
      ]
     },
     "execution_count": 5,
     "metadata": {},
     "output_type": "execute_result"
    }
   ],
   "source": [
    "# sentence tokenize the paragraph\n",
    "sent_tokenize(paragraph)\n"
   ]
  },
  {
   "cell_type": "code",
   "execution_count": 6,
   "metadata": {},
   "outputs": [
    {
     "data": {
      "text/plain": [
       "['Hello',\n",
       " 'World',\n",
       " '.',\n",
       " 'It',\n",
       " 'is',\n",
       " 'such',\n",
       " 'a',\n",
       " 'nice',\n",
       " 'surprize',\n",
       " 'to',\n",
       " 'see',\n",
       " 'you',\n",
       " '.']"
      ]
     },
     "execution_count": 6,
     "metadata": {},
     "output_type": "execute_result"
    }
   ],
   "source": [
    "# import word_tokenize\n",
    "from nltk.tokenize import word_tokenize\n",
    "\n",
    "\n",
    "# word tokenize your paragraph\n",
    "word_tokenize(paragraph)"
   ]
  },
  {
   "cell_type": "markdown",
   "metadata": {},
   "source": [
    "### Separating contractions"
   ]
  },
  {
   "cell_type": "code",
   "execution_count": 7,
   "metadata": {},
   "outputs": [
    {
     "data": {
      "text/plain": [
       "['I', 'ca', \"n't\", 'sleep']"
      ]
     },
     "execution_count": 7,
     "metadata": {},
     "output_type": "execute_result"
    }
   ],
   "source": [
    "# word tokenize some contraction words\n",
    "\n",
    "word_tokenize(\"I can't sleep\")"
   ]
  },
  {
   "cell_type": "code",
   "execution_count": 8,
   "metadata": {},
   "outputs": [
    {
     "data": {
      "text/plain": [
       "['I', 'can', \"'\", 't', 'sleep', '.']"
      ]
     },
     "execution_count": 8,
     "metadata": {},
     "output_type": "execute_result"
    }
   ],
   "source": [
    "# use another tokenizer WordPunctTokenizer\n",
    "from nltk.tokenize import WordPunctTokenizer\n",
    "tokenizer = WordPunctTokenizer()\n",
    "tokenizer.tokenize(\"I can't sleep.\")"
   ]
  },
  {
   "cell_type": "markdown",
   "metadata": {},
   "source": [
    "Regular expressions can be used if you want complete control over how to tokenize text. As regular expressions can get complicated very quickly, I only recommend using them if the word tokenizers covered in the previous recipe are unacceptable.\n",
    "First you need to decide how you want to tokenize a piece of text as this will determine how you construct your regular expression. The choices are:\n",
    "- Match on the tokens\n",
    "- Match on the separators or gaps\n",
    "\n",
    "We'll start with an example of the first, matching alphanumeric tokens plus single quotes so\n",
    "that we don't split up contractions.\n",
    "\n",
    "Note: \\w+ means “find the first alphanumeric character and then check the next character and if it is alphanumeric then include it in the match too, repeat until you run into a non-alphanumeric character.\n"
   ]
  },
  {
   "cell_type": "code",
   "execution_count": 9,
   "metadata": {},
   "outputs": [
    {
     "data": {
      "text/plain": [
       "['I', 'can', \"'\", 't', 'sleep', '.']"
      ]
     },
     "execution_count": 9,
     "metadata": {},
     "output_type": "execute_result"
    }
   ],
   "source": [
    "# try another tokenizer RegexpTokenizer\n",
    "\n",
    "from nltk.tokenize import RegexpTokenizer\n",
    "tokenize = RegexpTokenizer(r\"[\\w]+\")\n",
    "tokenizer.tokenize(\"I can't sleep.\")\n"
   ]
  },
  {
   "cell_type": "code",
   "execution_count": 10,
   "metadata": {},
   "outputs": [
    {
     "data": {
      "text/plain": [
       "['I', 'can', 't', 'sleep']"
      ]
     },
     "execution_count": 10,
     "metadata": {},
     "output_type": "execute_result"
    }
   ],
   "source": [
    "from nltk.tokenize import regexp_tokenize\n",
    "regexp_tokenize(\"I can't sleep\", \"[\\w]+\")"
   ]
  },
  {
   "cell_type": "markdown",
   "metadata": {},
   "source": [
    "The RegexpTokenizer class works by compiling your pattern, then calling re.findall() on your text. You could do all this yourself using the re module, but RegexpTokenizer implements the TokenizerI interface, just like all the word tokenizers from the previous recipe. This means it can be used by other parts of the NLTK package, such as corpus readers, which we'll cover in detail in Chapter 3, Creating Custom Corpora. Many corpus readers need a way to tokenize the text they're reading, and can take optional keyword arguments specifying an instance of a TokenizerI subclass. This way, you have the ability to provide your own tokenizer instance if the default tokenizer is unsuitable.\n",
    "\n",
    "RegexpTokenizer can also work by matching the gaps, as opposed to the tokens. Instead of using re.findall(), the RegexpTokenizer class will use re.split(). This is how the BlanklineTokenizer class in nltk.tokenize is implemented.\n",
    "\n",
    "The following is a simple example of using RegexpTokenizer to tokenize on whitespace:\n",
    "\n",
    "### Simple whitespace tokenizer\n",
    "The following is a simple example of using RegexpTokenizer to tokenize on whitespace:\n",
    "\n",
    "Notice that punctuation still remains in the tokens. The gaps=True parameter means that the pattern is used to identify gaps to tokenize on. If we used gaps=False, then the pattern would be used to identify tokens."
   ]
  },
  {
   "cell_type": "code",
   "execution_count": 11,
   "metadata": {},
   "outputs": [
    {
     "data": {
      "text/plain": [
       "[\"Can't\", 'is', 'a', 'contraction.']"
      ]
     },
     "execution_count": 11,
     "metadata": {},
     "output_type": "execute_result"
    }
   ],
   "source": [
    "tokenizer = RegexpTokenizer('\\s+', gaps=True)\n",
    "tokenizer.tokenize(\"Can't is a contraction.\")"
   ]
  },
  {
   "cell_type": "markdown",
   "metadata": {},
   "source": [
    "### Stopwords\n",
    "Stopwords are common words that generally do not contribute to the meaning of a sentence, at least for the purposes of information retrieval and natural language processing. These are words such as the and a. Most search engines will filter out stopwords from search queries and documents in order to save space in their index.\n",
    "\n",
    "The stopwords corpus is an instance of nltk.corpus.reader. WordListCorpusReader. As such, it has a words() method that can take a single argument for the file ID, which in this case is 'english', referring to a file containing a list of English stopwords. You could also call stopwords.words() with no argument to get a list of all stopwords in every language available.\n"
   ]
  },
  {
   "cell_type": "code",
   "execution_count": 12,
   "metadata": {},
   "outputs": [
    {
     "data": {
      "text/plain": [
       "179"
      ]
     },
     "execution_count": 12,
     "metadata": {},
     "output_type": "execute_result"
    }
   ],
   "source": [
    "# import stopwords from nltk.corpus\n",
    "# load English stopwords\n",
    "from nltk.corpus import stopwords\n",
    "english_stops = stopwords.words(\"english\")\n",
    "len(english_stops)"
   ]
  },
  {
   "cell_type": "markdown",
   "metadata": {},
   "source": [
    "You can see the list of all English stopwords using stopwords.words('english') or by examining the word list file at nltk_data/corpora/stopwords/english. There are also stopword lists for many other languages. You can see the complete list of languages using the fileids method as follows:"
   ]
  },
  {
   "cell_type": "code",
   "execution_count": 13,
   "metadata": {},
   "outputs": [
    {
     "data": {
      "text/plain": [
       "['arabic',\n",
       " 'azerbaijani',\n",
       " 'danish',\n",
       " 'dutch',\n",
       " 'english',\n",
       " 'finnish',\n",
       " 'french',\n",
       " 'german',\n",
       " 'greek',\n",
       " 'hungarian',\n",
       " 'indonesian',\n",
       " 'italian',\n",
       " 'kazakh',\n",
       " 'nepali',\n",
       " 'norwegian',\n",
       " 'portuguese',\n",
       " 'romanian',\n",
       " 'russian',\n",
       " 'slovene',\n",
       " 'spanish',\n",
       " 'swedish',\n",
       " 'tajik',\n",
       " 'turkish']"
      ]
     },
     "execution_count": 13,
     "metadata": {},
     "output_type": "execute_result"
    }
   ],
   "source": [
    "# see the complete list of languages using fileids\n",
    "stopwords.fileids()\n"
   ]
  },
  {
   "cell_type": "code",
   "execution_count": 14,
   "metadata": {},
   "outputs": [
    {
     "data": {
      "text/plain": [
       "53"
      ]
     },
     "execution_count": 14,
     "metadata": {},
     "output_type": "execute_result"
    }
   ],
   "source": [
    "# see all the stopwords in English\n",
    "len(stopwords.words(\"turkish\"))"
   ]
  },
  {
   "cell_type": "markdown",
   "metadata": {},
   "source": [
    "Any of these fileids can be used as an argument to the words() method to get a list of stopwords for that language. For example:"
   ]
  },
  {
   "cell_type": "code",
   "execution_count": 15,
   "metadata": {},
   "outputs": [],
   "source": [
    "# \n"
   ]
  },
  {
   "cell_type": "code",
   "execution_count": 16,
   "metadata": {},
   "outputs": [],
   "source": [
    "import numpy\n",
    "import matplotlib.pyplot as plt"
   ]
  },
  {
   "cell_type": "code",
   "execution_count": 17,
   "metadata": {},
   "outputs": [
    {
     "name": "stdout",
     "output_type": "stream",
     "text": [
      "*** Introductory Examples for the NLTK Book ***\n",
      "Loading text1, ..., text9 and sent1, ..., sent9\n",
      "Type the name of the text or sentence to view it.\n",
      "Type: 'texts()' or 'sents()' to list the materials.\n",
      "text1: Moby Dick by Herman Melville 1851\n",
      "text2: Sense and Sensibility by Jane Austen 1811\n",
      "text3: The Book of Genesis\n",
      "text4: Inaugural Address Corpus\n",
      "text5: Chat Corpus\n",
      "text6: Monty Python and the Holy Grail\n",
      "text7: Wall Street Journal\n",
      "text8: Personals Corpus\n",
      "text9: The Man Who Was Thursday by G . K . Chesterton 1908\n"
     ]
    }
   ],
   "source": [
    "from nltk.book import *"
   ]
  },
  {
   "cell_type": "code",
   "execution_count": 18,
   "metadata": {},
   "outputs": [
    {
     "data": {
      "text/plain": [
       "<Text: Moby Dick by Herman Melville 1851>"
      ]
     },
     "execution_count": 18,
     "metadata": {},
     "output_type": "execute_result"
    }
   ],
   "source": [
    "# what is text1\n",
    "text1"
   ]
  },
  {
   "cell_type": "code",
   "execution_count": 19,
   "metadata": {},
   "outputs": [
    {
     "name": "stdout",
     "output_type": "stream",
     "text": [
      "Displaying 8 of 8 matches:\n",
      " And in August , high in air , the beautiful and bountiful horse - chestnuts , \n",
      "kicked by a great man , and with a beautiful ivory leg , Stubb . It ' s an hono\n",
      " strange , half - seen , gliding , beautiful thing that eludes him ; every diml\n",
      "ut us where we are . What a really beautiful and chaste - looking mouth ! from \n",
      "begins to concrete ; sending forth beautiful crystalline shoots , as when the f\n",
      " it ; and in everything imposingly beautiful , strength has much to do with the\n",
      "ut too true to his word . It was a beautiful , bounteous , blue day ; the spang\n",
      "is a most refreshing , convivial , beautiful object to behold . As its name imp\n"
     ]
    }
   ],
   "source": [
    "# A concordance shows the number of occurrence of a given words \n",
    "# along with the text\n",
    "# concordance of \"beautiful\"\n",
    "text1.concordance(\"beautiful\")\n",
    "\n"
   ]
  },
  {
   "cell_type": "code",
   "execution_count": 20,
   "metadata": {},
   "outputs": [
    {
     "name": "stdout",
     "output_type": "stream",
     "text": [
      "Displaying 11 of 11 matches:\n",
      "ong the former , one was of a most monstrous size . ... This came towards us , \n",
      "ON OF THE PSALMS . \" Touching that monstrous bulk of the whale or ork we have r\n",
      "ll over with a heathenish array of monstrous clubs and spears . Some were thick\n",
      "d as you gazed , and wondered what monstrous cannibal and savage could ever hav\n",
      "that has survived the flood ; most monstrous and most mountainous ! That Himmal\n",
      "they might scout at Moby Dick as a monstrous fable , or still worse and more de\n",
      "th of Radney .'\" CHAPTER 55 Of the Monstrous Pictures of Whales . I shall ere l\n",
      "ing Scenes . In connexion with the monstrous pictures of whales , I am strongly\n",
      "ere to enter upon those still more monstrous stories of them which are to be fo\n",
      "ght have been rummaged out of this monstrous cabinet there is no telling . But \n",
      "of Whale - Bones ; for Whales of a monstrous size are oftentimes cast up dead u\n"
     ]
    }
   ],
   "source": [
    "# concordance of \"monstrous\"\n",
    "text1.concordance(\"monstrous\")"
   ]
  },
  {
   "cell_type": "code",
   "execution_count": 21,
   "metadata": {},
   "outputs": [
    {
     "data": {
      "text/plain": [
       "11"
      ]
     },
     "execution_count": 21,
     "metadata": {},
     "output_type": "execute_result"
    }
   ],
   "source": [
    "len(text1.concordance_list(\"monstrous\"))\n"
   ]
  },
  {
   "cell_type": "code",
   "execution_count": 22,
   "metadata": {},
   "outputs": [
    {
     "name": "stdout",
     "output_type": "stream",
     "text": [
      "the_pictures\n"
     ]
    }
   ],
   "source": [
    "# The common_contexts() method allows you to examine the contexts \n",
    "# that are shared by two or more words. \n",
    "# the monstrous pictures\n",
    "# the true pictures\n",
    "text1.common_contexts(['monstrous', 'true'])\n"
   ]
  },
  {
   "cell_type": "code",
   "execution_count": 23,
   "metadata": {},
   "outputs": [
    {
     "name": "stdout",
     "output_type": "stream",
     "text": [
      "men whale god lord oil man steady time iron heart body now hand others\n",
      "whales well no too strong eyes\n"
     ]
    }
   ],
   "source": [
    "# similar() method takes an input_word and returns other words who \n",
    "# appear in a similar range of contexts in the text. \"game\"\n",
    "text1.similar(\"game\")\n"
   ]
  },
  {
   "cell_type": "markdown",
   "metadata": {},
   "source": [
    "A word’s importance can be weighed by its dispersion in a corpus. Lexical dispersion is a measure of a word’s homogeneity across the parts of a corpus. This plot notes the occurrences of a word and how many words from the beginning of the corpus it appears."
   ]
  },
  {
   "cell_type": "code",
   "execution_count": 24,
   "metadata": {},
   "outputs": [
    {
     "data": {
      "image/png": "[encoded data removed]",
      "text/plain": [
       "<Figure size 432x288 with 1 Axes>"
      ]
     },
     "metadata": {
      "needs_background": "light"
     },
     "output_type": "display_data"
    }
   ],
   "source": [
    "# dispersion plot of \"citizens\", \"democracy\", \"freedom\", \"duties\", \"America\"\n",
    "text4.dispersion_plot([\"citizens\", \"democracy\", \"freedom\", \"duties\", \"America\"])"
   ]
  },
  {
   "cell_type": "code",
   "execution_count": 25,
   "metadata": {},
   "outputs": [
    {
     "data": {
      "text/plain": [
       "260819"
      ]
     },
     "execution_count": 25,
     "metadata": {},
     "output_type": "execute_result"
    }
   ],
   "source": [
    "# length of text1\n",
    "len(text1)"
   ]
  },
  {
   "cell_type": "code",
   "execution_count": 26,
   "metadata": {},
   "outputs": [
    {
     "data": {
      "text/plain": [
       "['deep',\n",
       " 'they',\n",
       " 'will',\n",
       " 'only',\n",
       " 'respond',\n",
       " 'to',\n",
       " 'a',\n",
       " 'mentor',\n",
       " \"'\",\n",
       " 's',\n",
       " 'touch',\n",
       " 'or',\n",
       " 'a',\n",
       " 'pastor',\n",
       " \"'\",\n",
       " 's',\n",
       " 'prayer',\n",
       " '.',\n",
       " 'Church',\n",
       " 'and',\n",
       " 'charity',\n",
       " ',',\n",
       " 'synagogue',\n",
       " 'and',\n",
       " 'mosque',\n",
       " 'lend',\n",
       " 'our',\n",
       " 'communities',\n",
       " 'their',\n",
       " 'humanity',\n",
       " ',',\n",
       " 'and',\n",
       " 'they',\n",
       " 'will',\n",
       " 'have',\n",
       " 'an',\n",
       " 'honored',\n",
       " 'place',\n",
       " 'in',\n",
       " 'our',\n",
       " 'plans',\n",
       " 'and',\n",
       " 'in',\n",
       " 'our',\n",
       " 'laws',\n",
       " '.',\n",
       " 'Many',\n",
       " 'in',\n",
       " 'our',\n",
       " 'country',\n",
       " 'do',\n",
       " 'not',\n",
       " 'know',\n",
       " 'the',\n",
       " 'pain',\n",
       " 'of',\n",
       " 'poverty',\n",
       " ',',\n",
       " 'but',\n",
       " 'we',\n",
       " 'can',\n",
       " 'listen',\n",
       " 'to',\n",
       " 'those',\n",
       " 'who',\n",
       " 'do',\n",
       " '.',\n",
       " 'And',\n",
       " 'I',\n",
       " 'can',\n",
       " 'pledge',\n",
       " 'our',\n",
       " 'nation',\n",
       " 'to',\n",
       " 'a',\n",
       " 'goal',\n",
       " ':',\n",
       " 'When',\n",
       " 'we',\n",
       " 'see',\n",
       " 'that',\n",
       " 'wounded',\n",
       " 'traveler',\n",
       " 'on',\n",
       " 'the',\n",
       " 'road',\n",
       " 'to',\n",
       " 'Jericho',\n",
       " ',',\n",
       " 'we',\n",
       " 'will',\n",
       " 'not',\n",
       " 'pass',\n",
       " 'to',\n",
       " 'the',\n",
       " 'other',\n",
       " 'side',\n",
       " '.',\n",
       " 'America',\n",
       " ',']"
      ]
     },
     "execution_count": 26,
     "metadata": {},
     "output_type": "execute_result"
    }
   ],
   "source": [
    "text4[140000:140100]"
   ]
  },
  {
   "cell_type": "code",
   "execution_count": 27,
   "metadata": {},
   "outputs": [
    {
     "data": {
      "text/plain": [
       "nltk.text.Text"
      ]
     },
     "execution_count": 27,
     "metadata": {},
     "output_type": "execute_result"
    }
   ],
   "source": [
    "type(text1)"
   ]
  },
  {
   "cell_type": "code",
   "execution_count": 28,
   "metadata": {},
   "outputs": [
    {
     "data": {
      "text/plain": [
       "19317"
      ]
     },
     "execution_count": 28,
     "metadata": {},
     "output_type": "execute_result"
    }
   ],
   "source": [
    "# get the vocabulary set of text1\n",
    "# get vocabulary\n",
    "set(text1)\n",
    "len(set(text1))"
   ]
  },
  {
   "cell_type": "code",
   "execution_count": 29,
   "metadata": {},
   "outputs": [
    {
     "data": {
      "text/plain": [
       "['!',\n",
       " '!\"',\n",
       " '!\"--',\n",
       " \"!'\",\n",
       " '!\\'\"',\n",
       " '!)',\n",
       " '!)\"',\n",
       " '!*',\n",
       " '!--',\n",
       " '!--\"',\n",
       " \"!--'\",\n",
       " '\"',\n",
       " '\"\\'',\n",
       " '\"--',\n",
       " '\"...',\n",
       " '\";',\n",
       " '$',\n",
       " '&',\n",
       " \"'\",\n",
       " \"',\",\n",
       " \"',--\",\n",
       " \"'-\",\n",
       " \"'--\",\n",
       " \"';\",\n",
       " '(',\n",
       " ')',\n",
       " '),',\n",
       " ')--',\n",
       " ').',\n",
       " ').--',\n",
       " '):',\n",
       " ');',\n",
       " ');--',\n",
       " '*',\n",
       " ',',\n",
       " ',\"',\n",
       " ',\"--',\n",
       " \",'\",\n",
       " \",'--\",\n",
       " ',)',\n",
       " ',*',\n",
       " ',--',\n",
       " ',--\"',\n",
       " \",--'\",\n",
       " '-',\n",
       " '--',\n",
       " '--\"',\n",
       " \"--'\",\n",
       " '--\\'\"',\n",
       " '--(',\n",
       " '---\"',\n",
       " '---,',\n",
       " '.',\n",
       " '.\"',\n",
       " '.\"*',\n",
       " '.\"--',\n",
       " \".'\",\n",
       " '.\\'\"',\n",
       " '.)',\n",
       " '.*',\n",
       " '.*--',\n",
       " '.,',\n",
       " '.--',\n",
       " '.--\"',\n",
       " '...',\n",
       " '....',\n",
       " '.]',\n",
       " '000',\n",
       " '1',\n",
       " '10',\n",
       " '100',\n",
       " '101',\n",
       " '102',\n",
       " '103',\n",
       " '104',\n",
       " '105',\n",
       " '106',\n",
       " '107',\n",
       " '108',\n",
       " '109',\n",
       " '11',\n",
       " '110',\n",
       " '111',\n",
       " '112',\n",
       " '113',\n",
       " '114',\n",
       " '115',\n",
       " '116',\n",
       " '117',\n",
       " '118',\n",
       " '119',\n",
       " '12',\n",
       " '120',\n",
       " '121',\n",
       " '122',\n",
       " '123',\n",
       " '124',\n",
       " '125',\n",
       " '126',\n",
       " '127',\n",
       " '128',\n",
       " '129',\n",
       " '13',\n",
       " '130',\n",
       " '131',\n",
       " '132',\n",
       " '133',\n",
       " '134',\n",
       " '135',\n",
       " '14',\n",
       " '144',\n",
       " '1492',\n",
       " '15',\n",
       " '150',\n",
       " '15th',\n",
       " '16',\n",
       " '1652',\n",
       " '1668',\n",
       " '1671',\n",
       " '1690',\n",
       " '1695',\n",
       " '16th',\n",
       " '17',\n",
       " '1726',\n",
       " '1729',\n",
       " '1750',\n",
       " '1772',\n",
       " '1775',\n",
       " '1776',\n",
       " '1778',\n",
       " '1779',\n",
       " '1788',\n",
       " '1791',\n",
       " '1793',\n",
       " '18',\n",
       " '180',\n",
       " '1807',\n",
       " '1819',\n",
       " '1820',\n",
       " '1821',\n",
       " '1825',\n",
       " '1828',\n",
       " '1833',\n",
       " '1836',\n",
       " '1839',\n",
       " '1840',\n",
       " '1842',\n",
       " '1846',\n",
       " '1850',\n",
       " '1851',\n",
       " '19',\n",
       " '1ST',\n",
       " '1st',\n",
       " '2',\n",
       " '20',\n",
       " '2000',\n",
       " '200th',\n",
       " '21',\n",
       " '21st',\n",
       " '22',\n",
       " '23',\n",
       " '24',\n",
       " '25',\n",
       " '26',\n",
       " '27',\n",
       " '275th',\n",
       " '28',\n",
       " '29',\n",
       " '2ND',\n",
       " '3',\n",
       " '30',\n",
       " '31',\n",
       " '31st',\n",
       " '32',\n",
       " '33',\n",
       " '34',\n",
       " '35',\n",
       " '36',\n",
       " '37',\n",
       " '38',\n",
       " '39',\n",
       " '3D',\n",
       " '3d',\n",
       " '4',\n",
       " '40',\n",
       " '400',\n",
       " '41',\n",
       " '42',\n",
       " '43',\n",
       " '44',\n",
       " '440',\n",
       " '45',\n",
       " '46',\n",
       " '47',\n",
       " '48',\n",
       " '49',\n",
       " '4TH',\n",
       " '5',\n",
       " '50',\n",
       " '500',\n",
       " '51',\n",
       " '52',\n",
       " '53',\n",
       " '54',\n",
       " '55',\n",
       " '550',\n",
       " '56',\n",
       " '57',\n",
       " '58',\n",
       " '59',\n",
       " '5TH',\n",
       " '6',\n",
       " '60',\n",
       " '61',\n",
       " '62',\n",
       " '63',\n",
       " '64',\n",
       " '65',\n",
       " '66',\n",
       " '67',\n",
       " '68',\n",
       " '69',\n",
       " '7',\n",
       " '70',\n",
       " '71',\n",
       " '72',\n",
       " '73',\n",
       " '74',\n",
       " '75',\n",
       " '76',\n",
       " '77',\n",
       " '78',\n",
       " '79',\n",
       " '8',\n",
       " '80',\n",
       " '800',\n",
       " '81',\n",
       " '82',\n",
       " '83',\n",
       " '84',\n",
       " '85',\n",
       " '86',\n",
       " '87',\n",
       " '88',\n",
       " '89',\n",
       " '890',\n",
       " '9',\n",
       " '90',\n",
       " '91',\n",
       " '92',\n",
       " '93',\n",
       " '94',\n",
       " '95',\n",
       " '96',\n",
       " '97',\n",
       " '98',\n",
       " '99',\n",
       " ':',\n",
       " ':\"-',\n",
       " ':--',\n",
       " ':--\"',\n",
       " \":--'\",\n",
       " ';',\n",
       " ';\"',\n",
       " ';\"--',\n",
       " ';\"--(',\n",
       " \";'\",\n",
       " ';*',\n",
       " ';--',\n",
       " ';--\"',\n",
       " \";--'\",\n",
       " '?',\n",
       " '?\"',\n",
       " '?\"--',\n",
       " \"?'\",\n",
       " \"?'--'\",\n",
       " '?--',\n",
       " '?--\"',\n",
       " \"?--'\",\n",
       " 'A',\n",
       " 'ABOUT',\n",
       " 'ACCOUNT',\n",
       " 'ADDITIONAL',\n",
       " 'ADVANCING',\n",
       " 'ADVENTURES',\n",
       " 'AFFGHANISTAN',\n",
       " 'AFRICA',\n",
       " 'AFTER',\n",
       " 'AGAINST',\n",
       " 'AHAB',\n",
       " 'ALFRED',\n",
       " 'ALGERINE',\n",
       " 'ALIVE',\n",
       " 'ALL',\n",
       " 'ALONE',\n",
       " 'AM',\n",
       " 'AMERICA',\n",
       " 'AMONG',\n",
       " 'ANCHORS',\n",
       " 'AND',\n",
       " 'ANGLO',\n",
       " 'ANIMAL',\n",
       " 'ANNALS',\n",
       " 'ANNUS',\n",
       " 'ANOTHER',\n",
       " 'ANY',\n",
       " 'APOLOGY',\n",
       " 'APPLICATION',\n",
       " 'APPROACHING',\n",
       " 'ARCTIC',\n",
       " 'ARE',\n",
       " 'AROUND',\n",
       " 'AS',\n",
       " 'ASCENDING',\n",
       " 'ASIA',\n",
       " 'ASIDE',\n",
       " 'ASPECT',\n",
       " 'AT',\n",
       " 'ATTACK',\n",
       " 'ATTACKED',\n",
       " 'ATTITUDES',\n",
       " 'AUGUST',\n",
       " 'AUTHOR',\n",
       " 'AZORE',\n",
       " 'Abashed',\n",
       " 'Abednego',\n",
       " 'Abel',\n",
       " 'Abjectus',\n",
       " 'Aboard',\n",
       " 'Abominable',\n",
       " 'About',\n",
       " 'Above',\n",
       " 'Abraham',\n",
       " 'Academy',\n",
       " 'Accessory',\n",
       " 'According',\n",
       " 'Accordingly',\n",
       " 'Accursed',\n",
       " 'Achilles',\n",
       " 'Actium',\n",
       " 'Acushnet',\n",
       " 'Adam',\n",
       " 'Adieu',\n",
       " 'Adios',\n",
       " 'Admiral',\n",
       " 'Admirals',\n",
       " 'Advance',\n",
       " 'Advancement',\n",
       " 'Adventures',\n",
       " 'Adverse',\n",
       " 'Advocate',\n",
       " 'Affected',\n",
       " 'Affidavit',\n",
       " 'Affrighted',\n",
       " 'Afric',\n",
       " 'Africa',\n",
       " 'African',\n",
       " 'Africans',\n",
       " 'Aft',\n",
       " 'After',\n",
       " 'Afterwards',\n",
       " 'Again',\n",
       " 'Against',\n",
       " 'Agassiz',\n",
       " 'Ages',\n",
       " 'Ah',\n",
       " 'Ahab',\n",
       " 'Ahabs',\n",
       " 'Ahasuerus',\n",
       " 'Ahaz',\n",
       " 'Ahoy',\n",
       " 'Ain',\n",
       " 'Air',\n",
       " 'Akin',\n",
       " 'Alabama',\n",
       " 'Aladdin',\n",
       " 'Alarmed',\n",
       " 'Alas',\n",
       " 'Albatross',\n",
       " 'Albemarle',\n",
       " 'Albert',\n",
       " 'Albicore',\n",
       " 'Albino',\n",
       " 'Aldrovandi',\n",
       " 'Aldrovandus',\n",
       " 'Alexander',\n",
       " 'Alexanders',\n",
       " 'Alfred',\n",
       " 'Algerine',\n",
       " 'Algiers',\n",
       " 'Alike',\n",
       " 'Alive',\n",
       " 'All',\n",
       " 'Alleghanian',\n",
       " 'Alleghanies',\n",
       " 'Alley',\n",
       " 'Almanack',\n",
       " 'Almighty',\n",
       " 'Almost',\n",
       " 'Aloft',\n",
       " 'Alone',\n",
       " 'Alps',\n",
       " 'Already',\n",
       " 'Also',\n",
       " 'Am',\n",
       " 'Ambergriese',\n",
       " 'Ambergris',\n",
       " 'Amelia',\n",
       " 'America',\n",
       " 'American',\n",
       " 'Americans',\n",
       " 'Americas',\n",
       " 'Amittai',\n",
       " 'Among',\n",
       " 'Amsterdam',\n",
       " 'An',\n",
       " 'Anacharsis',\n",
       " 'Anak',\n",
       " 'Anatomist',\n",
       " 'And',\n",
       " 'Andes',\n",
       " 'Andrew',\n",
       " 'Andromeda',\n",
       " 'Angel',\n",
       " 'Angelo',\n",
       " 'Angels',\n",
       " 'Animated',\n",
       " 'Annawon',\n",
       " 'Anne',\n",
       " 'Anno',\n",
       " 'Anomalous',\n",
       " 'Another',\n",
       " 'Answer',\n",
       " 'Antarctic',\n",
       " 'Antilles',\n",
       " 'Antiochus',\n",
       " 'Antony',\n",
       " 'Antwerp',\n",
       " 'Anvil',\n",
       " 'Any',\n",
       " 'Anyhow',\n",
       " 'Anything',\n",
       " 'Anyway',\n",
       " 'Apollo',\n",
       " 'Apoplexy',\n",
       " 'Applied',\n",
       " 'Apply',\n",
       " 'April',\n",
       " 'Aquarius',\n",
       " 'Arch',\n",
       " 'Archbishop',\n",
       " 'Arched',\n",
       " 'Archer',\n",
       " 'Archipelagoes',\n",
       " 'Archy',\n",
       " 'Arctic',\n",
       " 'Are',\n",
       " 'Arethusa',\n",
       " 'Argo',\n",
       " 'Aries',\n",
       " 'Arion',\n",
       " 'Aristotle',\n",
       " 'Ark',\n",
       " 'Arkansas',\n",
       " 'Arkite',\n",
       " 'Arm',\n",
       " 'Armada',\n",
       " 'Arnold',\n",
       " 'Aroostook',\n",
       " 'Around',\n",
       " 'Arrayed',\n",
       " 'Arrived',\n",
       " 'Arsacidean',\n",
       " 'Arsacides',\n",
       " 'Art',\n",
       " 'Artedi',\n",
       " 'Arter',\n",
       " 'Articles',\n",
       " 'As',\n",
       " 'Asa',\n",
       " 'Ashantee',\n",
       " 'Ashore',\n",
       " 'Asia',\n",
       " 'Asiatic',\n",
       " 'Asiatics',\n",
       " 'Aside',\n",
       " 'Asphaltites',\n",
       " 'Assaulted',\n",
       " 'Assume',\n",
       " 'Assuming',\n",
       " 'Assuredly',\n",
       " 'Assyrian',\n",
       " 'Astern',\n",
       " 'Astir',\n",
       " 'Astronomy',\n",
       " 'At',\n",
       " 'Atlantic',\n",
       " 'Atlantics',\n",
       " 'Attached',\n",
       " 'Attend',\n",
       " 'August',\n",
       " 'Aunt',\n",
       " 'Australia',\n",
       " 'Australian',\n",
       " 'Austrian',\n",
       " 'Author',\n",
       " 'Authors',\n",
       " 'Auto',\n",
       " 'Availing',\n",
       " 'Avast',\n",
       " 'Avatar',\n",
       " 'Aware',\n",
       " 'Away',\n",
       " 'Awful',\n",
       " 'Ay',\n",
       " 'Aye',\n",
       " 'Azores',\n",
       " 'BACK',\n",
       " 'BACKED',\n",
       " 'BACON',\n",
       " 'BALEINE',\n",
       " 'BALLENA',\n",
       " 'BANKS',\n",
       " 'BARON',\n",
       " 'BATTLE',\n",
       " 'BE',\n",
       " 'BEALE',\n",
       " 'BEFORE',\n",
       " 'BEING',\n",
       " 'BELFAST',\n",
       " 'BELOW',\n",
       " 'BENCH',\n",
       " 'BENNETT',\n",
       " 'BERMUDAS',\n",
       " 'BETWEEN',\n",
       " 'BEWARE',\n",
       " 'BIOGRAPHY',\n",
       " 'BIT',\n",
       " 'BLACK',\n",
       " 'BLACKSMITH',\n",
       " 'BLACKSTONE',\n",
       " 'BLOOD',\n",
       " 'BLOODY',\n",
       " 'BLOWS',\n",
       " 'BOARD',\n",
       " 'BOAT',\n",
       " 'BOATS',\n",
       " 'BOOK',\n",
       " 'BOOKS',\n",
       " 'BOSOM',\n",
       " 'BOTTOM',\n",
       " 'BOUTON',\n",
       " 'BRACE',\n",
       " 'BRACTON',\n",
       " 'BREACH',\n",
       " 'BREAKERS',\n",
       " 'BREAKWATER',\n",
       " 'BRIT',\n",
       " 'BROKE',\n",
       " 'BROTHER',\n",
       " 'BROWN',\n",
       " 'BROWNE',\n",
       " 'BURKE',\n",
       " 'BURST',\n",
       " 'BUSILY',\n",
       " 'BY',\n",
       " 'Babel',\n",
       " 'Babylon',\n",
       " 'Babylonian',\n",
       " 'Bachelor',\n",
       " 'Back',\n",
       " 'Backs',\n",
       " 'Bad',\n",
       " 'Baden',\n",
       " 'Bag',\n",
       " 'Balaene',\n",
       " 'Baliene',\n",
       " 'Baling',\n",
       " 'Bally',\n",
       " 'Baltic',\n",
       " 'Baltimore',\n",
       " 'Bamboo',\n",
       " 'Bang',\n",
       " 'Banks',\n",
       " 'Barbary',\n",
       " 'Bare',\n",
       " 'Bargain',\n",
       " 'Baron',\n",
       " 'Barrens',\n",
       " 'Bartholomew',\n",
       " 'Base',\n",
       " 'Bashaw',\n",
       " 'Bashee',\n",
       " 'Basilosaurus',\n",
       " 'Bastille',\n",
       " 'Battering',\n",
       " 'Battery',\n",
       " 'Bay',\n",
       " 'Bays',\n",
       " 'Be',\n",
       " 'Beach',\n",
       " 'Beale',\n",
       " 'Beams',\n",
       " 'Bear',\n",
       " 'Bears',\n",
       " 'Beat',\n",
       " 'Because',\n",
       " 'Becket',\n",
       " 'Bedford',\n",
       " 'Beelzebub',\n",
       " 'Befooled',\n",
       " 'Before',\n",
       " 'Begone',\n",
       " 'Behold',\n",
       " 'Behring',\n",
       " 'Being',\n",
       " 'Belated',\n",
       " 'Belial',\n",
       " 'Believe',\n",
       " 'Belisarius',\n",
       " 'Bell',\n",
       " 'Bellies',\n",
       " 'Beloved',\n",
       " 'Below',\n",
       " 'Belshazzar',\n",
       " 'Belubed',\n",
       " 'Bench',\n",
       " 'Bendigoes',\n",
       " 'Beneath',\n",
       " 'Bengal',\n",
       " 'Benjamin',\n",
       " 'Bennett',\n",
       " 'Bentham',\n",
       " 'Berkshire',\n",
       " 'Berlin',\n",
       " 'Bernard',\n",
       " 'Besides',\n",
       " 'Bess',\n",
       " 'Best',\n",
       " 'Bestow',\n",
       " 'Bethink',\n",
       " 'Better',\n",
       " 'Betty',\n",
       " 'Between',\n",
       " 'Beware',\n",
       " 'Beyond',\n",
       " 'Bible',\n",
       " 'Bibles',\n",
       " 'Bibliographical',\n",
       " 'Bildad',\n",
       " 'Biographical',\n",
       " 'Birmah',\n",
       " 'Bishop',\n",
       " 'Bite',\n",
       " 'Black',\n",
       " 'Blacksmith',\n",
       " 'Blackstone',\n",
       " 'Blanc',\n",
       " 'Blanche',\n",
       " 'Blanco',\n",
       " 'Blang',\n",
       " 'Blanket',\n",
       " 'Blast',\n",
       " 'Bless',\n",
       " 'Blind',\n",
       " 'Blinding',\n",
       " 'Blocksburg',\n",
       " 'Blood',\n",
       " 'Bloody',\n",
       " 'Blue',\n",
       " 'Boat',\n",
       " 'Boats',\n",
       " 'Bobbing',\n",
       " 'Bolivia',\n",
       " 'Bombay',\n",
       " 'Bonapartes',\n",
       " 'Bone',\n",
       " 'Bones',\n",
       " 'Bonneterre',\n",
       " 'Booble',\n",
       " 'Book',\n",
       " 'Boomer',\n",
       " 'Boone',\n",
       " 'Bordeaux',\n",
       " 'Borean',\n",
       " 'Born',\n",
       " 'Borneo',\n",
       " 'Bosom',\n",
       " 'Boston',\n",
       " 'Both',\n",
       " 'Bottle',\n",
       " 'Bottom',\n",
       " 'Bourbons',\n",
       " 'Bout',\n",
       " 'Bouton',\n",
       " 'Bowditch',\n",
       " 'Bower',\n",
       " 'Boy',\n",
       " 'Boys',\n",
       " 'Brace',\n",
       " 'Brahma',\n",
       " 'Brahmins',\n",
       " 'Brandreth',\n",
       " 'Brazil',\n",
       " 'Breakfast',\n",
       " 'Bremen',\n",
       " 'Bress',\n",
       " 'Bridge',\n",
       " 'Brighggians',\n",
       " 'Bright',\n",
       " 'Bring',\n",
       " 'Brisson',\n",
       " 'Brit',\n",
       " 'Britain',\n",
       " 'British',\n",
       " 'Britons',\n",
       " 'Broad',\n",
       " 'Broadway',\n",
       " 'Broke',\n",
       " 'Brother',\n",
       " 'Browne',\n",
       " 'Brute',\n",
       " 'Buckets',\n",
       " 'Bud',\n",
       " 'Buffalo',\n",
       " 'Bulkington',\n",
       " 'Bull',\n",
       " 'Bulwarks',\n",
       " 'Bunger',\n",
       " 'Bungle',\n",
       " 'Bunyan',\n",
       " 'Buoy',\n",
       " 'Buoyed',\n",
       " 'Burke',\n",
       " 'Burkes',\n",
       " 'Burst',\n",
       " 'Burton',\n",
       " 'Burtons',\n",
       " 'Business',\n",
       " 'But',\n",
       " 'Butchers',\n",
       " 'Butler',\n",
       " 'By',\n",
       " 'Byward',\n",
       " 'C',\n",
       " 'CABIN',\n",
       " 'CABINET',\n",
       " 'CANNY',\n",
       " 'CAP',\n",
       " 'CAPTAIN',\n",
       " 'CAPTAINS',\n",
       " 'CAPTORS',\n",
       " 'CARPENTER',\n",
       " 'CATCHES',\n",
       " 'CAULKING',\n",
       " 'CEASE',\n",
       " 'CETI',\n",
       " 'CETUS',\n",
       " 'CHACE',\n",
       " 'CHAPTER',\n",
       " 'CHAPTERS',\n",
       " 'CHARLES',\n",
       " 'CHEERLY',\n",
       " 'CHEEVER',\n",
       " 'CHIEF',\n",
       " 'CHINA',\n",
       " 'CHOP',\n",
       " 'CHORUS',\n",
       " 'CHRONICLER',\n",
       " 'CIRCUMNAVIGATION',\n",
       " 'CLEAN',\n",
       " 'CLOSES',\n",
       " 'CLUSTERS',\n",
       " 'COFFIN',\n",
       " 'COILS',\n",
       " 'COLEMAN',\n",
       " 'COLL',\n",
       " 'COLNETT',\n",
       " 'COMES',\n",
       " 'COMMERCIAL',\n",
       " 'COMMODORE',\n",
       " 'COMSTOCK',\n",
       " 'CONTESTED',\n",
       " 'CONTINUES',\n",
       " 'CONVERSATIONS',\n",
       " 'COOK',\n",
       " 'COOPER',\n",
       " 'COWLEY',\n",
       " 'COWPER',\n",
       " 'CREWS',\n",
       " 'CROW',\n",
       " 'CRUISE',\n",
       " 'CRUISING',\n",
       " 'CRUIZE',\n",
       " 'CURRENTS',\n",
       " 'CUVIER',\n",
       " 'Cabaco',\n",
       " 'Cabin',\n",
       " 'Cachalot',\n",
       " 'Cadiz',\n",
       " 'Caesar',\n",
       " 'Caesarian',\n",
       " 'Cain',\n",
       " 'Calais',\n",
       " 'Californian',\n",
       " 'Call',\n",
       " 'Callao',\n",
       " 'Cambyses',\n",
       " 'Camel',\n",
       " 'Campagna',\n",
       " 'Can',\n",
       " 'Canaan',\n",
       " 'Canada',\n",
       " 'Canadian',\n",
       " 'Canal',\n",
       " 'Canaller',\n",
       " 'Canallers',\n",
       " 'Canals',\n",
       " 'Canaris',\n",
       " 'Cancer',\n",
       " 'Candles',\n",
       " 'Cannibal',\n",
       " 'Cannibals',\n",
       " 'Cannon',\n",
       " 'Canst',\n",
       " 'Cant',\n",
       " 'Canterbury',\n",
       " 'Cap',\n",
       " 'Cape',\n",
       " 'Capes',\n",
       " 'Capricornus',\n",
       " 'Captain',\n",
       " 'Captains',\n",
       " 'Capting',\n",
       " 'Caramba',\n",
       " 'Careful',\n",
       " 'Carefully',\n",
       " 'Carey',\n",
       " 'Carpenter',\n",
       " 'Carpet',\n",
       " 'Carrol',\n",
       " 'Carson',\n",
       " 'Carthage',\n",
       " 'Caryatid',\n",
       " 'Case',\n",
       " 'Cash',\n",
       " 'Cassock',\n",
       " 'Castaway',\n",
       " 'Castle',\n",
       " 'Categut',\n",
       " 'Cathedral',\n",
       " 'Catholic',\n",
       " 'Cato',\n",
       " 'Catskill',\n",
       " 'Cattegat',\n",
       " 'Caught',\n",
       " 'Cave',\n",
       " 'Caw',\n",
       " 'Cellini',\n",
       " 'Central',\n",
       " 'Certain',\n",
       " 'Certainly',\n",
       " 'Cervantes',\n",
       " 'Cetacea',\n",
       " 'Cetacean',\n",
       " 'Cetology',\n",
       " 'Cetus',\n",
       " 'Ceylon',\n",
       " 'Chace',\n",
       " 'Chaldee',\n",
       " 'Champagne',\n",
       " 'Champollion',\n",
       " 'Channel',\n",
       " 'Chapel',\n",
       " 'Charing',\n",
       " 'Charity',\n",
       " 'Charlemagne',\n",
       " 'Charley',\n",
       " 'Chart',\n",
       " 'Chartering',\n",
       " 'Chase',\n",
       " 'Cheever',\n",
       " 'Cherries',\n",
       " 'Chestnut',\n",
       " 'Chief',\n",
       " 'Childe',\n",
       " 'Chili',\n",
       " 'Chilian',\n",
       " 'China',\n",
       " 'Chinese',\n",
       " 'Cholo',\n",
       " 'Chowder',\n",
       " 'Christ',\n",
       " 'Christendom',\n",
       " 'Christian',\n",
       " 'Christianity',\n",
       " 'Christians',\n",
       " 'Christmas',\n",
       " 'Church',\n",
       " 'Cinque',\n",
       " 'Circassian',\n",
       " 'Circumambulate',\n",
       " 'Cistern',\n",
       " 'Civitas',\n",
       " 'Clam',\n",
       " 'Clap',\n",
       " 'Claus',\n",
       " 'Clay',\n",
       " 'Clear',\n",
       " 'Clearing',\n",
       " 'Cleopatra',\n",
       " 'Cleveland',\n",
       " 'Clifford',\n",
       " 'Clinging',\n",
       " 'Clootz',\n",
       " 'Close',\n",
       " 'Closing',\n",
       " 'Cloud',\n",
       " 'Cluny',\n",
       " 'Coast',\n",
       " 'Cock',\n",
       " 'Cockatoo',\n",
       " 'Cod',\n",
       " 'Cods',\n",
       " 'Coenties',\n",
       " 'Coffin',\n",
       " 'Coffins',\n",
       " 'Cognac',\n",
       " 'Coke',\n",
       " 'Cold',\n",
       " 'Coleman',\n",
       " 'Coleridge',\n",
       " 'College',\n",
       " 'Colnett',\n",
       " 'Cologne',\n",
       " 'Colonies',\n",
       " 'Colossus',\n",
       " 'Columbus',\n",
       " 'Come',\n",
       " 'Coming',\n",
       " 'Commanded',\n",
       " 'Commanders',\n",
       " 'Commend',\n",
       " 'Commodore',\n",
       " 'Commodores',\n",
       " 'Common',\n",
       " 'Commonly',\n",
       " 'Commons',\n",
       " 'Commonwealth',\n",
       " 'Companies',\n",
       " 'Comparing',\n",
       " 'Concerning',\n",
       " 'Congo',\n",
       " 'Congregation',\n",
       " 'Congregational',\n",
       " 'Conjuror',\n",
       " 'Connecticut',\n",
       " 'Consequently',\n",
       " 'Consider',\n",
       " 'Considering',\n",
       " 'Constable',\n",
       " 'Constantine',\n",
       " 'Constantinople',\n",
       " 'Consumptive',\n",
       " 'Continents',\n",
       " 'Contrasted',\n",
       " 'Conversation',\n",
       " 'Convulsively',\n",
       " 'Cook',\n",
       " 'Cooke',\n",
       " 'Cooks',\n",
       " 'Cooper',\n",
       " 'Coopman',\n",
       " 'Copenhagen',\n",
       " 'Coppered',\n",
       " 'Corinthians',\n",
       " 'Corkscrew',\n",
       " 'Corlaer',\n",
       " 'Corlears',\n",
       " 'Coronation',\n",
       " 'Corresponding',\n",
       " 'Corrupt',\n",
       " 'Cough',\n",
       " 'Could',\n",
       " 'Count',\n",
       " 'Counterpane',\n",
       " 'County',\n",
       " 'Court',\n",
       " 'Cousin',\n",
       " 'Cowper',\n",
       " 'Crab',\n",
       " 'Crack',\n",
       " 'Crammer',\n",
       " 'Crappo',\n",
       " 'Crappoes',\n",
       " 'Crazed',\n",
       " 'Creagh',\n",
       " 'Created',\n",
       " 'Cretan',\n",
       " 'Crete',\n",
       " ...]"
      ]
     },
     "execution_count": 29,
     "metadata": {},
     "output_type": "execute_result"
    }
   ],
   "source": [
    "\n",
    "# sorted list of vocab beginning with punctuation, continuing with \n",
    "# words.\n",
    "sorted(set(text1))"
   ]
  },
  {
   "cell_type": "code",
   "execution_count": 30,
   "metadata": {},
   "outputs": [],
   "source": [
    "words = ['After', 'all', 'is', 'said', 'and', 'done', 'more', 'is', 'said', 'than', 'done']"
   ]
  },
  {
   "cell_type": "code",
   "execution_count": 31,
   "metadata": {},
   "outputs": [],
   "source": [
    "# get all the tokens of words\n",
    "# sort them\n",
    "# see them\n"
   ]
  },
  {
   "cell_type": "code",
   "execution_count": 32,
   "metadata": {},
   "outputs": [],
   "source": [
    "# reverse your tokens using list slicing\n"
   ]
  },
  {
   "cell_type": "markdown",
   "metadata": {},
   "source": [
    "## Frequency Distribution\n",
    "\n",
    "How can we automatically identify the words of a text that are most informative about the topic and genre of the text? "
   ]
  },
  {
   "cell_type": "code",
   "execution_count": 33,
   "metadata": {},
   "outputs": [
    {
     "data": {
      "text/plain": [
       "FreqDist({',': 18713, 'the': 13721, '.': 6862, 'of': 6536, 'and': 6024, 'a': 4569, 'to': 4542, ';': 4072, 'in': 3916, 'that': 2982, ...})"
      ]
     },
     "execution_count": 33,
     "metadata": {},
     "output_type": "execute_result"
    }
   ],
   "source": [
    "# FreqDist function creates a frequency distribution on text\n",
    "# call a frequency distribution and call it fdist1\n",
    "fdist = FreqDist(text1)\n",
    "fdist"
   ]
  },
  {
   "cell_type": "code",
   "execution_count": 34,
   "metadata": {},
   "outputs": [
    {
     "data": {
      "text/plain": [
       "['[', 'Moby', 'Dick', 'by', 'Herman']"
      ]
     },
     "execution_count": 34,
     "metadata": {},
     "output_type": "execute_result"
    }
   ],
   "source": [
    "# to create the vocabulary, get the keys of fdist1\n",
    "vocabulary = fdist.keys()\n",
    "# The expression keys() gives us a list of all the distinct types \n",
    "# in the text\n",
    "# see the first 50 words in the vocabulary. \n",
    "list(vocabulary)[:5]"
   ]
  },
  {
   "cell_type": "code",
   "execution_count": 35,
   "metadata": {},
   "outputs": [
    {
     "data": {
      "text/plain": [
       "1"
      ]
     },
     "execution_count": 35,
     "metadata": {},
     "output_type": "execute_result"
    }
   ],
   "source": [
    "# What is the frequency distribution of the word \"whale?\"\n",
    "fdist['Herman']\n"
   ]
  },
  {
   "cell_type": "code",
   "execution_count": 36,
   "metadata": {},
   "outputs": [
    {
     "data": {
      "image/png": "[encoded data removed]",
      "text/plain": [
       "<Figure size 432x288 with 1 Axes>"
      ]
     },
     "metadata": {
      "needs_background": "light"
     },
     "output_type": "display_data"
    },
    {
     "data": {
      "text/plain": [
       "<AxesSubplot:xlabel='Samples', ylabel='Cumulative Counts'>"
      ]
     },
     "execution_count": 36,
     "metadata": {},
     "output_type": "execute_result"
    }
   ],
   "source": [
    "# Plot the cumulative frequency distribution of fifty words\n",
    "\n",
    "fdist.plot(50, cumulative=True)"
   ]
  },
  {
   "cell_type": "code",
   "execution_count": 37,
   "metadata": {},
   "outputs": [],
   "source": [
    "# lenght of the text1\n"
   ]
  },
  {
   "cell_type": "code",
   "execution_count": 38,
   "metadata": {},
   "outputs": [],
   "source": [
    "# get the words that occur only once, i.e. hapaxes\n",
    "\n"
   ]
  },
  {
   "cell_type": "code",
   "execution_count": 39,
   "metadata": {},
   "outputs": [],
   "source": [
    "# What are the words in text4 that has length == 17\n",
    "\n"
   ]
  },
  {
   "cell_type": "markdown",
   "metadata": {},
   "source": [
    "## Conditionals\n",
    "* s.startswith(t)\n",
    "* s.endswith(t)\n",
    "* s.islower()\n",
    "* s.isupper()\n",
    "* s.isalpha() #Test if all characters in s are alphabetic\n",
    "* s.isdigit()\n",
    "* s.istitle() # Test if s is titlecased (all words in s have initial capitals)"
   ]
  },
  {
   "cell_type": "code",
   "execution_count": 53,
   "metadata": {},
   "outputs": [],
   "source": [
    "# capitalize all the letters in all the words in text1\n",
    "# write a list comprehension\n",
    "#[w.upper() for w in text1 if w.startswith('a')]\n",
    "\n",
    "\n"
   ]
  },
  {
   "cell_type": "code",
   "execution_count": 7,
   "metadata": {},
   "outputs": [],
   "source": [
    "# list all the words that start with a capital letter \n",
    "# in text6 in alphabetical order\n",
    "\n"
   ]
  },
  {
   "cell_type": "markdown",
   "metadata": {},
   "source": [
    "# Questions"
   ]
  },
  {
   "cell_type": "markdown",
   "metadata": {},
   "source": [
    "1) What is the difference between the following two lines? Which one will give a larger value? Will this be the case for other texts?\n",
    "\n",
    " * sorted(set([w.lower() for w in text1])\n",
    " * sorted([w.lower() for w in set(text1)])\n",
    " "
   ]
  },
  {
   "cell_type": "code",
   "execution_count": null,
   "metadata": {},
   "outputs": [],
   "source": []
  },
  {
   "cell_type": "markdown",
   "metadata": {},
   "source": [
    "2) Use a combination of for and if statements to loop over the words of the movie script for Monty Python and the Holy Grail (text6) and print all the uppercase words, one per line."
   ]
  },
  {
   "cell_type": "code",
   "execution_count": null,
   "metadata": {},
   "outputs": [],
   "source": []
  },
  {
   "cell_type": "markdown",
   "metadata": {},
   "source": [
    "3) Find all the four-letter words in the Chat Corpus (text5). With the help of a frequency distribution (FreqDist), show these words in decreasing order of frequency."
   ]
  },
  {
   "cell_type": "code",
   "execution_count": null,
   "metadata": {},
   "outputs": [],
   "source": []
  },
  {
   "cell_type": "markdown",
   "metadata": {},
   "source": [
    "4) Write expressions for finding all words in text6 that meet the following conditions.The result should be in the form of a list of words: ['word1', 'word2', ...].\n",
    "* Ending in ize\n",
    "* Containing the letter z\n",
    "* Containing the sequence of letters pt\n",
    "* All lowercase letters except for an initial capital (i.e., titlecase)"
   ]
  },
  {
   "cell_type": "code",
   "execution_count": null,
   "metadata": {},
   "outputs": [],
   "source": []
  }
 ],
 "metadata": {
  "kernelspec": {
   "display_name": "Python 3 (ipykernel)",
   "language": "python",
   "name": "python3"
  },
  "language_info": {
   "codemirror_mode": {
    "name": "ipython",
    "version": 3
   },
   "file_extension": ".py",
   "mimetype": "text/x-python",
   "name": "python",
   "nbconvert_exporter": "python",
   "pygments_lexer": "ipython3",
   "version": "3.8.5"
  }
 },
 "nbformat": 4,
 "nbformat_minor": 4
}
