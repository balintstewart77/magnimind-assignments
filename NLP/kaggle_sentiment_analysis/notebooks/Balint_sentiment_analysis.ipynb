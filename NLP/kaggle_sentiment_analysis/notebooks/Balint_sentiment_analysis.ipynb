{
 "cells": [
  {
   "cell_type": "markdown",
   "metadata": {},
   "source": [
    "import standard libraries"
   ]
  },
  {
   "cell_type": "code",
   "execution_count": 96,
   "metadata": {},
   "outputs": [],
   "source": [
    "import numpy as np\n",
    "import pandas as pd\n",
    "import matplotlib.pyplot as plt\n",
    "import seaborn as sns\n"
   ]
  },
  {
   "cell_type": "markdown",
   "metadata": {},
   "source": [
    "import text preprocessing libraries"
   ]
  },
  {
   "cell_type": "code",
   "execution_count": 97,
   "metadata": {},
   "outputs": [],
   "source": [
    "import nltk\n",
    "from nltk.corpus import stopwords\n",
    "from nltk.stem import WordNetLemmatizer\n",
    "from nltk.tokenize import word_tokenize\n",
    "import string\n",
    "import re"
   ]
  },
  {
   "cell_type": "markdown",
   "metadata": {},
   "source": [
    "import feature extraction, modeling and evaluation libraries"
   ]
  },
  {
   "cell_type": "code",
   "execution_count": 120,
   "metadata": {},
   "outputs": [],
   "source": [
    "# feature extraction\n",
    "from sklearn.feature_extraction.text import TfidfVectorizer\n",
    "\n",
    "from sklearn.model_selection import train_test_split\n",
    "from sklearn.model_selection import GridSearchCV\n",
    "\n",
    "\n",
    "# models\n",
    "from sklearn.naive_bayes import MultinomialNB\n",
    "from sklearn.linear_model import LogisticRegression\n",
    "from sklearn.ensemble import RandomForestClassifier\n",
    "from sklearn.svm import SVC\n",
    "\n",
    "from sklearn.metrics import accuracy_score, classification_report, confusion_matrix\n",
    "\n",
    "#pipeline\n",
    "from sklearn.pipeline import make_pipeline"
   ]
  },
  {
   "cell_type": "markdown",
   "metadata": {},
   "source": [
    "import train and test data"
   ]
  },
  {
   "cell_type": "code",
   "execution_count": 99,
   "metadata": {},
   "outputs": [
    {
     "data": {
      "text/html": [
       "<div>\n",
       "<style scoped>\n",
       "    .dataframe tbody tr th:only-of-type {\n",
       "        vertical-align: middle;\n",
       "    }\n",
       "\n",
       "    .dataframe tbody tr th {\n",
       "        vertical-align: top;\n",
       "    }\n",
       "\n",
       "    .dataframe thead th {\n",
       "        text-align: right;\n",
       "    }\n",
       "</style>\n",
       "<table border=\"1\" class=\"dataframe\">\n",
       "  <thead>\n",
       "    <tr style=\"text-align: right;\">\n",
       "      <th></th>\n",
       "      <th>textID</th>\n",
       "      <th>text</th>\n",
       "      <th>selected_text</th>\n",
       "      <th>sentiment</th>\n",
       "      <th>Time of Tweet</th>\n",
       "      <th>Age of User</th>\n",
       "      <th>Country</th>\n",
       "      <th>Population -2020</th>\n",
       "      <th>Land Area (Km²)</th>\n",
       "      <th>Density (P/Km²)</th>\n",
       "    </tr>\n",
       "  </thead>\n",
       "  <tbody>\n",
       "    <tr>\n",
       "      <th>0</th>\n",
       "      <td>cb774db0d1</td>\n",
       "      <td>I`d have responded, if I were going</td>\n",
       "      <td>I`d have responded, if I were going</td>\n",
       "      <td>neutral</td>\n",
       "      <td>morning</td>\n",
       "      <td>0-20</td>\n",
       "      <td>Afghanistan</td>\n",
       "      <td>38928346</td>\n",
       "      <td>652860.0</td>\n",
       "      <td>60</td>\n",
       "    </tr>\n",
       "    <tr>\n",
       "      <th>1</th>\n",
       "      <td>549e992a42</td>\n",
       "      <td>Sooo SAD I will miss you here in San Diego!!!</td>\n",
       "      <td>Sooo SAD</td>\n",
       "      <td>negative</td>\n",
       "      <td>noon</td>\n",
       "      <td>21-30</td>\n",
       "      <td>Albania</td>\n",
       "      <td>2877797</td>\n",
       "      <td>27400.0</td>\n",
       "      <td>105</td>\n",
       "    </tr>\n",
       "    <tr>\n",
       "      <th>2</th>\n",
       "      <td>088c60f138</td>\n",
       "      <td>my boss is bullying me...</td>\n",
       "      <td>bullying me</td>\n",
       "      <td>negative</td>\n",
       "      <td>night</td>\n",
       "      <td>31-45</td>\n",
       "      <td>Algeria</td>\n",
       "      <td>43851044</td>\n",
       "      <td>2381740.0</td>\n",
       "      <td>18</td>\n",
       "    </tr>\n",
       "    <tr>\n",
       "      <th>3</th>\n",
       "      <td>9642c003ef</td>\n",
       "      <td>what interview! leave me alone</td>\n",
       "      <td>leave me alone</td>\n",
       "      <td>negative</td>\n",
       "      <td>morning</td>\n",
       "      <td>46-60</td>\n",
       "      <td>Andorra</td>\n",
       "      <td>77265</td>\n",
       "      <td>470.0</td>\n",
       "      <td>164</td>\n",
       "    </tr>\n",
       "    <tr>\n",
       "      <th>4</th>\n",
       "      <td>358bd9e861</td>\n",
       "      <td>Sons of ****, why couldn`t they put them on t...</td>\n",
       "      <td>Sons of ****,</td>\n",
       "      <td>negative</td>\n",
       "      <td>noon</td>\n",
       "      <td>60-70</td>\n",
       "      <td>Angola</td>\n",
       "      <td>32866272</td>\n",
       "      <td>1246700.0</td>\n",
       "      <td>26</td>\n",
       "    </tr>\n",
       "  </tbody>\n",
       "</table>\n",
       "</div>"
      ],
      "text/plain": [
       "       textID                                               text  \\\n",
       "0  cb774db0d1                I`d have responded, if I were going   \n",
       "1  549e992a42      Sooo SAD I will miss you here in San Diego!!!   \n",
       "2  088c60f138                          my boss is bullying me...   \n",
       "3  9642c003ef                     what interview! leave me alone   \n",
       "4  358bd9e861   Sons of ****, why couldn`t they put them on t...   \n",
       "\n",
       "                         selected_text sentiment Time of Tweet Age of User  \\\n",
       "0  I`d have responded, if I were going   neutral       morning        0-20   \n",
       "1                             Sooo SAD  negative          noon       21-30   \n",
       "2                          bullying me  negative         night       31-45   \n",
       "3                       leave me alone  negative       morning       46-60   \n",
       "4                        Sons of ****,  negative          noon       60-70   \n",
       "\n",
       "       Country  Population -2020  Land Area (Km²)  Density (P/Km²)  \n",
       "0  Afghanistan          38928346         652860.0               60  \n",
       "1      Albania           2877797          27400.0              105  \n",
       "2      Algeria          43851044        2381740.0               18  \n",
       "3      Andorra             77265            470.0              164  \n",
       "4       Angola          32866272        1246700.0               26  "
      ]
     },
     "execution_count": 99,
     "metadata": {},
     "output_type": "execute_result"
    }
   ],
   "source": [
    "df_train = pd.read_csv(r'C:\\Users\\BalintStewart\\OneDrive - Health Data Research\\Desktop\\magnimind-assignments\\NLP\\kaggle_sentiment_analysis\\data\\train.csv', encoding= 'latin1')\n",
    "df_train.head()"
   ]
  },
  {
   "cell_type": "code",
   "execution_count": 100,
   "metadata": {},
   "outputs": [
    {
     "data": {
      "text/html": [
       "<div>\n",
       "<style scoped>\n",
       "    .dataframe tbody tr th:only-of-type {\n",
       "        vertical-align: middle;\n",
       "    }\n",
       "\n",
       "    .dataframe tbody tr th {\n",
       "        vertical-align: top;\n",
       "    }\n",
       "\n",
       "    .dataframe thead th {\n",
       "        text-align: right;\n",
       "    }\n",
       "</style>\n",
       "<table border=\"1\" class=\"dataframe\">\n",
       "  <thead>\n",
       "    <tr style=\"text-align: right;\">\n",
       "      <th></th>\n",
       "      <th>textID</th>\n",
       "      <th>text</th>\n",
       "      <th>sentiment</th>\n",
       "      <th>Time of Tweet</th>\n",
       "      <th>Age of User</th>\n",
       "      <th>Country</th>\n",
       "      <th>Population -2020</th>\n",
       "      <th>Land Area (Km²)</th>\n",
       "      <th>Density (P/Km²)</th>\n",
       "    </tr>\n",
       "  </thead>\n",
       "  <tbody>\n",
       "    <tr>\n",
       "      <th>0</th>\n",
       "      <td>f87dea47db</td>\n",
       "      <td>Last session of the day  http://twitpic.com/67ezh</td>\n",
       "      <td>neutral</td>\n",
       "      <td>morning</td>\n",
       "      <td>0-20</td>\n",
       "      <td>Afghanistan</td>\n",
       "      <td>38928346.0</td>\n",
       "      <td>652860.0</td>\n",
       "      <td>60.0</td>\n",
       "    </tr>\n",
       "    <tr>\n",
       "      <th>1</th>\n",
       "      <td>96d74cb729</td>\n",
       "      <td>Shanghai is also really exciting (precisely -...</td>\n",
       "      <td>positive</td>\n",
       "      <td>noon</td>\n",
       "      <td>21-30</td>\n",
       "      <td>Albania</td>\n",
       "      <td>2877797.0</td>\n",
       "      <td>27400.0</td>\n",
       "      <td>105.0</td>\n",
       "    </tr>\n",
       "    <tr>\n",
       "      <th>2</th>\n",
       "      <td>eee518ae67</td>\n",
       "      <td>Recession hit Veronique Branquinho, she has to...</td>\n",
       "      <td>negative</td>\n",
       "      <td>night</td>\n",
       "      <td>31-45</td>\n",
       "      <td>Algeria</td>\n",
       "      <td>43851044.0</td>\n",
       "      <td>2381740.0</td>\n",
       "      <td>18.0</td>\n",
       "    </tr>\n",
       "    <tr>\n",
       "      <th>3</th>\n",
       "      <td>01082688c6</td>\n",
       "      <td>happy bday!</td>\n",
       "      <td>positive</td>\n",
       "      <td>morning</td>\n",
       "      <td>46-60</td>\n",
       "      <td>Andorra</td>\n",
       "      <td>77265.0</td>\n",
       "      <td>470.0</td>\n",
       "      <td>164.0</td>\n",
       "    </tr>\n",
       "    <tr>\n",
       "      <th>4</th>\n",
       "      <td>33987a8ee5</td>\n",
       "      <td>http://twitpic.com/4w75p - I like it!!</td>\n",
       "      <td>positive</td>\n",
       "      <td>noon</td>\n",
       "      <td>60-70</td>\n",
       "      <td>Angola</td>\n",
       "      <td>32866272.0</td>\n",
       "      <td>1246700.0</td>\n",
       "      <td>26.0</td>\n",
       "    </tr>\n",
       "  </tbody>\n",
       "</table>\n",
       "</div>"
      ],
      "text/plain": [
       "       textID                                               text sentiment  \\\n",
       "0  f87dea47db  Last session of the day  http://twitpic.com/67ezh   neutral   \n",
       "1  96d74cb729   Shanghai is also really exciting (precisely -...  positive   \n",
       "2  eee518ae67  Recession hit Veronique Branquinho, she has to...  negative   \n",
       "3  01082688c6                                        happy bday!  positive   \n",
       "4  33987a8ee5             http://twitpic.com/4w75p - I like it!!  positive   \n",
       "\n",
       "  Time of Tweet Age of User      Country  Population -2020  Land Area (Km²)  \\\n",
       "0       morning        0-20  Afghanistan        38928346.0         652860.0   \n",
       "1          noon       21-30      Albania         2877797.0          27400.0   \n",
       "2         night       31-45      Algeria        43851044.0        2381740.0   \n",
       "3       morning       46-60      Andorra           77265.0            470.0   \n",
       "4          noon       60-70       Angola        32866272.0        1246700.0   \n",
       "\n",
       "   Density (P/Km²)  \n",
       "0             60.0  \n",
       "1            105.0  \n",
       "2             18.0  \n",
       "3            164.0  \n",
       "4             26.0  "
      ]
     },
     "execution_count": 100,
     "metadata": {},
     "output_type": "execute_result"
    }
   ],
   "source": [
    "df_test = pd.read_csv(r'C:\\Users\\BalintStewart\\OneDrive - Health Data Research\\Desktop\\magnimind-assignments\\NLP\\kaggle_sentiment_analysis\\data\\test.csv', encoding= 'latin1')\n",
    "df_test.head()"
   ]
  },
  {
   "cell_type": "markdown",
   "metadata": {},
   "source": [
    "# Some basic EDA to get a feel for the data"
   ]
  },
  {
   "cell_type": "code",
   "execution_count": 101,
   "metadata": {},
   "outputs": [
    {
     "data": {
      "text/plain": [
       "((27481, 10), (4815, 9))"
      ]
     },
     "execution_count": 101,
     "metadata": {},
     "output_type": "execute_result"
    }
   ],
   "source": [
    "df_train.shape, df_test.shape"
   ]
  },
  {
   "cell_type": "code",
   "execution_count": 102,
   "metadata": {},
   "outputs": [
    {
     "data": {
      "text/plain": [
       "textID              1281\n",
       "text                1281\n",
       "sentiment           1281\n",
       "Time of Tweet       1281\n",
       "Age of User         1281\n",
       "Country             1281\n",
       "Population -2020    1281\n",
       "Land Area (Km²)     1281\n",
       "Density (P/Km²)     1281\n",
       "dtype: int64"
      ]
     },
     "execution_count": 102,
     "metadata": {},
     "output_type": "execute_result"
    }
   ],
   "source": [
    "df_test.isna().sum()"
   ]
  },
  {
   "cell_type": "code",
   "execution_count": 103,
   "metadata": {},
   "outputs": [
    {
     "data": {
      "text/html": [
       "<div>\n",
       "<style scoped>\n",
       "    .dataframe tbody tr th:only-of-type {\n",
       "        vertical-align: middle;\n",
       "    }\n",
       "\n",
       "    .dataframe tbody tr th {\n",
       "        vertical-align: top;\n",
       "    }\n",
       "\n",
       "    .dataframe thead th {\n",
       "        text-align: right;\n",
       "    }\n",
       "</style>\n",
       "<table border=\"1\" class=\"dataframe\">\n",
       "  <thead>\n",
       "    <tr style=\"text-align: right;\">\n",
       "      <th></th>\n",
       "      <th>textID</th>\n",
       "      <th>text</th>\n",
       "      <th>sentiment</th>\n",
       "      <th>Time of Tweet</th>\n",
       "      <th>Age of User</th>\n",
       "      <th>Country</th>\n",
       "      <th>Population -2020</th>\n",
       "      <th>Land Area (Km²)</th>\n",
       "      <th>Density (P/Km²)</th>\n",
       "    </tr>\n",
       "  </thead>\n",
       "  <tbody>\n",
       "    <tr>\n",
       "      <th>1303</th>\n",
       "      <td>NaN</td>\n",
       "      <td>NaN</td>\n",
       "      <td>NaN</td>\n",
       "      <td>NaN</td>\n",
       "      <td>NaN</td>\n",
       "      <td>NaN</td>\n",
       "      <td>NaN</td>\n",
       "      <td>NaN</td>\n",
       "      <td>NaN</td>\n",
       "    </tr>\n",
       "    <tr>\n",
       "      <th>2141</th>\n",
       "      <td>NaN</td>\n",
       "      <td>NaN</td>\n",
       "      <td>NaN</td>\n",
       "      <td>NaN</td>\n",
       "      <td>NaN</td>\n",
       "      <td>NaN</td>\n",
       "      <td>NaN</td>\n",
       "      <td>NaN</td>\n",
       "      <td>NaN</td>\n",
       "    </tr>\n",
       "    <tr>\n",
       "      <th>2625</th>\n",
       "      <td>NaN</td>\n",
       "      <td>NaN</td>\n",
       "      <td>NaN</td>\n",
       "      <td>NaN</td>\n",
       "      <td>NaN</td>\n",
       "      <td>NaN</td>\n",
       "      <td>NaN</td>\n",
       "      <td>NaN</td>\n",
       "      <td>NaN</td>\n",
       "    </tr>\n",
       "    <tr>\n",
       "      <th>1056</th>\n",
       "      <td>NaN</td>\n",
       "      <td>NaN</td>\n",
       "      <td>NaN</td>\n",
       "      <td>NaN</td>\n",
       "      <td>NaN</td>\n",
       "      <td>NaN</td>\n",
       "      <td>NaN</td>\n",
       "      <td>NaN</td>\n",
       "      <td>NaN</td>\n",
       "    </tr>\n",
       "    <tr>\n",
       "      <th>439</th>\n",
       "      <td>NaN</td>\n",
       "      <td>NaN</td>\n",
       "      <td>NaN</td>\n",
       "      <td>NaN</td>\n",
       "      <td>NaN</td>\n",
       "      <td>NaN</td>\n",
       "      <td>NaN</td>\n",
       "      <td>NaN</td>\n",
       "      <td>NaN</td>\n",
       "    </tr>\n",
       "    <tr>\n",
       "      <th>4712</th>\n",
       "      <td>NaN</td>\n",
       "      <td>NaN</td>\n",
       "      <td>NaN</td>\n",
       "      <td>NaN</td>\n",
       "      <td>NaN</td>\n",
       "      <td>NaN</td>\n",
       "      <td>NaN</td>\n",
       "      <td>NaN</td>\n",
       "      <td>NaN</td>\n",
       "    </tr>\n",
       "    <tr>\n",
       "      <th>3870</th>\n",
       "      <td>NaN</td>\n",
       "      <td>NaN</td>\n",
       "      <td>NaN</td>\n",
       "      <td>NaN</td>\n",
       "      <td>NaN</td>\n",
       "      <td>NaN</td>\n",
       "      <td>NaN</td>\n",
       "      <td>NaN</td>\n",
       "      <td>NaN</td>\n",
       "    </tr>\n",
       "    <tr>\n",
       "      <th>4612</th>\n",
       "      <td>NaN</td>\n",
       "      <td>NaN</td>\n",
       "      <td>NaN</td>\n",
       "      <td>NaN</td>\n",
       "      <td>NaN</td>\n",
       "      <td>NaN</td>\n",
       "      <td>NaN</td>\n",
       "      <td>NaN</td>\n",
       "      <td>NaN</td>\n",
       "    </tr>\n",
       "    <tr>\n",
       "      <th>2275</th>\n",
       "      <td>NaN</td>\n",
       "      <td>NaN</td>\n",
       "      <td>NaN</td>\n",
       "      <td>NaN</td>\n",
       "      <td>NaN</td>\n",
       "      <td>NaN</td>\n",
       "      <td>NaN</td>\n",
       "      <td>NaN</td>\n",
       "      <td>NaN</td>\n",
       "    </tr>\n",
       "    <tr>\n",
       "      <th>826</th>\n",
       "      <td>NaN</td>\n",
       "      <td>NaN</td>\n",
       "      <td>NaN</td>\n",
       "      <td>NaN</td>\n",
       "      <td>NaN</td>\n",
       "      <td>NaN</td>\n",
       "      <td>NaN</td>\n",
       "      <td>NaN</td>\n",
       "      <td>NaN</td>\n",
       "    </tr>\n",
       "  </tbody>\n",
       "</table>\n",
       "</div>"
      ],
      "text/plain": [
       "     textID text sentiment Time of Tweet Age of User Country  \\\n",
       "1303    NaN  NaN       NaN           NaN         NaN     NaN   \n",
       "2141    NaN  NaN       NaN           NaN         NaN     NaN   \n",
       "2625    NaN  NaN       NaN           NaN         NaN     NaN   \n",
       "1056    NaN  NaN       NaN           NaN         NaN     NaN   \n",
       "439     NaN  NaN       NaN           NaN         NaN     NaN   \n",
       "4712    NaN  NaN       NaN           NaN         NaN     NaN   \n",
       "3870    NaN  NaN       NaN           NaN         NaN     NaN   \n",
       "4612    NaN  NaN       NaN           NaN         NaN     NaN   \n",
       "2275    NaN  NaN       NaN           NaN         NaN     NaN   \n",
       "826     NaN  NaN       NaN           NaN         NaN     NaN   \n",
       "\n",
       "      Population -2020  Land Area (Km²)  Density (P/Km²)  \n",
       "1303               NaN              NaN              NaN  \n",
       "2141               NaN              NaN              NaN  \n",
       "2625               NaN              NaN              NaN  \n",
       "1056               NaN              NaN              NaN  \n",
       "439                NaN              NaN              NaN  \n",
       "4712               NaN              NaN              NaN  \n",
       "3870               NaN              NaN              NaN  \n",
       "4612               NaN              NaN              NaN  \n",
       "2275               NaN              NaN              NaN  \n",
       "826                NaN              NaN              NaN  "
      ]
     },
     "execution_count": 103,
     "metadata": {},
     "output_type": "execute_result"
    }
   ],
   "source": [
    "df_test[df_test.isna()].sample(10)"
   ]
  },
  {
   "cell_type": "code",
   "execution_count": 104,
   "metadata": {},
   "outputs": [
    {
     "data": {
      "text/plain": [
       "textID              0\n",
       "text                1\n",
       "selected_text       1\n",
       "sentiment           0\n",
       "Time of Tweet       0\n",
       "Age of User         0\n",
       "Country             0\n",
       "Population -2020    0\n",
       "Land Area (Km²)     0\n",
       "Density (P/Km²)     0\n",
       "dtype: int64"
      ]
     },
     "execution_count": 104,
     "metadata": {},
     "output_type": "execute_result"
    }
   ],
   "source": [
    "df_train.isna().sum()"
   ]
  },
  {
   "cell_type": "code",
   "execution_count": 105,
   "metadata": {},
   "outputs": [],
   "source": [
    "df_train.dropna(inplace = True)\n",
    "df_test.dropna(inplace = True)"
   ]
  },
  {
   "cell_type": "code",
   "execution_count": 106,
   "metadata": {},
   "outputs": [
    {
     "data": {
      "text/plain": [
       "((27480, 10), (3534, 9))"
      ]
     },
     "execution_count": 106,
     "metadata": {},
     "output_type": "execute_result"
    }
   ],
   "source": [
    "df_train.shape, df_test.shape"
   ]
  },
  {
   "cell_type": "markdown",
   "metadata": {},
   "source": [
    "What is the 'train' 'test' split in my data, now that I've dropped a bunch of NA values from the test.csv data?"
   ]
  },
  {
   "cell_type": "code",
   "execution_count": 107,
   "metadata": {},
   "outputs": [
    {
     "data": {
      "text/plain": [
       "0.12860262008733625"
      ]
     },
     "execution_count": 107,
     "metadata": {},
     "output_type": "execute_result"
    }
   ],
   "source": [
    "3534 /27480"
   ]
  },
  {
   "cell_type": "markdown",
   "metadata": {},
   "source": [
    "87/13 split seems a little too much, may skew evaluation of my models because of small test set. Will combine both train (minus 'selected_text' column which is missing in 'test') into a single dataset and do train_test_split instead on this bigger dataset."
   ]
  },
  {
   "cell_type": "code",
   "execution_count": 108,
   "metadata": {},
   "outputs": [
    {
     "data": {
      "text/plain": [
       "Index(['textID', 'text', 'sentiment', 'Time of Tweet', 'Age of User',\n",
       "       'Country', 'Population -2020', 'Land Area (Km²)', 'Density (P/Km²)'],\n",
       "      dtype='object')"
      ]
     },
     "execution_count": 108,
     "metadata": {},
     "output_type": "execute_result"
    }
   ],
   "source": [
    "# Drop selected_text column from df_train so that concat works for all cols\n",
    "df_train.drop('selected_text', axis = 1, inplace=True)\n",
    "df_train.columns"
   ]
  },
  {
   "cell_type": "code",
   "execution_count": 109,
   "metadata": {},
   "outputs": [
    {
     "data": {
      "text/html": [
       "<div>\n",
       "<style scoped>\n",
       "    .dataframe tbody tr th:only-of-type {\n",
       "        vertical-align: middle;\n",
       "    }\n",
       "\n",
       "    .dataframe tbody tr th {\n",
       "        vertical-align: top;\n",
       "    }\n",
       "\n",
       "    .dataframe thead th {\n",
       "        text-align: right;\n",
       "    }\n",
       "</style>\n",
       "<table border=\"1\" class=\"dataframe\">\n",
       "  <thead>\n",
       "    <tr style=\"text-align: right;\">\n",
       "      <th></th>\n",
       "      <th>textID</th>\n",
       "      <th>text</th>\n",
       "      <th>sentiment</th>\n",
       "      <th>Time of Tweet</th>\n",
       "      <th>Age of User</th>\n",
       "      <th>Country</th>\n",
       "      <th>Population -2020</th>\n",
       "      <th>Land Area (Km²)</th>\n",
       "      <th>Density (P/Km²)</th>\n",
       "    </tr>\n",
       "  </thead>\n",
       "  <tbody>\n",
       "    <tr>\n",
       "      <th>0</th>\n",
       "      <td>cb774db0d1</td>\n",
       "      <td>I`d have responded, if I were going</td>\n",
       "      <td>neutral</td>\n",
       "      <td>morning</td>\n",
       "      <td>0-20</td>\n",
       "      <td>Afghanistan</td>\n",
       "      <td>38928346.0</td>\n",
       "      <td>652860.0</td>\n",
       "      <td>60.0</td>\n",
       "    </tr>\n",
       "    <tr>\n",
       "      <th>1</th>\n",
       "      <td>549e992a42</td>\n",
       "      <td>Sooo SAD I will miss you here in San Diego!!!</td>\n",
       "      <td>negative</td>\n",
       "      <td>noon</td>\n",
       "      <td>21-30</td>\n",
       "      <td>Albania</td>\n",
       "      <td>2877797.0</td>\n",
       "      <td>27400.0</td>\n",
       "      <td>105.0</td>\n",
       "    </tr>\n",
       "    <tr>\n",
       "      <th>2</th>\n",
       "      <td>088c60f138</td>\n",
       "      <td>my boss is bullying me...</td>\n",
       "      <td>negative</td>\n",
       "      <td>night</td>\n",
       "      <td>31-45</td>\n",
       "      <td>Algeria</td>\n",
       "      <td>43851044.0</td>\n",
       "      <td>2381740.0</td>\n",
       "      <td>18.0</td>\n",
       "    </tr>\n",
       "    <tr>\n",
       "      <th>3</th>\n",
       "      <td>9642c003ef</td>\n",
       "      <td>what interview! leave me alone</td>\n",
       "      <td>negative</td>\n",
       "      <td>morning</td>\n",
       "      <td>46-60</td>\n",
       "      <td>Andorra</td>\n",
       "      <td>77265.0</td>\n",
       "      <td>470.0</td>\n",
       "      <td>164.0</td>\n",
       "    </tr>\n",
       "    <tr>\n",
       "      <th>4</th>\n",
       "      <td>358bd9e861</td>\n",
       "      <td>Sons of ****, why couldn`t they put them on t...</td>\n",
       "      <td>negative</td>\n",
       "      <td>noon</td>\n",
       "      <td>60-70</td>\n",
       "      <td>Angola</td>\n",
       "      <td>32866272.0</td>\n",
       "      <td>1246700.0</td>\n",
       "      <td>26.0</td>\n",
       "    </tr>\n",
       "  </tbody>\n",
       "</table>\n",
       "</div>"
      ],
      "text/plain": [
       "       textID                                               text sentiment  \\\n",
       "0  cb774db0d1                I`d have responded, if I were going   neutral   \n",
       "1  549e992a42      Sooo SAD I will miss you here in San Diego!!!  negative   \n",
       "2  088c60f138                          my boss is bullying me...  negative   \n",
       "3  9642c003ef                     what interview! leave me alone  negative   \n",
       "4  358bd9e861   Sons of ****, why couldn`t they put them on t...  negative   \n",
       "\n",
       "  Time of Tweet Age of User      Country  Population -2020  Land Area (Km²)  \\\n",
       "0       morning        0-20  Afghanistan        38928346.0         652860.0   \n",
       "1          noon       21-30      Albania         2877797.0          27400.0   \n",
       "2         night       31-45      Algeria        43851044.0        2381740.0   \n",
       "3       morning       46-60      Andorra           77265.0            470.0   \n",
       "4          noon       60-70       Angola        32866272.0        1246700.0   \n",
       "\n",
       "   Density (P/Km²)  \n",
       "0             60.0  \n",
       "1            105.0  \n",
       "2             18.0  \n",
       "3            164.0  \n",
       "4             26.0  "
      ]
     },
     "execution_count": 109,
     "metadata": {},
     "output_type": "execute_result"
    }
   ],
   "source": [
    "# Combine the two datasets, and then create my own train test split\n",
    "df = pd.concat([df_train, df_test])\n",
    "df.head()"
   ]
  },
  {
   "cell_type": "markdown",
   "metadata": {},
   "source": [
    "Check if the target variable is balanced"
   ]
  },
  {
   "cell_type": "code",
   "execution_count": 110,
   "metadata": {},
   "outputs": [
    {
     "data": {
      "text/plain": [
       "Text(0.5, 1.0, 'sentiment count')"
      ]
     },
     "execution_count": 110,
     "metadata": {},
     "output_type": "execute_result"
    },
    {
     "data": {
      "image/png": "[encoded data removed]",
      "text/plain": [
       "<Figure size 640x480 with 1 Axes>"
      ]
     },
     "metadata": {},
     "output_type": "display_data"
    }
   ],
   "source": [
    "\n",
    "sns.countplot(x = df['sentiment'], data = df)\n",
    "plt.xlabel('sentiment')\n",
    "plt.title('sentiment count')"
   ]
  },
  {
   "cell_type": "markdown",
   "metadata": {},
   "source": [
    "Sentiment data is quite well balanced across the three classes"
   ]
  },
  {
   "cell_type": "markdown",
   "metadata": {},
   "source": [
    "Are features such as time of tweet, or age of user, affecting sentiment?"
   ]
  },
  {
   "cell_type": "code",
   "execution_count": 111,
   "metadata": {},
   "outputs": [
    {
     "data": {
      "text/plain": [
       "Text(0.5, 1.0, 'Sentiment distribution by Time of Tweet')"
      ]
     },
     "execution_count": 111,
     "metadata": {},
     "output_type": "execute_result"
    },
    {
     "data": {
      "image/png": "[encoded data removed]",
      "text/plain": [
       "<Figure size 640x480 with 1 Axes>"
      ]
     },
     "metadata": {},
     "output_type": "display_data"
    }
   ],
   "source": [
    "sns.countplot(x = 'sentiment', data = df, hue = 'Time of Tweet')\n",
    "plt.title('Sentiment distribution by Time of Tweet')"
   ]
  },
  {
   "cell_type": "code",
   "execution_count": 112,
   "metadata": {},
   "outputs": [
    {
     "data": {
      "text/plain": [
       "Text(0.5, 1.0, 'Sentiment distribution by age of user')"
      ]
     },
     "execution_count": 112,
     "metadata": {},
     "output_type": "execute_result"
    },
    {
     "data": {
      "image/png": "[encoded data removed]",
      "text/plain": [
       "<Figure size 640x480 with 1 Axes>"
      ]
     },
     "metadata": {},
     "output_type": "display_data"
    }
   ],
   "source": [
    "sns.countplot(x = 'sentiment', hue= 'Age of User', data = df )\n",
    "plt.title('Sentiment distribution by age of user')"
   ]
  },
  {
   "cell_type": "markdown",
   "metadata": {},
   "source": [
    "# Preprocessing the data "
   ]
  },
  {
   "cell_type": "markdown",
   "metadata": {},
   "source": [
    "Standard text cleaning to include lower casing, removing URLs, punctuation, mentions and hashtages.\n",
    "Then perform lemmatization, better than stemming this case as lemmatization retains more of the original meaning, rather than using eg. lancaster stemmer which uses aggressive rules to trim suffixes of words"
   ]
  },
  {
   "cell_type": "code",
   "execution_count": 113,
   "metadata": {},
   "outputs": [],
   "source": [
    "# Initiaize the lemmatizer, stop words\n",
    "lemmatizer = WordNetLemmatizer()\n",
    "stop_words = set(stopwords.words('english'))"
   ]
  },
  {
   "cell_type": "code",
   "execution_count": 114,
   "metadata": {},
   "outputs": [],
   "source": [
    "# Write function to clean text\n",
    "def clean_text(text):\n",
    "    text = text.lower() # lowercase the text data\n",
    "    text = re.sub(r\"http\\S+|www\\S+|https\\S+\", '', text, flags= re.MULTILINE) # remove URLs from the data\n",
    "    text = re.sub(r'\\@\\w+|\\#', '', text) # remove mentions/hastags\n",
    "    text = re.sub(r'[^\\w\\s]', '', text)  # Remove punctuation\n",
    "    text = \" \".join([lemmatizer.lemmatize(word) for word in text.split() if word not in stop_words])  # Remove stopwords and lemmatize\n",
    "    return text"
   ]
  },
  {
   "cell_type": "code",
   "execution_count": 115,
   "metadata": {},
   "outputs": [
    {
     "data": {
      "text/html": [
       "<div>\n",
       "<style scoped>\n",
       "    .dataframe tbody tr th:only-of-type {\n",
       "        vertical-align: middle;\n",
       "    }\n",
       "\n",
       "    .dataframe tbody tr th {\n",
       "        vertical-align: top;\n",
       "    }\n",
       "\n",
       "    .dataframe thead th {\n",
       "        text-align: right;\n",
       "    }\n",
       "</style>\n",
       "<table border=\"1\" class=\"dataframe\">\n",
       "  <thead>\n",
       "    <tr style=\"text-align: right;\">\n",
       "      <th></th>\n",
       "      <th>text</th>\n",
       "      <th>cleaned_text</th>\n",
       "    </tr>\n",
       "  </thead>\n",
       "  <tbody>\n",
       "    <tr>\n",
       "      <th>0</th>\n",
       "      <td>I`d have responded, if I were going</td>\n",
       "      <td>id responded going</td>\n",
       "    </tr>\n",
       "    <tr>\n",
       "      <th>1</th>\n",
       "      <td>Sooo SAD I will miss you here in San Diego!!!</td>\n",
       "      <td>sooo sad miss san diego</td>\n",
       "    </tr>\n",
       "    <tr>\n",
       "      <th>2</th>\n",
       "      <td>my boss is bullying me...</td>\n",
       "      <td>bos bullying</td>\n",
       "    </tr>\n",
       "    <tr>\n",
       "      <th>3</th>\n",
       "      <td>what interview! leave me alone</td>\n",
       "      <td>interview leave alone</td>\n",
       "    </tr>\n",
       "    <tr>\n",
       "      <th>4</th>\n",
       "      <td>Sons of ****, why couldn`t they put them on t...</td>\n",
       "      <td>son couldnt put release already bought</td>\n",
       "    </tr>\n",
       "  </tbody>\n",
       "</table>\n",
       "</div>"
      ],
      "text/plain": [
       "                                                text  \\\n",
       "0                I`d have responded, if I were going   \n",
       "1      Sooo SAD I will miss you here in San Diego!!!   \n",
       "2                          my boss is bullying me...   \n",
       "3                     what interview! leave me alone   \n",
       "4   Sons of ****, why couldn`t they put them on t...   \n",
       "\n",
       "                             cleaned_text  \n",
       "0                      id responded going  \n",
       "1                 sooo sad miss san diego  \n",
       "2                            bos bullying  \n",
       "3                   interview leave alone  \n",
       "4  son couldnt put release already bought  "
      ]
     },
     "execution_count": 115,
     "metadata": {},
     "output_type": "execute_result"
    }
   ],
   "source": [
    "# Apply the cleaning function to the 'text' column\n",
    "df['cleaned_text'] = df['text'].apply(lambda x: clean_text(str(x)))\n",
    "\n",
    "# Display a sample of the cleaned text to verify\n",
    "df[['text', 'cleaned_text']].head()"
   ]
  },
  {
   "cell_type": "markdown",
   "metadata": {},
   "source": [
    "# Transform text data into numerical features for model training, try a few different models"
   ]
  },
  {
   "cell_type": "markdown",
   "metadata": {},
   "source": [
    "Will use tf-idf for vectorisation. This approach takes into account word frequency across the corpus rather than simple count matrix, commone words across the corpus weighted lower"
   ]
  },
  {
   "cell_type": "code",
   "execution_count": 116,
   "metadata": {},
   "outputs": [],
   "source": [
    "# Split the concatenated data into train and test splits\n",
    "X_train, X_test, y_train, y_test = train_test_split(df['cleaned_text'],  df['sentiment'], random_state =42)"
   ]
  },
  {
   "cell_type": "code",
   "execution_count": 117,
   "metadata": {},
   "outputs": [],
   "source": [
    "# Vectorise the train data\n",
    "tfidf = TfidfVectorizer()\n",
    "X_train_tfidf = tfidf.fit_transform(X_train)\n",
    "\n",
    "#fit the vectoriser on the test data\n",
    "X_test_tfidf = tfidf.transform(X_test)"
   ]
  },
  {
   "cell_type": "code",
   "execution_count": 118,
   "metadata": {},
   "outputs": [
    {
     "name": "stdout",
     "output_type": "stream",
     "text": [
      "Logistic Regression Accuracy: 0.6897\n",
      "Classification Report for Logistic Regression:\n",
      "              precision    recall  f1-score   support\n",
      "\n",
      "    negative       0.71      0.58      0.64      2162\n",
      "     neutral       0.63      0.75      0.68      3151\n",
      "    positive       0.78      0.71      0.74      2441\n",
      "\n",
      "    accuracy                           0.69      7754\n",
      "   macro avg       0.71      0.68      0.69      7754\n",
      "weighted avg       0.70      0.69      0.69      7754\n",
      "\n",
      "Confusion Matrix for Logistic Regression:\n",
      "[[1250  792  120]\n",
      " [ 413 2361  377]\n",
      " [  88  616 1737]]\n",
      "Support Vector Machine Accuracy: 0.7096\n",
      "Classification Report for Support Vector Machine:\n",
      "              precision    recall  f1-score   support\n",
      "\n",
      "    negative       0.73      0.60      0.66      2162\n",
      "     neutral       0.65      0.77      0.70      3151\n",
      "    positive       0.79      0.73      0.76      2441\n",
      "\n",
      "    accuracy                           0.71      7754\n",
      "   macro avg       0.72      0.70      0.71      7754\n",
      "weighted avg       0.72      0.71      0.71      7754\n",
      "\n",
      "Confusion Matrix for Support Vector Machine:\n",
      "[[1299  751  112]\n",
      " [ 379 2422  350]\n",
      " [  97  563 1781]]\n",
      "Random Forest Accuracy: 0.7034\n",
      "Classification Report for Random Forest:\n",
      "              precision    recall  f1-score   support\n",
      "\n",
      "    negative       0.73      0.59      0.65      2162\n",
      "     neutral       0.65      0.74      0.69      3151\n",
      "    positive       0.76      0.76      0.76      2441\n",
      "\n",
      "    accuracy                           0.70      7754\n",
      "   macro avg       0.71      0.70      0.70      7754\n",
      "weighted avg       0.71      0.70      0.70      7754\n",
      "\n",
      "Confusion Matrix for Random Forest:\n",
      "[[1268  737  157]\n",
      " [ 377 2335  439]\n",
      " [  89  501 1851]]\n",
      "Naive Bayes Accuracy: 0.6163\n",
      "Classification Report for Naive Bayes:\n",
      "              precision    recall  f1-score   support\n",
      "\n",
      "    negative       0.76      0.39      0.51      2162\n",
      "     neutral       0.53      0.82      0.65      3151\n",
      "    positive       0.75      0.55      0.64      2441\n",
      "\n",
      "    accuracy                           0.62      7754\n",
      "   macro avg       0.68      0.59      0.60      7754\n",
      "weighted avg       0.67      0.62      0.61      7754\n",
      "\n",
      "Confusion Matrix for Naive Bayes:\n",
      "[[ 835 1240   87]\n",
      " [ 204 2595  352]\n",
      " [  53 1039 1349]]\n"
     ]
    }
   ],
   "source": [
    "# Define the models\n",
    "models = {\n",
    "    \"Logistic Regression\": LogisticRegression(max_iter=200, random_state=42),\n",
    "    \"Support Vector Machine\": SVC(kernel='linear', random_state=42),\n",
    "    \"Random Forest\": RandomForestClassifier(n_estimators=100, random_state=42),\n",
    "    \"Naive Bayes\": MultinomialNB()\n",
    "}\n",
    "\n",
    "# Dictionary to store performance metrics\n",
    "performance = {}\n",
    "\n",
    "# Train and evaluate each model\n",
    "for model_name, model in models.items():\n",
    "    # Train the model\n",
    "    model.fit(X_train_tfidf, y_train)\n",
    "    \n",
    "    # Make predictions\n",
    "    y_pred = model.predict(X_test_tfidf)\n",
    "    \n",
    "    # Evaluate the model\n",
    "    accuracy = accuracy_score(y_test, y_pred)\n",
    "    report = classification_report(y_test, y_pred)\n",
    "    cm = confusion_matrix(y_test, y_pred)\n",
    "    \n",
    "    # Store performance\n",
    "    performance[model_name] = {\n",
    "        \"Accuracy\": accuracy,\n",
    "        \"Classification Report\": report,\n",
    "        \"Confusion Matrix\": cm\n",
    "    }\n",
    "    \n",
    "    # Print performance\n",
    "    print(f\"{model_name} Accuracy: {accuracy:.4f}\")\n",
    "    print(f\"Classification Report for {model_name}:\\n{report}\")\n",
    "    print(f\"Confusion Matrix for {model_name}:\\n{cm}\")"
   ]
  },
  {
   "cell_type": "code",
   "execution_count": 126,
   "metadata": {},
   "outputs": [
    {
     "data": {
      "image/png": "[encoded data removed]",
      "text/plain": [
       "<Figure size 1000x600 with 1 Axes>"
      ]
     },
     "metadata": {},
     "output_type": "display_data"
    },
    {
     "data": {
      "image/png": "[encoded data removed]",
      "text/plain": [
       "<Figure size 1000x600 with 1 Axes>"
      ]
     },
     "metadata": {},
     "output_type": "display_data"
    }
   ],
   "source": [
    "# Extract metrics for visualization\n",
    "accuracy_scores = [performance[model][\"Accuracy\"] for model in models.keys()]\n",
    "f1_scores_negative = [performance[model][\"Classification Report\"].split()[10] for model in models.keys()]\n",
    "f1_scores_neutral = [performance[model][\"Classification Report\"].split()[15] for model in models.keys()]\n",
    "f1_scores_positive = [performance[model][\"Classification Report\"].split()[20] for model in models.keys()]\n",
    "\n",
    "model_names = list(models.keys())\n",
    "\n",
    "# Convert F1-scores from strings to floats\n",
    "f1_scores_negative = list(map(float, f1_scores_negative))\n",
    "f1_scores_neutral = list(map(float, f1_scores_neutral))\n",
    "f1_scores_positive = list(map(float, f1_scores_positive))\n",
    "\n",
    "df_metrics = pd.DataFrame({\n",
    "    \"Model\": model_names,\n",
    "    \"Accuracy\": accuracy_scores,\n",
    "    \"F1 Negative\": f1_scores_negative,\n",
    "    \"F1 Neutral\": f1_scores_neutral,\n",
    "    \"F1 Positive\": f1_scores_positive\n",
    "})\n",
    "\n",
    "# Plot Accuracy Scores\n",
    "plt.figure(figsize=(10, 6))\n",
    "plt.bar(df_metrics[\"Model\"], df_metrics[\"Accuracy\"])\n",
    "plt.title(\"Model Comparison - Accuracy\")\n",
    "plt.xlabel(\"Model\")\n",
    "plt.ylabel(\"Accuracy Score\")\n",
    "plt.ylim(0, 1)\n",
    "plt.show()\n",
    "\n",
    "# Plot F1 Scores for each class\n",
    "df_metrics.plot(x=\"Model\", y=[\"F1 Negative\", \"F1 Neutral\", \"F1 Positive\"], kind=\"bar\", figsize=(10, 6))\n",
    "plt.title(\"Model Comparison - F1 Scores by Class\")\n",
    "plt.xlabel(\"Model\")\n",
    "plt.ylabel(\"F1 Score\")\n",
    "plt.ylim(0, 1)\n",
    "plt.legend(title=\"Class\")\n",
    "plt.show()"
   ]
  },
  {
   "cell_type": "markdown",
   "metadata": {},
   "source": [
    "Logistic regression, SVM and Random Forest all performing well. Try fine-tuning these"
   ]
  },
  {
   "cell_type": "code",
   "execution_count": null,
   "metadata": {},
   "outputs": [
    {
     "name": "stdout",
     "output_type": "stream",
     "text": [
      "Best Logistic Regression parameters: {'C': 1, 'solver': 'lbfgs'}\n",
      "Best Logistic Regression accuracy: 0.68061049011178\n"
     ]
    }
   ],
   "source": [
    "# Fine-tune logistic regression\n",
    "param_grid_lr = {\n",
    "    'C': [0.01, 0.1, 1, 10],\n",
    "    'solver': ['liblinear', 'lbfgs']\n",
    "}\n",
    "\n",
    "grid_lr = GridSearchCV(LogisticRegression(max_iter=200, random_state=42), param_grid_lr, cv=5, scoring='accuracy')\n",
    "grid_lr.fit(X_train_tfidf, y_train)\n",
    "print(f\"Best Logistic Regression parameters: {grid_lr.best_params_}\")\n",
    "print(f\"Best Logistic Regression accuracy: {grid_lr.best_score_}\")"
   ]
  },
  {
   "cell_type": "code",
   "execution_count": 124,
   "metadata": {},
   "outputs": [],
   "source": [
    "# Fine-tune SVM\n",
    "# param_grid_svm = {\n",
    "#    'C': [0.1, 1, 10],\n",
    "#    'kernel': ['linear', 'rbf']\n",
    "#}\n",
    "\n",
    "#grid_svm = GridSearchCV(SVC(random_state=42), param_grid_svm, cv=5, scoring='accuracy')\n",
    "#grid_svm.fit(X_train_tfidf, y_train)\n",
    "#print(f\"Best SVM parameters: {grid_svm.best_params_}\")\n",
    "#print(f\"Best SVM accuracy: {grid_svm.best_score_}\")"
   ]
  },
  {
   "cell_type": "code",
   "execution_count": null,
   "metadata": {},
   "outputs": [
    {
     "name": "stdout",
     "output_type": "stream",
     "text": [
      "Fitting 5 folds for each of 324 candidates, totalling 1620 fits\n"
     ]
    },
    {
     "name": "stderr",
     "output_type": "stream",
     "text": [
      "c:\\Users\\BalintStewart\\AppData\\Local\\Programs\\Python\\Python312\\Lib\\site-packages\\sklearn\\model_selection\\_validation.py:540: FitFailedWarning: \n",
      "540 fits failed out of a total of 1620.\n",
      "The score on these train-test partitions for these parameters will be set to nan.\n",
      "If these failures are not expected, you can try to debug them by setting error_score='raise'.\n",
      "\n",
      "Below are more details about the failures:\n",
      "--------------------------------------------------------------------------------\n",
      "195 fits failed with the following error:\n",
      "Traceback (most recent call last):\n",
      "  File \"c:\\Users\\BalintStewart\\AppData\\Local\\Programs\\Python\\Python312\\Lib\\site-packages\\sklearn\\model_selection\\_validation.py\", line 888, in _fit_and_score\n",
      "    estimator.fit(X_train, y_train, **fit_params)\n",
      "  File \"c:\\Users\\BalintStewart\\AppData\\Local\\Programs\\Python\\Python312\\Lib\\site-packages\\sklearn\\base.py\", line 1466, in wrapper\n",
      "    estimator._validate_params()\n",
      "  File \"c:\\Users\\BalintStewart\\AppData\\Local\\Programs\\Python\\Python312\\Lib\\site-packages\\sklearn\\base.py\", line 666, in _validate_params\n",
      "    validate_parameter_constraints(\n",
      "  File \"c:\\Users\\BalintStewart\\AppData\\Local\\Programs\\Python\\Python312\\Lib\\site-packages\\sklearn\\utils\\_param_validation.py\", line 95, in validate_parameter_constraints\n",
      "    raise InvalidParameterError(\n",
      "sklearn.utils._param_validation.InvalidParameterError: The 'max_features' parameter of RandomForestClassifier must be an int in the range [1, inf), a float in the range (0.0, 1.0], a str among {'log2', 'sqrt'} or None. Got 'auto' instead.\n",
      "\n",
      "--------------------------------------------------------------------------------\n",
      "345 fits failed with the following error:\n",
      "Traceback (most recent call last):\n",
      "  File \"c:\\Users\\BalintStewart\\AppData\\Local\\Programs\\Python\\Python312\\Lib\\site-packages\\sklearn\\model_selection\\_validation.py\", line 888, in _fit_and_score\n",
      "    estimator.fit(X_train, y_train, **fit_params)\n",
      "  File \"c:\\Users\\BalintStewart\\AppData\\Local\\Programs\\Python\\Python312\\Lib\\site-packages\\sklearn\\base.py\", line 1466, in wrapper\n",
      "    estimator._validate_params()\n",
      "  File \"c:\\Users\\BalintStewart\\AppData\\Local\\Programs\\Python\\Python312\\Lib\\site-packages\\sklearn\\base.py\", line 666, in _validate_params\n",
      "    validate_parameter_constraints(\n",
      "  File \"c:\\Users\\BalintStewart\\AppData\\Local\\Programs\\Python\\Python312\\Lib\\site-packages\\sklearn\\utils\\_param_validation.py\", line 95, in validate_parameter_constraints\n",
      "    raise InvalidParameterError(\n",
      "sklearn.utils._param_validation.InvalidParameterError: The 'max_features' parameter of RandomForestClassifier must be an int in the range [1, inf), a float in the range (0.0, 1.0], a str among {'sqrt', 'log2'} or None. Got 'auto' instead.\n",
      "\n",
      "  warnings.warn(some_fits_failed_message, FitFailedWarning)\n",
      "c:\\Users\\BalintStewart\\AppData\\Local\\Programs\\Python\\Python312\\Lib\\site-packages\\sklearn\\model_selection\\_search.py:1102: UserWarning: One or more of the test scores are non-finite: [       nan        nan        nan        nan        nan        nan\n",
      "        nan        nan        nan        nan        nan        nan\n",
      "        nan        nan        nan        nan        nan        nan\n",
      "        nan        nan        nan        nan        nan        nan\n",
      "        nan        nan        nan 0.69368014 0.69509888 0.69419604\n",
      " 0.69359415 0.69604471 0.69694755 0.69505589 0.69643164 0.69746346\n",
      " 0.69462597 0.69699054 0.69849527 0.6955288  0.69789338 0.6983233\n",
      " 0.6955288  0.69763543 0.6977644  0.6899828  0.69204643 0.69312124\n",
      " 0.6899828  0.69204643 0.69312124 0.68993981 0.69213242 0.69337919\n",
      " 0.65563199 0.66595013 0.66874463 0.66255374 0.66895959 0.67089424\n",
      " 0.66663801 0.67312984 0.67532244 0.4044712  0.40417025 0.40408426\n",
      " 0.4044712  0.40412726 0.40404127 0.4044712  0.40412726 0.40404127\n",
      " 0.40395529 0.40395529 0.40395529 0.40395529 0.40395529 0.40395529\n",
      " 0.40395529 0.40395529 0.40395529        nan        nan        nan\n",
      "        nan        nan        nan        nan        nan        nan\n",
      "        nan        nan        nan        nan        nan        nan\n",
      "        nan        nan        nan        nan        nan        nan\n",
      "        nan        nan        nan        nan        nan        nan\n",
      " 0.44737747 0.44290628 0.43688736 0.44806535 0.44204643 0.43688736\n",
      " 0.44737747 0.44234738 0.43710232 0.44428203 0.44114359 0.4355546\n",
      " 0.44428203 0.44105761 0.4355546  0.44380911 0.44144454 0.43538263\n",
      " 0.44423904 0.44062769 0.43572657 0.44423904 0.44062769 0.43572657\n",
      " 0.44458298 0.44122958 0.43572657 0.40395529 0.40395529 0.40395529\n",
      " 0.40395529 0.40395529 0.40395529 0.40395529 0.40395529 0.40395529\n",
      " 0.40395529 0.40395529 0.40395529 0.40395529 0.40395529 0.40395529\n",
      " 0.40395529 0.40395529 0.40395529 0.40395529 0.40395529 0.40395529\n",
      " 0.40395529 0.40395529 0.40395529 0.40395529 0.40395529 0.40395529\n",
      "        nan        nan        nan        nan        nan        nan\n",
      "        nan        nan        nan        nan        nan        nan\n",
      "        nan        nan        nan        nan        nan        nan\n",
      "        nan        nan        nan        nan        nan        nan\n",
      "        nan        nan        nan 0.50464316 0.50365434 0.48847807\n",
      " 0.50520206 0.50460017 0.48843508 0.50477214 0.50305245 0.48895099\n",
      " 0.49621668 0.49462597 0.48207223 0.49699054 0.49436801 0.48155632\n",
      " 0.49630267 0.4938951  0.4816423  0.49539983 0.49406707 0.48013758\n",
      " 0.49539983 0.49406707 0.48013758 0.49514187 0.49376612 0.48043852\n",
      " 0.4044282  0.40395529 0.40395529 0.40434222 0.40395529 0.40395529\n",
      " 0.40434222 0.40395529 0.40395529 0.40399828 0.40395529 0.40395529\n",
      " 0.40399828 0.40395529 0.40395529 0.40399828 0.40395529 0.40395529\n",
      " 0.40395529 0.40395529 0.40395529 0.40395529 0.40395529 0.40395529\n",
      " 0.40395529 0.40395529 0.40395529        nan        nan        nan\n",
      "        nan        nan        nan        nan        nan        nan\n",
      "        nan        nan        nan        nan        nan        nan\n",
      "        nan        nan        nan        nan        nan        nan\n",
      "        nan        nan        nan        nan        nan        nan\n",
      " 0.55438521 0.56646604 0.56306965 0.55623388 0.56590714 0.56182287\n",
      " 0.55356836 0.56543422 0.56225279 0.54273431 0.55180567 0.54122958\n",
      " 0.54247635 0.55154772 0.54251935 0.54230439 0.55094583 0.54256234\n",
      " 0.54230439 0.54785039 0.53869304 0.54230439 0.54785039 0.53869304\n",
      " 0.54118659 0.54802236 0.53843508 0.40571797 0.40417025 0.40438521\n",
      " 0.40533104 0.40417025 0.40429923 0.40541702 0.40412726 0.40408426\n",
      " 0.40412726 0.40395529 0.40395529 0.40412726 0.40395529 0.40395529\n",
      " 0.40412726 0.40395529 0.40395529 0.40395529 0.40395529 0.40395529\n",
      " 0.40395529 0.40395529 0.40395529 0.40395529 0.40395529 0.40395529]\n",
      "  warnings.warn(\n"
     ]
    },
    {
     "name": "stdout",
     "output_type": "stream",
     "text": [
      "Best Parameters: {'max_depth': None, 'max_features': 'sqrt', 'min_samples_leaf': 2, 'min_samples_split': 2, 'n_estimators': 200}\n",
      "Best Cross-Validation Accuracy: 0.6984952708512469\n"
     ]
    }
   ],
   "source": [
    "# Fine tune a random forest\n",
    "# Define the parameter grid for Random Forest\n",
    "# param_grid = {\n",
    "#    'n_estimators': [50, 100, 200],            # Number of trees\n",
    "#   'max_depth': [None, 10, 20, 30],           # Maximum depth of each tree\n",
    "#  'min_samples_split': [2, 5, 10],           # Minimum samples to split a node\n",
    "#    'min_samples_leaf': [1, 2, 4],             # Minimum samples for a leaf node\n",
    "#    'max_features': ['auto', 'sqrt', 'log2']   # Number of features to consider when looking for the best split\n",
    "#}\n",
    "\n",
    "# Initialize the Random Forest model\n",
    "#rf_model = RandomForestClassifier(random_state=42)\n",
    "\n",
    "# Set up GridSearchCV with cross-validation\n",
    "#grid_search = GridSearchCV(estimator=rf_model, param_grid=param_grid, cv=5, scoring='accuracy', n_jobs=-1, verbose=2)\n",
    "\n",
    "# Fit GridSearchCV to the training data\n",
    "#grid_search.fit(X_train_tfidf, y_train)\n",
    "\n",
    "# Print the best parameters and best accuracy score\n",
    "#print(\"Best Parameters:\", grid_search.best_params_)\n",
    "#print(\"Best Cross-Validation Accuracy:\", grid_search.best_score_)"
   ]
  },
  {
   "cell_type": "markdown",
   "metadata": {},
   "source": [
    "Best Logistic Regression parameters: {'C': 1, 'solver': 'lbfgs'}\n",
    "Best Logistic Regression accuracy: 0.68061049011178\n",
    "\n",
    "Best SVM parameters: {'C': 1, 'kernel': 'linear'}\n",
    "Best SVM accuracy: 0.6918314703353396\n",
    "\n",
    "Best RF Parameters: {'max_depth': None, 'max_features': 'sqrt', 'min_samples_leaf': 2, 'min_samples_split': 2, 'n_estimators': 200}\n",
    "Best RF Cross-Validation Accuracy: 0.6984952708512469"
   ]
  },
  {
   "cell_type": "markdown",
   "metadata": {},
   "source": [
    "Compare fine-tuned performance on the test data"
   ]
  },
  {
   "cell_type": "code",
   "execution_count": 139,
   "metadata": {},
   "outputs": [
    {
     "name": "stdout",
     "output_type": "stream",
     "text": [
      "\n",
      "Logistic regression Test Accuracy: 0.6897\n",
      "Classification Report for Logistic regression:\n",
      "              precision    recall  f1-score   support\n",
      "\n",
      "    negative       0.71      0.58      0.64      2162\n",
      "     neutral       0.63      0.75      0.68      3151\n",
      "    positive       0.78      0.71      0.74      2441\n",
      "\n",
      "    accuracy                           0.69      7754\n",
      "   macro avg       0.71      0.68      0.69      7754\n",
      "weighted avg       0.70      0.69      0.69      7754\n",
      "\n",
      "Confusion Matrix for Logistic regression:\n",
      "[[1250  792  120]\n",
      " [ 413 2361  377]\n",
      " [  88  616 1737]]\n",
      "\n",
      "Support vector machine Test Accuracy: 0.7096\n",
      "Classification Report for Support vector machine:\n",
      "              precision    recall  f1-score   support\n",
      "\n",
      "    negative       0.73      0.60      0.66      2162\n",
      "     neutral       0.65      0.77      0.70      3151\n",
      "    positive       0.79      0.73      0.76      2441\n",
      "\n",
      "    accuracy                           0.71      7754\n",
      "   macro avg       0.72      0.70      0.71      7754\n",
      "weighted avg       0.72      0.71      0.71      7754\n",
      "\n",
      "Confusion Matrix for Support vector machine:\n",
      "[[1299  751  112]\n",
      " [ 379 2422  350]\n",
      " [  97  563 1781]]\n",
      "\n",
      "Random Forest Test Accuracy: 0.7042\n",
      "Classification Report for Random Forest:\n",
      "              precision    recall  f1-score   support\n",
      "\n",
      "    negative       0.72      0.60      0.66      2162\n",
      "     neutral       0.67      0.72      0.69      3151\n",
      "    positive       0.74      0.78      0.76      2441\n",
      "\n",
      "    accuracy                           0.70      7754\n",
      "   macro avg       0.71      0.70      0.70      7754\n",
      "weighted avg       0.71      0.70      0.70      7754\n",
      "\n",
      "Confusion Matrix for Random Forest:\n",
      "[[1294  688  180]\n",
      " [ 393 2266  492]\n",
      " [  98  443 1900]]\n"
     ]
    }
   ],
   "source": [
    "# Initialise fine-tuned models\n",
    "models = {'Logistic regression': LogisticRegression(C = 1, solver = 'lbfgs',random_state=42),\n",
    "          'Support vector machine': SVC(C = 1, kernel = 'linear'),\n",
    "          'Random Forest': RandomForestClassifier(max_depth = None, max_features = 'sqrt', min_samples_leaf = 2, min_samples_split = 2, n_estimators = 200)\n",
    "          }                                                                                      \n",
    "\n",
    "#initialise dictionary to store evaluation scores\n",
    "performance = {}\n",
    "\n",
    "# train and evaluate each of the optimised models\n",
    "\n",
    "for model_name, model in models.items():\n",
    "    # train the mode;\n",
    "    model.fit(X_train_tfidf, y_train)\n",
    "    # predict on test data\n",
    "    y_pred = model.predict(X_test_tfidf)\n",
    "\n",
    "    # gather evaluation metrics\n",
    "    accuracy = accuracy_score(y_test, y_pred)\n",
    "    report = classification_report(y_test, y_pred)\n",
    "    cm = confusion_matrix(y_test, y_pred)\n",
    "\n",
    "    # store the performance metrics\n",
    "    performance[model_name] = {'Accuracy': accuracy,\n",
    "                               'Classification report': report,\n",
    "                               'Confusion matrix': cm}\n",
    "    \n",
    "        # Print the performance for each model\n",
    "    print(f\"\\n{model_name} Test Accuracy: {accuracy:.4f}\")\n",
    "    print(f\"Classification Report for {model_name}:\\n{report}\")\n",
    "    print(f\"Confusion Matrix for {model_name}:\\n{cm}\")"
   ]
  },
  {
   "cell_type": "code",
   "execution_count": 144,
   "metadata": {},
   "outputs": [
    {
     "data": {
      "image/png": "[encoded data removed]",
      "text/plain": [
       "<Figure size 1000x600 with 1 Axes>"
      ]
     },
     "metadata": {},
     "output_type": "display_data"
    },
    {
     "data": {
      "image/png": "[encoded data removed]",
      "text/plain": [
       "<Figure size 1000x600 with 1 Axes>"
      ]
     },
     "metadata": {},
     "output_type": "display_data"
    }
   ],
   "source": [
    "# Extract metrics for visualization\n",
    "accuracy_scores = [performance[model][\"Accuracy\"] for model in models.keys()]\n",
    "f1_scores_negative = [performance[model][\"Classification report\"].split()[10] for model in models.keys()]\n",
    "f1_scores_neutral = [performance[model][\"Classification report\"].split()[15] for model in models.keys()]\n",
    "f1_scores_positive = [performance[model][\"Classification report\"].split()[20] for model in models.keys()]\n",
    "\n",
    "model_names = list(models.keys())\n",
    "\n",
    "# Convert F1-scores from strings to floats\n",
    "f1_scores_negative = list(map(float, f1_scores_negative))\n",
    "f1_scores_neutral = list(map(float, f1_scores_neutral))\n",
    "f1_scores_positive = list(map(float, f1_scores_positive))\n",
    "\n",
    "df_metrics = pd.DataFrame({\n",
    "    \"Model\": model_names,\n",
    "    \"Accuracy\": accuracy_scores,\n",
    "    \"F1 Negative\": f1_scores_negative,\n",
    "    \"F1 Neutral\": f1_scores_neutral,\n",
    "    \"F1 Positive\": f1_scores_positive\n",
    "})\n",
    "\n",
    "# Plot Accuracy Scores\n",
    "plt.figure(figsize=(10, 6))\n",
    "plt.bar(df_metrics[\"Model\"], df_metrics[\"Accuracy\"])\n",
    "plt.title(\"Model Comparison - Accuracy\")\n",
    "plt.xlabel(\"Model\")\n",
    "plt.ylabel(\"Accuracy Score\")\n",
    "plt.ylim(0, 1)\n",
    "plt.show()\n",
    "\n",
    "# Plot F1 Scores for each class\n",
    "df_metrics.plot(x=\"Model\", y=[\"F1 Negative\", \"F1 Neutral\", \"F1 Positive\"], kind=\"bar\", figsize=(10, 6))\n",
    "plt.title(\"Model Comparison - F1 Scores by sentiment class\")\n",
    "plt.xlabel(\"Model\")\n",
    "plt.ylabel(\"F1 Score\")\n",
    "plt.ylim(0, 1)\n",
    "plt.legend(title=\"Class\")\n",
    "plt.show()"
   ]
  },
  {
   "cell_type": "markdown",
   "metadata": {},
   "source": [
    "Performance of the optimised models roughly the same, they all predict neutral > positive > negative"
   ]
  }
 ],
 "metadata": {
  "kernelspec": {
   "display_name": "Python 3",
   "language": "python",
   "name": "python3"
  },
  "language_info": {
   "codemirror_mode": {
    "name": "ipython",
    "version": 3
   },
   "file_extension": ".py",
   "mimetype": "text/x-python",
   "name": "python",
   "nbconvert_exporter": "python",
   "pygments_lexer": "ipython3",
   "version": "3.12.4"
  }
 },
 "nbformat": 4,
 "nbformat_minor": 2
}
