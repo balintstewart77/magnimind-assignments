{
 "cells": [
  {
   "cell_type": "markdown",
   "metadata": {},
   "source": [
    "# Regular Expressions\n",
    "\n",
    "Python has a built-in package called **re**, which can be used to work with Regular Expressions. There are some methods in this module:"
   ]
  },
  {
   "cell_type": "markdown",
   "metadata": {},
   "source": [
    "## re.search(regex, string)\n",
    "\n",
    "This method checks if a searched content is in the relevant text.\n",
    "It looks for the first location where the pattern <regex> matches. If a match is found, then re.search() returns a match object. Otherwise, it returns None."
   ]
  },
  {
   "cell_type": "code",
   "execution_count": 1,
   "metadata": {},
   "outputs": [
    {
     "data": {
      "text/plain": [
       "<re.Match object; span=(8, 12), match='Adam'>"
      ]
     },
     "execution_count": 1,
     "metadata": {},
     "output_type": "execute_result"
    }
   ],
   "source": [
    "import re\n",
    "\n",
    "# search for word Adam in the text\n",
    "text = \"Hi I am Adam, what is your name?\"\n",
    "re.search(\"Adam\",text)\n"
   ]
  },
  {
   "cell_type": "markdown",
   "metadata": {},
   "source": [
    "We searched the word Adams in the text, if you pay attention to the span and match areas. Where match is the value you are looking for, span is where it is. It's between the 8th and 12th letters where you're looking for."
   ]
  },
  {
   "cell_type": "markdown",
   "metadata": {},
   "source": [
    "## Start ()\n",
    "\n",
    "This method returns where the searched word appears in the source. We already know that the above example (8,13) is between. We can only use it if we want to draw the value 8 from here."
   ]
  },
  {
   "cell_type": "code",
   "execution_count": 2,
   "metadata": {},
   "outputs": [
    {
     "data": {
      "text/plain": [
       "8"
      ]
     },
     "execution_count": 2,
     "metadata": {},
     "output_type": "execute_result"
    }
   ],
   "source": [
    "check = re.search(\"Adam\",text)\n",
    "check.start()"
   ]
  },
  {
   "cell_type": "markdown",
   "metadata": {},
   "source": [
    "## end ()\n",
    "\n",
    "It does the inverse of the start method, ie it returns the last value in which range the searched word passes. We know that the word Adams is mentioned in the source (8,12). The start method would return 8, and the end method would return 12."
   ]
  },
  {
   "cell_type": "code",
   "execution_count": 3,
   "metadata": {},
   "outputs": [
    {
     "data": {
      "text/plain": [
       "12"
      ]
     },
     "execution_count": 3,
     "metadata": {},
     "output_type": "execute_result"
    }
   ],
   "source": [
    "check.end()"
   ]
  },
  {
   "cell_type": "markdown",
   "metadata": {},
   "source": [
    "# findall ()"
   ]
  },
  {
   "cell_type": "markdown",
   "metadata": {},
   "source": [
    "With this method, we can examine how many times the text we want to pass in a source. It returns a list of all the appearences of the search text. \n",
    "\n",
    "search() module will only return the first occurrence that matches the specified pattern. findall() will iterate over all the lines of the file and will return all non-overlapping matches of pattern in a single step."
   ]
  },
  {
   "cell_type": "code",
   "execution_count": 4,
   "metadata": {},
   "outputs": [
    {
     "data": {
      "text/plain": [
       "['time', 'time']"
      ]
     },
     "execution_count": 4,
     "metadata": {},
     "output_type": "execute_result"
    }
   ],
   "source": [
    "text2=\"I am glad that time you came, time flies by with you.\"\n",
    "re.findall(\"time\",text2)"
   ]
  },
  {
   "cell_type": "markdown",
   "metadata": {},
   "source": [
    "# MetaCharacters\n",
    "\n",
    "Up to this point, we searched for a specific text within a source, but what makes this module strong are the metacharacters that we will explain later. With these metacharacters, you can search for text that matches a layout you specify. \n",
    "\n",
    "Most letters and characters will simply match themselves. For example, the regular expression test will match the string test exactly. (You can enable a case-insensitive mode that would let this RE match Test or TEST as well; more about this later.)\n",
    "\n",
    "There are exceptions to this rule; some characters are special metacharacters, and don’t match themselves. Instead, they signal that some out-of-the-ordinary thing should be matched, or they affect other portions of the RE by repeating them or changing their meaning. Much of this document is devoted to discussing various metacharacters and what they do.\n",
    "\n",
    "Here’s a complete list of the metacharacters; their meanings will be discussed in the rest of this HOWTO."
   ]
  },
  {
   "cell_type": "markdown",
   "metadata": {},
   "source": [
    "To specify regular expressions, metacharacters are used. These are $ [], ., ^, $, *, +, ?, {}, (), \\, |$"
   ]
  },
  {
   "cell_type": "markdown",
   "metadata": {},
   "source": [
    "## [ ] - Square brackets"
   ]
  },
  {
   "cell_type": "markdown",
   "metadata": {},
   "source": [
    "Square brackets specifies a set of characters (a character class) you wish to match. All characters written between these square brackets are taken into account. Gr[ae]y can match both gray and grey.\n",
    "\n",
    "Metacharacters are not active inside classes. For example, '$' is usually a metacharacter, but inside a character class it’s stripped of its special nature."
   ]
  },
  {
   "cell_type": "code",
   "execution_count": 5,
   "metadata": {},
   "outputs": [
    {
     "data": {
      "text/plain": [
       "['Gray', 'Grey']"
      ]
     },
     "execution_count": 5,
     "metadata": {},
     "output_type": "execute_result"
    }
   ],
   "source": [
    "text3=\"Is it Gray or Grey?\"\n",
    "re.findall(\"Gr[ae]y\", text3)"
   ]
  },
  {
   "cell_type": "code",
   "execution_count": 11,
   "metadata": {},
   "outputs": [
    {
     "data": {
      "text/plain": [
       "['T3']"
      ]
     },
     "execution_count": 11,
     "metadata": {},
     "output_type": "execute_result"
    }
   ],
   "source": [
    "re.findall(\"[^a-z]3\", \"HeyT3, ac3, kl5, yours, y3\")"
   ]
  },
  {
   "cell_type": "code",
   "execution_count": null,
   "metadata": {},
   "outputs": [],
   "source": []
  },
  {
   "cell_type": "markdown",
   "metadata": {},
   "source": [
    "* [a-e] is the same as [abcde].\n",
    "* [1-4] is the same as [1234].\n",
    "* [0-39] is the same as [01239].\n",
    "* [0-3][0-9]+\n",
    "* [^abc] means any character except a or b or c."
   ]
  },
  {
   "cell_type": "markdown",
   "metadata": {},
   "source": [
    "## . - Period"
   ]
  },
  {
   "cell_type": "markdown",
   "metadata": {},
   "source": [
    "A period matches any single character (except newline '\\n'). Replaces any single character except the newline character."
   ]
  },
  {
   "cell_type": "code",
   "execution_count": 13,
   "metadata": {},
   "outputs": [
    {
     "data": {
      "text/plain": [
       "['a', 'c', 'd', 'e']"
      ]
     },
     "execution_count": 13,
     "metadata": {},
     "output_type": "execute_result"
    }
   ],
   "source": [
    "#Expression: ..\n",
    "#String: a, ac, acd,acde\n",
    "re.findall(\".\",'acde\\n')\n",
    "\n"
   ]
  },
  {
   "cell_type": "markdown",
   "metadata": {},
   "source": [
    "## ^ - Caret"
   ]
  },
  {
   "cell_type": "markdown",
   "metadata": {},
   "source": [
    "The caret symbol ^ is used to check if a string starts with a certain character.\n",
    "\n",
    "[^5] will match any character except '5'. If the caret appears elsewhere in a character class, it does not have special meaning. For example: [5^] will match either a '5' or a '^'.\n",
    "\n",
    "\\A functions similarly.\n",
    "\n",
    "^ is called an anchor when it is used to check the beginning of a string. "
   ]
  },
  {
   "cell_type": "code",
   "execution_count": 18,
   "metadata": {},
   "outputs": [
    {
     "data": {
      "text/plain": [
       "['a']"
      ]
     },
     "execution_count": 18,
     "metadata": {},
     "output_type": "execute_result"
    }
   ],
   "source": [
    "# Use caret as an anchor for the beginning of a sentence\n",
    "# Expression: ^a,^ab\n",
    "# String: bac, abc\n",
    "re.findall(\"^a\", \"ac, bac\")\n"
   ]
  },
  {
   "cell_type": "code",
   "execution_count": 19,
   "metadata": {},
   "outputs": [
    {
     "data": {
      "text/plain": [
       "['the']"
      ]
     },
     "execution_count": 19,
     "metadata": {},
     "output_type": "execute_result"
    }
   ],
   "source": [
    "re.findall(\"^the\", \"the cat runs fast\")"
   ]
  },
  {
   "cell_type": "code",
   "execution_count": 20,
   "metadata": {},
   "outputs": [
    {
     "data": {
      "text/plain": [
       "[['the'], []]"
      ]
     },
     "execution_count": 20,
     "metadata": {},
     "output_type": "execute_result"
    }
   ],
   "source": [
    "t = list([\"the cat runs fast\", \" a cat runs fast\"])\n",
    "[re.findall(\"^the\", str) for str in t]"
   ]
  },
  {
   "cell_type": "code",
   "execution_count": 56,
   "metadata": {},
   "outputs": [],
   "source": [
    "# Use caret to match all the letters except a\n",
    "\n",
    "\n"
   ]
  },
  {
   "cell_type": "markdown",
   "metadata": {},
   "source": [
    "## $ - Dollar"
   ]
  },
  {
   "cell_type": "markdown",
   "metadata": {},
   "source": [
    "The dollar symbol $\\$$ is used to check if a string ends with a certain character. So, if a dollar sign ($\\$$) is at the end of the entire regular expression, it matches the end of a line.\n",
    "\n",
    "$ symbol is called an anchor when it is used to check the end of a string. "
   ]
  },
  {
   "cell_type": "code",
   "execution_count": 25,
   "metadata": {},
   "outputs": [
    {
     "data": {
      "text/plain": [
       "[]"
      ]
     },
     "execution_count": 25,
     "metadata": {},
     "output_type": "execute_result"
    }
   ],
   "source": [
    "re.findall(\"^a....s$\", \"alias abs Alias\")"
   ]
  },
  {
   "cell_type": "code",
   "execution_count": 63,
   "metadata": {},
   "outputs": [],
   "source": [
    "##  ^a....s$: alias, abs, Alias\n",
    "\n",
    "# check if the beginning of the text is (^the)\n",
    "# re.findall(?, \"the cat runs fast\")\n",
    "\n"
   ]
  },
  {
   "cell_type": "code",
   "execution_count": 64,
   "metadata": {},
   "outputs": [],
   "source": [
    "# check if the text starts with a and ends with s, \n",
    "# and there are 5 letters in total\n",
    "# re.findall(\"?\", \"^alias\")\n"
   ]
  },
  {
   "cell_type": "code",
   "execution_count": null,
   "metadata": {},
   "outputs": [],
   "source": []
  },
  {
   "cell_type": "code",
   "execution_count": 40,
   "metadata": {},
   "outputs": [
    {
     "name": "stdout",
     "output_type": "stream",
     "text": [
      "google.com\n",
      "apple.com\n",
      "yahoo.com\n",
      "['google.com', 'apple.com', 'yahoo.com']\n"
     ]
    }
   ],
   "source": [
    "# In this text, find all the words that end with .com\n",
    "\n",
    "import re\n",
    "text = \"\"\"Silicon valley discusses the competition between google.com and apple.com\n",
    "        and yahoo.com\"\"\"\n",
    "mylist = text.split()\n",
    "serverlist=[]\n",
    "for i in mylist:\n",
    "    result = re.search(\".com$\", i)\n",
    "    if result:\n",
    "        serverlist.append(result.string)\n",
    "        print(result.string)\n",
    "print(serverlist)\n",
    "    "
   ]
  },
  {
   "cell_type": "code",
   "execution_count": 37,
   "metadata": {},
   "outputs": [
    {
     "name": "stdout",
     "output_type": "stream",
     "text": [
      "None\n"
     ]
    }
   ],
   "source": [
    "a=re.search(\".com$\",\"google.com\")\n",
    "print(a)\n",
    "if a:\n",
    "    print(a.string)"
   ]
  },
  {
   "cell_type": "code",
   "execution_count": 27,
   "metadata": {},
   "outputs": [
    {
     "data": {
      "text/plain": [
       "['Silicon',\n",
       " 'valley',\n",
       " 'discusses',\n",
       " 'the',\n",
       " 'competition',\n",
       " 'between',\n",
       " 'google.com',\n",
       " 'and',\n",
       " 'apple.com',\n",
       " 'and',\n",
       " 'yahoo.com']"
      ]
     },
     "execution_count": 27,
     "metadata": {},
     "output_type": "execute_result"
    }
   ],
   "source": [
    "list"
   ]
  },
  {
   "cell_type": "markdown",
   "metadata": {},
   "source": [
    "## * - Star"
   ]
  },
  {
   "cell_type": "markdown",
   "metadata": {},
   "source": [
    "The star symbol * matches $\\textbf{zero}$ or $\\textbf{more occurrences}$ of the pattern left to it."
   ]
  },
  {
   "cell_type": "code",
   "execution_count": 37,
   "metadata": {},
   "outputs": [
    {
     "data": {
      "text/plain": [
       "['@mail', '@gmail', '@gggmail', '@gggggmail']"
      ]
     },
     "execution_count": 37,
     "metadata": {},
     "output_type": "execute_result"
    }
   ],
   "source": [
    "\n",
    "# find all the occurrences of gmail even if g is repeated multiple times\n",
    "# by mistake\n",
    "# re.findall(\"?\", \"@mail @gmail @gggmail @gggggmail\")\n"
   ]
  },
  {
   "cell_type": "markdown",
   "metadata": {},
   "source": [
    "We put * after the letter g, which means that g can pass 0 times or 100 times. This distinction includes only the previous letter. Therefore, @mail, @gmail and @ggggggmail are returned."
   ]
  },
  {
   "cell_type": "code",
   "execution_count": 45,
   "metadata": {},
   "outputs": [
    {
     "data": {
      "text/plain": [
       "['@mail', '@gmail', '@ggggmail']"
      ]
     },
     "execution_count": 45,
     "metadata": {},
     "output_type": "execute_result"
    }
   ],
   "source": [
    "re.findall(\"@g*mail\", \"our mail is test@mail, test@gmail.com, test@ggggmail.com\")"
   ]
  },
  {
   "cell_type": "code",
   "execution_count": null,
   "metadata": {},
   "outputs": [],
   "source": [
    "Expressions: ma*n\n",
    "String: maaan\n",
    "        main\n",
    "        woman"
   ]
  },
  {
   "cell_type": "code",
   "execution_count": null,
   "metadata": {},
   "outputs": [],
   "source": [
    "maaan\n",
    "woman"
   ]
  },
  {
   "cell_type": "markdown",
   "metadata": {},
   "source": [
    "## + - Plus"
   ]
  },
  {
   "cell_type": "markdown",
   "metadata": {},
   "source": [
    "The plus symbol + matches $\\textbf{one}$ or $\\textbf{more occurrences}$ of the pattern left to it. Searches for one or more of the preceding character. If we make an example of * on the top with + this time;"
   ]
  },
  {
   "cell_type": "code",
   "execution_count": 46,
   "metadata": {},
   "outputs": [
    {
     "data": {
      "text/plain": [
       "['@gmail', '@ggggmail']"
      ]
     },
     "execution_count": 46,
     "metadata": {},
     "output_type": "execute_result"
    }
   ],
   "source": [
    "# re.findall(\"?\", \"@mail @gmail @gggmail @gggggmail\")\n",
    "re.findall(\"@g+mail\", \"our mail is test@mail, test@gmail.com, test@ggggmail.com\")\n"
   ]
  },
  {
   "cell_type": "markdown",
   "metadata": {},
   "source": [
    "## ? - Question Mark"
   ]
  },
  {
   "cell_type": "markdown",
   "metadata": {},
   "source": [
    "The question mark symbol ? matches $\\textbf{zero}$ or $\\textbf{one occurrence}$ of the pattern left to it."
   ]
  },
  {
   "cell_type": "code",
   "execution_count": 56,
   "metadata": {},
   "outputs": [
    {
     "data": {
      "text/plain": [
       "['@mail', '@gmail']"
      ]
     },
     "execution_count": 56,
     "metadata": {},
     "output_type": "execute_result"
    }
   ],
   "source": [
    "# Write the same regex that is going to match mail and gmail.\n",
    "# re.findall(\"?\", \"@mail @gmail @gggmail @gggggmail\")\n",
    "\n",
    "re.findall(\"@g?mail\", \"our mail is test@mail, test@gmail.com, test@ggggmail.com\")"
   ]
  },
  {
   "cell_type": "markdown",
   "metadata": {},
   "source": [
    "Expression: ma?n\n",
    "String: maaan\n",
    "        woman\n",
    "        man\n",
    "        \n",
    "        "
   ]
  },
  {
   "cell_type": "markdown",
   "metadata": {},
   "source": [
    "## {} - Braces"
   ]
  },
  {
   "cell_type": "markdown",
   "metadata": {},
   "source": [
    "{n,m}: This means at least n, and at most m repetitions of the pattern left to it. It means a certain number of repetitions. \n",
    "\n",
    "Now let's make a more complicated example with what we have learned above. Our source is $\\textbf{\"meat dealing with heat is hard. I can't cook meat. Meat is expensive\"}$. We wanted to catch everything that started with small letters and ended with \"at.\""
   ]
  },
  {
   "cell_type": "markdown",
   "metadata": {},
   "source": [
    "* Step 1:  [a-z], we need to distinguish between lower case.\n",
    "* Step 2:[a-z]*,0 or n (infinite) times lower case.\n",
    "* Step 3: [a-z]*a, start with a lower case and continue.\n",
    "* Step 4:[a-z]a{1}, need to have 1 a letter.\n",
    "* Step 5:[a-z]a{1}t, ends with t"
   ]
  },
  {
   "cell_type": "code",
   "execution_count": 68,
   "metadata": {},
   "outputs": [
    {
     "data": {
      "text/plain": [
       "['meat', 'heat', 'meat', 'eat', 'meat']"
      ]
     },
     "execution_count": 68,
     "metadata": {},
     "output_type": "execute_result"
    }
   ],
   "source": [
    "# write a regexp to catch everything that started with small letters \n",
    "# and end with \"at\"\n",
    "text4 = \"meat dealing with heat is hard. I can't cook meat. Meat is expensive meat\"\n",
    "# re.findall(\"?\", text )\n",
    "re.findall(\"[a-z]*at\",text4 )"
   ]
  },
  {
   "cell_type": "code",
   "execution_count": null,
   "metadata": {},
   "outputs": [],
   "source": [
    "Expression: a{2,3}\n",
    "String: aabc daaaat\n",
    "        abc dat"
   ]
  },
  {
   "cell_type": "code",
   "execution_count": null,
   "metadata": {},
   "outputs": [],
   "source": [
    "\n"
   ]
  },
  {
   "cell_type": "markdown",
   "metadata": {},
   "source": [
    "- find any number sequence of 2 to 4 digits.\n",
    "\n",
    "- Expression: [0-9]{2,4}\n",
    "- String: ab123csde 1 and 2"
   ]
  },
  {
   "cell_type": "code",
   "execution_count": null,
   "metadata": {},
   "outputs": [],
   "source": []
  },
  {
   "cell_type": "markdown",
   "metadata": {},
   "source": [
    "## | - Alternation"
   ]
  },
  {
   "cell_type": "markdown",
   "metadata": {},
   "source": [
    "Vertical bar | is used for alternation (or operator)."
   ]
  },
  {
   "cell_type": "code",
   "execution_count": 69,
   "metadata": {},
   "outputs": [
    {
     "data": {
      "text/plain": [
       "['smell', 'taste']"
      ]
     },
     "execution_count": 69,
     "metadata": {},
     "output_type": "execute_result"
    }
   ],
   "source": [
    "# write a regex to catch either black or white in the text\n",
    "text5 = \"coffee is known for its smell and taste\"\n",
    "re.findall(\"(smell|taste)\",text5)"
   ]
  },
  {
   "cell_type": "code",
   "execution_count": null,
   "metadata": {},
   "outputs": [],
   "source": [
    "Expression: a|b\n",
    "String: cde\n",
    "        acdbea\n",
    "        \n"
   ]
  },
  {
   "cell_type": "code",
   "execution_count": 70,
   "metadata": {},
   "outputs": [
    {
     "data": {
      "text/plain": [
       "['a', 'b', 'a']"
      ]
     },
     "execution_count": 70,
     "metadata": {},
     "output_type": "execute_result"
    }
   ],
   "source": [
    "re.findall(\"(a|b)\", \"acdbea\")\n",
    "\n"
   ]
  },
  {
   "cell_type": "markdown",
   "metadata": {},
   "source": [
    "## () - Group"
   ]
  },
  {
   "cell_type": "markdown",
   "metadata": {},
   "source": [
    "Parentheses () is used to group sub-patterns. For example, (a|b|c)xz match any string that matches either a or b or c followed by xz. \n",
    "\n",
    "Parentheses are also used to group the patterns we write. You can think of it like the parentheses we use to set the priority for division and multiplication in mathematics."
   ]
  },
  {
   "cell_type": "code",
   "execution_count": 71,
   "metadata": {},
   "outputs": [
    {
     "data": {
      "text/plain": [
       "['a', 'b']"
      ]
     },
     "execution_count": 71,
     "metadata": {},
     "output_type": "execute_result"
    }
   ],
   "source": [
    "# find all the patterns that start with either a or b or c, \n",
    "# followed by xz\n",
    "text6 = \"axz cabxz ab xz\"\n",
    "# re.findall(\"?\", text )\n",
    "re.findall(\"(a|b|c)xz\",text6 )"
   ]
  },
  {
   "cell_type": "code",
   "execution_count": 81,
   "metadata": {},
   "outputs": [
    {
     "data": {
      "text/plain": [
       "['ex', 'ox', 'ex', 'x']"
      ]
     },
     "execution_count": 81,
     "metadata": {},
     "output_type": "execute_result"
    }
   ],
   "source": [
    "text7=\" onex twox threex fourx\"\n",
    "re.findall(\"[(e|o)]?x\", text7)"
   ]
  },
  {
   "cell_type": "markdown",
   "metadata": {},
   "source": [
    "## \\ - Backslash"
   ]
  },
  {
   "cell_type": "markdown",
   "metadata": {},
   "source": [
    "Backlash \\ is used to escape various characters including all metacharacters. For example,$\\$a$ match if a string contains $\\$$ followed by a. Here, $\\$$ is not interpreted by a RegEx engine in a special way.\n",
    "\n",
    "\n",
    "If you are unsure if a character has special meaning or not, you can put \\ in front of it. This makes sure the character is not treated in a special way.\n",
    "\n",
    "Perhaps, the most diverse metacharacter!!\n",
    "\n",
    "If the character following the backslash is a recognized escape character, then the special meaning of the term is taken (Scenario 1)\n",
    "\n",
    "Else if the character following the \\ is not a recognized escape character, then the \\ is treated like any other character and passed through (Scenario 2).\n",
    "\n",
    "\\ can be used in front of all the metacharacters to remove their special meaning (Scenario 3)."
   ]
  },
  {
   "cell_type": "code",
   "execution_count": 96,
   "metadata": {},
   "outputs": [],
   "source": [
    "# regex for the $ pattern \n",
    "# try without the backslash\n",
    "text8=\"Software is $150, voice card is $90, I am 90\""
   ]
  },
  {
   "cell_type": "code",
   "execution_count": 99,
   "metadata": {},
   "outputs": [
    {
     "data": {
      "text/plain": [
       "['$150', '$90']"
      ]
     },
     "execution_count": 99,
     "metadata": {},
     "output_type": "execute_result"
    }
   ],
   "source": [
    "re.findall(\"\\$[0-9]+\", text8)"
   ]
  },
  {
   "cell_type": "code",
   "execution_count": null,
   "metadata": {},
   "outputs": [],
   "source": [
    "# try with the backslash\n",
    "\n"
   ]
  },
  {
   "cell_type": "code",
   "execution_count": 107,
   "metadata": {},
   "outputs": [
    {
     "data": {
      "text/plain": [
       "['guru99,education is fun']"
      ]
     },
     "execution_count": 107,
     "metadata": {},
     "output_type": "execute_result"
    }
   ],
   "source": [
    "# \\w matches a word char\n",
    "text10 = \"guru99,education is fun\"\n",
    "re.findall(\"^[\\w,\\s]+\",text10 )"
   ]
  },
  {
   "cell_type": "markdown",
   "metadata": {},
   "source": [
    "## split()"
   ]
  },
  {
   "cell_type": "code",
   "execution_count": null,
   "metadata": {},
   "outputs": [],
   "source": [
    "# \\s is for splitting the words\n"
   ]
  },
  {
   "cell_type": "markdown",
   "metadata": {},
   "source": [
    "## sub()\n",
    "\n",
    "Another task that the re package lets you do using regular expressions is to do substitutions within a string. The sub() methods takes a regular expression and phrase just like the query methods we’ve seen so far, but we also hand in the string to replace each match with. You can do straightforward substitutions like this"
   ]
  },
  {
   "cell_type": "code",
   "execution_count": null,
   "metadata": {},
   "outputs": [],
   "source": [
    "\n"
   ]
  },
  {
   "cell_type": "markdown",
   "metadata": {},
   "source": [
    "# Questions\n",
    "\n",
    "1- Write a regular expression that matches at least two digits but not more than 4 digits. "
   ]
  },
  {
   "cell_type": "code",
   "execution_count": null,
   "metadata": {},
   "outputs": [],
   "source": []
  },
  {
   "cell_type": "markdown",
   "metadata": {},
   "source": [
    "2- Write a regular expression that matches all the numbers between 0-59 inclusively. "
   ]
  },
  {
   "cell_type": "code",
   "execution_count": null,
   "metadata": {},
   "outputs": [],
   "source": []
  },
  {
   "cell_type": "markdown",
   "metadata": {},
   "source": [
    "3- Write a function to clean twitter text document. \n",
    "- Remove all the https hyperlinks in your twitter data with space\n",
    "- Remove RTs\n",
    "- Remove hashtags\n",
    "- Remove numbers\n",
    "- Remove punctuations\n"
   ]
  },
  {
   "cell_type": "code",
   "execution_count": null,
   "metadata": {},
   "outputs": [],
   "source": []
  }
 ],
 "metadata": {
  "kernelspec": {
   "display_name": "Python 3 (ipykernel)",
   "language": "python",
   "name": "python3"
  },
  "language_info": {
   "codemirror_mode": {
    "name": "ipython",
    "version": 3
   },
   "file_extension": ".py",
   "mimetype": "text/x-python",
   "name": "python",
   "nbconvert_exporter": "python",
   "pygments_lexer": "ipython3",
   "version": "3.8.5"
  }
 },
 "nbformat": 4,
 "nbformat_minor": 4
}
