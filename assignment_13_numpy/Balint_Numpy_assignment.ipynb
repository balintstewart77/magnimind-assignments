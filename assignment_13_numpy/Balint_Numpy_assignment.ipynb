{
 "cells": [
  {
   "cell_type": "markdown",
   "metadata": {},
   "source": [
    "# Balint's Numpy assignment\n",
    "\n",
    "\n",
    "\n",
    "\n",
    "\n",
    "\n",
    "\n",
    "\n",
    "\n",
    "\n"
   ]
  },
  {
   "cell_type": "code",
   "execution_count": 1,
   "metadata": {},
   "outputs": [],
   "source": [
    "import numpy as np\n",
    "import pandas as pd"
   ]
  },
  {
   "cell_type": "markdown",
   "metadata": {},
   "source": [
    "1- Create three lists representing house features, each list containing ten values. The first one for the house's size in square meters, the second one for rooms and last for price. Then, create an array combining these lists."
   ]
  },
  {
   "cell_type": "code",
   "execution_count": 102,
   "metadata": {},
   "outputs": [],
   "source": [
    "size = [130, 210, 870, 55, 80, 90, 190, 330, 90, 110]\n",
    "rooms = [2, 3, 7, 1, 2, 3, 5, 6, 2, 3]\n",
    "price = [100, 150, 700, 110, 130, 190, 450, 290, 320, 625]"
   ]
  },
  {
   "cell_type": "code",
   "execution_count": 103,
   "metadata": {},
   "outputs": [
    {
     "name": "stdout",
     "output_type": "stream",
     "text": [
      "[[130 210 870  55  80  90 190 330  90 110]\n",
      " [  2   3   7   1   2   3   5   6   2   3]\n",
      " [100 150 700 110 130 190 450 290 320 625]]\n"
     ]
    }
   ],
   "source": [
    "my_array = np.array([size, rooms, price])\n",
    "print(my_array)"
   ]
  },
  {
   "cell_type": "markdown",
   "metadata": {},
   "source": [
    "2- Transpose the array you have created, so that every line can represent features of one house."
   ]
  },
  {
   "cell_type": "code",
   "execution_count": 104,
   "metadata": {},
   "outputs": [
    {
     "name": "stdout",
     "output_type": "stream",
     "text": [
      "[[130   2 100]\n",
      " [210   3 150]\n",
      " [870   7 700]\n",
      " [ 55   1 110]\n",
      " [ 80   2 130]\n",
      " [ 90   3 190]\n",
      " [190   5 450]\n",
      " [330   6 290]\n",
      " [ 90   2 320]\n",
      " [110   3 625]]\n"
     ]
    }
   ],
   "source": [
    "transposed = my_array.T\n",
    "print(transposed)"
   ]
  },
  {
   "cell_type": "markdown",
   "metadata": {},
   "source": [
    "3- Display the shape of the array and explain what it means.\n",
    "For the following assignment, you are going to use Earthquakes dataset."
   ]
  },
  {
   "cell_type": "code",
   "execution_count": 105,
   "metadata": {},
   "outputs": [
    {
     "data": {
      "text/plain": [
       "(3, 10)"
      ]
     },
     "execution_count": 105,
     "metadata": {},
     "output_type": "execute_result"
    }
   ],
   "source": [
    "my_array.shape"
   ]
  },
  {
   "cell_type": "markdown",
   "metadata": {},
   "source": [
    "The .shape feature displays the number of rows (3) and the number of columns (10) of the array"
   ]
  },
  {
   "cell_type": "markdown",
   "metadata": {},
   "source": [
    "4- Load the Earthquakes dataset. Export the dataset to an array as you covered in the previous lesson."
   ]
  },
  {
   "cell_type": "code",
   "execution_count": 106,
   "metadata": {},
   "outputs": [
    {
     "data": {
      "text/html": [
       "<div>\n",
       "<style scoped>\n",
       "    .dataframe tbody tr th:only-of-type {\n",
       "        vertical-align: middle;\n",
       "    }\n",
       "\n",
       "    .dataframe tbody tr th {\n",
       "        vertical-align: top;\n",
       "    }\n",
       "\n",
       "    .dataframe thead th {\n",
       "        text-align: right;\n",
       "    }\n",
       "</style>\n",
       "<table border=\"1\" class=\"dataframe\">\n",
       "  <thead>\n",
       "    <tr style=\"text-align: right;\">\n",
       "      <th></th>\n",
       "      <th>DateTime</th>\n",
       "      <th>Latitude</th>\n",
       "      <th>Longitude</th>\n",
       "      <th>Depth</th>\n",
       "      <th>Magnitude</th>\n",
       "      <th>MagType</th>\n",
       "      <th>NbStations</th>\n",
       "      <th>Gap</th>\n",
       "      <th>Distance</th>\n",
       "      <th>RMS</th>\n",
       "      <th>Source</th>\n",
       "      <th>EventID</th>\n",
       "    </tr>\n",
       "  </thead>\n",
       "  <tbody>\n",
       "    <tr>\n",
       "      <th>0</th>\n",
       "      <td>1970/01/04 17:00:40.20</td>\n",
       "      <td>24.139</td>\n",
       "      <td>102.503</td>\n",
       "      <td>31.0</td>\n",
       "      <td>7.5</td>\n",
       "      <td>Ms</td>\n",
       "      <td>90.0</td>\n",
       "      <td>NaN</td>\n",
       "      <td>NaN</td>\n",
       "      <td>0.0</td>\n",
       "      <td>NEI</td>\n",
       "      <td>1.970010e+09</td>\n",
       "    </tr>\n",
       "    <tr>\n",
       "      <th>1</th>\n",
       "      <td>1970/01/06 05:35:51.80</td>\n",
       "      <td>-9.628</td>\n",
       "      <td>151.458</td>\n",
       "      <td>8.0</td>\n",
       "      <td>6.2</td>\n",
       "      <td>Ms</td>\n",
       "      <td>85.0</td>\n",
       "      <td>NaN</td>\n",
       "      <td>NaN</td>\n",
       "      <td>0.0</td>\n",
       "      <td>NEI</td>\n",
       "      <td>1.970011e+09</td>\n",
       "    </tr>\n",
       "    <tr>\n",
       "      <th>2</th>\n",
       "      <td>1970/01/08 17:12:39.10</td>\n",
       "      <td>-34.741</td>\n",
       "      <td>178.568</td>\n",
       "      <td>179.0</td>\n",
       "      <td>6.1</td>\n",
       "      <td>Mb</td>\n",
       "      <td>59.0</td>\n",
       "      <td>NaN</td>\n",
       "      <td>NaN</td>\n",
       "      <td>0.0</td>\n",
       "      <td>NEI</td>\n",
       "      <td>1.970011e+09</td>\n",
       "    </tr>\n",
       "    <tr>\n",
       "      <th>3</th>\n",
       "      <td>1970/01/10 12:07:08.60</td>\n",
       "      <td>6.825</td>\n",
       "      <td>126.737</td>\n",
       "      <td>73.0</td>\n",
       "      <td>6.1</td>\n",
       "      <td>Mb</td>\n",
       "      <td>91.0</td>\n",
       "      <td>NaN</td>\n",
       "      <td>NaN</td>\n",
       "      <td>0.0</td>\n",
       "      <td>NEI</td>\n",
       "      <td>1.970011e+09</td>\n",
       "    </tr>\n",
       "    <tr>\n",
       "      <th>4</th>\n",
       "      <td>1970/01/16 08:05:39.00</td>\n",
       "      <td>60.280</td>\n",
       "      <td>-152.660</td>\n",
       "      <td>85.0</td>\n",
       "      <td>6.0</td>\n",
       "      <td>ML</td>\n",
       "      <td>0.0</td>\n",
       "      <td>NaN</td>\n",
       "      <td>NaN</td>\n",
       "      <td>NaN</td>\n",
       "      <td>AK</td>\n",
       "      <td>NaN</td>\n",
       "    </tr>\n",
       "  </tbody>\n",
       "</table>\n",
       "</div>"
      ],
      "text/plain": [
       "                 DateTime  Latitude  Longitude  Depth  Magnitude MagType  \\\n",
       "0  1970/01/04 17:00:40.20    24.139    102.503   31.0        7.5      Ms   \n",
       "1  1970/01/06 05:35:51.80    -9.628    151.458    8.0        6.2      Ms   \n",
       "2  1970/01/08 17:12:39.10   -34.741    178.568  179.0        6.1      Mb   \n",
       "3  1970/01/10 12:07:08.60     6.825    126.737   73.0        6.1      Mb   \n",
       "4  1970/01/16 08:05:39.00    60.280   -152.660   85.0        6.0      ML   \n",
       "\n",
       "   NbStations  Gap  Distance  RMS Source       EventID  \n",
       "0        90.0  NaN       NaN  0.0    NEI  1.970010e+09  \n",
       "1        85.0  NaN       NaN  0.0    NEI  1.970011e+09  \n",
       "2        59.0  NaN       NaN  0.0    NEI  1.970011e+09  \n",
       "3        91.0  NaN       NaN  0.0    NEI  1.970011e+09  \n",
       "4         0.0  NaN       NaN  NaN     AK           NaN  "
      ]
     },
     "execution_count": 106,
     "metadata": {},
     "output_type": "execute_result"
    }
   ],
   "source": [
    "# Import the csv file from my computer\n",
    "data = pd.read_csv(r'C:\\Users\\BalintStewart\\OneDrive - Health Data Research\\Desktop\\Magnimind\\Numpy.13\\earthquakes1970-2014.csv')\n",
    "data.head()"
   ]
  },
  {
   "cell_type": "code",
   "execution_count": 107,
   "metadata": {},
   "outputs": [
    {
     "data": {
      "text/plain": [
       "DateTime       object\n",
       "Latitude      float64\n",
       "Longitude     float64\n",
       "Depth         float64\n",
       "Magnitude     float64\n",
       "MagType        object\n",
       "NbStations    float64\n",
       "Gap           float64\n",
       "Distance      float64\n",
       "RMS           float64\n",
       "Source         object\n",
       "EventID       float64\n",
       "dtype: object"
      ]
     },
     "execution_count": 107,
     "metadata": {},
     "output_type": "execute_result"
    }
   ],
   "source": [
    "data.dtypes"
   ]
  },
  {
   "cell_type": "code",
   "execution_count": 108,
   "metadata": {},
   "outputs": [
    {
     "data": {
      "text/plain": [
       "array([['1970/01/04 17:00:40.20', 24.1389999999999, 102.503, ..., 0.0,\n",
       "        'NEI', 1970010440.0],\n",
       "       ['1970/01/06 05:35:51.80', -9.628, 151.458, ..., 0.0, 'NEI',\n",
       "        1970010640.0],\n",
       "       ['1970/01/08 17:12:39.10', -34.741, 178.568, ..., 0.0, 'NEI',\n",
       "        1970010840.0],\n",
       "       ...,\n",
       "       ['2013/12/17 23:38:08.10', 20.7635, 146.759899999999, ..., 0.74,\n",
       "        'us', 2013121720.0],\n",
       "       ['2014/01/01 16:03:28.89', -13.8779, 167.2434, ..., 0.67, 'us',\n",
       "        2014010120.0],\n",
       "       ['2014/01/13 04:01:04.69', 19.0014, -66.8478, ..., 1.42, 'us',\n",
       "        2014011320.0]], dtype=object)"
      ]
     },
     "execution_count": 108,
     "metadata": {},
     "output_type": "execute_result"
    }
   ],
   "source": [
    "# Export the dataset to an array. This array includes non-numeric data (needed for slicing exercise 5 below)\n",
    "array = data.to_numpy()\n",
    "array"
   ]
  },
  {
   "cell_type": "markdown",
   "metadata": {},
   "source": [
    "5- Slice first 20 rows and column numbers 3, 5, 6, 7, 12. Then, assign the array you sliced to a variable."
   ]
  },
  {
   "cell_type": "code",
   "execution_count": 109,
   "metadata": {},
   "outputs": [
    {
     "name": "stdout",
     "output_type": "stream",
     "text": [
      "[[102.503 7.5 'Ms' 90.0 1970010440.0]\n",
      " [151.458 6.2 'Ms' 85.0 1970010640.0]\n",
      " [178.568 6.1 'Mb' 59.0 1970010840.0]\n",
      " [126.736999999999 6.1 'Mb' 91.0 1970011040.0]\n",
      " [-152.66 6.0 'ML' 0.0 nan]\n",
      " [-177.348999999999 6.5 'Mb' 175.0 1970012040.0]\n",
      " [142.966 6.4 'Ms' 199.0 1970012040.0]\n",
      " [-104.298 6.6 'Ms' 140.0 1970012140.0]\n",
      " [166.37 6.4 'Ms' 91.0 1970012640.0]\n",
      " [-99.48399999999991 6.5 'Ms' 100.0 1970020440.0]\n",
      " [122.117 6.6 'Ms' 94.0 1970020540.0]\n",
      " [100.775 6.1 'Ms' 57.0 1970020640.0]\n",
      " [103.031 6.0 'Ms' 94.0 1970022440.0]\n",
      " [-179.5898 6.0 'ML' 0.0 nan]\n",
      " [-175.039999999999 6.1 'ML' 0.0 nan]\n",
      " [143.706999999999 6.2 'Ms' 82.0 1970030440.0]\n",
      " [168.603 6.5 'Ms' 61.0 1970030940.0]\n",
      " [148.87 6.0 'Mb' 65.0 1970031040.0]\n",
      " [-153.97 6.5 'ML' 0.0 nan]\n",
      " [-69.49899999999991 6.0 'Mb' 118.0 1970031540.0]]\n"
     ]
    }
   ],
   "source": [
    "slice = array[0:20, [2,4,5,6,11]] # note zero indexing\n",
    "print(slice)"
   ]
  },
  {
   "cell_type": "markdown",
   "metadata": {},
   "source": [
    "6- Display the row numbers where last values are equal to 4.5 or higher.\n",
    "(Balint's comment - does 'last values' mean the value in the last column of the array, which is the EventID? Seems a little odd...)"
   ]
  },
  {
   "cell_type": "code",
   "execution_count": 110,
   "metadata": {},
   "outputs": [
    {
     "name": "stdout",
     "output_type": "stream",
     "text": [
      "(array([   0,    1,    2, ..., 5301, 5302, 5303]),)\n"
     ]
    },
    {
     "name": "stderr",
     "output_type": "stream",
     "text": [
      "C:\\Users\\BalintStewart\\AppData\\Local\\Temp\\ipykernel_16232\\2458065512.py:5: RuntimeWarning: invalid value encountered in greater_equal\n",
      "  row_indices = np.where(last_col >= 4.5)\n"
     ]
    }
   ],
   "source": [
    "# Select the last column of the array\n",
    "last_col = array[:, -1]\n",
    "\n",
    "# use np.where function to find rows where condition is true\n",
    "row_indices = np.where(last_col >= 4.5)\n",
    "print(row_indices)\n"
   ]
  },
  {
   "cell_type": "markdown",
   "metadata": {},
   "source": [
    "7- Assign 1 to first row."
   ]
  },
  {
   "cell_type": "code",
   "execution_count": 111,
   "metadata": {},
   "outputs": [
    {
     "name": "stdout",
     "output_type": "stream",
     "text": [
      "[[1 1 1 ... 1 1 1]\n",
      " ['1970/01/06 05:35:51.80' -9.628 151.458 ... 0.0 'NEI' 1970010640.0]\n",
      " ['1970/01/08 17:12:39.10' -34.741 178.568 ... 0.0 'NEI' 1970010840.0]\n",
      " ...\n",
      " ['2013/12/17 23:38:08.10' 20.7635 146.759899999999 ... 0.74 'us'\n",
      "  2013121720.0]\n",
      " ['2014/01/01 16:03:28.89' -13.8779 167.2434 ... 0.67 'us' 2014010120.0]\n",
      " ['2014/01/13 04:01:04.69' 19.0014 -66.8478 ... 1.42 'us' 2014011320.0]]\n"
     ]
    }
   ],
   "source": [
    "array[0] = 1\n",
    "print(array)"
   ]
  },
  {
   "cell_type": "markdown",
   "metadata": {},
   "source": [
    "8- Save the final state of the array to disk. You are going to use this in the next assignment."
   ]
  },
  {
   "cell_type": "code",
   "execution_count": 112,
   "metadata": {},
   "outputs": [],
   "source": [
    "# Save the array to a file\n",
    "np.save(r'C:\\Users\\BalintStewart\\OneDrive - Health Data Research\\Desktop\\Magnimind\\Numpy.13\\assignment_array.npy', array)"
   ]
  },
  {
   "cell_type": "markdown",
   "metadata": {},
   "source": [
    "9- Load the array you saved in the previous lesson from the disk."
   ]
  },
  {
   "cell_type": "code",
   "execution_count": 113,
   "metadata": {},
   "outputs": [],
   "source": [
    "mod_array = np.load(r'C:\\Users\\BalintStewart\\OneDrive - Health Data Research\\Desktop\\Magnimind\\Numpy.13\\assignment_array.npy', allow_pickle= True) # allow_pickle needed because of array containing python objects liek datetime, strings\n"
   ]
  },
  {
   "cell_type": "markdown",
   "metadata": {},
   "source": [
    "10- Display the mean and the standard deviation for each column.\n"
   ]
  },
  {
   "cell_type": "code",
   "execution_count": 114,
   "metadata": {},
   "outputs": [
    {
     "data": {
      "text/plain": [
       "array([[1, 1, 1, ..., 1, 1, 1],\n",
       "       [-9.628, 151.458, 8.0, ..., nan, nan, 1970010640.0],\n",
       "       [-34.741, 178.568, 179.0, ..., nan, nan, 1970010840.0],\n",
       "       ...,\n",
       "       [20.7635, 146.759899999999, 16.06, ..., 14.0, 4.0, 2013121720.0],\n",
       "       [-13.8779, 167.2434, 187.0, ..., 14.0, 4.0, 2014010120.0],\n",
       "       [19.0014, -66.8478, 28.0, ..., 21.0, 1.0, 2014011320.0]],\n",
       "      dtype=object)"
      ]
     },
     "execution_count": 114,
     "metadata": {},
     "output_type": "execute_result"
    }
   ],
   "source": [
    "# Need to first remove non-numeric columns to run aggregate functions on all the columns\n",
    "num_array = mod_array[:,[1,2,3,4,6,7,8,11]]\n",
    "num_array\n"
   ]
  },
  {
   "cell_type": "code",
   "execution_count": 115,
   "metadata": {},
   "outputs": [
    {
     "data": {
      "text/plain": [
       "array([2.5859975490196043, 44.62208761312208, 74.26238122171952,\n",
       "       6.3678883861236075, 301.7569523809524, 48.820809248554916,\n",
       "       6.573099415204679, 1979933208.4465852], dtype=object)"
      ]
     },
     "execution_count": 115,
     "metadata": {},
     "output_type": "execute_result"
    }
   ],
   "source": [
    "mean_per_column = np.nanmean(num_array, axis=0) # no.nanmean ignores NaN values in the column\n",
    "mean_per_column"
   ]
  },
  {
   "cell_type": "code",
   "execution_count": 116,
   "metadata": {},
   "outputs": [
    {
     "ename": "TypeError",
     "evalue": "loop of ufunc does not support argument 0 of type float which has no callable sqrt method",
     "output_type": "error",
     "traceback": [
      "\u001b[1;31m---------------------------------------------------------------------------\u001b[0m",
      "\u001b[1;31mAttributeError\u001b[0m                            Traceback (most recent call last)",
      "\u001b[1;31mAttributeError\u001b[0m: 'float' object has no attribute 'sqrt'",
      "\nThe above exception was the direct cause of the following exception:\n",
      "\u001b[1;31mTypeError\u001b[0m                                 Traceback (most recent call last)",
      "Cell \u001b[1;32mIn[116], line 1\u001b[0m\n\u001b[1;32m----> 1\u001b[0m std_per_column \u001b[38;5;241m=\u001b[39m \u001b[43mnp\u001b[49m\u001b[38;5;241;43m.\u001b[39;49m\u001b[43mnanstd\u001b[49m\u001b[43m(\u001b[49m\u001b[43mnum_array\u001b[49m\u001b[43m,\u001b[49m\u001b[43m \u001b[49m\u001b[43maxis\u001b[49m\u001b[43m \u001b[49m\u001b[38;5;241;43m=\u001b[39;49m\u001b[43m \u001b[49m\u001b[38;5;241;43m0\u001b[39;49m\u001b[43m)\u001b[49m\n\u001b[0;32m      2\u001b[0m std_per_column\n",
      "File \u001b[1;32mc:\\Users\\BalintStewart\\AppData\\Local\\Programs\\Python\\Python312\\Lib\\site-packages\\numpy\\lib\\_nanfunctions_impl.py:2057\u001b[0m, in \u001b[0;36mnanstd\u001b[1;34m(a, axis, dtype, out, ddof, keepdims, where, mean, correction)\u001b[0m\n\u001b[0;32m   2053\u001b[0m var \u001b[38;5;241m=\u001b[39m nanvar(a, axis\u001b[38;5;241m=\u001b[39maxis, dtype\u001b[38;5;241m=\u001b[39mdtype, out\u001b[38;5;241m=\u001b[39mout, ddof\u001b[38;5;241m=\u001b[39mddof,\n\u001b[0;32m   2054\u001b[0m              keepdims\u001b[38;5;241m=\u001b[39mkeepdims, where\u001b[38;5;241m=\u001b[39mwhere, mean\u001b[38;5;241m=\u001b[39mmean,\n\u001b[0;32m   2055\u001b[0m              correction\u001b[38;5;241m=\u001b[39mcorrection)\n\u001b[0;32m   2056\u001b[0m \u001b[38;5;28;01mif\u001b[39;00m \u001b[38;5;28misinstance\u001b[39m(var, np\u001b[38;5;241m.\u001b[39mndarray):\n\u001b[1;32m-> 2057\u001b[0m     std \u001b[38;5;241m=\u001b[39m \u001b[43mnp\u001b[49m\u001b[38;5;241;43m.\u001b[39;49m\u001b[43msqrt\u001b[49m\u001b[43m(\u001b[49m\u001b[43mvar\u001b[49m\u001b[43m,\u001b[49m\u001b[43m \u001b[49m\u001b[43mout\u001b[49m\u001b[38;5;241;43m=\u001b[39;49m\u001b[43mvar\u001b[49m\u001b[43m)\u001b[49m\n\u001b[0;32m   2058\u001b[0m \u001b[38;5;28;01melif\u001b[39;00m \u001b[38;5;28mhasattr\u001b[39m(var, \u001b[38;5;124m'\u001b[39m\u001b[38;5;124mdtype\u001b[39m\u001b[38;5;124m'\u001b[39m):\n\u001b[0;32m   2059\u001b[0m     std \u001b[38;5;241m=\u001b[39m var\u001b[38;5;241m.\u001b[39mdtype\u001b[38;5;241m.\u001b[39mtype(np\u001b[38;5;241m.\u001b[39msqrt(var))\n",
      "\u001b[1;31mTypeError\u001b[0m: loop of ufunc does not support argument 0 of type float which has no callable sqrt method"
     ]
    }
   ],
   "source": [
    "std_per_column = np.nanstd(num_array, axis = 0) # this throws an error \n",
    "std_per_column"
   ]
  },
  {
   "cell_type": "markdown",
   "metadata": {},
   "source": [
    "11- Subtract 1, 25, 25, 10, 4 from columns in order. (Remember it can be done in one line of code.)\n"
   ]
  },
  {
   "cell_type": "code",
   "execution_count": 120,
   "metadata": {},
   "outputs": [
    {
     "data": {
      "text/plain": [
       "array([[0, -24, -24, ..., 1, 1, 1],\n",
       "       [-10.628, 126.458, -17.0, ..., nan, nan, 1970010640.0],\n",
       "       [-35.741, 153.568, 154.0, ..., nan, nan, 1970010840.0],\n",
       "       ...,\n",
       "       [19.7635, 121.75989999999899, -8.940000000000001, ..., 14.0, 4.0,\n",
       "        2013121720.0],\n",
       "       [-14.8779, 142.2434, 162.0, ..., 14.0, 4.0, 2014010120.0],\n",
       "       [18.0014, -91.8478, 3.0, ..., 21.0, 1.0, 2014011320.0]],\n",
       "      dtype=object)"
      ]
     },
     "execution_count": 120,
     "metadata": {},
     "output_type": "execute_result"
    }
   ],
   "source": [
    "new_array = num_array - np.array([1, 25, 25, 10, 4,0,0,0]) # This subtracts 1 from each row in col 1, 25 from each row in col 2 etc. There are 8\n",
    "new_array"
   ]
  },
  {
   "cell_type": "markdown",
   "metadata": {},
   "source": [
    "12- Multiply each element by 2. (Remember it can be done in one line of code.)"
   ]
  },
  {
   "cell_type": "code",
   "execution_count": 122,
   "metadata": {},
   "outputs": [
    {
     "data": {
      "text/plain": [
       "array([[0, -48, -48, ..., 2, 2, 2],\n",
       "       [-21.256, 252.916, -34.0, ..., nan, nan, 3940021280.0],\n",
       "       [-71.482, 307.136, 308.0, ..., nan, nan, 3940021680.0],\n",
       "       ...,\n",
       "       [39.527, 243.51979999999799, -17.880000000000003, ..., 28.0, 8.0,\n",
       "        4026243440.0],\n",
       "       [-29.7558, 284.4868, 324.0, ..., 28.0, 8.0, 4028020240.0],\n",
       "       [36.0028, -183.6956, 6.0, ..., 42.0, 2.0, 4028022640.0]],\n",
       "      dtype=object)"
      ]
     },
     "execution_count": 122,
     "metadata": {},
     "output_type": "execute_result"
    }
   ],
   "source": [
    "times_two = new_array * 2\n",
    "times_two"
   ]
  }
 ],
 "metadata": {
  "kernelspec": {
   "display_name": "Python 3",
   "language": "python",
   "name": "python3"
  },
  "language_info": {
   "codemirror_mode": {
    "name": "ipython",
    "version": 3
   },
   "file_extension": ".py",
   "mimetype": "text/x-python",
   "name": "python",
   "nbconvert_exporter": "python",
   "pygments_lexer": "ipython3",
   "version": "3.12.4"
  }
 },
 "nbformat": 4,
 "nbformat_minor": 2
}
