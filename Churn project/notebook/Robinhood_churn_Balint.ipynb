{
 "cells": [
  {
   "cell_type": "markdown",
   "metadata": {},
   "source": [
    "**Please use Python or R to answer this question. Use the attachment icon in the tools menu to upload your response. If possible, please upload a single file containing your code and written answers, like a Jupyter notebook with markdown cells, or an R markdown file, or a PDF or HTML file. It is also acceptable to upload your code or notebook as a standalone file and to submit your written answers in the free text response space or as a separate upload. If you do provide your Python or R notebook or file, please also include a PDF of the file as well.**\n",
    "\n",
    "In order to improve user retention and lower churn, the growth team at Robinhood is interested in understanding why and which users withdraw money from their Robinhood account. A user is considered churned when their equity value (amount of money in Robinhood account) falls below $10 for a period of 28 consecutive calendar days or longer after having previously been at least $10.\n",
    "\n",
    "Using the datasets given below, answer the following questions:\n",
    "\n",
    "a) What percentage of users have churned in the data provided? [4 points]\n",
    "\n",
    "b) Build a classifier that, given a user with their features, assigns a churn probability for every user and predicts which users will churn. How well does your classifier perform? State any metrics you deem important here. Based on the classifier output, classify each user in the dataset as churned or not churned. [5 points]\n",
    "\n",
    "c) List the most important features that correlate to user churn. [3 points]\n",
    "\n",
    "Please provide the code and any explanation of your assumptions and methodology."
   ]
  },
  {
   "cell_type": "code",
   "execution_count": null,
   "metadata": {
    "vscode": {
     "languageId": "plaintext"
    }
   },
   "outputs": [],
   "source": []
  }
 ],
 "metadata": {
  "language_info": {
   "name": "python"
  }
 },
 "nbformat": 4,
 "nbformat_minor": 2
}
