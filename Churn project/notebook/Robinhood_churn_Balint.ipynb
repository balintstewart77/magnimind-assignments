{
 "cells": [
  {
   "cell_type": "markdown",
   "metadata": {},
   "source": [
    "**Please use Python or R to answer this question. Use the attachment icon in the tools menu to upload your response. If possible, please upload a single file containing your code and written answers, like a Jupyter notebook with markdown cells, or an R markdown file, or a PDF or HTML file. It is also acceptable to upload your code or notebook as a standalone file and to submit your written answers in the free text response space or as a separate upload. If you do provide your Python or R notebook or file, please also include a PDF of the file as well.**\n",
    "\n",
    "In order to improve user retention and lower churn, the growth team at Robinhood is interested in understanding why and which users withdraw money from their Robinhood account. A user is considered churned when their equity value (amount of money in Robinhood account) falls below $10 for a period of 28 consecutive calendar days or longer after having previously been at least $10.\n",
    "\n",
    "Using the datasets given below, answer the following questions:\n",
    "\n",
    "a) What percentage of users have churned in the data provided? [4 points]\n",
    "\n",
    "b) Build a classifier that, given a user with their features, assigns a churn probability for every user and predicts which users will churn. How well does your classifier perform? State any metrics you deem important here. Based on the classifier output, classify each user in the dataset as churned or not churned. [5 points]\n",
    "\n",
    "c) List the most important features that correlate to user churn. [3 points]\n",
    "\n",
    "Please provide the code and any explanation of your assumptions and methodology."
   ]
  },
  {
   "cell_type": "code",
   "execution_count": 880,
   "metadata": {},
   "outputs": [],
   "source": [
    "# load libraries\n",
    "import pandas as pd\n",
    "import numpy as np\n",
    "import matplotlib.pyplot as plt\n",
    "import seaborn as sns\n",
    "from sklearn.metrics import accuracy_score, precision_score, recall_score, f1_score,roc_auc_score, confusion_matrix\n",
    "from sklearn.linear_model import LogisticRegression\n",
    "from sklearn.model_selection import train_test_split\n",
    "from sklearn.preprocessing import StandardScaler\n",
    "from sklearn.metrics import ConfusionMatrixDisplay\n",
    "from sklearn.model_selection import GridSearchCV\n",
    "from sklearn.metrics import make_scorer\n",
    "\n",
    "from xgboost import XGBClassifier\n",
    "from xgboost import plot_importance\n",
    "from lightgbm import LGBMClassifier\n",
    "from catboost import CatBoostClassifier,  Pool\n",
    "from sklearn.ensemble import HistGradientBoostingClassifier\n",
    "from sklearn.experimental import enable_hist_gradient_boosting\n",
    "from sklearn import svm"
   ]
  },
  {
   "cell_type": "code",
   "execution_count": 808,
   "metadata": {},
   "outputs": [
    {
     "data": {
      "text/plain": [
       "(1119158, 3)"
      ]
     },
     "execution_count": 808,
     "metadata": {},
     "output_type": "execute_result"
    }
   ],
   "source": [
    "# read the churn data \n",
    "evd_df = pd.read_csv(r\"C:\\Users\\BalintStewart\\OneDrive - Health Data Research\\Desktop\\magnimind-assignments\\Churn project\\data\\equity_value_data.csv\")\n",
    "evd_df.shape\n"
   ]
  },
  {
   "cell_type": "code",
   "execution_count": 809,
   "metadata": {},
   "outputs": [
    {
     "data": {
      "text/plain": [
       "(5584, 9)"
      ]
     },
     "execution_count": 809,
     "metadata": {},
     "output_type": "execute_result"
    }
   ],
   "source": [
    "df = pd.read_csv(r\"C:\\Users\\BalintStewart\\OneDrive - Health Data Research\\Desktop\\magnimind-assignments\\Churn project\\data\\features_data.csv\")\n",
    "df.shape"
   ]
  },
  {
   "cell_type": "code",
   "execution_count": 810,
   "metadata": {},
   "outputs": [
    {
     "data": {
      "text/plain": [
       "5584"
      ]
     },
     "execution_count": 810,
     "metadata": {},
     "output_type": "execute_result"
    }
   ],
   "source": [
    "# number of unique customers\n",
    "evd_df.user_id.nunique()"
   ]
  },
  {
   "cell_type": "markdown",
   "metadata": {},
   "source": [
    "Number of unique customers in equity data matches number of rows in feature data which is good!"
   ]
  },
  {
   "cell_type": "code",
   "execution_count": 811,
   "metadata": {},
   "outputs": [
    {
     "data": {
      "text/html": [
       "<div>\n",
       "<style scoped>\n",
       "    .dataframe tbody tr th:only-of-type {\n",
       "        vertical-align: middle;\n",
       "    }\n",
       "\n",
       "    .dataframe tbody tr th {\n",
       "        vertical-align: top;\n",
       "    }\n",
       "\n",
       "    .dataframe thead th {\n",
       "        text-align: right;\n",
       "    }\n",
       "</style>\n",
       "<table border=\"1\" class=\"dataframe\">\n",
       "  <thead>\n",
       "    <tr style=\"text-align: right;\">\n",
       "      <th></th>\n",
       "      <th>timestamp</th>\n",
       "      <th>close_equity</th>\n",
       "      <th>user_id</th>\n",
       "    </tr>\n",
       "  </thead>\n",
       "  <tbody>\n",
       "    <tr>\n",
       "      <th>0</th>\n",
       "      <td>2016-11-16T00:00:00Z</td>\n",
       "      <td>48.16</td>\n",
       "      <td>bcef4fa9b0bdf22bcf7deae708decf03</td>\n",
       "    </tr>\n",
       "    <tr>\n",
       "      <th>1</th>\n",
       "      <td>2016-11-17T00:00:00Z</td>\n",
       "      <td>48.16</td>\n",
       "      <td>bcef4fa9b0bdf22bcf7deae708decf03</td>\n",
       "    </tr>\n",
       "    <tr>\n",
       "      <th>2</th>\n",
       "      <td>2016-11-18T00:00:00Z</td>\n",
       "      <td>48.16</td>\n",
       "      <td>bcef4fa9b0bdf22bcf7deae708decf03</td>\n",
       "    </tr>\n",
       "    <tr>\n",
       "      <th>3</th>\n",
       "      <td>2016-11-21T00:00:00Z</td>\n",
       "      <td>48.16</td>\n",
       "      <td>bcef4fa9b0bdf22bcf7deae708decf03</td>\n",
       "    </tr>\n",
       "    <tr>\n",
       "      <th>4</th>\n",
       "      <td>2016-11-22T00:00:00Z</td>\n",
       "      <td>48.16</td>\n",
       "      <td>bcef4fa9b0bdf22bcf7deae708decf03</td>\n",
       "    </tr>\n",
       "  </tbody>\n",
       "</table>\n",
       "</div>"
      ],
      "text/plain": [
       "              timestamp  close_equity                           user_id\n",
       "0  2016-11-16T00:00:00Z         48.16  bcef4fa9b0bdf22bcf7deae708decf03\n",
       "1  2016-11-17T00:00:00Z         48.16  bcef4fa9b0bdf22bcf7deae708decf03\n",
       "2  2016-11-18T00:00:00Z         48.16  bcef4fa9b0bdf22bcf7deae708decf03\n",
       "3  2016-11-21T00:00:00Z         48.16  bcef4fa9b0bdf22bcf7deae708decf03\n",
       "4  2016-11-22T00:00:00Z         48.16  bcef4fa9b0bdf22bcf7deae708decf03"
      ]
     },
     "execution_count": 811,
     "metadata": {},
     "output_type": "execute_result"
    }
   ],
   "source": [
    "evd_df.head()"
   ]
  },
  {
   "cell_type": "code",
   "execution_count": 812,
   "metadata": {},
   "outputs": [
    {
     "data": {
      "text/plain": [
       "timestamp        object\n",
       "close_equity    float64\n",
       "user_id          object\n",
       "dtype: object"
      ]
     },
     "execution_count": 812,
     "metadata": {},
     "output_type": "execute_result"
    }
   ],
   "source": [
    "evd_df.dtypes"
   ]
  },
  {
   "cell_type": "code",
   "execution_count": 813,
   "metadata": {},
   "outputs": [
    {
     "data": {
      "text/plain": [
       "0"
      ]
     },
     "execution_count": 813,
     "metadata": {},
     "output_type": "execute_result"
    }
   ],
   "source": [
    "# Make sure all equity values are 10 or above\n",
    "evd_df[evd_df['close_equity'] < 10].shape[0]"
   ]
  },
  {
   "cell_type": "code",
   "execution_count": 814,
   "metadata": {},
   "outputs": [],
   "source": [
    "# sort values by user and timestamp\n",
    "evd_df = evd_df.sort_values(['user_id','timestamp'])"
   ]
  },
  {
   "cell_type": "code",
   "execution_count": 815,
   "metadata": {},
   "outputs": [
    {
     "data": {
      "text/plain": [
       "count                  1119158\n",
       "unique                     255\n",
       "top       2017-03-09T00:00:00Z\n",
       "freq                      5274\n",
       "Name: timestamp, dtype: object"
      ]
     },
     "execution_count": 815,
     "metadata": {},
     "output_type": "execute_result"
    }
   ],
   "source": [
    "# Check timeperiod of the data is as expected (2016-08-16, and 2017-08-18) \n",
    "evd_df['timestamp'].describe() "
   ]
  },
  {
   "cell_type": "code",
   "execution_count": 816,
   "metadata": {},
   "outputs": [],
   "source": [
    "evd_df['timestamp'] = pd.to_datetime(evd_df['timestamp'])"
   ]
  },
  {
   "cell_type": "code",
   "execution_count": 817,
   "metadata": {},
   "outputs": [],
   "source": [
    "# For each user, look for time deltas >28 days (time periods where user had <$10 close equity).\n",
    "evd_df['time_delta'] = evd_df.groupby('user_id')['timestamp'].diff()\n",
    "\n",
    "#Calculate delta days as integer\n",
    "evd_df['delta_days'] = evd_df['time_delta'].dt.days"
   ]
  },
  {
   "cell_type": "code",
   "execution_count": 818,
   "metadata": {},
   "outputs": [
    {
     "data": {
      "text/plain": [
       "timestamp          0\n",
       "close_equity       0\n",
       "user_id            0\n",
       "time_delta      5584\n",
       "delta_days      5584\n",
       "dtype: int64"
      ]
     },
     "execution_count": 818,
     "metadata": {},
     "output_type": "execute_result"
    }
   ],
   "source": [
    "evd_df.isna().sum()"
   ]
  },
  {
   "cell_type": "code",
   "execution_count": 819,
   "metadata": {},
   "outputs": [],
   "source": [
    "# Fill NAs for timedelta (first timepoint for each user_id) to zero\n",
    "evd_df['time_delta'] = evd_df['time_delta'].fillna(0)\n",
    "evd_df['delta_days'] = evd_df['delta_days'].fillna(0)\n"
   ]
  },
  {
   "cell_type": "code",
   "execution_count": 820,
   "metadata": {},
   "outputs": [
    {
     "data": {
      "text/plain": [
       "timestamp       0\n",
       "close_equity    0\n",
       "user_id         0\n",
       "time_delta      0\n",
       "delta_days      0\n",
       "dtype: int64"
      ]
     },
     "execution_count": 820,
     "metadata": {},
     "output_type": "execute_result"
    }
   ],
   "source": [
    "evd_df.isna().sum()"
   ]
  },
  {
   "cell_type": "code",
   "execution_count": 821,
   "metadata": {},
   "outputs": [
    {
     "data": {
      "text/html": [
       "<div>\n",
       "<style scoped>\n",
       "    .dataframe tbody tr th:only-of-type {\n",
       "        vertical-align: middle;\n",
       "    }\n",
       "\n",
       "    .dataframe tbody tr th {\n",
       "        vertical-align: top;\n",
       "    }\n",
       "\n",
       "    .dataframe thead th {\n",
       "        text-align: right;\n",
       "    }\n",
       "</style>\n",
       "<table border=\"1\" class=\"dataframe\">\n",
       "  <thead>\n",
       "    <tr style=\"text-align: right;\">\n",
       "      <th></th>\n",
       "      <th>timestamp</th>\n",
       "      <th>close_equity</th>\n",
       "      <th>user_id</th>\n",
       "      <th>time_delta</th>\n",
       "      <th>delta_days</th>\n",
       "    </tr>\n",
       "  </thead>\n",
       "  <tbody>\n",
       "    <tr>\n",
       "      <th>505994</th>\n",
       "      <td>2016-08-18 00:00:00+00:00</td>\n",
       "      <td>1211.6055</td>\n",
       "      <td>0012db34aa7b083f5714e7831195e54d</td>\n",
       "      <td>0</td>\n",
       "      <td>0.0</td>\n",
       "    </tr>\n",
       "    <tr>\n",
       "      <th>505995</th>\n",
       "      <td>2016-08-19 00:00:00+00:00</td>\n",
       "      <td>1173.5640</td>\n",
       "      <td>0012db34aa7b083f5714e7831195e54d</td>\n",
       "      <td>1 days 00:00:00</td>\n",
       "      <td>1.0</td>\n",
       "    </tr>\n",
       "    <tr>\n",
       "      <th>505996</th>\n",
       "      <td>2016-08-22 00:00:00+00:00</td>\n",
       "      <td>1253.0597</td>\n",
       "      <td>0012db34aa7b083f5714e7831195e54d</td>\n",
       "      <td>3 days 00:00:00</td>\n",
       "      <td>3.0</td>\n",
       "    </tr>\n",
       "    <tr>\n",
       "      <th>505997</th>\n",
       "      <td>2016-08-23 00:00:00+00:00</td>\n",
       "      <td>1252.9050</td>\n",
       "      <td>0012db34aa7b083f5714e7831195e54d</td>\n",
       "      <td>1 days 00:00:00</td>\n",
       "      <td>1.0</td>\n",
       "    </tr>\n",
       "    <tr>\n",
       "      <th>505998</th>\n",
       "      <td>2016-08-24 00:00:00+00:00</td>\n",
       "      <td>1262.1360</td>\n",
       "      <td>0012db34aa7b083f5714e7831195e54d</td>\n",
       "      <td>1 days 00:00:00</td>\n",
       "      <td>1.0</td>\n",
       "    </tr>\n",
       "  </tbody>\n",
       "</table>\n",
       "</div>"
      ],
      "text/plain": [
       "                       timestamp  close_equity  \\\n",
       "505994 2016-08-18 00:00:00+00:00     1211.6055   \n",
       "505995 2016-08-19 00:00:00+00:00     1173.5640   \n",
       "505996 2016-08-22 00:00:00+00:00     1253.0597   \n",
       "505997 2016-08-23 00:00:00+00:00     1252.9050   \n",
       "505998 2016-08-24 00:00:00+00:00     1262.1360   \n",
       "\n",
       "                                 user_id       time_delta  delta_days  \n",
       "505994  0012db34aa7b083f5714e7831195e54d                0         0.0  \n",
       "505995  0012db34aa7b083f5714e7831195e54d  1 days 00:00:00         1.0  \n",
       "505996  0012db34aa7b083f5714e7831195e54d  3 days 00:00:00         3.0  \n",
       "505997  0012db34aa7b083f5714e7831195e54d  1 days 00:00:00         1.0  \n",
       "505998  0012db34aa7b083f5714e7831195e54d  1 days 00:00:00         1.0  "
      ]
     },
     "execution_count": 821,
     "metadata": {},
     "output_type": "execute_result"
    }
   ],
   "source": [
    "evd_df.head()"
   ]
  },
  {
   "cell_type": "code",
   "execution_count": 822,
   "metadata": {},
   "outputs": [],
   "source": [
    "# Identify customers who disappear for >28days (and come back again)\n",
    "evd_df['is_churn_return'] = np.where(evd_df['delta_days'] >= 28, 1, 0)"
   ]
  },
  {
   "cell_type": "code",
   "execution_count": 823,
   "metadata": {},
   "outputs": [],
   "source": [
    "churned_return = evd_df.loc[evd_df['is_churn_return'] == 1]\n",
    "churned_returned_df = pd.DataFrame({'user_id':churned_return['user_id'].unique()})"
   ]
  },
  {
   "cell_type": "code",
   "execution_count": 824,
   "metadata": {},
   "outputs": [],
   "source": [
    "churned_returned = evd_df[evd_df['user_id'].isin(churned_returned_df['user_id'])]"
   ]
  },
  {
   "cell_type": "code",
   "execution_count": 825,
   "metadata": {},
   "outputs": [
    {
     "data": {
      "text/html": [
       "<div>\n",
       "<style scoped>\n",
       "    .dataframe tbody tr th:only-of-type {\n",
       "        vertical-align: middle;\n",
       "    }\n",
       "\n",
       "    .dataframe tbody tr th {\n",
       "        vertical-align: top;\n",
       "    }\n",
       "\n",
       "    .dataframe thead th {\n",
       "        text-align: right;\n",
       "    }\n",
       "</style>\n",
       "<table border=\"1\" class=\"dataframe\">\n",
       "  <thead>\n",
       "    <tr style=\"text-align: right;\">\n",
       "      <th></th>\n",
       "      <th>timestamp</th>\n",
       "      <th>close_equity</th>\n",
       "      <th>user_id</th>\n",
       "      <th>time_delta</th>\n",
       "      <th>delta_days</th>\n",
       "      <th>is_churn_return</th>\n",
       "    </tr>\n",
       "  </thead>\n",
       "  <tbody>\n",
       "    <tr>\n",
       "      <th>904657</th>\n",
       "      <td>2017-04-04 00:00:00+00:00</td>\n",
       "      <td>3913.0800</td>\n",
       "      <td>ecd3be20ba7b22811a33151289f77547</td>\n",
       "      <td>1 days 00:00:00</td>\n",
       "      <td>1.0</td>\n",
       "      <td>0</td>\n",
       "    </tr>\n",
       "    <tr>\n",
       "      <th>823956</th>\n",
       "      <td>2017-06-07 00:00:00+00:00</td>\n",
       "      <td>68.6200</td>\n",
       "      <td>1db1845598caddfac89ee40e2d781b38</td>\n",
       "      <td>1 days 00:00:00</td>\n",
       "      <td>1.0</td>\n",
       "      <td>0</td>\n",
       "    </tr>\n",
       "    <tr>\n",
       "      <th>875100</th>\n",
       "      <td>2017-03-23 00:00:00+00:00</td>\n",
       "      <td>81.6900</td>\n",
       "      <td>a797fff2fb1dbee743c71522d32102b4</td>\n",
       "      <td>1 days 00:00:00</td>\n",
       "      <td>1.0</td>\n",
       "      <td>0</td>\n",
       "    </tr>\n",
       "    <tr>\n",
       "      <th>44942</th>\n",
       "      <td>2017-01-23 00:00:00+00:00</td>\n",
       "      <td>1000.0000</td>\n",
       "      <td>dd229a74b6a3477075139c8799a98c2c</td>\n",
       "      <td>3 days 00:00:00</td>\n",
       "      <td>3.0</td>\n",
       "      <td>0</td>\n",
       "    </tr>\n",
       "    <tr>\n",
       "      <th>596614</th>\n",
       "      <td>2017-08-07 00:00:00+00:00</td>\n",
       "      <td>11.2600</td>\n",
       "      <td>a18b4a7218e5ef7e6200fc280cf08864</td>\n",
       "      <td>3 days 00:00:00</td>\n",
       "      <td>3.0</td>\n",
       "      <td>0</td>\n",
       "    </tr>\n",
       "    <tr>\n",
       "      <th>184187</th>\n",
       "      <td>2017-03-21 00:00:00+00:00</td>\n",
       "      <td>479.8001</td>\n",
       "      <td>321ba399276b5775758c9c0673796b26</td>\n",
       "      <td>1 days 00:00:00</td>\n",
       "      <td>1.0</td>\n",
       "      <td>0</td>\n",
       "    </tr>\n",
       "    <tr>\n",
       "      <th>471199</th>\n",
       "      <td>2017-03-28 00:00:00+00:00</td>\n",
       "      <td>2218.8200</td>\n",
       "      <td>975ce5d5f60c8df32f2bd0fb0c1f21bf</td>\n",
       "      <td>1 days 00:00:00</td>\n",
       "      <td>1.0</td>\n",
       "      <td>0</td>\n",
       "    </tr>\n",
       "    <tr>\n",
       "      <th>413060</th>\n",
       "      <td>2017-03-21 00:00:00+00:00</td>\n",
       "      <td>410.7700</td>\n",
       "      <td>ec781fbc977db5d88af48e5304d5da41</td>\n",
       "      <td>1 days 00:00:00</td>\n",
       "      <td>1.0</td>\n",
       "      <td>0</td>\n",
       "    </tr>\n",
       "    <tr>\n",
       "      <th>133039</th>\n",
       "      <td>2017-02-27 00:00:00+00:00</td>\n",
       "      <td>1100.5600</td>\n",
       "      <td>77e2ac2568295a760470f47fa2932374</td>\n",
       "      <td>3 days 00:00:00</td>\n",
       "      <td>3.0</td>\n",
       "      <td>0</td>\n",
       "    </tr>\n",
       "    <tr>\n",
       "      <th>996389</th>\n",
       "      <td>2017-02-03 00:00:00+00:00</td>\n",
       "      <td>515.1300</td>\n",
       "      <td>20f9f229c5dcd4c1ca3c07dc549e6f6a</td>\n",
       "      <td>1 days 00:00:00</td>\n",
       "      <td>1.0</td>\n",
       "      <td>0</td>\n",
       "    </tr>\n",
       "  </tbody>\n",
       "</table>\n",
       "</div>"
      ],
      "text/plain": [
       "                       timestamp  close_equity  \\\n",
       "904657 2017-04-04 00:00:00+00:00     3913.0800   \n",
       "823956 2017-06-07 00:00:00+00:00       68.6200   \n",
       "875100 2017-03-23 00:00:00+00:00       81.6900   \n",
       "44942  2017-01-23 00:00:00+00:00     1000.0000   \n",
       "596614 2017-08-07 00:00:00+00:00       11.2600   \n",
       "184187 2017-03-21 00:00:00+00:00      479.8001   \n",
       "471199 2017-03-28 00:00:00+00:00     2218.8200   \n",
       "413060 2017-03-21 00:00:00+00:00      410.7700   \n",
       "133039 2017-02-27 00:00:00+00:00     1100.5600   \n",
       "996389 2017-02-03 00:00:00+00:00      515.1300   \n",
       "\n",
       "                                 user_id       time_delta  delta_days  \\\n",
       "904657  ecd3be20ba7b22811a33151289f77547  1 days 00:00:00         1.0   \n",
       "823956  1db1845598caddfac89ee40e2d781b38  1 days 00:00:00         1.0   \n",
       "875100  a797fff2fb1dbee743c71522d32102b4  1 days 00:00:00         1.0   \n",
       "44942   dd229a74b6a3477075139c8799a98c2c  3 days 00:00:00         3.0   \n",
       "596614  a18b4a7218e5ef7e6200fc280cf08864  3 days 00:00:00         3.0   \n",
       "184187  321ba399276b5775758c9c0673796b26  1 days 00:00:00         1.0   \n",
       "471199  975ce5d5f60c8df32f2bd0fb0c1f21bf  1 days 00:00:00         1.0   \n",
       "413060  ec781fbc977db5d88af48e5304d5da41  1 days 00:00:00         1.0   \n",
       "133039  77e2ac2568295a760470f47fa2932374  3 days 00:00:00         3.0   \n",
       "996389  20f9f229c5dcd4c1ca3c07dc549e6f6a  1 days 00:00:00         1.0   \n",
       "\n",
       "        is_churn_return  \n",
       "904657                0  \n",
       "823956                0  \n",
       "875100                0  \n",
       "44942                 0  \n",
       "596614                0  \n",
       "184187                0  \n",
       "471199                0  \n",
       "413060                0  \n",
       "133039                0  \n",
       "996389                0  "
      ]
     },
     "execution_count": 825,
     "metadata": {},
     "output_type": "execute_result"
    }
   ],
   "source": [
    "churned_returned.sample(10)"
   ]
  },
  {
   "cell_type": "code",
   "execution_count": 826,
   "metadata": {},
   "outputs": [],
   "source": [
    "## Visualise lost and (sometimes) returned customers"
   ]
  },
  {
   "cell_type": "code",
   "execution_count": 827,
   "metadata": {},
   "outputs": [
    {
     "data": {
      "image/png": "[encoded data removed]",
      "text/plain": [
       "<Figure size 1000x600 with 1 Axes>"
      ]
     },
     "metadata": {},
     "output_type": "display_data"
    }
   ],
   "source": [
    "random_5_churned_returned = churned_returned['user_id'].drop_duplicates().sample(5)\n",
    "\n",
    "filtered_df = churned_returned[churned_returned['user_id'].isin(random_5_churned_returned)]\n",
    "\n",
    "plt.figure(figsize=(10, 6))\n",
    "sns.lineplot(data=filtered_df, x='timestamp', y='close_equity', hue='user_id')\n",
    "sns.scatterplot(data=filtered_df, x='timestamp', y='close_equity', hue='user_id', style='user_id', legend=False)\n",
    "plt.title('Random sample of 5 lost and then returned customers')\n",
    "plt.xlabel('Timestamp')\n",
    "plt.ylabel('Close Equity')\n",
    "plt.xticks(rotation=45)\n",
    "plt.xlim(evd_df['timestamp'].min(), evd_df['timestamp'].max())\n",
    "plt.tight_layout()\n",
    "plt.show()"
   ]
  },
  {
   "cell_type": "code",
   "execution_count": 828,
   "metadata": {},
   "outputs": [],
   "source": [
    "# Find users who leave and don't come back\n",
    "last_date = pd.DataFrame(evd_df.groupby('user_id')['timestamp'].max())\n",
    "cut_off = evd_df['timestamp'].max() - pd.Timedelta(days= 28)\n",
    "lost_users = last_date[last_date['timestamp'] < cut_off]"
   ]
  },
  {
   "cell_type": "code",
   "execution_count": 829,
   "metadata": {},
   "outputs": [],
   "source": [
    "lost_users = lost_users.reset_index()"
   ]
  },
  {
   "cell_type": "code",
   "execution_count": 830,
   "metadata": {},
   "outputs": [
    {
     "name": "stdout",
     "output_type": "stream",
     "text": [
      "Index(['user_id', 'timestamp'], dtype='object')\n"
     ]
    }
   ],
   "source": [
    "print(lost_users.columns)\n"
   ]
  },
  {
   "cell_type": "code",
   "execution_count": 831,
   "metadata": {},
   "outputs": [
    {
     "data": {
      "text/html": [
       "<div>\n",
       "<style scoped>\n",
       "    .dataframe tbody tr th:only-of-type {\n",
       "        vertical-align: middle;\n",
       "    }\n",
       "\n",
       "    .dataframe tbody tr th {\n",
       "        vertical-align: top;\n",
       "    }\n",
       "\n",
       "    .dataframe thead th {\n",
       "        text-align: right;\n",
       "    }\n",
       "</style>\n",
       "<table border=\"1\" class=\"dataframe\">\n",
       "  <thead>\n",
       "    <tr style=\"text-align: right;\">\n",
       "      <th></th>\n",
       "      <th>user_id</th>\n",
       "    </tr>\n",
       "  </thead>\n",
       "  <tbody>\n",
       "    <tr>\n",
       "      <th>0</th>\n",
       "      <td>004aab1640f3a04b87b1f404fb4c018d</td>\n",
       "    </tr>\n",
       "    <tr>\n",
       "      <th>1</th>\n",
       "      <td>004ea9d7662aa8dc840bbff212cfa4b8</td>\n",
       "    </tr>\n",
       "    <tr>\n",
       "      <th>2</th>\n",
       "      <td>00f89f56f25989b0bb7ea05bac2dccc4</td>\n",
       "    </tr>\n",
       "    <tr>\n",
       "      <th>3</th>\n",
       "      <td>01ef51aa8fab66b13d2249bc6ee68975</td>\n",
       "    </tr>\n",
       "    <tr>\n",
       "      <th>4</th>\n",
       "      <td>02012c83f5c4508404312aec848e2deb</td>\n",
       "    </tr>\n",
       "  </tbody>\n",
       "</table>\n",
       "</div>"
      ],
      "text/plain": [
       "                            user_id\n",
       "0  004aab1640f3a04b87b1f404fb4c018d\n",
       "1  004ea9d7662aa8dc840bbff212cfa4b8\n",
       "2  00f89f56f25989b0bb7ea05bac2dccc4\n",
       "3  01ef51aa8fab66b13d2249bc6ee68975\n",
       "4  02012c83f5c4508404312aec848e2deb"
      ]
     },
     "execution_count": 831,
     "metadata": {},
     "output_type": "execute_result"
    }
   ],
   "source": [
    "lost_users_df = pd.DataFrame({'user_id':lost_users['user_id'].unique()})\n",
    "lost_users_df.head()"
   ]
  },
  {
   "cell_type": "code",
   "execution_count": 832,
   "metadata": {},
   "outputs": [],
   "source": [
    "evd_lost = evd_df[evd_df['user_id'].isin(lost_users_df['user_id'])]"
   ]
  },
  {
   "cell_type": "code",
   "execution_count": 833,
   "metadata": {},
   "outputs": [],
   "source": [
    "evd_lost = evd_lost.sort_values(['user_id','timestamp'])"
   ]
  },
  {
   "cell_type": "markdown",
   "metadata": {},
   "source": [
    "## Visualise lost cost customers sample"
   ]
  },
  {
   "cell_type": "code",
   "execution_count": 834,
   "metadata": {},
   "outputs": [
    {
     "data": {
      "image/png": "[encoded data removed]",
      "text/plain": [
       "<Figure size 1000x600 with 1 Axes>"
      ]
     },
     "metadata": {},
     "output_type": "display_data"
    }
   ],
   "source": [
    "random_5_lost = evd_lost['user_id'].drop_duplicates().sample(5)\n",
    "\n",
    "filtered_df = evd_lost[evd_lost['user_id'].isin(random_5_lost)]\n",
    "\n",
    "plt.figure(figsize=(10, 6))\n",
    "sns.lineplot(data=filtered_df, x='timestamp', y='close_equity', hue='user_id')\n",
    "plt.title('Random sample of 5 lost customers')\n",
    "plt.xlabel('Timestamp')\n",
    "plt.ylabel('Close Equity')\n",
    "plt.xticks(rotation=45)\n",
    "plt.xlim(evd_df['timestamp'].min(), evd_df['timestamp'].max())\n",
    "plt.tight_layout()\n",
    "plt.show()"
   ]
  },
  {
   "cell_type": "code",
   "execution_count": 835,
   "metadata": {},
   "outputs": [],
   "source": [
    "all_churned = pd.concat([churned_returned_df,lost_users_df])"
   ]
  },
  {
   "cell_type": "code",
   "execution_count": 836,
   "metadata": {},
   "outputs": [
    {
     "data": {
      "text/plain": [
       "1000"
      ]
     },
     "execution_count": 836,
     "metadata": {},
     "output_type": "execute_result"
    }
   ],
   "source": [
    "all_churned = pd.DataFrame({'user_id': all_churned['user_id'].unique()})\n",
    "all_churned.shape[0]\n"
   ]
  },
  {
   "cell_type": "markdown",
   "metadata": {},
   "source": [
    "## Add features capturing frequency of dropout below 28-day threshold"
   ]
  },
  {
   "cell_type": "markdown",
   "metadata": {},
   "source": [
    "Threshold for customer to be considered churned is 28 days below $10. What about customers that have deltas <28? "
   ]
  },
  {
   "cell_type": "code",
   "execution_count": 837,
   "metadata": {},
   "outputs": [],
   "source": [
    "# Calculate mean deltas for each CG\n",
    "evd_df['mean_delta'] = evd_df.groupby('user_id')['delta_days'].transform('mean')\n",
    "\n",
    "# Calculate number of deltas over 1 day for each user\n",
    "evd_df['delta_over1_day_count'] = evd_df.groupby('user_id')['delta_days'].transform(lambda x: (x > 1).sum())"
   ]
  },
  {
   "cell_type": "markdown",
   "metadata": {},
   "source": [
    "## Add a features capturing activity on the platform"
   ]
  },
  {
   "cell_type": "markdown",
   "metadata": {},
   "source": [
    "Use standard deviation of close_equity as a marker for activity: users with high std show relatively high volume of transactions, those with low std show less activity"
   ]
  },
  {
   "cell_type": "code",
   "execution_count": 838,
   "metadata": {},
   "outputs": [],
   "source": [
    "evd_df['std_close_equity'] = evd_df.groupby('user_id')['close_equity'].transform('std')\n",
    "evd_df['mean_close_equity'] = evd_df.groupby('user_id')['close_equity'].transform('mean')"
   ]
  },
  {
   "cell_type": "code",
   "execution_count": 839,
   "metadata": {},
   "outputs": [
    {
     "data": {
      "text/html": [
       "<div>\n",
       "<style scoped>\n",
       "    .dataframe tbody tr th:only-of-type {\n",
       "        vertical-align: middle;\n",
       "    }\n",
       "\n",
       "    .dataframe tbody tr th {\n",
       "        vertical-align: top;\n",
       "    }\n",
       "\n",
       "    .dataframe thead th {\n",
       "        text-align: right;\n",
       "    }\n",
       "</style>\n",
       "<table border=\"1\" class=\"dataframe\">\n",
       "  <thead>\n",
       "    <tr style=\"text-align: right;\">\n",
       "      <th></th>\n",
       "      <th>timestamp</th>\n",
       "      <th>close_equity</th>\n",
       "      <th>user_id</th>\n",
       "      <th>time_delta</th>\n",
       "      <th>delta_days</th>\n",
       "      <th>is_churn_return</th>\n",
       "      <th>mean_delta</th>\n",
       "      <th>delta_over1_day_count</th>\n",
       "      <th>std_close_equity</th>\n",
       "      <th>mean_close_equity</th>\n",
       "    </tr>\n",
       "  </thead>\n",
       "  <tbody>\n",
       "    <tr>\n",
       "      <th>919269</th>\n",
       "      <td>2017-02-09 00:00:00+00:00</td>\n",
       "      <td>10.00</td>\n",
       "      <td>43104bbb1d5108f25d6bbc711c0c5dff</td>\n",
       "      <td>0</td>\n",
       "      <td>0.0</td>\n",
       "      <td>0</td>\n",
       "      <td>0.0</td>\n",
       "      <td>0</td>\n",
       "      <td>NaN</td>\n",
       "      <td>10.00</td>\n",
       "    </tr>\n",
       "    <tr>\n",
       "      <th>1046475</th>\n",
       "      <td>2017-03-15 00:00:00+00:00</td>\n",
       "      <td>10.10</td>\n",
       "      <td>66ae1899849dde0a7fef17b733daffe5</td>\n",
       "      <td>0</td>\n",
       "      <td>0.0</td>\n",
       "      <td>0</td>\n",
       "      <td>0.0</td>\n",
       "      <td>0</td>\n",
       "      <td>NaN</td>\n",
       "      <td>10.10</td>\n",
       "    </tr>\n",
       "    <tr>\n",
       "      <th>243104</th>\n",
       "      <td>2017-08-17 00:00:00+00:00</td>\n",
       "      <td>251.94</td>\n",
       "      <td>c0fd72037e872e9871e9be2c1a938874</td>\n",
       "      <td>0</td>\n",
       "      <td>0.0</td>\n",
       "      <td>0</td>\n",
       "      <td>0.0</td>\n",
       "      <td>0</td>\n",
       "      <td>NaN</td>\n",
       "      <td>251.94</td>\n",
       "    </tr>\n",
       "    <tr>\n",
       "      <th>915766</th>\n",
       "      <td>2017-01-18 00:00:00+00:00</td>\n",
       "      <td>10.64</td>\n",
       "      <td>fba346182e2d09b2d6fd2fb1e416ae90</td>\n",
       "      <td>0</td>\n",
       "      <td>0.0</td>\n",
       "      <td>0</td>\n",
       "      <td>0.0</td>\n",
       "      <td>0</td>\n",
       "      <td>NaN</td>\n",
       "      <td>10.64</td>\n",
       "    </tr>\n",
       "  </tbody>\n",
       "</table>\n",
       "</div>"
      ],
      "text/plain": [
       "                        timestamp  close_equity  \\\n",
       "919269  2017-02-09 00:00:00+00:00         10.00   \n",
       "1046475 2017-03-15 00:00:00+00:00         10.10   \n",
       "243104  2017-08-17 00:00:00+00:00        251.94   \n",
       "915766  2017-01-18 00:00:00+00:00         10.64   \n",
       "\n",
       "                                  user_id time_delta  delta_days  \\\n",
       "919269   43104bbb1d5108f25d6bbc711c0c5dff          0         0.0   \n",
       "1046475  66ae1899849dde0a7fef17b733daffe5          0         0.0   \n",
       "243104   c0fd72037e872e9871e9be2c1a938874          0         0.0   \n",
       "915766   fba346182e2d09b2d6fd2fb1e416ae90          0         0.0   \n",
       "\n",
       "         is_churn_return  mean_delta  delta_over1_day_count  std_close_equity  \\\n",
       "919269                 0         0.0                      0               NaN   \n",
       "1046475                0         0.0                      0               NaN   \n",
       "243104                 0         0.0                      0               NaN   \n",
       "915766                 0         0.0                      0               NaN   \n",
       "\n",
       "         mean_close_equity  \n",
       "919269               10.00  \n",
       "1046475              10.10  \n",
       "243104              251.94  \n",
       "915766               10.64  "
      ]
     },
     "execution_count": 839,
     "metadata": {},
     "output_type": "execute_result"
    }
   ],
   "source": [
    "evd_df[evd_df['std_close_equity'].isna()]"
   ]
  },
  {
   "cell_type": "markdown",
   "metadata": {},
   "source": [
    "Four users only have a single timestamp in the data, only one equity value and therefore NA for std in close equity. Set this to zero."
   ]
  },
  {
   "cell_type": "code",
   "execution_count": 840,
   "metadata": {},
   "outputs": [],
   "source": [
    "evd_df['std_close_equity'] = evd_df['std_close_equity'].fillna(0)"
   ]
  },
  {
   "cell_type": "code",
   "execution_count": 841,
   "metadata": {},
   "outputs": [],
   "source": [
    "# Add a feature counting the number of rows/timestamps for each user\n",
    "evd_df['user_timestamp_count'] = evd_df.groupby('user_id')['timestamp'].transform('count')"
   ]
  },
  {
   "cell_type": "code",
   "execution_count": 842,
   "metadata": {},
   "outputs": [
    {
     "data": {
      "text/html": [
       "<div>\n",
       "<style scoped>\n",
       "    .dataframe tbody tr th:only-of-type {\n",
       "        vertical-align: middle;\n",
       "    }\n",
       "\n",
       "    .dataframe tbody tr th {\n",
       "        vertical-align: top;\n",
       "    }\n",
       "\n",
       "    .dataframe thead th {\n",
       "        text-align: right;\n",
       "    }\n",
       "</style>\n",
       "<table border=\"1\" class=\"dataframe\">\n",
       "  <thead>\n",
       "    <tr style=\"text-align: right;\">\n",
       "      <th></th>\n",
       "      <th>timestamp</th>\n",
       "      <th>close_equity</th>\n",
       "      <th>user_id</th>\n",
       "      <th>time_delta</th>\n",
       "      <th>delta_days</th>\n",
       "      <th>is_churn_return</th>\n",
       "      <th>mean_delta</th>\n",
       "      <th>delta_over1_day_count</th>\n",
       "      <th>std_close_equity</th>\n",
       "      <th>mean_close_equity</th>\n",
       "      <th>user_timestamp_count</th>\n",
       "    </tr>\n",
       "  </thead>\n",
       "  <tbody>\n",
       "    <tr>\n",
       "      <th>505994</th>\n",
       "      <td>2016-08-18 00:00:00+00:00</td>\n",
       "      <td>1211.6055</td>\n",
       "      <td>0012db34aa7b083f5714e7831195e54d</td>\n",
       "      <td>0</td>\n",
       "      <td>0.0</td>\n",
       "      <td>0</td>\n",
       "      <td>1.444444</td>\n",
       "      <td>54</td>\n",
       "      <td>191.975127</td>\n",
       "      <td>609.100576</td>\n",
       "      <td>252</td>\n",
       "    </tr>\n",
       "    <tr>\n",
       "      <th>505995</th>\n",
       "      <td>2016-08-19 00:00:00+00:00</td>\n",
       "      <td>1173.5640</td>\n",
       "      <td>0012db34aa7b083f5714e7831195e54d</td>\n",
       "      <td>1 days 00:00:00</td>\n",
       "      <td>1.0</td>\n",
       "      <td>0</td>\n",
       "      <td>1.444444</td>\n",
       "      <td>54</td>\n",
       "      <td>191.975127</td>\n",
       "      <td>609.100576</td>\n",
       "      <td>252</td>\n",
       "    </tr>\n",
       "    <tr>\n",
       "      <th>505996</th>\n",
       "      <td>2016-08-22 00:00:00+00:00</td>\n",
       "      <td>1253.0597</td>\n",
       "      <td>0012db34aa7b083f5714e7831195e54d</td>\n",
       "      <td>3 days 00:00:00</td>\n",
       "      <td>3.0</td>\n",
       "      <td>0</td>\n",
       "      <td>1.444444</td>\n",
       "      <td>54</td>\n",
       "      <td>191.975127</td>\n",
       "      <td>609.100576</td>\n",
       "      <td>252</td>\n",
       "    </tr>\n",
       "    <tr>\n",
       "      <th>505997</th>\n",
       "      <td>2016-08-23 00:00:00+00:00</td>\n",
       "      <td>1252.9050</td>\n",
       "      <td>0012db34aa7b083f5714e7831195e54d</td>\n",
       "      <td>1 days 00:00:00</td>\n",
       "      <td>1.0</td>\n",
       "      <td>0</td>\n",
       "      <td>1.444444</td>\n",
       "      <td>54</td>\n",
       "      <td>191.975127</td>\n",
       "      <td>609.100576</td>\n",
       "      <td>252</td>\n",
       "    </tr>\n",
       "    <tr>\n",
       "      <th>505998</th>\n",
       "      <td>2016-08-24 00:00:00+00:00</td>\n",
       "      <td>1262.1360</td>\n",
       "      <td>0012db34aa7b083f5714e7831195e54d</td>\n",
       "      <td>1 days 00:00:00</td>\n",
       "      <td>1.0</td>\n",
       "      <td>0</td>\n",
       "      <td>1.444444</td>\n",
       "      <td>54</td>\n",
       "      <td>191.975127</td>\n",
       "      <td>609.100576</td>\n",
       "      <td>252</td>\n",
       "    </tr>\n",
       "  </tbody>\n",
       "</table>\n",
       "</div>"
      ],
      "text/plain": [
       "                       timestamp  close_equity  \\\n",
       "505994 2016-08-18 00:00:00+00:00     1211.6055   \n",
       "505995 2016-08-19 00:00:00+00:00     1173.5640   \n",
       "505996 2016-08-22 00:00:00+00:00     1253.0597   \n",
       "505997 2016-08-23 00:00:00+00:00     1252.9050   \n",
       "505998 2016-08-24 00:00:00+00:00     1262.1360   \n",
       "\n",
       "                                 user_id       time_delta  delta_days  \\\n",
       "505994  0012db34aa7b083f5714e7831195e54d                0         0.0   \n",
       "505995  0012db34aa7b083f5714e7831195e54d  1 days 00:00:00         1.0   \n",
       "505996  0012db34aa7b083f5714e7831195e54d  3 days 00:00:00         3.0   \n",
       "505997  0012db34aa7b083f5714e7831195e54d  1 days 00:00:00         1.0   \n",
       "505998  0012db34aa7b083f5714e7831195e54d  1 days 00:00:00         1.0   \n",
       "\n",
       "        is_churn_return  mean_delta  delta_over1_day_count  std_close_equity  \\\n",
       "505994                0    1.444444                     54        191.975127   \n",
       "505995                0    1.444444                     54        191.975127   \n",
       "505996                0    1.444444                     54        191.975127   \n",
       "505997                0    1.444444                     54        191.975127   \n",
       "505998                0    1.444444                     54        191.975127   \n",
       "\n",
       "        mean_close_equity  user_timestamp_count  \n",
       "505994         609.100576                   252  \n",
       "505995         609.100576                   252  \n",
       "505996         609.100576                   252  \n",
       "505997         609.100576                   252  \n",
       "505998         609.100576                   252  "
      ]
     },
     "execution_count": 842,
     "metadata": {},
     "output_type": "execute_result"
    }
   ],
   "source": [
    "evd_df.head()"
   ]
  },
  {
   "cell_type": "markdown",
   "metadata": {},
   "source": [
    "a) What percentage of users have churned in the data provided? [4 points]\n",
    "\n",
    "ANSWER: Total number of users = 5584, total number churned = 1000, 1000/5584 = 0.18 = 18%"
   ]
  },
  {
   "cell_type": "markdown",
   "metadata": {},
   "source": [
    "## EDA and feature engineering"
   ]
  },
  {
   "cell_type": "code",
   "execution_count": 843,
   "metadata": {},
   "outputs": [],
   "source": [
    "# Add target variable ('churned') to feature dataset\n",
    "df['churned'] = np.where(df['user_id'].isin(all_churned['user_id']), 1, 0)"
   ]
  },
  {
   "cell_type": "code",
   "execution_count": 844,
   "metadata": {},
   "outputs": [
    {
     "data": {
      "text/plain": [
       "1000"
      ]
     },
     "execution_count": 844,
     "metadata": {},
     "output_type": "execute_result"
    }
   ],
   "source": [
    "df['churned'].sum()"
   ]
  },
  {
   "cell_type": "code",
   "execution_count": 845,
   "metadata": {},
   "outputs": [
    {
     "data": {
      "text/plain": [
       "(5584, 10)"
      ]
     },
     "execution_count": 845,
     "metadata": {},
     "output_type": "execute_result"
    }
   ],
   "source": [
    "df.shape"
   ]
  },
  {
   "cell_type": "code",
   "execution_count": 846,
   "metadata": {},
   "outputs": [],
   "source": [
    "# add mean_delta, delta_over1_day_count, std_close_equity, mean_close_equity as features from evd_df to df\n",
    "evd_features = evd_df[['user_id', 'mean_delta', 'delta_over1_day_count', 'std_close_equity', 'mean_close_equity', 'user_timestamp_count']].drop_duplicates()\n",
    "df = df.merge(evd_features, on ='user_id', how= 'left')"
   ]
  },
  {
   "cell_type": "code",
   "execution_count": 847,
   "metadata": {},
   "outputs": [
    {
     "data": {
      "text/plain": [
       "(5584, 15)"
      ]
     },
     "execution_count": 847,
     "metadata": {},
     "output_type": "execute_result"
    }
   ],
   "source": [
    "df.shape"
   ]
  },
  {
   "cell_type": "code",
   "execution_count": 848,
   "metadata": {},
   "outputs": [
    {
     "data": {
      "image/png": "[encoded data removed]",
      "text/plain": [
       "<Figure size 1000x600 with 1 Axes>"
      ]
     },
     "metadata": {},
     "output_type": "display_data"
    }
   ],
   "source": [
    "df_retained = df[df['churned'] == 0]\n",
    "random_5_retained = df_retained ['user_id'].drop_duplicates().sample(5)\n",
    "\n",
    "filtered_df = evd_df[evd_df['user_id'].isin(random_5_retained)]\n",
    "\n",
    "plt.figure(figsize=(10, 6))\n",
    "sns.lineplot(data=filtered_df, x='timestamp', y='close_equity', hue='user_id')\n",
    "sns.scatterplot(data=filtered_df, x='timestamp', y='close_equity', hue='user_id', style='user_id', legend=False)\n",
    "plt.title('Random sample of 5 retained customers')\n",
    "plt.xlabel('Timestamp')\n",
    "plt.ylabel('Close Equity')\n",
    "plt.xticks(rotation=45)\n",
    "plt.xlim(evd_df['timestamp'].min(), evd_df['timestamp'].max())\n",
    "plt.tight_layout()\n",
    "plt.show()"
   ]
  },
  {
   "cell_type": "code",
   "execution_count": 849,
   "metadata": {},
   "outputs": [
    {
     "data": {
      "text/plain": [
       "risk_tolerance                  0\n",
       "investment_experience           0\n",
       "liquidity_needs                 0\n",
       "platform                        0\n",
       "time_spent                      0\n",
       "instrument_type_first_traded    0\n",
       "first_deposit_amount            0\n",
       "time_horizon                    0\n",
       "user_id                         0\n",
       "churned                         0\n",
       "mean_delta                      0\n",
       "delta_over1_day_count           0\n",
       "std_close_equity                0\n",
       "mean_close_equity               0\n",
       "user_timestamp_count            0\n",
       "dtype: int64"
      ]
     },
     "execution_count": 849,
     "metadata": {},
     "output_type": "execute_result"
    }
   ],
   "source": [
    "df.isna().sum()\n"
   ]
  },
  {
   "cell_type": "code",
   "execution_count": null,
   "metadata": {},
   "outputs": [],
   "source": []
  },
  {
   "cell_type": "code",
   "execution_count": 850,
   "metadata": {},
   "outputs": [
    {
     "data": {
      "text/plain": [
       "0"
      ]
     },
     "execution_count": 850,
     "metadata": {},
     "output_type": "execute_result"
    }
   ],
   "source": [
    "df.duplicated().sum()"
   ]
  },
  {
   "cell_type": "code",
   "execution_count": 851,
   "metadata": {},
   "outputs": [
    {
     "data": {
      "text/html": [
       "<div>\n",
       "<style scoped>\n",
       "    .dataframe tbody tr th:only-of-type {\n",
       "        vertical-align: middle;\n",
       "    }\n",
       "\n",
       "    .dataframe tbody tr th {\n",
       "        vertical-align: top;\n",
       "    }\n",
       "\n",
       "    .dataframe thead th {\n",
       "        text-align: right;\n",
       "    }\n",
       "</style>\n",
       "<table border=\"1\" class=\"dataframe\">\n",
       "  <thead>\n",
       "    <tr style=\"text-align: right;\">\n",
       "      <th></th>\n",
       "      <th>risk_tolerance</th>\n",
       "      <th>investment_experience</th>\n",
       "      <th>liquidity_needs</th>\n",
       "      <th>platform</th>\n",
       "      <th>time_spent</th>\n",
       "      <th>instrument_type_first_traded</th>\n",
       "      <th>first_deposit_amount</th>\n",
       "      <th>time_horizon</th>\n",
       "      <th>user_id</th>\n",
       "      <th>churned</th>\n",
       "      <th>mean_delta</th>\n",
       "      <th>delta_over1_day_count</th>\n",
       "      <th>std_close_equity</th>\n",
       "      <th>mean_close_equity</th>\n",
       "      <th>user_timestamp_count</th>\n",
       "    </tr>\n",
       "  </thead>\n",
       "  <tbody>\n",
       "    <tr>\n",
       "      <th>0</th>\n",
       "      <td>high_risk_tolerance</td>\n",
       "      <td>limited_investment_exp</td>\n",
       "      <td>very_important_liq_need</td>\n",
       "      <td>Android</td>\n",
       "      <td>33.129417</td>\n",
       "      <td>stock</td>\n",
       "      <td>40.0</td>\n",
       "      <td>med_time_horizon</td>\n",
       "      <td>895044c23edc821881e87da749c01034</td>\n",
       "      <td>0</td>\n",
       "      <td>1.447368</td>\n",
       "      <td>41</td>\n",
       "      <td>10.739414</td>\n",
       "      <td>77.118526</td>\n",
       "      <td>190</td>\n",
       "    </tr>\n",
       "    <tr>\n",
       "      <th>1</th>\n",
       "      <td>med_risk_tolerance</td>\n",
       "      <td>limited_investment_exp</td>\n",
       "      <td>very_important_liq_need</td>\n",
       "      <td>Android</td>\n",
       "      <td>16.573517</td>\n",
       "      <td>stock</td>\n",
       "      <td>200.0</td>\n",
       "      <td>short_time_horizon</td>\n",
       "      <td>458b1d95441ced242949deefe8e4b638</td>\n",
       "      <td>0</td>\n",
       "      <td>1.444444</td>\n",
       "      <td>54</td>\n",
       "      <td>26.057862</td>\n",
       "      <td>351.411468</td>\n",
       "      <td>252</td>\n",
       "    </tr>\n",
       "    <tr>\n",
       "      <th>2</th>\n",
       "      <td>med_risk_tolerance</td>\n",
       "      <td>limited_investment_exp</td>\n",
       "      <td>very_important_liq_need</td>\n",
       "      <td>iOS</td>\n",
       "      <td>10.008367</td>\n",
       "      <td>stock</td>\n",
       "      <td>25.0</td>\n",
       "      <td>long_time_horizon</td>\n",
       "      <td>c7936f653d293479e034865db9bb932f</td>\n",
       "      <td>0</td>\n",
       "      <td>1.444444</td>\n",
       "      <td>54</td>\n",
       "      <td>0.000000</td>\n",
       "      <td>49.240000</td>\n",
       "      <td>252</td>\n",
       "    </tr>\n",
       "    <tr>\n",
       "      <th>3</th>\n",
       "      <td>med_risk_tolerance</td>\n",
       "      <td>limited_investment_exp</td>\n",
       "      <td>very_important_liq_need</td>\n",
       "      <td>Android</td>\n",
       "      <td>1.031633</td>\n",
       "      <td>stock</td>\n",
       "      <td>100.0</td>\n",
       "      <td>short_time_horizon</td>\n",
       "      <td>b255d4bd6c9ba194d3a350b3e76c6393</td>\n",
       "      <td>0</td>\n",
       "      <td>1.426573</td>\n",
       "      <td>30</td>\n",
       "      <td>11.967710</td>\n",
       "      <td>186.040280</td>\n",
       "      <td>143</td>\n",
       "    </tr>\n",
       "    <tr>\n",
       "      <th>4</th>\n",
       "      <td>high_risk_tolerance</td>\n",
       "      <td>limited_investment_exp</td>\n",
       "      <td>very_important_liq_need</td>\n",
       "      <td>Android</td>\n",
       "      <td>8.187250</td>\n",
       "      <td>stock</td>\n",
       "      <td>20.0</td>\n",
       "      <td>long_time_horizon</td>\n",
       "      <td>4a168225e89375b8de605cbc0977ae91</td>\n",
       "      <td>0</td>\n",
       "      <td>1.444444</td>\n",
       "      <td>54</td>\n",
       "      <td>146.789955</td>\n",
       "      <td>208.753365</td>\n",
       "      <td>252</td>\n",
       "    </tr>\n",
       "  </tbody>\n",
       "</table>\n",
       "</div>"
      ],
      "text/plain": [
       "        risk_tolerance   investment_experience          liquidity_needs  \\\n",
       "0  high_risk_tolerance  limited_investment_exp  very_important_liq_need   \n",
       "1   med_risk_tolerance  limited_investment_exp  very_important_liq_need   \n",
       "2   med_risk_tolerance  limited_investment_exp  very_important_liq_need   \n",
       "3   med_risk_tolerance  limited_investment_exp  very_important_liq_need   \n",
       "4  high_risk_tolerance  limited_investment_exp  very_important_liq_need   \n",
       "\n",
       "  platform  time_spent instrument_type_first_traded  first_deposit_amount  \\\n",
       "0  Android   33.129417                        stock                  40.0   \n",
       "1  Android   16.573517                        stock                 200.0   \n",
       "2      iOS   10.008367                        stock                  25.0   \n",
       "3  Android    1.031633                        stock                 100.0   \n",
       "4  Android    8.187250                        stock                  20.0   \n",
       "\n",
       "         time_horizon                           user_id  churned  mean_delta  \\\n",
       "0    med_time_horizon  895044c23edc821881e87da749c01034        0    1.447368   \n",
       "1  short_time_horizon  458b1d95441ced242949deefe8e4b638        0    1.444444   \n",
       "2   long_time_horizon  c7936f653d293479e034865db9bb932f        0    1.444444   \n",
       "3  short_time_horizon  b255d4bd6c9ba194d3a350b3e76c6393        0    1.426573   \n",
       "4   long_time_horizon  4a168225e89375b8de605cbc0977ae91        0    1.444444   \n",
       "\n",
       "   delta_over1_day_count  std_close_equity  mean_close_equity  \\\n",
       "0                     41         10.739414          77.118526   \n",
       "1                     54         26.057862         351.411468   \n",
       "2                     54          0.000000          49.240000   \n",
       "3                     30         11.967710         186.040280   \n",
       "4                     54        146.789955         208.753365   \n",
       "\n",
       "   user_timestamp_count  \n",
       "0                   190  \n",
       "1                   252  \n",
       "2                   252  \n",
       "3                   143  \n",
       "4                   252  "
      ]
     },
     "execution_count": 851,
     "metadata": {},
     "output_type": "execute_result"
    }
   ],
   "source": [
    "df.head()"
   ]
  },
  {
   "cell_type": "code",
   "execution_count": 852,
   "metadata": {},
   "outputs": [
    {
     "data": {
      "text/plain": [
       "risk_tolerance\n",
       "high_risk_tolerance    3566\n",
       "med_risk_tolerance     1779\n",
       "low_risk_tolerance      239\n",
       "Name: count, dtype: int64"
      ]
     },
     "execution_count": 852,
     "metadata": {},
     "output_type": "execute_result"
    }
   ],
   "source": [
    "df.risk_tolerance.value_counts()"
   ]
  },
  {
   "cell_type": "code",
   "execution_count": 853,
   "metadata": {},
   "outputs": [
    {
     "data": {
      "text/plain": [
       "risk_tolerance_enc\n",
       "2    3566\n",
       "1    1779\n",
       "0     239\n",
       "Name: count, dtype: int64"
      ]
     },
     "execution_count": 853,
     "metadata": {},
     "output_type": "execute_result"
    }
   ],
   "source": [
    "df['risk_tolerance_enc'] = df['risk_tolerance'].map({'low_risk_tolerance': 0,\n",
    "    'med_risk_tolerance': 1,\n",
    "    'high_risk_tolerance': 2})\n",
    "df['risk_tolerance_enc'].value_counts()"
   ]
  },
  {
   "cell_type": "code",
   "execution_count": 854,
   "metadata": {},
   "outputs": [
    {
     "data": {
      "text/plain": [
       "investment_experience\n",
       "limited_investment_exp      2578\n",
       "no_investment_exp           1796\n",
       "good_investment_exp         1134\n",
       "extensive_investment_exp      76\n",
       "Name: count, dtype: int64"
      ]
     },
     "execution_count": 854,
     "metadata": {},
     "output_type": "execute_result"
    }
   ],
   "source": [
    "df.investment_experience.value_counts()"
   ]
  },
  {
   "cell_type": "code",
   "execution_count": 855,
   "metadata": {},
   "outputs": [
    {
     "data": {
      "text/plain": [
       "investment_experience_enc\n",
       "1    2578\n",
       "0    1796\n",
       "2    1134\n",
       "3      76\n",
       "Name: count, dtype: int64"
      ]
     },
     "execution_count": 855,
     "metadata": {},
     "output_type": "execute_result"
    }
   ],
   "source": [
    "df['investment_experience_enc'] = df['investment_experience'].map({'no_investment_exp':0,\n",
    "                                                                   'limited_investment_exp':1,\n",
    "                                                                   'good_investment_exp':2,\n",
    "                                                                   'extensive_investment_exp':3})\n",
    "df['investment_experience_enc'].value_counts()"
   ]
  },
  {
   "cell_type": "code",
   "execution_count": 856,
   "metadata": {},
   "outputs": [
    {
     "data": {
      "text/plain": [
       "risk_tolerance       investment_experience     liquidity_needs              platform  time_spent  instrument_type_first_traded  first_deposit_amount  time_horizon        user_id                           churned  mean_delta  delta_over1_day_count  std_close_equity  mean_close_equity  user_timestamp_count  risk_tolerance_enc  investment_experience_enc\n",
       "high_risk_tolerance  extensive_investment_exp  not_important_liq_need       Android   8.699233    stock                         20.0                  long_time_horizon   bb6b604790ae957a3dcc3851ac5a1d48  0        1.420690    30                     69.609522         258.737183         145                   2                   3                            1\n",
       "low_risk_tolerance   no_investment_exp         somewhat_important_liq_need  iOS       9.539900    stock                         50.0                  med_time_horizon    d7af15a379bf121ece5d3024baab84a9  1        1.200000    1                      3.039331          48.124000          5                     0                   0                            1\n",
       "                                                                                      28.280283   stock                         20.0                  short_time_horizon  23994d84edc783a3379830b5f242f3d7  1        6.933333    7                      33.765572         94.914667          30                    0                   0                            1\n",
       "                                                                                      21.314800   mlp                           5.0                   short_time_horizon  f71c8c47f829c1b342b85707d68cff33  0        1.413223    25                     1.348255          23.877453          121                   0                   0                            1\n",
       "                                                                                      20.516500   stock                         100.0                 short_time_horizon  ea340d99a3244fc5b68b15103d093243  0        1.444444    54                     148.096275        1414.436349        252                   0                   0                            1\n",
       "                                                                                                                                                                                                                                                                                                                                                                   ..\n",
       "high_risk_tolerance  limited_investment_exp    very_important_liq_need      iOS       0.000000    adr                           500.0                 long_time_horizon   a0edcc55a7acca9869a5ce1aa737893d  0        1.444444    54                     2.778528          31.591964          252                   2                   1                            1\n",
       "                                                                                                                                300.0                 short_time_horizon  d61ce186b131f7ba9df731813c331a92  1        1.701389    30                     1206.861388       1111.590476        144                   2                   1                            1\n",
       "                                                                                                                                250.0                 short_time_horizon  6ac0953bb9dc0e0c6f098d2e0ba4d90e  0        1.444444    54                     579.982542        2123.589052        252                   2                   1                            1\n",
       "                                                                                                                                200.0                 short_time_horizon  b6eb73cb401afaa9f37eb08d52afedcc  0        1.438247    53                     580.154429        721.421327         251                   2                   1                            1\n",
       "med_risk_tolerance   no_investment_exp         very_important_liq_need      iOS       982.571717  stock                         500.0                 short_time_horizon  89785e1232a59d5e211de8470956690d  1        1.456140    50                     1927.446328       4726.722719        228                   1                   0                            1\n",
       "Name: count, Length: 5584, dtype: int64"
      ]
     },
     "execution_count": 856,
     "metadata": {},
     "output_type": "execute_result"
    }
   ],
   "source": [
    "df.value_counts()"
   ]
  },
  {
   "cell_type": "code",
   "execution_count": 857,
   "metadata": {},
   "outputs": [],
   "source": [
    "df['liquidity_needs_enc'] = df['liquidity_needs'].map({'not_important_liq_need':0,\n",
    "                                                       'somewhat_important_liq_need':1,\n",
    "                                                       'very_important_liq_need':2})"
   ]
  },
  {
   "cell_type": "code",
   "execution_count": 858,
   "metadata": {},
   "outputs": [
    {
     "data": {
      "text/html": [
       "<div>\n",
       "<style scoped>\n",
       "    .dataframe tbody tr th:only-of-type {\n",
       "        vertical-align: middle;\n",
       "    }\n",
       "\n",
       "    .dataframe tbody tr th {\n",
       "        vertical-align: top;\n",
       "    }\n",
       "\n",
       "    .dataframe thead th {\n",
       "        text-align: right;\n",
       "    }\n",
       "</style>\n",
       "<table border=\"1\" class=\"dataframe\">\n",
       "  <thead>\n",
       "    <tr style=\"text-align: right;\">\n",
       "      <th></th>\n",
       "      <th>risk_tolerance</th>\n",
       "      <th>investment_experience</th>\n",
       "      <th>liquidity_needs</th>\n",
       "      <th>time_spent</th>\n",
       "      <th>instrument_type_first_traded</th>\n",
       "      <th>first_deposit_amount</th>\n",
       "      <th>time_horizon</th>\n",
       "      <th>user_id</th>\n",
       "      <th>churned</th>\n",
       "      <th>mean_delta</th>\n",
       "      <th>delta_over1_day_count</th>\n",
       "      <th>std_close_equity</th>\n",
       "      <th>mean_close_equity</th>\n",
       "      <th>user_timestamp_count</th>\n",
       "      <th>risk_tolerance_enc</th>\n",
       "      <th>investment_experience_enc</th>\n",
       "      <th>liquidity_needs_enc</th>\n",
       "      <th>platform_Android</th>\n",
       "      <th>platform_both</th>\n",
       "      <th>platform_iOS</th>\n",
       "    </tr>\n",
       "  </thead>\n",
       "  <tbody>\n",
       "    <tr>\n",
       "      <th>0</th>\n",
       "      <td>high_risk_tolerance</td>\n",
       "      <td>limited_investment_exp</td>\n",
       "      <td>very_important_liq_need</td>\n",
       "      <td>33.129417</td>\n",
       "      <td>stock</td>\n",
       "      <td>40.0</td>\n",
       "      <td>med_time_horizon</td>\n",
       "      <td>895044c23edc821881e87da749c01034</td>\n",
       "      <td>0</td>\n",
       "      <td>1.447368</td>\n",
       "      <td>41</td>\n",
       "      <td>10.739414</td>\n",
       "      <td>77.118526</td>\n",
       "      <td>190</td>\n",
       "      <td>2</td>\n",
       "      <td>1</td>\n",
       "      <td>2</td>\n",
       "      <td>1</td>\n",
       "      <td>0</td>\n",
       "      <td>0</td>\n",
       "    </tr>\n",
       "    <tr>\n",
       "      <th>1</th>\n",
       "      <td>med_risk_tolerance</td>\n",
       "      <td>limited_investment_exp</td>\n",
       "      <td>very_important_liq_need</td>\n",
       "      <td>16.573517</td>\n",
       "      <td>stock</td>\n",
       "      <td>200.0</td>\n",
       "      <td>short_time_horizon</td>\n",
       "      <td>458b1d95441ced242949deefe8e4b638</td>\n",
       "      <td>0</td>\n",
       "      <td>1.444444</td>\n",
       "      <td>54</td>\n",
       "      <td>26.057862</td>\n",
       "      <td>351.411468</td>\n",
       "      <td>252</td>\n",
       "      <td>1</td>\n",
       "      <td>1</td>\n",
       "      <td>2</td>\n",
       "      <td>1</td>\n",
       "      <td>0</td>\n",
       "      <td>0</td>\n",
       "    </tr>\n",
       "    <tr>\n",
       "      <th>2</th>\n",
       "      <td>med_risk_tolerance</td>\n",
       "      <td>limited_investment_exp</td>\n",
       "      <td>very_important_liq_need</td>\n",
       "      <td>10.008367</td>\n",
       "      <td>stock</td>\n",
       "      <td>25.0</td>\n",
       "      <td>long_time_horizon</td>\n",
       "      <td>c7936f653d293479e034865db9bb932f</td>\n",
       "      <td>0</td>\n",
       "      <td>1.444444</td>\n",
       "      <td>54</td>\n",
       "      <td>0.000000</td>\n",
       "      <td>49.240000</td>\n",
       "      <td>252</td>\n",
       "      <td>1</td>\n",
       "      <td>1</td>\n",
       "      <td>2</td>\n",
       "      <td>0</td>\n",
       "      <td>0</td>\n",
       "      <td>1</td>\n",
       "    </tr>\n",
       "    <tr>\n",
       "      <th>3</th>\n",
       "      <td>med_risk_tolerance</td>\n",
       "      <td>limited_investment_exp</td>\n",
       "      <td>very_important_liq_need</td>\n",
       "      <td>1.031633</td>\n",
       "      <td>stock</td>\n",
       "      <td>100.0</td>\n",
       "      <td>short_time_horizon</td>\n",
       "      <td>b255d4bd6c9ba194d3a350b3e76c6393</td>\n",
       "      <td>0</td>\n",
       "      <td>1.426573</td>\n",
       "      <td>30</td>\n",
       "      <td>11.967710</td>\n",
       "      <td>186.040280</td>\n",
       "      <td>143</td>\n",
       "      <td>1</td>\n",
       "      <td>1</td>\n",
       "      <td>2</td>\n",
       "      <td>1</td>\n",
       "      <td>0</td>\n",
       "      <td>0</td>\n",
       "    </tr>\n",
       "    <tr>\n",
       "      <th>4</th>\n",
       "      <td>high_risk_tolerance</td>\n",
       "      <td>limited_investment_exp</td>\n",
       "      <td>very_important_liq_need</td>\n",
       "      <td>8.187250</td>\n",
       "      <td>stock</td>\n",
       "      <td>20.0</td>\n",
       "      <td>long_time_horizon</td>\n",
       "      <td>4a168225e89375b8de605cbc0977ae91</td>\n",
       "      <td>0</td>\n",
       "      <td>1.444444</td>\n",
       "      <td>54</td>\n",
       "      <td>146.789955</td>\n",
       "      <td>208.753365</td>\n",
       "      <td>252</td>\n",
       "      <td>2</td>\n",
       "      <td>1</td>\n",
       "      <td>2</td>\n",
       "      <td>1</td>\n",
       "      <td>0</td>\n",
       "      <td>0</td>\n",
       "    </tr>\n",
       "  </tbody>\n",
       "</table>\n",
       "</div>"
      ],
      "text/plain": [
       "        risk_tolerance   investment_experience          liquidity_needs  \\\n",
       "0  high_risk_tolerance  limited_investment_exp  very_important_liq_need   \n",
       "1   med_risk_tolerance  limited_investment_exp  very_important_liq_need   \n",
       "2   med_risk_tolerance  limited_investment_exp  very_important_liq_need   \n",
       "3   med_risk_tolerance  limited_investment_exp  very_important_liq_need   \n",
       "4  high_risk_tolerance  limited_investment_exp  very_important_liq_need   \n",
       "\n",
       "   time_spent instrument_type_first_traded  first_deposit_amount  \\\n",
       "0   33.129417                        stock                  40.0   \n",
       "1   16.573517                        stock                 200.0   \n",
       "2   10.008367                        stock                  25.0   \n",
       "3    1.031633                        stock                 100.0   \n",
       "4    8.187250                        stock                  20.0   \n",
       "\n",
       "         time_horizon                           user_id  churned  mean_delta  \\\n",
       "0    med_time_horizon  895044c23edc821881e87da749c01034        0    1.447368   \n",
       "1  short_time_horizon  458b1d95441ced242949deefe8e4b638        0    1.444444   \n",
       "2   long_time_horizon  c7936f653d293479e034865db9bb932f        0    1.444444   \n",
       "3  short_time_horizon  b255d4bd6c9ba194d3a350b3e76c6393        0    1.426573   \n",
       "4   long_time_horizon  4a168225e89375b8de605cbc0977ae91        0    1.444444   \n",
       "\n",
       "   delta_over1_day_count  std_close_equity  mean_close_equity  \\\n",
       "0                     41         10.739414          77.118526   \n",
       "1                     54         26.057862         351.411468   \n",
       "2                     54          0.000000          49.240000   \n",
       "3                     30         11.967710         186.040280   \n",
       "4                     54        146.789955         208.753365   \n",
       "\n",
       "   user_timestamp_count  risk_tolerance_enc  investment_experience_enc  \\\n",
       "0                   190                   2                          1   \n",
       "1                   252                   1                          1   \n",
       "2                   252                   1                          1   \n",
       "3                   143                   1                          1   \n",
       "4                   252                   2                          1   \n",
       "\n",
       "   liquidity_needs_enc  platform_Android  platform_both  platform_iOS  \n",
       "0                    2                 1              0             0  \n",
       "1                    2                 1              0             0  \n",
       "2                    2                 0              0             1  \n",
       "3                    2                 1              0             0  \n",
       "4                    2                 1              0             0  "
      ]
     },
     "execution_count": 858,
     "metadata": {},
     "output_type": "execute_result"
    }
   ],
   "source": [
    "df.platform.value_counts()\n",
    "# not an ordinal category, unlikely to be revelant (but one-hot encode in case)\n",
    "df = pd.get_dummies(df, columns = ['platform'], prefix = 'platform', dtype = int)\n",
    "df.head()\n"
   ]
  },
  {
   "cell_type": "code",
   "execution_count": 859,
   "metadata": {},
   "outputs": [
    {
     "data": {
      "text/plain": [
       "instrument_type_first_traded\n",
       "stock       4827\n",
       "etp          383\n",
       "adr          197\n",
       "mlp           55\n",
       "reit          55\n",
       "cef           20\n",
       "wrt           16\n",
       "0             13\n",
       "rlt            9\n",
       "lp             8\n",
       "tracking       1\n",
       "Name: count, dtype: int64"
      ]
     },
     "execution_count": 859,
     "metadata": {},
     "output_type": "execute_result"
    }
   ],
   "source": [
    "df.instrument_type_first_traded.value_counts()\n",
    "\n"
   ]
  },
  {
   "cell_type": "code",
   "execution_count": 860,
   "metadata": {},
   "outputs": [
    {
     "data": {
      "text/plain": [
       "stock_instrument_type_first_traded_enc\n",
       "1    4827\n",
       "0     757\n",
       "Name: count, dtype: int64"
      ]
     },
     "execution_count": 860,
     "metadata": {},
     "output_type": "execute_result"
    }
   ],
   "source": [
    "df['stock_instrument_type_first_traded_enc'] = np.where(df['instrument_type_first_traded'] == 'stock',1,0) # 0 here refers to everything else that's not stock\n",
    "df['stock_instrument_type_first_traded_enc'].value_counts()"
   ]
  },
  {
   "cell_type": "code",
   "execution_count": 861,
   "metadata": {},
   "outputs": [
    {
     "data": {
      "text/plain": [
       "time_horizon\n",
       "short_time_horizon    2833\n",
       "long_time_horizon     1833\n",
       "med_time_horizon       918\n",
       "Name: count, dtype: int64"
      ]
     },
     "execution_count": 861,
     "metadata": {},
     "output_type": "execute_result"
    }
   ],
   "source": [
    "df.time_horizon.value_counts()"
   ]
  },
  {
   "cell_type": "code",
   "execution_count": 862,
   "metadata": {},
   "outputs": [
    {
     "data": {
      "text/plain": [
       "time_horizon_enc\n",
       "0    2833\n",
       "2    1833\n",
       "1     918\n",
       "Name: count, dtype: int64"
      ]
     },
     "execution_count": 862,
     "metadata": {},
     "output_type": "execute_result"
    }
   ],
   "source": [
    "df['time_horizon_enc'] = df['time_horizon'].map({'short_time_horizon':0,\n",
    "                                                 'med_time_horizon': 1,\n",
    "                                                 'long_time_horizon':2})\n",
    "df['time_horizon_enc'].value_counts()"
   ]
  },
  {
   "cell_type": "markdown",
   "metadata": {},
   "source": [
    "can also generate subset of the data on the 'more solid' looking lost users"
   ]
  },
  {
   "cell_type": "code",
   "execution_count": 863,
   "metadata": {},
   "outputs": [],
   "source": [
    "df['is_lost_user'] = np.where(df['user_id'].isin(lost_users['user_id']), 1, 0)\n"
   ]
  },
  {
   "cell_type": "markdown",
   "metadata": {},
   "source": [
    "Drop old columns and target variable"
   ]
  },
  {
   "cell_type": "code",
   "execution_count": 864,
   "metadata": {},
   "outputs": [
    {
     "data": {
      "text/html": [
       "<div>\n",
       "<style scoped>\n",
       "    .dataframe tbody tr th:only-of-type {\n",
       "        vertical-align: middle;\n",
       "    }\n",
       "\n",
       "    .dataframe tbody tr th {\n",
       "        vertical-align: top;\n",
       "    }\n",
       "\n",
       "    .dataframe thead th {\n",
       "        text-align: right;\n",
       "    }\n",
       "</style>\n",
       "<table border=\"1\" class=\"dataframe\">\n",
       "  <thead>\n",
       "    <tr style=\"text-align: right;\">\n",
       "      <th></th>\n",
       "      <th>time_spent</th>\n",
       "      <th>first_deposit_amount</th>\n",
       "      <th>mean_delta</th>\n",
       "      <th>delta_over1_day_count</th>\n",
       "      <th>std_close_equity</th>\n",
       "      <th>mean_close_equity</th>\n",
       "      <th>user_timestamp_count</th>\n",
       "      <th>risk_tolerance_enc</th>\n",
       "      <th>investment_experience_enc</th>\n",
       "      <th>liquidity_needs_enc</th>\n",
       "      <th>platform_Android</th>\n",
       "      <th>platform_both</th>\n",
       "      <th>platform_iOS</th>\n",
       "      <th>stock_instrument_type_first_traded_enc</th>\n",
       "      <th>time_horizon_enc</th>\n",
       "    </tr>\n",
       "  </thead>\n",
       "  <tbody>\n",
       "    <tr>\n",
       "      <th>0</th>\n",
       "      <td>33.129417</td>\n",
       "      <td>40.0</td>\n",
       "      <td>1.447368</td>\n",
       "      <td>41</td>\n",
       "      <td>10.739414</td>\n",
       "      <td>77.118526</td>\n",
       "      <td>190</td>\n",
       "      <td>2</td>\n",
       "      <td>1</td>\n",
       "      <td>2</td>\n",
       "      <td>1</td>\n",
       "      <td>0</td>\n",
       "      <td>0</td>\n",
       "      <td>1</td>\n",
       "      <td>1</td>\n",
       "    </tr>\n",
       "    <tr>\n",
       "      <th>1</th>\n",
       "      <td>16.573517</td>\n",
       "      <td>200.0</td>\n",
       "      <td>1.444444</td>\n",
       "      <td>54</td>\n",
       "      <td>26.057862</td>\n",
       "      <td>351.411468</td>\n",
       "      <td>252</td>\n",
       "      <td>1</td>\n",
       "      <td>1</td>\n",
       "      <td>2</td>\n",
       "      <td>1</td>\n",
       "      <td>0</td>\n",
       "      <td>0</td>\n",
       "      <td>1</td>\n",
       "      <td>0</td>\n",
       "    </tr>\n",
       "    <tr>\n",
       "      <th>2</th>\n",
       "      <td>10.008367</td>\n",
       "      <td>25.0</td>\n",
       "      <td>1.444444</td>\n",
       "      <td>54</td>\n",
       "      <td>0.000000</td>\n",
       "      <td>49.240000</td>\n",
       "      <td>252</td>\n",
       "      <td>1</td>\n",
       "      <td>1</td>\n",
       "      <td>2</td>\n",
       "      <td>0</td>\n",
       "      <td>0</td>\n",
       "      <td>1</td>\n",
       "      <td>1</td>\n",
       "      <td>2</td>\n",
       "    </tr>\n",
       "    <tr>\n",
       "      <th>3</th>\n",
       "      <td>1.031633</td>\n",
       "      <td>100.0</td>\n",
       "      <td>1.426573</td>\n",
       "      <td>30</td>\n",
       "      <td>11.967710</td>\n",
       "      <td>186.040280</td>\n",
       "      <td>143</td>\n",
       "      <td>1</td>\n",
       "      <td>1</td>\n",
       "      <td>2</td>\n",
       "      <td>1</td>\n",
       "      <td>0</td>\n",
       "      <td>0</td>\n",
       "      <td>1</td>\n",
       "      <td>0</td>\n",
       "    </tr>\n",
       "    <tr>\n",
       "      <th>4</th>\n",
       "      <td>8.187250</td>\n",
       "      <td>20.0</td>\n",
       "      <td>1.444444</td>\n",
       "      <td>54</td>\n",
       "      <td>146.789955</td>\n",
       "      <td>208.753365</td>\n",
       "      <td>252</td>\n",
       "      <td>2</td>\n",
       "      <td>1</td>\n",
       "      <td>2</td>\n",
       "      <td>1</td>\n",
       "      <td>0</td>\n",
       "      <td>0</td>\n",
       "      <td>1</td>\n",
       "      <td>2</td>\n",
       "    </tr>\n",
       "  </tbody>\n",
       "</table>\n",
       "</div>"
      ],
      "text/plain": [
       "   time_spent  first_deposit_amount  mean_delta  delta_over1_day_count  \\\n",
       "0   33.129417                  40.0    1.447368                     41   \n",
       "1   16.573517                 200.0    1.444444                     54   \n",
       "2   10.008367                  25.0    1.444444                     54   \n",
       "3    1.031633                 100.0    1.426573                     30   \n",
       "4    8.187250                  20.0    1.444444                     54   \n",
       "\n",
       "   std_close_equity  mean_close_equity  user_timestamp_count  \\\n",
       "0         10.739414          77.118526                   190   \n",
       "1         26.057862         351.411468                   252   \n",
       "2          0.000000          49.240000                   252   \n",
       "3         11.967710         186.040280                   143   \n",
       "4        146.789955         208.753365                   252   \n",
       "\n",
       "   risk_tolerance_enc  investment_experience_enc  liquidity_needs_enc  \\\n",
       "0                   2                          1                    2   \n",
       "1                   1                          1                    2   \n",
       "2                   1                          1                    2   \n",
       "3                   1                          1                    2   \n",
       "4                   2                          1                    2   \n",
       "\n",
       "   platform_Android  platform_both  platform_iOS  \\\n",
       "0                 1              0             0   \n",
       "1                 1              0             0   \n",
       "2                 0              0             1   \n",
       "3                 1              0             0   \n",
       "4                 1              0             0   \n",
       "\n",
       "   stock_instrument_type_first_traded_enc  time_horizon_enc  \n",
       "0                                       1                 1  \n",
       "1                                       1                 0  \n",
       "2                                       1                 2  \n",
       "3                                       1                 0  \n",
       "4                                       1                 2  "
      ]
     },
     "execution_count": 864,
     "metadata": {},
     "output_type": "execute_result"
    }
   ],
   "source": [
    "y = df['churned'] # can try is_lost_user for smaller subset of users who leave and don't come back\n",
    "X = df.drop(['risk_tolerance','investment_experience','liquidity_needs','instrument_type_first_traded','time_horizon','user_id','churned','is_lost_user'], axis = 1)\n",
    "X.head()"
   ]
  },
  {
   "cell_type": "code",
   "execution_count": 865,
   "metadata": {},
   "outputs": [
    {
     "name": "stdout",
     "output_type": "stream",
     "text": [
      "(5584, 15) (5584,)\n"
     ]
    }
   ],
   "source": [
    "print(X.shape, y.shape)\n"
   ]
  },
  {
   "cell_type": "markdown",
   "metadata": {},
   "source": [
    "Split the data into train and test splits: data is imbalanced (18% churned), so stratfiy the split so equal outcomes are in the split"
   ]
  },
  {
   "cell_type": "code",
   "execution_count": 866,
   "metadata": {},
   "outputs": [],
   "source": [
    "X_train, X_test, y_train, y_test = train_test_split(X, y, random_state = 42, stratify = y)"
   ]
  },
  {
   "cell_type": "markdown",
   "metadata": {},
   "source": [
    "## Scale the data"
   ]
  },
  {
   "cell_type": "code",
   "execution_count": 867,
   "metadata": {},
   "outputs": [],
   "source": [
    "# Scale the data\n",
    "scaler = StandardScaler()\n",
    "X_train_scaled = scaler.fit_transform(X_train)\n",
    "X_test_scaled = scaler.transform(X_test)"
   ]
  },
  {
   "cell_type": "markdown",
   "metadata": {},
   "source": [
    "## Train a logistic regression classifier"
   ]
  },
  {
   "cell_type": "code",
   "execution_count": 868,
   "metadata": {},
   "outputs": [
    {
     "name": "stdout",
     "output_type": "stream",
     "text": [
      "Train accuracy score: 0.85\n",
      "Test accuracy score: 0.85\n",
      "Train precision score: 0.56\n",
      "Test precision score: 0.54\n",
      "Train recall score: 0.84\n",
      "Test recall score: 0.81\n",
      "Train f1 score: 0.67\n",
      "Test f1 score: 0.65\n",
      "Train ROC_AUC score: 0.85\n",
      "Test ROC_AUC score: 0.83\n"
     ]
    }
   ],
   "source": [
    "#initialise the model\n",
    "lgr_clf = LogisticRegression(class_weight='balanced')\n",
    "# train the model\n",
    "lgr_clf.fit(X_train_scaled, y_train)\n",
    "\n",
    "# make predictions on output category\n",
    "y_train_pred = lgr_clf.predict(X_train_scaled)\n",
    "y_test_pred = lgr_clf.predict(X_test_scaled)\n",
    "\n",
    "# make predicted probabilities \n",
    "y_train_pred_proba = lgr_clf.predict_proba(X_train_scaled)\n",
    "y_test_pred_proba = lgr_clf.predict_proba(X_test_scaled)\n",
    "\n",
    "# evaluate model performance\n",
    "accuracy_train = accuracy_score(y_train, y_train_pred)\n",
    "accuracy_test = accuracy_score(y_train, y_train_pred)\n",
    "precision_train = precision_score(y_train, y_train_pred)\n",
    "precision_test = precision_score(y_test, y_test_pred) \n",
    "recall_train = recall_score(y_train,y_train_pred)\n",
    "recall_test = recall_score(y_test, y_test_pred)\n",
    "f1_train = f1_score(y_train, y_train_pred)\n",
    "f1_test = f1_score(y_test, y_test_pred)\n",
    "roc_auc_train = roc_auc_score(y_train, y_train_pred)\n",
    "roc_auc_test = roc_auc_score(y_test, y_test_pred)\n",
    "\n",
    "#print eval metrics\n",
    "print(f'Train accuracy score: {accuracy_train:.2f}')\n",
    "print(f'Test accuracy score: {accuracy_test:.2f}')\n",
    "\n",
    "\n",
    "print(f'Train precision score: {precision_train:.2f}')\n",
    "print(f'Test precision score: {precision_test:.2f}')\n",
    "\n",
    "print(f'Train recall score: {recall_train:.2f}')\n",
    "print(f'Test recall score: {recall_test:.2f}')\n",
    "\n",
    "print(f'Train f1 score: {f1_train:.2f}')\n",
    "print(f'Test f1 score: {f1_test:.2f}')\n",
    "\n",
    "print(f'Train ROC_AUC score: {roc_auc_train:.2f}')\n",
    "print(f'Test ROC_AUC score: {roc_auc_test:.2f}')\n",
    "\n"
   ]
  },
  {
   "cell_type": "code",
   "execution_count": 869,
   "metadata": {},
   "outputs": [
    {
     "data": {
      "image/png": "[encoded data removed]",
      "text/plain": [
       "<Figure size 640x480 with 2 Axes>"
      ]
     },
     "metadata": {},
     "output_type": "display_data"
    }
   ],
   "source": [
    "# look at confusion matrix\n",
    "cm_test = confusion_matrix(y_test, y_test_pred)\n",
    "disp = ConfusionMatrixDisplay(confusion_matrix=cm_test, display_labels=[\"Negative\", \"Positive\"])\n",
    "disp.plot(cmap=\"Oranges\")\n",
    "plt.title(\"Confusion Matrix - logistic regression\")\n",
    "plt.show()\n"
   ]
  },
  {
   "cell_type": "code",
   "execution_count": 870,
   "metadata": {},
   "outputs": [
    {
     "name": "stdout",
     "output_type": "stream",
     "text": [
      "Fitting 5 folds for each of 56 candidates, totalling 280 fits\n",
      "Best parameters found:  {'C': 1, 'class_weight': None, 'penalty': 'l1', 'solver': 'liblinear'}\n",
      "Best F1 score found:  0.732825205348038\n"
     ]
    }
   ],
   "source": [
    "# Define the parameter grid\n",
    "param_grid = {\n",
    "    'C': [0.0001, 0.001, 0.01, 0.1, 1, 10, 100],  \n",
    "    'penalty': ['l1', 'l2'],              \n",
    "    'solver': ['liblinear', 'saga'],      \n",
    "    'class_weight': [None, 'balanced']    \n",
    "}\n",
    "\n",
    "# Initialize the logistic regression model\n",
    "log_reg = LogisticRegression(random_state=42)\n",
    "\n",
    "# Use F1 score as the evaluation metric\n",
    "scorer = make_scorer(f1_score)\n",
    "\n",
    "# Initialize Grid Search\n",
    "grid_search = GridSearchCV(\n",
    "    estimator=log_reg,\n",
    "    param_grid=param_grid,\n",
    "    scoring=scorer,  \n",
    "    cv=5,            \n",
    "    verbose=1,       \n",
    "    n_jobs=-1        \n",
    ")\n",
    "\n",
    "# Fit the model\n",
    "grid_search.fit(X_train_scaled, y_train)\n",
    "\n",
    "# Best parameters and best score\n",
    "print(\"Best parameters found: \", grid_search.best_params_)\n",
    "print(\"Best F1 score found: \", grid_search.best_score_)"
   ]
  },
  {
   "cell_type": "markdown",
   "metadata": {},
   "source": [
    "*b) Build a classifier that, given a user with their features, assigns a churn probability for every user and predicts which users will churn. How well does your classifier perform? State any metrics you deem important here. Based on the classifier output, classify each user in the dataset as churned or not churned. [5 points]*"
   ]
  },
  {
   "cell_type": "code",
   "execution_count": 872,
   "metadata": {},
   "outputs": [
    {
     "name": "stdout",
     "output_type": "stream",
     "text": [
      "Train accuracy score: 0.92\n",
      "Test accuracy score: 0.92\n",
      "Train precision score: 0.85\n",
      "Test precision score: 0.89\n",
      "Train recall score: 0.65\n",
      "Test recall score: 0.66\n",
      "Train f1 score: 0.74\n",
      "Test f1 score: 0.76\n",
      "Train ROC_AUC score: 0.81\n",
      "Test ROC_AUC score: 0.82\n"
     ]
    }
   ],
   "source": [
    "#initialise the model\n",
    "lgr_clf = LogisticRegression(C = 1, class_weight= None, penalty = 'l1', solver = 'liblinear')\n",
    "# train the model\n",
    "lgr_clf.fit(X_train_scaled, y_train)\n",
    "\n",
    "# make predictions on output category\n",
    "y_train_pred = lgr_clf.predict(X_train_scaled)\n",
    "y_test_pred = lgr_clf.predict(X_test_scaled)\n",
    "\n",
    "# make predicted probabilities \n",
    "y_train_pred_proba = lgr_clf.predict_proba(X_train_scaled)\n",
    "y_test_pred_proba = lgr_clf.predict_proba(X_test_scaled)\n",
    "\n",
    "# evaluate model performance\n",
    "accuracy_train = accuracy_score(y_train, y_train_pred)\n",
    "accuracy_test = accuracy_score(y_train, y_train_pred)\n",
    "precision_train = precision_score(y_train, y_train_pred)\n",
    "precision_test = precision_score(y_test, y_test_pred) \n",
    "recall_train = recall_score(y_train,y_train_pred)\n",
    "recall_test = recall_score(y_test, y_test_pred)\n",
    "f1_train = f1_score(y_train, y_train_pred)\n",
    "f1_test = f1_score(y_test, y_test_pred)\n",
    "roc_auc_train = roc_auc_score(y_train, y_train_pred)\n",
    "roc_auc_test = roc_auc_score(y_test, y_test_pred)\n",
    "\n",
    "#print eval metrics\n",
    "print(f'Train accuracy score: {accuracy_train:.2f}')\n",
    "print(f'Test accuracy score: {accuracy_test:.2f}')\n",
    "\n",
    "\n",
    "print(f'Train precision score: {precision_train:.2f}')\n",
    "print(f'Test precision score: {precision_test:.2f}')\n",
    "\n",
    "print(f'Train recall score: {recall_train:.2f}')\n",
    "print(f'Test recall score: {recall_test:.2f}')\n",
    "\n",
    "print(f'Train f1 score: {f1_train:.2f}')\n",
    "print(f'Test f1 score: {f1_test:.2f}')\n",
    "\n",
    "print(f'Train ROC_AUC score: {roc_auc_train:.2f}')\n",
    "print(f'Test ROC_AUC score: {roc_auc_test:.2f}')\n"
   ]
  },
  {
   "cell_type": "markdown",
   "metadata": {},
   "source": [
    "My classifier is generally performing quite badly! Not much better than random (ROC_AUC is0.59), F1 score on tuned logisitic regresson model 0.34. In terms of metrics, Accuracy is not so useful here as a 'dumb' model that predicts everything as negative will perform quite well by this metric. Between precision and recall, it'd be worth finding out given the business the relative cost of FPs versus FNs. If FPs are costly (for example through discounts and other costly benefits to retain customers), precision is useful, if FNs cost is high (because failing to identify a customer who leaves is high), recall should be main focus. Without more business context its hard to tell, but I'd probably lean to favouring Recall here, and assume FNs are generally more costly than FPs. my model is favouring recall over precision here, which is good."
   ]
  },
  {
   "cell_type": "markdown",
   "metadata": {},
   "source": [
    "*c) List the most important features that correlate to user churn. [3 points]*\n"
   ]
  },
  {
   "cell_type": "code",
   "execution_count": 873,
   "metadata": {},
   "outputs": [
    {
     "name": "stdout",
     "output_type": "stream",
     "text": [
      "                                   feature  coefficient  absolute_coefficient\n",
      "6                     user_timestamp_count    -6.679050              6.679050\n",
      "2                               mean_delta     5.744130              5.744130\n",
      "3                    delta_over1_day_count     4.382935              4.382935\n",
      "9                      liquidity_needs_enc     0.556861              0.556861\n",
      "5                        mean_close_equity    -0.442274              0.442274\n",
      "10                        platform_Android    -0.340624              0.340624\n",
      "7                       risk_tolerance_enc    -0.171413              0.171413\n",
      "8                investment_experience_enc     0.154815              0.154815\n",
      "4                         std_close_equity     0.113536              0.113536\n",
      "14                        time_horizon_enc    -0.075998              0.075998\n",
      "13  stock_instrument_type_first_traded_enc     0.048545              0.048545\n",
      "1                     first_deposit_amount    -0.027430              0.027430\n",
      "0                               time_spent     0.004639              0.004639\n",
      "12                            platform_iOS     0.000584              0.000584\n",
      "11                           platform_both     0.000000              0.000000\n"
     ]
    }
   ],
   "source": [
    "# Get the coefficients\n",
    "coefficients = lgr_clf.coef_[0]\n",
    "feature_importance = pd.DataFrame({\n",
    "    'feature': X_train.columns,\n",
    "    'coefficient': coefficients\n",
    "})\n",
    "\n",
    "feature_importance['absolute_coefficient'] = feature_importance['coefficient'].abs() # Sort by absolute value of coefficients\n",
    "feature_importance = feature_importance.sort_values(by='absolute_coefficient', ascending=False)\n",
    "\n",
    "print(feature_importance)"
   ]
  },
  {
   "cell_type": "markdown",
   "metadata": {},
   "source": [
    "Activity on the platform, as defined by number of timestamps of a user (corresponding to user having >$10 equity) is  the strongest predictor, with those having higher activity counts less likely to churn. Similarly, those with higher average delta (number of days of inactivity between periods of activity) are more likely to churn. "
   ]
  },
  {
   "cell_type": "code",
   "execution_count": 874,
   "metadata": {},
   "outputs": [],
   "source": [
    "# Try XGBoost, lightGBM, CatBoost\n",
    "# Calculate scale_pos_weight for imbalanced dataset for XGBoost model\n",
    "scale_pos_weight = len(y_train[y_train == 0]) / len(y_train[y_train == 1])\n",
    "# define model names for loop\n",
    "models = {'xgboost':XGBClassifier(scale_pos_weight=scale_pos_weight, random_state=42),\n",
    "          'lgbm':LGBMClassifier(class_weight = 'balanced', verbose = -1, random_state = 42),\n",
    "          'catboost': CatBoostClassifier(class_weights =[1,scale_pos_weight], verbose = 0, random_state = 42),\n",
    "          'hgb': HistGradientBoostingClassifier(class_weight = 'balanced', random_state = 42)} \n",
    "\n",
    "results = {}\n",
    "\n",
    "# train models\n",
    "for model_name, model in models.items():\n",
    "    # fit the models\n",
    "    model.fit(X_train, y_train)\n",
    "\n",
    "    # make predictions on training and test data, to check overfitting\n",
    "    y_train_pred = model.predict(X_train)\n",
    "    y_test_pred = model.predict(X_test)\n",
    "    y_train_pred_proba = model.predict_proba(X_train)[:, 1]\n",
    "    y_pred_proba = model.predict_proba(X_test)[:, 1]\n",
    "\n",
    "    # gather eval metrics\n",
    "    train_F1 = f1_score(y_train, y_train_pred)\n",
    "    test_F1 = f1_score(y_test, y_test_pred)\n",
    "    train_recall = recall_score(y_train, y_train_pred)\n",
    "    test_recall = recall_score(y_test, y_test_pred)\n",
    "    train_precision = precision_score(y_train, y_train_pred)\n",
    "    test_precision = precision_score(y_test, y_test_pred)\n",
    "    train_accuracy = accuracy_score(y_train, y_train_pred)\n",
    "    test_accuracy = accuracy_score(y_test, y_test_pred)\n",
    "    roc_auc_train = roc_auc_score(y_train, y_train_pred)\n",
    "    roc_auc_test = roc_auc_score(y_test, y_test_pred)\n",
    "  \n",
    "\n",
    "\n",
    "    #put these eval results into results dictionary\n",
    "    results[model_name] = {'train_F1':train_F1,\n",
    "                           'test_F1':test_F1,\n",
    "                           'train_recall':train_recall,\n",
    "                           'test_recall':test_recall,\n",
    "                           'train_precision':train_precision,\n",
    "                           'test_precision':test_precision,\n",
    "                           'train_accuracy':train_accuracy,\n",
    "                           'test_accuracy':test_accuracy,\n",
    "                           'train_roc_auc':roc_auc_train,\n",
    "                           'test_roc_auc':roc_auc_test}\n",
    "                          \n",
    "    \n",
    "    #convert dict into df to enable visualisation and comparison of the results\n",
    "    eval_results = pd.DataFrame(results).T"
   ]
  },
  {
   "cell_type": "code",
   "execution_count": 875,
   "metadata": {},
   "outputs": [
    {
     "data": {
      "text/html": [
       "<div>\n",
       "<style scoped>\n",
       "    .dataframe tbody tr th:only-of-type {\n",
       "        vertical-align: middle;\n",
       "    }\n",
       "\n",
       "    .dataframe tbody tr th {\n",
       "        vertical-align: top;\n",
       "    }\n",
       "\n",
       "    .dataframe thead th {\n",
       "        text-align: right;\n",
       "    }\n",
       "</style>\n",
       "<table border=\"1\" class=\"dataframe\">\n",
       "  <thead>\n",
       "    <tr style=\"text-align: right;\">\n",
       "      <th></th>\n",
       "      <th>train_F1</th>\n",
       "      <th>test_F1</th>\n",
       "      <th>train_recall</th>\n",
       "      <th>test_recall</th>\n",
       "      <th>train_precision</th>\n",
       "      <th>test_precision</th>\n",
       "      <th>train_accuracy</th>\n",
       "      <th>test_accuracy</th>\n",
       "      <th>train_roc_auc</th>\n",
       "      <th>test_roc_auc</th>\n",
       "    </tr>\n",
       "  </thead>\n",
       "  <tbody>\n",
       "    <tr>\n",
       "      <th>xgboost</th>\n",
       "      <td>1.000000</td>\n",
       "      <td>0.884462</td>\n",
       "      <td>1.0</td>\n",
       "      <td>0.888</td>\n",
       "      <td>1.000000</td>\n",
       "      <td>0.880952</td>\n",
       "      <td>1.000000</td>\n",
       "      <td>0.958453</td>\n",
       "      <td>1.000000</td>\n",
       "      <td>0.930911</td>\n",
       "    </tr>\n",
       "    <tr>\n",
       "      <th>lgbm</th>\n",
       "      <td>0.997340</td>\n",
       "      <td>0.879208</td>\n",
       "      <td>1.0</td>\n",
       "      <td>0.888</td>\n",
       "      <td>0.994695</td>\n",
       "      <td>0.870588</td>\n",
       "      <td>0.999045</td>\n",
       "      <td>0.956304</td>\n",
       "      <td>0.999418</td>\n",
       "      <td>0.929602</td>\n",
       "    </tr>\n",
       "    <tr>\n",
       "      <th>catboost</th>\n",
       "      <td>0.957854</td>\n",
       "      <td>0.885437</td>\n",
       "      <td>1.0</td>\n",
       "      <td>0.912</td>\n",
       "      <td>0.919118</td>\n",
       "      <td>0.860377</td>\n",
       "      <td>0.984241</td>\n",
       "      <td>0.957736</td>\n",
       "      <td>0.990401</td>\n",
       "      <td>0.939857</td>\n",
       "    </tr>\n",
       "    <tr>\n",
       "      <th>hgb</th>\n",
       "      <td>0.996678</td>\n",
       "      <td>0.880952</td>\n",
       "      <td>1.0</td>\n",
       "      <td>0.888</td>\n",
       "      <td>0.993377</td>\n",
       "      <td>0.874016</td>\n",
       "      <td>0.998806</td>\n",
       "      <td>0.957020</td>\n",
       "      <td>0.999273</td>\n",
       "      <td>0.930038</td>\n",
       "    </tr>\n",
       "  </tbody>\n",
       "</table>\n",
       "</div>"
      ],
      "text/plain": [
       "          train_F1   test_F1  train_recall  test_recall  train_precision  \\\n",
       "xgboost   1.000000  0.884462           1.0        0.888         1.000000   \n",
       "lgbm      0.997340  0.879208           1.0        0.888         0.994695   \n",
       "catboost  0.957854  0.885437           1.0        0.912         0.919118   \n",
       "hgb       0.996678  0.880952           1.0        0.888         0.993377   \n",
       "\n",
       "          test_precision  train_accuracy  test_accuracy  train_roc_auc  \\\n",
       "xgboost         0.880952        1.000000       0.958453       1.000000   \n",
       "lgbm            0.870588        0.999045       0.956304       0.999418   \n",
       "catboost        0.860377        0.984241       0.957736       0.990401   \n",
       "hgb             0.874016        0.998806       0.957020       0.999273   \n",
       "\n",
       "          test_roc_auc  \n",
       "xgboost       0.930911  \n",
       "lgbm          0.929602  \n",
       "catboost      0.939857  \n",
       "hgb           0.930038  "
      ]
     },
     "execution_count": 875,
     "metadata": {},
     "output_type": "execute_result"
    }
   ],
   "source": [
    "eval_results"
   ]
  },
  {
   "cell_type": "markdown",
   "metadata": {},
   "source": [
    "XG Boost is perfomring marginally better than the others, shows some signs of overfitting. See if we can finetune the model to improve performance on the test data"
   ]
  },
  {
   "cell_type": "code",
   "execution_count": null,
   "metadata": {},
   "outputs": [
    {
     "name": "stdout",
     "output_type": "stream",
     "text": [
      "Fitting 5 folds for each of 11664 candidates, totalling 58320 fits\n",
      "Best Parameters: {'colsample_bytree': 1.0, 'gamma': 5, 'learning_rate': 0.2, 'max_depth': 10, 'n_estimators': 100, 'reg_alpha': 0, 'reg_lambda': 1, 'subsample': 1.0}\n",
      "Best Cross-Validation Accuracy: 0.869393304721763\n"
     ]
    },
    {
     "name": "stderr",
     "output_type": "stream",
     "text": [
      "c:\\Users\\BalintStewart\\AppData\\Local\\Programs\\Python\\Python312\\Lib\\site-packages\\xgboost\\core.py:158: UserWarning: [17:01:41] WARNING: C:\\buildkite-agent\\builds\\buildkite-windows-cpu-autoscaling-group-i-0015a694724fa8361-1\\xgboost\\xgboost-ci-windows\\src\\learner.cc:740: \n",
      "Parameters: { \"use_label_encoder\" } are not used.\n",
      "\n",
      "  warnings.warn(smsg, UserWarning)\n"
     ]
    }
   ],
   "source": [
    "xgb_model = XGBClassifier(eval_metric='logloss')\n",
    "\n",
    "param_grid = {\n",
    "    'n_estimators': [100, 200, 500],\n",
    "    'max_depth': [3, 5, 10, 15],\n",
    "    'learning_rate': [0.01, 0.1, 0.2, 0.3],\n",
    "    'subsample': [0.5, 0.7, 1.0],\n",
    "    'colsample_bytree': [0.5, 0.7, 1.0],\n",
    "    'gamma': [0, 1, 5],\n",
    "    'reg_alpha': [0, 0.1, 1],\n",
    "    'reg_lambda': [1, 5, 10]\n",
    "}\n",
    "\n",
    "# GridSearch using the param grid above\n",
    "grid_search = GridSearchCV(\n",
    "    estimator=xgb_model,\n",
    "    param_grid=param_grid,\n",
    "    scoring='f1',\n",
    "    cv=5,\n",
    "    verbose=1,\n",
    "    n_jobs=-1\n",
    ")\n",
    "\n",
    "grid_search.fit(X_train, y_train)\n",
    "\n",
    "print(\"Best Parameters:\", grid_search.best_params_)\n",
    "print(\"Best Cross-Validation Accuracy:\", grid_search.best_score_)\n",
    "\n",
    "best_model = grid_search.best_estimator_"
   ]
  },
  {
   "cell_type": "markdown",
   "metadata": {},
   "source": [
    "Best Parameters: {'colsample_bytree': 1.0, 'gamma': 5, 'learning_rate': 0.2, 'max_depth': 10, 'n_estimators': 100, 'reg_alpha': 0, 'reg_lambda': 1, 'subsample': 1.0}"
   ]
  },
  {
   "cell_type": "code",
   "execution_count": 879,
   "metadata": {},
   "outputs": [
    {
     "name": "stdout",
     "output_type": "stream",
     "text": [
      "Train accuracy score: 0.97\n",
      "Test accuracy score: 0.97\n",
      "Train precision score: 0.92\n",
      "Test precision score: 0.93\n",
      "Train recall score: 0.89\n",
      "Test recall score: 0.86\n",
      "Train f1 score: 0.90\n",
      "Test f1 score: 0.90\n",
      "Train ROC_AUC score: 0.94\n",
      "Test ROC_AUC score: 0.92\n"
     ]
    }
   ],
   "source": [
    "# make predictions on output category\n",
    "y_train_pred = best_model.predict(X_train)\n",
    "y_test_pred = best_model.predict(X_test)\n",
    "\n",
    "# make predicted probabilities \n",
    "y_train_pred_proba = best_model.predict_proba(X_train)\n",
    "y_test_pred_proba = best_model.predict_proba(X_test)\n",
    "\n",
    "# evaluate model performance\n",
    "accuracy_train = accuracy_score(y_train, y_train_pred)\n",
    "accuracy_test = accuracy_score(y_train, y_train_pred)\n",
    "precision_train = precision_score(y_train, y_train_pred)\n",
    "precision_test = precision_score(y_test, y_test_pred) \n",
    "recall_train = recall_score(y_train,y_train_pred)\n",
    "recall_test = recall_score(y_test, y_test_pred)\n",
    "f1_train = f1_score(y_train, y_train_pred)\n",
    "f1_test = f1_score(y_test, y_test_pred)\n",
    "roc_auc_train = roc_auc_score(y_train, y_train_pred)\n",
    "roc_auc_test = roc_auc_score(y_test, y_test_pred)\n",
    "\n",
    "#print eval metrics\n",
    "print(f'Train accuracy score: {accuracy_train:.2f}')\n",
    "print(f'Test accuracy score: {accuracy_test:.2f}')\n",
    "\n",
    "\n",
    "print(f'Train precision score: {precision_train:.2f}')\n",
    "print(f'Test precision score: {precision_test:.2f}')\n",
    "\n",
    "print(f'Train recall score: {recall_train:.2f}')\n",
    "print(f'Test recall score: {recall_test:.2f}')\n",
    "\n",
    "print(f'Train f1 score: {f1_train:.2f}')\n",
    "print(f'Test f1 score: {f1_test:.2f}')\n",
    "\n",
    "print(f'Train ROC_AUC score: {roc_auc_train:.2f}')\n",
    "print(f'Test ROC_AUC score: {roc_auc_test:.2f}')"
   ]
  },
  {
   "cell_type": "markdown",
   "metadata": {},
   "source": [
    "Hyperparameter-tuned XGBoost model is performing extremely well!"
   ]
  },
  {
   "cell_type": "code",
   "execution_count": 881,
   "metadata": {},
   "outputs": [
    {
     "data": {
      "text/plain": [
       "<Figure size 1000x800 with 0 Axes>"
      ]
     },
     "metadata": {},
     "output_type": "display_data"
    },
    {
     "data": {
      "image/png": "[encoded data removed]",
      "text/plain": [
       "<Figure size 640x480 with 1 Axes>"
      ]
     },
     "metadata": {},
     "output_type": "display_data"
    }
   ],
   "source": [
    "# Look at feature importance for XGBoost model\n",
    "feature_importances = best_model.feature_importances_\n",
    "\n",
    "plt.figure(figsize=(10, 8))\n",
    "plot_importance(best_model, importance_type='weight', max_num_features=10)\n",
    "plt.show()"
   ]
  },
  {
   "cell_type": "markdown",
   "metadata": {},
   "source": [
    "Similar to logistic regression, activity (number of timestamps total, and delta) are best predictors of churn."
   ]
  }
 ],
 "metadata": {
  "kernelspec": {
   "display_name": "Python 3",
   "language": "python",
   "name": "python3"
  },
  "language_info": {
   "codemirror_mode": {
    "name": "ipython",
    "version": 3
   },
   "file_extension": ".py",
   "mimetype": "text/x-python",
   "name": "python",
   "nbconvert_exporter": "python",
   "pygments_lexer": "ipython3",
   "version": "3.12.4"
  }
 },
 "nbformat": 4,
 "nbformat_minor": 2
}
